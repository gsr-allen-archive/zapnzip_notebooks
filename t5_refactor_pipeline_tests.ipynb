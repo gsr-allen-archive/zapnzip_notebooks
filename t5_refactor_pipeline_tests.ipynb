{
 "cells": [
  {
   "cell_type": "code",
   "execution_count": 1,
   "metadata": {
    "Collapsed": "false"
   },
   "outputs": [],
   "source": [
    "%load_ext autoreload\n",
    "%autoreload 2\n",
    "\n",
    "import numpy as np\n",
    "import pandas as pd\n",
    "import matplotlib.pyplot as plt\n",
    "from matplotlib import cm, patches\n",
    "from scipy import signal\n",
    "\n",
    "from tbd_eeg.data_analysis.eegutils import *\n",
    "from tbd_eeg.data_analysis.Utilities import utilities as utils\n",
    "\n",
    "# %matplotlib widget"
   ]
  },
  {
   "cell_type": "code",
   "execution_count": 2,
   "metadata": {
    "Collapsed": "false"
   },
   "outputs": [],
   "source": [
    "epoch_cms = {\n",
    "    'pre' : cm.Reds,\n",
    "    'iso_high' : cm.PuOr,\n",
    "    'iso_low' : cm.PuOr_r,\n",
    "    'early_recovery': cm.Blues,\n",
    "    'late_recovery' : cm.Greens\n",
    "}"
   ]
  },
  {
   "cell_type": "code",
   "execution_count": 3,
   "metadata": {
    "Collapsed": "false"
   },
   "outputs": [],
   "source": [
    "# # if loading data as numpy arrays, use this cell\n",
    "\n",
    "# data_folder = r\"/allen/programs/braintv/workgroups/nc-ophys/Leslie/eeg_pilot/mouse505550/pilot1_2020-03-02_10-08-51/recording1/\"\n",
    "\n",
    "# # set the sample_rate for all data analysis\n",
    "# sample_rate = 2500\n",
    "\n",
    "# exp = EEGexp(data_folder)\n",
    "\n",
    "# # load data\n",
    "# eegdata, timestamps = exp.load_eegdata(frequency=sample_rate, return_type='np')\n",
    "# running_speed, running_time = exp.load_running(return_type='np')\n",
    "# iso, iso_time = exp.load_analog_iso(return_type='np')"
   ]
  },
  {
   "cell_type": "code",
   "execution_count": 4,
   "metadata": {
    "Collapsed": "false"
   },
   "outputs": [
    {
     "name": "stderr",
     "output_type": "stream",
     "text": [
      "/home/saurabh.gandhi/Projects/.env_zz/lib/python3.7/site-packages/allensdk/brain_observatory/sync_dataset.py:454: H5pyDeprecationWarning: dataset.value has been deprecated. Use dataset[()] instead.\n",
      "  return eval(self.dfile['analog_meta'].value)\n"
     ]
    },
    {
     "name": "stdout",
     "output_type": "stream",
     "text": [
      "Identifying valid channels...\n",
      "The following channels seem to be correctly connected and report valid data:\n",
      "[0, 1, 2, 3, 4, 5, 6, 7, 8, 9, 10, 11, 12, 13, 14, 15, 16, 17, 18, 19, 20, 21, 22, 23, 24, 25, 26, 27, 28, 29]\n",
      "iso on at 672.736\n",
      "iso reduced at 971.504\n",
      "iso off at 1772.992\n",
      "Annotating artifacts...\n"
     ]
    },
    {
     "data": {
      "text/plain": [
       "672.73500                pre\n",
       "672.73700           iso_high\n",
       "971.50300           iso_high\n",
       "971.50500            iso_low\n",
       "1772.99100           iso_low\n",
       "1772.99300    early_recovery\n",
       "2117.20354    early_recovery\n",
       "2117.20554     late_recovery\n",
       "dtype: category\n",
       "Categories (5, object): [pre < iso_high < iso_low < early_recovery < late_recovery]"
      ]
     },
     "execution_count": 4,
     "metadata": {},
     "output_type": "execute_result"
    }
   ],
   "source": [
    "# # the next cell loads data as pandas dataframes, which are easier to work with\n",
    "\n",
    "data_folder = r\"/allen/programs/braintv/workgroups/nc-ophys/Leslie/eeg_pilot/mouse505550/pilot1_2020-03-02_10-08-51/recording1/\"\n",
    "\n",
    "# set the sample_rate for all data analysis\n",
    "sample_rate = 2500\n",
    "\n",
    "# load experiment metadata and eeg data\n",
    "exp = EEGexp(data_folder)\n",
    "\n",
    "eegdata = exp.load_eegdata(frequency=sample_rate, return_type='pd')\n",
    "running_speed = exp.load_running(return_type='pd')\n",
    "iso = exp.load_analog_iso(return_type='pd')\n",
    "\n",
    "######################################################################################################\n",
    "# locate valid channels (some channels can be disconnected and we want to ignore them in the analysis)\n",
    "\n",
    "print('Identifying valid channels...')\n",
    "median_amplitude = eegdata[:sample_rate*300].apply(\n",
    "    utils.median_amplitude, raw=True, axis=0, distance=sample_rate\n",
    ")\n",
    "valid_channels = median_amplitude.index[median_amplitude < 2000].values\n",
    "print('The following channels seem to be correctly connected and report valid data:')\n",
    "print(list(valid_channels))\n",
    "\n",
    "# automatically annotate anesthesia epochs\n",
    "iso_first_on = (iso>4).idxmax()\n",
    "iso_first_mid = ((iso[iso.index>iso_first_on]>1)&(iso[iso.index>iso_first_on]<4)).idxmax()\n",
    "iso_first_off = (iso>1)[::-1].idxmax()\n",
    "\n",
    "print('iso on at', iso_first_on)\n",
    "print('iso reduced at', iso_first_mid)\n",
    "print('iso off at', iso_first_off)\n",
    "\n",
    "# annotate artifacts with power in high frequencies\n",
    "print('Annotating artifacts...')\n",
    "hf_annots = pd.Series(\n",
    "    eegdata[valid_channels].apply(\n",
    "        find_hf_annotations, axis=0,\n",
    "        sample_rate=sample_rate, fmin=300, pmin=0.25\n",
    "    ).mean(axis=1),\n",
    "    name='artifact'\n",
    ")\n",
    "recovery_first_jump = (hf_annots>4)[hf_annots.index>iso_first_off].idxmax()\n",
    "\n",
    "epochs = pd.Series(\n",
    "    index = [iso_first_on-0.001, iso_first_on+0.001, iso_first_mid-0.001,\n",
    "             iso_first_mid+0.001, iso_first_off-0.001, iso_first_off+0.001,\n",
    "             recovery_first_jump-0.001, recovery_first_jump+0.001,],\n",
    "    data=['pre', 'iso_high', 'iso_high', 'iso_low', 'iso_low',\n",
    "          'early_recovery', 'early_recovery', 'late_recovery'],\n",
    "    dtype=pd.CategoricalDtype(\n",
    "        categories=['pre', 'iso_high', 'iso_low', 'early_recovery', 'late_recovery'],\n",
    "        ordered=True\n",
    "    )\n",
    ")\n",
    "\n",
    "print('The following dataframe shows start and end times of anesthesia epochs:')\n",
    "epochs"
   ]
  },
  {
   "cell_type": "code",
   "execution_count": 6,
   "metadata": {
    "Collapsed": "false"
   },
   "outputs": [
    {
     "name": "stdout",
     "output_type": "stream",
     "text": [
      "This series shows times at which data might not be valid:\n"
     ]
    },
    {
     "data": {
      "text/plain": [
       "74.05014      True\n",
       "96.36774      True\n",
       "138.59614     True\n",
       "140.12774     True\n",
       "146.91054     True\n",
       "              ... \n",
       "3052.35574    True\n",
       "3053.01214    True\n",
       "3053.88734    True\n",
       "3054.32494    True\n",
       "3054.76254    True\n",
       "Name: artifact, Length: 589, dtype: bool"
      ]
     },
     "execution_count": 6,
     "metadata": {},
     "output_type": "execute_result"
    }
   ],
   "source": [
    "# get artifact times\n",
    "thresh = 4\n",
    "invalid_times = (hf_annots>thresh)\n",
    "\n",
    "print('This series shows times at which data might not be valid:')\n",
    "invalid_times[invalid_times]"
   ]
  },
  {
   "cell_type": "code",
   "execution_count": 7,
   "metadata": {
    "Collapsed": "false"
   },
   "outputs": [
    {
     "data": {
      "image/png": "[encoded data removed]",
      "text/plain": [
       "<Figure size 864x432 with 3 Axes>"
      ]
     },
     "metadata": {
      "needs_background": "light"
     },
     "output_type": "display_data"
    }
   ],
   "source": [
    "# plot a channel, running speed and iso\n",
    "f, axes = plt.subplots(3, 1, figsize=(12, 6), sharex=True)\n",
    "for ax, data in zip(axes, [eegdata[0], running_speed, iso]):\n",
    "    data.plot(ax=ax)\n",
    "    ax.set_ylabel(data.name)\n",
    "ax.set_xlabel('Time (s)')\n",
    "\n",
    "# show artifact windows\n",
    "# the get_windows function is defined in eegutils.py\n",
    "for win in get_windows(invalid_times, coalesce=3, min_length=0.4):\n",
    "    axes[0].axvspan(win[0], win[1], color=cm.Reds(0.6, 0.1));"
   ]
  },
  {
   "cell_type": "code",
   "execution_count": null,
   "metadata": {
    "Collapsed": "false"
   },
   "outputs": [],
   "source": []
  }
 ],
 "metadata": {
  "kernelspec": {
   "display_name": "zapnzip",
   "language": "python",
   "name": "zapnzip"
  },
  "language_info": {
   "codemirror_mode": {
    "name": "ipython",
    "version": 3
   },
   "file_extension": ".py",
   "mimetype": "text/x-python",
   "name": "python",
   "nbconvert_exporter": "python",
   "pygments_lexer": "ipython3",
   "version": "3.7.4"
  },
  "widgets": {
   "application/vnd.jupyter.widget-state+json": {
    "state": {},
    "version_major": 2,
    "version_minor": 0
   }
  }
 },
 "nbformat": 4,
 "nbformat_minor": 4
}
