{
 "cells": [
  {
   "cell_type": "markdown",
   "metadata": {},
   "source": [
    "In this notebook, we will look at the frequency distribution of power in responses to stimuli in different brain states."
   ]
  },
  {
   "cell_type": "code",
   "execution_count": null,
   "metadata": {
    "execution": {
     "iopub.execute_input": "2020-09-22T21:48:36.565592Z",
     "iopub.status.busy": "2020-09-22T21:48:36.565180Z"
    }
   },
   "outputs": [],
   "source": [
    "%load_ext autoreload\n",
    "%autoreload 2\n",
    "\n",
    "import numpy as np\n",
    "import pandas as pd\n",
    "import matplotlib.pyplot as plt\n",
    "from matplotlib import cm, patches\n",
    "import matplotlib.gridspec as gridspec\n",
    "from scipy import signal\n",
    "import umap\n",
    "import mne\n",
    "from mne.preprocessing import compute_current_source_density\n",
    "from mne.connectivity import spectral_connectivity\n",
    "from mne import EpochsArray\n",
    "\n",
    "from tbd_eeg.data_analysis.eegutils import *\n",
    "from tbd_eeg.data_analysis.Utilities import utilities as utils\n",
    "\n",
    "from ipympl.backend_nbagg import Canvas\n",
    "Canvas.header_visible.default_value = False\n",
    "%matplotlib widget"
   ]
  },
  {
   "cell_type": "code",
   "execution_count": 2,
   "metadata": {
    "execution": {
     "iopub.execute_input": "2020-08-12T02:05:16.032071Z",
     "iopub.status.busy": "2020-08-12T02:05:16.031826Z",
     "iopub.status.idle": "2020-08-12T02:05:16.054409Z",
     "shell.execute_reply": "2020-08-12T02:05:16.053816Z",
     "shell.execute_reply.started": "2020-08-12T02:05:16.032037Z"
    }
   },
   "outputs": [],
   "source": [
    "epoch_cms = {\n",
    "    'pre' : cm.Reds,\n",
    "    'iso_high' : cm.PuOr,\n",
    "    'iso_low' : cm.PuOr_r,\n",
    "    'early_recovery': cm.Blues,\n",
    "    'late_recovery' : cm.Greens\n",
    "}"
   ]
  },
  {
   "cell_type": "code",
   "execution_count": 3,
   "metadata": {
    "execution": {
     "iopub.execute_input": "2020-08-12T02:05:24.922538Z",
     "iopub.status.busy": "2020-08-12T02:05:24.921617Z",
     "iopub.status.idle": "2020-08-12T02:06:03.635831Z",
     "shell.execute_reply": "2020-08-12T02:06:03.635298Z",
     "shell.execute_reply.started": "2020-08-12T02:05:24.922417Z"
    }
   },
   "outputs": [
    {
     "name": "stdout",
     "output_type": "stream",
     "text": [
      "No *stim* files were found. Experiment type: spontaneous.\n",
      "Identifying valid channels...\n",
      "The following channels seem to be correctly connected and report valid data:\n",
      "[0, 1, 3, 4, 5, 6, 7, 8, 9, 10, 11, 12, 13, 14, 15, 16, 17, 18, 19, 20, 21, 22, 23, 24, 25, 26, 27, 28, 29]\n",
      "Loading other data...\n"
     ]
    },
    {
     "name": "stderr",
     "output_type": "stream",
     "text": [
      "/home/saurabh.gandhi/Projects/.env_zz/lib/python3.7/site-packages/allensdk/brain_observatory/sync_dataset.py:454: H5pyDeprecationWarning: dataset.value has been deprecated. Use dataset[()] instead.\n",
      "  return eval(self.dfile['analog_meta'].value)\n"
     ]
    },
    {
     "name": "stdout",
     "output_type": "stream",
     "text": [
      "iso on at 644.11\n",
      "iso reduced at 1190.05\n",
      "iso off at 1867.56\n",
      "Annotating artifacts...\n"
     ]
    }
   ],
   "source": [
    "data_folder = \"../tiny-blue-dot/zap-n-zip/EEG_exp/mouse521886/estim1_2020-07-16_13-37-02/experiment1/recording1/\"\n",
    "\n",
    "# set the sample_rate for all data analysis\n",
    "sample_rate = 2500\n",
    "\n",
    "# load experiment metadata and eeg data\n",
    "exp = EEGexp(data_folder)\n",
    "eegdata = exp.load_eegdata(frequency=sample_rate, return_type='pd')\n",
    "\n",
    "# locate valid channels (some channels can be disconnected and we want to ignore them in the analysis)\n",
    "print('Identifying valid channels...')\n",
    "median_amplitude = eegdata[:sample_rate*300].apply(\n",
    "    utils.median_amplitude, raw=True, axis=0, distance=sample_rate\n",
    ")\n",
    "valid_channels = median_amplitude.index[median_amplitude < 2000].values\n",
    "print('The following channels seem to be correctly connected and report valid data:')\n",
    "print(list(valid_channels))\n",
    "\n",
    "# load other data (running, iso etc)\n",
    "print('Loading other data...')\n",
    "running_speed = exp.load_running(return_type='pd')\n",
    "iso = exp.load_analog_iso(return_type='pd')\n",
    "\n",
    "# automatically annotate anesthesia epochs\n",
    "iso_first_on = (iso>4).idxmax()\n",
    "print('iso on at', iso_first_on)\n",
    "iso_first_mid = ((iso[iso.index>iso_first_on]>1)&(iso[iso.index>iso_first_on]<4)).idxmax()\n",
    "print('iso reduced at', iso_first_mid)\n",
    "iso_first_off = (iso>1)[::-1].idxmax()\n",
    "print('iso off at', iso_first_off)\n",
    "\n",
    "# annotate artifacts with power in high frequencies\n",
    "print('Annotating artifacts...')\n",
    "hf_annots = pd.Series(\n",
    "    eegdata[valid_channels].apply(\n",
    "        find_hf_annotations, axis=0,\n",
    "        sample_rate=sample_rate, fmin=300, pmin=0.25\n",
    "    ).mean(axis=1),\n",
    "    name='artifact'\n",
    ")\n",
    "recovery_first_jump = (hf_annots>4)[hf_annots.index>iso_first_off].idxmax()\n",
    "\n",
    "epochs = pd.Series(\n",
    "    index = [0, iso_first_on-0.001, iso_first_on+0.001, iso_first_mid-0.001,\n",
    "             iso_first_mid+0.001, iso_first_off-0.001, iso_first_off+0.001,\n",
    "             recovery_first_jump-0.001, recovery_first_jump+0.001, eegdata.index[-1]],\n",
    "    data=['pre', 'pre', 'iso_high', 'iso_high', 'iso_low', 'iso_low',\n",
    "          'early_recovery', 'early_recovery', 'late_recovery', 'late_recovery'],\n",
    "    dtype=pd.CategoricalDtype(\n",
    "        categories=['pre', 'iso_high', 'iso_low', 'early_recovery', 'late_recovery'],\n",
    "        ordered=True\n",
    "    )\n",
    ")"
   ]
  },
  {
   "cell_type": "code",
   "execution_count": 20,
   "metadata": {
    "execution": {
     "iopub.execute_input": "2020-07-31T21:52:08.979174Z",
     "iopub.status.busy": "2020-07-31T21:52:08.977827Z",
     "iopub.status.idle": "2020-07-31T21:52:09.038972Z",
     "shell.execute_reply": "2020-07-31T21:52:09.038458Z",
     "shell.execute_reply.started": "2020-07-31T21:52:08.978617Z"
    }
   },
   "outputs": [
    {
     "data": {
      "text/html": [
       "<div>\n",
       "<style scoped>\n",
       "    .dataframe tbody tr th:only-of-type {\n",
       "        vertical-align: middle;\n",
       "    }\n",
       "\n",
       "    .dataframe tbody tr th {\n",
       "        vertical-align: top;\n",
       "    }\n",
       "\n",
       "    .dataframe thead th {\n",
       "        text-align: right;\n",
       "    }\n",
       "</style>\n",
       "<table border=\"1\" class=\"dataframe\">\n",
       "  <thead>\n",
       "    <tr style=\"text-align: right;\">\n",
       "      <th></th>\n",
       "      <th>stim_type</th>\n",
       "      <th>amplitude</th>\n",
       "      <th>duration</th>\n",
       "      <th>onset</th>\n",
       "      <th>offset</th>\n",
       "      <th>sweep</th>\n",
       "    </tr>\n",
       "  </thead>\n",
       "  <tbody>\n",
       "    <tr>\n",
       "      <th>0</th>\n",
       "      <td>biphasic</td>\n",
       "      <td>50</td>\n",
       "      <td>400.0</td>\n",
       "      <td>134.81231</td>\n",
       "      <td>134.81291</td>\n",
       "      <td>0</td>\n",
       "    </tr>\n",
       "    <tr>\n",
       "      <th>1</th>\n",
       "      <td>biphasic</td>\n",
       "      <td>20</td>\n",
       "      <td>400.0</td>\n",
       "      <td>138.40947</td>\n",
       "      <td>138.41007</td>\n",
       "      <td>0</td>\n",
       "    </tr>\n",
       "    <tr>\n",
       "      <th>2</th>\n",
       "      <td>biphasic</td>\n",
       "      <td>50</td>\n",
       "      <td>400.0</td>\n",
       "      <td>142.72804</td>\n",
       "      <td>142.72864</td>\n",
       "      <td>0</td>\n",
       "    </tr>\n",
       "    <tr>\n",
       "      <th>3</th>\n",
       "      <td>biphasic</td>\n",
       "      <td>100</td>\n",
       "      <td>400.0</td>\n",
       "      <td>147.04601</td>\n",
       "      <td>147.04661</td>\n",
       "      <td>0</td>\n",
       "    </tr>\n",
       "    <tr>\n",
       "      <th>4</th>\n",
       "      <td>biphasic</td>\n",
       "      <td>100</td>\n",
       "      <td>400.0</td>\n",
       "      <td>151.26887</td>\n",
       "      <td>151.26948</td>\n",
       "      <td>0</td>\n",
       "    </tr>\n",
       "    <tr>\n",
       "      <th>...</th>\n",
       "      <td>...</td>\n",
       "      <td>...</td>\n",
       "      <td>...</td>\n",
       "      <td>...</td>\n",
       "      <td>...</td>\n",
       "      <td>...</td>\n",
       "    </tr>\n",
       "    <tr>\n",
       "      <th>895</th>\n",
       "      <td>biphasic</td>\n",
       "      <td>20</td>\n",
       "      <td>400.0</td>\n",
       "      <td>4168.44474</td>\n",
       "      <td>4168.44535</td>\n",
       "      <td>2</td>\n",
       "    </tr>\n",
       "    <tr>\n",
       "      <th>896</th>\n",
       "      <td>biphasic</td>\n",
       "      <td>100</td>\n",
       "      <td>400.0</td>\n",
       "      <td>4172.79589</td>\n",
       "      <td>4172.79649</td>\n",
       "      <td>2</td>\n",
       "    </tr>\n",
       "    <tr>\n",
       "      <th>897</th>\n",
       "      <td>biphasic</td>\n",
       "      <td>100</td>\n",
       "      <td>400.0</td>\n",
       "      <td>4176.85687</td>\n",
       "      <td>4176.85748</td>\n",
       "      <td>2</td>\n",
       "    </tr>\n",
       "    <tr>\n",
       "      <th>898</th>\n",
       "      <td>biphasic</td>\n",
       "      <td>100</td>\n",
       "      <td>400.0</td>\n",
       "      <td>4181.28689</td>\n",
       "      <td>4181.28750</td>\n",
       "      <td>2</td>\n",
       "    </tr>\n",
       "    <tr>\n",
       "      <th>899</th>\n",
       "      <td>biphasic</td>\n",
       "      <td>50</td>\n",
       "      <td>400.0</td>\n",
       "      <td>4185.48398</td>\n",
       "      <td>4185.48459</td>\n",
       "      <td>2</td>\n",
       "    </tr>\n",
       "  </tbody>\n",
       "</table>\n",
       "<p>900 rows × 6 columns</p>\n",
       "</div>"
      ],
      "text/plain": [
       "    stim_type  amplitude  duration       onset      offset  sweep\n",
       "0    biphasic         50     400.0   134.81231   134.81291      0\n",
       "1    biphasic         20     400.0   138.40947   138.41007      0\n",
       "2    biphasic         50     400.0   142.72804   142.72864      0\n",
       "3    biphasic        100     400.0   147.04601   147.04661      0\n",
       "4    biphasic        100     400.0   151.26887   151.26948      0\n",
       "..        ...        ...       ...         ...         ...    ...\n",
       "895  biphasic         20     400.0  4168.44474  4168.44535      2\n",
       "896  biphasic        100     400.0  4172.79589  4172.79649      2\n",
       "897  biphasic        100     400.0  4176.85687  4176.85748      2\n",
       "898  biphasic        100     400.0  4181.28689  4181.28750      2\n",
       "899  biphasic         50     400.0  4185.48398  4185.48459      2\n",
       "\n",
       "[900 rows x 6 columns]"
      ]
     },
     "execution_count": 20,
     "metadata": {},
     "output_type": "execute_result"
    }
   ],
   "source": [
    "if exp.experiment_type == 'electrical stimulation':\n",
    "    stimuli = pd.read_csv(exp.stimulus_log_file)\n",
    "else:\n",
    "    stimuli = None\n",
    "stimuli"
   ]
  },
  {
   "cell_type": "code",
   "execution_count": 4,
   "metadata": {
    "execution": {
     "iopub.execute_input": "2020-08-12T02:06:07.284888Z",
     "iopub.status.busy": "2020-08-12T02:06:07.283970Z",
     "iopub.status.idle": "2020-08-12T02:06:09.543293Z",
     "shell.execute_reply": "2020-08-12T02:06:09.542411Z",
     "shell.execute_reply.started": "2020-08-12T02:06:07.284764Z"
    }
   },
   "outputs": [
    {
     "data": {
      "application/vnd.jupyter.widget-view+json": {
       "model_id": "882307cc648d4efbb87653b69283c0ca",
       "version_major": 2,
       "version_minor": 0
      },
      "text/plain": [
       "Canvas(toolbar=Toolbar(toolitems=[('Home', 'Reset original view', 'home', 'home'), ('Back', 'Back to previous …"
      ]
     },
     "metadata": {},
     "output_type": "display_data"
    },
    {
     "ename": "NameError",
     "evalue": "name 'stimuli' is not defined",
     "output_type": "error",
     "traceback": [
      "\u001b[0;31m---------------------------------------------------------------------------\u001b[0m",
      "\u001b[0;31mNameError\u001b[0m                                 Traceback (most recent call last)",
      "\u001b[0;32m<ipython-input-4-a693acf3d28e>\u001b[0m in \u001b[0;36m<module>\u001b[0;34m\u001b[0m\n\u001b[1;32m      5\u001b[0m \u001b[0mhf_annots\u001b[0m\u001b[0;34m.\u001b[0m\u001b[0mplot\u001b[0m\u001b[0;34m(\u001b[0m\u001b[0max\u001b[0m\u001b[0;34m=\u001b[0m\u001b[0max2\u001b[0m\u001b[0;34m,\u001b[0m \u001b[0mc\u001b[0m\u001b[0;34m=\u001b[0m\u001b[0;34m'r'\u001b[0m\u001b[0;34m,\u001b[0m \u001b[0mlw\u001b[0m\u001b[0;34m=\u001b[0m\u001b[0;36m0.5\u001b[0m\u001b[0;34m)\u001b[0m\u001b[0;34m\u001b[0m\u001b[0;34m\u001b[0m\u001b[0m\n\u001b[1;32m      6\u001b[0m \u001b[0max2\u001b[0m\u001b[0;34m.\u001b[0m\u001b[0mset_ylim\u001b[0m\u001b[0;34m(\u001b[0m\u001b[0;34m-\u001b[0m\u001b[0mnp\u001b[0m\u001b[0;34m.\u001b[0m\u001b[0msum\u001b[0m\u001b[0;34m(\u001b[0m\u001b[0max2\u001b[0m\u001b[0;34m.\u001b[0m\u001b[0mget_ylim\u001b[0m\u001b[0;34m(\u001b[0m\u001b[0;34m)\u001b[0m\u001b[0;34m)\u001b[0m\u001b[0;34m/\u001b[0m\u001b[0;36m2\u001b[0m\u001b[0;34m,\u001b[0m \u001b[0max2\u001b[0m\u001b[0;34m.\u001b[0m\u001b[0mget_ylim\u001b[0m\u001b[0;34m(\u001b[0m\u001b[0;34m)\u001b[0m\u001b[0;34m[\u001b[0m\u001b[0;36m1\u001b[0m\u001b[0;34m]\u001b[0m\u001b[0;34m)\u001b[0m\u001b[0;34m\u001b[0m\u001b[0;34m\u001b[0m\u001b[0m\n\u001b[0;32m----> 7\u001b[0;31m \u001b[0;32mfor\u001b[0m \u001b[0msi\u001b[0m \u001b[0;32min\u001b[0m \u001b[0mstimuli\u001b[0m\u001b[0;34m[\u001b[0m\u001b[0mstimuli\u001b[0m\u001b[0;34m.\u001b[0m\u001b[0mamplitude\u001b[0m\u001b[0;34m==\u001b[0m\u001b[0;36m20\u001b[0m\u001b[0;34m]\u001b[0m\u001b[0;34m.\u001b[0m\u001b[0monset\u001b[0m\u001b[0;34m:\u001b[0m\u001b[0;34m\u001b[0m\u001b[0;34m\u001b[0m\u001b[0m\n\u001b[0m\u001b[1;32m      8\u001b[0m     \u001b[0max\u001b[0m\u001b[0;34m.\u001b[0m\u001b[0maxvline\u001b[0m\u001b[0;34m(\u001b[0m\u001b[0msi\u001b[0m\u001b[0;34m,\u001b[0m \u001b[0mc\u001b[0m\u001b[0;34m=\u001b[0m\u001b[0mcm\u001b[0m\u001b[0;34m.\u001b[0m\u001b[0mGreys\u001b[0m\u001b[0;34m(\u001b[0m\u001b[0;36m0.3\u001b[0m\u001b[0;34m,\u001b[0m \u001b[0;36m0.3\u001b[0m\u001b[0;34m)\u001b[0m\u001b[0;34m)\u001b[0m\u001b[0;34m\u001b[0m\u001b[0;34m\u001b[0m\u001b[0m\n\u001b[1;32m      9\u001b[0m \u001b[0;32mfor\u001b[0m \u001b[0msi\u001b[0m \u001b[0;32min\u001b[0m \u001b[0mstimuli\u001b[0m\u001b[0;34m[\u001b[0m\u001b[0mstimuli\u001b[0m\u001b[0;34m.\u001b[0m\u001b[0mamplitude\u001b[0m\u001b[0;34m==\u001b[0m\u001b[0;36m50\u001b[0m\u001b[0;34m]\u001b[0m\u001b[0;34m.\u001b[0m\u001b[0monset\u001b[0m\u001b[0;34m:\u001b[0m\u001b[0;34m\u001b[0m\u001b[0;34m\u001b[0m\u001b[0m\n",
      "\u001b[0;31mNameError\u001b[0m: name 'stimuli' is not defined"
     ]
    }
   ],
   "source": [
    "# validate data and artifact annotation\n",
    "f, ax = plt.subplots(1, 1, figsize=(12, 2), tight_layout=True)\n",
    "eegdata[[13, 4]][::20].plot(ax=ax, alpha=0.7)\n",
    "ax2 = ax.twinx()\n",
    "hf_annots.plot(ax=ax2, c='r', lw=0.5)\n",
    "ax2.set_ylim(-np.sum(ax2.get_ylim())/2, ax2.get_ylim()[1])\n",
    "for si in stimuli[stimuli.amplitude==20].onset:\n",
    "    ax.axvline(si, c=cm.Greys(0.3, 0.3))\n",
    "for si in stimuli[stimuli.amplitude==50].onset:\n",
    "    ax.axvline(si, c=cm.Greys(0.6, 0.3))\n",
    "for si in stimuli[stimuli.amplitude==100].onset:\n",
    "    ax.axvline(si, c=cm.Greys(0.9, 0.3));"
   ]
  },
  {
   "cell_type": "markdown",
   "metadata": {},
   "source": [
    "# preprocessing"
   ]
  },
  {
   "cell_type": "code",
   "execution_count": 5,
   "metadata": {
    "execution": {
     "iopub.execute_input": "2020-08-12T02:06:14.260023Z",
     "iopub.status.busy": "2020-08-12T02:06:14.259715Z",
     "iopub.status.idle": "2020-08-12T02:06:14.879910Z",
     "shell.execute_reply": "2020-08-12T02:06:14.879417Z",
     "shell.execute_reply.started": "2020-08-12T02:06:14.259984Z"
    }
   },
   "outputs": [],
   "source": [
    "egroups = {\n",
    "    'left_front' : [11, 12, 13, 14],\n",
    "    'right_front' : [18, 17, 16, 15],\n",
    "    'left_front_middle' : [9, 10],\n",
    "    'right_front_middle' : [20, 19],\n",
    "    'left_back_middle' : [3, 4, 6, 7],\n",
    "    'right_back_middle' : [26, 25, 23, 22],\n",
    "    'left_back_middle_center' : [5, 8],\n",
    "    'right_back_middle_center' : [24, 21],\n",
    "    'left_back' : [1, 2],\n",
    "    'right_back' : [28, 27],\n",
    "    'left_bottom' : [0],\n",
    "    'right_bottom' : [29],\n",
    "}\n",
    "\n",
    "exp.ch_coordinates['z'] = 0\n",
    "exp.ch_coordinates['group'] = ''\n",
    "exp.ch_coordinates['gid'] = 0\n",
    "exp.ch_coordinates['wgid'] = 0\n",
    "for i, (g, idx) in enumerate(egroups.items()):\n",
    "    exp.ch_coordinates.loc[idx, 'group'] = g\n",
    "    exp.ch_coordinates.loc[idx, 'gid'] = i\n",
    "    exp.ch_coordinates.loc[sorted(idx), 'wgid'] = idx\n",
    "exp.ch_coordinates = exp.ch_coordinates.sort_values(['gid', 'wgid'])\n",
    "exp.ch_coordinates['order'] = 0\n",
    "_left = exp.ch_coordinates.index[exp.ch_coordinates.group.str.contains('left')]\n",
    "exp.ch_coordinates.loc[_left, 'order'] = range(len(_left))\n",
    "_right = exp.ch_coordinates.index[exp.ch_coordinates.group.str.contains('right')]\n",
    "exp.ch_coordinates.loc[_right, 'order'] = len(_left)+np.arange(len(_right))[::-1]\n",
    "exp.ch_coordinates.sort_index(inplace=True)\n",
    "exp.ch_coordinates.drop('wgid', inplace=True, axis=1)"
   ]
  },
  {
   "cell_type": "code",
   "execution_count": 6,
   "metadata": {
    "execution": {
     "iopub.execute_input": "2020-08-12T02:06:15.055289Z",
     "iopub.status.busy": "2020-08-12T02:06:15.054230Z",
     "iopub.status.idle": "2020-08-12T02:06:15.122880Z",
     "shell.execute_reply": "2020-08-12T02:06:15.122306Z",
     "shell.execute_reply.started": "2020-08-12T02:06:15.054924Z"
    }
   },
   "outputs": [],
   "source": [
    "# define a function to quickly plot the electrode map with or without borders\n",
    "def plot_electrode_map(ax, highlight=None, labels=True, cmap=cm.Paired, s=50):\n",
    "    colors = np.array(exp.ch_coordinates.gid.map(lambda x: cmap(x/11, 0.9)))\n",
    "    if highlight in set(exp.ch_coordinates.group):\n",
    "        colors = np.array(exp.ch_coordinates.apply(lambda row: cmap(row.gid/12, 0.9) if row.group==highlight else cm.Greys(0.5,0.5), axis=1))\n",
    "    exp.ch_coordinates.plot(\n",
    "        kind='scatter', x='ML', y='AP', marker='o', ax=ax, legend=False, c=colors, s=s\n",
    "    )\n",
    "    if labels:\n",
    "        for i in exp.ch_coordinates.index:\n",
    "            ax.annotate(exp.ch_coordinates.loc[i, 'order'], exp.ch_coordinates.loc[i, ['AP', 'ML']][::-1]+[0, 0.2], xycoords='data', ha='center')\n",
    "    ax.set_xlim(-5, 5)\n",
    "    ax.set_ylim(-5, 3)\n",
    "    if labels:\n",
    "        ax.set_title('Electrode map')\n",
    "    if not labels:\n",
    "        ax.set_xlabel('')\n",
    "        ax.set_ylabel('')\n",
    "    ax.set_xticks([])\n",
    "    ax.set_yticks([]);\n",
    "\n",
    "# function to show electrode groups along an axis instead of electrode numbers\n",
    "def draw_groups(ax, cmap=cm.Paired):\n",
    "    ax.set_xlim(-0.5, 29.5)\n",
    "    ax.set_ylim(29.5, -0.5)\n",
    "    ax.set_xticks([])\n",
    "    ax.set_yticks([])\n",
    "    nt = 0\n",
    "    def add_patch(df):\n",
    "        nonlocal nt, ax\n",
    "        ax.add_patch(patches.Rectangle(\n",
    "            (nt+0.05-0.5, 30), len(df)-0.05, 1, clip_on=False, color=cmap(df.gid.iloc[0]/12, 0.9), label=df.group.iloc[0]\n",
    "        ))\n",
    "        ax.add_patch(patches.Rectangle(\n",
    "            (-2, nt+0.05-0.5), 1, len(df), clip_on=False, color=cmap(df.gid.iloc[0]/12, 0.9)\n",
    "        ))\n",
    "        nt += len(df)\n",
    "    exp.ch_coordinates.sort_values('order').groupby('gid', sort=False).apply(add_patch)"
   ]
  },
  {
   "cell_type": "code",
   "execution_count": 7,
   "metadata": {
    "execution": {
     "iopub.execute_input": "2020-08-12T02:06:15.560765Z",
     "iopub.status.busy": "2020-08-12T02:06:15.559648Z",
     "iopub.status.idle": "2020-08-12T02:06:15.789642Z",
     "shell.execute_reply": "2020-08-12T02:06:15.789139Z",
     "shell.execute_reply.started": "2020-08-12T02:06:15.560405Z"
    }
   },
   "outputs": [
    {
     "data": {
      "application/vnd.jupyter.widget-view+json": {
       "model_id": "4a3594a5430347ef9d419bab714a6c77",
       "version_major": 2,
       "version_minor": 0
      },
      "text/plain": [
       "Canvas(toolbar=Toolbar(toolitems=[('Home', 'Reset original view', 'home', 'home'), ('Back', 'Back to previous …"
      ]
     },
     "metadata": {},
     "output_type": "display_data"
    }
   ],
   "source": [
    "f, ax = plt.subplots(1, 1, figsize=(4, 4), constrained_layout=False)\n",
    "plot_electrode_map(ax, labels=True, s=50)"
   ]
  },
  {
   "cell_type": "markdown",
   "metadata": {},
   "source": [
    "---"
   ]
  },
  {
   "cell_type": "markdown",
   "metadata": {},
   "source": [
    "# Responses"
   ]
  },
  {
   "cell_type": "code",
   "execution_count": 21,
   "metadata": {
    "execution": {
     "iopub.execute_input": "2020-07-31T21:52:12.370223Z",
     "iopub.status.busy": "2020-07-31T21:52:12.369291Z",
     "iopub.status.idle": "2020-07-31T21:52:12.423119Z",
     "shell.execute_reply": "2020-07-31T21:52:12.422479Z",
     "shell.execute_reply.started": "2020-07-31T21:52:12.370098Z"
    }
   },
   "outputs": [
    {
     "data": {
      "text/html": [
       "<div>\n",
       "<style scoped>\n",
       "    .dataframe tbody tr th:only-of-type {\n",
       "        vertical-align: middle;\n",
       "    }\n",
       "\n",
       "    .dataframe tbody tr th {\n",
       "        vertical-align: top;\n",
       "    }\n",
       "\n",
       "    .dataframe thead th {\n",
       "        text-align: right;\n",
       "    }\n",
       "</style>\n",
       "<table border=\"1\" class=\"dataframe\">\n",
       "  <thead>\n",
       "    <tr style=\"text-align: right;\">\n",
       "      <th></th>\n",
       "      <th>stim_type</th>\n",
       "      <th>amplitude</th>\n",
       "      <th>duration</th>\n",
       "      <th>offset</th>\n",
       "      <th>sweep</th>\n",
       "      <th>state</th>\n",
       "    </tr>\n",
       "    <tr>\n",
       "      <th>onset</th>\n",
       "      <th></th>\n",
       "      <th></th>\n",
       "      <th></th>\n",
       "      <th></th>\n",
       "      <th></th>\n",
       "      <th></th>\n",
       "    </tr>\n",
       "  </thead>\n",
       "  <tbody>\n",
       "    <tr>\n",
       "      <th>134.81231</th>\n",
       "      <td>biphasic</td>\n",
       "      <td>50</td>\n",
       "      <td>400.0</td>\n",
       "      <td>134.81291</td>\n",
       "      <td>0</td>\n",
       "      <td>awake</td>\n",
       "    </tr>\n",
       "    <tr>\n",
       "      <th>138.40947</th>\n",
       "      <td>biphasic</td>\n",
       "      <td>20</td>\n",
       "      <td>400.0</td>\n",
       "      <td>138.41007</td>\n",
       "      <td>0</td>\n",
       "      <td>awake</td>\n",
       "    </tr>\n",
       "    <tr>\n",
       "      <th>142.72804</th>\n",
       "      <td>biphasic</td>\n",
       "      <td>50</td>\n",
       "      <td>400.0</td>\n",
       "      <td>142.72864</td>\n",
       "      <td>0</td>\n",
       "      <td>awake</td>\n",
       "    </tr>\n",
       "    <tr>\n",
       "      <th>147.04601</th>\n",
       "      <td>biphasic</td>\n",
       "      <td>100</td>\n",
       "      <td>400.0</td>\n",
       "      <td>147.04661</td>\n",
       "      <td>0</td>\n",
       "      <td>awake</td>\n",
       "    </tr>\n",
       "    <tr>\n",
       "      <th>151.26887</th>\n",
       "      <td>biphasic</td>\n",
       "      <td>100</td>\n",
       "      <td>400.0</td>\n",
       "      <td>151.26948</td>\n",
       "      <td>0</td>\n",
       "      <td>awake</td>\n",
       "    </tr>\n",
       "    <tr>\n",
       "      <th>...</th>\n",
       "      <td>...</td>\n",
       "      <td>...</td>\n",
       "      <td>...</td>\n",
       "      <td>...</td>\n",
       "      <td>...</td>\n",
       "      <td>...</td>\n",
       "    </tr>\n",
       "    <tr>\n",
       "      <th>4168.44474</th>\n",
       "      <td>biphasic</td>\n",
       "      <td>20</td>\n",
       "      <td>400.0</td>\n",
       "      <td>4168.44535</td>\n",
       "      <td>2</td>\n",
       "      <td>recovery</td>\n",
       "    </tr>\n",
       "    <tr>\n",
       "      <th>4172.79589</th>\n",
       "      <td>biphasic</td>\n",
       "      <td>100</td>\n",
       "      <td>400.0</td>\n",
       "      <td>4172.79649</td>\n",
       "      <td>2</td>\n",
       "      <td>recovery</td>\n",
       "    </tr>\n",
       "    <tr>\n",
       "      <th>4176.85687</th>\n",
       "      <td>biphasic</td>\n",
       "      <td>100</td>\n",
       "      <td>400.0</td>\n",
       "      <td>4176.85748</td>\n",
       "      <td>2</td>\n",
       "      <td>recovery</td>\n",
       "    </tr>\n",
       "    <tr>\n",
       "      <th>4181.28689</th>\n",
       "      <td>biphasic</td>\n",
       "      <td>100</td>\n",
       "      <td>400.0</td>\n",
       "      <td>4181.28750</td>\n",
       "      <td>2</td>\n",
       "      <td>recovery</td>\n",
       "    </tr>\n",
       "    <tr>\n",
       "      <th>4185.48398</th>\n",
       "      <td>biphasic</td>\n",
       "      <td>50</td>\n",
       "      <td>400.0</td>\n",
       "      <td>4185.48459</td>\n",
       "      <td>2</td>\n",
       "      <td>recovery</td>\n",
       "    </tr>\n",
       "  </tbody>\n",
       "</table>\n",
       "<p>900 rows × 6 columns</p>\n",
       "</div>"
      ],
      "text/plain": [
       "           stim_type  amplitude  duration      offset  sweep     state\n",
       "onset                                                                 \n",
       "134.81231   biphasic         50     400.0   134.81291      0     awake\n",
       "138.40947   biphasic         20     400.0   138.41007      0     awake\n",
       "142.72804   biphasic         50     400.0   142.72864      0     awake\n",
       "147.04601   biphasic        100     400.0   147.04661      0     awake\n",
       "151.26887   biphasic        100     400.0   151.26948      0     awake\n",
       "...              ...        ...       ...         ...    ...       ...\n",
       "4168.44474  biphasic         20     400.0  4168.44535      2  recovery\n",
       "4172.79589  biphasic        100     400.0  4172.79649      2  recovery\n",
       "4176.85687  biphasic        100     400.0  4176.85748      2  recovery\n",
       "4181.28689  biphasic        100     400.0  4181.28750      2  recovery\n",
       "4185.48398  biphasic         50     400.0  4185.48459      2  recovery\n",
       "\n",
       "[900 rows x 6 columns]"
      ]
     },
     "execution_count": 21,
     "metadata": {},
     "output_type": "execute_result"
    }
   ],
   "source": [
    "stimuli['state'] = ''\n",
    "stimuli.set_index('onset', inplace=True)\n",
    "stimuli.loc[:iso_first_on, 'state'] = 'awake'\n",
    "stimuli.loc[iso_first_on:iso_first_mid, 'state'] = 'induction'\n",
    "stimuli.loc[iso_first_mid:iso_first_off, 'state'] = 'anesthetized'\n",
    "stimuli.loc[iso_first_off:, 'state'] = 'recovery'\n",
    "stimuli"
   ]
  },
  {
   "cell_type": "code",
   "execution_count": null,
   "metadata": {},
   "outputs": [],
   "source": []
  },
  {
   "cell_type": "code",
   "execution_count": null,
   "metadata": {},
   "outputs": [],
   "source": []
  }
 ],
 "metadata": {
  "kernelspec": {
   "display_name": "zapnzip",
   "language": "python",
   "name": "zapnzip"
  },
  "language_info": {
   "codemirror_mode": {
    "name": "ipython",
    "version": 3
   },
   "file_extension": ".py",
   "mimetype": "text/x-python",
   "name": "python",
   "nbconvert_exporter": "python",
   "pygments_lexer": "ipython3",
   "version": "3.7.4"
  },
  "widgets": {
   "application/vnd.jupyter.widget-state+json": {
    "state": {},
    "version_major": 2,
    "version_minor": 0
   }
  }
 },
 "nbformat": 4,
 "nbformat_minor": 4
}
