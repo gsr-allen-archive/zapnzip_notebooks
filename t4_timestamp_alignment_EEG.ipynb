{
 "cells": [
  {
   "cell_type": "markdown",
   "metadata": {
    "Collapsed": "false"
   },
   "source": [
    "Works with `d05199b`"
   ]
  },
  {
   "cell_type": "code",
   "execution_count": 1,
   "metadata": {
    "Collapsed": "false"
   },
   "outputs": [],
   "source": [
    "import numpy as np\n",
    "import scipy.stats as st\n",
    "import matplotlib.pyplot as plt\n",
    "import os\n",
    "from glob import glob"
   ]
  },
  {
   "cell_type": "code",
   "execution_count": 2,
   "metadata": {
    "Collapsed": "false"
   },
   "outputs": [],
   "source": [
    "from allensdk.brain_observatory.sync_dataset import Dataset\n",
    "from allensdk.brain_observatory.ecephys.align_timestamps.barcode_sync_dataset import BarcodeSyncDataset\n",
    "from allensdk.brain_observatory.ecephys.align_timestamps.channel_states import extract_barcodes_from_states, extract_splits_from_states\n",
    "from allensdk.brain_observatory.ecephys.align_timestamps.barcode import match_barcodes"
   ]
  },
  {
   "cell_type": "code",
   "execution_count": 3,
   "metadata": {
    "Collapsed": "false"
   },
   "outputs": [],
   "source": [
    "from tbd_eeg.data_analysis.eegutils import EEGexp"
   ]
  },
  {
   "cell_type": "code",
   "execution_count": 4,
   "metadata": {
    "Collapsed": "false"
   },
   "outputs": [],
   "source": [
    "%matplotlib widget"
   ]
  },
  {
   "cell_type": "markdown",
   "metadata": {
    "Collapsed": "false"
   },
   "source": [
    "### Load experiment"
   ]
  },
  {
   "cell_type": "code",
   "execution_count": 26,
   "metadata": {
    "Collapsed": "false"
   },
   "outputs": [],
   "source": [
    "data_folder = r\"/allen/programs/braintv/workgroups/nc-ophys/Leslie/eeg_pilot/mouse496220/pilot1_2020.01.10/recording1/\"\n",
    "pilotexp = EEGexp(data_folder)"
   ]
  },
  {
   "cell_type": "code",
   "execution_count": 27,
   "metadata": {
    "Collapsed": "false"
   },
   "outputs": [
    {
     "name": "stdout",
     "output_type": "stream",
     "text": [
      "Loading /allen/programs/braintv/workgroups/nc-ophys/Leslie/eeg_pilot/mouse496220/pilot1_2020.01.10/recording1/continuous/Rhythm_FPGA-111.0/continuous.dat\n",
      "(6987264, 32)\n"
     ]
    }
   ],
   "source": [
    "# memmap raw data to get size\n",
    "datamm = pilotexp.memmap_EEGdata()\n",
    "samp_rate = pilotexp.sample_rate\n",
    "print(datamm.shape)"
   ]
  },
  {
   "cell_type": "markdown",
   "metadata": {
    "Collapsed": "false"
   },
   "source": [
    "#### Get barcodes from sync file"
   ]
  },
  {
   "cell_type": "code",
   "execution_count": 28,
   "metadata": {
    "Collapsed": "false"
   },
   "outputs": [
    {
     "name": "stdout",
     "output_type": "stream",
     "text": [
      "/allen/programs/braintv/workgroups/nc-ophys/Leslie/eeg_pilot/mouse496220/pilot1_2020.01.10/recording1/mouse496220_200110_154654.sync\n"
     ]
    }
   ],
   "source": [
    "print(pilotexp.sync_file)"
   ]
  },
  {
   "cell_type": "code",
   "execution_count": 29,
   "metadata": {
    "Collapsed": "false"
   },
   "outputs": [],
   "source": [
    "# extract sync data\n",
    "sync_dataset = BarcodeSyncDataset.factory(pilotexp.sync_file)\n",
    "sync_times, sync_codes = sync_dataset.extract_barcodes()"
   ]
  },
  {
   "cell_type": "code",
   "execution_count": 30,
   "metadata": {
    "Collapsed": "false"
   },
   "outputs": [
    {
     "name": "stdout",
     "output_type": "stream",
     "text": [
      "Sync times:\n",
      "[ 32.01896  62.95234  93.88577 124.81918 155.75258]\n",
      "(92,)\n",
      "Sync barcodes:\n",
      "[728806759.0, 176515105.0, 943159851.0, 214275341.0, 142382483.0]\n",
      "(92,)\n"
     ]
    }
   ],
   "source": [
    "print('Sync times:')\n",
    "print(sync_times[0:5])\n",
    "print(np.shape(sync_times))\n",
    "print('Sync barcodes:')\n",
    "print(sync_codes[0:5])\n",
    "print(np.shape(sync_codes))"
   ]
  },
  {
   "cell_type": "markdown",
   "metadata": {
    "Collapsed": "false"
   },
   "source": [
    "#### Get barcodes from EEG data stream"
   ]
  },
  {
   "cell_type": "code",
   "execution_count": 31,
   "metadata": {
    "Collapsed": "false"
   },
   "outputs": [],
   "source": [
    "channel_states = np.load(os.path.join(pilotexp.data_folder, 'events', 'Rhythm_FPGA-111.0', 'TTL_1', 'channel_states.npy'))\n",
    "timestamps = np.load(os.path.join(pilotexp.data_folder, 'events', 'Rhythm_FPGA-111.0', 'TTL_1', 'timestamps.npy'))"
   ]
  },
  {
   "cell_type": "code",
   "execution_count": 32,
   "metadata": {
    "Collapsed": "false"
   },
   "outputs": [
    {
     "name": "stdout",
     "output_type": "stream",
     "text": [
      "[1882076 1882126 1882176 1882466 1882539]\n"
     ]
    }
   ],
   "source": [
    "print(timestamps[0:5])"
   ]
  },
  {
   "cell_type": "markdown",
   "metadata": {
    "Collapsed": "false"
   },
   "source": [
    "##### Right now, the channel_states file reads -8, +8, -8...due to the barcodes being read in on digital line 8. Going to try dividing to make it 1s, because that is what the barcodes functions look for."
   ]
  },
  {
   "cell_type": "code",
   "execution_count": 33,
   "metadata": {
    "Collapsed": "false"
   },
   "outputs": [],
   "source": [
    "channel_states = channel_states // 8"
   ]
  },
  {
   "cell_type": "code",
   "execution_count": 34,
   "metadata": {
    "Collapsed": "false"
   },
   "outputs": [],
   "source": [
    "eeg_barcode_times, eeg_barcodes = extract_barcodes_from_states(channel_states, timestamps, samp_rate)\n",
    "eeg_split_times = extract_splits_from_states(channel_states, timestamps, samp_rate)"
   ]
  },
  {
   "cell_type": "code",
   "execution_count": 35,
   "metadata": {
    "Collapsed": "false"
   },
   "outputs": [
    {
     "name": "stdout",
     "output_type": "stream",
     "text": [
      "EEG barcode times:\n",
      "[783.7644 814.698  845.632  876.5656 907.4996]\n",
      "(89,)\n",
      "EEG_barcodes:\n",
      "[943159851.0, 214275341.0, 142382483.0, 459255029.0, 821289793.0]\n",
      "(89,)\n",
      "[0]\n"
     ]
    }
   ],
   "source": [
    "print('EEG barcode times:')\n",
    "print(eeg_barcode_times[0:5])\n",
    "print(np.shape(eeg_barcode_times))\n",
    "print('EEG_barcodes:')\n",
    "print(eeg_barcodes[0:5])\n",
    "print(np.shape(eeg_barcodes))\n",
    "print(eeg_split_times)"
   ]
  },
  {
   "cell_type": "raw",
   "metadata": {
    "Collapsed": "false"
   },
   "source": [
    "# encountered a situation where the probe picked up a partial barcode before ending acquisition\n",
    "# try removing barcodes smaller than 1000??\n",
    "rogueinds = np.where(np.array(probe_barcodes) < 1000)[0]\n",
    "probe_barcodes = [x for x in probe_barcodes if x > 1000]\n",
    "probe_barcode_times = np.delete(probe_barcode_times, rogueinds)"
   ]
  },
  {
   "cell_type": "code",
   "execution_count": 36,
   "metadata": {
    "Collapsed": "false"
   },
   "outputs": [
    {
     "name": "stdout",
     "output_type": "stream",
     "text": [
      "Split 0: begin 0.000000 , end inf\n"
     ]
    }
   ],
   "source": [
    "for idx, split_time in enumerate(eeg_split_times):\n",
    "    min_time = eeg_split_times[idx]\n",
    "\n",
    "    if idx == (len(eeg_split_times) - 1):\n",
    "        max_time = np.Inf\n",
    "    else:\n",
    "        max_time = eeg_split_times[idx+1]\n",
    "    print('Split %d: begin %f , end %f' % (idx, min_time, max_time))"
   ]
  },
  {
   "cell_type": "markdown",
   "metadata": {
    "Collapsed": "false"
   },
   "source": [
    "#### Need to take the timestamps from every barcode and find difference between each one. Is this diff constant for both?"
   ]
  },
  {
   "cell_type": "code",
   "execution_count": 18,
   "metadata": {
    "Collapsed": "false"
   },
   "outputs": [
    {
     "data": {
      "application/vnd.jupyter.widget-view+json": {
       "model_id": "b4c026491c2a4513a342d8ed9c283be4",
       "version_major": 2,
       "version_minor": 0
      },
      "text/plain": [
       "Canvas(toolbar=Toolbar(toolitems=[('Home', 'Reset original view', 'home', 'home'), ('Back', 'Back to previous …"
      ]
     },
     "metadata": {},
     "output_type": "display_data"
    },
    {
     "ename": "ValueError",
     "evalue": "operands could not be broadcast together with shapes (87,) (89,) ",
     "output_type": "error",
     "traceback": [
      "\u001b[0;31m---------------------------------------------------------------------------\u001b[0m",
      "\u001b[0;31mValueError\u001b[0m                                Traceback (most recent call last)",
      "\u001b[0;32m<ipython-input-18-1a15a647ceb9>\u001b[0m in \u001b[0;36m<module>\u001b[0;34m\u001b[0m\n\u001b[1;32m     16\u001b[0m \u001b[0;34m\u001b[0m\u001b[0m\n\u001b[1;32m     17\u001b[0m     \u001b[0max\u001b[0m\u001b[0;34m=\u001b[0m\u001b[0mplt\u001b[0m\u001b[0;34m.\u001b[0m\u001b[0msubplot\u001b[0m\u001b[0;34m(\u001b[0m\u001b[0;36m1\u001b[0m\u001b[0;34m,\u001b[0m \u001b[0msubfignum\u001b[0m\u001b[0;34m,\u001b[0m \u001b[0midx\u001b[0m\u001b[0;34m+\u001b[0m\u001b[0;36m1\u001b[0m\u001b[0;34m)\u001b[0m\u001b[0;34m\u001b[0m\u001b[0;34m\u001b[0m\u001b[0m\n\u001b[0;32m---> 18\u001b[0;31m     \u001b[0max\u001b[0m\u001b[0;34m.\u001b[0m\u001b[0mplot\u001b[0m\u001b[0;34m(\u001b[0m\u001b[0moverlapping_eeg_times\u001b[0m\u001b[0;34m,\u001b[0m \u001b[0moverlapping_sync_times\u001b[0m \u001b[0;34m-\u001b[0m \u001b[0moverlapping_eeg_times\u001b[0m\u001b[0;34m,\u001b[0m \u001b[0;34m'.'\u001b[0m\u001b[0;34m)\u001b[0m\u001b[0;34m\u001b[0m\u001b[0;34m\u001b[0m\u001b[0m\n\u001b[0m\u001b[1;32m     19\u001b[0m     \u001b[0max\u001b[0m\u001b[0;34m.\u001b[0m\u001b[0mset_title\u001b[0m\u001b[0;34m(\u001b[0m\u001b[0;34m'Split #%d'\u001b[0m \u001b[0;34m%\u001b[0m \u001b[0;34m(\u001b[0m\u001b[0midx\u001b[0m\u001b[0;34m+\u001b[0m\u001b[0;36m1\u001b[0m\u001b[0;34m)\u001b[0m\u001b[0;34m)\u001b[0m\u001b[0;34m\u001b[0m\u001b[0;34m\u001b[0m\u001b[0m\n\u001b[1;32m     20\u001b[0m \u001b[0;34m\u001b[0m\u001b[0m\n",
      "\u001b[0;31mValueError\u001b[0m: operands could not be broadcast together with shapes (87,) (89,) "
     ]
    }
   ],
   "source": [
    "fig=plt.figure(figsize=(6,4))\n",
    "subfignum = len(eeg_split_times)\n",
    "for idx, split_time in enumerate(eeg_split_times):\n",
    "    min_time = eeg_split_times[idx]\n",
    "\n",
    "    if idx == (len(eeg_split_times) - 1):\n",
    "        max_time = np.Inf\n",
    "    else:\n",
    "        max_time = eeg_split_times[idx+1]\n",
    "        \n",
    "    split_barcodes = np.array(eeg_barcodes)[np.where((eeg_barcode_times > min_time) * (eeg_barcode_times < max_time))[0]]\n",
    "    syncinds = np.isin(sync_codes, split_barcodes)\n",
    "    eeginds = np.isin(eeg_barcodes, split_barcodes)\n",
    "    overlapping_sync_times = sync_times[syncinds]\n",
    "    overlapping_eeg_times = eeg_barcode_times[eeginds]\n",
    "    \n",
    "    ax=plt.subplot(1, subfignum, idx+1)\n",
    "    ax.plot(overlapping_eeg_times, overlapping_sync_times - overlapping_eeg_times, '.')\n",
    "    ax.set_title('Split #%d' % (idx+1))\n",
    "\n",
    "fig.tight_layout()"
   ]
  },
  {
   "cell_type": "markdown",
   "metadata": {
    "Collapsed": "false"
   },
   "source": [
    "### Need to align timestamps between each barcode."
   ]
  },
  {
   "cell_type": "code",
   "execution_count": 22,
   "metadata": {
    "Collapsed": "false"
   },
   "outputs": [
    {
     "name": "stdout",
     "output_type": "stream",
     "text": [
      "(6987264,)\n"
     ]
    }
   ],
   "source": [
    "origTS = np.load(os.path.join(pilotexp.data_folder, 'continuous', 'Rhythm_FPGA-111.0', 'timestamps.npy'))\n",
    "print(origTS.shape)"
   ]
  },
  {
   "cell_type": "code",
   "execution_count": 23,
   "metadata": {
    "Collapsed": "false"
   },
   "outputs": [
    {
     "name": "stdout",
     "output_type": "stream",
     "text": [
      "8818175\n",
      "[1830912 1830913 1830914 1830915 1830916]\n"
     ]
    }
   ],
   "source": [
    "print(origTS[-1])\n",
    "print(origTS[0:5])"
   ]
  },
  {
   "cell_type": "markdown",
   "metadata": {
    "Collapsed": "false"
   },
   "source": [
    "##### Note: EEG timestamps do not begin at 0; they begin when the recording was started relative to starting OpenEphys."
   ]
  },
  {
   "cell_type": "markdown",
   "metadata": {
    "Collapsed": "false"
   },
   "source": [
    "### Need to loop through the eeg_split_times to align each section separately.\n",
    "##### There shouldn't be any split times for the EEG recordings, but maybe safest to keep this in."
   ]
  },
  {
   "cell_type": "code",
   "execution_count": 24,
   "metadata": {
    "Collapsed": "false"
   },
   "outputs": [
    {
     "ename": "ValueError",
     "evalue": "fp and xp are not of the same length.",
     "output_type": "error",
     "traceback": [
      "\u001b[0;31m---------------------------------------------------------------------------\u001b[0m",
      "\u001b[0;31mValueError\u001b[0m                                Traceback (most recent call last)",
      "\u001b[0;32m<ipython-input-24-6575e4dcdbab>\u001b[0m in \u001b[0;36m<module>\u001b[0;34m\u001b[0m\n\u001b[1;32m     27\u001b[0m     \u001b[0mbarcode_inds\u001b[0m \u001b[0;34m=\u001b[0m \u001b[0;34m(\u001b[0m\u001b[0moverlapping_eeg_times\u001b[0m\u001b[0;34m*\u001b[0m\u001b[0msamp_rate\u001b[0m\u001b[0;34m)\u001b[0m\u001b[0;34m.\u001b[0m\u001b[0mastype\u001b[0m\u001b[0;34m(\u001b[0m\u001b[0;34m'int64'\u001b[0m\u001b[0;34m)\u001b[0m\u001b[0;34m\u001b[0m\u001b[0;34m\u001b[0m\u001b[0m\n\u001b[1;32m     28\u001b[0m     \u001b[0mxts\u001b[0m \u001b[0;34m=\u001b[0m \u001b[0mnp\u001b[0m\u001b[0;34m.\u001b[0m\u001b[0marange\u001b[0m\u001b[0;34m(\u001b[0m\u001b[0mbarcode_inds\u001b[0m\u001b[0;34m[\u001b[0m\u001b[0;36m0\u001b[0m\u001b[0;34m]\u001b[0m\u001b[0;34m,\u001b[0m \u001b[0mbarcode_inds\u001b[0m\u001b[0;34m[\u001b[0m\u001b[0;34m-\u001b[0m\u001b[0;36m1\u001b[0m\u001b[0;34m]\u001b[0m\u001b[0;34m+\u001b[0m\u001b[0;36m1\u001b[0m\u001b[0;34m,\u001b[0m \u001b[0;36m1\u001b[0m\u001b[0;34m)\u001b[0m\u001b[0;34m\u001b[0m\u001b[0;34m\u001b[0m\u001b[0m\n\u001b[0;32m---> 29\u001b[0;31m     \u001b[0mmidts\u001b[0m \u001b[0;34m=\u001b[0m \u001b[0mnp\u001b[0m\u001b[0;34m.\u001b[0m\u001b[0minterp\u001b[0m\u001b[0;34m(\u001b[0m\u001b[0mxts\u001b[0m\u001b[0;34m,\u001b[0m \u001b[0mbarcode_inds\u001b[0m\u001b[0;34m,\u001b[0m \u001b[0moverlapping_sync_times\u001b[0m\u001b[0;34m)\u001b[0m\u001b[0;34m\u001b[0m\u001b[0;34m\u001b[0m\u001b[0m\n\u001b[0m\u001b[1;32m     30\u001b[0m \u001b[0;34m\u001b[0m\u001b[0m\n\u001b[1;32m     31\u001b[0m     \u001b[0;31m# fit a line to first/last 10 barcodes; this will error if # barcodes in split is less than 10\u001b[0m\u001b[0;34m\u001b[0m\u001b[0;34m\u001b[0m\u001b[0;34m\u001b[0m\u001b[0m\n",
      "\u001b[0;32m<__array_function__ internals>\u001b[0m in \u001b[0;36minterp\u001b[0;34m(*args, **kwargs)\u001b[0m\n",
      "\u001b[0;32m~/Projects/.env_zz/lib/python3.7/site-packages/numpy/lib/function_base.py\u001b[0m in \u001b[0;36minterp\u001b[0;34m(x, xp, fp, left, right, period)\u001b[0m\n\u001b[1;32m   1410\u001b[0m         \u001b[0mfp\u001b[0m \u001b[0;34m=\u001b[0m \u001b[0mnp\u001b[0m\u001b[0;34m.\u001b[0m\u001b[0mconcatenate\u001b[0m\u001b[0;34m(\u001b[0m\u001b[0;34m(\u001b[0m\u001b[0mfp\u001b[0m\u001b[0;34m[\u001b[0m\u001b[0;34m-\u001b[0m\u001b[0;36m1\u001b[0m\u001b[0;34m:\u001b[0m\u001b[0;34m]\u001b[0m\u001b[0;34m,\u001b[0m \u001b[0mfp\u001b[0m\u001b[0;34m,\u001b[0m \u001b[0mfp\u001b[0m\u001b[0;34m[\u001b[0m\u001b[0;36m0\u001b[0m\u001b[0;34m:\u001b[0m\u001b[0;36m1\u001b[0m\u001b[0;34m]\u001b[0m\u001b[0;34m)\u001b[0m\u001b[0;34m)\u001b[0m\u001b[0;34m\u001b[0m\u001b[0;34m\u001b[0m\u001b[0m\n\u001b[1;32m   1411\u001b[0m \u001b[0;34m\u001b[0m\u001b[0m\n\u001b[0;32m-> 1412\u001b[0;31m     \u001b[0;32mreturn\u001b[0m \u001b[0minterp_func\u001b[0m\u001b[0;34m(\u001b[0m\u001b[0mx\u001b[0m\u001b[0;34m,\u001b[0m \u001b[0mxp\u001b[0m\u001b[0;34m,\u001b[0m \u001b[0mfp\u001b[0m\u001b[0;34m,\u001b[0m \u001b[0mleft\u001b[0m\u001b[0;34m,\u001b[0m \u001b[0mright\u001b[0m\u001b[0;34m)\u001b[0m\u001b[0;34m\u001b[0m\u001b[0;34m\u001b[0m\u001b[0m\n\u001b[0m\u001b[1;32m   1413\u001b[0m \u001b[0;34m\u001b[0m\u001b[0m\n\u001b[1;32m   1414\u001b[0m \u001b[0;34m\u001b[0m\u001b[0m\n",
      "\u001b[0;31mValueError\u001b[0m: fp and xp are not of the same length."
     ]
    }
   ],
   "source": [
    "### Made necessary changes to accommodate this difference (from Npx recs), need to double-\n",
    "### check that it still works if there is a split recording******\n",
    "\n",
    "aligned_timestamps = []\n",
    "for idx, split_time in enumerate(eeg_split_times):\n",
    "    if idx == 0: # in case the EEG timestamps do not begin at 0\n",
    "        min_sample = origTS[idx]\n",
    "        min_time = min_sample/samp_rate\n",
    "    else:\n",
    "        min_time = eeg_split_times[idx]\n",
    "        min_sample = int(min_time*samp_rate)\n",
    "\n",
    "    if idx == (len(eeg_split_times) - 1):\n",
    "        max_sample = origTS[-1] # in case the EEG timestamps do not begin at 0\n",
    "        max_time = max_sample/samp_rate\n",
    "    else:\n",
    "        max_time = eeg_split_times[idx+1]\n",
    "        max_sample = int(max_time*samp_rate)\n",
    "        \n",
    "    # this finds the barcodes from this split that are common to the sync_ and eeg_barcodes\n",
    "    split_barcodes = np.array(eeg_barcodes)[np.where((eeg_barcode_times > min_time) * (eeg_barcode_times < max_time))[0]]\n",
    "    syncinds = np.isin(sync_codes, split_barcodes)\n",
    "    eeginds = np.isin(eeg_barcodes, split_barcodes)\n",
    "    overlapping_sync_times = sync_times[syncinds]\n",
    "    overlapping_eeg_times = eeg_barcode_times[eeginds]\n",
    "\n",
    "    barcode_inds = (overlapping_eeg_times*samp_rate).astype('int64')\n",
    "    xts = np.arange(barcode_inds[0], barcode_inds[-1]+1, 1)\n",
    "    midts = np.interp(xts, barcode_inds, overlapping_sync_times)\n",
    "\n",
    "    # fit a line to first/last 10 barcodes; this will error if # barcodes in split is less than 10\n",
    "    n_fit = 2\n",
    "    slope1, intercept1, r1, p1, stderr1 = st.linregress(overlapping_eeg_times[0:n_fit], overlapping_sync_times[0:n_fit])\n",
    "    begts = np.arange(min_sample, barcode_inds[0])*(slope1/samp_rate) + intercept1\n",
    "\n",
    "    slope2, intercept2, r2, p2, stderr2 = st.linregress(overlapping_eeg_times[-n_fit:], overlapping_sync_times[-n_fit:])\n",
    "    endts = np.arange(barcode_inds[-1]+1, max_sample+1, 1)*(slope2/samp_rate) + intercept2\n",
    "\n",
    "    aligned_timestamps = np.concatenate((aligned_timestamps, begts, midts, endts))"
   ]
  },
  {
   "cell_type": "raw",
   "metadata": {
    "Collapsed": "false"
   },
   "source": [
    "print(midts[0:5])\n",
    "print(barcode_inds[0])"
   ]
  },
  {
   "cell_type": "code",
   "execution_count": null,
   "metadata": {
    "Collapsed": "false"
   },
   "outputs": [],
   "source": [
    "print(aligned_timestamps[0:10])"
   ]
  },
  {
   "cell_type": "markdown",
   "metadata": {
    "Collapsed": "false"
   },
   "source": [
    "#### Sanity check"
   ]
  },
  {
   "cell_type": "code",
   "execution_count": 19,
   "metadata": {
    "Collapsed": "false"
   },
   "outputs": [
    {
     "ename": "NameError",
     "evalue": "name 'aligned_timestamps' is not defined",
     "output_type": "error",
     "traceback": [
      "\u001b[0;31m---------------------------------------------------------------------------\u001b[0m",
      "\u001b[0;31mNameError\u001b[0m                                 Traceback (most recent call last)",
      "\u001b[0;32m<ipython-input-19-49485e72dd58>\u001b[0m in \u001b[0;36m<module>\u001b[0;34m\u001b[0m\n\u001b[0;32m----> 1\u001b[0;31m \u001b[0;32mif\u001b[0m \u001b[0mlen\u001b[0m\u001b[0;34m(\u001b[0m\u001b[0maligned_timestamps\u001b[0m\u001b[0;34m)\u001b[0m \u001b[0;34m==\u001b[0m \u001b[0mlen\u001b[0m\u001b[0;34m(\u001b[0m\u001b[0morigTS\u001b[0m\u001b[0;34m)\u001b[0m\u001b[0;34m:\u001b[0m\u001b[0;34m\u001b[0m\u001b[0;34m\u001b[0m\u001b[0m\n\u001b[0m\u001b[1;32m      2\u001b[0m     \u001b[0mprint\u001b[0m\u001b[0;34m(\u001b[0m\u001b[0;34m'Wahooo, same length!'\u001b[0m\u001b[0;34m)\u001b[0m\u001b[0;34m\u001b[0m\u001b[0;34m\u001b[0m\u001b[0m\n\u001b[1;32m      3\u001b[0m \u001b[0;32melse\u001b[0m\u001b[0;34m:\u001b[0m\u001b[0;34m\u001b[0m\u001b[0;34m\u001b[0m\u001b[0m\n\u001b[1;32m      4\u001b[0m     \u001b[0mprint\u001b[0m\u001b[0;34m(\u001b[0m\u001b[0;34m'Uh oh...?'\u001b[0m\u001b[0;34m)\u001b[0m\u001b[0;34m\u001b[0m\u001b[0;34m\u001b[0m\u001b[0m\n",
      "\u001b[0;31mNameError\u001b[0m: name 'aligned_timestamps' is not defined"
     ]
    }
   ],
   "source": [
    "if len(aligned_timestamps) == len(origTS):\n",
    "    print('Wahooo, same length!')\n",
    "else:\n",
    "    print('Uh oh...?')"
   ]
  },
  {
   "cell_type": "raw",
   "metadata": {
    "Collapsed": "false"
   },
   "source": [
    "print(len(origTS))\n",
    "print(len(aligned_timestamps))"
   ]
  },
  {
   "cell_type": "code",
   "execution_count": 20,
   "metadata": {
    "Collapsed": "false"
   },
   "outputs": [
    {
     "ename": "NameError",
     "evalue": "name 'aligned_timestamps' is not defined",
     "output_type": "error",
     "traceback": [
      "\u001b[0;31m---------------------------------------------------------------------------\u001b[0m",
      "\u001b[0;31mNameError\u001b[0m                                 Traceback (most recent call last)",
      "\u001b[0;32m<ipython-input-20-1ceefdc4f61a>\u001b[0m in \u001b[0;36m<module>\u001b[0;34m\u001b[0m\n\u001b[0;32m----> 1\u001b[0;31m \u001b[0;32mif\u001b[0m \u001b[0;34m(\u001b[0m\u001b[0maligned_timestamps\u001b[0m \u001b[0;34m>\u001b[0m \u001b[0;36m9000\u001b[0m\u001b[0;34m)\u001b[0m\u001b[0;34m.\u001b[0m\u001b[0msum\u001b[0m\u001b[0;34m(\u001b[0m\u001b[0;34m)\u001b[0m \u001b[0;34m==\u001b[0m \u001b[0;36m0\u001b[0m\u001b[0;34m:\u001b[0m\u001b[0;34m\u001b[0m\u001b[0;34m\u001b[0m\u001b[0m\n\u001b[0m\u001b[1;32m      2\u001b[0m     \u001b[0mprint\u001b[0m\u001b[0;34m(\u001b[0m\u001b[0;34m'All looks good, no crazy high timestamps'\u001b[0m\u001b[0;34m)\u001b[0m\u001b[0;34m\u001b[0m\u001b[0;34m\u001b[0m\u001b[0m\n\u001b[1;32m      3\u001b[0m \u001b[0;32melse\u001b[0m\u001b[0;34m:\u001b[0m\u001b[0;34m\u001b[0m\u001b[0;34m\u001b[0m\u001b[0m\n\u001b[1;32m      4\u001b[0m     \u001b[0mprint\u001b[0m\u001b[0;34m(\u001b[0m\u001b[0;34m(\u001b[0m\u001b[0maligned_timestamps\u001b[0m \u001b[0;34m>\u001b[0m \u001b[0;36m9000\u001b[0m\u001b[0;34m)\u001b[0m\u001b[0;34m.\u001b[0m\u001b[0msum\u001b[0m\u001b[0;34m(\u001b[0m\u001b[0;34m)\u001b[0m\u001b[0;34m)\u001b[0m\u001b[0;34m\u001b[0m\u001b[0;34m\u001b[0m\u001b[0m\n",
      "\u001b[0;31mNameError\u001b[0m: name 'aligned_timestamps' is not defined"
     ]
    }
   ],
   "source": [
    "if (aligned_timestamps > 9000).sum() == 0:\n",
    "    print('All looks good, no crazy high timestamps')\n",
    "else:\n",
    "    print((aligned_timestamps > 9000).sum())"
   ]
  },
  {
   "cell_type": "code",
   "execution_count": 21,
   "metadata": {
    "Collapsed": "false"
   },
   "outputs": [
    {
     "ename": "NameError",
     "evalue": "name 'aligned_timestamps' is not defined",
     "output_type": "error",
     "traceback": [
      "\u001b[0;31m---------------------------------------------------------------------------\u001b[0m",
      "\u001b[0;31mNameError\u001b[0m                                 Traceback (most recent call last)",
      "\u001b[0;32m<ipython-input-21-c9a40868a9b9>\u001b[0m in \u001b[0;36m<module>\u001b[0;34m\u001b[0m\n\u001b[0;32m----> 1\u001b[0;31m \u001b[0;32mif\u001b[0m \u001b[0mnp\u001b[0m\u001b[0;34m.\u001b[0m\u001b[0mall\u001b[0m\u001b[0;34m(\u001b[0m\u001b[0maligned_timestamps\u001b[0m\u001b[0;34m[\u001b[0m\u001b[0;36m1\u001b[0m\u001b[0;34m:\u001b[0m\u001b[0;34m]\u001b[0m \u001b[0;34m>=\u001b[0m \u001b[0maligned_timestamps\u001b[0m\u001b[0;34m[\u001b[0m\u001b[0;34m:\u001b[0m\u001b[0;34m-\u001b[0m\u001b[0;36m1\u001b[0m\u001b[0;34m]\u001b[0m\u001b[0;34m,\u001b[0m \u001b[0maxis\u001b[0m\u001b[0;34m=\u001b[0m\u001b[0;36m0\u001b[0m\u001b[0;34m)\u001b[0m\u001b[0;34m:\u001b[0m \u001b[0;31m# should be TRUE!!! for only-increasing arrays (like timestamps should be)\u001b[0m\u001b[0;34m\u001b[0m\u001b[0;34m\u001b[0m\u001b[0m\n\u001b[0m\u001b[1;32m      2\u001b[0m     \u001b[0mprint\u001b[0m\u001b[0;34m(\u001b[0m\u001b[0;34m'Good to go, timestamps are only increasing'\u001b[0m\u001b[0;34m)\u001b[0m\u001b[0;34m\u001b[0m\u001b[0;34m\u001b[0m\u001b[0m\n",
      "\u001b[0;31mNameError\u001b[0m: name 'aligned_timestamps' is not defined"
     ]
    }
   ],
   "source": [
    "if np.all(aligned_timestamps[1:] >= aligned_timestamps[:-1], axis=0): # should be TRUE!!! for only-increasing arrays (like timestamps should be)\n",
    "    print('Good to go, timestamps are only increasing')"
   ]
  },
  {
   "cell_type": "raw",
   "metadata": {
    "Collapsed": "false"
   },
   "source": [
    "np.where(aligned_timestamps[1:] < aligned_timestamps[:-1])"
   ]
  },
  {
   "cell_type": "raw",
   "metadata": {
    "Collapsed": "false"
   },
   "source": [
    "print(aligned_timestamps[1:][np.invert(aligned_timestamps[1:] >= aligned_timestamps[:-1])])"
   ]
  },
  {
   "cell_type": "raw",
   "metadata": {
    "Collapsed": "false"
   },
   "source": [
    "print(aligned_timestamps[0])"
   ]
  },
  {
   "cell_type": "raw",
   "metadata": {
    "Collapsed": "false"
   },
   "source": [
    "print(aligned_timestamps[36048110:36048120])"
   ]
  },
  {
   "cell_type": "raw",
   "metadata": {
    "Collapsed": "false"
   },
   "source": [
    "fig, ax = plt.subplots()\n",
    "ax.plot(aligned_timestamps)"
   ]
  },
  {
   "cell_type": "markdown",
   "metadata": {
    "Collapsed": "false"
   },
   "source": [
    "### Check offsets now"
   ]
  },
  {
   "cell_type": "code",
   "execution_count": 34,
   "metadata": {
    "Collapsed": "false"
   },
   "outputs": [
    {
     "data": {
      "application/vnd.jupyter.widget-view+json": {
       "model_id": "6ab2282977334bc68ecf4b131856f255",
       "version_major": 2,
       "version_minor": 0
      },
      "text/plain": [
       "Canvas(toolbar=Toolbar(toolitems=[('Home', 'Reset original view', 'home', 'home'), ('Back', 'Back to previous …"
      ]
     },
     "metadata": {},
     "output_type": "display_data"
    }
   ],
   "source": [
    "fig=plt.figure(figsize=(6,4))\n",
    "subfignum = len(eeg_split_times)\n",
    "for idx, split_time in enumerate(eeg_split_times):\n",
    "    min_time = eeg_split_times[idx]\n",
    "\n",
    "    if idx == (len(eeg_split_times) - 1):\n",
    "        max_time = np.Inf\n",
    "    else:\n",
    "        max_time = eeg_split_times[idx+1]\n",
    "        \n",
    "    split_barcodes = np.array(eeg_barcodes)[np.where((eeg_barcode_times > min_time) * (eeg_barcode_times < max_time))[0]]\n",
    "    syncinds = np.isin(sync_codes, split_barcodes)\n",
    "    eeginds = np.isin(eeg_barcodes, split_barcodes)\n",
    "    overlapping_sync_times = sync_times[syncinds]\n",
    "    overlapping_eeg_times = eeg_barcode_times[eeginds]\n",
    "    new_eeg_times = aligned_timestamps[(overlapping_eeg_times*samp_rate).astype('int64') - origTS[0]]\n",
    "    # something is wrong with above line...\n",
    "    \n",
    "    ax=plt.subplot(1,subfignum,idx+1)\n",
    "    ax.plot(new_eeg_times,overlapping_sync_times-new_eeg_times,'.')\n",
    "    ax.set_title('Split #%d' % (idx+1))\n",
    "\n",
    "fig.tight_layout()"
   ]
  },
  {
   "cell_type": "markdown",
   "metadata": {
    "Collapsed": "false"
   },
   "source": [
    "#### All looks good, now save."
   ]
  },
  {
   "cell_type": "code",
   "execution_count": 35,
   "metadata": {
    "Collapsed": "false"
   },
   "outputs": [],
   "source": [
    "np.save(os.path.join(pilotexp.data_folder, 'continuous', 'Rhythm_FPGA-111.0', 'timestamps_master_clock.npy'), aligned_timestamps, allow_pickle=False)"
   ]
  },
  {
   "cell_type": "code",
   "execution_count": null,
   "metadata": {
    "Collapsed": "false"
   },
   "outputs": [],
   "source": []
  }
 ],
 "metadata": {
  "kernelspec": {
   "display_name": "zapnzip",
   "language": "python",
   "name": "zapnzip"
  },
  "language_info": {
   "codemirror_mode": {
    "name": "ipython",
    "version": 3
   },
   "file_extension": ".py",
   "mimetype": "text/x-python",
   "name": "python",
   "nbconvert_exporter": "python",
   "pygments_lexer": "ipython3",
   "version": "3.7.4"
  },
  "widgets": {
   "application/vnd.jupyter.widget-state+json": {
    "state": {
     "a6e3ea93848849b9965f4909ec1eb8e1": {
      "model_module": "@jupyter-widgets/base",
      "model_module_version": "1.2.0",
      "model_name": "LayoutModel",
      "state": {}
     },
     "b4977d2522a14d94ac5bdf69bd806810": {
      "model_module": "jupyter-matplotlib",
      "model_module_version": "^0.5.0",
      "model_name": "ToolbarModel",
      "state": {
       "layout": "IPY_MODEL_a6e3ea93848849b9965f4909ec1eb8e1",
       "toolitems": [
        [
         "Home",
         "Reset original view",
         "home",
         "home"
        ],
        [
         "Back",
         "Back to previous view",
         "arrow-left",
         "back"
        ],
        [
         "Forward",
         "Forward to next view",
         "arrow-right",
         "forward"
        ],
        [
         "Pan",
         "Pan axes with left mouse, zoom with right",
         "arrows",
         "pan"
        ],
        [
         "Zoom",
         "Zoom to rectangle",
         "square-o",
         "zoom"
        ],
        [
         "Download",
         "Download plot",
         "floppy-o",
         "save_figure"
        ]
       ]
      }
     },
     "b4c026491c2a4513a342d8ed9c283be4": {
      "model_module": "jupyter-matplotlib",
      "model_module_version": "^0.5.0",
      "model_name": "MPLCanvasModel",
      "state": {
       "layout": "IPY_MODEL_db6f700f12b24d6281a1107a825f2655",
       "toolbar": "IPY_MODEL_b4977d2522a14d94ac5bdf69bd806810",
       "toolbar_position": "left"
      }
     },
     "db6f700f12b24d6281a1107a825f2655": {
      "model_module": "@jupyter-widgets/base",
      "model_module_version": "1.2.0",
      "model_name": "LayoutModel",
      "state": {}
     }
    },
    "version_major": 2,
    "version_minor": 0
   }
  }
 },
 "nbformat": 4,
 "nbformat_minor": 4
}
