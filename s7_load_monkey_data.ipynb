{
 "cells": [
  {
   "cell_type": "code",
   "execution_count": null,
   "metadata": {},
   "outputs": [],
   "source": [
    "from os import path\n",
    "from glob import glob\n",
    "import gc\n",
    "\n",
    "import numpy as np\n",
    "import pandas as pd\n",
    "import matplotlib as mpl\n",
    "from matplotlib import pyplot as plt\n",
    "from matplotlib import cm\n",
    "import umap\n",
    "\n",
    "import differentiation\n",
    "\n",
    "%matplotlib widget"
   ]
  },
  {
   "cell_type": "code",
   "execution_count": null,
   "metadata": {},
   "outputs": [],
   "source": [
    "data_folder = '../data/monkey/D_20161011_1445'\n",
    "sample_rate = 5000\n",
    "adu2uv = 0.195 # convert data to uV units"
   ]
  },
  {
   "cell_type": "code",
   "execution_count": null,
   "metadata": {},
   "outputs": [],
   "source": [
    "header_ids = {\n",
    "    'bad_packet' : 0b1000000000000000,\n",
    "    'one_second' : 0b0100000000000000,\n",
    "    'analog_smp' : 0b0010000000000000,\n",
    "    'stimulus_c' : 0b0001000000000000,\n",
    "    'stimulus_b' : 0b0000100000000000,\n",
    "    'stimulus_a' : 0b0000010000000000,\n",
    "}\n",
    "\n",
    "def load_channels(data_folder):\n",
    "    channels = {}\n",
    "    chlen = None\n",
    "    for f in sorted(glob(path.join(data_folder, '*.i16'))):\n",
    "        name = 'ch'+path.basename(f)[-6:-4]\n",
    "        channels[name] = np.memmap(f, dtype='int16')\n",
    "        if chlen is None:\n",
    "            chlen = len(channels[name])\n",
    "        if len(channels[name]) != chlen:\n",
    "            raise ValueError(\n",
    "                'Channel length mismatch for channel {0:s}'.format(name)\n",
    "            )\n",
    "    return channels\n",
    "\n",
    "def load_events(data_folder):\n",
    "    files = glob(path.join(data_folder, '*_Events.u32'))\n",
    "    if len(files) > 1:\n",
    "        raise ValueError('Found multiple event files.')\n",
    "    events = np.memmap(files[0], dtype='uint32').reshape(-1, 3)\n",
    "    events = pd.DataFrame(data=events, columns=['ID', 'Value', 'Timestamp'])\n",
    "    events['ID'] = events['ID'].map(\n",
    "        {\n",
    "            0 : 'condition',\n",
    "            1 : 'discrimination',\n",
    "            2 : 'stimulus',\n",
    "            3 : 'sampling_status',\n",
    "            4 : 'one_second_marker',\n",
    "            5 : 'crc_error'\n",
    "        }\n",
    "    )\n",
    "#     events.Timestamp = events.Timestamp / 5000\n",
    "    return events\n",
    "\n",
    "def load_headers(data_folder):\n",
    "    files = glob(path.join(data_folder, '*_Digi00.u16'))\n",
    "    if len(files) > 1:\n",
    "        raise ValueError('Found multiple header files.')\n",
    "    return pd.DataFrame(np.memmap(files[0], dtype='uint16'))\n",
    "\n",
    "def expand_header(x):\n",
    "    marks = {}\n",
    "    for name, field in header_ids.items():\n",
    "        if x&field:\n",
    "            marks[name] = True\n",
    "        else:\n",
    "            marks[name] = False\n",
    "    return pd.Series(marks)"
   ]
  },
  {
   "cell_type": "markdown",
   "metadata": {},
   "source": [
    "# Load data"
   ]
  },
  {
   "cell_type": "code",
   "execution_count": 4,
   "metadata": {},
   "outputs": [],
   "source": [
    "events = load_events(data_folder)\n",
    "data = pd.DataFrame(load_channels(data_folder))\n",
    "data = data[::5] # downsample simply by subsampling\n",
    "data.index = range(len(data))\n",
    "sample_rate = 1000\n",
    "# headers = load_headers(data_folder)"
   ]
  },
  {
   "cell_type": "markdown",
   "metadata": {},
   "source": [
    "# Extract stimulation times\n",
    "A single stimulus comprises of a series of pulses (see below). Interval between pulses is 1, 10, 33 or 100 ms; interstimulus interval is 9 or 10 s.  \n",
    "Given that, it would be interesting to look at data from -1 s to +1 s from stimulus time."
   ]
  },
  {
   "cell_type": "code",
   "execution_count": 5,
   "metadata": {},
   "outputs": [
    {
     "data": {
      "application/vnd.jupyter.widget-view+json": {
       "model_id": "7320e633476c48a481f9cc04b431bbf1",
       "version_major": 2,
       "version_minor": 0
      },
      "text/plain": [
       "Canvas(toolbar=Toolbar(toolitems=[('Home', 'Reset original view', 'home', 'home'), ('Back', 'Back to previous …"
      ]
     },
     "metadata": {},
     "output_type": "display_data"
    }
   ],
   "source": [
    "f, ax = plt.subplots(1, 1, figsize=(4, 3), tight_layout=True)\n",
    "f.canvas.header_visible = False\n",
    "ax.hist(events[events.ID=='stimulus'].Timestamp.diff().dropna()/5000, range=(0, 12), bins=1200, log=True);\n",
    "ax.set_xlabel('Inter-stimulus time (s)');"
   ]
  },
  {
   "cell_type": "code",
   "execution_count": 6,
   "metadata": {},
   "outputs": [],
   "source": [
    "# f, ax = plt.subplots(1, 1, figsize=(12, 2), tight_layout=True)\n",
    "# f.canvas.header_visible = False\n",
    "# (events[events.ID=='stimulus'].Timestamp.diff()/5000).plot(ax=ax);\n",
    "# # ax.set_xlim(23500, 24500)\n",
    "# ax.set_xlabel('Time (s)');"
   ]
  },
  {
   "cell_type": "markdown",
   "metadata": {},
   "source": [
    "## Extract stimulation burst start times"
   ]
  },
  {
   "cell_type": "code",
   "execution_count": 7,
   "metadata": {},
   "outputs": [
    {
     "data": {
      "text/plain": [
       "array([   20005,    30005,    40005, ..., 48970005, 48980005, 48990005],\n",
       "      dtype=uint32)"
      ]
     },
     "execution_count": 7,
     "metadata": {},
     "output_type": "execute_result"
    }
   ],
   "source": [
    "burst_start = events[events.ID=='stimulus'].Timestamp.diff()/5000 > 8\n",
    "burst_start = events[events.ID=='stimulus'][burst_start].Timestamp.values.astype(int)\n",
    "# rescale the index to match new sample_rate\n",
    "burst_start = (burst_start * sample_rate / 5000).astype(np.uint32)\n",
    "gc.collect()\n",
    "burst_start"
   ]
  },
  {
   "cell_type": "markdown",
   "metadata": {},
   "source": [
    "## Construct windows around stimulation times"
   ]
  },
  {
   "cell_type": "code",
   "execution_count": 8,
   "metadata": {},
   "outputs": [],
   "source": [
    "def get_windows(data, stimulus_times, sample_rate, forward, backward):\n",
    "    '''\n",
    "    forward, backward: window size around stimulus time in s\n",
    "    '''\n",
    "    windows = pd.Series(data=np.nan, index=data.index, name='windows')\n",
    "    windows[stimulus_times] = np.arange(1, 1+len(stimulus_times))\n",
    "    if forward > 0:\n",
    "        windows.ffill(limit=int(forward*sample_rate), inplace=True)\n",
    "    if backward > 0:\n",
    "        windows.bfill(limit=int(backward*sample_rate), inplace=True)\n",
    "    windows = windows.replace(np.nan, 0).astype('uint16')\n",
    "    gc.collect()\n",
    "    return windows"
   ]
  },
  {
   "cell_type": "markdown",
   "metadata": {},
   "source": [
    "# UMAP unperturbed states"
   ]
  },
  {
   "cell_type": "code",
   "execution_count": 9,
   "metadata": {},
   "outputs": [],
   "source": [
    "# # plt.close(f)\n",
    "# gc.collect()\n",
    "# f, ax = plt.subplots(1, 1, figsize=(12, 2), tight_layout=True)\n",
    "# f.canvas.header_visible = False\n",
    "# for t in data.index[burst_start][::100]:\n",
    "#     ax.axvline(t/sample_rate, c='k', lw=0.5)\n",
    "# ax.plot(data.index[::100]/sample_rate, data.ch00[::100], label='Eye')\n",
    "# ax.plot(data.index[::100]/sample_rate, data.ch02[::100], label='LFP')\n",
    "# ax.plot(data.index[::100]/sample_rate, data.ch33[::100], label='Accl')\n",
    "# ax.legend();"
   ]
  },
  {
   "cell_type": "markdown",
   "metadata": {},
   "source": [
    "## Get unperturbed windows"
   ]
  },
  {
   "cell_type": "code",
   "execution_count": 10,
   "metadata": {},
   "outputs": [],
   "source": [
    "# let's get windows that start with the stimulus and end just short of (0.5s) the next stimulus\n",
    "# Then within a window, we will discard the first 2 seconds of data since that still consists of response to stimulation\n",
    "windows = get_windows(data, burst_start, sample_rate, 9.5, 0)\n",
    "windows = windows[windows>0]\n",
    "\n",
    "# now discard the first 2.5 s post stimulus\n",
    "windows = windows.groupby(windows).apply(lambda s: s[int(2.5*sample_rate):]).droplevel(0)"
   ]
  },
  {
   "cell_type": "markdown",
   "metadata": {},
   "source": [
    "## Create state vectors"
   ]
  },
  {
   "cell_type": "code",
   "execution_count": 11,
   "metadata": {},
   "outputs": [],
   "source": [
    "def mean_lfp(aligned_df, sample_rate, winsize):\n",
    "    \"\"\"\n",
    "    Simply returns the mean absolute value of signal\n",
    "    Instead, it could first find the envelope and return mean amplitude of that\n",
    "    \"\"\"\n",
    "    if len(aligned_df) < winsize * sample_rate:\n",
    "        # window overlaps with artifact or window too short, so return nan\n",
    "        return aligned_df.drop('windows', axis=1).mean()*np.nan\n",
    "    else:\n",
    "        return aligned_df.drop('windows', axis=1).abs().mean()\n",
    "    return\n",
    "\n",
    "def spectral_state(aligned_df, sample_rate, winsize):\n",
    "    \"\"\"\n",
    "    Returns the spectral state for a block of time\n",
    "    \"\"\"\n",
    "    if len(aligned_df) < winsize * sample_rate:\n",
    "        # window overlaps with artifact | window too short, so return nan\n",
    "        aligned_df = pd.DataFrame(data=np.zeros((int(sample_rate*winsize), len(aligned_df.columns)-1)))\n",
    "        return pd.Series(differentiation.spectral_states(\n",
    "            sample_rate=sample_rate,\n",
    "            window_length=winsize,\n",
    "            data=aligned_df.values[:int(winsize*sample_rate)].T\n",
    "        )[-1])*np.nan\n",
    "    else:\n",
    "        spec = differentiation.spectral_states(\n",
    "            sample_rate=sample_rate,\n",
    "            window_length=winsize,\n",
    "            data=aligned_df.drop('windows', axis=1).values[:int(winsize*sample_rate)].T\n",
    "        )[-1]\n",
    "        return pd.Series(spec)\n",
    "\n",
    "def spectral_differentiation(aligned_df, sample_rate, winsize, state_length):\n",
    "    if len(aligned_df) < winsize * sample_rate:\n",
    "        return pd.Series([np.nan]*int((winsize/state_length)*(winsize/state_length-1)/2))\n",
    "    return pd.Series(\n",
    "        differentiation.spectral_differentiation(\n",
    "            aligned_df.drop('windows', axis=1).values[:int(winsize*sample_rate)].T,\n",
    "            sample_rate=sample_rate, window_length=state_length\n",
    "        )\n",
    "    )"
   ]
  },
  {
   "cell_type": "code",
   "execution_count": 13,
   "metadata": {},
   "outputs": [
    {
     "data": {
      "text/plain": [
       "(4897, 49014)"
      ]
     },
     "execution_count": 13,
     "metadata": {},
     "output_type": "execute_result"
    }
   ],
   "source": [
    "func = spectral_state\n",
    "windowed_data = pd.concat([data.reindex(windows.index), windows], axis=1)\n",
    "states = windowed_data[['ch{0:02d}'.format(i) for i in range(2, 16)]+['windows']].groupby('windows').apply(\n",
    "    func, sample_rate=sample_rate, winsize=7\n",
    ").dropna()\n",
    "states.shape"
   ]
  },
  {
   "cell_type": "code",
   "execution_count": 64,
   "metadata": {},
   "outputs": [],
   "source": [
    "reducer = umap.UMAP(\n",
    "    n_neighbors=500,\n",
    "    min_dist=0.0005,\n",
    ")\n",
    "reducer.fit(states.values)\n",
    "embedding = reducer.transform(states.values)"
   ]
  },
  {
   "cell_type": "markdown",
   "metadata": {},
   "source": [
    "## Spectral states cluster according to acceleration / motion and time"
   ]
  },
  {
   "cell_type": "code",
   "execution_count": 65,
   "metadata": {},
   "outputs": [
    {
     "name": "stderr",
     "output_type": "stream",
     "text": [
      "/home/saurabh.gandhi/Projects/.env_zz/lib/python3.7/site-packages/ipykernel_launcher.py:1: RuntimeWarning: More than 20 figures have been opened. Figures created through the pyplot interface (`matplotlib.pyplot.figure`) are retained until explicitly closed and may consume too much memory. (To control this warning, see the rcParam `figure.max_open_warning`).\n",
      "  \"\"\"Entry point for launching an IPython kernel.\n"
     ]
    },
    {
     "data": {
      "application/vnd.jupyter.widget-view+json": {
       "model_id": "6800b5ecbad9401498f1fbd7ed89e4b7",
       "version_major": 2,
       "version_minor": 0
      },
      "text/plain": [
       "Canvas(toolbar=Toolbar(toolitems=[('Home', 'Reset original view', 'home', 'home'), ('Back', 'Back to previous …"
      ]
     },
     "metadata": {},
     "output_type": "display_data"
    }
   ],
   "source": [
    "f, ax = plt.subplots(1, 1, figsize=(6, 4), constrained_layout=True)\n",
    "accl = windowed_data.groupby('windows').apply(lambda df: df['ch33'].max()-df['ch33'].min()).loc[states.index]\n",
    "f.canvas.header_visible = False\n",
    "ax.set_xlabel('umap 1')\n",
    "ax.set_ylabel('umap 2')\n",
    "ax.set_title('{0:.2f} s window, {1:s}'.format(7, func.__name__), fontsize=10)\n",
    "\n",
    "sc = ax.scatter(\n",
    "    embedding[:, 0], embedding[:, 1],\n",
    "    c=accl, cmap=cm.RdBu_r, alpha=0.1, vmax=1000,\n",
    ")\n",
    "plt.colorbar(cm.ScalarMappable(\n",
    "        norm=mpl.colors.Normalize(vmin=accl.min(),vmax=1000,),\n",
    "    cmap=cm.RdBu_r\n",
    "), label='Acceleration amplitude');"
   ]
  },
  {
   "cell_type": "code",
   "execution_count": 66,
   "metadata": {},
   "outputs": [
    {
     "name": "stderr",
     "output_type": "stream",
     "text": [
      "/home/saurabh.gandhi/Projects/.env_zz/lib/python3.7/site-packages/ipykernel_launcher.py:1: RuntimeWarning: More than 20 figures have been opened. Figures created through the pyplot interface (`matplotlib.pyplot.figure`) are retained until explicitly closed and may consume too much memory. (To control this warning, see the rcParam `figure.max_open_warning`).\n",
      "  \"\"\"Entry point for launching an IPython kernel.\n"
     ]
    },
    {
     "data": {
      "application/vnd.jupyter.widget-view+json": {
       "model_id": "aea62b261b2f4afda96863460b586b6f",
       "version_major": 2,
       "version_minor": 0
      },
      "text/plain": [
       "Canvas(toolbar=Toolbar(toolitems=[('Home', 'Reset original view', 'home', 'home'), ('Back', 'Back to previous …"
      ]
     },
     "metadata": {},
     "output_type": "display_data"
    }
   ],
   "source": [
    "f, ax = plt.subplots(1, 1, figsize=(6, 4), constrained_layout=True)\n",
    "accl = windowed_data.groupby('windows').apply(lambda df: df['ch33'].max()-df['ch33'].min()).loc[states.index]\n",
    "f.canvas.header_visible = False\n",
    "ax.set_xlabel('umap 1')\n",
    "ax.set_ylabel('umap 2')\n",
    "ax.set_title('{0:.2f} s window, {1:s}'.format(7, func.__name__), fontsize=10)\n",
    "\n",
    "sc = ax.scatter(\n",
    "    embedding[:, 0], embedding[:, 1],\n",
    "    c=range(len(embedding)), cmap=cm.copper_r, alpha=0.1,\n",
    ")\n",
    "plt.colorbar(cm.ScalarMappable(\n",
    "        norm=mpl.colors.Normalize(vmin=0,vmax=len(embedding)*10,),\n",
    "    cmap=cm.copper_r\n",
    "), label='Time');"
   ]
  },
  {
   "cell_type": "code",
   "execution_count": 67,
   "metadata": {},
   "outputs": [
    {
     "name": "stderr",
     "output_type": "stream",
     "text": [
      "/home/saurabh.gandhi/Projects/.env_zz/lib/python3.7/site-packages/ipykernel_launcher.py:1: RuntimeWarning: More than 20 figures have been opened. Figures created through the pyplot interface (`matplotlib.pyplot.figure`) are retained until explicitly closed and may consume too much memory. (To control this warning, see the rcParam `figure.max_open_warning`).\n",
      "  \"\"\"Entry point for launching an IPython kernel.\n"
     ]
    },
    {
     "data": {
      "application/vnd.jupyter.widget-view+json": {
       "model_id": "9fa572ac3a2e43a7bb5275b128861f2c",
       "version_major": 2,
       "version_minor": 0
      },
      "text/plain": [
       "Canvas(toolbar=Toolbar(toolitems=[('Home', 'Reset original view', 'home', 'home'), ('Back', 'Back to previous …"
      ]
     },
     "metadata": {},
     "output_type": "display_data"
    }
   ],
   "source": [
    "f, ax = plt.subplots(1, 1, figsize=(6, 4), constrained_layout=True)\n",
    "eog = windowed_data.groupby('windows').apply(lambda df: (df.ch00+df.ch01).max()-(df.ch00+df.ch01).min()).loc[states.index]\n",
    "f.canvas.header_visible = False\n",
    "ax.set_xlabel('umap 1')\n",
    "ax.set_ylabel('umap 2')\n",
    "ax.set_title('{0:.2f} s window, {1:s}'.format(7, func.__name__), fontsize=10)\n",
    "\n",
    "sc = ax.scatter(\n",
    "    embedding[:, 0], embedding[:, 1],\n",
    "    c=eog, cmap=cm.PuOr, alpha=0.1, vmax=3000\n",
    ")\n",
    "plt.colorbar(cm.ScalarMappable(\n",
    "        norm=mpl.colors.Normalize(vmin=eog.min(),vmax=3000,),\n",
    "    cmap=cm.PuOr\n",
    "), label='Eye movement');"
   ]
  },
  {
   "cell_type": "markdown",
   "metadata": {},
   "source": [
    "---"
   ]
  },
  {
   "cell_type": "code",
   "execution_count": 40,
   "metadata": {},
   "outputs": [
    {
     "name": "stderr",
     "output_type": "stream",
     "text": [
      "/home/saurabh.gandhi/Projects/.env_zz/lib/python3.7/site-packages/ipykernel_launcher.py:1: RuntimeWarning: More than 20 figures have been opened. Figures created through the pyplot interface (`matplotlib.pyplot.figure`) are retained until explicitly closed and may consume too much memory. (To control this warning, see the rcParam `figure.max_open_warning`).\n",
      "  \"\"\"Entry point for launching an IPython kernel.\n"
     ]
    },
    {
     "data": {
      "application/vnd.jupyter.widget-view+json": {
       "model_id": "da9e9d3c5f934b07a79ef5455604b1e8",
       "version_major": 2,
       "version_minor": 0
      },
      "text/plain": [
       "Canvas(toolbar=Toolbar(toolitems=[('Home', 'Reset original view', 'home', 'home'), ('Back', 'Back to previous …"
      ]
     },
     "metadata": {},
     "output_type": "display_data"
    },
    {
     "data": {
      "text/plain": [
       "<matplotlib.axes._subplots.AxesSubplot at 0x7f3265069190>"
      ]
     },
     "execution_count": 40,
     "metadata": {},
     "output_type": "execute_result"
    }
   ],
   "source": [
    "f, ax = plt.subplots(1, 1, figsize=(12, 2))\n",
    "eog.plot(kind='hist', ax=ax, range=(0, 2000))\n",
    "# windowed_data.groupby('windows').apply(lambda df: (df.ch00+df.ch01).max()-(df.ch00+df.ch01).min()).plot(ax=ax)\n",
    "# windowed_data.groupby('windows').apply(lambda df: df['ch33'].max()-df['ch33'].min()).plot(ax=ax.twinx(), c='k', lw=0.25)"
   ]
  },
  {
   "cell_type": "markdown",
   "metadata": {},
   "source": [
    "# Mean responses to stimulation"
   ]
  },
  {
   "cell_type": "code",
   "execution_count": null,
   "metadata": {},
   "outputs": [],
   "source": []
  }
 ],
 "metadata": {
  "kernelspec": {
   "display_name": "zapnzip",
   "language": "python",
   "name": "zapnzip"
  },
  "language_info": {
   "codemirror_mode": {
    "name": "ipython",
    "version": 3
   },
   "file_extension": ".py",
   "mimetype": "text/x-python",
   "name": "python",
   "nbconvert_exporter": "python",
   "pygments_lexer": "ipython3",
   "version": "3.7.4"
  },
  "toc-autonumbering": true,
  "toc-showcode": false,
  "toc-showmarkdowntxt": false,
  "toc-showtags": false,
  "widgets": {
   "application/vnd.jupyter.widget-state+json": {
    "state": {},
    "version_major": 2,
    "version_minor": 0
   }
  }
 },
 "nbformat": 4,
 "nbformat_minor": 4
}
