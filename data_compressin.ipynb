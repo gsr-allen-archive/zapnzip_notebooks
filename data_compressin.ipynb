{
 "cells": [
  {
   "cell_type": "code",
   "execution_count": 1,
   "metadata": {
    "execution": {
     "iopub.execute_input": "2022-11-09T09:18:20.112005Z",
     "iopub.status.busy": "2022-11-09T09:18:20.111074Z",
     "iopub.status.idle": "2022-11-09T09:18:23.321352Z",
     "shell.execute_reply": "2022-11-09T09:18:23.320553Z",
     "shell.execute_reply.started": "2022-11-09T09:18:20.111878Z"
    },
    "tags": []
   },
   "outputs": [
    {
     "name": "stdout",
     "output_type": "stream",
     "text": [
      "The history saving thread hit an unexpected error (OperationalError('disk I/O error')).History will not be written to the database.\n"
     ]
    }
   ],
   "source": [
    "import os\n",
    "from os import path\n",
    "from glob import glob\n",
    "import shutil\n",
    "from ast import literal_eval\n",
    "\n",
    "import numpy as np\n",
    "from tqdm.auto import tqdm\n",
    "\n",
    "from allensdk.brain_observatory.ecephys.lfp_subsampling import subsampling"
   ]
  },
  {
   "cell_type": "code",
   "execution_count": 2,
   "metadata": {
    "execution": {
     "iopub.execute_input": "2022-11-09T09:18:23.322639Z",
     "iopub.status.busy": "2022-11-09T09:18:23.322342Z",
     "iopub.status.idle": "2022-11-09T09:18:50.582393Z",
     "shell.execute_reply": "2022-11-09T09:18:50.581767Z",
     "shell.execute_reply.started": "2022-11-09T09:18:23.322529Z"
    },
    "tags": []
   },
   "outputs": [],
   "source": [
    "source_path = '../tiny-blue-dot/zap-n-zip/EEG_exp/'\n",
    "dest_path = '../tiny-blue-dot/zap-n-zip/compressed/'\n",
    "cont_files = [f for f in glob(path.join(source_path, '**'), recursive=True) if 'continuous.dat' in f]\n",
    "# cont_files += [f for f in glob(path.join(source_path, '**'), recursive=True) if 'continuous-corrected.dat' in f]"
   ]
  },
  {
   "cell_type": "code",
   "execution_count": 19,
   "metadata": {
    "execution": {
     "iopub.execute_input": "2022-11-09T09:27:00.408815Z",
     "iopub.status.busy": "2022-11-09T09:27:00.408230Z",
     "iopub.status.idle": "2022-11-09T09:27:00.419286Z",
     "shell.execute_reply": "2022-11-09T09:27:00.418669Z",
     "shell.execute_reply.started": "2022-11-09T09:27:00.408739Z"
    },
    "tags": []
   },
   "outputs": [
    {
     "data": {
      "text/plain": [
       "True"
      ]
     },
     "execution_count": 19,
     "metadata": {},
     "output_type": "execute_result"
    }
   ],
   "source": [
    "# loading data again\n",
    "eeg_cont_path = path.join(dest_path, 'mouse599975/estim_vis_2022-03-31_12-03-06/experiment1/recording1/continuous/Rhythm_FPGA-101.0/continuous.dat')\n",
    "path.exists(eeg_cont_path)"
   ]
  },
  {
   "cell_type": "code",
   "execution_count": 20,
   "metadata": {
    "execution": {
     "iopub.execute_input": "2022-11-09T09:27:21.930371Z",
     "iopub.status.busy": "2022-11-09T09:27:21.929399Z",
     "iopub.status.idle": "2022-11-09T09:27:21.939022Z",
     "shell.execute_reply": "2022-11-09T09:27:21.938247Z",
     "shell.execute_reply.started": "2022-11-09T09:27:21.930242Z"
    }
   },
   "outputs": [],
   "source": [
    "data = np.load(eeg_cont_path, mmap_mode='r', )"
   ]
  },
  {
   "cell_type": "code",
   "execution_count": 21,
   "metadata": {
    "execution": {
     "iopub.execute_input": "2022-11-09T09:27:24.624489Z",
     "iopub.status.busy": "2022-11-09T09:27:24.623501Z",
     "iopub.status.idle": "2022-11-09T09:27:24.630039Z",
     "shell.execute_reply": "2022-11-09T09:27:24.629353Z",
     "shell.execute_reply.started": "2022-11-09T09:27:24.624336Z"
    }
   },
   "outputs": [
    {
     "data": {
      "text/plain": [
       "(2648576, 40)"
      ]
     },
     "execution_count": 21,
     "metadata": {},
     "output_type": "execute_result"
    }
   ],
   "source": [
    "data.shape"
   ]
  },
  {
   "cell_type": "code",
   "execution_count": 10,
   "metadata": {
    "execution": {
     "iopub.execute_input": "2022-11-09T09:23:13.826368Z",
     "iopub.status.busy": "2022-11-09T09:23:13.825745Z",
     "iopub.status.idle": "2022-11-09T09:23:13.832422Z",
     "shell.execute_reply": "2022-11-09T09:23:13.831732Z",
     "shell.execute_reply.started": "2022-11-09T09:23:13.826307Z"
    },
    "tags": []
   },
   "outputs": [
    {
     "data": {
      "text/plain": [
       "105943104"
      ]
     },
     "execution_count": 10,
     "metadata": {},
     "output_type": "execute_result"
    }
   ],
   "source": [
    "data = np.memmap(eeg_cont_path, dtype='int16', mode='r', )\n",
    "data.shape[0]"
   ]
  },
  {
   "cell_type": "code",
   "execution_count": 14,
   "metadata": {
    "execution": {
     "iopub.execute_input": "2022-11-09T09:24:51.992260Z",
     "iopub.status.busy": "2022-11-09T09:24:51.991290Z",
     "iopub.status.idle": "2022-11-09T09:24:52.001189Z",
     "shell.execute_reply": "2022-11-09T09:24:52.000216Z",
     "shell.execute_reply.started": "2022-11-09T09:24:51.992127Z"
    },
    "tags": []
   },
   "outputs": [
    {
     "data": {
      "text/plain": [
       "105943040.0"
      ]
     },
     "execution_count": 14,
     "metadata": {},
     "output_type": "execute_result"
    }
   ],
   "source": [
    "data = np.memmap(eeg_cont_path, dtype='int16', mode='r', )\n",
    "data.shape[0]/5"
   ]
  },
  {
   "cell_type": "code",
   "execution_count": 15,
   "metadata": {
    "execution": {
     "iopub.execute_input": "2022-11-09T09:24:57.984664Z",
     "iopub.status.busy": "2022-11-09T09:24:57.983758Z",
     "iopub.status.idle": "2022-11-09T09:24:57.990999Z",
     "shell.execute_reply": "2022-11-09T09:24:57.990211Z",
     "shell.execute_reply.started": "2022-11-09T09:24:57.984523Z"
    },
    "tags": []
   },
   "outputs": [
    {
     "data": {
      "text/plain": [
       "(13242880, 40)"
      ]
     },
     "execution_count": 15,
     "metadata": {},
     "output_type": "execute_result"
    }
   ],
   "source": [
    "data = data.reshape((int(data.size/40), 40))\n",
    "data.shape"
   ]
  },
  {
   "cell_type": "code",
   "execution_count": 16,
   "metadata": {
    "execution": {
     "iopub.execute_input": "2022-11-09T09:25:17.326491Z",
     "iopub.status.busy": "2022-11-09T09:25:17.325574Z",
     "iopub.status.idle": "2022-11-09T09:25:17.331866Z",
     "shell.execute_reply": "2022-11-09T09:25:17.330922Z",
     "shell.execute_reply.started": "2022-11-09T09:25:17.326365Z"
    }
   },
   "outputs": [],
   "source": [
    "channels = np.arange(40, dtype='int')"
   ]
  },
  {
   "cell_type": "code",
   "execution_count": 17,
   "metadata": {
    "execution": {
     "iopub.execute_input": "2022-11-09T09:25:55.144815Z",
     "iopub.status.busy": "2022-11-09T09:25:55.143896Z",
     "iopub.status.idle": "2022-11-09T09:26:17.529750Z",
     "shell.execute_reply": "2022-11-09T09:26:17.529219Z",
     "shell.execute_reply.started": "2022-11-09T09:25:55.144688Z"
    }
   },
   "outputs": [],
   "source": [
    "data_ss = subsampling.subsample_lfp(data, channels, subsampling_factor=2500//500)"
   ]
  },
  {
   "cell_type": "code",
   "execution_count": 18,
   "metadata": {
    "execution": {
     "iopub.execute_input": "2022-11-09T09:26:17.530888Z",
     "iopub.status.busy": "2022-11-09T09:26:17.530706Z",
     "iopub.status.idle": "2022-11-09T09:26:17.533712Z",
     "shell.execute_reply": "2022-11-09T09:26:17.533277Z",
     "shell.execute_reply.started": "2022-11-09T09:26:17.530861Z"
    }
   },
   "outputs": [
    {
     "data": {
      "text/plain": [
       "(2648576, 40)"
      ]
     },
     "execution_count": 18,
     "metadata": {},
     "output_type": "execute_result"
    }
   ],
   "source": [
    "data_ss.shape"
   ]
  },
  {
   "cell_type": "code",
   "execution_count": null,
   "metadata": {},
   "outputs": [],
   "source": []
  },
  {
   "cell_type": "code",
   "execution_count": null,
   "metadata": {},
   "outputs": [],
   "source": []
  },
  {
   "cell_type": "code",
   "execution_count": null,
   "metadata": {},
   "outputs": [],
   "source": []
  },
  {
   "cell_type": "code",
   "execution_count": 8,
   "metadata": {
    "execution": {
     "iopub.execute_input": "2022-10-29T06:03:01.035455Z",
     "iopub.status.busy": "2022-10-29T06:03:01.034709Z",
     "iopub.status.idle": "2022-10-29T06:03:01.768980Z",
     "shell.execute_reply": "2022-10-29T06:03:01.766613Z",
     "shell.execute_reply.started": "2022-10-29T06:03:01.035352Z"
    },
    "tags": []
   },
   "outputs": [],
   "source": [
    "# create directory structure identical to EEG_exp folder under compressed\n",
    "for f in cont_files:\n",
    "    os.makedirs(path.dirname(f.replace(source_path, dest_path)), exist_ok=True)"
   ]
  },
  {
   "cell_type": "code",
   "execution_count": 4,
   "metadata": {
    "execution": {
     "iopub.execute_input": "2022-10-20T08:55:05.349323Z",
     "iopub.status.busy": "2022-10-20T08:55:05.348536Z",
     "iopub.status.idle": "2022-10-20T08:55:12.188545Z",
     "shell.execute_reply": "2022-10-20T08:55:12.187904Z",
     "shell.execute_reply.started": "2022-10-20T08:55:05.349214Z"
    },
    "scrolled": true,
    "tags": []
   },
   "outputs": [
    {
     "data": {
      "application/vnd.jupyter.widget-view+json": {
       "model_id": "cbe96061ffbd45d4bf06cb55a1fc5970",
       "version_major": 2,
       "version_minor": 0
      },
      "text/plain": [
       "HBox(children=(FloatProgress(value=0.0, max=572.0), HTML(value='')))"
      ]
     },
     "metadata": {},
     "output_type": "display_data"
    },
    {
     "name": "stdout",
     "output_type": "stream",
     "text": [
      "mouse635890/signal_test_2022-08-24_15-46-54/experiment1/recording1/continuous/Acquisition_Board-102.Rhythm Data/continuous.dat\n",
      "Failed\n",
      "\n",
      "mouse638703/signal_test_2022-10-03_13-25-48/experiment1/recording1/continuous/Acquisition_Board-105.Rhythm Data/continuous.dat\n",
      "Failed\n",
      "\n",
      "mouse547867/rec2_2020-11-20_12-53-00/experiment1/recording1/continuous/Neuropix-PXI-152.0/continuous.dat\n",
      "Failed\n",
      "\n",
      "mouse547867/rec2_2020-11-20_12-53-00/experiment1/recording1/continuous/Neuropix-PXI-152.1/continuous.dat\n",
      "Failed\n",
      "\n",
      "mouse547867/rec1_2020-11-20_12-42-21/experiment1/recording1/continuous/Neuropix-PXI-152.0/continuous.dat\n",
      "Failed\n",
      "\n",
      "mouse547867/rec1_2020-11-20_12-42-21/experiment1/recording1/continuous/Neuropix-PXI-152.1/continuous.dat\n",
      "Failed\n",
      "\n",
      "test_NP4/test_v0.5.3_2021-01-20_18-28-06/Record Node 105/experiment1/recording1/continuous/Neuropix-PXI-100.2/continuous.dat\n",
      "Failed\n",
      "\n",
      "test_NP4/test_v0.5.3_2021-01-20_18-28-06/Record Node 105/experiment1/recording1/continuous/Neuropix-PXI-100.3/continuous.dat\n",
      "Failed\n",
      "\n",
      "test_NP4/test_v0.5.3_2021-01-20_18-28-06/Record Node 105/experiment1/recording1/continuous/Neuropix-PXI-100.4/continuous.dat\n",
      "Failed\n",
      "\n",
      "test_NP4/test_v0.5.3_2021-01-20_18-28-06/Record Node 105/experiment1/recording1/continuous/Neuropix-PXI-100.0/continuous.dat\n",
      "Failed\n",
      "\n",
      "test_NP4/test_v0.5.3_2021-01-20_18-28-06/Record Node 105/experiment1/recording1/continuous/Neuropix-PXI-100.5/continuous.dat\n",
      "Failed\n",
      "\n",
      "test_NP4/test_v0.5.3_2021-01-20_18-28-06/Record Node 105/experiment1/recording1/continuous/Neuropix-PXI-100.1/continuous.dat\n",
      "Failed\n",
      "\n",
      "test_NP4/test_v0.4.6_2021-01-20_18-40-52/experiment1/recording1/continuous/Neuropix-PXI-158.4/continuous.dat\n",
      "Failed\n",
      "\n",
      "test_NP4/test_v0.4.6_2021-01-20_18-40-52/experiment1/recording1/continuous/Neuropix-PXI-158.3/continuous.dat\n",
      "Failed\n",
      "\n",
      "test_NP4/test_v0.4.6_2021-01-20_18-40-52/experiment1/recording1/continuous/Neuropix-PXI-158.2/continuous.dat\n",
      "Failed\n",
      "\n",
      "test_NP4/test_v0.4.6_2021-01-20_18-40-52/experiment1/recording1/continuous/Neuropix-PXI-158.0/continuous.dat\n",
      "Failed\n",
      "\n",
      "test_NP4/mouse000000/test2_2021-07-20_16-27-20/Record Node 101/experiment1/recording1/continuous/Neuropix-PXI-100.2/continuous.dat\n",
      "Failed\n",
      "\n",
      "test_NP4/mouse000000/test2_2021-07-20_16-27-20/Record Node 101/experiment1/recording1/continuous/Neuropix-PXI-100.3/continuous.dat\n",
      "Failed\n",
      "\n",
      "test_NP4/mouse000000/test2_2021-07-20_16-27-20/Record Node 101/experiment1/recording1/continuous/Neuropix-PXI-100.4/continuous.dat\n",
      "Failed\n",
      "\n",
      "test_NP4/mouse000000/test2_2021-07-20_16-27-20/Record Node 101/experiment1/recording1/continuous/Neuropix-PXI-100.0/continuous.dat\n",
      "Failed\n",
      "\n",
      "test_NP4/mouse000000/test2_2021-07-20_16-27-20/Record Node 101/experiment1/recording1/continuous/Neuropix-PXI-100.5/continuous.dat\n",
      "Failed\n",
      "\n",
      "test_NP4/mouse000000/test2_2021-07-20_16-27-20/Record Node 101/experiment1/recording1/continuous/Neuropix-PXI-100.1/continuous.dat\n",
      "Failed\n",
      "\n",
      "test_NP4/mouse000000/test1_2021-07-20_16-17-05/Record Node 101/experiment1/recording1/continuous/Neuropix-PXI-100.2/continuous.dat\n",
      "Failed\n",
      "\n",
      "test_NP4/mouse000000/test1_2021-07-20_16-17-05/Record Node 101/experiment1/recording1/continuous/Neuropix-PXI-100.3/continuous.dat\n",
      "Failed\n",
      "\n",
      "test_NP4/mouse000000/test1_2021-07-20_16-17-05/Record Node 101/experiment1/recording1/continuous/Neuropix-PXI-100.4/continuous.dat\n",
      "Failed\n",
      "\n",
      "test_NP4/mouse000000/test1_2021-07-20_16-17-05/Record Node 101/experiment1/recording1/continuous/Neuropix-PXI-100.0/continuous.dat\n",
      "Failed\n",
      "\n",
      "test_NP4/mouse000000/test1_2021-07-20_16-17-05/Record Node 101/experiment1/recording1/continuous/Neuropix-PXI-100.5/continuous.dat\n",
      "Failed\n",
      "\n",
      "test_NP4/mouse000000/test1_2021-07-20_16-17-05/Record Node 101/experiment1/recording1/continuous/Neuropix-PXI-100.1/continuous.dat\n",
      "Failed\n",
      "\n",
      "test_NP4/mouse000000/test3_2021-07-20_16-34-15/Record Node 101/experiment1/recording1/continuous/Neuropix-PXI-100.2/continuous.dat\n",
      "Failed\n",
      "\n",
      "test_NP4/mouse000000/test3_2021-07-20_16-34-15/Record Node 101/experiment1/recording1/continuous/Neuropix-PXI-100.3/continuous.dat\n",
      "Failed\n",
      "\n",
      "test_NP4/mouse000000/test3_2021-07-20_16-34-15/Record Node 101/experiment1/recording1/continuous/Neuropix-PXI-100.4/continuous.dat\n",
      "Failed\n",
      "\n",
      "test_NP4/mouse000000/test3_2021-07-20_16-34-15/Record Node 101/experiment1/recording1/continuous/Neuropix-PXI-100.0/continuous.dat\n",
      "Failed\n",
      "\n",
      "test_NP4/mouse000000/test3_2021-07-20_16-34-15/Record Node 101/experiment1/recording1/continuous/Neuropix-PXI-100.5/continuous.dat\n",
      "Failed\n",
      "\n",
      "test_NP4/mouse000000/test3_2021-07-20_16-34-15/Record Node 101/experiment1/recording1/continuous/Neuropix-PXI-100.1/continuous.dat\n",
      "Failed\n",
      "\n",
      "test_NP4/mouse000000/test5_2021-07-20_16-44-50/Record Node 101/experiment1/recording1/continuous/Neuropix-PXI-100.2/continuous.dat\n",
      "Failed\n",
      "\n",
      "test_NP4/mouse000000/test5_2021-07-20_16-44-50/Record Node 101/experiment1/recording1/continuous/Neuropix-PXI-100.3/continuous.dat\n",
      "Failed\n",
      "\n",
      "test_NP4/mouse000000/test5_2021-07-20_16-44-50/Record Node 101/experiment1/recording1/continuous/Neuropix-PXI-100.4/continuous.dat\n",
      "Failed\n",
      "\n",
      "test_NP4/mouse000000/test5_2021-07-20_16-44-50/Record Node 101/experiment1/recording1/continuous/Neuropix-PXI-100.0/continuous.dat\n",
      "Failed\n",
      "\n",
      "test_NP4/mouse000000/test5_2021-07-20_16-44-50/Record Node 101/experiment1/recording1/continuous/Neuropix-PXI-100.5/continuous.dat\n",
      "Failed\n",
      "\n",
      "test_NP4/mouse000000/test5_2021-07-20_16-44-50/Record Node 101/experiment1/recording1/continuous/Neuropix-PXI-100.1/continuous.dat\n",
      "Failed\n",
      "\n",
      "test_NP4/mouse000000/test4_2021-07-20_16-42-13/Record Node 101/experiment1/recording1/continuous/Neuropix-PXI-100.2/continuous.dat\n",
      "Failed\n",
      "\n",
      "test_NP4/mouse000000/test4_2021-07-20_16-42-13/Record Node 101/experiment1/recording1/continuous/Neuropix-PXI-100.3/continuous.dat\n",
      "Failed\n",
      "\n",
      "test_NP4/mouse000000/test4_2021-07-20_16-42-13/Record Node 101/experiment1/recording1/continuous/Neuropix-PXI-100.4/continuous.dat\n",
      "Failed\n",
      "\n",
      "test_NP4/mouse000000/test4_2021-07-20_16-42-13/Record Node 101/experiment1/recording1/continuous/Neuropix-PXI-100.0/continuous.dat\n",
      "Failed\n",
      "\n",
      "test_NP4/mouse000000/test4_2021-07-20_16-42-13/Record Node 101/experiment1/recording1/continuous/Neuropix-PXI-100.5/continuous.dat\n",
      "Failed\n",
      "\n",
      "test_NP4/mouse000000/test4_2021-07-20_16-42-13/Record Node 101/experiment1/recording1/continuous/Neuropix-PXI-100.1/continuous.dat\n",
      "Failed\n",
      "\n",
      "test_opto_saline/saline_test_2022-06-01_16-28-10/experiment1/recording1/continuous/Neuropix-PXI-109.0/continuous.dat\n",
      "Failed\n",
      "\n",
      "test_opto_saline/saline_test_2022-06-01_16-28-10/experiment1/recording1/continuous/Neuropix-PXI-109.1/continuous.dat\n",
      "Failed\n",
      "\n",
      "test_opto_saline/saline_test2_20220616/estim_only_test/estim_2022-06-16_13-01-26/Record Node 101/experiment1/recording1/continuous/Neuropix-PXI-100.2/continuous.dat\n",
      "Failed\n",
      "\n",
      "test_opto_saline/saline_test2_20220616/estim_only_test/estim_2022-06-16_13-01-26/Record Node 101/experiment1/recording1/continuous/Neuropix-PXI-100.3/continuous.dat\n",
      "Failed\n",
      "\n",
      "test_opto_saline/saline_test2_20220616/estim_only_test/estim_2022-06-16_13-01-26/Record Node 101/experiment1/recording1/continuous/Neuropix-PXI-100.4/continuous.dat\n",
      "Failed\n",
      "\n",
      "test_opto_saline/saline_test2_20220616/estim_only_test/estim_2022-06-16_13-01-26/Record Node 101/experiment1/recording1/continuous/Neuropix-PXI-100.0/continuous.dat\n",
      "Failed\n",
      "\n",
      "test_opto_saline/saline_test2_20220616/estim_only_test/estim_2022-06-16_13-01-26/Record Node 101/experiment1/recording1/continuous/Neuropix-PXI-100.5/continuous.dat\n",
      "Failed\n",
      "\n",
      "test_opto_saline/saline_test2_20220616/estim_only_test/estim_2022-06-16_13-01-26/Record Node 101/experiment1/recording1/continuous/Neuropix-PXI-100.1/continuous.dat\n",
      "Failed\n",
      "\n",
      "mouse635397/estim_vis_2022-08-18_12-08-15/experiment1/recording1/continuous/Acquisition_Board-101.Rhythm Data/continuous.dat\n",
      "Failed\n",
      "\n",
      "mouse635397/signal_test_2022-07-29_13-59-15/experiment1/recording1/continuous/Rhythm_FPGA-101.0/continuous.dat\n",
      "Failed\n",
      "\n",
      "mouse546658/NpxC_extRef_lighOFF_2020-10-30_14-58-04/experiment1/recording1/continuous/Neuropix-PXI-129.2/continuous.dat\n",
      "Failed\n",
      "\n",
      "mouse546658/NpxC_extRef_lighOFF_2020-10-30_14-58-04/experiment1/recording1/continuous/Neuropix-PXI-129.3/continuous.dat\n",
      "Failed\n",
      "\n",
      "mouse546658/NpxC_extRef_lighON_2020-10-30_15-01-03/experiment1/recording1/continuous/Neuropix-PXI-129.2/continuous.dat\n",
      "Failed\n",
      "\n",
      "mouse546658/NpxC_extRef_lighON_2020-10-30_15-01-03/experiment1/recording1/continuous/Neuropix-PXI-129.3/continuous.dat\n",
      "Failed\n",
      "\n",
      "mouse546658/NpxC_TipRef_lighOFF_2020-10-30_15-11-05/experiment1/recording1/continuous/Neuropix-PXI-129.2/continuous.dat\n",
      "Failed\n",
      "\n",
      "mouse546658/NpxC_TipRef_lighOFF_2020-10-30_15-11-05/experiment1/recording1/continuous/Neuropix-PXI-129.3/continuous.dat\n",
      "Failed\n",
      "\n",
      "mouse599975/signal_test_2022-02-08_13-19-49/experiment1/recording1/continuous/Acquisition_Board-100_Device Data/continuous.dat\n",
      "Failed\n",
      "\n",
      "mouse633552/signal_test_2022-08-25_13-39-11/experiment1/recording1/continuous/Acquisition_Board-100.Rhythm Data/continuous.dat\n",
      "Failed\n",
      "\n",
      "mouse633552/signal_test_2022-08-16_15-36-34/experiment1/recording1/continuous/Acquisition_Board-103.Rhythm Data/continuous.dat\n",
      "Failed\n",
      "\n",
      "\n"
     ]
    }
   ],
   "source": [
    "# downsample EEG files from 2500 Hz to 500 Hz\n",
    "\n",
    "for fn in tqdm(cont_files):\n",
    "    if 'recording' in fn and not path.exists(fn.replace(source_path, dest_path)):\n",
    "        print(fn.split('EEG_exp/')[1])\n",
    "        try:\n",
    "            infofiles = sorted(\n",
    "                glob(\n",
    "                    path.dirname(path.dirname(path.dirname(fn))) + '/structure.oebin', recursive=True\n",
    "                )\n",
    "            )\n",
    "            Info = literal_eval(open(infofiles[0]).read())\n",
    "            Rhythm_info = next((\n",
    "                sub for sub in Info['continuous'] if sub['source_processor_name'] == 'Rhythm FPGA'\n",
    "            ), None)\n",
    "            sample_rate = Rhythm_info['sample_rate']\n",
    "            num_chs = Rhythm_info['num_channels']\n",
    "            channels = np.arange(num_chs, dtype='int')\n",
    "\n",
    "            data = np.memmap(fn, dtype='int16', mode='r')\n",
    "            data = data.reshape((int(data.size/num_chs), num_chs))\n",
    "\n",
    "            print(f'sample rate: {sample_rate}, num_chs: {num_chs}, total time: {int(data.size/num_chs)/sample_rate}\\n')\n",
    "\n",
    "            data_ss = subsampling.subsample_lfp(data, channels, subsampling_factor=sample_rate//500)\n",
    "            np.save(fn.replace(source_path, dest_path), data_ss)\n",
    "            \n",
    "            os.rename(\n",
    "                fn.replace(source_path, dest_path)+'.npy',\n",
    "                fn.replace(source_path, dest_path)\n",
    "            )\n",
    "        except:\n",
    "            print('Failed\\n')"
   ]
  },
  {
   "cell_type": "code",
   "execution_count": 9,
   "metadata": {
    "execution": {
     "iopub.execute_input": "2022-10-29T06:05:46.268584Z",
     "iopub.status.busy": "2022-10-29T06:05:46.267699Z",
     "iopub.status.idle": "2022-10-29T06:05:47.157147Z",
     "shell.execute_reply": "2022-10-29T06:05:47.154295Z",
     "shell.execute_reply.started": "2022-10-29T06:05:46.268461Z"
    },
    "tags": []
   },
   "outputs": [
    {
     "data": {
      "application/vnd.jupyter.widget-view+json": {
       "model_id": "9d8261d19741431a87033fba0ddb7269",
       "version_major": 2,
       "version_minor": 0
      },
      "text/plain": [
       "HBox(children=(FloatProgress(value=0.0, max=572.0), HTML(value='')))"
      ]
     },
     "metadata": {},
     "output_type": "display_data"
    },
    {
     "name": "stdout",
     "output_type": "stream",
     "text": [
      "\n"
     ]
    }
   ],
   "source": [
    "# downsample LFP files from 2500 Hz to 500 Hz\n",
    "\n",
    "for fn in tqdm(cont_files):\n",
    "    if 'probe' in fn and not path.exists(fn.replace(source_path, dest_path)):\n",
    "        if '100.0' in fn:\n",
    "            # skip AP recordings and only downsample LFP band recordings\n",
    "            continue\n",
    "        print(fn.split('EEG_exp/')[1], end=', ')\n",
    "        print(fn[fn.find('probe'):fn.find('probe')+6])\n",
    "        try:\n",
    "            sample_rate = 2500\n",
    "            num_chs = 384\n",
    "            channels = np.arange(0, num_chs, 4, dtype=int) # alternate rows one channel per row\n",
    "\n",
    "            data = np.memmap(fn, dtype='int16', mode='r')\n",
    "            data = np.reshape(data, (int(data.size/num_chs), num_chs))\n",
    "\n",
    "            print(f'sample rate: {sample_rate}, num_chs: {num_chs}, total time: {int(data.size/num_chs)/sample_rate}\\n')\n",
    "\n",
    "            data_ss = subsampling.subsample_lfp(data, channels, subsampling_factor=sample_rate//500)\n",
    "            np.save(fn.replace(source_path, dest_path), data_ss)\n",
    "            \n",
    "            os.rename(\n",
    "                fn.replace(source_path, dest_path)+'.npy',\n",
    "                fn.replace(source_path, dest_path)\n",
    "            )\n",
    "        except:\n",
    "            print('Failed\\n')"
   ]
  },
  {
   "cell_type": "code",
   "execution_count": null,
   "metadata": {},
   "outputs": [],
   "source": []
  }
 ],
 "metadata": {
  "kernelspec": {
   "display_name": "zapnzip",
   "language": "python",
   "name": "zapnzip"
  },
  "language_info": {
   "codemirror_mode": {
    "name": "ipython",
    "version": 3
   },
   "file_extension": ".py",
   "mimetype": "text/x-python",
   "name": "python",
   "nbconvert_exporter": "python",
   "pygments_lexer": "ipython3",
   "version": "3.7.4"
  },
  "widgets": {
   "application/vnd.jupyter.widget-state+json": {
    "state": {},
    "version_major": 2,
    "version_minor": 0
   }
  }
 },
 "nbformat": 4,
 "nbformat_minor": 4
}
