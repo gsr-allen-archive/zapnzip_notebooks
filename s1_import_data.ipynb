{
 "cells": [
  {
   "cell_type": "code",
   "execution_count": 1,
   "metadata": {
    "collapsed": true,
    "jupyter": {
     "outputs_hidden": true
    }
   },
   "outputs": [],
   "source": [
    "import os\n",
    "from os import path\n",
    "from glob import glob\n",
    "\n",
    "import numpy as np\n",
    "import pandas as pd\n",
    "from scipy import signal\n",
    "import json\n",
    "import matplotlib.pyplot as plt\n",
    "from matplotlib import cm\n",
    "\n",
    "%matplotlib widget"
   ]
  },
  {
   "cell_type": "code",
   "execution_count": 2,
   "metadata": {
    "collapsed": true,
    "jupyter": {
     "outputs_hidden": true
    }
   },
   "outputs": [],
   "source": [
    "data_dir = '../data/eeg_pilot/mouse497154/pilot2_2020.01.15/recording1/'\n",
    "eeg_cont_dir = path.join(data_dir, 'continuous/Rhythm_FPGA-111.0/*')\n",
    "eeg_evnt_dir = path.join(data_dir, 'events/Rhythm_FPGA-111.0/TTL_1/*')\n",
    "eeg_mesg_dir = path.join(data_dir, 'events/Message_Center-904.0/TEXT_group_1/*')"
   ]
  },
  {
   "cell_type": "code",
   "execution_count": 3,
   "metadata": {
    "collapsed": true,
    "jupyter": {
     "outputs_hidden": true
    }
   },
   "outputs": [],
   "source": [
    "def plot_ts(ts, ax, **kwargs):\n",
    "    if 'label' not in kwargs.keys():\n",
    "        kwargs.update(label='ch%s'%ts.name)\n",
    "    ts.plot(ax=ax, **kwargs)\n",
    "    ax.legend(loc=1, fontsize=8)\n",
    "    return\n",
    "\n",
    "def plot_psd(ts, ax, **kwargs):\n",
    "    if 'label' not in kwargs.keys():\n",
    "        kwargs.update(label='ch%s'%ts.name)\n",
    "    ax.psd(ts, **kwargs)\n",
    "    ax.legend(loc=1)\n",
    "    return"
   ]
  },
  {
   "cell_type": "markdown",
   "metadata": {},
   "source": [
    "# Data streams from EEG recording"
   ]
  },
  {
   "cell_type": "markdown",
   "metadata": {
    "collapsed": "false"
   },
   "source": [
    "## Metadata\n",
    "Extracted from ```structure.oebin``` file."
   ]
  },
  {
   "cell_type": "code",
   "execution_count": 4,
   "metadata": {
    "collapsed": true,
    "jupyter": {
     "outputs_hidden": true
    },
    "scrolled": true
   },
   "outputs": [
    {
     "name": "stdout",
     "output_type": "stream",
     "text": [
      "Start time: 9400320\n",
      "Sample rate: 10000 Hz\n",
      "All metadata:\n"
     ]
    },
    {
     "data": {
      "text/plain": [
       "{'GUI version': '0.4.5',\n",
       " 'continuous': [{'folder_name': 'Rhythm_FPGA-111.0/',\n",
       "   'sample_rate': 10000,\n",
       "   'source_processor_name': 'Rhythm FPGA',\n",
       "   'source_processor_id': 111,\n",
       "   'source_processor_sub_idx': 0,\n",
       "   'recorded_processor': 'Rhythm FPGA',\n",
       "   'recorded_processor_id': 111,\n",
       "   'num_channels': 32,\n",
       "   'channels': [{'channel_name': 'CH1',\n",
       "     'description': 'Headstage data channel',\n",
       "     'identifier': 'genericdata.continuous',\n",
       "     'history': 'Rhythm FPGA',\n",
       "     'bit_volts': 0.19499999284744263,\n",
       "     'units': 'uV',\n",
       "     'source_processor_index': 0,\n",
       "     'recorded_processor_index': 0},\n",
       "    {'channel_name': 'CH2',\n",
       "     'description': 'Headstage data channel',\n",
       "     'identifier': 'genericdata.continuous',\n",
       "     'history': 'Rhythm FPGA',\n",
       "     'bit_volts': 0.19499999284744263,\n",
       "     'units': 'uV',\n",
       "     'source_processor_index': 1,\n",
       "     'recorded_processor_index': 1},\n",
       "    {'channel_name': 'CH3',\n",
       "     'description': 'Headstage data channel',\n",
       "     'identifier': 'genericdata.continuous',\n",
       "     'history': 'Rhythm FPGA',\n",
       "     'bit_volts': 0.19499999284744263,\n",
       "     'units': 'uV',\n",
       "     'source_processor_index': 2,\n",
       "     'recorded_processor_index': 2},\n",
       "    {'channel_name': 'CH4',\n",
       "     'description': 'Headstage data channel',\n",
       "     'identifier': 'genericdata.continuous',\n",
       "     'history': 'Rhythm FPGA',\n",
       "     'bit_volts': 0.19499999284744263,\n",
       "     'units': 'uV',\n",
       "     'source_processor_index': 3,\n",
       "     'recorded_processor_index': 3},\n",
       "    {'channel_name': 'CH5',\n",
       "     'description': 'Headstage data channel',\n",
       "     'identifier': 'genericdata.continuous',\n",
       "     'history': 'Rhythm FPGA',\n",
       "     'bit_volts': 0.19499999284744263,\n",
       "     'units': 'uV',\n",
       "     'source_processor_index': 4,\n",
       "     'recorded_processor_index': 4},\n",
       "    {'channel_name': 'CH6',\n",
       "     'description': 'Headstage data channel',\n",
       "     'identifier': 'genericdata.continuous',\n",
       "     'history': 'Rhythm FPGA',\n",
       "     'bit_volts': 0.19499999284744263,\n",
       "     'units': 'uV',\n",
       "     'source_processor_index': 5,\n",
       "     'recorded_processor_index': 5},\n",
       "    {'channel_name': 'CH7',\n",
       "     'description': 'Headstage data channel',\n",
       "     'identifier': 'genericdata.continuous',\n",
       "     'history': 'Rhythm FPGA',\n",
       "     'bit_volts': 0.19499999284744263,\n",
       "     'units': 'uV',\n",
       "     'source_processor_index': 6,\n",
       "     'recorded_processor_index': 6},\n",
       "    {'channel_name': 'CH8',\n",
       "     'description': 'Headstage data channel',\n",
       "     'identifier': 'genericdata.continuous',\n",
       "     'history': 'Rhythm FPGA',\n",
       "     'bit_volts': 0.19499999284744263,\n",
       "     'units': 'uV',\n",
       "     'source_processor_index': 7,\n",
       "     'recorded_processor_index': 7},\n",
       "    {'channel_name': 'CH9',\n",
       "     'description': 'Headstage data channel',\n",
       "     'identifier': 'genericdata.continuous',\n",
       "     'history': 'Rhythm FPGA',\n",
       "     'bit_volts': 0.19499999284744263,\n",
       "     'units': 'uV',\n",
       "     'source_processor_index': 8,\n",
       "     'recorded_processor_index': 8},\n",
       "    {'channel_name': 'CH10',\n",
       "     'description': 'Headstage data channel',\n",
       "     'identifier': 'genericdata.continuous',\n",
       "     'history': 'Rhythm FPGA',\n",
       "     'bit_volts': 0.19499999284744263,\n",
       "     'units': 'uV',\n",
       "     'source_processor_index': 9,\n",
       "     'recorded_processor_index': 9},\n",
       "    {'channel_name': 'CH11',\n",
       "     'description': 'Headstage data channel',\n",
       "     'identifier': 'genericdata.continuous',\n",
       "     'history': 'Rhythm FPGA',\n",
       "     'bit_volts': 0.19499999284744263,\n",
       "     'units': 'uV',\n",
       "     'source_processor_index': 10,\n",
       "     'recorded_processor_index': 10},\n",
       "    {'channel_name': 'CH12',\n",
       "     'description': 'Headstage data channel',\n",
       "     'identifier': 'genericdata.continuous',\n",
       "     'history': 'Rhythm FPGA',\n",
       "     'bit_volts': 0.19499999284744263,\n",
       "     'units': 'uV',\n",
       "     'source_processor_index': 11,\n",
       "     'recorded_processor_index': 11},\n",
       "    {'channel_name': 'CH13',\n",
       "     'description': 'Headstage data channel',\n",
       "     'identifier': 'genericdata.continuous',\n",
       "     'history': 'Rhythm FPGA',\n",
       "     'bit_volts': 0.19499999284744263,\n",
       "     'units': 'uV',\n",
       "     'source_processor_index': 12,\n",
       "     'recorded_processor_index': 12},\n",
       "    {'channel_name': 'CH14',\n",
       "     'description': 'Headstage data channel',\n",
       "     'identifier': 'genericdata.continuous',\n",
       "     'history': 'Rhythm FPGA',\n",
       "     'bit_volts': 0.19499999284744263,\n",
       "     'units': 'uV',\n",
       "     'source_processor_index': 13,\n",
       "     'recorded_processor_index': 13},\n",
       "    {'channel_name': 'CH15',\n",
       "     'description': 'Headstage data channel',\n",
       "     'identifier': 'genericdata.continuous',\n",
       "     'history': 'Rhythm FPGA',\n",
       "     'bit_volts': 0.19499999284744263,\n",
       "     'units': 'uV',\n",
       "     'source_processor_index': 14,\n",
       "     'recorded_processor_index': 14},\n",
       "    {'channel_name': 'CH16',\n",
       "     'description': 'Headstage data channel',\n",
       "     'identifier': 'genericdata.continuous',\n",
       "     'history': 'Rhythm FPGA',\n",
       "     'bit_volts': 0.19499999284744263,\n",
       "     'units': 'uV',\n",
       "     'source_processor_index': 15,\n",
       "     'recorded_processor_index': 15},\n",
       "    {'channel_name': 'CH17',\n",
       "     'description': 'Headstage data channel',\n",
       "     'identifier': 'genericdata.continuous',\n",
       "     'history': 'Rhythm FPGA',\n",
       "     'bit_volts': 0.19499999284744263,\n",
       "     'units': 'uV',\n",
       "     'source_processor_index': 16,\n",
       "     'recorded_processor_index': 16},\n",
       "    {'channel_name': 'CH18',\n",
       "     'description': 'Headstage data channel',\n",
       "     'identifier': 'genericdata.continuous',\n",
       "     'history': 'Rhythm FPGA',\n",
       "     'bit_volts': 0.19499999284744263,\n",
       "     'units': 'uV',\n",
       "     'source_processor_index': 17,\n",
       "     'recorded_processor_index': 17},\n",
       "    {'channel_name': 'CH19',\n",
       "     'description': 'Headstage data channel',\n",
       "     'identifier': 'genericdata.continuous',\n",
       "     'history': 'Rhythm FPGA',\n",
       "     'bit_volts': 0.19499999284744263,\n",
       "     'units': 'uV',\n",
       "     'source_processor_index': 18,\n",
       "     'recorded_processor_index': 18},\n",
       "    {'channel_name': 'CH20',\n",
       "     'description': 'Headstage data channel',\n",
       "     'identifier': 'genericdata.continuous',\n",
       "     'history': 'Rhythm FPGA',\n",
       "     'bit_volts': 0.19499999284744263,\n",
       "     'units': 'uV',\n",
       "     'source_processor_index': 19,\n",
       "     'recorded_processor_index': 19},\n",
       "    {'channel_name': 'CH21',\n",
       "     'description': 'Headstage data channel',\n",
       "     'identifier': 'genericdata.continuous',\n",
       "     'history': 'Rhythm FPGA',\n",
       "     'bit_volts': 0.19499999284744263,\n",
       "     'units': 'uV',\n",
       "     'source_processor_index': 20,\n",
       "     'recorded_processor_index': 20},\n",
       "    {'channel_name': 'CH22',\n",
       "     'description': 'Headstage data channel',\n",
       "     'identifier': 'genericdata.continuous',\n",
       "     'history': 'Rhythm FPGA',\n",
       "     'bit_volts': 0.19499999284744263,\n",
       "     'units': 'uV',\n",
       "     'source_processor_index': 21,\n",
       "     'recorded_processor_index': 21},\n",
       "    {'channel_name': 'CH23',\n",
       "     'description': 'Headstage data channel',\n",
       "     'identifier': 'genericdata.continuous',\n",
       "     'history': 'Rhythm FPGA',\n",
       "     'bit_volts': 0.19499999284744263,\n",
       "     'units': 'uV',\n",
       "     'source_processor_index': 22,\n",
       "     'recorded_processor_index': 22},\n",
       "    {'channel_name': 'CH24',\n",
       "     'description': 'Headstage data channel',\n",
       "     'identifier': 'genericdata.continuous',\n",
       "     'history': 'Rhythm FPGA',\n",
       "     'bit_volts': 0.19499999284744263,\n",
       "     'units': 'uV',\n",
       "     'source_processor_index': 23,\n",
       "     'recorded_processor_index': 23},\n",
       "    {'channel_name': 'CH25',\n",
       "     'description': 'Headstage data channel',\n",
       "     'identifier': 'genericdata.continuous',\n",
       "     'history': 'Rhythm FPGA',\n",
       "     'bit_volts': 0.19499999284744263,\n",
       "     'units': 'uV',\n",
       "     'source_processor_index': 24,\n",
       "     'recorded_processor_index': 24},\n",
       "    {'channel_name': 'CH26',\n",
       "     'description': 'Headstage data channel',\n",
       "     'identifier': 'genericdata.continuous',\n",
       "     'history': 'Rhythm FPGA',\n",
       "     'bit_volts': 0.19499999284744263,\n",
       "     'units': 'uV',\n",
       "     'source_processor_index': 25,\n",
       "     'recorded_processor_index': 25},\n",
       "    {'channel_name': 'CH27',\n",
       "     'description': 'Headstage data channel',\n",
       "     'identifier': 'genericdata.continuous',\n",
       "     'history': 'Rhythm FPGA',\n",
       "     'bit_volts': 0.19499999284744263,\n",
       "     'units': 'uV',\n",
       "     'source_processor_index': 26,\n",
       "     'recorded_processor_index': 26},\n",
       "    {'channel_name': 'CH28',\n",
       "     'description': 'Headstage data channel',\n",
       "     'identifier': 'genericdata.continuous',\n",
       "     'history': 'Rhythm FPGA',\n",
       "     'bit_volts': 0.19499999284744263,\n",
       "     'units': 'uV',\n",
       "     'source_processor_index': 27,\n",
       "     'recorded_processor_index': 27},\n",
       "    {'channel_name': 'CH29',\n",
       "     'description': 'Headstage data channel',\n",
       "     'identifier': 'genericdata.continuous',\n",
       "     'history': 'Rhythm FPGA',\n",
       "     'bit_volts': 0.19499999284744263,\n",
       "     'units': 'uV',\n",
       "     'source_processor_index': 28,\n",
       "     'recorded_processor_index': 28},\n",
       "    {'channel_name': 'CH30',\n",
       "     'description': 'Headstage data channel',\n",
       "     'identifier': 'genericdata.continuous',\n",
       "     'history': 'Rhythm FPGA',\n",
       "     'bit_volts': 0.19499999284744263,\n",
       "     'units': 'uV',\n",
       "     'source_processor_index': 29,\n",
       "     'recorded_processor_index': 29},\n",
       "    {'channel_name': 'CH31',\n",
       "     'description': 'Headstage data channel',\n",
       "     'identifier': 'genericdata.continuous',\n",
       "     'history': 'Rhythm FPGA',\n",
       "     'bit_volts': 0.19499999284744263,\n",
       "     'units': 'uV',\n",
       "     'source_processor_index': 30,\n",
       "     'recorded_processor_index': 30},\n",
       "    {'channel_name': 'CH32',\n",
       "     'description': 'Headstage data channel',\n",
       "     'identifier': 'genericdata.continuous',\n",
       "     'history': 'Rhythm FPGA',\n",
       "     'bit_volts': 0.19499999284744263,\n",
       "     'units': 'uV',\n",
       "     'source_processor_index': 31,\n",
       "     'recorded_processor_index': 31}]}],\n",
       " 'events': [{'folder_name': 'Rhythm_FPGA-111.0/TTL_1/',\n",
       "   'channel_name': 'Rhythm FPGA source TTL events input',\n",
       "   'description': 'TTL Events coming from the hardware source processor \"Rhythm FPGA\"',\n",
       "   'identifier': 'sourceevent',\n",
       "   'sample_rate': 10000,\n",
       "   'type': 'int16',\n",
       "   'num_channels': 8,\n",
       "   'source_processor': 'Rhythm FPGA'},\n",
       "  {'folder_name': 'Message_Center-904.0/TEXT_group_1/',\n",
       "   'channel_name': 'GUI Messages',\n",
       "   'description': 'Messages from the GUI Message Center',\n",
       "   'identifier': 'genericevent',\n",
       "   'sample_rate': 10000,\n",
       "   'type': 'string',\n",
       "   'num_channels': 1,\n",
       "   'source_processor': 'Message Center'}],\n",
       " 'spikes': []}"
      ]
     },
     "execution_count": 4,
     "metadata": {},
     "output_type": "execute_result"
    }
   ],
   "source": [
    "with open(path.join(data_dir, 'structure.oebin'), 'r') as f:\n",
    "    metadata = json.load(f)\n",
    "# SAMPLE_RATE = metadata['continuous'][0]['sample_rate']\n",
    "BIT_VOLTS = {x['recorded_processor_index'] : x['bit_volts'] for x in metadata['continuous'][0]['channels']}\n",
    "with open(path.join(data_dir, 'sync_messages.txt'), 'r') as f:\n",
    "    lines = f.readlines()\n",
    "start_time = lines[1].split(':')[-1][:-1]\n",
    "START_TIME = int(start_time.split('@')[0])\n",
    "SAMPLE_RATE = int(start_time.split('@')[1][:-2])\n",
    "print('Start time: %d\\nSample rate: %d Hz\\nAll metadata:'%(START_TIME, SAMPLE_RATE))\n",
    "metadata"
   ]
  },
  {
   "cell_type": "code",
   "execution_count": 5,
   "metadata": {
    "collapsed": true,
    "jupyter": {
     "outputs_hidden": true
    }
   },
   "outputs": [
    {
     "name": "stdout",
     "output_type": "stream",
     "text": [
      "Continuous datasets:\n",
      "['continuous.dat', 'timestamps.npy']\n",
      "Events datasets:\n",
      "['timestamps.npy', 'channel_states.npy', 'full_words.npy', 'channels.npy']\n",
      "Message datasets:\n",
      "['timestamps.npy', 'text.npy', 'channels.npy']\n"
     ]
    }
   ],
   "source": [
    "print('Continuous datasets:')\n",
    "print([path.basename(x) for x in glob(eeg_cont_dir)])\n",
    "print('Events datasets:')\n",
    "print([path.basename(x) for x in glob(eeg_evnt_dir)])\n",
    "print('Message datasets:')\n",
    "print([path.basename(x) for x in glob(eeg_mesg_dir)])"
   ]
  },
  {
   "cell_type": "markdown",
   "metadata": {
    "collapsed": "false"
   },
   "source": [
    "## Message dataset"
   ]
  },
  {
   "cell_type": "code",
   "execution_count": 6,
   "metadata": {
    "collapsed": true,
    "jupyter": {
     "outputs_hidden": true
    }
   },
   "outputs": [
    {
     "data": {
      "text/html": [
       "<div>\n",
       "<style scoped>\n",
       "    .dataframe tbody tr th:only-of-type {\n",
       "        vertical-align: middle;\n",
       "    }\n",
       "\n",
       "    .dataframe tbody tr th {\n",
       "        vertical-align: top;\n",
       "    }\n",
       "\n",
       "    .dataframe thead th {\n",
       "        text-align: right;\n",
       "    }\n",
       "</style>\n",
       "<table border=\"1\" class=\"dataframe\">\n",
       "  <thead>\n",
       "    <tr style=\"text-align: right;\">\n",
       "      <th></th>\n",
       "      <th>text</th>\n",
       "      <th>channels</th>\n",
       "    </tr>\n",
       "    <tr>\n",
       "      <th>timestamps</th>\n",
       "      <th></th>\n",
       "      <th></th>\n",
       "    </tr>\n",
       "  </thead>\n",
       "  <tbody>\n",
       "    <tr>\n",
       "      <th>727.5008</th>\n",
       "      <td>isoo on T 5%</td>\n",
       "      <td>1</td>\n",
       "    </tr>\n",
       "    <tr>\n",
       "      <th>931.2768</th>\n",
       "      <td>iso on 2%</td>\n",
       "      <td>1</td>\n",
       "    </tr>\n",
       "    <tr>\n",
       "      <th>1689.3440</th>\n",
       "      <td>iso oFF</td>\n",
       "      <td>1</td>\n",
       "    </tr>\n",
       "  </tbody>\n",
       "</table>\n",
       "</div>"
      ],
      "text/plain": [
       "                    text  channels\n",
       "timestamps                        \n",
       "727.5008    isoo on T 5%         1\n",
       "931.2768       iso on 2%         1\n",
       "1689.3440        iso oFF         1"
      ]
     },
     "execution_count": 6,
     "metadata": {},
     "output_type": "execute_result"
    }
   ],
   "source": [
    "dataset = eeg_mesg_dir\n",
    "messages = pd.DataFrame({\n",
    "    x.replace('.npy', '') : np.load(path.join(dataset[:-1], x))\\\n",
    "    for x in [path.basename(x) for x in glob(dataset)]\n",
    "})\n",
    "messages.timestamps = (messages.timestamps - START_TIME) / SAMPLE_RATE\n",
    "messages.set_index('timestamps', inplace=True)\n",
    "messages.text = messages.text.map(lambda x: x.decode('ASCII'))\n",
    "messages"
   ]
  },
  {
   "cell_type": "markdown",
   "metadata": {
    "collapsed": "false"
   },
   "source": [
    "## Events dataset"
   ]
  },
  {
   "cell_type": "code",
   "execution_count": 7,
   "metadata": {
    "collapsed": true,
    "jupyter": {
     "outputs_hidden": true
    },
    "scrolled": true
   },
   "outputs": [
    {
     "data": {
      "text/html": [
       "<div>\n",
       "<style scoped>\n",
       "    .dataframe tbody tr th:only-of-type {\n",
       "        vertical-align: middle;\n",
       "    }\n",
       "\n",
       "    .dataframe tbody tr th {\n",
       "        vertical-align: top;\n",
       "    }\n",
       "\n",
       "    .dataframe thead th {\n",
       "        text-align: right;\n",
       "    }\n",
       "</style>\n",
       "<table border=\"1\" class=\"dataframe\">\n",
       "  <thead>\n",
       "    <tr style=\"text-align: right;\">\n",
       "      <th></th>\n",
       "      <th>channel_states</th>\n",
       "      <th>full_words</th>\n",
       "      <th>channels</th>\n",
       "    </tr>\n",
       "    <tr>\n",
       "      <th>timestamps</th>\n",
       "      <th></th>\n",
       "      <th></th>\n",
       "      <th></th>\n",
       "    </tr>\n",
       "  </thead>\n",
       "  <tbody>\n",
       "    <tr>\n",
       "      <th>9.8399</th>\n",
       "      <td>8</td>\n",
       "      <td>128</td>\n",
       "      <td>8</td>\n",
       "    </tr>\n",
       "    <tr>\n",
       "      <th>9.8599</th>\n",
       "      <td>-8</td>\n",
       "      <td>0</td>\n",
       "      <td>8</td>\n",
       "    </tr>\n",
       "    <tr>\n",
       "      <th>9.8799</th>\n",
       "      <td>8</td>\n",
       "      <td>128</td>\n",
       "      <td>8</td>\n",
       "    </tr>\n",
       "    <tr>\n",
       "      <th>9.9089</th>\n",
       "      <td>-8</td>\n",
       "      <td>0</td>\n",
       "      <td>8</td>\n",
       "    </tr>\n",
       "    <tr>\n",
       "      <th>9.9958</th>\n",
       "      <td>8</td>\n",
       "      <td>128</td>\n",
       "      <td>8</td>\n",
       "    </tr>\n",
       "    <tr>\n",
       "      <th>...</th>\n",
       "      <td>...</td>\n",
       "      <td>...</td>\n",
       "      <td>...</td>\n",
       "    </tr>\n",
       "    <tr>\n",
       "      <th>3444.1338</th>\n",
       "      <td>-8</td>\n",
       "      <td>0</td>\n",
       "      <td>8</td>\n",
       "    </tr>\n",
       "    <tr>\n",
       "      <th>3444.1918</th>\n",
       "      <td>8</td>\n",
       "      <td>128</td>\n",
       "      <td>8</td>\n",
       "    </tr>\n",
       "    <tr>\n",
       "      <th>3444.2787</th>\n",
       "      <td>-8</td>\n",
       "      <td>0</td>\n",
       "      <td>8</td>\n",
       "    </tr>\n",
       "    <tr>\n",
       "      <th>3444.3657</th>\n",
       "      <td>8</td>\n",
       "      <td>128</td>\n",
       "      <td>8</td>\n",
       "    </tr>\n",
       "    <tr>\n",
       "      <th>3444.4237</th>\n",
       "      <td>-8</td>\n",
       "      <td>0</td>\n",
       "      <td>8</td>\n",
       "    </tr>\n",
       "  </tbody>\n",
       "</table>\n",
       "<p>2038 rows × 3 columns</p>\n",
       "</div>"
      ],
      "text/plain": [
       "            channel_states  full_words  channels\n",
       "timestamps                                      \n",
       "9.8399                   8         128         8\n",
       "9.8599                  -8           0         8\n",
       "9.8799                   8         128         8\n",
       "9.9089                  -8           0         8\n",
       "9.9958                   8         128         8\n",
       "...                    ...         ...       ...\n",
       "3444.1338               -8           0         8\n",
       "3444.1918                8         128         8\n",
       "3444.2787               -8           0         8\n",
       "3444.3657                8         128         8\n",
       "3444.4237               -8           0         8\n",
       "\n",
       "[2038 rows x 3 columns]"
      ]
     },
     "execution_count": 7,
     "metadata": {},
     "output_type": "execute_result"
    }
   ],
   "source": [
    "dataset = eeg_evnt_dir\n",
    "events = pd.DataFrame({\n",
    "    x.replace('.npy', '') : np.load(path.join(dataset[:-1], x))\\\n",
    "    for x in [path.basename(x) for x in glob(dataset)]\n",
    "})\n",
    "events.timestamps = (events.timestamps - START_TIME) / SAMPLE_RATE\n",
    "events.set_index('timestamps', inplace=True)\n",
    "events"
   ]
  },
  {
   "cell_type": "markdown",
   "metadata": {
    "collapsed": "false"
   },
   "source": [
    "### Timestamps for synchronization\n",
    "To be used for synchronization. See https://github.com/open-ephys/sync-barcodes/blob/master/barcodes.py."
   ]
  },
  {
   "cell_type": "code",
   "execution_count": 8,
   "metadata": {
    "collapsed": true,
    "jupyter": {
     "outputs_hidden": true
    }
   },
   "outputs": [
    {
     "data": {
      "application/vnd.jupyter.widget-view+json": {
       "model_id": "8d863e3ada1949c9be796f10bf3f9742",
       "version_major": 2,
       "version_minor": 0
      },
      "text/plain": [
       "Canvas(toolbar=Toolbar(toolitems=[('Home', 'Reset original view', 'home', 'home'), ('Back', 'Back to previous …"
      ]
     },
     "metadata": {},
     "output_type": "display_data"
    }
   ],
   "source": [
    "f, ax = plt.subplots(1, 1, figsize=(14, 2), tight_layout=True)\n",
    "_ = events.apply(plot_ts, args=(ax,))"
   ]
  },
  {
   "cell_type": "markdown",
   "metadata": {
    "collapsed": "false"
   },
   "source": [
    "## Continuous dataset"
   ]
  },
  {
   "cell_type": "code",
   "execution_count": 9,
   "metadata": {
    "collapsed": true,
    "jupyter": {
     "outputs_hidden": true
    },
    "scrolled": true
   },
   "outputs": [
    {
     "data": {
      "text/html": [
       "<div>\n",
       "<style scoped>\n",
       "    .dataframe tbody tr th:only-of-type {\n",
       "        vertical-align: middle;\n",
       "    }\n",
       "\n",
       "    .dataframe tbody tr th {\n",
       "        vertical-align: top;\n",
       "    }\n",
       "\n",
       "    .dataframe thead th {\n",
       "        text-align: right;\n",
       "    }\n",
       "</style>\n",
       "<table border=\"1\" class=\"dataframe\">\n",
       "  <thead>\n",
       "    <tr style=\"text-align: right;\">\n",
       "      <th></th>\n",
       "      <th>1</th>\n",
       "      <th>2</th>\n",
       "      <th>3</th>\n",
       "      <th>4</th>\n",
       "      <th>5</th>\n",
       "      <th>6</th>\n",
       "      <th>7</th>\n",
       "      <th>8</th>\n",
       "      <th>9</th>\n",
       "      <th>10</th>\n",
       "      <th>...</th>\n",
       "      <th>23</th>\n",
       "      <th>24</th>\n",
       "      <th>25</th>\n",
       "      <th>26</th>\n",
       "      <th>27</th>\n",
       "      <th>28</th>\n",
       "      <th>29</th>\n",
       "      <th>30</th>\n",
       "      <th>31</th>\n",
       "      <th>32</th>\n",
       "    </tr>\n",
       "  </thead>\n",
       "  <tbody>\n",
       "    <tr>\n",
       "      <th>0.0000</th>\n",
       "      <td>-63.570</td>\n",
       "      <td>-43.875</td>\n",
       "      <td>-61.035</td>\n",
       "      <td>-35.295</td>\n",
       "      <td>-39.390</td>\n",
       "      <td>-25.545</td>\n",
       "      <td>-45.435</td>\n",
       "      <td>-29.835</td>\n",
       "      <td>-631.995</td>\n",
       "      <td>-1.755</td>\n",
       "      <td>...</td>\n",
       "      <td>273.000</td>\n",
       "      <td>1261.260</td>\n",
       "      <td>-46.410</td>\n",
       "      <td>-31.980</td>\n",
       "      <td>-45.825</td>\n",
       "      <td>-46.995</td>\n",
       "      <td>-70.590</td>\n",
       "      <td>-69.420</td>\n",
       "      <td>-66.690</td>\n",
       "      <td>-77.610</td>\n",
       "    </tr>\n",
       "    <tr>\n",
       "      <th>0.0001</th>\n",
       "      <td>-61.815</td>\n",
       "      <td>-44.460</td>\n",
       "      <td>-54.015</td>\n",
       "      <td>-23.400</td>\n",
       "      <td>-38.610</td>\n",
       "      <td>-23.595</td>\n",
       "      <td>-43.485</td>\n",
       "      <td>-27.885</td>\n",
       "      <td>-522.600</td>\n",
       "      <td>1.950</td>\n",
       "      <td>...</td>\n",
       "      <td>405.600</td>\n",
       "      <td>1405.950</td>\n",
       "      <td>-38.220</td>\n",
       "      <td>-38.025</td>\n",
       "      <td>-47.580</td>\n",
       "      <td>-41.925</td>\n",
       "      <td>-68.445</td>\n",
       "      <td>-66.300</td>\n",
       "      <td>-67.860</td>\n",
       "      <td>-72.540</td>\n",
       "    </tr>\n",
       "    <tr>\n",
       "      <th>0.0002</th>\n",
       "      <td>-57.135</td>\n",
       "      <td>-31.200</td>\n",
       "      <td>-50.310</td>\n",
       "      <td>-19.890</td>\n",
       "      <td>-35.685</td>\n",
       "      <td>-26.715</td>\n",
       "      <td>-46.215</td>\n",
       "      <td>-25.350</td>\n",
       "      <td>-402.870</td>\n",
       "      <td>-1.755</td>\n",
       "      <td>...</td>\n",
       "      <td>510.120</td>\n",
       "      <td>1528.605</td>\n",
       "      <td>-39.975</td>\n",
       "      <td>-30.225</td>\n",
       "      <td>-46.020</td>\n",
       "      <td>-35.100</td>\n",
       "      <td>-67.080</td>\n",
       "      <td>-63.180</td>\n",
       "      <td>-67.470</td>\n",
       "      <td>-76.635</td>\n",
       "    </tr>\n",
       "    <tr>\n",
       "      <th>0.0003</th>\n",
       "      <td>-47.190</td>\n",
       "      <td>-31.980</td>\n",
       "      <td>-47.970</td>\n",
       "      <td>-15.405</td>\n",
       "      <td>-28.470</td>\n",
       "      <td>-14.235</td>\n",
       "      <td>-42.510</td>\n",
       "      <td>-27.300</td>\n",
       "      <td>-300.105</td>\n",
       "      <td>-0.585</td>\n",
       "      <td>...</td>\n",
       "      <td>609.960</td>\n",
       "      <td>1637.805</td>\n",
       "      <td>-34.320</td>\n",
       "      <td>-27.885</td>\n",
       "      <td>-47.190</td>\n",
       "      <td>-30.225</td>\n",
       "      <td>-61.035</td>\n",
       "      <td>-56.940</td>\n",
       "      <td>-55.185</td>\n",
       "      <td>-66.300</td>\n",
       "    </tr>\n",
       "    <tr>\n",
       "      <th>0.0004</th>\n",
       "      <td>-47.385</td>\n",
       "      <td>-34.320</td>\n",
       "      <td>-37.830</td>\n",
       "      <td>-7.605</td>\n",
       "      <td>-26.910</td>\n",
       "      <td>-11.895</td>\n",
       "      <td>-36.270</td>\n",
       "      <td>-22.620</td>\n",
       "      <td>-185.250</td>\n",
       "      <td>7.020</td>\n",
       "      <td>...</td>\n",
       "      <td>724.230</td>\n",
       "      <td>1776.840</td>\n",
       "      <td>-27.885</td>\n",
       "      <td>-22.815</td>\n",
       "      <td>-29.250</td>\n",
       "      <td>-26.325</td>\n",
       "      <td>-48.165</td>\n",
       "      <td>-47.580</td>\n",
       "      <td>-39.390</td>\n",
       "      <td>-49.725</td>\n",
       "    </tr>\n",
       "    <tr>\n",
       "      <th>...</th>\n",
       "      <td>...</td>\n",
       "      <td>...</td>\n",
       "      <td>...</td>\n",
       "      <td>...</td>\n",
       "      <td>...</td>\n",
       "      <td>...</td>\n",
       "      <td>...</td>\n",
       "      <td>...</td>\n",
       "      <td>...</td>\n",
       "      <td>...</td>\n",
       "      <td>...</td>\n",
       "      <td>...</td>\n",
       "      <td>...</td>\n",
       "      <td>...</td>\n",
       "      <td>...</td>\n",
       "      <td>...</td>\n",
       "      <td>...</td>\n",
       "      <td>...</td>\n",
       "      <td>...</td>\n",
       "      <td>...</td>\n",
       "      <td>...</td>\n",
       "    </tr>\n",
       "    <tr>\n",
       "      <th>3471.7435</th>\n",
       "      <td>126.750</td>\n",
       "      <td>110.175</td>\n",
       "      <td>64.935</td>\n",
       "      <td>61.425</td>\n",
       "      <td>59.475</td>\n",
       "      <td>81.705</td>\n",
       "      <td>66.885</td>\n",
       "      <td>64.350</td>\n",
       "      <td>-2615.730</td>\n",
       "      <td>55.575</td>\n",
       "      <td>...</td>\n",
       "      <td>-2392.455</td>\n",
       "      <td>-3503.760</td>\n",
       "      <td>54.600</td>\n",
       "      <td>42.510</td>\n",
       "      <td>55.380</td>\n",
       "      <td>49.335</td>\n",
       "      <td>74.490</td>\n",
       "      <td>76.635</td>\n",
       "      <td>116.805</td>\n",
       "      <td>116.025</td>\n",
       "    </tr>\n",
       "    <tr>\n",
       "      <th>3471.7436</th>\n",
       "      <td>109.200</td>\n",
       "      <td>93.210</td>\n",
       "      <td>54.600</td>\n",
       "      <td>46.020</td>\n",
       "      <td>48.165</td>\n",
       "      <td>62.790</td>\n",
       "      <td>57.525</td>\n",
       "      <td>60.255</td>\n",
       "      <td>-2833.155</td>\n",
       "      <td>63.180</td>\n",
       "      <td>...</td>\n",
       "      <td>-2615.340</td>\n",
       "      <td>-3732.300</td>\n",
       "      <td>46.800</td>\n",
       "      <td>34.515</td>\n",
       "      <td>50.310</td>\n",
       "      <td>39.975</td>\n",
       "      <td>66.495</td>\n",
       "      <td>68.835</td>\n",
       "      <td>101.985</td>\n",
       "      <td>112.515</td>\n",
       "    </tr>\n",
       "    <tr>\n",
       "      <th>3471.7437</th>\n",
       "      <td>96.525</td>\n",
       "      <td>78.780</td>\n",
       "      <td>44.070</td>\n",
       "      <td>24.180</td>\n",
       "      <td>38.805</td>\n",
       "      <td>47.190</td>\n",
       "      <td>48.945</td>\n",
       "      <td>47.775</td>\n",
       "      <td>-3044.535</td>\n",
       "      <td>63.765</td>\n",
       "      <td>...</td>\n",
       "      <td>-3037.905</td>\n",
       "      <td>-4218.435</td>\n",
       "      <td>30.615</td>\n",
       "      <td>25.740</td>\n",
       "      <td>37.830</td>\n",
       "      <td>32.955</td>\n",
       "      <td>49.335</td>\n",
       "      <td>56.355</td>\n",
       "      <td>64.545</td>\n",
       "      <td>87.750</td>\n",
       "    </tr>\n",
       "    <tr>\n",
       "      <th>3471.7438</th>\n",
       "      <td>87.165</td>\n",
       "      <td>65.715</td>\n",
       "      <td>46.410</td>\n",
       "      <td>31.005</td>\n",
       "      <td>41.925</td>\n",
       "      <td>45.045</td>\n",
       "      <td>51.285</td>\n",
       "      <td>45.630</td>\n",
       "      <td>-3761.940</td>\n",
       "      <td>54.990</td>\n",
       "      <td>...</td>\n",
       "      <td>-4068.285</td>\n",
       "      <td>-5346.315</td>\n",
       "      <td>38.610</td>\n",
       "      <td>36.075</td>\n",
       "      <td>38.805</td>\n",
       "      <td>34.320</td>\n",
       "      <td>49.335</td>\n",
       "      <td>68.835</td>\n",
       "      <td>63.375</td>\n",
       "      <td>100.035</td>\n",
       "    </tr>\n",
       "    <tr>\n",
       "      <th>3471.7439</th>\n",
       "      <td>94.380</td>\n",
       "      <td>72.540</td>\n",
       "      <td>44.850</td>\n",
       "      <td>39.780</td>\n",
       "      <td>48.165</td>\n",
       "      <td>59.475</td>\n",
       "      <td>54.990</td>\n",
       "      <td>52.260</td>\n",
       "      <td>-4673.955</td>\n",
       "      <td>20.085</td>\n",
       "      <td>...</td>\n",
       "      <td>-5218.590</td>\n",
       "      <td>-5775.120</td>\n",
       "      <td>32.175</td>\n",
       "      <td>31.395</td>\n",
       "      <td>31.785</td>\n",
       "      <td>33.930</td>\n",
       "      <td>47.190</td>\n",
       "      <td>54.015</td>\n",
       "      <td>64.740</td>\n",
       "      <td>88.335</td>\n",
       "    </tr>\n",
       "  </tbody>\n",
       "</table>\n",
       "<p>34717440 rows × 32 columns</p>\n",
       "</div>"
      ],
      "text/plain": [
       "                1        2       3       4       5       6       7       8   \\\n",
       "0.0000     -63.570  -43.875 -61.035 -35.295 -39.390 -25.545 -45.435 -29.835   \n",
       "0.0001     -61.815  -44.460 -54.015 -23.400 -38.610 -23.595 -43.485 -27.885   \n",
       "0.0002     -57.135  -31.200 -50.310 -19.890 -35.685 -26.715 -46.215 -25.350   \n",
       "0.0003     -47.190  -31.980 -47.970 -15.405 -28.470 -14.235 -42.510 -27.300   \n",
       "0.0004     -47.385  -34.320 -37.830  -7.605 -26.910 -11.895 -36.270 -22.620   \n",
       "...            ...      ...     ...     ...     ...     ...     ...     ...   \n",
       "3471.7435  126.750  110.175  64.935  61.425  59.475  81.705  66.885  64.350   \n",
       "3471.7436  109.200   93.210  54.600  46.020  48.165  62.790  57.525  60.255   \n",
       "3471.7437   96.525   78.780  44.070  24.180  38.805  47.190  48.945  47.775   \n",
       "3471.7438   87.165   65.715  46.410  31.005  41.925  45.045  51.285  45.630   \n",
       "3471.7439   94.380   72.540  44.850  39.780  48.165  59.475  54.990  52.260   \n",
       "\n",
       "                 9       10  ...        23        24      25      26      27  \\\n",
       "0.0000     -631.995  -1.755  ...   273.000  1261.260 -46.410 -31.980 -45.825   \n",
       "0.0001     -522.600   1.950  ...   405.600  1405.950 -38.220 -38.025 -47.580   \n",
       "0.0002     -402.870  -1.755  ...   510.120  1528.605 -39.975 -30.225 -46.020   \n",
       "0.0003     -300.105  -0.585  ...   609.960  1637.805 -34.320 -27.885 -47.190   \n",
       "0.0004     -185.250   7.020  ...   724.230  1776.840 -27.885 -22.815 -29.250   \n",
       "...             ...     ...  ...       ...       ...     ...     ...     ...   \n",
       "3471.7435 -2615.730  55.575  ... -2392.455 -3503.760  54.600  42.510  55.380   \n",
       "3471.7436 -2833.155  63.180  ... -2615.340 -3732.300  46.800  34.515  50.310   \n",
       "3471.7437 -3044.535  63.765  ... -3037.905 -4218.435  30.615  25.740  37.830   \n",
       "3471.7438 -3761.940  54.990  ... -4068.285 -5346.315  38.610  36.075  38.805   \n",
       "3471.7439 -4673.955  20.085  ... -5218.590 -5775.120  32.175  31.395  31.785   \n",
       "\n",
       "               28      29      30       31       32  \n",
       "0.0000    -46.995 -70.590 -69.420  -66.690  -77.610  \n",
       "0.0001    -41.925 -68.445 -66.300  -67.860  -72.540  \n",
       "0.0002    -35.100 -67.080 -63.180  -67.470  -76.635  \n",
       "0.0003    -30.225 -61.035 -56.940  -55.185  -66.300  \n",
       "0.0004    -26.325 -48.165 -47.580  -39.390  -49.725  \n",
       "...           ...     ...     ...      ...      ...  \n",
       "3471.7435  49.335  74.490  76.635  116.805  116.025  \n",
       "3471.7436  39.975  66.495  68.835  101.985  112.515  \n",
       "3471.7437  32.955  49.335  56.355   64.545   87.750  \n",
       "3471.7438  34.320  49.335  68.835   63.375  100.035  \n",
       "3471.7439  33.930  47.190  54.015   64.740   88.335  \n",
       "\n",
       "[34717440 rows x 32 columns]"
      ]
     },
     "execution_count": 9,
     "metadata": {},
     "output_type": "execute_result"
    }
   ],
   "source": [
    "dataset = eeg_cont_dir\n",
    "timestamps = (np.load(path.join(dataset[:-1], 'timestamps.npy')) - START_TIME) / SAMPLE_RATE\n",
    "data = np.fromfile(path.join(dataset[:-1], 'continuous.dat'), dtype='<i2')*0.195\n",
    "n_t = int(timestamps.shape[0])\n",
    "n_c = int(data.shape[0]/timestamps.shape[0])\n",
    "data = np.reshape(data, (n_t, n_c))\n",
    "data = pd.DataFrame(\n",
    "    data=data,\n",
    "    columns=range(1, 33),\n",
    "    index=timestamps\n",
    "#     index=pd.TimedeltaIndex(timestamps, unit='s')\n",
    ")\n",
    "data"
   ]
  },
  {
   "cell_type": "markdown",
   "metadata": {},
   "source": [
    "# Processing EEG signals\n",
    "[This](http://ims.mf.uni-lj.si/archive/15(1)/21.pdf) might be of interest, and maybe also some papers mentioned in [this](https://www.researchgate.net/post/High_frequency_component_of_EEG_signal_noise_or_information) thread.  "
   ]
  },
  {
   "cell_type": "markdown",
   "metadata": {
    "collapsed": "false"
   },
   "source": [
    "## Visualize raw signals\n",
    "* The y-axis is on $\\mu$V scale\n",
    "* Ch 1 and 2 are two regular electrodes with proper connections.\n",
    "* Ch 9 is disconnected. **What is the (5mV) signal there?** This signal is huge. Why doesn't it appear so large in other channels?\n",
    "* **What are the big spikes (~2mV) in ch 1 and 2?** Head-banging artefacts! Most likely, but not explicitly tested. They correlate well with artefacts in disconnected channels as well, so they are very likely due to straining against the head-plate."
   ]
  },
  {
   "cell_type": "code",
   "execution_count": 10,
   "metadata": {
    "collapsed": true,
    "jupyter": {
     "outputs_hidden": true
    }
   },
   "outputs": [
    {
     "data": {
      "application/vnd.jupyter.widget-view+json": {
       "model_id": "f185c4e9ddcf4f6aa943454bb4f4e56d",
       "version_major": 2,
       "version_minor": 0
      },
      "text/plain": [
       "Canvas(toolbar=Toolbar(toolitems=[('Home', 'Reset original view', 'home', 'home'), ('Back', 'Back to previous …"
      ]
     },
     "metadata": {},
     "output_type": "display_data"
    }
   ],
   "source": [
    "indices = [1, 2, 9]\n",
    "f, axes = plt.subplots(len(indices), 1, squeeze=False, sharex=True, figsize=(14, 1.5*len(indices)), tight_layout=True)\n",
    "[data[[indices[i]]].apply(plot_ts, args=(axes[i, 0],), xlim=(226, 227)) for i in range(len(indices))];"
   ]
  },
  {
   "cell_type": "markdown",
   "metadata": {
    "collapsed": "false"
   },
   "source": [
    "## Power spectra of raw signals"
   ]
  },
  {
   "cell_type": "code",
   "execution_count": 11,
   "metadata": {
    "collapsed": true,
    "jupyter": {
     "outputs_hidden": true
    }
   },
   "outputs": [
    {
     "data": {
      "application/vnd.jupyter.widget-view+json": {
       "model_id": "cdc62b6386f4402ab91ce4e0020b4043",
       "version_major": 2,
       "version_minor": 0
      },
      "text/plain": [
       "Canvas(toolbar=Toolbar(toolitems=[('Home', 'Reset original view', 'home', 'home'), ('Back', 'Back to previous …"
      ]
     },
     "metadata": {},
     "output_type": "display_data"
    }
   ],
   "source": [
    "f, (ax1, ax2) = plt.subplots(1, 2, sharey=True, sharex=True, figsize=(8, 3.5), tight_layout=True)\n",
    "[data[[1]].apply(plot_psd, args=(ax1,), Fs=SAMPLE_RATE, NFFT=8192, detrend=i, label=str(i)) for i in [None, 'mean', 'linear']]\n",
    "ax1.set_title('Compare detrending')\n",
    "data[[1, 2, 9]].apply(plot_psd, args=(ax2,), Fs=SAMPLE_RATE, NFFT=8192, detrend='linear')\n",
    "ax2.set_title('Compare channels')\n",
    "for ax in (ax1, ax2):\n",
    "    ax.set_xlim(0, 1000)\n",
    "    ax.set_ylim(0, 50)"
   ]
  },
  {
   "cell_type": "markdown",
   "metadata": {
    "collapsed": "false"
   },
   "source": [
    "## Low pass filter and remove 60 Hz\n",
    "For now, I have tried setting the low pass cutoff between 125 and 250 Hz. 125 might be too close to the 30-100 Hz gamma band, but it is the only integer factor of 10,000 below 200, which is why I use it below."
   ]
  },
  {
   "cell_type": "code",
   "execution_count": 12,
   "metadata": {
    "collapsed": true,
    "jupyter": {
     "outputs_hidden": true
    }
   },
   "outputs": [],
   "source": [
    "lp_freq = SAMPLE_RATE/80 # assumes sample_rate is 10000, so that cutoff is 125 Hz\n",
    "lp_b, lp_a = signal.butter(4, lp_freq, 'low', fs=SAMPLE_RATE)\n",
    "def apply_lp(ts):\n",
    "    return signal.filtfilt(lp_b, lp_a, ts)\n",
    "lp_signals = data[[1, 2, 9]].apply(apply_lp)"
   ]
  },
  {
   "cell_type": "code",
   "execution_count": 13,
   "metadata": {
    "collapsed": true,
    "jupyter": {
     "outputs_hidden": true
    }
   },
   "outputs": [],
   "source": [
    "notch_freq = [60, 120, 180, 240]\n",
    "width = 4 # filter width in Hz\n",
    "def apply_notch(ts, freq):\n",
    "    b, a = signal.iirnotch(freq, Q=60/width, fs=SAMPLE_RATE)\n",
    "    return signal.filtfilt(b, a, ts)\n",
    "f_signals = lp_signals.copy()\n",
    "for freq in notch_freq:\n",
    "    f_signals = f_signals.apply(apply_notch, args=(freq,))"
   ]
  },
  {
   "cell_type": "code",
   "execution_count": 14,
   "metadata": {
    "collapsed": true,
    "jupyter": {
     "outputs_hidden": true
    }
   },
   "outputs": [
    {
     "data": {
      "application/vnd.jupyter.widget-view+json": {
       "model_id": "0794e66a858f4de797d02a54ea404847",
       "version_major": 2,
       "version_minor": 0
      },
      "text/plain": [
       "Canvas(toolbar=Toolbar(toolitems=[('Home', 'Reset original view', 'home', 'home'), ('Back', 'Back to previous …"
      ]
     },
     "metadata": {},
     "output_type": "display_data"
    }
   ],
   "source": [
    "f, (ax1, ax2) = plt.subplots(1, 2, sharey=True, sharex=True, figsize=(8, 3.5), tight_layout=True)\n",
    "_ = lp_signals.apply(plot_psd, args=(ax1,), Fs=SAMPLE_RATE, NFFT=8192, detrend='linear')\n",
    "_ = data[[1, 2, 9]].apply(plot_psd, args=(ax1,), Fs=SAMPLE_RATE, NFFT=8192, detrend='linear', lw=0.2, label=None)\n",
    "_ = f_signals.apply(plot_psd, args=(ax2,), Fs=SAMPLE_RATE, NFFT=8192, detrend='linear')\n",
    "_ = data[[1, 2, 9]].apply(plot_psd, args=(ax2,), Fs=SAMPLE_RATE, NFFT=8192, detrend='linear', lw=0.2, label=None)\n",
    "for ax in (ax1, ax2):\n",
    "    ax.set_xlim(0, 400)\n",
    "    ax.set_ylim(0, 50)\n",
    "ax1.set_title('Low pass @{} Hz'.format(lp_freq))\n",
    "ax2.set_title('After removing line noise');"
   ]
  },
  {
   "cell_type": "markdown",
   "metadata": {
    "collapsed": "false"
   },
   "source": [
    "### Example signals after low-pass filtering"
   ]
  },
  {
   "cell_type": "code",
   "execution_count": 15,
   "metadata": {
    "collapsed": true,
    "jupyter": {
     "outputs_hidden": true
    }
   },
   "outputs": [
    {
     "data": {
      "application/vnd.jupyter.widget-view+json": {
       "model_id": "54b52b679e954dfaa036796dc65ad7d8",
       "version_major": 2,
       "version_minor": 0
      },
      "text/plain": [
       "Canvas(toolbar=Toolbar(toolitems=[('Home', 'Reset original view', 'home', 'home'), ('Back', 'Back to previous …"
      ]
     },
     "metadata": {},
     "output_type": "display_data"
    }
   ],
   "source": [
    "indices = [1, 2, 9]\n",
    "f, axes = plt.subplots(len(indices), 1, squeeze=False, sharex=True, figsize=(14, 1.5*len(indices)), tight_layout=True)\n",
    "[data[[indices[i]]].loc[data.index[::20]].apply(plot_ts, args=(axes[i, 0],), ls='--', lw=0.5, xlim=(226, 226.5)) for i in range(len(indices))]\n",
    "[lp_signals[[indices[i]]].loc[data.index[::20]].apply(plot_ts, args=(axes[i, 0],), xlim=(226, 226.5), label='lp') for i in range(len(indices))];\n",
    "axes[0, 0].set_ylim(-600, 600)\n",
    "axes[1, 0].set_ylim(-600, 600);"
   ]
  },
  {
   "cell_type": "markdown",
   "metadata": {
    "collapsed": "false"
   },
   "source": [
    "### Signal post low-pass and line noise removal"
   ]
  },
  {
   "cell_type": "code",
   "execution_count": 16,
   "metadata": {
    "collapsed": true,
    "jupyter": {
     "outputs_hidden": true
    }
   },
   "outputs": [
    {
     "data": {
      "application/vnd.jupyter.widget-view+json": {
       "model_id": "7fa317b0ceea4ff8a2468050b5507aed",
       "version_major": 2,
       "version_minor": 0
      },
      "text/plain": [
       "Canvas(toolbar=Toolbar(toolitems=[('Home', 'Reset original view', 'home', 'home'), ('Back', 'Back to previous …"
      ]
     },
     "metadata": {},
     "output_type": "display_data"
    }
   ],
   "source": [
    "indices = [1, 2, 9]\n",
    "f, axes = plt.subplots(len(indices), 1, squeeze=False, sharex=True, figsize=(14, 1.5*len(indices)), tight_layout=True)\n",
    "[data[[indices[i]]].loc[data.index[::20]].apply(plot_ts, args=(axes[i, 0],), ls='--', lw=0.5, xlim=(226, 226.5)) for i in range(len(indices))]\n",
    "[f_signals[[indices[i]]].loc[data.index[::20]].apply(plot_ts, args=(axes[i, 0],), xlim=(226, 226.5), label='fully filtered') for i in range(len(indices))];\n",
    "axes[0, 0].set_ylim(-600, 600)\n",
    "axes[1, 0].set_ylim(-600, 600);"
   ]
  },
  {
   "cell_type": "markdown",
   "metadata": {
    "collapsed": "false"
   },
   "source": [
    "### Notch filters remove too much of signal\n",
    "The figure below shows the difference in low-pass and low-pass + notch filtered timeseries for a channel. Ideally the difference should simply be a sinusoid of 60 Hz frequency and constant amplitude, corresponding to the nearly constant amplitude line noise.  \n",
    "\n",
    "However, as can be seen, the difference has low-frequency modulations. This could be because there is a real 60 Hz component to the EEG that is slowly changing. Or the line noise amplitude changes slowly. The latter is quite common, and it is difficult to differentiate the two."
   ]
  },
  {
   "cell_type": "code",
   "execution_count": 17,
   "metadata": {
    "collapsed": true,
    "jupyter": {
     "outputs_hidden": true
    }
   },
   "outputs": [
    {
     "data": {
      "application/vnd.jupyter.widget-view+json": {
       "model_id": "8019c042161c440080b08090d1a529fe",
       "version_major": 2,
       "version_minor": 0
      },
      "text/plain": [
       "Canvas(toolbar=Toolbar(toolitems=[('Home', 'Reset original view', 'home', 'home'), ('Back', 'Back to previous …"
      ]
     },
     "metadata": {},
     "output_type": "display_data"
    }
   ],
   "source": [
    "diff_signal = lp_signals-f_signals\n",
    "f, (ax1, ax2) = plt.subplots(1, 2, figsize=(12, 3), gridspec_kw={'width_ratios':[5, 1]}, tight_layout=True)\n",
    "diff_signal[[1]].loc[data.index[::20]].apply(plot_ts, args=(ax1,))\n",
    "ax1.set_xlabel('Time (s)')\n",
    "diff_signal.apply(plot_psd, args=(ax2,), Fs=SAMPLE_RATE, NFFT=8192, detrend='linear')\n",
    "ax2.set_xlim(-10, 100)\n",
    "ax2.set_ylim(-70, 70);"
   ]
  },
  {
   "cell_type": "markdown",
   "metadata": {
    "collapsed": "false"
   },
   "source": [
    "## Remove line noise without completely filtering 60 Hz"
   ]
  },
  {
   "cell_type": "code",
   "execution_count": 18,
   "metadata": {
    "collapsed": true,
    "jupyter": {
     "outputs_hidden": true,
     "source_hidden": true
    }
   },
   "outputs": [],
   "source": [
    "# env = diff_signal.abs().rolling(int(0.05*SAMPLE_RATE), center=True).max()\n",
    "\n",
    "# f, (ax1, ax2) = plt.subplots(1, 2, figsize=(12, 3), gridspec_kw={'width_ratios':[5, 1]}, tight_layout=True)\n",
    "# diff_signal[[1]].loc[data.index[::20]].apply(plot_ts, args=(ax1,))\n",
    "# env[[1]].loc[data.index[::20]].apply(plot_ts, args=(ax1,))\n",
    "# (env[[9]]/env[9].mean()*env[1].mean()).loc[data.index[::20]].apply(plot_ts, args=(ax1,))\n",
    "# # (env[[1]]*-1).loc[data.index[::20]].apply(plot_ts, args=(ax1,))\n",
    "# ax1.set_xlabel('Time (s)');"
   ]
  },
  {
   "cell_type": "code",
   "execution_count": 19,
   "metadata": {
    "collapsed": true,
    "jupyter": {
     "outputs_hidden": true,
     "source_hidden": true
    }
   },
   "outputs": [],
   "source": [
    "# corr_diff = diff_signal / env * env.mean()\n",
    "# corr_signal = lp_signals - corr_diff\n",
    "\n",
    "# f, (ax1, ax2) = plt.subplots(1, 2, figsize=(12, 3), gridspec_kw={'width_ratios':[5, 1]}, tight_layout=True)\n",
    "# lp_signals[[1]].loc[data.index[::20]].apply(plot_ts, args=(ax1,))\n",
    "# corr_signal[[1]].loc[data.index[::20]].apply(plot_ts, args=(ax1,))\n",
    "# ax1.set_xlabel('Time (s)')\n",
    "# corr_signal.dropna(axis=0).apply(plot_psd, args=(ax2,), Fs=SAMPLE_RATE, NFFT=8192, detrend='linear')\n",
    "# ax2.set_xlim(-10, 100)\n",
    "# ax2.set_ylim(-70, 70);"
   ]
  },
  {
   "cell_type": "code",
   "execution_count": 20,
   "metadata": {
    "collapsed": true,
    "jupyter": {
     "outputs_hidden": true,
     "source_hidden": true
    }
   },
   "outputs": [],
   "source": [
    "# t_anesthesia = (1000, 1600) # get this from iso 2% event"
   ]
  },
  {
   "cell_type": "markdown",
   "metadata": {
    "collapsed": "false"
   },
   "source": [
    "### Use correlation between disconnected and connected channel during anesthesia\n",
    "The idea was to see how connected channel signal during the down states relates to the disconnected channel (both should be dominated by line noise at this point). Then use this relationship to subtract the line component from the connected channels.  \n",
    "This method does not work (see below). Presumably the relationship between line noise in connected and disconnected channels changes over time."
   ]
  },
  {
   "cell_type": "code",
   "execution_count": 21,
   "metadata": {
    "collapsed": true,
    "jupyter": {
     "outputs_hidden": true,
     "source_hidden": true
    }
   },
   "outputs": [],
   "source": [
    "# f, (ax, ax2) = plt.subplots(1, 2, figsize=(8, 3), tight_layout=True)\n",
    "# lp_signals.iloc[t_anesthesia[0]*SAMPLE_RATE:t_anesthesia[1]*SAMPLE_RATE:20][1].plot(ax=ax2)\n",
    "# lp_signals.iloc[t_anesthesia[0]*SAMPLE_RATE:t_anesthesia[1]*SAMPLE_RATE:20][9].apply(lambda x: x/100).plot(ax=ax2)\n",
    "# ax2.legend(loc=1, fontsize=8)\n",
    "\n",
    "# _, _, _, im = ax.hist2d(\n",
    "#     lp_signals.iloc[t_anesthesia[0]*SAMPLE_RATE:t_anesthesia[1]*SAMPLE_RATE:20][1],\n",
    "#     lp_signals.iloc[t_anesthesia[0]*SAMPLE_RATE:t_anesthesia[1]*SAMPLE_RATE:20][9],\n",
    "#     bins=(100, 100), range=[[-50, 50], [-6000, 6000]], cmin=10\n",
    "# )\n",
    "# f.colorbar(im, ax=ax)\n",
    "# ax.set_xlabel('Channel 1')\n",
    "# ax.set_ylabel('(Channel 9) / 100')\n",
    "# ax.annotate('Correlation during anesthesia', (0.01, 0.99), xycoords='axes fraction', va='top');"
   ]
  },
  {
   "cell_type": "code",
   "execution_count": 22,
   "metadata": {
    "collapsed": true,
    "jupyter": {
     "outputs_hidden": true,
     "source_hidden": true
    }
   },
   "outputs": [],
   "source": [
    "# df = data[[1, 2, 9]].iloc[t_anesthesia[0]*SAMPLE_RATE:t_anesthesia[1]*SAMPLE_RATE:20]\n",
    "# anesthesia_corr = df.corr() * (df.std().values[:, np.newaxis]/df.std().values)\n",
    "# df = lp_signals.iloc[0:t_anesthesia[0]*SAMPLE_RATE:20].corr()\n",
    "# pre_corr = df.corr() * df.corr() * (df.std().values[:, np.newaxis]/df.std().values)\n",
    "# df = lp_signals.iloc[t_anesthesia[1]*SAMPLE_RATE::20].corr()\n",
    "# post_corr = df.corr() * df.corr() * (df.std().values[:, np.newaxis]/df.std().values)\n",
    "# pd.concat([anesthesia_corr, pre_corr, post_corr], axis=1)"
   ]
  },
  {
   "cell_type": "code",
   "execution_count": 23,
   "metadata": {
    "collapsed": true,
    "jupyter": {
     "outputs_hidden": true,
     "source_hidden": true
    }
   },
   "outputs": [],
   "source": [
    "# df = lp_signals - pd.DataFrame(lp_signals[9]).dot(pd.DataFrame(anesthesia_corr[9]).T)\n",
    "# df.shape"
   ]
  },
  {
   "cell_type": "code",
   "execution_count": 24,
   "metadata": {
    "collapsed": true,
    "jupyter": {
     "outputs_hidden": true,
     "source_hidden": true
    }
   },
   "outputs": [],
   "source": [
    "# indices = [0, 1, 8]\n",
    "# f, axes = plt.subplots(len(indices), 1, squeeze=False, sharex=True, figsize=(14, 2*len(indices)), tight_layout=True)\n",
    "# for i, ax in enumerate(axes.T[0]):\n",
    "#     data[indices[i]+1].loc[data.index[::20]].plot(ax=ax, ls='--', lw=0.5)\n",
    "#     df[indices[i]+1].loc[data.index[::20]].plot(ax=ax, label='CH%d'%(indices[i]+1))\n",
    "#     f_signals[indices[i]+1].loc[data.index[::20]].plot(ax=ax, label='CH%d'%(indices[i]+1))\n",
    "#     ax.legend(loc=1)\n",
    "# #     ax.set_xlim(226, 226.5)\n",
    "# #     if indices[i]+1 != 9:\n",
    "# #         ax.set_ylim(-600, 600)"
   ]
  },
  {
   "cell_type": "code",
   "execution_count": 25,
   "metadata": {
    "collapsed": true,
    "jupyter": {
     "outputs_hidden": true,
     "source_hidden": true
    }
   },
   "outputs": [],
   "source": [
    "# f, ax = plt.subplots(1, 1, figsize=(4, 3), tight_layout=True)\n",
    "# [ax.psd(df[i], Fs=SAMPLE_RATE, NFFT=8192, detrend='linear', label='ch%d'%i) for i in [1, 2]]\n",
    "# [ax.psd(data[i], Fs=SAMPLE_RATE, NFFT=8192, detrend='linear', lw=0.2) for i in [1, 2]]\n",
    "# ax.set_xlim(0, 125)\n",
    "# ax.set_ylim(0, 40)\n",
    "# ax.legend(loc=1)"
   ]
  },
  {
   "cell_type": "markdown",
   "metadata": {
    "collapsed": "false"
   },
   "source": [
    "### How else can we remove only the line-noise component of 60 Hz without removing any intrinsic 60 Hz signals?"
   ]
  },
  {
   "cell_type": "code",
   "execution_count": 26,
   "metadata": {
    "collapsed": true,
    "jupyter": {
     "outputs_hidden": true
    }
   },
   "outputs": [],
   "source": [
    "# interesting time intervals for quick testing before looking at all of data\n",
    "toi_up_down = (1269, 1270) # transition from up to down state during anesthesia\n",
    "toi_head_large = (272.4, 273.4) # transition from large head-banging artefact to normal-looking eeg\n",
    "toi_head_small = (259, 260) # transition from small head-banging artefact to normal-looking eeg"
   ]
  },
  {
   "cell_type": "markdown",
   "metadata": {
    "collapsed": "false"
   },
   "source": [
    "## Remove head-banging artefacts\n",
    "In the signals above, it looks like when the mouse is straining against the headplate, the amplitude of original signal is much larger than amplitude of filtered signal. Below, I simply run a short window, compute the mean absolute difference between original and filtered signal and plot it on top of the original signals, to see how well this huristic method works.  \n",
    "\n",
    "The image below shows the window-averaged absolute difference (dark red trace, right y-axis) during a weak and strong head-banging event. It can be used to set thresholds to eliminate such events."
   ]
  },
  {
   "cell_type": "code",
   "execution_count": 18,
   "metadata": {
    "collapsed": true,
    "jupyter": {
     "outputs_hidden": true
    }
   },
   "outputs": [],
   "source": [
    "convolution_window = int(0.5 * SAMPLE_RATE) # average the difference over 0.5 second window\n",
    "def get_absdelta(ts):\n",
    "    absd = np.convolve(\n",
    "        np.abs(ts - f_signals[ts.name]),\n",
    "        np.ones(convolution_window), mode='same',\n",
    "    ) / convolution_window\n",
    "    return (absd - absd.mean()) / absd.std()\n",
    "absdelta = data[[1, 2, 9]].apply(get_absdelta)"
   ]
  },
  {
   "cell_type": "code",
   "execution_count": 19,
   "metadata": {
    "collapsed": true,
    "jupyter": {
     "outputs_hidden": true
    }
   },
   "outputs": [
    {
     "data": {
      "application/vnd.jupyter.widget-view+json": {
       "model_id": "2b1521a4e4a54749b39d2d76e2ad0262",
       "version_major": 2,
       "version_minor": 0
      },
      "text/plain": [
       "Canvas(toolbar=Toolbar(toolitems=[('Home', 'Reset original view', 'home', 'home'), ('Back', 'Back to previous …"
      ]
     },
     "metadata": {},
     "output_type": "display_data"
    }
   ],
   "source": [
    "indices = [1, 2, 9]\n",
    "f, axes = plt.subplots(len(indices), 1, squeeze=False, sharex=True, figsize=(14, 1.5*len(indices)), tight_layout=True)\n",
    "for i, ax in enumerate(axes.T[0]):\n",
    "    data[[indices[i]]].loc[data.index[::20]].apply(plot_ts, args=(ax,), ls='--', lw=0.5)\n",
    "    f_signals[[indices[i]]].loc[data.index[::20]].apply(plot_ts, args=(ax,))\n",
    "    ax2 = ax.twinx()\n",
    "    absdelta.abs()[[indices[i]]].loc[data.index[::20]].apply(plot_ts, args=(ax2,), c=cm.Reds(0.9, 0.99))\n",
    "axes[0, 0].set_ylim(-300, 300)\n",
    "axes[1, 0].set_ylim(-300, 300);"
   ]
  },
  {
   "cell_type": "code",
   "execution_count": 20,
   "metadata": {
    "collapsed": true,
    "jupyter": {
     "outputs_hidden": true
    }
   },
   "outputs": [],
   "source": [
    "absdelta['fp'] = absdelta.apply(lambda x: np.abs(x)).mean(axis=1) < 0.5\n",
    "absdelta['fp'] = np.convolve(absdelta.fp.astype('float'), np.ones(5000)/5000, mode='same')\n",
    "absdelta['fp'] = absdelta.fp > 0.5"
   ]
  },
  {
   "cell_type": "code",
   "execution_count": 21,
   "metadata": {
    "collapsed": true,
    "jupyter": {
     "outputs_hidden": true
    }
   },
   "outputs": [
    {
     "data": {
      "application/vnd.jupyter.widget-view+json": {
       "model_id": "3743e7b15b2c49c6b847c969f70518d4",
       "version_major": 2,
       "version_minor": 0
      },
      "text/plain": [
       "Canvas(toolbar=Toolbar(toolitems=[('Home', 'Reset original view', 'home', 'home'), ('Back', 'Back to previous …"
      ]
     },
     "metadata": {},
     "output_type": "display_data"
    },
    {
     "data": {
      "text/plain": [
       "0    None\n",
       "dtype: object"
      ]
     },
     "execution_count": 21,
     "metadata": {},
     "output_type": "execute_result"
    }
   ],
   "source": [
    "f, ax = plt.subplots(1, 1, figsize=(12, 1.5), tight_layout=True)\n",
    "absdelta[['fp']].astype(float).loc[data.index[::20]].apply(plot_ts, args=(ax,), c=cm.Reds(0.9, 0.99))\n",
    "ax2 = ax.twinx()\n",
    "pd.DataFrame(f_signals[9]*absdelta.fp).loc[data.index[::20]].apply(plot_ts, args=(ax2,))"
   ]
  },
  {
   "cell_type": "markdown",
   "metadata": {},
   "source": [
    "# Plot spectrograms"
   ]
  },
  {
   "cell_type": "code",
   "execution_count": 27,
   "metadata": {
    "collapsed": true,
    "jupyter": {
     "outputs_hidden": true
    }
   },
   "outputs": [
    {
     "data": {
      "application/vnd.jupyter.widget-view+json": {
       "model_id": "1c79f0fbee9c45178829dd5be785b7ea",
       "version_major": 2,
       "version_minor": 0
      },
      "text/plain": [
       "Canvas(toolbar=Toolbar(toolitems=[('Home', 'Reset original view', 'home', 'home'), ('Back', 'Back to previous …"
      ]
     },
     "metadata": {},
     "output_type": "display_data"
    }
   ],
   "source": [
    "f, ax = plt.subplots(1, 1, figsize=(12, 3), tight_layout=True)\n",
    "sp, _, _, im = ax.specgram(data.loc[data.index[::20]][1], Fs=SAMPLE_RATE/20, NFFT=256, detrend='linear')\n",
    "f.colorbar(im, ax=ax)\n",
    "# ax.set_ylim(0, 140)\n",
    "im.set_clim(-40, 40);"
   ]
  },
  {
   "cell_type": "code",
   "execution_count": 26,
   "metadata": {
    "collapsed": true,
    "jupyter": {
     "outputs_hidden": true
    }
   },
   "outputs": [
    {
     "data": {
      "application/vnd.jupyter.widget-view+json": {
       "model_id": "eec52cfbd4dc441ab7e56212812c2b95",
       "version_major": 2,
       "version_minor": 0
      },
      "text/plain": [
       "Canvas(toolbar=Toolbar(toolitems=[('Home', 'Reset original view', 'home', 'home'), ('Back', 'Back to previous …"
      ]
     },
     "metadata": {},
     "output_type": "display_data"
    }
   ],
   "source": [
    "f, ax = plt.subplots(1, 1, figsize=(12, 3), tight_layout=True)\n",
    "sp, _, _, im = ax.specgram(f_signals.loc[data.index[::1]][1], Fs=SAMPLE_RATE/1, NFFT=256*32, detrend='linear')\n",
    "f.colorbar(im, ax=ax)\n",
    "ax.set_ylim(0, 200)\n",
    "im.set_clim(-40, 40);"
   ]
  },
  {
   "cell_type": "code",
   "execution_count": null,
   "metadata": {
    "collapsed": true,
    "jupyter": {
     "outputs_hidden": true
    }
   },
   "outputs": [],
   "source": []
  }
 ],
 "metadata": {
  "kernelspec": {
   "display_name": "zapnzip",
   "language": "python",
   "name": "zapnzip"
  },
  "language_info": {
   "codemirror_mode": {
    "name": "ipython",
    "version": 3
   },
   "file_extension": ".py",
   "mimetype": "text/x-python",
   "name": "python",
   "nbconvert_exporter": "python",
   "pygments_lexer": "ipython3",
   "version": "3.7.4"
  },
  "widgets": {
   "application/vnd.jupyter.widget-state+json": {
    "state": {},
    "version_major": 2,
    "version_minor": 0
   }
  }
 },
 "nbformat": 4,
 "nbformat_minor": 4
}
