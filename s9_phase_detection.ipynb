{
 "cells": [
  {
   "cell_type": "markdown",
   "metadata": {},
   "source": [
    "In this notebook, we develop code to extract the phase of different rhythms at all times.  \n",
    "See http://www.scholarpedia.org/article/Hilbert_transform_for_brain_waves for details on Hilbert Transform.  \n",
    "  \n",
    "The second section is based on the autoregressive causal phase estimation algorithm phastimate, from here: https://github.com/bnplab/phastimate"
   ]
  },
  {
   "cell_type": "code",
   "execution_count": 1,
   "metadata": {
    "execution": {
     "iopub.execute_input": "2020-10-20T22:55:48.522347Z",
     "iopub.status.busy": "2020-10-20T22:55:48.521575Z",
     "iopub.status.idle": "2020-10-20T22:55:58.299891Z",
     "shell.execute_reply": "2020-10-20T22:55:58.298533Z",
     "shell.execute_reply.started": "2020-10-20T22:55:48.522238Z"
    }
   },
   "outputs": [],
   "source": [
    "%load_ext autoreload\n",
    "%autoreload 2\n",
    "import warnings\n",
    "\n",
    "import numpy as np\n",
    "import pandas as pd\n",
    "import matplotlib.pyplot as plt\n",
    "from matplotlib import cm, patches\n",
    "import matplotlib.gridspec as gridspec\n",
    "import scipy\n",
    "from scipy import signal\n",
    "from tqdm.auto import tqdm\n",
    "with warnings.catch_warnings():\n",
    "    warnings.simplefilter('ignore')\n",
    "    tqdm.pandas()\n",
    "from spectrum import aryule\n",
    "\n",
    "from tbd_eeg.data_analysis.eegutils import *\n",
    "from tbd_eeg.data_analysis.Utilities import utilities as utils\n",
    "from tbd_eeg.data_analysis.Utilities import filters\n",
    "\n",
    "from plot_electrodes import *\n",
    "\n",
    "from ipympl.backend_nbagg import Canvas\n",
    "Canvas.header_visible.default_value = False\n",
    "%matplotlib widget"
   ]
  },
  {
   "cell_type": "code",
   "execution_count": 2,
   "metadata": {
    "execution": {
     "iopub.execute_input": "2020-10-20T22:55:58.302536Z",
     "iopub.status.busy": "2020-10-20T22:55:58.302120Z",
     "iopub.status.idle": "2020-10-20T22:55:58.323871Z",
     "shell.execute_reply": "2020-10-20T22:55:58.323423Z",
     "shell.execute_reply.started": "2020-10-20T22:55:58.302479Z"
    }
   },
   "outputs": [],
   "source": [
    "epoch_cms = {\n",
    "    'pre' : cm.Reds,\n",
    "    'iso_high' : cm.PuOr,\n",
    "    'iso_low' : cm.PuOr_r,\n",
    "    'early_recovery': cm.Blues,\n",
    "    'late_recovery' : cm.Greens\n",
    "}\n",
    "\n",
    "bands = {\n",
    "    'delta' : (1, 4),\n",
    "    'theta' : (5, 8),\n",
    "    'alpha' : (9, 13),\n",
    "    'beta' : (15, 35),\n",
    "}"
   ]
  },
  {
   "cell_type": "code",
   "execution_count": 3,
   "metadata": {
    "execution": {
     "iopub.execute_input": "2020-10-20T22:55:58.324873Z",
     "iopub.status.busy": "2020-10-20T22:55:58.324681Z",
     "iopub.status.idle": "2020-10-20T22:56:05.706059Z",
     "shell.execute_reply": "2020-10-20T22:56:05.704466Z",
     "shell.execute_reply.started": "2020-10-20T22:55:58.324846Z"
    }
   },
   "outputs": [
    {
     "name": "stdout",
     "output_type": "stream",
     "text": [
      "The settings.xml file was not found.\n"
     ]
    },
    {
     "name": "stdin",
     "output_type": "stream",
     "text": [
      "Was the recording done on NP4? [y/n]  y\n"
     ]
    },
    {
     "name": "stdout",
     "output_type": "stream",
     "text": [
      "Experiment type: electrical stimulation.\n",
      "SomnoSuite log file not found.\n",
      "Identifying valid channels...\n",
      "The following channels seem to be correctly connected and report valid data:\n",
      "[0, 1, 2, 3, 4, 5, 6, 7, 8, 9, 10, 11, 12, 13, 14, 15, 16, 17, 18, 19, 20, 21, 22, 23, 24, 25, 26, 27, 28, 29, 30, 31]\n",
      "Loading other data...\n",
      "iso on at 1439.6\n",
      "iso reduced at 1658.38\n",
      "iso off at 2965.83\n",
      "Annotating artifacts...\n"
     ]
    }
   ],
   "source": [
    "data_folder = \"../tiny-blue-dot/zap-n-zip/EEG_exp/mouse521886/estim1_2020-07-16_13-37-02/experiment1/recording1/\"\n",
    "\n",
    "# set the sample_rate for all data analysis\n",
    "sample_rate = 200\n",
    "\n",
    "# load experiment metadata and eeg data\n",
    "exp = EEGexp(data_folder)\n",
    "eegdata = exp.load_eegdata(frequency=sample_rate, return_type='pd')\n",
    "\n",
    "# locate valid channels (some channels can be disconnected and we want to ignore them in the analysis)\n",
    "print('Identifying valid channels...')\n",
    "median_amplitude = eegdata[:sample_rate*300].apply(\n",
    "    utils.median_amplitude, raw=True, axis=0, distance=sample_rate\n",
    ")\n",
    "valid_channels = median_amplitude.index[median_amplitude < 2000].values\n",
    "print('The following channels seem to be correctly connected and report valid data:')\n",
    "print(list(valid_channels))\n",
    "\n",
    "# load other data (running, iso etc)\n",
    "print('Loading other data...')\n",
    "running_speed = exp.load_running(return_type='pd')\n",
    "iso = exp.load_analog_iso(return_type='pd')\n",
    "\n",
    "# automatically annotate anesthesia epochs\n",
    "iso_first_on = (iso>4).idxmax()\n",
    "print('iso on at', iso_first_on)\n",
    "iso_first_mid = ((iso[iso.index>iso_first_on]>1)&(iso[iso.index>iso_first_on]<4)).idxmax()\n",
    "print('iso reduced at', iso_first_mid)\n",
    "iso_first_off = (iso>1)[::-1].idxmax()\n",
    "print('iso off at', iso_first_off)\n",
    "\n",
    "# annotate artifacts with power in high frequencies\n",
    "print('Annotating artifacts...')\n",
    "hf_annots = pd.Series(\n",
    "    eegdata[valid_channels].apply(\n",
    "        find_hf_annotations, axis=0,\n",
    "        sample_rate=sample_rate, fmin=300, pmin=0.25\n",
    "    ).mean(axis=1),\n",
    "    name='artifact'\n",
    ")\n",
    "recovery_first_jump = (hf_annots>4)[hf_annots.index>iso_first_off].idxmax()\n",
    "\n",
    "epochs = pd.Series(\n",
    "    index = [0, iso_first_on-0.001, iso_first_on+0.001, iso_first_mid-0.001,\n",
    "             iso_first_mid+0.001, iso_first_off-0.001, iso_first_off+0.001,\n",
    "             recovery_first_jump-0.001, recovery_first_jump+0.001, eegdata.index[-1]],\n",
    "    data=['pre', 'pre', 'iso_high', 'iso_high', 'iso_low', 'iso_low',\n",
    "          'early_recovery', 'early_recovery', 'late_recovery', 'late_recovery'],\n",
    "    dtype=pd.CategoricalDtype(\n",
    "        categories=['pre', 'iso_high', 'iso_low', 'early_recovery', 'late_recovery'],\n",
    "        ordered=True\n",
    "    )\n",
    ")"
   ]
  },
  {
   "cell_type": "code",
   "execution_count": 4,
   "metadata": {
    "execution": {
     "iopub.execute_input": "2020-10-20T22:56:05.708660Z",
     "iopub.status.busy": "2020-10-20T22:56:05.708144Z",
     "iopub.status.idle": "2020-10-20T22:56:09.063354Z",
     "shell.execute_reply": "2020-10-20T22:56:09.062735Z",
     "shell.execute_reply.started": "2020-10-20T22:56:05.708514Z"
    }
   },
   "outputs": [
    {
     "data": {
      "text/html": [
       "<div>\n",
       "<style scoped>\n",
       "    .dataframe tbody tr th:only-of-type {\n",
       "        vertical-align: middle;\n",
       "    }\n",
       "\n",
       "    .dataframe tbody tr th {\n",
       "        vertical-align: top;\n",
       "    }\n",
       "\n",
       "    .dataframe thead th {\n",
       "        text-align: right;\n",
       "    }\n",
       "</style>\n",
       "<table border=\"1\" class=\"dataframe\">\n",
       "  <thead>\n",
       "    <tr style=\"text-align: right;\">\n",
       "      <th></th>\n",
       "      <th></th>\n",
       "      <th></th>\n",
       "      <th></th>\n",
       "      <th></th>\n",
       "      <th></th>\n",
       "      <th></th>\n",
       "      <th>0</th>\n",
       "      <th>1</th>\n",
       "      <th>2</th>\n",
       "      <th>3</th>\n",
       "      <th>4</th>\n",
       "      <th>5</th>\n",
       "      <th>6</th>\n",
       "      <th>7</th>\n",
       "      <th>8</th>\n",
       "      <th>9</th>\n",
       "      <th>10</th>\n",
       "      <th>11</th>\n",
       "      <th>12</th>\n",
       "      <th>13</th>\n",
       "      <th>14</th>\n",
       "      <th>15</th>\n",
       "      <th>16</th>\n",
       "      <th>17</th>\n",
       "      <th>18</th>\n",
       "      <th>19</th>\n",
       "      <th>20</th>\n",
       "      <th>21</th>\n",
       "      <th>22</th>\n",
       "      <th>23</th>\n",
       "      <th>24</th>\n",
       "      <th>25</th>\n",
       "      <th>26</th>\n",
       "      <th>27</th>\n",
       "      <th>28</th>\n",
       "      <th>29</th>\n",
       "      <th>30</th>\n",
       "      <th>31</th>\n",
       "    </tr>\n",
       "    <tr>\n",
       "      <th>time</th>\n",
       "      <th>amplitude</th>\n",
       "      <th>duration</th>\n",
       "      <th>onset</th>\n",
       "      <th>offset</th>\n",
       "      <th>sweep</th>\n",
       "      <th>id</th>\n",
       "      <th></th>\n",
       "      <th></th>\n",
       "      <th></th>\n",
       "      <th></th>\n",
       "      <th></th>\n",
       "      <th></th>\n",
       "      <th></th>\n",
       "      <th></th>\n",
       "      <th></th>\n",
       "      <th></th>\n",
       "      <th></th>\n",
       "      <th></th>\n",
       "      <th></th>\n",
       "      <th></th>\n",
       "      <th></th>\n",
       "      <th></th>\n",
       "      <th></th>\n",
       "      <th></th>\n",
       "      <th></th>\n",
       "      <th></th>\n",
       "      <th></th>\n",
       "      <th></th>\n",
       "      <th></th>\n",
       "      <th></th>\n",
       "      <th></th>\n",
       "      <th></th>\n",
       "      <th></th>\n",
       "      <th></th>\n",
       "      <th></th>\n",
       "      <th></th>\n",
       "      <th></th>\n",
       "      <th></th>\n",
       "    </tr>\n",
       "  </thead>\n",
       "  <tbody>\n",
       "    <tr>\n",
       "      <th>12.932482</th>\n",
       "      <th>0.0</th>\n",
       "      <th>400.0</th>\n",
       "      <th>0.00000</th>\n",
       "      <th>134.81291</th>\n",
       "      <th>-1.0</th>\n",
       "      <th>-1.0</th>\n",
       "      <td>12</td>\n",
       "      <td>7</td>\n",
       "      <td>6</td>\n",
       "      <td>11</td>\n",
       "      <td>17</td>\n",
       "      <td>16</td>\n",
       "      <td>11</td>\n",
       "      <td>22</td>\n",
       "      <td>32</td>\n",
       "      <td>70</td>\n",
       "      <td>76</td>\n",
       "      <td>88</td>\n",
       "      <td>92</td>\n",
       "      <td>89</td>\n",
       "      <td>62</td>\n",
       "      <td>48</td>\n",
       "      <td>50</td>\n",
       "      <td>59</td>\n",
       "      <td>33</td>\n",
       "      <td>31</td>\n",
       "      <td>14</td>\n",
       "      <td>21</td>\n",
       "      <td>18</td>\n",
       "      <td>12</td>\n",
       "      <td>19</td>\n",
       "      <td>5</td>\n",
       "      <td>5</td>\n",
       "      <td>7</td>\n",
       "      <td>1</td>\n",
       "      <td>5</td>\n",
       "      <td>-61</td>\n",
       "      <td>-25</td>\n",
       "    </tr>\n",
       "    <tr>\n",
       "      <th>12.937282</th>\n",
       "      <th>0.0</th>\n",
       "      <th>400.0</th>\n",
       "      <th>0.00000</th>\n",
       "      <th>134.81291</th>\n",
       "      <th>-1.0</th>\n",
       "      <th>-1.0</th>\n",
       "      <td>-2</td>\n",
       "      <td>2</td>\n",
       "      <td>4</td>\n",
       "      <td>-1</td>\n",
       "      <td>4</td>\n",
       "      <td>9</td>\n",
       "      <td>-1</td>\n",
       "      <td>9</td>\n",
       "      <td>28</td>\n",
       "      <td>21</td>\n",
       "      <td>32</td>\n",
       "      <td>35</td>\n",
       "      <td>45</td>\n",
       "      <td>30</td>\n",
       "      <td>29</td>\n",
       "      <td>37</td>\n",
       "      <td>34</td>\n",
       "      <td>43</td>\n",
       "      <td>33</td>\n",
       "      <td>25</td>\n",
       "      <td>17</td>\n",
       "      <td>21</td>\n",
       "      <td>19</td>\n",
       "      <td>12</td>\n",
       "      <td>14</td>\n",
       "      <td>10</td>\n",
       "      <td>8</td>\n",
       "      <td>12</td>\n",
       "      <td>12</td>\n",
       "      <td>8</td>\n",
       "      <td>21</td>\n",
       "      <td>66</td>\n",
       "    </tr>\n",
       "    <tr>\n",
       "      <th>12.942082</th>\n",
       "      <th>0.0</th>\n",
       "      <th>400.0</th>\n",
       "      <th>0.00000</th>\n",
       "      <th>134.81291</th>\n",
       "      <th>-1.0</th>\n",
       "      <th>-1.0</th>\n",
       "      <td>12</td>\n",
       "      <td>8</td>\n",
       "      <td>7</td>\n",
       "      <td>16</td>\n",
       "      <td>17</td>\n",
       "      <td>14</td>\n",
       "      <td>16</td>\n",
       "      <td>25</td>\n",
       "      <td>35</td>\n",
       "      <td>43</td>\n",
       "      <td>55</td>\n",
       "      <td>63</td>\n",
       "      <td>67</td>\n",
       "      <td>59</td>\n",
       "      <td>54</td>\n",
       "      <td>59</td>\n",
       "      <td>56</td>\n",
       "      <td>63</td>\n",
       "      <td>57</td>\n",
       "      <td>40</td>\n",
       "      <td>35</td>\n",
       "      <td>28</td>\n",
       "      <td>32</td>\n",
       "      <td>24</td>\n",
       "      <td>21</td>\n",
       "      <td>20</td>\n",
       "      <td>18</td>\n",
       "      <td>13</td>\n",
       "      <td>16</td>\n",
       "      <td>18</td>\n",
       "      <td>18</td>\n",
       "      <td>87</td>\n",
       "    </tr>\n",
       "    <tr>\n",
       "      <th>12.946882</th>\n",
       "      <th>0.0</th>\n",
       "      <th>400.0</th>\n",
       "      <th>0.00000</th>\n",
       "      <th>134.81291</th>\n",
       "      <th>-1.0</th>\n",
       "      <th>-1.0</th>\n",
       "      <td>19</td>\n",
       "      <td>11</td>\n",
       "      <td>10</td>\n",
       "      <td>22</td>\n",
       "      <td>23</td>\n",
       "      <td>20</td>\n",
       "      <td>23</td>\n",
       "      <td>30</td>\n",
       "      <td>36</td>\n",
       "      <td>7</td>\n",
       "      <td>31</td>\n",
       "      <td>52</td>\n",
       "      <td>57</td>\n",
       "      <td>49</td>\n",
       "      <td>48</td>\n",
       "      <td>52</td>\n",
       "      <td>50</td>\n",
       "      <td>57</td>\n",
       "      <td>54</td>\n",
       "      <td>35</td>\n",
       "      <td>31</td>\n",
       "      <td>26</td>\n",
       "      <td>26</td>\n",
       "      <td>21</td>\n",
       "      <td>21</td>\n",
       "      <td>15</td>\n",
       "      <td>12</td>\n",
       "      <td>11</td>\n",
       "      <td>9</td>\n",
       "      <td>11</td>\n",
       "      <td>-3</td>\n",
       "      <td>23</td>\n",
       "    </tr>\n",
       "    <tr>\n",
       "      <th>12.951682</th>\n",
       "      <th>0.0</th>\n",
       "      <th>400.0</th>\n",
       "      <th>0.00000</th>\n",
       "      <th>134.81291</th>\n",
       "      <th>-1.0</th>\n",
       "      <th>-1.0</th>\n",
       "      <td>2</td>\n",
       "      <td>6</td>\n",
       "      <td>11</td>\n",
       "      <td>6</td>\n",
       "      <td>10</td>\n",
       "      <td>19</td>\n",
       "      <td>8</td>\n",
       "      <td>17</td>\n",
       "      <td>29</td>\n",
       "      <td>-1</td>\n",
       "      <td>10</td>\n",
       "      <td>16</td>\n",
       "      <td>23</td>\n",
       "      <td>18</td>\n",
       "      <td>20</td>\n",
       "      <td>27</td>\n",
       "      <td>23</td>\n",
       "      <td>31</td>\n",
       "      <td>31</td>\n",
       "      <td>27</td>\n",
       "      <td>26</td>\n",
       "      <td>22</td>\n",
       "      <td>24</td>\n",
       "      <td>23</td>\n",
       "      <td>26</td>\n",
       "      <td>20</td>\n",
       "      <td>19</td>\n",
       "      <td>20</td>\n",
       "      <td>20</td>\n",
       "      <td>21</td>\n",
       "      <td>31</td>\n",
       "      <td>56</td>\n",
       "    </tr>\n",
       "    <tr>\n",
       "      <th>...</th>\n",
       "      <th>...</th>\n",
       "      <th>...</th>\n",
       "      <th>...</th>\n",
       "      <th>...</th>\n",
       "      <th>...</th>\n",
       "      <th>...</th>\n",
       "      <td>...</td>\n",
       "      <td>...</td>\n",
       "      <td>...</td>\n",
       "      <td>...</td>\n",
       "      <td>...</td>\n",
       "      <td>...</td>\n",
       "      <td>...</td>\n",
       "      <td>...</td>\n",
       "      <td>...</td>\n",
       "      <td>...</td>\n",
       "      <td>...</td>\n",
       "      <td>...</td>\n",
       "      <td>...</td>\n",
       "      <td>...</td>\n",
       "      <td>...</td>\n",
       "      <td>...</td>\n",
       "      <td>...</td>\n",
       "      <td>...</td>\n",
       "      <td>...</td>\n",
       "      <td>...</td>\n",
       "      <td>...</td>\n",
       "      <td>...</td>\n",
       "      <td>...</td>\n",
       "      <td>...</td>\n",
       "      <td>...</td>\n",
       "      <td>...</td>\n",
       "      <td>...</td>\n",
       "      <td>...</td>\n",
       "      <td>...</td>\n",
       "      <td>...</td>\n",
       "      <td>...</td>\n",
       "      <td>...</td>\n",
       "    </tr>\n",
       "    <tr>\n",
       "      <th>4238.544615</th>\n",
       "      <th>50.0</th>\n",
       "      <th>400.0</th>\n",
       "      <th>4185.48398</th>\n",
       "      <th>4185.48459</th>\n",
       "      <th>2.0</th>\n",
       "      <th>899.0</th>\n",
       "      <td>-21</td>\n",
       "      <td>-6</td>\n",
       "      <td>0</td>\n",
       "      <td>-17</td>\n",
       "      <td>-18</td>\n",
       "      <td>-3</td>\n",
       "      <td>-14</td>\n",
       "      <td>0</td>\n",
       "      <td>18</td>\n",
       "      <td>14</td>\n",
       "      <td>23</td>\n",
       "      <td>20</td>\n",
       "      <td>9</td>\n",
       "      <td>19</td>\n",
       "      <td>24</td>\n",
       "      <td>16</td>\n",
       "      <td>17</td>\n",
       "      <td>-11</td>\n",
       "      <td>24</td>\n",
       "      <td>29</td>\n",
       "      <td>22</td>\n",
       "      <td>24</td>\n",
       "      <td>25</td>\n",
       "      <td>20</td>\n",
       "      <td>19</td>\n",
       "      <td>13</td>\n",
       "      <td>14</td>\n",
       "      <td>8</td>\n",
       "      <td>10</td>\n",
       "      <td>10</td>\n",
       "      <td>-12</td>\n",
       "      <td>13</td>\n",
       "    </tr>\n",
       "    <tr>\n",
       "      <th>4238.549415</th>\n",
       "      <th>50.0</th>\n",
       "      <th>400.0</th>\n",
       "      <th>4185.48398</th>\n",
       "      <th>4185.48459</th>\n",
       "      <th>2.0</th>\n",
       "      <th>899.0</th>\n",
       "      <td>-17</td>\n",
       "      <td>-15</td>\n",
       "      <td>-13</td>\n",
       "      <td>-18</td>\n",
       "      <td>-27</td>\n",
       "      <td>-24</td>\n",
       "      <td>-24</td>\n",
       "      <td>-23</td>\n",
       "      <td>-16</td>\n",
       "      <td>-26</td>\n",
       "      <td>-12</td>\n",
       "      <td>15</td>\n",
       "      <td>-1</td>\n",
       "      <td>11</td>\n",
       "      <td>6</td>\n",
       "      <td>-1</td>\n",
       "      <td>-5</td>\n",
       "      <td>-26</td>\n",
       "      <td>-11</td>\n",
       "      <td>0</td>\n",
       "      <td>-4</td>\n",
       "      <td>-6</td>\n",
       "      <td>1</td>\n",
       "      <td>1</td>\n",
       "      <td>-5</td>\n",
       "      <td>1</td>\n",
       "      <td>9</td>\n",
       "      <td>-9</td>\n",
       "      <td>-2</td>\n",
       "      <td>14</td>\n",
       "      <td>-15</td>\n",
       "      <td>35</td>\n",
       "    </tr>\n",
       "    <tr>\n",
       "      <th>4238.554215</th>\n",
       "      <th>50.0</th>\n",
       "      <th>400.0</th>\n",
       "      <th>4185.48398</th>\n",
       "      <th>4185.48459</th>\n",
       "      <th>2.0</th>\n",
       "      <th>899.0</th>\n",
       "      <td>-11</td>\n",
       "      <td>-22</td>\n",
       "      <td>-28</td>\n",
       "      <td>-9</td>\n",
       "      <td>-22</td>\n",
       "      <td>-35</td>\n",
       "      <td>-7</td>\n",
       "      <td>-18</td>\n",
       "      <td>-28</td>\n",
       "      <td>10</td>\n",
       "      <td>0</td>\n",
       "      <td>18</td>\n",
       "      <td>4</td>\n",
       "      <td>12</td>\n",
       "      <td>12</td>\n",
       "      <td>1</td>\n",
       "      <td>2</td>\n",
       "      <td>-15</td>\n",
       "      <td>-3</td>\n",
       "      <td>-12</td>\n",
       "      <td>-17</td>\n",
       "      <td>-22</td>\n",
       "      <td>-15</td>\n",
       "      <td>-21</td>\n",
       "      <td>-25</td>\n",
       "      <td>-24</td>\n",
       "      <td>-17</td>\n",
       "      <td>-30</td>\n",
       "      <td>-31</td>\n",
       "      <td>-16</td>\n",
       "      <td>-71</td>\n",
       "      <td>-32</td>\n",
       "    </tr>\n",
       "    <tr>\n",
       "      <th>4238.559015</th>\n",
       "      <th>50.0</th>\n",
       "      <th>400.0</th>\n",
       "      <th>4185.48398</th>\n",
       "      <th>4185.48459</th>\n",
       "      <th>2.0</th>\n",
       "      <th>899.0</th>\n",
       "      <td>3</td>\n",
       "      <td>-11</td>\n",
       "      <td>-16</td>\n",
       "      <td>0</td>\n",
       "      <td>-12</td>\n",
       "      <td>-30</td>\n",
       "      <td>-1</td>\n",
       "      <td>-13</td>\n",
       "      <td>-34</td>\n",
       "      <td>-13</td>\n",
       "      <td>-21</td>\n",
       "      <td>-20</td>\n",
       "      <td>-26</td>\n",
       "      <td>-28</td>\n",
       "      <td>-20</td>\n",
       "      <td>-29</td>\n",
       "      <td>-23</td>\n",
       "      <td>-29</td>\n",
       "      <td>-20</td>\n",
       "      <td>-28</td>\n",
       "      <td>-28</td>\n",
       "      <td>-32</td>\n",
       "      <td>-28</td>\n",
       "      <td>-28</td>\n",
       "      <td>-30</td>\n",
       "      <td>-31</td>\n",
       "      <td>-26</td>\n",
       "      <td>-27</td>\n",
       "      <td>-29</td>\n",
       "      <td>-21</td>\n",
       "      <td>-47</td>\n",
       "      <td>-43</td>\n",
       "    </tr>\n",
       "    <tr>\n",
       "      <th>4238.563815</th>\n",
       "      <th>50.0</th>\n",
       "      <th>400.0</th>\n",
       "      <th>4185.48398</th>\n",
       "      <th>4185.48459</th>\n",
       "      <th>2.0</th>\n",
       "      <th>899.0</th>\n",
       "      <td>31</td>\n",
       "      <td>18</td>\n",
       "      <td>18</td>\n",
       "      <td>23</td>\n",
       "      <td>12</td>\n",
       "      <td>0</td>\n",
       "      <td>15</td>\n",
       "      <td>2</td>\n",
       "      <td>-14</td>\n",
       "      <td>-33</td>\n",
       "      <td>-25</td>\n",
       "      <td>-23</td>\n",
       "      <td>-27</td>\n",
       "      <td>-33</td>\n",
       "      <td>-28</td>\n",
       "      <td>-27</td>\n",
       "      <td>-19</td>\n",
       "      <td>-16</td>\n",
       "      <td>-13</td>\n",
       "      <td>-13</td>\n",
       "      <td>-10</td>\n",
       "      <td>-12</td>\n",
       "      <td>-7</td>\n",
       "      <td>5</td>\n",
       "      <td>-1</td>\n",
       "      <td>4</td>\n",
       "      <td>12</td>\n",
       "      <td>6</td>\n",
       "      <td>10</td>\n",
       "      <td>23</td>\n",
       "      <td>5</td>\n",
       "      <td>7</td>\n",
       "    </tr>\n",
       "  </tbody>\n",
       "</table>\n",
       "<p>880342 rows × 32 columns</p>\n",
       "</div>"
      ],
      "text/plain": [
       "                                                                   0   1   2   \\\n",
       "time        amplitude duration onset      offset     sweep id                   \n",
       "12.932482   0.0       400.0    0.00000    134.81291  -1.0  -1.0    12   7   6   \n",
       "12.937282   0.0       400.0    0.00000    134.81291  -1.0  -1.0    -2   2   4   \n",
       "12.942082   0.0       400.0    0.00000    134.81291  -1.0  -1.0    12   8   7   \n",
       "12.946882   0.0       400.0    0.00000    134.81291  -1.0  -1.0    19  11  10   \n",
       "12.951682   0.0       400.0    0.00000    134.81291  -1.0  -1.0     2   6  11   \n",
       "...                                                                ..  ..  ..   \n",
       "4238.544615 50.0      400.0    4185.48398 4185.48459  2.0   899.0 -21  -6   0   \n",
       "4238.549415 50.0      400.0    4185.48398 4185.48459  2.0   899.0 -17 -15 -13   \n",
       "4238.554215 50.0      400.0    4185.48398 4185.48459  2.0   899.0 -11 -22 -28   \n",
       "4238.559015 50.0      400.0    4185.48398 4185.48459  2.0   899.0   3 -11 -16   \n",
       "4238.563815 50.0      400.0    4185.48398 4185.48459  2.0   899.0  31  18  18   \n",
       "\n",
       "                                                                   3   4   5   \\\n",
       "time        amplitude duration onset      offset     sweep id                   \n",
       "12.932482   0.0       400.0    0.00000    134.81291  -1.0  -1.0    11  17  16   \n",
       "12.937282   0.0       400.0    0.00000    134.81291  -1.0  -1.0    -1   4   9   \n",
       "12.942082   0.0       400.0    0.00000    134.81291  -1.0  -1.0    16  17  14   \n",
       "12.946882   0.0       400.0    0.00000    134.81291  -1.0  -1.0    22  23  20   \n",
       "12.951682   0.0       400.0    0.00000    134.81291  -1.0  -1.0     6  10  19   \n",
       "...                                                                ..  ..  ..   \n",
       "4238.544615 50.0      400.0    4185.48398 4185.48459  2.0   899.0 -17 -18  -3   \n",
       "4238.549415 50.0      400.0    4185.48398 4185.48459  2.0   899.0 -18 -27 -24   \n",
       "4238.554215 50.0      400.0    4185.48398 4185.48459  2.0   899.0  -9 -22 -35   \n",
       "4238.559015 50.0      400.0    4185.48398 4185.48459  2.0   899.0   0 -12 -30   \n",
       "4238.563815 50.0      400.0    4185.48398 4185.48459  2.0   899.0  23  12   0   \n",
       "\n",
       "                                                                   6   7   8   \\\n",
       "time        amplitude duration onset      offset     sweep id                   \n",
       "12.932482   0.0       400.0    0.00000    134.81291  -1.0  -1.0    11  22  32   \n",
       "12.937282   0.0       400.0    0.00000    134.81291  -1.0  -1.0    -1   9  28   \n",
       "12.942082   0.0       400.0    0.00000    134.81291  -1.0  -1.0    16  25  35   \n",
       "12.946882   0.0       400.0    0.00000    134.81291  -1.0  -1.0    23  30  36   \n",
       "12.951682   0.0       400.0    0.00000    134.81291  -1.0  -1.0     8  17  29   \n",
       "...                                                                ..  ..  ..   \n",
       "4238.544615 50.0      400.0    4185.48398 4185.48459  2.0   899.0 -14   0  18   \n",
       "4238.549415 50.0      400.0    4185.48398 4185.48459  2.0   899.0 -24 -23 -16   \n",
       "4238.554215 50.0      400.0    4185.48398 4185.48459  2.0   899.0  -7 -18 -28   \n",
       "4238.559015 50.0      400.0    4185.48398 4185.48459  2.0   899.0  -1 -13 -34   \n",
       "4238.563815 50.0      400.0    4185.48398 4185.48459  2.0   899.0  15   2 -14   \n",
       "\n",
       "                                                                   9   10  11  \\\n",
       "time        amplitude duration onset      offset     sweep id                   \n",
       "12.932482   0.0       400.0    0.00000    134.81291  -1.0  -1.0    70  76  88   \n",
       "12.937282   0.0       400.0    0.00000    134.81291  -1.0  -1.0    21  32  35   \n",
       "12.942082   0.0       400.0    0.00000    134.81291  -1.0  -1.0    43  55  63   \n",
       "12.946882   0.0       400.0    0.00000    134.81291  -1.0  -1.0     7  31  52   \n",
       "12.951682   0.0       400.0    0.00000    134.81291  -1.0  -1.0    -1  10  16   \n",
       "...                                                                ..  ..  ..   \n",
       "4238.544615 50.0      400.0    4185.48398 4185.48459  2.0   899.0  14  23  20   \n",
       "4238.549415 50.0      400.0    4185.48398 4185.48459  2.0   899.0 -26 -12  15   \n",
       "4238.554215 50.0      400.0    4185.48398 4185.48459  2.0   899.0  10   0  18   \n",
       "4238.559015 50.0      400.0    4185.48398 4185.48459  2.0   899.0 -13 -21 -20   \n",
       "4238.563815 50.0      400.0    4185.48398 4185.48459  2.0   899.0 -33 -25 -23   \n",
       "\n",
       "                                                                   12  13  14  \\\n",
       "time        amplitude duration onset      offset     sweep id                   \n",
       "12.932482   0.0       400.0    0.00000    134.81291  -1.0  -1.0    92  89  62   \n",
       "12.937282   0.0       400.0    0.00000    134.81291  -1.0  -1.0    45  30  29   \n",
       "12.942082   0.0       400.0    0.00000    134.81291  -1.0  -1.0    67  59  54   \n",
       "12.946882   0.0       400.0    0.00000    134.81291  -1.0  -1.0    57  49  48   \n",
       "12.951682   0.0       400.0    0.00000    134.81291  -1.0  -1.0    23  18  20   \n",
       "...                                                                ..  ..  ..   \n",
       "4238.544615 50.0      400.0    4185.48398 4185.48459  2.0   899.0   9  19  24   \n",
       "4238.549415 50.0      400.0    4185.48398 4185.48459  2.0   899.0  -1  11   6   \n",
       "4238.554215 50.0      400.0    4185.48398 4185.48459  2.0   899.0   4  12  12   \n",
       "4238.559015 50.0      400.0    4185.48398 4185.48459  2.0   899.0 -26 -28 -20   \n",
       "4238.563815 50.0      400.0    4185.48398 4185.48459  2.0   899.0 -27 -33 -28   \n",
       "\n",
       "                                                                   15  16  17  \\\n",
       "time        amplitude duration onset      offset     sweep id                   \n",
       "12.932482   0.0       400.0    0.00000    134.81291  -1.0  -1.0    48  50  59   \n",
       "12.937282   0.0       400.0    0.00000    134.81291  -1.0  -1.0    37  34  43   \n",
       "12.942082   0.0       400.0    0.00000    134.81291  -1.0  -1.0    59  56  63   \n",
       "12.946882   0.0       400.0    0.00000    134.81291  -1.0  -1.0    52  50  57   \n",
       "12.951682   0.0       400.0    0.00000    134.81291  -1.0  -1.0    27  23  31   \n",
       "...                                                                ..  ..  ..   \n",
       "4238.544615 50.0      400.0    4185.48398 4185.48459  2.0   899.0  16  17 -11   \n",
       "4238.549415 50.0      400.0    4185.48398 4185.48459  2.0   899.0  -1  -5 -26   \n",
       "4238.554215 50.0      400.0    4185.48398 4185.48459  2.0   899.0   1   2 -15   \n",
       "4238.559015 50.0      400.0    4185.48398 4185.48459  2.0   899.0 -29 -23 -29   \n",
       "4238.563815 50.0      400.0    4185.48398 4185.48459  2.0   899.0 -27 -19 -16   \n",
       "\n",
       "                                                                   18  19  20  \\\n",
       "time        amplitude duration onset      offset     sweep id                   \n",
       "12.932482   0.0       400.0    0.00000    134.81291  -1.0  -1.0    33  31  14   \n",
       "12.937282   0.0       400.0    0.00000    134.81291  -1.0  -1.0    33  25  17   \n",
       "12.942082   0.0       400.0    0.00000    134.81291  -1.0  -1.0    57  40  35   \n",
       "12.946882   0.0       400.0    0.00000    134.81291  -1.0  -1.0    54  35  31   \n",
       "12.951682   0.0       400.0    0.00000    134.81291  -1.0  -1.0    31  27  26   \n",
       "...                                                                ..  ..  ..   \n",
       "4238.544615 50.0      400.0    4185.48398 4185.48459  2.0   899.0  24  29  22   \n",
       "4238.549415 50.0      400.0    4185.48398 4185.48459  2.0   899.0 -11   0  -4   \n",
       "4238.554215 50.0      400.0    4185.48398 4185.48459  2.0   899.0  -3 -12 -17   \n",
       "4238.559015 50.0      400.0    4185.48398 4185.48459  2.0   899.0 -20 -28 -28   \n",
       "4238.563815 50.0      400.0    4185.48398 4185.48459  2.0   899.0 -13 -13 -10   \n",
       "\n",
       "                                                                   21  22  23  \\\n",
       "time        amplitude duration onset      offset     sweep id                   \n",
       "12.932482   0.0       400.0    0.00000    134.81291  -1.0  -1.0    21  18  12   \n",
       "12.937282   0.0       400.0    0.00000    134.81291  -1.0  -1.0    21  19  12   \n",
       "12.942082   0.0       400.0    0.00000    134.81291  -1.0  -1.0    28  32  24   \n",
       "12.946882   0.0       400.0    0.00000    134.81291  -1.0  -1.0    26  26  21   \n",
       "12.951682   0.0       400.0    0.00000    134.81291  -1.0  -1.0    22  24  23   \n",
       "...                                                                ..  ..  ..   \n",
       "4238.544615 50.0      400.0    4185.48398 4185.48459  2.0   899.0  24  25  20   \n",
       "4238.549415 50.0      400.0    4185.48398 4185.48459  2.0   899.0  -6   1   1   \n",
       "4238.554215 50.0      400.0    4185.48398 4185.48459  2.0   899.0 -22 -15 -21   \n",
       "4238.559015 50.0      400.0    4185.48398 4185.48459  2.0   899.0 -32 -28 -28   \n",
       "4238.563815 50.0      400.0    4185.48398 4185.48459  2.0   899.0 -12  -7   5   \n",
       "\n",
       "                                                                   24  25  26  \\\n",
       "time        amplitude duration onset      offset     sweep id                   \n",
       "12.932482   0.0       400.0    0.00000    134.81291  -1.0  -1.0    19   5   5   \n",
       "12.937282   0.0       400.0    0.00000    134.81291  -1.0  -1.0    14  10   8   \n",
       "12.942082   0.0       400.0    0.00000    134.81291  -1.0  -1.0    21  20  18   \n",
       "12.946882   0.0       400.0    0.00000    134.81291  -1.0  -1.0    21  15  12   \n",
       "12.951682   0.0       400.0    0.00000    134.81291  -1.0  -1.0    26  20  19   \n",
       "...                                                                ..  ..  ..   \n",
       "4238.544615 50.0      400.0    4185.48398 4185.48459  2.0   899.0  19  13  14   \n",
       "4238.549415 50.0      400.0    4185.48398 4185.48459  2.0   899.0  -5   1   9   \n",
       "4238.554215 50.0      400.0    4185.48398 4185.48459  2.0   899.0 -25 -24 -17   \n",
       "4238.559015 50.0      400.0    4185.48398 4185.48459  2.0   899.0 -30 -31 -26   \n",
       "4238.563815 50.0      400.0    4185.48398 4185.48459  2.0   899.0  -1   4  12   \n",
       "\n",
       "                                                                   27  28  29  \\\n",
       "time        amplitude duration onset      offset     sweep id                   \n",
       "12.932482   0.0       400.0    0.00000    134.81291  -1.0  -1.0     7   1   5   \n",
       "12.937282   0.0       400.0    0.00000    134.81291  -1.0  -1.0    12  12   8   \n",
       "12.942082   0.0       400.0    0.00000    134.81291  -1.0  -1.0    13  16  18   \n",
       "12.946882   0.0       400.0    0.00000    134.81291  -1.0  -1.0    11   9  11   \n",
       "12.951682   0.0       400.0    0.00000    134.81291  -1.0  -1.0    20  20  21   \n",
       "...                                                                ..  ..  ..   \n",
       "4238.544615 50.0      400.0    4185.48398 4185.48459  2.0   899.0   8  10  10   \n",
       "4238.549415 50.0      400.0    4185.48398 4185.48459  2.0   899.0  -9  -2  14   \n",
       "4238.554215 50.0      400.0    4185.48398 4185.48459  2.0   899.0 -30 -31 -16   \n",
       "4238.559015 50.0      400.0    4185.48398 4185.48459  2.0   899.0 -27 -29 -21   \n",
       "4238.563815 50.0      400.0    4185.48398 4185.48459  2.0   899.0   6  10  23   \n",
       "\n",
       "                                                                   30  31  \n",
       "time        amplitude duration onset      offset     sweep id              \n",
       "12.932482   0.0       400.0    0.00000    134.81291  -1.0  -1.0   -61 -25  \n",
       "12.937282   0.0       400.0    0.00000    134.81291  -1.0  -1.0    21  66  \n",
       "12.942082   0.0       400.0    0.00000    134.81291  -1.0  -1.0    18  87  \n",
       "12.946882   0.0       400.0    0.00000    134.81291  -1.0  -1.0    -3  23  \n",
       "12.951682   0.0       400.0    0.00000    134.81291  -1.0  -1.0    31  56  \n",
       "...                                                                ..  ..  \n",
       "4238.544615 50.0      400.0    4185.48398 4185.48459  2.0   899.0 -12  13  \n",
       "4238.549415 50.0      400.0    4185.48398 4185.48459  2.0   899.0 -15  35  \n",
       "4238.554215 50.0      400.0    4185.48398 4185.48459  2.0   899.0 -71 -32  \n",
       "4238.559015 50.0      400.0    4185.48398 4185.48459  2.0   899.0 -47 -43  \n",
       "4238.563815 50.0      400.0    4185.48398 4185.48459  2.0   899.0   5   7  \n",
       "\n",
       "[880342 rows x 32 columns]"
      ]
     },
     "execution_count": 4,
     "metadata": {},
     "output_type": "execute_result"
    }
   ],
   "source": [
    "# reindex eegdata to include all stimulus information in its index\n",
    "T_PRESTIM = 2.5 # length of window before stimulus onset (~4-this is the response time)\n",
    "if exp.experiment_type == 'electrical stimulation':\n",
    "    stimuli = pd.read_csv(exp.stimulus_log_file)\n",
    "else:\n",
    "    stimuli = None\n",
    "stimuli['id'] = range(len(stimuli))\n",
    "stimuli['window_onset'] = stimuli.onset.map(lambda x: x-T_PRESTIM)\n",
    "_stimuli = stimuli.set_index('window_onset').reindex(eegdata.index, method='ffill')\n",
    "_stimuli.fillna(dict(stim_type=-1, amplitude=0, onset=0, sweep=-1, id=-1), inplace=True)\n",
    "_onset = _stimuli[_stimuli.id==0].iloc[0]\n",
    "_stimuli.fillna(_onset, inplace=True)\n",
    "metastim = pd.MultiIndex.from_arrays(\n",
    "    [_stimuli.index.rename('time'),\n",
    "    _stimuli.amplitude,\n",
    "    _stimuli.duration,\n",
    "    _stimuli.onset,\n",
    "    _stimuli.offset,\n",
    "    _stimuli.sweep,\n",
    "    _stimuli.id],\n",
    ")\n",
    "eegdata.index = metastim\n",
    "eegdata = eegdata.loc[eegdata.index.dropna()]\n",
    "sample_rate = 1/np.diff(eegdata.index.get_level_values('time')).mean()\n",
    "eegdata"
   ]
  },
  {
   "cell_type": "code",
   "execution_count": 5,
   "metadata": {
    "execution": {
     "iopub.execute_input": "2020-10-20T22:56:09.064269Z",
     "iopub.status.busy": "2020-10-20T22:56:09.064082Z",
     "iopub.status.idle": "2020-10-20T22:56:09.239290Z",
     "shell.execute_reply": "2020-10-20T22:56:09.238723Z",
     "shell.execute_reply.started": "2020-10-20T22:56:09.064242Z"
    }
   },
   "outputs": [
    {
     "data": {
      "application/vnd.jupyter.widget-view+json": {
       "model_id": "a1abada6fce34e00b09e3894ae4cc0ec",
       "version_major": 2,
       "version_minor": 0
      },
      "text/plain": [
       "Canvas(toolbar=Toolbar(toolitems=[('Home', 'Reset original view', 'home', 'home'), ('Back', 'Back to previous …"
      ]
     },
     "metadata": {},
     "output_type": "display_data"
    }
   ],
   "source": [
    "f, ax = plt.subplots(1, 1, figsize=(2.3, 2.3), constrained_layout=True)\n",
    "plot_electrode_map(ax, labels=False, numbers=True, box=False, s=50)"
   ]
  },
  {
   "cell_type": "markdown",
   "metadata": {},
   "source": [
    "---"
   ]
  },
  {
   "cell_type": "markdown",
   "metadata": {},
   "source": [
    "# Characterizing effects of a hard boundary and predictability"
   ]
  },
  {
   "cell_type": "code",
   "execution_count": 6,
   "metadata": {
    "execution": {
     "iopub.execute_input": "2020-10-20T22:56:09.240164Z",
     "iopub.status.busy": "2020-10-20T22:56:09.239981Z",
     "iopub.status.idle": "2020-10-20T22:56:09.261559Z",
     "shell.execute_reply": "2020-10-20T22:56:09.260935Z",
     "shell.execute_reply.started": "2020-10-20T22:56:09.240138Z"
    }
   },
   "outputs": [
    {
     "data": {
      "text/plain": [
       "time\n",
       "12.932482     22\n",
       "12.937282      9\n",
       "12.942082     25\n",
       "12.946882     30\n",
       "12.951682     17\n",
       "              ..\n",
       "132.289457    14\n",
       "132.294257    27\n",
       "132.299057    -6\n",
       "132.303857   -28\n",
       "132.308657   -11\n",
       "Name: 7, Length: 24871, dtype: int16"
      ]
     },
     "metadata": {},
     "output_type": "display_data"
    }
   ],
   "source": [
    "# look at a particular channel, and prestimulus data to evaluate baseline\n",
    "tid = -1\n",
    "ch = 7\n",
    "data = eegdata.xs(tid, level='id')[ch]\n",
    "time = data.index.get_level_values('time')\n",
    "data.index = time\n",
    "display(data)"
   ]
  },
  {
   "cell_type": "code",
   "execution_count": 78,
   "metadata": {
    "execution": {
     "iopub.execute_input": "2020-10-20T23:25:00.107177Z",
     "iopub.status.busy": "2020-10-20T23:25:00.106255Z",
     "iopub.status.idle": "2020-10-20T23:25:01.606378Z",
     "shell.execute_reply": "2020-10-20T23:25:01.604099Z",
     "shell.execute_reply.started": "2020-10-20T23:25:00.107056Z"
    }
   },
   "outputs": [],
   "source": [
    "def _filter_data(data, band='delta', order=3):\n",
    "    return pd.Series(filters.butter_bandpass_filter(\n",
    "        data.values[:, np.newaxis], bands[band][0], bands[band][1],\n",
    "        sample_rate, order\n",
    "    )[:, 0], index = data.index)\n",
    "\n",
    "def _linear_predict(data_filtered, pred_len_s=0.1, buf_s=2):\n",
    "    hilbert = pd.Series(signal.hilbert(data_filtered), index=data_filtered.index, name='hilbert')\n",
    "    ampl = hilbert.abs().rename('amplitude') # amplitude of signal\n",
    "    angl = hilbert.apply(np.angle).rename('angle') # phase of signal\n",
    "    uangl = pd.Series(np.unwrap(angl), index=angl.index, name='unwrapped_angle')\n",
    "    len_fit = int(pred_len_s*sample_rate)\n",
    "    buf_n = int(buf_s*sample_rate)\n",
    "    m, c = np.polyfit(uangl.index[buf_n:-len_fit], uangl.values[buf_n:-len_fit], 1)\n",
    "    uangl_pred = pd.Series(\n",
    "        m*uangl.index + c,\n",
    "#         np.r_[uangl.values[:-len_fit], m*uangl.index[-len_fit:] + c],\n",
    "        index=uangl.index, name='predicted_unwrapped_angle'\n",
    "    )\n",
    "#     print(uangl.values[buf_n:-len_fit].mean())\n",
    "#     uangl_pred = uangl_pred - uangl_pred.values[buf_n:-len_fit].mean() + uangl.values[buf_n:-len_fit].mean()\n",
    "#     print(uangl_pred.values[buf_n:-len_fit].mean())\n",
    "    angl_pred = ((uangl_pred + np.pi) % (2 * np.pi) - np.pi).rename('predicted_angle')\n",
    "    return pd.concat([hilbert, ampl, angl, uangl, uangl_pred, angl_pred], axis=1)"
   ]
  },
  {
   "cell_type": "code",
   "execution_count": 79,
   "metadata": {
    "execution": {
     "iopub.execute_input": "2020-10-20T23:25:01.882627Z",
     "iopub.status.busy": "2020-10-20T23:25:01.881647Z",
     "iopub.status.idle": "2020-10-20T23:25:01.986964Z",
     "shell.execute_reply": "2020-10-20T23:25:01.986447Z",
     "shell.execute_reply.started": "2020-10-20T23:25:01.882481Z"
    }
   },
   "outputs": [
    {
     "data": {
      "application/vnd.jupyter.widget-view+json": {
       "model_id": "715918590420424885f01a1b84635fc7",
       "version_major": 2,
       "version_minor": 0
      },
      "text/plain": [
       "Canvas(toolbar=Toolbar(toolitems=[('Home', 'Reset original view', 'home', 'home'), ('Back', 'Back to previous …"
      ]
     },
     "metadata": {},
     "output_type": "display_data"
    }
   ],
   "source": [
    "data_filtered = _filter_data(data.loc[90:95])\n",
    "_ret = _linear_predict(data_filtered, 1)\n",
    "f, (ax, axu) = plt.subplots(2, 1, figsize=(7, 4), tight_layout=True)\n",
    "ax.axvline(92, c='k')\n",
    "ax.axvline(94, c='k')\n",
    "_ret.angle.plot(ax=ax)\n",
    "_ret.predicted_angle.plot(ax=ax)\n",
    "_ret.unwrapped_angle.plot(ax=axu)\n",
    "_ret.predicted_unwrapped_angle.plot(ax=axu);"
   ]
  },
  {
   "cell_type": "code",
   "execution_count": 80,
   "metadata": {
    "execution": {
     "iopub.execute_input": "2020-10-20T23:25:03.320436Z",
     "iopub.status.busy": "2020-10-20T23:25:03.319446Z",
     "iopub.status.idle": "2020-10-20T23:25:03.345479Z",
     "shell.execute_reply": "2020-10-20T23:25:03.344815Z",
     "shell.execute_reply.started": "2020-10-20T23:25:03.320293Z"
    }
   },
   "outputs": [],
   "source": [
    "# for a chunk of time, compare actual phase (boundary far away) and phase if filtered only up to a closer boundary\n",
    "# Then also use the larger chunk to filter and predict phase in region where edge effect of hilbert is not strong\n",
    "def _txd_data(data, edge_s=2, pred_len_s=3, buf_s=3, band='delta', order=3):\n",
    "    edge_n = int(edge_s*sample_rate)\n",
    "    pred_len_n = int(pred_len_s*sample_rate)\n",
    "    # filter entire timeseries\n",
    "    filtered_full = _filter_data(data, band, order).rename('filtered')\n",
    "    filtered_part = _filter_data(data.loc[:data.index[-1]-edge_s], band, order).rename('filtered')\n",
    "    # hilbert transform filtered timeseries\n",
    "    hilbert_full = _linear_predict(filtered_full, pred_len_s, buf_s)\n",
    "    hilbert_part = _linear_predict(filtered_part, pred_len_s, 0)\n",
    "    return pd.concat(\n",
    "        [filtered_full, filtered_part, hilbert_full, hilbert_part],\n",
    "        axis=1, keys=['full', 'part', 'full', 'part']\n",
    "    ).sort_index(axis=1)"
   ]
  },
  {
   "cell_type": "code",
   "execution_count": 81,
   "metadata": {
    "execution": {
     "iopub.execute_input": "2020-10-20T23:25:04.504299Z",
     "iopub.status.busy": "2020-10-20T23:25:04.503406Z",
     "iopub.status.idle": "2020-10-20T23:25:04.588570Z",
     "shell.execute_reply": "2020-10-20T23:25:04.588036Z",
     "shell.execute_reply.started": "2020-10-20T23:25:04.504168Z"
    }
   },
   "outputs": [
    {
     "data": {
      "text/html": [
       "<div>\n",
       "<style scoped>\n",
       "    .dataframe tbody tr th:only-of-type {\n",
       "        vertical-align: middle;\n",
       "    }\n",
       "\n",
       "    .dataframe tbody tr th {\n",
       "        vertical-align: top;\n",
       "    }\n",
       "\n",
       "    .dataframe thead th {\n",
       "        text-align: right;\n",
       "    }\n",
       "</style>\n",
       "<table border=\"1\" class=\"dataframe\">\n",
       "  <thead>\n",
       "    <tr style=\"text-align: right;\">\n",
       "      <th></th>\n",
       "      <th>full_amplitude</th>\n",
       "      <th>full_angle</th>\n",
       "      <th>full_filtered</th>\n",
       "      <th>full_hilbert</th>\n",
       "      <th>full_predicted_angle</th>\n",
       "      <th>full_predicted_unwrapped_angle</th>\n",
       "      <th>full_unwrapped_angle</th>\n",
       "      <th>part_amplitude</th>\n",
       "      <th>part_angle</th>\n",
       "      <th>part_filtered</th>\n",
       "      <th>part_hilbert</th>\n",
       "      <th>part_predicted_angle</th>\n",
       "      <th>part_predicted_unwrapped_angle</th>\n",
       "      <th>part_unwrapped_angle</th>\n",
       "    </tr>\n",
       "    <tr>\n",
       "      <th>time</th>\n",
       "      <th></th>\n",
       "      <th></th>\n",
       "      <th></th>\n",
       "      <th></th>\n",
       "      <th></th>\n",
       "      <th></th>\n",
       "      <th></th>\n",
       "      <th></th>\n",
       "      <th></th>\n",
       "      <th></th>\n",
       "      <th></th>\n",
       "      <th></th>\n",
       "      <th></th>\n",
       "      <th></th>\n",
       "    </tr>\n",
       "  </thead>\n",
       "  <tbody>\n",
       "    <tr>\n",
       "      <th>85.000051</th>\n",
       "      <td>8.407235</td>\n",
       "      <td>-2.326949</td>\n",
       "      <td>-5.768438</td>\n",
       "      <td>-5.768438-6.116104j</td>\n",
       "      <td>-0.285792</td>\n",
       "      <td>12.280579</td>\n",
       "      <td>-2.326949</td>\n",
       "      <td>7.505419</td>\n",
       "      <td>2.447397</td>\n",
       "      <td>-5.768432</td>\n",
       "      <td>-5.768432+4.801720j</td>\n",
       "      <td>2.887265</td>\n",
       "      <td>2.887265</td>\n",
       "      <td>2.447397</td>\n",
       "    </tr>\n",
       "    <tr>\n",
       "      <th>85.004851</th>\n",
       "      <td>8.223260</td>\n",
       "      <td>-2.459666</td>\n",
       "      <td>-6.384209</td>\n",
       "      <td>-6.384209-5.183038j</td>\n",
       "      <td>-0.206849</td>\n",
       "      <td>12.359521</td>\n",
       "      <td>-2.459666</td>\n",
       "      <td>6.527314</td>\n",
       "      <td>2.931803</td>\n",
       "      <td>-6.384202</td>\n",
       "      <td>-6.384202+1.359337j</td>\n",
       "      <td>2.969547</td>\n",
       "      <td>2.969547</td>\n",
       "      <td>2.931803</td>\n",
       "    </tr>\n",
       "    <tr>\n",
       "      <th>85.009651</th>\n",
       "      <td>8.655827</td>\n",
       "      <td>-2.498588</td>\n",
       "      <td>-6.927239</td>\n",
       "      <td>-6.927239-5.190057j</td>\n",
       "      <td>-0.127907</td>\n",
       "      <td>12.438464</td>\n",
       "      <td>-2.498588</td>\n",
       "      <td>7.013600</td>\n",
       "      <td>2.984496</td>\n",
       "      <td>-6.927232</td>\n",
       "      <td>-6.927232+1.097283j</td>\n",
       "      <td>3.051828</td>\n",
       "      <td>3.051828</td>\n",
       "      <td>2.984496</td>\n",
       "    </tr>\n",
       "    <tr>\n",
       "      <th>85.014451</th>\n",
       "      <td>9.087470</td>\n",
       "      <td>-2.519433</td>\n",
       "      <td>-7.384675</td>\n",
       "      <td>-7.384675-5.296102j</td>\n",
       "      <td>-0.048965</td>\n",
       "      <td>12.517406</td>\n",
       "      <td>-2.519433</td>\n",
       "      <td>7.401539</td>\n",
       "      <td>-3.074062</td>\n",
       "      <td>-7.384668</td>\n",
       "      <td>-7.384668-0.499453j</td>\n",
       "      <td>3.134110</td>\n",
       "      <td>3.134110</td>\n",
       "      <td>3.209124</td>\n",
       "    </tr>\n",
       "    <tr>\n",
       "      <th>85.019251</th>\n",
       "      <td>9.638822</td>\n",
       "      <td>-2.503907</td>\n",
       "      <td>-7.744559</td>\n",
       "      <td>-7.744559-5.738353j</td>\n",
       "      <td>0.029978</td>\n",
       "      <td>12.596348</td>\n",
       "      <td>-2.503907</td>\n",
       "      <td>7.818747</td>\n",
       "      <td>-3.003721</td>\n",
       "      <td>-7.744552</td>\n",
       "      <td>-7.744552-1.074574j</td>\n",
       "      <td>-3.066794</td>\n",
       "      <td>3.216392</td>\n",
       "      <td>3.279465</td>\n",
       "    </tr>\n",
       "  </tbody>\n",
       "</table>\n",
       "</div>"
      ],
      "text/plain": [
       "           full_amplitude  full_angle  full_filtered        full_hilbert  \\\n",
       "time                                                                       \n",
       "85.000051        8.407235   -2.326949      -5.768438 -5.768438-6.116104j   \n",
       "85.004851        8.223260   -2.459666      -6.384209 -6.384209-5.183038j   \n",
       "85.009651        8.655827   -2.498588      -6.927239 -6.927239-5.190057j   \n",
       "85.014451        9.087470   -2.519433      -7.384675 -7.384675-5.296102j   \n",
       "85.019251        9.638822   -2.503907      -7.744559 -7.744559-5.738353j   \n",
       "\n",
       "           full_predicted_angle  full_predicted_unwrapped_angle  \\\n",
       "time                                                              \n",
       "85.000051             -0.285792                       12.280579   \n",
       "85.004851             -0.206849                       12.359521   \n",
       "85.009651             -0.127907                       12.438464   \n",
       "85.014451             -0.048965                       12.517406   \n",
       "85.019251              0.029978                       12.596348   \n",
       "\n",
       "           full_unwrapped_angle  part_amplitude  part_angle  part_filtered  \\\n",
       "time                                                                         \n",
       "85.000051             -2.326949        7.505419    2.447397      -5.768432   \n",
       "85.004851             -2.459666        6.527314    2.931803      -6.384202   \n",
       "85.009651             -2.498588        7.013600    2.984496      -6.927232   \n",
       "85.014451             -2.519433        7.401539   -3.074062      -7.384668   \n",
       "85.019251             -2.503907        7.818747   -3.003721      -7.744552   \n",
       "\n",
       "                 part_hilbert  part_predicted_angle  \\\n",
       "time                                                  \n",
       "85.000051 -5.768432+4.801720j              2.887265   \n",
       "85.004851 -6.384202+1.359337j              2.969547   \n",
       "85.009651 -6.927232+1.097283j              3.051828   \n",
       "85.014451 -7.384668-0.499453j              3.134110   \n",
       "85.019251 -7.744552-1.074574j             -3.066794   \n",
       "\n",
       "           part_predicted_unwrapped_angle  part_unwrapped_angle  \n",
       "time                                                             \n",
       "85.000051                        2.887265              2.447397  \n",
       "85.004851                        2.969547              2.931803  \n",
       "85.009651                        3.051828              2.984496  \n",
       "85.014451                        3.134110              3.209124  \n",
       "85.019251                        3.216392              3.279465  "
      ]
     },
     "metadata": {},
     "output_type": "display_data"
    }
   ],
   "source": [
    "edge_s = 3\n",
    "buf_s = 3.5\n",
    "pred_len = 5.5\n",
    "band = 'delta'\n",
    "order = 3\n",
    "t_lim = (85, 95)\n",
    "_comparison_data = _txd_data(data.loc[t_lim[0]:t_lim[1]], edge_s, pred_len, buf_s, band, order)\n",
    "_comparison_data.columns = _comparison_data.columns.map(lambda x: f'{x[0]}_{x[1]}')\n",
    "display(_comparison_data.head())"
   ]
  },
  {
   "cell_type": "code",
   "execution_count": 82,
   "metadata": {
    "execution": {
     "iopub.execute_input": "2020-10-20T23:25:06.912888Z",
     "iopub.status.busy": "2020-10-20T23:25:06.911888Z",
     "iopub.status.idle": "2020-10-20T23:25:07.010275Z",
     "shell.execute_reply": "2020-10-20T23:25:07.009736Z",
     "shell.execute_reply.started": "2020-10-20T23:25:06.912720Z"
    }
   },
   "outputs": [
    {
     "data": {
      "application/vnd.jupyter.widget-view+json": {
       "model_id": "dcf8c4fabf554caca53f631231fcaba5",
       "version_major": 2,
       "version_minor": 0
      },
      "text/plain": [
       "Canvas(toolbar=Toolbar(toolitems=[('Home', 'Reset original view', 'home', 'home'), ('Back', 'Back to previous …"
      ]
     },
     "metadata": {},
     "output_type": "display_data"
    },
    {
     "name": "stderr",
     "output_type": "stream",
     "text": [
      "/home/saurabh.gandhi/Projects/.env_zz/lib/python3.7/site-packages/numpy/lib/function_base.py:1535: RuntimeWarning: invalid value encountered in remainder\n",
      "  ddmod = mod(dd + pi, 2*pi) - pi\n"
     ]
    }
   ],
   "source": [
    "# how does actual phase get affected due to the edge?\n",
    "_times = _comparison_data.loc[t_lim[1]-edge_s-3:t_lim[1]-edge_s].index\n",
    "f, ax = plt.subplots(1, 1, figsize=(8, 2), tight_layout=True)\n",
    "_comparison_data.full_angle.loc[_times].plot(ax=ax, label='actual phase')\n",
    "_comparison_data.part_angle.loc[_times].plot(ax=ax, label='edge-affected phase')\n",
    "ax2 = ax.twinx()\n",
    "pd.Series(\n",
    "    np.unwrap(\n",
    "        _comparison_data.full_angle.loc[_times]-_comparison_data.part_angle.loc[_times]\n",
    "    ), index=_times\n",
    ").plot(ax=ax2, label='difference', c='k', lw=0.5)\n",
    "ax.legend(fontsize=8, loc=2)\n",
    "ax.set_ylabel('angle')\n",
    "ax2.set_ylabel('difference');"
   ]
  },
  {
   "cell_type": "code",
   "execution_count": 83,
   "metadata": {
    "execution": {
     "iopub.execute_input": "2020-10-20T23:25:08.178684Z",
     "iopub.status.busy": "2020-10-20T23:25:08.177686Z",
     "iopub.status.idle": "2020-10-20T23:25:08.277898Z",
     "shell.execute_reply": "2020-10-20T23:25:08.277359Z",
     "shell.execute_reply.started": "2020-10-20T23:25:08.178535Z"
    }
   },
   "outputs": [
    {
     "data": {
      "application/vnd.jupyter.widget-view+json": {
       "model_id": "0c4c75e46bf5484487a9970003d835b2",
       "version_major": 2,
       "version_minor": 0
      },
      "text/plain": [
       "Canvas(toolbar=Toolbar(toolitems=[('Home', 'Reset original view', 'home', 'home'), ('Back', 'Back to previous …"
      ]
     },
     "metadata": {},
     "output_type": "display_data"
    }
   ],
   "source": [
    "# how quickly does predicted phase deviate from actual?\n",
    "_times = _comparison_data.loc[t_lim[0]+buf_s:].index\n",
    "f, ax = plt.subplots(1, 1, figsize=(8, 2), tight_layout=True)\n",
    "_comparison_data.full_angle.loc[_times].plot(ax=ax, label='actual')\n",
    "_comparison_data.full_predicted_angle.loc[_times].plot(ax=ax, label='predicted')\n",
    "ax.axvline(t_lim[1]-pred_len, c='k')\n",
    "ax.axvline(t_lim[0]+buf_s, c='k')\n",
    "ax2 = ax.twinx()\n",
    "pd.Series(\n",
    "    np.unwrap(\n",
    "        _comparison_data.full_angle.loc[_times]-_comparison_data.full_predicted_angle.loc[_times]\n",
    "    ), index=_times\n",
    ").plot(ax=ax2, label='difference', c='k', lw=0.5)\n",
    "ax.legend(fontsize=8, loc=2)\n",
    "ax.set_ylabel('angle')\n",
    "ax2.set_ylabel('difference');"
   ]
  },
  {
   "cell_type": "code",
   "execution_count": 97,
   "metadata": {
    "execution": {
     "iopub.execute_input": "2020-10-20T23:29:40.274564Z",
     "iopub.status.busy": "2020-10-20T23:29:40.274269Z",
     "iopub.status.idle": "2020-10-20T23:29:41.953216Z",
     "shell.execute_reply": "2020-10-20T23:29:41.950954Z",
     "shell.execute_reply.started": "2020-10-20T23:29:40.274526Z"
    }
   },
   "outputs": [],
   "source": [
    "# repeat the above for multiple random times\n",
    "def _run_comparison(t0, edge_s, buf_s, pred_len, band, order, t_tot=10):\n",
    "    t_lim = (t0, t0+t_tot)\n",
    "    _comparison_data = _txd_data(data.loc[t_lim[0]:t_lim[1]], edge_s, pred_len, buf_s, band, order)\n",
    "    _comparison_data.columns = _comparison_data.columns.map(lambda x: f'{x[0]}_{x[1]}')\n",
    "    \n",
    "    _times = _comparison_data.loc[t_lim[1]-edge_s-3:t_lim[1]-edge_s].index\n",
    "    edge_effect = pd.Series(\n",
    "#         np.unwrap(\n",
    "            _comparison_data.full_angle.loc[_times]-_comparison_data.part_angle.loc[_times],\n",
    "#         ),\n",
    "    index=_times\n",
    "    )\n",
    "    \n",
    "    _times = _comparison_data.loc[t_lim[0]+buf_s:].index\n",
    "    prediction_effect = pd.Series(\n",
    "        np.unwrap(\n",
    "            _comparison_data.full_angle.loc[_times]-_comparison_data.full_predicted_angle.loc[_times],\n",
    "        ),\n",
    "        index=_times\n",
    "    )\n",
    "    prediction_effect = prediction_effect - prediction_effect.values[-int(pred_len*sample_rate)]\n",
    "    \n",
    "    return edge_effect, prediction_effect"
   ]
  },
  {
   "cell_type": "code",
   "execution_count": 184,
   "metadata": {
    "execution": {
     "iopub.execute_input": "2020-10-21T00:04:49.063163Z",
     "iopub.status.busy": "2020-10-21T00:04:49.062856Z",
     "iopub.status.idle": "2020-10-21T00:05:15.347717Z",
     "shell.execute_reply": "2020-10-21T00:05:15.347125Z",
     "shell.execute_reply.started": "2020-10-21T00:04:49.063125Z"
    }
   },
   "outputs": [
    {
     "data": {
      "application/vnd.jupyter.widget-view+json": {
       "model_id": "9ffef29e048f443a8322f496deef2536",
       "version_major": 2,
       "version_minor": 0
      },
      "text/plain": [
       "HBox(children=(FloatProgress(value=0.0, max=1000.0), HTML(value='')))"
      ]
     },
     "metadata": {},
     "output_type": "display_data"
    },
    {
     "name": "stdout",
     "output_type": "stream",
     "text": [
      "\n"
     ]
    }
   ],
   "source": [
    "band = 'alpha'\n",
    "order = 3\n",
    "edge_s = 3\n",
    "buf_s = 3.75\n",
    "pred_len = 6\n",
    "t_tot = 10\n",
    "n_samples = 1000\n",
    "t0s = 20 + np.random.random(n_samples)*100\n",
    "edge_effects, pred_effects = {}, {}\n",
    "for t0 in tqdm(t0s):\n",
    "    _e, _p = _run_comparison(t0, edge_s, buf_s, pred_len, band, order, t_tot)\n",
    "    _e.index = _e.index-_e.index[-1]\n",
    "    _p.index = _p.index - (t0+t_tot-pred_len)\n",
    "    edge_effects[t0] = _e.reindex(np.linspace(-3, 0, 601), method='nearest')\n",
    "    pred_effects[t0] = _p.reindex(np.linspace(buf_s-(t_tot-pred_len), pred_len, 1000), method='nearest')#np.linspace(0, pred_len, 1000), method='nearest')#\n",
    "edge_effects = pd.concat(edge_effects, axis=1)*180/np.pi\n",
    "pred_effects = pd.concat(pred_effects, axis=1)*180/np.pi"
   ]
  },
  {
   "cell_type": "code",
   "execution_count": 185,
   "metadata": {
    "execution": {
     "iopub.execute_input": "2020-10-21T00:05:15.349095Z",
     "iopub.status.busy": "2020-10-21T00:05:15.348740Z",
     "iopub.status.idle": "2020-10-21T00:05:15.408789Z",
     "shell.execute_reply": "2020-10-21T00:05:15.408248Z",
     "shell.execute_reply.started": "2020-10-21T00:05:15.349013Z"
    }
   },
   "outputs": [
    {
     "data": {
      "application/vnd.jupyter.widget-view+json": {
       "model_id": "eeb9c4428f9843d19cb424edf5a95a99",
       "version_major": 2,
       "version_minor": 0
      },
      "text/plain": [
       "Canvas(toolbar=Toolbar(toolitems=[('Home', 'Reset original view', 'home', 'home'), ('Back', 'Back to previous …"
      ]
     },
     "metadata": {},
     "output_type": "display_data"
    }
   ],
   "source": [
    "f, ax = plt.subplots(1, 1, figsize=(6, 2), tight_layout=True)\n",
    "# edge_effects.mean(1).plot(yerr=edge_effects.std(1), alpha=0.6, ax=ax)\n",
    "# ax.axhline(20, c='k', lw=0.5)\n",
    "# ax.axhline(-20, c='k', lw=0.5)\n",
    "# ax.set_ylabel('phase deviation\\n(mean +- SD)')\n",
    "edge_effects.abs().mean(1).plot(alpha=0.6, ax=ax)\n",
    "ax.set_xlabel('time from right edge (s)')\n",
    "ax.set_ylabel('mean absolute\\ndeviation')\n",
    "ax.annotate(f'{band} band filtering + Hilbert', (0.01, 0.95), xycoords='axes fraction', va='top');"
   ]
  },
  {
   "cell_type": "code",
   "execution_count": 186,
   "metadata": {
    "execution": {
     "iopub.execute_input": "2020-10-21T00:05:15.409910Z",
     "iopub.status.busy": "2020-10-21T00:05:15.409674Z",
     "iopub.status.idle": "2020-10-21T00:05:15.468310Z",
     "shell.execute_reply": "2020-10-21T00:05:15.467794Z",
     "shell.execute_reply.started": "2020-10-21T00:05:15.409841Z"
    }
   },
   "outputs": [
    {
     "data": {
      "application/vnd.jupyter.widget-view+json": {
       "model_id": "21d39628cd4c44e5894f328ebc6b4a2e",
       "version_major": 2,
       "version_minor": 0
      },
      "text/plain": [
       "Canvas(toolbar=Toolbar(toolitems=[('Home', 'Reset original view', 'home', 'home'), ('Back', 'Back to previous …"
      ]
     },
     "metadata": {},
     "output_type": "display_data"
    }
   ],
   "source": [
    "f, ax = plt.subplots(1, 1, figsize=(6, 2), tight_layout=True)\n",
    "pred_effects.abs().loc[:1].mean(1).plot(\n",
    "#     yerr=pred_effects.loc[:1].std(1),#/np.sqrt(n_samples),\n",
    "    alpha=0.6, ax=ax\n",
    ")\n",
    "ax.set_xlim(-0.1, 0.25)\n",
    "ax.set_ylim(-10, 70)\n",
    "ax.axvline(0, c='k')\n",
    "ax.set_xlabel('time from prediction onset (s)')\n",
    "# ax.axhline(20, c='k', lw=0.5)\n",
    "# ax.axhline(-20, c='k', lw=0.5)\n",
    "# ax.set_ylabel('phase deviation\\n(mean +- SD)')\n",
    "ax.set_ylabel('mean absolute\\ndeviation')\n",
    "ax.annotate(f'{band} linear phase extrapolation (using {t_tot-(pred_len+buf_s)}s of data)', (0.01, 0.05), xycoords='axes fraction', va='bottom');"
   ]
  },
  {
   "cell_type": "code",
   "execution_count": 188,
   "metadata": {
    "execution": {
     "iopub.execute_input": "2020-10-21T00:10:49.785485Z",
     "iopub.status.busy": "2020-10-21T00:10:49.785166Z",
     "iopub.status.idle": "2020-10-21T00:12:29.061330Z",
     "shell.execute_reply": "2020-10-21T00:12:29.060576Z",
     "shell.execute_reply.started": "2020-10-21T00:10:49.785439Z"
    }
   },
   "outputs": [
    {
     "data": {
      "application/vnd.jupyter.widget-view+json": {
       "model_id": "00b9f75f4f2f4b54b667159740db9065",
       "version_major": 2,
       "version_minor": 0
      },
      "text/plain": [
       "Canvas(toolbar=Toolbar(toolitems=[('Home', 'Reset original view', 'home', 'home'), ('Back', 'Back to previous …"
      ]
     },
     "metadata": {},
     "output_type": "display_data"
    },
    {
     "data": {
      "application/vnd.jupyter.widget-view+json": {
       "model_id": "ef390da773574e26a01da9ac85667304",
       "version_major": 2,
       "version_minor": 0
      },
      "text/plain": [
       "HBox(children=(FloatProgress(value=0.0, max=1000.0), HTML(value='')))"
      ]
     },
     "metadata": {},
     "output_type": "display_data"
    },
    {
     "name": "stdout",
     "output_type": "stream",
     "text": [
      "\n"
     ]
    },
    {
     "data": {
      "application/vnd.jupyter.widget-view+json": {
       "model_id": "1f444b24bd2d4e1fbf5402efac1bc0b9",
       "version_major": 2,
       "version_minor": 0
      },
      "text/plain": [
       "HBox(children=(FloatProgress(value=0.0, max=1000.0), HTML(value='')))"
      ]
     },
     "metadata": {},
     "output_type": "display_data"
    },
    {
     "name": "stdout",
     "output_type": "stream",
     "text": [
      "\n"
     ]
    },
    {
     "data": {
      "application/vnd.jupyter.widget-view+json": {
       "model_id": "4ebce878aa9e4ecab8bfb6229d73383d",
       "version_major": 2,
       "version_minor": 0
      },
      "text/plain": [
       "HBox(children=(FloatProgress(value=0.0, max=1000.0), HTML(value='')))"
      ]
     },
     "metadata": {},
     "output_type": "display_data"
    },
    {
     "name": "stdout",
     "output_type": "stream",
     "text": [
      "\n"
     ]
    },
    {
     "data": {
      "application/vnd.jupyter.widget-view+json": {
       "model_id": "1aed19e61f07425996485d4189bc6a32",
       "version_major": 2,
       "version_minor": 0
      },
      "text/plain": [
       "HBox(children=(FloatProgress(value=0.0, max=1000.0), HTML(value='')))"
      ]
     },
     "metadata": {},
     "output_type": "display_data"
    },
    {
     "name": "stdout",
     "output_type": "stream",
     "text": [
      "\n"
     ]
    },
    {
     "data": {
      "text/plain": [
       "Text(0, 0.5, 'mean absolute\\ndeviation')"
      ]
     },
     "execution_count": 188,
     "metadata": {},
     "output_type": "execute_result"
    }
   ],
   "source": [
    "def _plot_effects(axes, band, order=3, edge_s=3, buf_s=3.75, pred_len=6, t_tot=10, n_samples=1000):\n",
    "    t0s = 20 + np.random.random(n_samples)*100\n",
    "    edge_effects, pred_effects = {}, {}\n",
    "    for t0 in tqdm(t0s, desc=band):\n",
    "        _e, _p = _run_comparison(t0, edge_s, buf_s, pred_len, band, order, t_tot)\n",
    "        _e.index = _e.index-_e.index[-1]\n",
    "        _p.index = _p.index - (t0+t_tot-pred_len)\n",
    "        edge_effects[t0] = _e.reindex(np.linspace(-3, 0, 601), method='nearest')\n",
    "        pred_effects[t0] = _p.reindex(np.linspace(buf_s-(t_tot-pred_len), pred_len, 1000), method='nearest')#np.linspace(0, pred_len, 1000), method='nearest')#\n",
    "    edge_effects = pd.concat(edge_effects, axis=1)*180/np.pi\n",
    "    pred_effects = pd.concat(pred_effects, axis=1)*180/np.pi\n",
    "    \n",
    "    edge_effects.abs().mean(1).plot(alpha=0.6, ax=axes[0], label=band)\n",
    "    pred_effects.abs().loc[:1].mean(1).plot(alpha=0.6, ax=axes[1], label=band)\n",
    "    return\n",
    "\n",
    "f, axes = plt.subplots(1, 2, figsize=(8, 4), tight_layout=True)\n",
    "for band in bands:\n",
    "    _plot_effects(axes, band)\n",
    "axes[0].set_xlabel('time from right edge (s)')\n",
    "axes[0].set_ylabel('mean absolute\\ndeviation')\n",
    "axes[0].legend(loc=2)\n",
    "\n",
    "axes[1].set_xlim(-0.1, 0.25)\n",
    "axes[1].set_ylim(-10, 70)\n",
    "axes[1].axvline(0, c='k')\n",
    "axes[1].set_xlabel('time from prediction onset (s)')\n",
    "axes[1].set_ylabel('mean absolute\\ndeviation');"
   ]
  },
  {
   "cell_type": "markdown",
   "metadata": {
    "execution": {
     "iopub.execute_input": "2020-10-21T00:12:58.421522Z",
     "iopub.status.busy": "2020-10-21T00:12:58.420734Z",
     "iopub.status.idle": "2020-10-21T00:13:00.159225Z",
     "shell.execute_reply": "2020-10-21T00:13:00.156978Z",
     "shell.execute_reply.started": "2020-10-21T00:12:58.421411Z"
    }
   },
   "source": [
    "## Phase autocorrelation"
   ]
  },
  {
   "cell_type": "code",
   "execution_count": 190,
   "metadata": {
    "execution": {
     "iopub.execute_input": "2020-10-21T00:19:24.689129Z",
     "iopub.status.busy": "2020-10-21T00:19:24.688725Z",
     "iopub.status.idle": "2020-10-21T00:19:26.172519Z",
     "shell.execute_reply": "2020-10-21T00:19:26.171844Z",
     "shell.execute_reply.started": "2020-10-21T00:19:24.689078Z"
    }
   },
   "outputs": [
    {
     "data": {
      "text/plain": [
       "time\n",
       "12.932482     22\n",
       "12.937282      9\n",
       "12.942082     25\n",
       "12.946882     30\n",
       "12.951682     17\n",
       "              ..\n",
       "132.289457    14\n",
       "132.294257    27\n",
       "132.299057    -6\n",
       "132.303857   -28\n",
       "132.308657   -11\n",
       "Name: 7, Length: 24871, dtype: int16"
      ]
     },
     "execution_count": 190,
     "metadata": {},
     "output_type": "execute_result"
    }
   ],
   "source": [
    "data"
   ]
  },
  {
   "cell_type": "code",
   "execution_count": 204,
   "metadata": {
    "execution": {
     "iopub.execute_input": "2020-10-21T00:26:59.793557Z",
     "iopub.status.busy": "2020-10-21T00:26:59.792605Z",
     "iopub.status.idle": "2020-10-21T00:27:00.342496Z",
     "shell.execute_reply": "2020-10-21T00:27:00.341826Z",
     "shell.execute_reply.started": "2020-10-21T00:26:59.793427Z"
    }
   },
   "outputs": [
    {
     "data": {
      "application/vnd.jupyter.widget-view+json": {
       "model_id": "451d49eca78849ecb770d68bdcdd6040",
       "version_major": 2,
       "version_minor": 0
      },
      "text/plain": [
       "Canvas(toolbar=Toolbar(toolitems=[('Home', 'Reset original view', 'home', 'home'), ('Back', 'Back to previous …"
      ]
     },
     "metadata": {},
     "output_type": "display_data"
    }
   ],
   "source": [
    "f, ax = plt.subplots(1, 1, figsize=(4, 3), tight_layout=True)\n",
    "for band in bands:\n",
    "    _data_filtered = _filter_data(data, band)\n",
    "    _hilbert = _linear_predict(_data_filtered)\n",
    "    _x = np.arange(100)\n",
    "    _y = []\n",
    "    for __x in _x:\n",
    "        _y.append(_hilbert.angle.autocorr(__x))\n",
    "    _y = pd.Series(_y[::-1], index=-_x[::-1]/sample_rate)\n",
    "    _y.plot(ax=ax, label=band)\n",
    "ax.legend(loc=2)\n",
    "ax.set_xlabel('lag (s)')\n",
    "ax.set_ylabel('phase autocorrelation');"
   ]
  },
  {
   "cell_type": "markdown",
   "metadata": {
    "collapsed": "true"
   },
   "source": [
    "# Phase detection - let's look at theta"
   ]
  },
  {
   "cell_type": "code",
   "execution_count": 6,
   "metadata": {
    "execution": {
     "iopub.execute_input": "2020-10-06T17:05:20.776413Z",
     "iopub.status.busy": "2020-10-06T17:05:20.776234Z",
     "iopub.status.idle": "2020-10-06T17:05:20.793101Z",
     "shell.execute_reply": "2020-10-06T17:05:20.792455Z",
     "shell.execute_reply.started": "2020-10-06T17:05:20.776387Z"
    }
   },
   "outputs": [],
   "source": [
    "def _reset_phase(df, i=0):\n",
    "    return df - df.iloc[i]\n",
    "\n",
    "def _wrap(col):\n",
    "    return (col + np.pi) % (2 * np.pi) - np.pi"
   ]
  },
  {
   "cell_type": "code",
   "execution_count": null,
   "metadata": {
    "execution": {
     "iopub.status.busy": "2020-10-06T17:04:55.252329Z",
     "iopub.status.idle": "2020-10-06T17:04:55.252693Z"
    }
   },
   "outputs": [],
   "source": [
    "# frequency band to work with\n",
    "# fband = (15, 35) # beta\n",
    "# fband = (9, 13) # alpha\n",
    "fband = (5, 8) # theta\n",
    "# fband = (1, 4) # delta"
   ]
  },
  {
   "cell_type": "code",
   "execution_count": null,
   "metadata": {
    "execution": {
     "iopub.status.busy": "2020-10-06T17:04:55.253358Z",
     "iopub.status.idle": "2020-10-06T17:04:55.253778Z"
    }
   },
   "outputs": [],
   "source": [
    "eegdfltd = eegdata[valid_channels].progress_apply(\n",
    "    filters.butter_bandpass_filter,\n",
    "    lowcut=fband[0], highcut=fband[1],\n",
    "    sampling_frequency=sample_rate, filter_order=3\n",
    ")\n",
    "ch1 = 10\n",
    "ch2 = 15"
   ]
  },
  {
   "cell_type": "code",
   "execution_count": 11,
   "metadata": {
    "execution": {
     "iopub.execute_input": "2020-10-01T21:29:35.035278Z",
     "iopub.status.busy": "2020-10-01T21:29:35.035039Z",
     "iopub.status.idle": "2020-10-01T21:29:35.050119Z",
     "shell.execute_reply": "2020-10-01T21:29:35.049607Z",
     "shell.execute_reply.started": "2020-10-01T21:29:35.035202Z"
    }
   },
   "outputs": [],
   "source": [
    "# # visualize a couple of channels\n",
    "# ch1 = 0\n",
    "# ch2 = 31\n",
    "# _win = (819, 1821)\n",
    "# f, ax = plt.subplots(1, 1, figsize=(9, 2), constrained_layout=True)\n",
    "# eegdata.loc[_win[0]:_win[1], ch1].plot(ax=ax, alpha=0.3, label='_')\n",
    "# eegdata.loc[_win[0]:_win[1], ch2].plot(ax=ax, alpha=0.3, label='_')\n",
    "# # ax.set_prop_cycle(None)\n",
    "# ax2 = ax.twinx()\n",
    "# eegdfltd.loc[_win[0]:_win[1], ch1].plot(ax=ax2, alpha=0.9)\n",
    "# eegdfltd.loc[_win[0]:_win[1], ch2].plot(ax=ax2, alpha=0.9)\n",
    "# ax2.legend();"
   ]
  },
  {
   "cell_type": "code",
   "execution_count": 12,
   "metadata": {
    "execution": {
     "iopub.execute_input": "2020-10-01T21:29:35.051078Z",
     "iopub.status.busy": "2020-10-01T21:29:35.050881Z",
     "iopub.status.idle": "2020-10-01T21:29:35.077678Z",
     "shell.execute_reply": "2020-10-01T21:29:35.077173Z",
     "shell.execute_reply.started": "2020-10-01T21:29:35.051051Z"
    }
   },
   "outputs": [],
   "source": [
    "# # visualize all filtered channels\n",
    "# _win = (1200, 2200)\n",
    "# f, ax = plt.subplots(1, 1, figsize=(9, 2), constrained_layout=True)\n",
    "# ax.set_prop_cycle(c=np.array(exp.ch_coordinates.gid.map(lambda x: cm.Paired(x/11, 0.9))))\n",
    "# eegdfltd.loc[_win[0]:_win[1]].plot(ax=ax, legend=None)\n",
    "# ax.set_title('All channels, filter band ({0:d}, {1:d})'.format(*fband));"
   ]
  },
  {
   "cell_type": "code",
   "execution_count": 13,
   "metadata": {
    "execution": {
     "iopub.execute_input": "2020-10-01T21:29:35.078716Z",
     "iopub.status.busy": "2020-10-01T21:29:35.078454Z",
     "iopub.status.idle": "2020-10-01T21:29:44.725755Z",
     "shell.execute_reply": "2020-10-01T21:29:44.725188Z",
     "shell.execute_reply.started": "2020-10-01T21:29:35.078688Z"
    }
   },
   "outputs": [],
   "source": [
    "# Hilbert transform\n",
    "_hil = signal.hilbert(eegdfltd, axis=0)\n",
    "hilbert = pd.DataFrame(_hil, columns=eegdfltd.columns, index=eegdfltd.index)\n",
    "ampl = hilbert.abs() # amplitude of signal\n",
    "angl = hilbert.apply(np.angle) # phase of signal\n",
    "uangl = angl.apply(np.unwrap) # unwrapped phase of signal"
   ]
  },
  {
   "cell_type": "code",
   "execution_count": 14,
   "metadata": {
    "execution": {
     "iopub.execute_input": "2020-10-01T21:29:44.726733Z",
     "iopub.status.busy": "2020-10-01T21:29:44.726513Z",
     "iopub.status.idle": "2020-10-01T21:29:45.004976Z",
     "shell.execute_reply": "2020-10-01T21:29:45.004558Z",
     "shell.execute_reply.started": "2020-10-01T21:29:44.726671Z"
    }
   },
   "outputs": [
    {
     "data": {
      "application/vnd.jupyter.widget-view+json": {
       "model_id": "4b7c10b905644cd8a67b1331a1decd0a",
       "version_major": 2,
       "version_minor": 0
      },
      "text/plain": [
       "Canvas(toolbar=Toolbar(toolitems=[('Home', 'Reset original view', 'home', 'home'), ('Back', 'Back to previous …"
      ]
     },
     "metadata": {},
     "output_type": "display_data"
    }
   ],
   "source": [
    "# example result of Hilbert transform\n",
    "_win = (1200, 1210)\n",
    "f, (ax, axp) = plt.subplots(2, 1, figsize=(11, 5), sharex=True, constrained_layout=True)\n",
    "eegdfltd.loc[_win[0]:_win[1], ch1].plot(ax=ax, alpha=0.3, label='_')\n",
    "eegdfltd.loc[_win[0]:_win[1], ch2].plot(ax=ax, alpha=0.3, label='_')\n",
    "ax.set_prop_cycle(None)\n",
    "ampl.loc[_win[0]:_win[1], ch1].plot(ax=ax, alpha=0.6)\n",
    "ampl.loc[_win[0]:_win[1], ch2].plot(ax=ax, alpha=0.6)\n",
    "ampl.loc[_win[0]:_win[1]].median(axis=1).plot(ax=ax, alpha=0.6, c='k', label='mean amplitude')\n",
    "angl.loc[_win[0]:_win[1], [ch1]].plot(ax=axp, alpha=0.6)\n",
    "angl.loc[_win[0]:_win[1], [ch2]].plot(ax=axp, alpha=0.6)\n",
    "angl.loc[_win[0]:_win[1]].median(axis=1).plot(ax=axp, alpha=0.3, c='k', label='mean phase')\n",
    "ax.legend(loc=1)\n",
    "axp.legend(loc=1)\n",
    "ax.set_ylabel('signal and amplitude')\n",
    "axp.set_ylabel('phase')\n",
    "axp.set_xlabel('time (s)');"
   ]
  },
  {
   "cell_type": "markdown",
   "metadata": {},
   "source": [
    "## Overall, phases drift quickly\n",
    "But this does not say much because discontinuities are going to add up quickly over time. We should look for phase synchrony in short windows instead."
   ]
  },
  {
   "cell_type": "code",
   "execution_count": 18,
   "metadata": {
    "execution": {
     "iopub.execute_input": "2020-10-01T21:30:45.944134Z",
     "iopub.status.busy": "2020-10-01T21:30:45.943842Z",
     "iopub.status.idle": "2020-10-01T21:30:47.614983Z",
     "shell.execute_reply": "2020-10-01T21:30:47.614536Z",
     "shell.execute_reply.started": "2020-10-01T21:30:45.944096Z"
    }
   },
   "outputs": [
    {
     "data": {
      "application/vnd.jupyter.widget-view+json": {
       "model_id": "0a5ef2ec2ba34f19a468f90f6bb423aa",
       "version_major": 2,
       "version_minor": 0
      },
      "text/plain": [
       "Canvas(toolbar=Toolbar(toolitems=[('Home', 'Reset original view', 'home', 'home'), ('Back', 'Back to previous …"
      ]
     },
     "metadata": {},
     "output_type": "display_data"
    }
   ],
   "source": [
    "# phase drift between channels over time\n",
    "_win = (0, 120)\n",
    "_sig = uangl.join(stimuli.set_index('onset').reindex(uangl.index, method='nearest').id).groupby('id').apply(_reset_phase, i=-2)[valid_channels]\n",
    "# _sig = _phase_reset(uangl.subtract(uangl.mean(axis=1), axis=0))\n",
    "f, (ax, axe) = plt.subplots(1, 2, figsize=(7, 3), constrained_layout=True)\n",
    "ax.set_prop_cycle(c=np.array(exp.ch_coordinates.gid.map(lambda x: cm.Paired(x/11, 0.9))))\n",
    "# angl.subtract(angl.mean(axis=1), axis=0).loc[_win[0]:_win[1]].plot(ax=ax, alpha=0.6, legend=False) #.loc[_win[0]:_win[1]]\n",
    "_reset_phase(_sig.subtract(_sig.mean(axis=1), axis=0).loc[_win[0]:_win[1]]).plot(ax=ax, alpha=0.6, legend=False)\n",
    "ax.set_xlabel('time (s)')\n",
    "ax.set_ylabel('phase offset from mean (rad)\\n(cumulative)');\n",
    "plot_electrode_map(axe, labels=False, s=50)"
   ]
  },
  {
   "cell_type": "markdown",
   "metadata": {},
   "source": [
    "## Phase synchrony in short windows"
   ]
  },
  {
   "cell_type": "code",
   "execution_count": 19,
   "metadata": {
    "execution": {
     "iopub.execute_input": "2020-10-01T21:30:48.112370Z",
     "iopub.status.busy": "2020-10-01T21:30:48.111543Z",
     "iopub.status.idle": "2020-10-01T21:30:53.508089Z",
     "shell.execute_reply": "2020-10-01T21:30:53.507585Z",
     "shell.execute_reply.started": "2020-10-01T21:30:48.112260Z"
    }
   },
   "outputs": [],
   "source": [
    "# window the unwrapped angle\n",
    "ps_winsize_s = 1\n",
    "ps_wins = np.array(uangl.index / ps_winsize_s, dtype=int)\n",
    "uangl['win'] = ps_wins\n",
    "\n",
    "# compute relative phases within each window\n",
    "local_rel_phases = uangl.groupby('win').apply(lambda df: _wrap(_reset_phase(df.drop('win', axis=1)))).join(uangl.win)"
   ]
  },
  {
   "cell_type": "code",
   "execution_count": 20,
   "metadata": {
    "execution": {
     "iopub.execute_input": "2020-10-01T21:30:53.635512Z",
     "iopub.status.busy": "2020-10-01T21:30:53.635324Z",
     "iopub.status.idle": "2020-10-01T21:30:53.866193Z",
     "shell.execute_reply": "2020-10-01T21:30:53.865691Z",
     "shell.execute_reply.started": "2020-10-01T21:30:53.635484Z"
    }
   },
   "outputs": [
    {
     "data": {
      "application/vnd.jupyter.widget-view+json": {
       "model_id": "09ca2cc443b6406992b5922325746623",
       "version_major": 2,
       "version_minor": 0
      },
      "text/plain": [
       "Canvas(toolbar=Toolbar(toolitems=[('Home', 'Reset original view', 'home', 'home'), ('Back', 'Back to previous …"
      ]
     },
     "metadata": {},
     "output_type": "display_data"
    }
   ],
   "source": [
    "# example evolution of phases within the window\n",
    "f, axes = plt.subplots(1, 3, figsize=(11, 3), tight_layout=True, sharey=True)\n",
    "for ax, w in zip(axes, [16, 13, 14]):\n",
    "    _phases = local_rel_phases[local_rel_phases.win==w][valid_channels].apply(np.unwrap)\n",
    "#     _phases.plot(ax=ax, legend=False, alpha=0.6)\n",
    "    _phases.subtract(_phases.mean(axis=1), axis=0).plot(ax=ax, legend=False, alpha=0.6)\n",
    "axes[1].set_xlabel('time (s)')\n",
    "axes[0].set_ylabel('phase (relative to mean)');"
   ]
  },
  {
   "cell_type": "code",
   "execution_count": 21,
   "metadata": {
    "execution": {
     "iopub.execute_input": "2020-10-01T21:30:53.867128Z",
     "iopub.status.busy": "2020-10-01T21:30:53.866945Z",
     "iopub.status.idle": "2020-10-01T21:31:10.534142Z",
     "shell.execute_reply": "2020-10-01T21:31:10.533612Z",
     "shell.execute_reply.started": "2020-10-01T21:30:53.867102Z"
    }
   },
   "outputs": [],
   "source": [
    "# we can look at the dispersion at the last time point as a proxy for how synchronized or not the waves were\n",
    "def _compute_phase_dispersion(rel_phases):\n",
    "    return rel_phases[valid_channels].apply(np.unwrap).iloc[-1].std()\n",
    "phase_dispersion = local_rel_phases.groupby('win').apply(_compute_phase_dispersion)"
   ]
  },
  {
   "cell_type": "code",
   "execution_count": 22,
   "metadata": {
    "execution": {
     "iopub.execute_input": "2020-10-01T21:31:10.535006Z",
     "iopub.status.busy": "2020-10-01T21:31:10.534825Z",
     "iopub.status.idle": "2020-10-01T21:31:10.779878Z",
     "shell.execute_reply": "2020-10-01T21:31:10.779385Z",
     "shell.execute_reply.started": "2020-10-01T21:31:10.534979Z"
    }
   },
   "outputs": [
    {
     "data": {
      "application/vnd.jupyter.widget-view+json": {
       "model_id": "af099683204e47218deb38e3c22dfd2f",
       "version_major": 2,
       "version_minor": 0
      },
      "text/plain": [
       "Canvas(toolbar=Toolbar(toolitems=[('Home', 'Reset original view', 'home', 'home'), ('Back', 'Back to previous …"
      ]
     },
     "metadata": {},
     "output_type": "display_data"
    }
   ],
   "source": [
    "# how does phase dispersion look over time?\n",
    "f, ax = plt.subplots(1, 1, figsize=(8, 2), tight_layout=True)\n",
    "phase_dispersion.plot(ax=ax)\n",
    "ax.set_xlabel('time (s)')\n",
    "ax.set_ylabel('dispersion')\n",
    "ax.vlines(np.array([iso_first_on, iso_first_mid, iso_first_off])/ps_winsize_s, 0, 7, colors='r')\n",
    "running_speed.plot(ax=ax.twinx(), c='k', lw=0.5);"
   ]
  },
  {
   "cell_type": "markdown",
   "metadata": {},
   "source": [
    "---"
   ]
  },
  {
   "cell_type": "markdown",
   "metadata": {
    "collapsed": "true"
   },
   "source": [
    "# Causal phase prediction"
   ]
  },
  {
   "cell_type": "code",
   "execution_count": 6,
   "metadata": {
    "execution": {
     "iopub.execute_input": "2020-10-19T02:14:26.924802Z",
     "iopub.status.busy": "2020-10-19T02:14:26.924535Z",
     "iopub.status.idle": "2020-10-19T02:14:26.941619Z",
     "shell.execute_reply": "2020-10-19T02:14:26.940985Z",
     "shell.execute_reply.started": "2020-10-19T02:14:26.924742Z"
    }
   },
   "outputs": [],
   "source": [
    "band = 'theta'"
   ]
  },
  {
   "cell_type": "code",
   "execution_count": 7,
   "metadata": {
    "execution": {
     "iopub.execute_input": "2020-10-19T02:14:26.942666Z",
     "iopub.status.busy": "2020-10-19T02:14:26.942430Z",
     "iopub.status.idle": "2020-10-19T02:14:27.071895Z",
     "shell.execute_reply": "2020-10-19T02:14:27.071212Z",
     "shell.execute_reply.started": "2020-10-19T02:14:26.942584Z"
    }
   },
   "outputs": [
    {
     "data": {
      "text/plain": [
       "time        amplitude  duration  onset  offset     sweep\n",
       "12.932482   0.0        400.0     0.0    134.81291  -1.0     22\n",
       "12.937282   0.0        400.0     0.0    134.81291  -1.0      9\n",
       "12.942082   0.0        400.0     0.0    134.81291  -1.0     25\n",
       "12.946882   0.0        400.0     0.0    134.81291  -1.0     30\n",
       "12.951682   0.0        400.0     0.0    134.81291  -1.0     17\n",
       "                                                            ..\n",
       "132.289457  0.0        400.0     0.0    134.81291  -1.0     14\n",
       "132.294257  0.0        400.0     0.0    134.81291  -1.0     27\n",
       "132.299057  0.0        400.0     0.0    134.81291  -1.0     -6\n",
       "132.303857  0.0        400.0     0.0    134.81291  -1.0    -28\n",
       "132.308657  0.0        400.0     0.0    134.81291  -1.0    -11\n",
       "Name: 7, Length: 24871, dtype: int16"
      ]
     },
     "metadata": {},
     "output_type": "display_data"
    },
    {
     "data": {
      "application/vnd.jupyter.widget-view+json": {
       "model_id": "17214890779d45ceb82db9b7cb8696b3",
       "version_major": 2,
       "version_minor": 0
      },
      "text/plain": [
       "Canvas(toolbar=Toolbar(toolitems=[('Home', 'Reset original view', 'home', 'home'), ('Back', 'Back to previous …"
      ]
     },
     "metadata": {},
     "output_type": "display_data"
    }
   ],
   "source": [
    "# look at a particular channel, and prestimulus data to evaluate baseline\n",
    "tid = -1\n",
    "ch = 7\n",
    "data = eegdata.xs(tid, level='id')[ch]\n",
    "time = data.index.get_level_values('time')\n",
    "display(data)\n",
    "t_onset = 120.0#data.index.get_level_values('onset').unique()[0]\n",
    "f, ax = plt.subplots(1, 1, figsize=(8, 2), tight_layout=True)\n",
    "ax.plot(data.index.get_level_values('time'), data, label=f'ch{ch}')\n",
    "ax.axvline(t_onset, c='k')\n",
    "ax.set_xlabel('time (s)')\n",
    "ax.set_ylabel('voltage');"
   ]
  },
  {
   "cell_type": "markdown",
   "metadata": {},
   "source": [
    "## Step 1: Determine peak frequency and SNR"
   ]
  },
  {
   "cell_type": "code",
   "execution_count": 8,
   "metadata": {
    "execution": {
     "iopub.execute_input": "2020-10-19T02:14:27.074705Z",
     "iopub.status.busy": "2020-10-19T02:14:27.074398Z",
     "iopub.status.idle": "2020-10-19T02:14:27.136259Z",
     "shell.execute_reply": "2020-10-19T02:14:27.135612Z",
     "shell.execute_reply.started": "2020-10-19T02:14:27.074664Z"
    }
   },
   "outputs": [
    {
     "data": {
      "application/vnd.jupyter.widget-view+json": {
       "model_id": "b184198b6a524d73827021a14a9f81f2",
       "version_major": 2,
       "version_minor": 0
      },
      "text/plain": [
       "Canvas(toolbar=Toolbar(toolitems=[('Home', 'Reset original view', 'home', 'home'), ('Back', 'Back to previous …"
      ]
     },
     "metadata": {},
     "output_type": "display_data"
    }
   ],
   "source": [
    "prestim_data = data.loc(axis=0)[pd.IndexSlice[:t_onset]] # prestimulus data\n",
    "\n",
    "# obtain a spectrogram\n",
    "_frequencies, _power = signal.welch(prestim_data, fs=sample_rate)\n",
    "# find peaks\n",
    "_idx_peaks = signal.find_peaks(_power)[0]\n",
    "# find peak in band of interest\n",
    "_idx_pois = np.array([\n",
    "    x for x in _idx_peaks if _frequencies[x]<bands[band][1] and _frequencies[x]>bands[band][0]\n",
    "])\n",
    "_idx_peak = _power[_idx_pois].argmax()\n",
    "_peak_power = _power[_idx_peak]\n",
    "peak_frequency = _frequencies[_idx_pois][_idx_peak]\n",
    "# TODO: Evaluate SNR and test for goodness of signal before proceeding\n",
    "# The peak seems to be very strong, so I am skipping this for now\n",
    "\n",
    "# plotting\n",
    "f, ax = plt.subplots(1, 1, figsize=(4, 3), tight_layout=True)\n",
    "ax.plot(_frequencies, _power)\n",
    "ax.set_xlabel('frequency (Hz)')\n",
    "ax.set_ylabel('PSD')\n",
    "ax.set_xlim(-1, 50)\n",
    "ax.scatter(\n",
    "    _frequencies[_idx_peaks], _power[_idx_peaks], facecolors='none',\n",
    "    edgecolors=['r' if x==_idx_pois[_idx_peak] else 'b' for x in _idx_peaks]\n",
    ")\n",
    "for _name, _band in bands.items():\n",
    "    ax.axvspan(*_band, alpha=0.15, facecolor='r' if _name==band else 'b')\n",
    "    ax.annotate(_name, (_band[0], 0), rotation=90)"
   ]
  },
  {
   "cell_type": "markdown",
   "metadata": {},
   "source": [
    "## Step 2: Determine phase and amplitude using entire time"
   ]
  },
  {
   "cell_type": "code",
   "execution_count": 9,
   "metadata": {
    "execution": {
     "iopub.execute_input": "2020-10-19T02:14:27.138229Z",
     "iopub.status.busy": "2020-10-19T02:14:27.137880Z",
     "iopub.status.idle": "2020-10-19T02:14:27.214165Z",
     "shell.execute_reply": "2020-10-19T02:14:27.213055Z",
     "shell.execute_reply.started": "2020-10-19T02:14:27.138148Z"
    }
   },
   "outputs": [],
   "source": [
    "_data = signal.detrend(data)\n",
    "# generate a set of filters, filter the signal using these, then take Hilbert transform, look at mean and variance of estimated phase"
   ]
  },
  {
   "cell_type": "markdown",
   "metadata": {},
   "source": [
    "## Step 3: Optimize parameters"
   ]
  },
  {
   "cell_type": "code",
   "execution_count": 10,
   "metadata": {
    "execution": {
     "iopub.execute_input": "2020-10-19T02:14:27.216000Z",
     "iopub.status.busy": "2020-10-19T02:14:27.215566Z",
     "iopub.status.idle": "2020-10-19T02:14:27.255012Z",
     "shell.execute_reply": "2020-10-19T02:14:27.254017Z",
     "shell.execute_reply.started": "2020-10-19T02:14:27.215950Z"
    }
   },
   "outputs": [],
   "source": [
    "# to be implemented"
   ]
  },
  {
   "cell_type": "markdown",
   "metadata": {},
   "source": [
    "## Step 4: Causal phase estimation"
   ]
  },
  {
   "cell_type": "code",
   "execution_count": 11,
   "metadata": {
    "execution": {
     "iopub.execute_input": "2020-10-19T02:14:27.257287Z",
     "iopub.status.busy": "2020-10-19T02:14:27.256737Z",
     "iopub.status.idle": "2020-10-19T02:14:27.437329Z",
     "shell.execute_reply": "2020-10-19T02:14:27.436625Z",
     "shell.execute_reply.started": "2020-10-19T02:14:27.257234Z"
    }
   },
   "outputs": [
    {
     "data": {
      "application/vnd.jupyter.widget-view+json": {
       "model_id": "e67d2f69d2be4897976f80087458da28",
       "version_major": 2,
       "version_minor": 0
      },
      "text/plain": [
       "Canvas(toolbar=Toolbar(toolitems=[('Home', 'Reset original view', 'home', 'home'), ('Back', 'Back to previous …"
      ]
     },
     "metadata": {},
     "output_type": "display_data"
    }
   ],
   "source": [
    "# how does filter order affect the filtered signal?\n",
    "_data = signal.detrend(data)\n",
    "_frequencies, _power = signal.welch(_data, fs=sample_rate)\n",
    "\n",
    "f, (ax, ax2) = plt.subplots(\n",
    "    1, 2, figsize=(12, 2), tight_layout=True,\n",
    "    gridspec_kw=dict(width_ratios=[4, 1])\n",
    ")\n",
    "ax.plot(\n",
    "    data.index.get_level_values('time'), _data,\n",
    "    c='k', lw=0.6, alpha=0.5, label='raw'\n",
    ")\n",
    "ax2.plot(_frequencies, _power, c='k', alpha=0.6)\n",
    "for filter_order in range(1, 8):\n",
    "    _data_filtered = filters.butter_bandpass_filter(\n",
    "        _data, bands[band][0], bands[band][1],\n",
    "        sample_rate, filter_order\n",
    "    )\n",
    "    if np.isnan(_data_filtered).sum()>0:\n",
    "        continue\n",
    "    _frequencies, _power = signal.welch(_data_filtered, fs=sample_rate)\n",
    "    ax.plot(\n",
    "        data.index.get_level_values('time'), _data_filtered,\n",
    "        alpha=0.5, label=filter_order\n",
    "    )\n",
    "    ax2.plot(_frequencies, _power, alpha=0.6)\n",
    "ax.legend(ncol=2, loc=1, fontsize=8)\n",
    "ax2.set_xlim(bands[band][0]-1, bands[band][1]+1)\n",
    "ax2.set_ylim(1, 100)\n",
    "ax2.set_yscale('log')\n",
    "ax.set_xlabel('time (s)')\n",
    "ax.set_ylabel('signal')\n",
    "ax2.set_xlabel('frequency (Hz)')\n",
    "ax2.set_ylabel('PSD');"
   ]
  },
  {
   "cell_type": "code",
   "execution_count": 12,
   "metadata": {
    "execution": {
     "iopub.execute_input": "2020-10-19T02:14:27.438634Z",
     "iopub.status.busy": "2020-10-19T02:14:27.438332Z",
     "iopub.status.idle": "2020-10-19T02:14:27.469378Z",
     "shell.execute_reply": "2020-10-19T02:14:27.468644Z",
     "shell.execute_reply.started": "2020-10-19T02:14:27.438594Z"
    }
   },
   "outputs": [],
   "source": [
    "# filter the data\n",
    "FILTER_ORDER = 2\n",
    "def _bandpass_filter(data, filt=None):\n",
    "    time = data.index\n",
    "    data = signal.detrend(data)\n",
    "    # for now we use the standard butterfilter that Irene has implemented\n",
    "    filter_order = FILTER_ORDER\n",
    "    data_filtered = filters.butter_bandpass_filter(\n",
    "        data, bands[band][0], bands[band][1],\n",
    "        sample_rate, filter_order\n",
    "    )\n",
    "    return pd.Series(data_filtered, index=time)\n",
    "\n",
    "_data_filtered = _bandpass_filter(data.droplevel(list(range(1, 6))))"
   ]
  },
  {
   "cell_type": "code",
   "execution_count": 13,
   "metadata": {
    "execution": {
     "iopub.execute_input": "2020-10-19T02:14:27.470968Z",
     "iopub.status.busy": "2020-10-19T02:14:27.470583Z",
     "iopub.status.idle": "2020-10-19T02:14:29.546437Z",
     "shell.execute_reply": "2020-10-19T02:14:29.545967Z",
     "shell.execute_reply.started": "2020-10-19T02:14:27.470856Z"
    }
   },
   "outputs": [
    {
     "data": {
      "application/vnd.jupyter.widget-view+json": {
       "model_id": "75016d7722dd4b2c9b5ecb8b43c1e5bd",
       "version_major": 2,
       "version_minor": 0
      },
      "text/plain": [
       "Canvas(toolbar=Toolbar(toolitems=[('Home', 'Reset original view', 'home', 'home'), ('Back', 'Back to previous …"
      ]
     },
     "metadata": {},
     "output_type": "display_data"
    }
   ],
   "source": [
    "# fit AR parameters\n",
    "def _fit_aryule(data_filtered, arlen_ms=50):\n",
    "    yworder = int(arlen_ms*sample_rate/1000)\n",
    "    rho, P, k = aryule(data_filtered, yworder)\n",
    "    rho = -1*rho[::-1]\n",
    "    return rho, P, k\n",
    "\n",
    "_rho, _P, _K = _fit_aryule(_data_filtered, arlen_ms=1000)\n",
    "f, ax = plt.subplots(1, 1, figsize=(4, 2), tight_layout=True)\n",
    "ax.plot(-np.arange(len(_rho))/sample_rate*1000, _rho, 'o')\n",
    "ax.set_xlabel('Regression time (ms)')\n",
    "ax.set_ylabel('AR Coefficient');"
   ]
  },
  {
   "cell_type": "code",
   "execution_count": 14,
   "metadata": {
    "execution": {
     "iopub.execute_input": "2020-10-19T02:14:29.547377Z",
     "iopub.status.busy": "2020-10-19T02:14:29.547162Z",
     "iopub.status.idle": "2020-10-19T02:14:29.648997Z",
     "shell.execute_reply": "2020-10-19T02:14:29.648225Z",
     "shell.execute_reply.started": "2020-10-19T02:14:29.547315Z"
    }
   },
   "outputs": [
    {
     "data": {
      "application/vnd.jupyter.widget-view+json": {
       "model_id": "992968b123ba4f95b2b19734482b9a47",
       "version_major": 2,
       "version_minor": 0
      },
      "text/plain": [
       "Canvas(toolbar=Toolbar(toolitems=[('Home', 'Reset original view', 'home', 'home'), ('Back', 'Back to previous …"
      ]
     },
     "metadata": {},
     "output_type": "display_data"
    }
   ],
   "source": [
    "# predict timeseries\n",
    "def _predict(data_filtered, rho, prediction_len_ms=200, arlen_ms=50):\n",
    "    time = data_filtered.index\n",
    "    dt = np.diff(time).mean()\n",
    "    yworder = int(arlen_ms*sample_rate/1000)\n",
    "    n_predict = int(prediction_len_ms/1000*sample_rate)+1\n",
    "    data_with_predictions = np.r_[data_filtered, np.zeros(n_predict)]\n",
    "    for i in range(len(data_filtered), len(data_with_predictions)):\n",
    "        data_with_predictions[i] = (data_with_predictions[i-yworder:i]*rho).sum()\n",
    "    data_with_predictions = pd.Series(\n",
    "        data_with_predictions,\n",
    "        index=time.append(pd.Index(\n",
    "            np.ones(n_predict).cumsum()*dt+time[-1]\n",
    "#             np.linspace(\n",
    "#                 time[-1]+1/sample_rate,\n",
    "#                 time[-1]+prediction_len_ms/1000,\n",
    "#                 n_predict, endpoint=True\n",
    "#             )\n",
    "        ))\n",
    "    )\n",
    "    return data_with_predictions\n",
    "\n",
    "_twin = (127, 129)\n",
    "_data_with_predictions = _predict(_data_filtered.loc[_twin[0]:_twin[1]], _rho, prediction_len_ms=1000, arlen_ms=1000)\n",
    "f, ax = plt.subplots(1, 1, figsize=(10, 2), tight_layout=True)\n",
    "_data_filtered.loc[_twin[0]:].plot(ax=ax, label='data')\n",
    "_data_with_predictions.plot(ax=ax, label='prediction')\n",
    "ax.axvline(_twin[1], c='k', lw=0.5)\n",
    "ax.set_xlim(_twin[0], _data_with_predictions.index[-1])\n",
    "ax.legend(loc=2);"
   ]
  },
  {
   "cell_type": "code",
   "execution_count": 15,
   "metadata": {
    "execution": {
     "iopub.execute_input": "2020-10-19T02:14:29.650763Z",
     "iopub.status.busy": "2020-10-19T02:14:29.650321Z",
     "iopub.status.idle": "2020-10-19T02:14:29.690801Z",
     "shell.execute_reply": "2020-10-19T02:14:29.689830Z",
     "shell.execute_reply.started": "2020-10-19T02:14:29.650670Z"
    }
   },
   "outputs": [],
   "source": [
    "# full function to predict using yule-walker\n",
    "def arywpredict(data, filt=None, redge_ms=500, arlen_ms=1000, prediction_len_ms=500):\n",
    "    redge = data.index[-1] - redge_ms/1000\n",
    "    data_filtered = _bandpass_filter(data, filt=filt)\n",
    "    rho, P, K = _fit_aryule(\n",
    "        data_filtered.loc[:redge], arlen_ms=arlen_ms\n",
    "    )\n",
    "    data_with_predictions = _predict(\n",
    "        data_filtered.loc[:redge], rho,\n",
    "        prediction_len_ms=prediction_len_ms, arlen_ms=arlen_ms\n",
    "    )\n",
    "    return data_with_predictions, data_filtered"
   ]
  },
  {
   "cell_type": "code",
   "execution_count": 16,
   "metadata": {
    "execution": {
     "iopub.execute_input": "2020-10-19T02:14:29.692690Z",
     "iopub.status.busy": "2020-10-19T02:14:29.692196Z",
     "iopub.status.idle": "2020-10-19T02:14:29.984034Z",
     "shell.execute_reply": "2020-10-19T02:14:29.983606Z",
     "shell.execute_reply.started": "2020-10-19T02:14:29.692549Z"
    }
   },
   "outputs": [
    {
     "data": {
      "application/vnd.jupyter.widget-view+json": {
       "model_id": "ad6f7d9418154d1ba46ee5ca9276519f",
       "version_major": 2,
       "version_minor": 0
      },
      "text/plain": [
       "Canvas(toolbar=Toolbar(toolitems=[('Home', 'Reset original view', 'home', 'home'), ('Back', 'Back to previous …"
      ]
     },
     "metadata": {},
     "output_type": "display_data"
    }
   ],
   "source": [
    "def hilbert_tx(series):\n",
    "    _hil = signal.hilbert(series, axis=0)\n",
    "    _hil = pd.Series(_hil, index=series.index, name='hilert')\n",
    "    ampl = _hil.abs().rename('amplitude') # amplitude of signal\n",
    "    angl = _hil.apply(np.angle).rename('angle') # phase of signal\n",
    "    uangl = pd.Series(np.unwrap(angl), index=angl.index, name='uangl') # unwrapped phase of signal\n",
    "    return pd.concat([_hil, ampl, angl, uangl], axis=1)\n",
    "\n",
    "tid = -1\n",
    "ch = 7\n",
    "data = eegdata.xs(tid, level='id')[ch]\n",
    "time = data.index.get_level_values('time')\n",
    "t_onset = 120.0#data.index.get_level_values('onset').unique()[0]\n",
    "\n",
    "_tpred = 16\n",
    "arlen_ms = 2000\n",
    "predlen_ms = 1000\n",
    "redge_ms = 1000\n",
    "\n",
    "_tmin = _tpred-arlen_ms*1.5/1000\n",
    "_tmax = _tpred+predlen_ms*1.5/1000\n",
    "_data_with_predictions, _data_filtered = arywpredict(\n",
    "    data.droplevel(list(range(1, 6))).loc[_tpred-arlen_ms*5/1000:_tpred+redge_ms/1000],\n",
    "    redge_ms=redge_ms, filt=None, arlen_ms=arlen_ms, prediction_len_ms=predlen_ms\n",
    ")\n",
    "_hilbert_real = hilbert_tx(_data_filtered).loc[_tmin:]\n",
    "_hilbert_pred = hilbert_tx(_data_with_predictions).loc[_tmin:]\n",
    "f, (ax1, ax2) = plt.subplots(2, 1, figsize=(8, 3), tight_layout=True, sharex=True)\n",
    "_data_filtered[_tmin:].plot(ax=ax1, label='_filtered data', alpha=0.6)\n",
    "_data_with_predictions[_tmin:].plot(ax=ax1, label='_prediction', alpha=0.6)\n",
    "ax1.set_prop_cycle(None)\n",
    "_hilbert_real.amplitude[_tmin:].plot(ax=ax1, label='actual')\n",
    "_hilbert_pred.amplitude[_tmin:].plot(ax=ax1, label='predicted')\n",
    "_hilbert_real.angle[_tmin:].plot(ax=ax2, marker=None, label='actual')\n",
    "_hilbert_pred.angle[_tmin:].plot(ax=ax2, marker=None, label='predicted')\n",
    "ax1.axvline(_tpred, c='k')\n",
    "ax2.axvline(_tpred, c='k')\n",
    "ax1.legend(loc=2, fontsize=9)\n",
    "ax2.legend(loc=2, fontsize=9)\n",
    "ax2.set_xlabel('time (s)');"
   ]
  },
  {
   "cell_type": "markdown",
   "metadata": {},
   "source": [
    "### Characterize accuracy of prediction"
   ]
  },
  {
   "cell_type": "code",
   "execution_count": 17,
   "metadata": {
    "execution": {
     "iopub.execute_input": "2020-10-19T02:14:29.984939Z",
     "iopub.status.busy": "2020-10-19T02:14:29.984710Z",
     "iopub.status.idle": "2020-10-19T02:14:30.208065Z",
     "shell.execute_reply": "2020-10-19T02:14:30.207650Z",
     "shell.execute_reply.started": "2020-10-19T02:14:29.984873Z"
    }
   },
   "outputs": [
    {
     "data": {
      "application/vnd.jupyter.widget-view+json": {
       "model_id": "9ce55a6f5b614348bc201fdfd34afe1e",
       "version_major": 2,
       "version_minor": 0
      },
      "text/plain": [
       "Canvas(toolbar=Toolbar(toolitems=[('Home', 'Reset original view', 'home', 'home'), ('Back', 'Back to previous …"
      ]
     },
     "metadata": {},
     "output_type": "display_data"
    }
   ],
   "source": [
    "def _get_phase_amplitude_accuracy(T, ch=7, arlen_ms=1000, predlen_ms=1000, redge_ms=1000):\n",
    "    tid = -1\n",
    "    data = eegdata.xs(tid, level='id')[ch]\n",
    "    time = data.index.get_level_values('time')\n",
    "    _tmin = T-arlen_ms*1.5/1000\n",
    "    _tmax = T+predlen_ms*1.5/1000\n",
    "    _data_with_predictions, _data_filtered = arywpredict(\n",
    "        data.droplevel(list(range(1, 6))).loc[T-arlen_ms*5/1000:T+redge_ms/1000],\n",
    "        redge_ms=redge_ms, filt=None, arlen_ms=arlen_ms, prediction_len_ms=predlen_ms\n",
    "    )\n",
    "    _hilbert_real = hilbert_tx(_data_filtered)\n",
    "    _hilbert_pred = hilbert_tx(_data_with_predictions)\n",
    "    _hilbert_real['uangl'] = _hilbert_real.uangl - _hilbert_real.uangl.reindex([T], method='nearest').values[0]\n",
    "    _hilbert_pred['uangl'] = _hilbert_pred.uangl - _hilbert_pred.uangl.reindex([T], method='nearest').values[0]\n",
    "    m, c = np.polyfit(_hilbert_pred.uangl.loc[:T].index, _hilbert_pred.uangl.loc[:T].values, 1)\n",
    "    _hilbert_real['linear'] = _hilbert_real.uangl\n",
    "    _hilbert_pred['linear'] = _hilbert_pred.uangl\n",
    "    _hilbert_pred.loc[T:, 'linear'] = m*_hilbert_pred.uangl.loc[T:].index + c\n",
    "    _hilbert_diff = _hilbert_pred[T:] - _hilbert_real.reindex(\n",
    "        _hilbert_pred.index, method='nearest'\n",
    "    ).loc[T:]\n",
    "    _hilbert_diff['amplitude'] = _hilbert_diff.amplitude / _hilbert_real.amplitude.mean()\n",
    "    _sig_diff = _data_with_predictions[T:] - _data_filtered.reindex(\n",
    "        _data_with_predictions.index, method='nearest'\n",
    "    )[T:]\n",
    "    _diff = pd.concat([_sig_diff.rename('signal'), _hilbert_diff.amplitude, _hilbert_diff.uangl, _hilbert_diff.linear], axis=1)\n",
    "    _diff.index = np.array(1000*(_diff.index - T), dtype=int)/1000\n",
    "    return _diff.loc[-1:]\n",
    "\n",
    "f, axes = plt.subplots(1, 3, figsize=(9, 2), tight_layout=True)\n",
    "_diff = _get_phase_amplitude_accuracy(100)\n",
    "for c, ax in zip(_diff.columns, axes):\n",
    "    _diff[c].plot(ax=ax)\n",
    "    ax.set_ylabel(f'delta {c}')\n",
    "axes[1].set_xlabel('time from starting prediction (s)');"
   ]
  },
  {
   "cell_type": "code",
   "execution_count": 18,
   "metadata": {
    "execution": {
     "iopub.execute_input": "2020-10-19T02:14:30.208983Z",
     "iopub.status.busy": "2020-10-19T02:14:30.208762Z",
     "iopub.status.idle": "2020-10-19T02:15:25.866542Z",
     "shell.execute_reply": "2020-10-19T02:15:25.866102Z",
     "shell.execute_reply.started": "2020-10-19T02:14:30.208917Z"
    }
   },
   "outputs": [
    {
     "data": {
      "application/vnd.jupyter.widget-view+json": {
       "model_id": "bab029176d2d46519620b680b9331291",
       "version_major": 2,
       "version_minor": 0
      },
      "text/plain": [
       "HBox(children=(FloatProgress(value=0.0, max=500.0), HTML(value='')))"
      ]
     },
     "metadata": {},
     "output_type": "display_data"
    },
    {
     "name": "stdout",
     "output_type": "stream",
     "text": [
      "\n"
     ]
    }
   ],
   "source": [
    "T_preds = 20 + np.random.randint(0, 1000, 500)/1000*100 # select a random prediction time in the initial no-stimulation period\n",
    "_diffs = {}\n",
    "for T in tqdm(sorted(T_preds)):\n",
    "    _diffs[T] = _get_phase_amplitude_accuracy(T)\n",
    "_diffs = pd.concat(_diffs, axis=1).ffill().bfill()\n",
    "_diffs = _diffs.swaplevel(axis=1)\n",
    "_diffs['uangl'] = _diffs['uangl'] / 3.14*180\n",
    "_diffs['linear'] = _diffs['linear'] / 3.14*180"
   ]
  },
  {
   "cell_type": "code",
   "execution_count": 19,
   "metadata": {
    "execution": {
     "iopub.execute_input": "2020-10-19T02:15:25.867421Z",
     "iopub.status.busy": "2020-10-19T02:15:25.867196Z",
     "iopub.status.idle": "2020-10-19T02:15:27.425486Z",
     "shell.execute_reply": "2020-10-19T02:15:27.425033Z",
     "shell.execute_reply.started": "2020-10-19T02:15:25.867355Z"
    }
   },
   "outputs": [
    {
     "data": {
      "application/vnd.jupyter.widget-view+json": {
       "model_id": "c0ad0ec9cf9247b0bade228a68c30bd7",
       "version_major": 2,
       "version_minor": 0
      },
      "text/plain": [
       "Canvas(toolbar=Toolbar(toolitems=[('Home', 'Reset original view', 'home', 'home'), ('Back', 'Back to previous …"
      ]
     },
     "metadata": {},
     "output_type": "display_data"
    }
   ],
   "source": [
    "f, axes = plt.subplots(1, 3, figsize=(9, 2), tight_layout=True, sharex=True)\n",
    "for c, ax in zip(_diffs.columns.levels[0], axes):\n",
    "    _diffs[c].abs().median(axis=1).plot(\n",
    "        ax=ax,# yerr=_diffs[c].std(axis=1)/np.sqrt(500)\n",
    "    )\n",
    "    ax.set_ylabel(f'delta {c}')"
   ]
  },
  {
   "cell_type": "code",
   "execution_count": 20,
   "metadata": {
    "execution": {
     "iopub.execute_input": "2020-10-19T02:15:27.426477Z",
     "iopub.status.busy": "2020-10-19T02:15:27.426294Z",
     "iopub.status.idle": "2020-10-19T02:15:27.513063Z",
     "shell.execute_reply": "2020-10-19T02:15:27.512606Z",
     "shell.execute_reply.started": "2020-10-19T02:15:27.426451Z"
    }
   },
   "outputs": [
    {
     "data": {
      "application/vnd.jupyter.widget-view+json": {
       "model_id": "0f5c763bdac743c0b288f1dde76bbeca",
       "version_major": 2,
       "version_minor": 0
      },
      "text/plain": [
       "Canvas(toolbar=Toolbar(toolitems=[('Home', 'Reset original view', 'home', 'home'), ('Back', 'Back to previous …"
      ]
     },
     "metadata": {},
     "output_type": "display_data"
    }
   ],
   "source": [
    "f, ax = plt.subplots(1, 1, figsize=(4, 3), tight_layout=True)\n",
    "ax.plot((_diffs.linear-_diffs.uangl).abs().median(axis=1), label='AR prediction-actual')\n",
    "ax.plot(_diffs.linear.abs().median(axis=1), label='linear prediction-actual')\n",
    "ax.set_xlabel('time')\n",
    "ax.set_ylabel('angle')\n",
    "ax.legend(loc=2, fontsize=9);"
   ]
  },
  {
   "cell_type": "markdown",
   "metadata": {},
   "source": [
    "## Test phase detection algorithm on sample data"
   ]
  },
  {
   "cell_type": "code",
   "execution_count": 21,
   "metadata": {
    "execution": {
     "iopub.execute_input": "2020-10-19T02:15:27.514077Z",
     "iopub.status.busy": "2020-10-19T02:15:27.513892Z",
     "iopub.status.idle": "2020-10-19T02:15:27.539743Z",
     "shell.execute_reply": "2020-10-19T02:15:27.539284Z",
     "shell.execute_reply.started": "2020-10-19T02:15:27.514051Z"
    }
   },
   "outputs": [
    {
     "data": {
      "text/html": [
       "<div>\n",
       "<style scoped>\n",
       "    .dataframe tbody tr th:only-of-type {\n",
       "        vertical-align: middle;\n",
       "    }\n",
       "\n",
       "    .dataframe tbody tr th {\n",
       "        vertical-align: top;\n",
       "    }\n",
       "\n",
       "    .dataframe thead th {\n",
       "        text-align: right;\n",
       "    }\n",
       "</style>\n",
       "<table border=\"1\" class=\"dataframe\">\n",
       "  <thead>\n",
       "    <tr style=\"text-align: right;\">\n",
       "      <th></th>\n",
       "      <th>stim_type</th>\n",
       "      <th>amplitude</th>\n",
       "      <th>duration</th>\n",
       "      <th>onset</th>\n",
       "      <th>offset</th>\n",
       "      <th>sweep</th>\n",
       "      <th>id</th>\n",
       "      <th>window_onset</th>\n",
       "    </tr>\n",
       "  </thead>\n",
       "  <tbody>\n",
       "    <tr>\n",
       "      <th>3</th>\n",
       "      <td>biphasic</td>\n",
       "      <td>100</td>\n",
       "      <td>400.0</td>\n",
       "      <td>147.04601</td>\n",
       "      <td>147.04661</td>\n",
       "      <td>0</td>\n",
       "      <td>3</td>\n",
       "      <td>144.54601</td>\n",
       "    </tr>\n",
       "    <tr>\n",
       "      <th>4</th>\n",
       "      <td>biphasic</td>\n",
       "      <td>100</td>\n",
       "      <td>400.0</td>\n",
       "      <td>151.26887</td>\n",
       "      <td>151.26948</td>\n",
       "      <td>0</td>\n",
       "      <td>4</td>\n",
       "      <td>148.76887</td>\n",
       "    </tr>\n",
       "    <tr>\n",
       "      <th>5</th>\n",
       "      <td>biphasic</td>\n",
       "      <td>100</td>\n",
       "      <td>400.0</td>\n",
       "      <td>154.91916</td>\n",
       "      <td>154.91976</td>\n",
       "      <td>0</td>\n",
       "      <td>5</td>\n",
       "      <td>152.41916</td>\n",
       "    </tr>\n",
       "    <tr>\n",
       "      <th>9</th>\n",
       "      <td>biphasic</td>\n",
       "      <td>100</td>\n",
       "      <td>400.0</td>\n",
       "      <td>171.72105</td>\n",
       "      <td>171.72165</td>\n",
       "      <td>0</td>\n",
       "      <td>9</td>\n",
       "      <td>169.22105</td>\n",
       "    </tr>\n",
       "    <tr>\n",
       "      <th>10</th>\n",
       "      <td>biphasic</td>\n",
       "      <td>100</td>\n",
       "      <td>400.0</td>\n",
       "      <td>176.02181</td>\n",
       "      <td>176.02242</td>\n",
       "      <td>0</td>\n",
       "      <td>10</td>\n",
       "      <td>173.52181</td>\n",
       "    </tr>\n",
       "    <tr>\n",
       "      <th>15</th>\n",
       "      <td>biphasic</td>\n",
       "      <td>100</td>\n",
       "      <td>400.0</td>\n",
       "      <td>195.45212</td>\n",
       "      <td>195.45272</td>\n",
       "      <td>0</td>\n",
       "      <td>15</td>\n",
       "      <td>192.95212</td>\n",
       "    </tr>\n",
       "    <tr>\n",
       "      <th>17</th>\n",
       "      <td>biphasic</td>\n",
       "      <td>100</td>\n",
       "      <td>400.0</td>\n",
       "      <td>203.01729</td>\n",
       "      <td>203.01789</td>\n",
       "      <td>0</td>\n",
       "      <td>17</td>\n",
       "      <td>200.51729</td>\n",
       "    </tr>\n",
       "    <tr>\n",
       "      <th>24</th>\n",
       "      <td>biphasic</td>\n",
       "      <td>100</td>\n",
       "      <td>400.0</td>\n",
       "      <td>231.21529</td>\n",
       "      <td>231.21589</td>\n",
       "      <td>0</td>\n",
       "      <td>24</td>\n",
       "      <td>228.71529</td>\n",
       "    </tr>\n",
       "    <tr>\n",
       "      <th>28</th>\n",
       "      <td>biphasic</td>\n",
       "      <td>100</td>\n",
       "      <td>400.0</td>\n",
       "      <td>246.58409</td>\n",
       "      <td>246.58469</td>\n",
       "      <td>0</td>\n",
       "      <td>28</td>\n",
       "      <td>244.08409</td>\n",
       "    </tr>\n",
       "    <tr>\n",
       "      <th>30</th>\n",
       "      <td>biphasic</td>\n",
       "      <td>100</td>\n",
       "      <td>400.0</td>\n",
       "      <td>254.73616</td>\n",
       "      <td>254.73676</td>\n",
       "      <td>0</td>\n",
       "      <td>30</td>\n",
       "      <td>252.23616</td>\n",
       "    </tr>\n",
       "  </tbody>\n",
       "</table>\n",
       "</div>"
      ],
      "text/plain": [
       "   stim_type  amplitude  duration      onset     offset  sweep  id  \\\n",
       "3   biphasic        100     400.0  147.04601  147.04661      0   3   \n",
       "4   biphasic        100     400.0  151.26887  151.26948      0   4   \n",
       "5   biphasic        100     400.0  154.91916  154.91976      0   5   \n",
       "9   biphasic        100     400.0  171.72105  171.72165      0   9   \n",
       "10  biphasic        100     400.0  176.02181  176.02242      0  10   \n",
       "15  biphasic        100     400.0  195.45212  195.45272      0  15   \n",
       "17  biphasic        100     400.0  203.01729  203.01789      0  17   \n",
       "24  biphasic        100     400.0  231.21529  231.21589      0  24   \n",
       "28  biphasic        100     400.0  246.58409  246.58469      0  28   \n",
       "30  biphasic        100     400.0  254.73616  254.73676      0  30   \n",
       "\n",
       "    window_onset  \n",
       "3      144.54601  \n",
       "4      148.76887  \n",
       "5      152.41916  \n",
       "9      169.22105  \n",
       "10     173.52181  \n",
       "15     192.95212  \n",
       "17     200.51729  \n",
       "24     228.71529  \n",
       "28     244.08409  \n",
       "30     252.23616  "
      ]
     },
     "execution_count": 21,
     "metadata": {},
     "output_type": "execute_result"
    }
   ],
   "source": [
    "stimuli[stimuli.amplitude==100].head(10)"
   ]
  },
  {
   "cell_type": "code",
   "execution_count": 22,
   "metadata": {
    "execution": {
     "iopub.execute_input": "2020-10-19T02:15:27.540773Z",
     "iopub.status.busy": "2020-10-19T02:15:27.540584Z",
     "iopub.status.idle": "2020-10-19T02:15:27.833865Z",
     "shell.execute_reply": "2020-10-19T02:15:27.832981Z",
     "shell.execute_reply.started": "2020-10-19T02:15:27.540741Z"
    }
   },
   "outputs": [
    {
     "data": {
      "application/vnd.jupyter.widget-view+json": {
       "model_id": "3f2dc8c5500d43aca59cd0069395baf4",
       "version_major": 2,
       "version_minor": 0
      },
      "text/plain": [
       "Canvas(toolbar=Toolbar(toolitems=[('Home', 'Reset original view', 'home', 'home'), ('Back', 'Back to previous …"
      ]
     },
     "metadata": {},
     "output_type": "display_data"
    }
   ],
   "source": [
    "# look at a particular channel and stimulus\n",
    "tid = 5\n",
    "ch = 4\n",
    "delay_ms = 200\n",
    "data = eegdata.xs(tid, level='id')[ch]\n",
    "time = data.index.get_level_values('time')\n",
    "t_onset = data.index.get_level_values('onset').unique()[0]\n",
    "\n",
    "_tpred = t_onset - delay_ms/1000\n",
    "arlen_ms = 1000\n",
    "predlen_ms = 1000\n",
    "redge_ms = 1000\n",
    "_tmin = _tpred-1\n",
    "_tmax = _tpred+predlen_ms*1.5/1000\n",
    "\n",
    "f, (ax, ax1, ax2) = plt.subplots(3, 1, figsize=(8, 4), tight_layout=True, sharex=True)\n",
    "data.droplevel(list(range(1, 6))).loc[_tmin:_tpred+redge_ms/1000].plot(\n",
    "    ax=ax, label=f'ch{ch}'\n",
    ")\n",
    "ax.axvline(t_onset, c='k')\n",
    "ax.set_xlabel('time (s)')\n",
    "ax.set_ylabel('voltage')\n",
    "\n",
    "_data_with_predictions, _data_filtered = arywpredict(\n",
    "    data.droplevel(list(range(1, 6))).loc[_tpred-arlen_ms*5/1000:_tpred+redge_ms/1000],\n",
    "    redge_ms=redge_ms, filt=None, arlen_ms=arlen_ms, prediction_len_ms=predlen_ms\n",
    ")\n",
    "_hilbert_real = hilbert_tx(_data_filtered).loc[_tmin:]\n",
    "_hilbert_data = hilbert_tx(_data_with_predictions).loc[_tmin:]\n",
    "_data_filtered[_tmin:].plot(ax=ax1, label='_filtered data', alpha=0.6)\n",
    "_data_with_predictions[_tmin:].plot(ax=ax1, label='_prediction', alpha=0.6)\n",
    "ax1.set_prop_cycle(None)\n",
    "_hilbert_real.amplitude[_tmin:].plot(ax=ax1, label='actual')\n",
    "_hilbert_data.amplitude[_tmin:].plot(ax=ax1, label='predicted')\n",
    "_hilbert_real.angle[_tmin:].plot(ax=ax2, label='actual')\n",
    "_hilbert_data.angle[_tmin:].plot(ax=ax2, label='predicted')\n",
    "ax1.axvline(_tpred, c='k', lw=0.5)\n",
    "ax2.axvline(_tpred, c='k', lw=0.5)\n",
    "ax1.axvline(t_onset, c='k')\n",
    "ax2.axvline(t_onset, c='k')\n",
    "ax1.legend(loc=2, fontsize=9)\n",
    "ax2.legend(loc=2, fontsize=9)\n",
    "ax2.set_xlabel('time (s)')\n",
    "ax1.set_ylabel('voltage\\n(band passed)')\n",
    "ax2.set_ylabel('phase (rad)')\n",
    "ax.set_title(f'ch {ch} stimulus {tid} ({stimuli.amplitude[tid]} mA) - {band} band');"
   ]
  },
  {
   "cell_type": "markdown",
   "metadata": {},
   "source": [
    "1. On test data, show error in amplitude vs time\n",
    "1. Error in phase vs time\n",
    "1. Is AR based prediction different from simple linear extrapolation?"
   ]
  },
  {
   "cell_type": "code",
   "execution_count": null,
   "metadata": {},
   "outputs": [],
   "source": []
  }
 ],
 "metadata": {
  "kernelspec": {
   "display_name": "zapnzip",
   "language": "python",
   "name": "zapnzip"
  },
  "language_info": {
   "codemirror_mode": {
    "name": "ipython",
    "version": 3
   },
   "file_extension": ".py",
   "mimetype": "text/x-python",
   "name": "python",
   "nbconvert_exporter": "python",
   "pygments_lexer": "ipython3",
   "version": "3.7.4"
  },
  "widgets": {
   "application/vnd.jupyter.widget-state+json": {
    "state": {
     "00116b56978e42e8aea01e1250c713fd": {
      "model_module": "@jupyter-widgets/base",
      "model_module_version": "1.2.0",
      "model_name": "LayoutModel",
      "state": {}
     },
     "00685d9e81b249d3ba1948b3c5114e6e": {
      "model_module": "@jupyter-widgets/base",
      "model_module_version": "1.2.0",
      "model_name": "LayoutModel",
      "state": {}
     },
     "0078d3d761d242bc9b07f24e722b6279": {
      "model_module": "jupyter-matplotlib",
      "model_module_version": "^0.7.2",
      "model_name": "ToolbarModel",
      "state": {
       "layout": "IPY_MODEL_6c4c85aacf4a4842ac6e043e2d6f5713",
       "toolitems": [
        [
         "Home",
         "Reset original view",
         "home",
         "home"
        ],
        [
         "Back",
         "Back to previous view",
         "arrow-left",
         "back"
        ],
        [
         "Forward",
         "Forward to next view",
         "arrow-right",
         "forward"
        ],
        [
         "Pan",
         "Left button pans, Right button zooms\nx/y fixes axis, CTRL fixes aspect",
         "arrows",
         "pan"
        ],
        [
         "Zoom",
         "Zoom to rectangle\nx/y fixes axis, CTRL fixes aspect",
         "square-o",
         "zoom"
        ],
        [
         "Download",
         "Download plot",
         "floppy-o",
         "save_figure"
        ]
       ]
      }
     },
     "0088c3015b4047b78415473e1109abb8": {
      "model_module": "jupyter-matplotlib",
      "model_module_version": "^0.7.2",
      "model_name": "MPLCanvasModel",
      "state": {
       "_cursor": "default",
       "_figure_label": "Figure 63",
       "_height": 200,
       "_image_mode": "diff",
       "_message": "zoom rect",
       "_rubberband_y": 200,
       "_width": 600,
       "header_visible": false,
       "layout": "IPY_MODEL_75e389ce6da24ac793c3a0fe79a3c5a8",
       "toolbar": "IPY_MODEL_793e16a022ec4c4293af20ffcf452787",
       "toolbar_position": "left"
      }
     },
     "008b56356f8e4c038a964e4e6c35ccd4": {
      "model_module": "jupyter-matplotlib",
      "model_module_version": "^0.7.2",
      "model_name": "ToolbarModel",
      "state": {
       "_current_action": "zoom",
       "layout": "IPY_MODEL_a6823b34e2ff4c6f8a13267faed351d2",
       "toolitems": [
        [
         "Home",
         "Reset original view",
         "home",
         "home"
        ],
        [
         "Back",
         "Back to previous view",
         "arrow-left",
         "back"
        ],
        [
         "Forward",
         "Forward to next view",
         "arrow-right",
         "forward"
        ],
        [
         "Pan",
         "Left button pans, Right button zooms\nx/y fixes axis, CTRL fixes aspect",
         "arrows",
         "pan"
        ],
        [
         "Zoom",
         "Zoom to rectangle\nx/y fixes axis, CTRL fixes aspect",
         "square-o",
         "zoom"
        ],
        [
         "Download",
         "Download plot",
         "floppy-o",
         "save_figure"
        ]
       ]
      }
     },
     "00b9f75f4f2f4b54b667159740db9065": {
      "model_module": "jupyter-matplotlib",
      "model_module_version": "^0.7.2",
      "model_name": "MPLCanvasModel",
      "state": {
       "_cursor": "default",
       "_figure_label": "Figure 101",
       "_height": 310,
       "_image_mode": "diff",
       "_message": "zoom rect",
       "_rubberband_y": 310,
       "_width": 888,
       "header_visible": false,
       "layout": "IPY_MODEL_9a591b2e284a4e14b94bdd8aa9fac561",
       "toolbar": "IPY_MODEL_46092ddaf2d744028f0a9889286ecb9e",
       "toolbar_position": "left"
      }
     },
     "00d689a7932f47359ba3ed6d3042e2e8": {
      "model_module": "jupyter-matplotlib",
      "model_module_version": "^0.7.2",
      "model_name": "ToolbarModel",
      "state": {
       "layout": "IPY_MODEL_46ea737351604338a3300c77d059b397",
       "toolitems": [
        [
         "Home",
         "Reset original view",
         "home",
         "home"
        ],
        [
         "Back",
         "Back to previous view",
         "arrow-left",
         "back"
        ],
        [
         "Forward",
         "Forward to next view",
         "arrow-right",
         "forward"
        ],
        [
         "Pan",
         "Left button pans, Right button zooms\nx/y fixes axis, CTRL fixes aspect",
         "arrows",
         "pan"
        ],
        [
         "Zoom",
         "Zoom to rectangle\nx/y fixes axis, CTRL fixes aspect",
         "square-o",
         "zoom"
        ],
        [
         "Download",
         "Download plot",
         "floppy-o",
         "save_figure"
        ]
       ]
      }
     },
     "00e85f82793641eb93d4a6b890e6d860": {
      "model_module": "jupyter-matplotlib",
      "model_module_version": "^0.7.2",
      "model_name": "ToolbarModel",
      "state": {
       "layout": "IPY_MODEL_8d72130c8a61494f8867f4b97a8843ad",
       "toolitems": [
        [
         "Home",
         "Reset original view",
         "home",
         "home"
        ],
        [
         "Back",
         "Back to previous view",
         "arrow-left",
         "back"
        ],
        [
         "Forward",
         "Forward to next view",
         "arrow-right",
         "forward"
        ],
        [
         "Pan",
         "Left button pans, Right button zooms\nx/y fixes axis, CTRL fixes aspect",
         "arrows",
         "pan"
        ],
        [
         "Zoom",
         "Zoom to rectangle\nx/y fixes axis, CTRL fixes aspect",
         "square-o",
         "zoom"
        ],
        [
         "Download",
         "Download plot",
         "floppy-o",
         "save_figure"
        ]
       ]
      }
     },
     "00ed30ac4d884b94a1e0b0552889e27f": {
      "model_module": "jupyter-matplotlib",
      "model_module_version": "^0.7.2",
      "model_name": "MPLCanvasModel",
      "state": {
       "_cursor": "default",
       "_figure_label": "Figure 20",
       "_height": 400,
       "_width": 700,
       "header_visible": false,
       "layout": "IPY_MODEL_670dcba6f4474760b8dfaee0794f54de",
       "toolbar": "IPY_MODEL_6cd4a186e9cf4517949c67f1e43de730",
       "toolbar_position": "left"
      }
     },
     "010b0f17af974d37a59b179e6c2fc058": {
      "model_module": "@jupyter-widgets/controls",
      "model_module_version": "1.5.0",
      "model_name": "HBoxModel",
      "state": {
       "children": [
        "IPY_MODEL_4bf0e91df20b472ba9dd751943550ffc",
        "IPY_MODEL_9878c6ed916742b8a8af4860044335fb"
       ],
       "layout": "IPY_MODEL_3b42cf72d63b40d9bcf2559428733907"
      }
     },
     "025c8499077a4986a6f77c75bf58017f": {
      "model_module": "@jupyter-widgets/base",
      "model_module_version": "1.2.0",
      "model_name": "LayoutModel",
      "state": {}
     },
     "02daa6d4c32b40e19d1a1be49e503668": {
      "model_module": "@jupyter-widgets/controls",
      "model_module_version": "1.5.0",
      "model_name": "FloatProgressModel",
      "state": {
       "bar_style": "success",
       "description": "100%",
       "layout": "IPY_MODEL_76b700f6a72f4dc8a400255141193c21",
       "max": 1000,
       "style": "IPY_MODEL_f20807566df6462a937c6a891136f2a3",
       "value": 1000
      }
     },
     "02e61bdd261d426889442bb232627b88": {
      "model_module": "jupyter-matplotlib",
      "model_module_version": "^0.7.2",
      "model_name": "ToolbarModel",
      "state": {
       "layout": "IPY_MODEL_2c57920722f44a038757e5f100ee1483",
       "toolitems": [
        [
         "Home",
         "Reset original view",
         "home",
         "home"
        ],
        [
         "Back",
         "Back to previous view",
         "arrow-left",
         "back"
        ],
        [
         "Forward",
         "Forward to next view",
         "arrow-right",
         "forward"
        ],
        [
         "Pan",
         "Left button pans, Right button zooms\nx/y fixes axis, CTRL fixes aspect",
         "arrows",
         "pan"
        ],
        [
         "Zoom",
         "Zoom to rectangle\nx/y fixes axis, CTRL fixes aspect",
         "square-o",
         "zoom"
        ],
        [
         "Download",
         "Download plot",
         "floppy-o",
         "save_figure"
        ]
       ]
      }
     },
     "032b7bd26d7840ea9e82c85ff6cfa02a": {
      "model_module": "jupyter-matplotlib",
      "model_module_version": "^0.7.2",
      "model_name": "ToolbarModel",
      "state": {
       "layout": "IPY_MODEL_6bab353ee3a241d5b91d435af20dbc6b",
       "toolitems": [
        [
         "Home",
         "Reset original view",
         "home",
         "home"
        ],
        [
         "Back",
         "Back to previous view",
         "arrow-left",
         "back"
        ],
        [
         "Forward",
         "Forward to next view",
         "arrow-right",
         "forward"
        ],
        [
         "Pan",
         "Left button pans, Right button zooms\nx/y fixes axis, CTRL fixes aspect",
         "arrows",
         "pan"
        ],
        [
         "Zoom",
         "Zoom to rectangle\nx/y fixes axis, CTRL fixes aspect",
         "square-o",
         "zoom"
        ],
        [
         "Download",
         "Download plot",
         "floppy-o",
         "save_figure"
        ]
       ]
      }
     },
     "0352079caef540728a170c97a7d6cb14": {
      "model_module": "@jupyter-widgets/base",
      "model_module_version": "1.2.0",
      "model_name": "LayoutModel",
      "state": {}
     },
     "038532dc62e747ab9bd9ff71df62ac5c": {
      "model_module": "@jupyter-widgets/base",
      "model_module_version": "1.2.0",
      "model_name": "LayoutModel",
      "state": {}
     },
     "058abd210bf54196a9750cf6a55d30d4": {
      "model_module": "@jupyter-widgets/controls",
      "model_module_version": "1.5.0",
      "model_name": "DescriptionStyleModel",
      "state": {
       "description_width": ""
      }
     },
     "059d3059845a467985d130c9dee97df5": {
      "model_module": "@jupyter-widgets/controls",
      "model_module_version": "1.5.0",
      "model_name": "ProgressStyleModel",
      "state": {
       "description_width": "initial"
      }
     },
     "0625436ed4d343618db292c20bbdb8e3": {
      "model_module": "@jupyter-widgets/base",
      "model_module_version": "1.2.0",
      "model_name": "LayoutModel",
      "state": {}
     },
     "064b06a5aded45a292e64abf3af42551": {
      "model_module": "@jupyter-widgets/base",
      "model_module_version": "1.2.0",
      "model_name": "LayoutModel",
      "state": {}
     },
     "06e3bda6f7b3423c9adf2763c7edc928": {
      "model_module": "jupyter-matplotlib",
      "model_module_version": "^0.7.2",
      "model_name": "ToolbarModel",
      "state": {
       "_current_action": "zoom",
       "layout": "IPY_MODEL_cea8a6e92ea741ad945d5f8ebf6e6636",
       "toolitems": [
        [
         "Home",
         "Reset original view",
         "home",
         "home"
        ],
        [
         "Back",
         "Back to previous view",
         "arrow-left",
         "back"
        ],
        [
         "Forward",
         "Forward to next view",
         "arrow-right",
         "forward"
        ],
        [
         "Pan",
         "Left button pans, Right button zooms\nx/y fixes axis, CTRL fixes aspect",
         "arrows",
         "pan"
        ],
        [
         "Zoom",
         "Zoom to rectangle\nx/y fixes axis, CTRL fixes aspect",
         "square-o",
         "zoom"
        ],
        [
         "Download",
         "Download plot",
         "floppy-o",
         "save_figure"
        ]
       ]
      }
     },
     "07a8616a059b4d83abf312e5ccc103df": {
      "model_module": "@jupyter-widgets/base",
      "model_module_version": "1.2.0",
      "model_name": "LayoutModel",
      "state": {}
     },
     "07e85fc4e59148a2a90ddcde67eef7af": {
      "model_module": "@jupyter-widgets/controls",
      "model_module_version": "1.5.0",
      "model_name": "DescriptionStyleModel",
      "state": {
       "description_width": ""
      }
     },
     "0811454894e8403191549b27d36ffe4b": {
      "model_module": "@jupyter-widgets/base",
      "model_module_version": "1.2.0",
      "model_name": "LayoutModel",
      "state": {}
     },
     "09010c6f808e4ccb910ff14edc9a05db": {
      "model_module": "jupyter-matplotlib",
      "model_module_version": "^0.7.2",
      "model_name": "ToolbarModel",
      "state": {
       "layout": "IPY_MODEL_374d85210f2c45a3afb293f537d93efb",
       "toolitems": [
        [
         "Home",
         "Reset original view",
         "home",
         "home"
        ],
        [
         "Back",
         "Back to previous view",
         "arrow-left",
         "back"
        ],
        [
         "Forward",
         "Forward to next view",
         "arrow-right",
         "forward"
        ],
        [
         "Pan",
         "Left button pans, Right button zooms\nx/y fixes axis, CTRL fixes aspect",
         "arrows",
         "pan"
        ],
        [
         "Zoom",
         "Zoom to rectangle\nx/y fixes axis, CTRL fixes aspect",
         "square-o",
         "zoom"
        ],
        [
         "Download",
         "Download plot",
         "floppy-o",
         "save_figure"
        ]
       ]
      }
     },
     "096c76fdc6394e6f85bbc42199e5bf41": {
      "model_module": "jupyter-matplotlib",
      "model_module_version": "^0.7.2",
      "model_name": "MPLCanvasModel",
      "state": {
       "_cursor": "default",
       "_figure_label": "Figure 44",
       "_height": 200,
       "_message": "x=−0.680 y=−65.",
       "_width": 600,
       "header_visible": false,
       "layout": "IPY_MODEL_a0334948fc664f69bb0b0320fbc24030",
       "toolbar": "IPY_MODEL_9b4ece109c35443ea8a2993176260255",
       "toolbar_position": "left"
      }
     },
     "0a32291177444091823fbd1dda44b5a9": {
      "model_module": "jupyter-matplotlib",
      "model_module_version": "^0.7.2",
      "model_name": "MPLCanvasModel",
      "state": {
       "_cursor": "default",
       "_figure_label": "Figure 74",
       "_height": 200,
       "_width": 600,
       "header_visible": false,
       "layout": "IPY_MODEL_838c295dbfce41fda29c1bf133084eb9",
       "toolbar": "IPY_MODEL_bff49ccdd40f45018539cbc2dd0ab21d",
       "toolbar_position": "left"
      }
     },
     "0bc10ed78d1f4a659c63f6b5b56a41ff": {
      "model_module": "jupyter-matplotlib",
      "model_module_version": "^0.7.2",
      "model_name": "ToolbarModel",
      "state": {
       "layout": "IPY_MODEL_44fe237185b7494db884d5f7a2c18133",
       "toolitems": [
        [
         "Home",
         "Reset original view",
         "home",
         "home"
        ],
        [
         "Back",
         "Back to previous view",
         "arrow-left",
         "back"
        ],
        [
         "Forward",
         "Forward to next view",
         "arrow-right",
         "forward"
        ],
        [
         "Pan",
         "Left button pans, Right button zooms\nx/y fixes axis, CTRL fixes aspect",
         "arrows",
         "pan"
        ],
        [
         "Zoom",
         "Zoom to rectangle\nx/y fixes axis, CTRL fixes aspect",
         "square-o",
         "zoom"
        ],
        [
         "Download",
         "Download plot",
         "floppy-o",
         "save_figure"
        ]
       ]
      }
     },
     "0bf585e2797b43ffb7c7bfec9fe8c690": {
      "model_module": "@jupyter-widgets/base",
      "model_module_version": "1.2.0",
      "model_name": "LayoutModel",
      "state": {}
     },
     "0c4c75e46bf5484487a9970003d835b2": {
      "model_module": "jupyter-matplotlib",
      "model_module_version": "^0.7.2",
      "model_name": "MPLCanvasModel",
      "state": {
       "_cursor": "default",
       "_figure_label": "Figure 30",
       "_height": 200,
       "_width": 800,
       "header_visible": false,
       "layout": "IPY_MODEL_298ea2eed2da420884087a624f3dc10e",
       "toolbar": "IPY_MODEL_3e798284a1964ad28a0308add99495fe",
       "toolbar_position": "left"
      }
     },
     "0d7b5a850adf42c5b0039db78a9da5ed": {
      "model_module": "jupyter-matplotlib",
      "model_module_version": "^0.7.2",
      "model_name": "MPLCanvasModel",
      "state": {
       "_cursor": "default",
       "_figure_label": "Figure 75",
       "_height": 200,
       "_width": 600,
       "header_visible": false,
       "layout": "IPY_MODEL_0f1d0c62985c414cb08a9df0c7f406e0",
       "toolbar": "IPY_MODEL_268bb78ff7534f0bbdb5233fdc35c353",
       "toolbar_position": "left"
      }
     },
     "0da9e7df19ee433ebd7018bd03ac804f": {
      "model_module": "@jupyter-widgets/controls",
      "model_module_version": "1.5.0",
      "model_name": "FloatProgressModel",
      "state": {
       "bar_style": "success",
       "description": "100%",
       "layout": "IPY_MODEL_22e0811dfbc049588580cb8d47ef7c14",
       "max": 1000,
       "style": "IPY_MODEL_188241dec2614096bf0d152cf1fba19f",
       "value": 1000
      }
     },
     "0dda81c6ce574c769a0ee2bc4339c851": {
      "model_module": "@jupyter-widgets/base",
      "model_module_version": "1.2.0",
      "model_name": "LayoutModel",
      "state": {}
     },
     "0e2eb66baad141ffa1b91cd47be3a40c": {
      "model_module": "@jupyter-widgets/base",
      "model_module_version": "1.2.0",
      "model_name": "LayoutModel",
      "state": {}
     },
     "0e77c7415fd941febc8b19e468f35964": {
      "model_module": "@jupyter-widgets/base",
      "model_module_version": "1.2.0",
      "model_name": "LayoutModel",
      "state": {}
     },
     "0efe2705860b4293bf0c3b16a1bafca8": {
      "model_module": "@jupyter-widgets/base",
      "model_module_version": "1.2.0",
      "model_name": "LayoutModel",
      "state": {}
     },
     "0f1d0c62985c414cb08a9df0c7f406e0": {
      "model_module": "@jupyter-widgets/base",
      "model_module_version": "1.2.0",
      "model_name": "LayoutModel",
      "state": {}
     },
     "0fe0cd58a18944bf864a9a49569b5d04": {
      "model_module": "jupyter-matplotlib",
      "model_module_version": "^0.7.2",
      "model_name": "MPLCanvasModel",
      "state": {
       "_cursor": "default",
       "_figure_label": "Figure 36",
       "_height": 200,
       "_width": 600,
       "header_visible": false,
       "layout": "IPY_MODEL_cfb4e833489f4ca2bb652cd86b3f8674",
       "toolbar": "IPY_MODEL_29df53c95ffb4c31b27d8d1551b6ec3c",
       "toolbar_position": "left"
      }
     },
     "10da8f7f506d492f8e7740d31fca05d0": {
      "model_module": "@jupyter-widgets/base",
      "model_module_version": "1.2.0",
      "model_name": "LayoutModel",
      "state": {}
     },
     "10e6274dc5de485aba9dc7c2cf34938e": {
      "model_module": "@jupyter-widgets/base",
      "model_module_version": "1.2.0",
      "model_name": "LayoutModel",
      "state": {}
     },
     "122173b3886a4cd797afd9d3ce8960c6": {
      "model_module": "@jupyter-widgets/base",
      "model_module_version": "1.2.0",
      "model_name": "LayoutModel",
      "state": {}
     },
     "12bab8855ad84387aebfe56acd262062": {
      "model_module": "@jupyter-widgets/controls",
      "model_module_version": "1.5.0",
      "model_name": "HTMLModel",
      "state": {
       "layout": "IPY_MODEL_3c1d34a9778049fd8b214e141a834df3",
       "style": "IPY_MODEL_6b0a2bfc47f242e7b362759efd5522d1",
       "value": " 1000/1000 [00:55&lt;00:00, 17.92it/s]"
      }
     },
     "134c53d0755e4217ad1f8ea3e873a289": {
      "model_module": "@jupyter-widgets/base",
      "model_module_version": "1.2.0",
      "model_name": "LayoutModel",
      "state": {}
     },
     "135fbb3aed274995bcd8e1e9d990467e": {
      "model_module": "@jupyter-widgets/controls",
      "model_module_version": "1.5.0",
      "model_name": "FloatProgressModel",
      "state": {
       "bar_style": "success",
       "description": "100%",
       "layout": "IPY_MODEL_d84c6a2c7f3e46b886604dc35fb93cbd",
       "max": 1000,
       "style": "IPY_MODEL_2b02b0e074c248a2a4c3ffa6baed493a",
       "value": 1000
      }
     },
     "13a69cecd362461badd28a5718020ceb": {
      "model_module": "jupyter-matplotlib",
      "model_module_version": "^0.7.2",
      "model_name": "MPLCanvasModel",
      "state": {
       "_cursor": "default",
       "_figure_label": "Figure 59",
       "_height": 200,
       "_message": "x=−0.903 y=−16.1",
       "_width": 600,
       "header_visible": false,
       "layout": "IPY_MODEL_54ec4124ae8e484f89ddfea303eb276b",
       "toolbar": "IPY_MODEL_c44a7ca376af449eb327a97ea4591c04",
       "toolbar_position": "left"
      }
     },
     "13a9305c9b114dd6a0b5adeed5bdc01f": {
      "model_module": "jupyter-matplotlib",
      "model_module_version": "^0.7.2",
      "model_name": "MPLCanvasModel",
      "state": {
       "_cursor": "default",
       "_figure_label": "Figure 92",
       "_height": 200,
       "_width": 600,
       "header_visible": false,
       "layout": "IPY_MODEL_07a8616a059b4d83abf312e5ccc103df",
       "toolbar": "IPY_MODEL_87333b6ad50443ecbcef09b1e0a45f55",
       "toolbar_position": "left"
      }
     },
     "149507e51d66445993c95905894507be": {
      "model_module": "@jupyter-widgets/controls",
      "model_module_version": "1.5.0",
      "model_name": "HTMLModel",
      "state": {
       "layout": "IPY_MODEL_654bbbc998264641a22e624ca326fcd4",
       "style": "IPY_MODEL_43c25d8089c845eeb5e9b365c4a99dfd",
       "value": " 1000/1000 [04:19&lt;00:00,  3.85it/s]"
      }
     },
     "15740109139a40d0bb5afb82cf9e419a": {
      "model_module": "@jupyter-widgets/base",
      "model_module_version": "1.2.0",
      "model_name": "LayoutModel",
      "state": {}
     },
     "157ae78da6154fda889dedff45c52fd0": {
      "model_module": "@jupyter-widgets/base",
      "model_module_version": "1.2.0",
      "model_name": "LayoutModel",
      "state": {}
     },
     "15a0939d93e4451da6868bed4fad3d1c": {
      "model_module": "jupyter-matplotlib",
      "model_module_version": "^0.7.2",
      "model_name": "ToolbarModel",
      "state": {
       "layout": "IPY_MODEL_524ac2c30f064fec836d0b49c92902da",
       "toolitems": [
        [
         "Home",
         "Reset original view",
         "home",
         "home"
        ],
        [
         "Back",
         "Back to previous view",
         "arrow-left",
         "back"
        ],
        [
         "Forward",
         "Forward to next view",
         "arrow-right",
         "forward"
        ],
        [
         "Pan",
         "Left button pans, Right button zooms\nx/y fixes axis, CTRL fixes aspect",
         "arrows",
         "pan"
        ],
        [
         "Zoom",
         "Zoom to rectangle\nx/y fixes axis, CTRL fixes aspect",
         "square-o",
         "zoom"
        ],
        [
         "Download",
         "Download plot",
         "floppy-o",
         "save_figure"
        ]
       ]
      }
     },
     "16334526cdec4b62a5129f9e0a27928e": {
      "model_module": "@jupyter-widgets/base",
      "model_module_version": "1.2.0",
      "model_name": "LayoutModel",
      "state": {}
     },
     "1640033559bb4f2bb4582b9ec62fb778": {
      "model_module": "jupyter-matplotlib",
      "model_module_version": "^0.7.2",
      "model_name": "MPLCanvasModel",
      "state": {
       "_cursor": "default",
       "_figure_label": "Figure 22",
       "_height": 200,
       "_width": 800,
       "header_visible": false,
       "layout": "IPY_MODEL_2176b10e18b8494089af8697e521a765",
       "toolbar": "IPY_MODEL_2a1eb0e3a5d74c9eb3d7a56d8aa67103",
       "toolbar_position": "left"
      }
     },
     "16cc40ef0f3a4f9396fe90cb49a16c39": {
      "model_module": "@jupyter-widgets/controls",
      "model_module_version": "1.5.0",
      "model_name": "FloatProgressModel",
      "state": {
       "bar_style": "success",
       "description": "100%",
       "layout": "IPY_MODEL_2ab4c751fc8c4cc58cac99eb0751aeae",
       "style": "IPY_MODEL_49f2c49d197d4e7dbfcb4f40a0724614",
       "value": 100
      }
     },
     "16ff5574f0bc41fc85e9133a346cf126": {
      "model_module": "jupyter-matplotlib",
      "model_module_version": "^0.7.2",
      "model_name": "ToolbarModel",
      "state": {
       "layout": "IPY_MODEL_2798ea91f64942e8aa6510005d8cd82e",
       "toolitems": [
        [
         "Home",
         "Reset original view",
         "home",
         "home"
        ],
        [
         "Back",
         "Back to previous view",
         "arrow-left",
         "back"
        ],
        [
         "Forward",
         "Forward to next view",
         "arrow-right",
         "forward"
        ],
        [
         "Pan",
         "Left button pans, Right button zooms\nx/y fixes axis, CTRL fixes aspect",
         "arrows",
         "pan"
        ],
        [
         "Zoom",
         "Zoom to rectangle\nx/y fixes axis, CTRL fixes aspect",
         "square-o",
         "zoom"
        ],
        [
         "Download",
         "Download plot",
         "floppy-o",
         "save_figure"
        ]
       ]
      }
     },
     "170bbf476b0b4a87b870b6915c55cb62": {
      "model_module": "jupyter-matplotlib",
      "model_module_version": "^0.7.2",
      "model_name": "MPLCanvasModel",
      "state": {
       "_cursor": "default",
       "_figure_label": "Figure 65",
       "_height": 200,
       "_width": 600,
       "header_visible": false,
       "layout": "IPY_MODEL_24c8c220ffa846e5bd42364ca86a447f",
       "toolbar": "IPY_MODEL_17b17461cfdd4a83b47613be14b754ef",
       "toolbar_position": "left"
      }
     },
     "17b17461cfdd4a83b47613be14b754ef": {
      "model_module": "jupyter-matplotlib",
      "model_module_version": "^0.7.2",
      "model_name": "ToolbarModel",
      "state": {
       "layout": "IPY_MODEL_b6556ef608dd47f0ba74759a3af53c77",
       "toolitems": [
        [
         "Home",
         "Reset original view",
         "home",
         "home"
        ],
        [
         "Back",
         "Back to previous view",
         "arrow-left",
         "back"
        ],
        [
         "Forward",
         "Forward to next view",
         "arrow-right",
         "forward"
        ],
        [
         "Pan",
         "Left button pans, Right button zooms\nx/y fixes axis, CTRL fixes aspect",
         "arrows",
         "pan"
        ],
        [
         "Zoom",
         "Zoom to rectangle\nx/y fixes axis, CTRL fixes aspect",
         "square-o",
         "zoom"
        ],
        [
         "Download",
         "Download plot",
         "floppy-o",
         "save_figure"
        ]
       ]
      }
     },
     "188241dec2614096bf0d152cf1fba19f": {
      "model_module": "@jupyter-widgets/controls",
      "model_module_version": "1.5.0",
      "model_name": "ProgressStyleModel",
      "state": {
       "description_width": "initial"
      }
     },
     "18d662c760694ff8a86200e2698a51de": {
      "model_module": "@jupyter-widgets/controls",
      "model_module_version": "1.5.0",
      "model_name": "ProgressStyleModel",
      "state": {
       "description_width": "initial"
      }
     },
     "192cc789f3694ae8832c5877ec6547e9": {
      "model_module": "@jupyter-widgets/controls",
      "model_module_version": "1.5.0",
      "model_name": "ProgressStyleModel",
      "state": {
       "description_width": "initial"
      }
     },
     "194321d5605243af9a34fe37559f83a5": {
      "model_module": "@jupyter-widgets/controls",
      "model_module_version": "1.5.0",
      "model_name": "HBoxModel",
      "state": {
       "children": [
        "IPY_MODEL_ee3ea5f55a934ca3a7619e4e5ae4bf46",
        "IPY_MODEL_9b7ffee475d64ffc9d35094c53e827f4"
       ],
       "layout": "IPY_MODEL_8818680509b843a7922406458fbc9032"
      }
     },
     "197e9de24f994d6082479df7962af9b8": {
      "model_module": "@jupyter-widgets/base",
      "model_module_version": "1.2.0",
      "model_name": "LayoutModel",
      "state": {}
     },
     "19a59065417a4cea9b25ee24603e402d": {
      "model_module": "@jupyter-widgets/controls",
      "model_module_version": "1.5.0",
      "model_name": "HTMLModel",
      "state": {
       "layout": "IPY_MODEL_2ab5dcfeff7f41df8f6b35472becb5ba",
       "style": "IPY_MODEL_5a0d6feddb814d67a6d4eeb6b0e510b8",
       "value": " 1000/1000 [00:24&lt;00:00, 41.60it/s]"
      }
     },
     "1a9fb49fe5854f69801496eab0752734": {
      "model_module": "@jupyter-widgets/base",
      "model_module_version": "1.2.0",
      "model_name": "LayoutModel",
      "state": {}
     },
     "1abfc9a7740f489fa9c8a0eba67dc9b1": {
      "model_module": "@jupyter-widgets/base",
      "model_module_version": "1.2.0",
      "model_name": "LayoutModel",
      "state": {}
     },
     "1aed19e61f07425996485d4189bc6a32": {
      "model_module": "@jupyter-widgets/controls",
      "model_module_version": "1.5.0",
      "model_name": "HBoxModel",
      "state": {
       "children": [
        "IPY_MODEL_560334fed2f643948565c3e7186a7eaa",
        "IPY_MODEL_ffb52f9c0cb442d7b46e0758c0cb97b8"
       ],
       "layout": "IPY_MODEL_318a064a32b24ddd8f581360b2894652"
      }
     },
     "1bebafbf8e224f65875e2caf7f2db51c": {
      "model_module": "jupyter-matplotlib",
      "model_module_version": "^0.7.2",
      "model_name": "ToolbarModel",
      "state": {
       "layout": "IPY_MODEL_809d595755684f21b494f21147baa6de",
       "toolitems": [
        [
         "Home",
         "Reset original view",
         "home",
         "home"
        ],
        [
         "Back",
         "Back to previous view",
         "arrow-left",
         "back"
        ],
        [
         "Forward",
         "Forward to next view",
         "arrow-right",
         "forward"
        ],
        [
         "Pan",
         "Left button pans, Right button zooms\nx/y fixes axis, CTRL fixes aspect",
         "arrows",
         "pan"
        ],
        [
         "Zoom",
         "Zoom to rectangle\nx/y fixes axis, CTRL fixes aspect",
         "square-o",
         "zoom"
        ],
        [
         "Download",
         "Download plot",
         "floppy-o",
         "save_figure"
        ]
       ]
      }
     },
     "1c02b218f0664519a27f0b4fc8f1e294": {
      "model_module": "@jupyter-widgets/base",
      "model_module_version": "1.2.0",
      "model_name": "LayoutModel",
      "state": {}
     },
     "1cb9db051139424f8b9ee9f8100db2d4": {
      "model_module": "@jupyter-widgets/controls",
      "model_module_version": "1.5.0",
      "model_name": "FloatProgressModel",
      "state": {
       "bar_style": "success",
       "description": "100%",
       "layout": "IPY_MODEL_0dda81c6ce574c769a0ee2bc4339c851",
       "max": 1000,
       "style": "IPY_MODEL_51e0b2dcb43b4990a67e459ade82082a",
       "value": 1000
      }
     },
     "1cbff068151f49f1a1571c94c22ec185": {
      "model_module": "@jupyter-widgets/base",
      "model_module_version": "1.2.0",
      "model_name": "LayoutModel",
      "state": {}
     },
     "1cd7904b23aa497292c184b8f27db414": {
      "model_module": "jupyter-matplotlib",
      "model_module_version": "^0.7.2",
      "model_name": "MPLCanvasModel",
      "state": {
       "_cursor": "default",
       "_figure_label": "Figure 21",
       "_height": 200,
       "_width": 800,
       "header_visible": false,
       "layout": "IPY_MODEL_f7cab5a6859e4b638d0fc468a7633ab3",
       "toolbar": "IPY_MODEL_906559f0bcf14fb6801fff763300e32b",
       "toolbar_position": "left"
      }
     },
     "1d1b361e27344bc6aad5a17780bae875": {
      "model_module": "@jupyter-widgets/base",
      "model_module_version": "1.2.0",
      "model_name": "LayoutModel",
      "state": {}
     },
     "1d34bdd0ab504c7aa242be37aaf94a38": {
      "model_module": "@jupyter-widgets/base",
      "model_module_version": "1.2.0",
      "model_name": "LayoutModel",
      "state": {}
     },
     "1d69b4cfe95b420bbd5b1bd5fe8d9489": {
      "model_module": "@jupyter-widgets/controls",
      "model_module_version": "1.5.0",
      "model_name": "DescriptionStyleModel",
      "state": {
       "description_width": ""
      }
     },
     "1d726c3d5e104587b5dd19816c44e555": {
      "model_module": "@jupyter-widgets/controls",
      "model_module_version": "1.5.0",
      "model_name": "HTMLModel",
      "state": {
       "layout": "IPY_MODEL_8af2e6fcb5f043cfb732d2739e9b7263",
       "style": "IPY_MODEL_7f274a1d18e94c95b7485ed3c50c86cf",
       "value": " 100/100 [02:25&lt;00:00,  1.45s/it]"
      }
     },
     "1e5b4e8bde62487f8235097e0824b2ec": {
      "model_module": "@jupyter-widgets/base",
      "model_module_version": "1.2.0",
      "model_name": "LayoutModel",
      "state": {}
     },
     "1e75870b93af43a092f9a3d2f442544f": {
      "model_module": "@jupyter-widgets/base",
      "model_module_version": "1.2.0",
      "model_name": "LayoutModel",
      "state": {}
     },
     "1f046b3b25d24e24857b98edecc7a0ec": {
      "model_module": "@jupyter-widgets/base",
      "model_module_version": "1.2.0",
      "model_name": "LayoutModel",
      "state": {}
     },
     "1f3845f2756f415fb83bbfba3768a952": {
      "model_module": "@jupyter-widgets/base",
      "model_module_version": "1.2.0",
      "model_name": "LayoutModel",
      "state": {}
     },
     "1f444b24bd2d4e1fbf5402efac1bc0b9": {
      "model_module": "@jupyter-widgets/controls",
      "model_module_version": "1.5.0",
      "model_name": "HBoxModel",
      "state": {
       "children": [
        "IPY_MODEL_2e5c7ab326354d2b8149a7a99a818ec2",
        "IPY_MODEL_cbaa4f6a54fa4599853b10080e3c9300"
       ],
       "layout": "IPY_MODEL_5f3dd45efcb9417a902708ed949c7952"
      }
     },
     "20e18673cdc3412cae97f20c7b31182b": {
      "model_module": "@jupyter-widgets/controls",
      "model_module_version": "1.5.0",
      "model_name": "HBoxModel",
      "state": {
       "children": [
        "IPY_MODEL_2e4ad6fd3142404a9fa8dce5b1f6ab5a",
        "IPY_MODEL_12bab8855ad84387aebfe56acd262062"
       ],
       "layout": "IPY_MODEL_bff5dca61cc046548c9ca7484de210f6"
      }
     },
     "21120c3965524221be75d5d3a64bac85": {
      "model_module": "@jupyter-widgets/controls",
      "model_module_version": "1.5.0",
      "model_name": "FloatProgressModel",
      "state": {
       "bar_style": "success",
       "description": "100%",
       "layout": "IPY_MODEL_baaac02453db4b20b3e28128db4a4cd5",
       "max": 1000,
       "style": "IPY_MODEL_059d3059845a467985d130c9dee97df5",
       "value": 1000
      }
     },
     "215b050c35e04468a0ff300b4d4eb7fe": {
      "model_module": "jupyter-matplotlib",
      "model_module_version": "^0.7.2",
      "model_name": "MPLCanvasModel",
      "state": {
       "_cursor": "default",
       "_figure_label": "Figure 43",
       "_height": 200,
       "_image_mode": "diff",
       "_message": "zoom rect",
       "_rubberband_y": 200,
       "_width": 600,
       "header_visible": false,
       "layout": "IPY_MODEL_62fe51a0d90e48689d4f532bed7c973f",
       "toolbar": "IPY_MODEL_06e3bda6f7b3423c9adf2763c7edc928",
       "toolbar_position": "left"
      }
     },
     "216bf06940a549bf8ed7b6ce98dea032": {
      "model_module": "@jupyter-widgets/base",
      "model_module_version": "1.2.0",
      "model_name": "LayoutModel",
      "state": {}
     },
     "2176b10e18b8494089af8697e521a765": {
      "model_module": "@jupyter-widgets/base",
      "model_module_version": "1.2.0",
      "model_name": "LayoutModel",
      "state": {}
     },
     "21a51b188ccf4be3bff967e20f6de8f3": {
      "model_module": "jupyter-matplotlib",
      "model_module_version": "^0.7.2",
      "model_name": "ToolbarModel",
      "state": {
       "layout": "IPY_MODEL_7a068e577cb84b3b9f8594da2b9f60ef",
       "toolitems": [
        [
         "Home",
         "Reset original view",
         "home",
         "home"
        ],
        [
         "Back",
         "Back to previous view",
         "arrow-left",
         "back"
        ],
        [
         "Forward",
         "Forward to next view",
         "arrow-right",
         "forward"
        ],
        [
         "Pan",
         "Left button pans, Right button zooms\nx/y fixes axis, CTRL fixes aspect",
         "arrows",
         "pan"
        ],
        [
         "Zoom",
         "Zoom to rectangle\nx/y fixes axis, CTRL fixes aspect",
         "square-o",
         "zoom"
        ],
        [
         "Download",
         "Download plot",
         "floppy-o",
         "save_figure"
        ]
       ]
      }
     },
     "21b43d4f5fe44141a404fe5a77a03990": {
      "model_module": "@jupyter-widgets/base",
      "model_module_version": "1.2.0",
      "model_name": "LayoutModel",
      "state": {}
     },
     "21d39628cd4c44e5894f328ebc6b4a2e": {
      "model_module": "jupyter-matplotlib",
      "model_module_version": "^0.7.2",
      "model_name": "MPLCanvasModel",
      "state": {
       "_cursor": "default",
       "_figure_label": "Figure 100",
       "_height": 200,
       "_width": 600,
       "header_visible": false,
       "layout": "IPY_MODEL_25cffca2d595482f93af334140de660f",
       "toolbar": "IPY_MODEL_9a931a3fbedd4470b9edae7eecae5749",
       "toolbar_position": "left"
      }
     },
     "223562d68b0049308b4586b45607137c": {
      "model_module": "@jupyter-widgets/base",
      "model_module_version": "1.2.0",
      "model_name": "LayoutModel",
      "state": {}
     },
     "226e2b0f66304d10b27f99749203ce4f": {
      "model_module": "jupyter-matplotlib",
      "model_module_version": "^0.7.2",
      "model_name": "MPLCanvasModel",
      "state": {
       "_cursor": "default",
       "_figure_label": "Figure 42",
       "_height": 200,
       "_width": 600,
       "header_visible": false,
       "layout": "IPY_MODEL_46287583fda444da9b5e06ae2c9e9df8",
       "toolbar": "IPY_MODEL_e7c855151e23472ea90e0bfc022e49f9",
       "toolbar_position": "left"
      }
     },
     "22c74e58d30344ea856d8a93ad3bac2e": {
      "model_module": "@jupyter-widgets/base",
      "model_module_version": "1.2.0",
      "model_name": "LayoutModel",
      "state": {}
     },
     "22e0811dfbc049588580cb8d47ef7c14": {
      "model_module": "@jupyter-widgets/base",
      "model_module_version": "1.2.0",
      "model_name": "LayoutModel",
      "state": {}
     },
     "23a3290b94c54248be231b66ac4f611a": {
      "model_module": "@jupyter-widgets/base",
      "model_module_version": "1.2.0",
      "model_name": "LayoutModel",
      "state": {}
     },
     "245eb7ab73494f79a39510b3a9412dfb": {
      "model_module": "@jupyter-widgets/controls",
      "model_module_version": "1.5.0",
      "model_name": "HBoxModel",
      "state": {
       "children": [
        "IPY_MODEL_79a2d7ae76a645c0834ba7acca86976c",
        "IPY_MODEL_ce4191b52d7d44f9964e88db96d15233"
       ],
       "layout": "IPY_MODEL_57018e4d36494dfeba4d62190dc9417a"
      }
     },
     "24c8c220ffa846e5bd42364ca86a447f": {
      "model_module": "@jupyter-widgets/base",
      "model_module_version": "1.2.0",
      "model_name": "LayoutModel",
      "state": {}
     },
     "24d04764a2ed4385b107a588c435c1b4": {
      "model_module": "jupyter-matplotlib",
      "model_module_version": "^0.7.2",
      "model_name": "ToolbarModel",
      "state": {
       "layout": "IPY_MODEL_27e17323593d4b39855370c65efee179",
       "toolitems": [
        [
         "Home",
         "Reset original view",
         "home",
         "home"
        ],
        [
         "Back",
         "Back to previous view",
         "arrow-left",
         "back"
        ],
        [
         "Forward",
         "Forward to next view",
         "arrow-right",
         "forward"
        ],
        [
         "Pan",
         "Left button pans, Right button zooms\nx/y fixes axis, CTRL fixes aspect",
         "arrows",
         "pan"
        ],
        [
         "Zoom",
         "Zoom to rectangle\nx/y fixes axis, CTRL fixes aspect",
         "square-o",
         "zoom"
        ],
        [
         "Download",
         "Download plot",
         "floppy-o",
         "save_figure"
        ]
       ]
      }
     },
     "259cd1c388d548bfbd33857558074e83": {
      "model_module": "@jupyter-widgets/controls",
      "model_module_version": "1.5.0",
      "model_name": "HTMLModel",
      "state": {
       "layout": "IPY_MODEL_69c3bde206f348f19caf349d0b417338",
       "style": "IPY_MODEL_07e85fc4e59148a2a90ddcde67eef7af",
       "value": " 1000/1000 [02:21&lt;00:00,  7.05it/s]"
      }
     },
     "25cffca2d595482f93af334140de660f": {
      "model_module": "@jupyter-widgets/base",
      "model_module_version": "1.2.0",
      "model_name": "LayoutModel",
      "state": {}
     },
     "26139d5a40c049ca8e9d2889849c4f49": {
      "model_module": "@jupyter-widgets/base",
      "model_module_version": "1.2.0",
      "model_name": "LayoutModel",
      "state": {}
     },
     "267a6bcfbe9a4534be4a4a8f4d10b6e1": {
      "model_module": "@jupyter-widgets/base",
      "model_module_version": "1.2.0",
      "model_name": "LayoutModel",
      "state": {}
     },
     "268bb78ff7534f0bbdb5233fdc35c353": {
      "model_module": "jupyter-matplotlib",
      "model_module_version": "^0.7.2",
      "model_name": "ToolbarModel",
      "state": {
       "layout": "IPY_MODEL_e2eada5de53444ec98a35ab481922084",
       "toolitems": [
        [
         "Home",
         "Reset original view",
         "home",
         "home"
        ],
        [
         "Back",
         "Back to previous view",
         "arrow-left",
         "back"
        ],
        [
         "Forward",
         "Forward to next view",
         "arrow-right",
         "forward"
        ],
        [
         "Pan",
         "Left button pans, Right button zooms\nx/y fixes axis, CTRL fixes aspect",
         "arrows",
         "pan"
        ],
        [
         "Zoom",
         "Zoom to rectangle\nx/y fixes axis, CTRL fixes aspect",
         "square-o",
         "zoom"
        ],
        [
         "Download",
         "Download plot",
         "floppy-o",
         "save_figure"
        ]
       ]
      }
     },
     "26e55cc2ad8048afb28a662986c2b87d": {
      "model_module": "jupyter-matplotlib",
      "model_module_version": "^0.7.2",
      "model_name": "MPLCanvasModel",
      "state": {
       "_cursor": "default",
       "_figure_label": "Figure 32",
       "_height": 200,
       "_message": "x=3.164 y=15.",
       "_width": 600,
       "header_visible": false,
       "layout": "IPY_MODEL_0625436ed4d343618db292c20bbdb8e3",
       "toolbar": "IPY_MODEL_645d9f08b61c4575ac83d140e11f57f5",
       "toolbar_position": "left"
      }
     },
     "270a6fb15a124782bdcd773663c099b3": {
      "model_module": "@jupyter-widgets/base",
      "model_module_version": "1.2.0",
      "model_name": "LayoutModel",
      "state": {}
     },
     "2798ea91f64942e8aa6510005d8cd82e": {
      "model_module": "@jupyter-widgets/base",
      "model_module_version": "1.2.0",
      "model_name": "LayoutModel",
      "state": {}
     },
     "27e17323593d4b39855370c65efee179": {
      "model_module": "@jupyter-widgets/base",
      "model_module_version": "1.2.0",
      "model_name": "LayoutModel",
      "state": {}
     },
     "285172183e704cfd9549719efda89ee0": {
      "model_module": "jupyter-matplotlib",
      "model_module_version": "^0.7.2",
      "model_name": "ToolbarModel",
      "state": {
       "layout": "IPY_MODEL_c1943edc42224ae0bcf4648cd5e4f8e8",
       "toolitems": [
        [
         "Home",
         "Reset original view",
         "home",
         "home"
        ],
        [
         "Back",
         "Back to previous view",
         "arrow-left",
         "back"
        ],
        [
         "Forward",
         "Forward to next view",
         "arrow-right",
         "forward"
        ],
        [
         "Pan",
         "Left button pans, Right button zooms\nx/y fixes axis, CTRL fixes aspect",
         "arrows",
         "pan"
        ],
        [
         "Zoom",
         "Zoom to rectangle\nx/y fixes axis, CTRL fixes aspect",
         "square-o",
         "zoom"
        ],
        [
         "Download",
         "Download plot",
         "floppy-o",
         "save_figure"
        ]
       ]
      }
     },
     "287912eddfff4bf5a7f1440a772f075d": {
      "model_module": "@jupyter-widgets/controls",
      "model_module_version": "1.5.0",
      "model_name": "ProgressStyleModel",
      "state": {
       "description_width": "initial"
      }
     },
     "2903383e803e41dbb86fd91a78def662": {
      "model_module": "@jupyter-widgets/base",
      "model_module_version": "1.2.0",
      "model_name": "LayoutModel",
      "state": {}
     },
     "29732794fd5f472fa4da1cd1e277aab1": {
      "model_module": "jupyter-matplotlib",
      "model_module_version": "^0.7.2",
      "model_name": "MPLCanvasModel",
      "state": {
       "_cursor": "default",
       "_figure_label": "Figure 27",
       "_height": 200,
       "_width": 800,
       "header_visible": false,
       "layout": "IPY_MODEL_3c2f1f10d1f34c09aede3abaed4d8db8",
       "toolbar": "IPY_MODEL_ffc8f33bed8d426d86944dbad449a342",
       "toolbar_position": "left"
      }
     },
     "298ea2eed2da420884087a624f3dc10e": {
      "model_module": "@jupyter-widgets/base",
      "model_module_version": "1.2.0",
      "model_name": "LayoutModel",
      "state": {}
     },
     "29c99b2dee3b42f48bce8fc674c2588c": {
      "model_module": "@jupyter-widgets/base",
      "model_module_version": "1.2.0",
      "model_name": "LayoutModel",
      "state": {}
     },
     "29df53c95ffb4c31b27d8d1551b6ec3c": {
      "model_module": "jupyter-matplotlib",
      "model_module_version": "^0.7.2",
      "model_name": "ToolbarModel",
      "state": {
       "layout": "IPY_MODEL_9251cabe07e0428da7331d0b553ae285",
       "toolitems": [
        [
         "Home",
         "Reset original view",
         "home",
         "home"
        ],
        [
         "Back",
         "Back to previous view",
         "arrow-left",
         "back"
        ],
        [
         "Forward",
         "Forward to next view",
         "arrow-right",
         "forward"
        ],
        [
         "Pan",
         "Left button pans, Right button zooms\nx/y fixes axis, CTRL fixes aspect",
         "arrows",
         "pan"
        ],
        [
         "Zoom",
         "Zoom to rectangle\nx/y fixes axis, CTRL fixes aspect",
         "square-o",
         "zoom"
        ],
        [
         "Download",
         "Download plot",
         "floppy-o",
         "save_figure"
        ]
       ]
      }
     },
     "2a1eb0e3a5d74c9eb3d7a56d8aa67103": {
      "model_module": "jupyter-matplotlib",
      "model_module_version": "^0.7.2",
      "model_name": "ToolbarModel",
      "state": {
       "layout": "IPY_MODEL_025c8499077a4986a6f77c75bf58017f",
       "toolitems": [
        [
         "Home",
         "Reset original view",
         "home",
         "home"
        ],
        [
         "Back",
         "Back to previous view",
         "arrow-left",
         "back"
        ],
        [
         "Forward",
         "Forward to next view",
         "arrow-right",
         "forward"
        ],
        [
         "Pan",
         "Left button pans, Right button zooms\nx/y fixes axis, CTRL fixes aspect",
         "arrows",
         "pan"
        ],
        [
         "Zoom",
         "Zoom to rectangle\nx/y fixes axis, CTRL fixes aspect",
         "square-o",
         "zoom"
        ],
        [
         "Download",
         "Download plot",
         "floppy-o",
         "save_figure"
        ]
       ]
      }
     },
     "2a3d1da54e7849c4a345ee42157ab68d": {
      "model_module": "@jupyter-widgets/base",
      "model_module_version": "1.2.0",
      "model_name": "LayoutModel",
      "state": {}
     },
     "2aa47ceb94e64ccf9af7c126fd0ba7fe": {
      "model_module": "@jupyter-widgets/controls",
      "model_module_version": "1.5.0",
      "model_name": "DescriptionStyleModel",
      "state": {
       "description_width": ""
      }
     },
     "2ab4c751fc8c4cc58cac99eb0751aeae": {
      "model_module": "@jupyter-widgets/base",
      "model_module_version": "1.2.0",
      "model_name": "LayoutModel",
      "state": {}
     },
     "2ab5dcfeff7f41df8f6b35472becb5ba": {
      "model_module": "@jupyter-widgets/base",
      "model_module_version": "1.2.0",
      "model_name": "LayoutModel",
      "state": {}
     },
     "2b02b0e074c248a2a4c3ffa6baed493a": {
      "model_module": "@jupyter-widgets/controls",
      "model_module_version": "1.5.0",
      "model_name": "ProgressStyleModel",
      "state": {
       "description_width": "initial"
      }
     },
     "2ba2b3ca7c8842d482aee5f916ce9573": {
      "model_module": "@jupyter-widgets/controls",
      "model_module_version": "1.5.0",
      "model_name": "HTMLModel",
      "state": {
       "layout": "IPY_MODEL_82da0bb4d6d04efeb11e43b5124d2bf6",
       "style": "IPY_MODEL_989d425fb43244c9bfbf4836e094713e",
       "value": " 1000/1000 [02:21&lt;00:00,  7.06it/s]"
      }
     },
     "2c57920722f44a038757e5f100ee1483": {
      "model_module": "@jupyter-widgets/base",
      "model_module_version": "1.2.0",
      "model_name": "LayoutModel",
      "state": {}
     },
     "2c7d3970c84747cc8e8661a5402a52f2": {
      "model_module": "@jupyter-widgets/controls",
      "model_module_version": "1.5.0",
      "model_name": "DescriptionStyleModel",
      "state": {
       "description_width": ""
      }
     },
     "2ca92d2837f44e1c96b977943f8e55bf": {
      "model_module": "@jupyter-widgets/base",
      "model_module_version": "1.2.0",
      "model_name": "LayoutModel",
      "state": {}
     },
     "2cfdbade627c420ea52e5a55c93783d1": {
      "model_module": "@jupyter-widgets/base",
      "model_module_version": "1.2.0",
      "model_name": "LayoutModel",
      "state": {}
     },
     "2d623bcc5933411db543a45879d27e1d": {
      "model_module": "jupyter-matplotlib",
      "model_module_version": "^0.7.2",
      "model_name": "ToolbarModel",
      "state": {
       "_current_action": "zoom",
       "layout": "IPY_MODEL_d90d40acc2204063928a38ab6f7dc1da",
       "toolitems": [
        [
         "Home",
         "Reset original view",
         "home",
         "home"
        ],
        [
         "Back",
         "Back to previous view",
         "arrow-left",
         "back"
        ],
        [
         "Forward",
         "Forward to next view",
         "arrow-right",
         "forward"
        ],
        [
         "Pan",
         "Left button pans, Right button zooms\nx/y fixes axis, CTRL fixes aspect",
         "arrows",
         "pan"
        ],
        [
         "Zoom",
         "Zoom to rectangle\nx/y fixes axis, CTRL fixes aspect",
         "square-o",
         "zoom"
        ],
        [
         "Download",
         "Download plot",
         "floppy-o",
         "save_figure"
        ]
       ]
      }
     },
     "2db18b82ae5148c2a99dedc902474616": {
      "model_module": "@jupyter-widgets/base",
      "model_module_version": "1.2.0",
      "model_name": "LayoutModel",
      "state": {}
     },
     "2e34f12b43634cb7bd679fd670ab57e0": {
      "model_module": "jupyter-matplotlib",
      "model_module_version": "^0.7.2",
      "model_name": "MPLCanvasModel",
      "state": {
       "_cursor": "default",
       "_figure_label": "Figure 67",
       "_height": 200,
       "_width": 600,
       "header_visible": false,
       "layout": "IPY_MODEL_a650c4140c6f4b57902c07de528ca519",
       "toolbar": "IPY_MODEL_ecc0632ef6cd423f9d74ab2eda4710d4",
       "toolbar_position": "left"
      }
     },
     "2e4ad6fd3142404a9fa8dce5b1f6ab5a": {
      "model_module": "@jupyter-widgets/controls",
      "model_module_version": "1.5.0",
      "model_name": "FloatProgressModel",
      "state": {
       "bar_style": "success",
       "description": "100%",
       "layout": "IPY_MODEL_7d2bf3cdf13c4ea08030c049e91e93a6",
       "max": 1000,
       "style": "IPY_MODEL_287912eddfff4bf5a7f1440a772f075d",
       "value": 1000
      }
     },
     "2e5c7ab326354d2b8149a7a99a818ec2": {
      "model_module": "@jupyter-widgets/controls",
      "model_module_version": "1.5.0",
      "model_name": "FloatProgressModel",
      "state": {
       "bar_style": "success",
       "description": "100%",
       "layout": "IPY_MODEL_faa8fd9dfa69402d88d348f4e41afec6",
       "max": 1000,
       "style": "IPY_MODEL_eb1a92bb3b5e4d7f8648181b88a9940a",
       "value": 1000
      }
     },
     "304a2da4e8824fcdb7caa72e16f7543b": {
      "model_module": "jupyter-matplotlib",
      "model_module_version": "^0.7.2",
      "model_name": "ToolbarModel",
      "state": {
       "layout": "IPY_MODEL_f960a248548d42b1981f18f2daeec020",
       "toolitems": [
        [
         "Home",
         "Reset original view",
         "home",
         "home"
        ],
        [
         "Back",
         "Back to previous view",
         "arrow-left",
         "back"
        ],
        [
         "Forward",
         "Forward to next view",
         "arrow-right",
         "forward"
        ],
        [
         "Pan",
         "Left button pans, Right button zooms\nx/y fixes axis, CTRL fixes aspect",
         "arrows",
         "pan"
        ],
        [
         "Zoom",
         "Zoom to rectangle\nx/y fixes axis, CTRL fixes aspect",
         "square-o",
         "zoom"
        ],
        [
         "Download",
         "Download plot",
         "floppy-o",
         "save_figure"
        ]
       ]
      }
     },
     "30b7936e49384f63bd9569b9879c53b7": {
      "model_module": "jupyter-matplotlib",
      "model_module_version": "^0.7.2",
      "model_name": "MPLCanvasModel",
      "state": {
       "_cursor": "default",
       "_figure_label": "Figure 18",
       "_height": 200,
       "_width": 800,
       "header_visible": false,
       "layout": "IPY_MODEL_60c987270d354172b99637ff7b3f1021",
       "toolbar": "IPY_MODEL_5fbec7d96a0747c98fdbe54cebdab081",
       "toolbar_position": "left"
      }
     },
     "30baca997589430b89d9bae1d1e92087": {
      "model_module": "jupyter-matplotlib",
      "model_module_version": "^0.7.2",
      "model_name": "ToolbarModel",
      "state": {
       "layout": "IPY_MODEL_553163398aab48e68af33e4d541b5b48",
       "toolitems": [
        [
         "Home",
         "Reset original view",
         "home",
         "home"
        ],
        [
         "Back",
         "Back to previous view",
         "arrow-left",
         "back"
        ],
        [
         "Forward",
         "Forward to next view",
         "arrow-right",
         "forward"
        ],
        [
         "Pan",
         "Left button pans, Right button zooms\nx/y fixes axis, CTRL fixes aspect",
         "arrows",
         "pan"
        ],
        [
         "Zoom",
         "Zoom to rectangle\nx/y fixes axis, CTRL fixes aspect",
         "square-o",
         "zoom"
        ],
        [
         "Download",
         "Download plot",
         "floppy-o",
         "save_figure"
        ]
       ]
      }
     },
     "30c96b28b24243cf9d644e46acf71fa5": {
      "model_module": "jupyter-matplotlib",
      "model_module_version": "^0.7.2",
      "model_name": "MPLCanvasModel",
      "state": {
       "_cursor": "default",
       "_figure_label": "Figure 105",
       "_height": 300,
       "_image_mode": "diff",
       "_message": "zoom rect",
       "_rubberband_y": 300,
       "_width": 400,
       "header_visible": false,
       "layout": "IPY_MODEL_87b3aeb3f52441d890e04dea93a4d579",
       "toolbar": "IPY_MODEL_7d4b55dd78834f41bda7e603f16c3a05",
       "toolbar_position": "left"
      }
     },
     "3137b3f30da24f8085c9978787a6a54b": {
      "model_module": "@jupyter-widgets/controls",
      "model_module_version": "1.5.0",
      "model_name": "ProgressStyleModel",
      "state": {
       "description_width": "initial"
      }
     },
     "31795fa47ce7470e85fe200a95502319": {
      "model_module": "jupyter-matplotlib",
      "model_module_version": "^0.7.2",
      "model_name": "ToolbarModel",
      "state": {
       "layout": "IPY_MODEL_38157f03f8d547aba6fc6c16a8b5c031",
       "toolitems": [
        [
         "Home",
         "Reset original view",
         "home",
         "home"
        ],
        [
         "Back",
         "Back to previous view",
         "arrow-left",
         "back"
        ],
        [
         "Forward",
         "Forward to next view",
         "arrow-right",
         "forward"
        ],
        [
         "Pan",
         "Left button pans, Right button zooms\nx/y fixes axis, CTRL fixes aspect",
         "arrows",
         "pan"
        ],
        [
         "Zoom",
         "Zoom to rectangle\nx/y fixes axis, CTRL fixes aspect",
         "square-o",
         "zoom"
        ],
        [
         "Download",
         "Download plot",
         "floppy-o",
         "save_figure"
        ]
       ]
      }
     },
     "318a064a32b24ddd8f581360b2894652": {
      "model_module": "@jupyter-widgets/base",
      "model_module_version": "1.2.0",
      "model_name": "LayoutModel",
      "state": {}
     },
     "3190b5de13004248a601dc6dafc20fe7": {
      "model_module": "@jupyter-widgets/base",
      "model_module_version": "1.2.0",
      "model_name": "LayoutModel",
      "state": {}
     },
     "335e7c14b748449d973b1c58f757d57a": {
      "model_module": "@jupyter-widgets/base",
      "model_module_version": "1.2.0",
      "model_name": "LayoutModel",
      "state": {}
     },
     "33c1f501145744868ee03355caa366f3": {
      "model_module": "jupyter-matplotlib",
      "model_module_version": "^0.7.2",
      "model_name": "ToolbarModel",
      "state": {
       "layout": "IPY_MODEL_a51ddb581c914acf8b5386bd6acbca3c",
       "toolitems": [
        [
         "Home",
         "Reset original view",
         "home",
         "home"
        ],
        [
         "Back",
         "Back to previous view",
         "arrow-left",
         "back"
        ],
        [
         "Forward",
         "Forward to next view",
         "arrow-right",
         "forward"
        ],
        [
         "Pan",
         "Left button pans, Right button zooms\nx/y fixes axis, CTRL fixes aspect",
         "arrows",
         "pan"
        ],
        [
         "Zoom",
         "Zoom to rectangle\nx/y fixes axis, CTRL fixes aspect",
         "square-o",
         "zoom"
        ],
        [
         "Download",
         "Download plot",
         "floppy-o",
         "save_figure"
        ]
       ]
      }
     },
     "34ff9b445b0242729e2d4b86290f6614": {
      "model_module": "@jupyter-widgets/controls",
      "model_module_version": "1.5.0",
      "model_name": "FloatProgressModel",
      "state": {
       "bar_style": "success",
       "description": "100%",
       "layout": "IPY_MODEL_c43aa71ad108494ea3a4ee4df4f1d775",
       "max": 1000,
       "style": "IPY_MODEL_d48ea2788bd0448ca6a0aa8f951a49d9",
       "value": 1000
      }
     },
     "3512a731fc8544929dc2559776de6f59": {
      "model_module": "@jupyter-widgets/controls",
      "model_module_version": "1.5.0",
      "model_name": "ProgressStyleModel",
      "state": {
       "description_width": "initial"
      }
     },
     "353e98f931d8453fb945df11bee47c9e": {
      "model_module": "jupyter-matplotlib",
      "model_module_version": "^0.7.2",
      "model_name": "MPLCanvasModel",
      "state": {
       "_cursor": "default",
       "_figure_label": "Figure 66",
       "_height": 200,
       "_width": 600,
       "header_visible": false,
       "layout": "IPY_MODEL_8302418ad2754bdc82e0892d5417120d",
       "toolbar": "IPY_MODEL_7229ba5342844425bf61c7bd25d1c6b1",
       "toolbar_position": "left"
      }
     },
     "35b61996be8a49fb86fea3c7e94292e1": {
      "model_module": "@jupyter-widgets/base",
      "model_module_version": "1.2.0",
      "model_name": "LayoutModel",
      "state": {}
     },
     "36e54451baca44ea84637a6736966779": {
      "model_module": "jupyter-matplotlib",
      "model_module_version": "^0.7.2",
      "model_name": "ToolbarModel",
      "state": {
       "layout": "IPY_MODEL_525d73eb219d475e90acd2e8c799f416",
       "toolitems": [
        [
         "Home",
         "Reset original view",
         "home",
         "home"
        ],
        [
         "Back",
         "Back to previous view",
         "arrow-left",
         "back"
        ],
        [
         "Forward",
         "Forward to next view",
         "arrow-right",
         "forward"
        ],
        [
         "Pan",
         "Left button pans, Right button zooms\nx/y fixes axis, CTRL fixes aspect",
         "arrows",
         "pan"
        ],
        [
         "Zoom",
         "Zoom to rectangle\nx/y fixes axis, CTRL fixes aspect",
         "square-o",
         "zoom"
        ],
        [
         "Download",
         "Download plot",
         "floppy-o",
         "save_figure"
        ]
       ]
      }
     },
     "37260a080a654414be1d4cf27465e43c": {
      "model_module": "@jupyter-widgets/controls",
      "model_module_version": "1.5.0",
      "model_name": "FloatProgressModel",
      "state": {
       "bar_style": "success",
       "description": "100%",
       "layout": "IPY_MODEL_c3a84c3189fd4ee9ac0d304a7a69e067",
       "style": "IPY_MODEL_3512a731fc8544929dc2559776de6f59",
       "value": 100
      }
     },
     "3736e0b10d6b436e8c0dd93534dd3fd0": {
      "model_module": "@jupyter-widgets/controls",
      "model_module_version": "1.5.0",
      "model_name": "HBoxModel",
      "state": {
       "children": [
        "IPY_MODEL_d739087de51948ecba5e3957e2b5b085",
        "IPY_MODEL_3c89e19c3aaf425a9a6f77b7f4449b4c"
       ],
       "layout": "IPY_MODEL_5dc63fa3928c47178992df166ce40a47"
      }
     },
     "374d85210f2c45a3afb293f537d93efb": {
      "model_module": "@jupyter-widgets/base",
      "model_module_version": "1.2.0",
      "model_name": "LayoutModel",
      "state": {}
     },
     "37d30d36af56495a8c8119635debff6c": {
      "model_module": "@jupyter-widgets/base",
      "model_module_version": "1.2.0",
      "model_name": "LayoutModel",
      "state": {}
     },
     "38157f03f8d547aba6fc6c16a8b5c031": {
      "model_module": "@jupyter-widgets/base",
      "model_module_version": "1.2.0",
      "model_name": "LayoutModel",
      "state": {}
     },
     "3959f8d0e44944dfa6b989a5ba25fdce": {
      "model_module": "@jupyter-widgets/controls",
      "model_module_version": "1.5.0",
      "model_name": "DescriptionStyleModel",
      "state": {
       "description_width": ""
      }
     },
     "3acc10a55c734c0dbcf1c1e695bf43c7": {
      "model_module": "@jupyter-widgets/controls",
      "model_module_version": "1.5.0",
      "model_name": "ProgressStyleModel",
      "state": {
       "description_width": "initial"
      }
     },
     "3ad67cb87a8a40a899b86999742c7000": {
      "model_module": "jupyter-matplotlib",
      "model_module_version": "^0.7.2",
      "model_name": "MPLCanvasModel",
      "state": {
       "_cursor": "default",
       "_figure_label": "Figure 70",
       "_height": 200,
       "_width": 600,
       "header_visible": false,
       "layout": "IPY_MODEL_15740109139a40d0bb5afb82cf9e419a",
       "toolbar": "IPY_MODEL_ef470af3136b44bf94c3d924247b50e1",
       "toolbar_position": "left"
      }
     },
     "3b42cf72d63b40d9bcf2559428733907": {
      "model_module": "@jupyter-widgets/base",
      "model_module_version": "1.2.0",
      "model_name": "LayoutModel",
      "state": {}
     },
     "3b441c99a1864dd587fb5d85682ef74a": {
      "model_module": "@jupyter-widgets/base",
      "model_module_version": "1.2.0",
      "model_name": "LayoutModel",
      "state": {}
     },
     "3b4be2cc54d5460faf6b737fa8e56a58": {
      "model_module": "@jupyter-widgets/controls",
      "model_module_version": "1.5.0",
      "model_name": "HBoxModel",
      "state": {
       "children": [
        "IPY_MODEL_d7e4b7b78f83486888bf549917dccbd7",
        "IPY_MODEL_1d726c3d5e104587b5dd19816c44e555"
       ],
       "layout": "IPY_MODEL_60b032f2a0704985974c2655dea7bf76"
      }
     },
     "3be1aaec2ccf4b25ac4b1a25e39b5260": {
      "model_module": "jupyter-matplotlib",
      "model_module_version": "^0.7.2",
      "model_name": "ToolbarModel",
      "state": {
       "layout": "IPY_MODEL_bcf1e6d81140401c969a740f40bbc855",
       "toolitems": [
        [
         "Home",
         "Reset original view",
         "home",
         "home"
        ],
        [
         "Back",
         "Back to previous view",
         "arrow-left",
         "back"
        ],
        [
         "Forward",
         "Forward to next view",
         "arrow-right",
         "forward"
        ],
        [
         "Pan",
         "Left button pans, Right button zooms\nx/y fixes axis, CTRL fixes aspect",
         "arrows",
         "pan"
        ],
        [
         "Zoom",
         "Zoom to rectangle\nx/y fixes axis, CTRL fixes aspect",
         "square-o",
         "zoom"
        ],
        [
         "Download",
         "Download plot",
         "floppy-o",
         "save_figure"
        ]
       ]
      }
     },
     "3c1d34a9778049fd8b214e141a834df3": {
      "model_module": "@jupyter-widgets/base",
      "model_module_version": "1.2.0",
      "model_name": "LayoutModel",
      "state": {}
     },
     "3c2752742e9d419dac6ac82f5a732e7c": {
      "model_module": "jupyter-matplotlib",
      "model_module_version": "^0.7.2",
      "model_name": "ToolbarModel",
      "state": {
       "layout": "IPY_MODEL_d030fcb442fa445d899edaef41b99d84",
       "toolitems": [
        [
         "Home",
         "Reset original view",
         "home",
         "home"
        ],
        [
         "Back",
         "Back to previous view",
         "arrow-left",
         "back"
        ],
        [
         "Forward",
         "Forward to next view",
         "arrow-right",
         "forward"
        ],
        [
         "Pan",
         "Left button pans, Right button zooms\nx/y fixes axis, CTRL fixes aspect",
         "arrows",
         "pan"
        ],
        [
         "Zoom",
         "Zoom to rectangle\nx/y fixes axis, CTRL fixes aspect",
         "square-o",
         "zoom"
        ],
        [
         "Download",
         "Download plot",
         "floppy-o",
         "save_figure"
        ]
       ]
      }
     },
     "3c2f1f10d1f34c09aede3abaed4d8db8": {
      "model_module": "@jupyter-widgets/base",
      "model_module_version": "1.2.0",
      "model_name": "LayoutModel",
      "state": {}
     },
     "3c6db16ae4194fdf989dd2684e135c67": {
      "model_module": "@jupyter-widgets/base",
      "model_module_version": "1.2.0",
      "model_name": "LayoutModel",
      "state": {}
     },
     "3c89e19c3aaf425a9a6f77b7f4449b4c": {
      "model_module": "@jupyter-widgets/controls",
      "model_module_version": "1.5.0",
      "model_name": "HTMLModel",
      "state": {
       "layout": "IPY_MODEL_af214cd732554d589ea966ba486eb24d",
       "style": "IPY_MODEL_451b5ced6c234481acca98f038c6868f",
       "value": " 1000/1000 [02:05&lt;00:00,  7.99it/s]"
      }
     },
     "3cf310fdb9dd440c8d62c476b301c62e": {
      "model_module": "jupyter-matplotlib",
      "model_module_version": "^0.7.2",
      "model_name": "ToolbarModel",
      "state": {
       "layout": "IPY_MODEL_16334526cdec4b62a5129f9e0a27928e",
       "toolitems": [
        [
         "Home",
         "Reset original view",
         "home",
         "home"
        ],
        [
         "Back",
         "Back to previous view",
         "arrow-left",
         "back"
        ],
        [
         "Forward",
         "Forward to next view",
         "arrow-right",
         "forward"
        ],
        [
         "Pan",
         "Left button pans, Right button zooms\nx/y fixes axis, CTRL fixes aspect",
         "arrows",
         "pan"
        ],
        [
         "Zoom",
         "Zoom to rectangle\nx/y fixes axis, CTRL fixes aspect",
         "square-o",
         "zoom"
        ],
        [
         "Download",
         "Download plot",
         "floppy-o",
         "save_figure"
        ]
       ]
      }
     },
     "3d3fd571b5fb44d694b86e1ec6ba8810": {
      "model_module": "jupyter-matplotlib",
      "model_module_version": "^0.7.2",
      "model_name": "MPLCanvasModel",
      "state": {
       "_cursor": "default",
       "_figure_label": "Figure 86",
       "_height": 200,
       "_width": 600,
       "header_visible": false,
       "layout": "IPY_MODEL_b5858de779424d989220b67be71aaca9",
       "toolbar": "IPY_MODEL_3f2798d143f141579abc68dd35b954ba",
       "toolbar_position": "left"
      }
     },
     "3dcf2668ec314010bc329f6162df497c": {
      "model_module": "@jupyter-widgets/controls",
      "model_module_version": "1.5.0",
      "model_name": "HTMLModel",
      "state": {
       "layout": "IPY_MODEL_b929c93591784c84ae1ed8e3f1be61c6",
       "style": "IPY_MODEL_2aa47ceb94e64ccf9af7c126fd0ba7fe",
       "value": " 1000/1000 [03:19&lt;00:00,  5.01it/s]"
      }
     },
     "3ddad8b1dc7548409df8440d8082adc7": {
      "model_module": "jupyter-matplotlib",
      "model_module_version": "^0.7.2",
      "model_name": "MPLCanvasModel",
      "state": {
       "_cursor": "default",
       "_figure_label": "Figure 8",
       "_height": 200,
       "_width": 600,
       "header_visible": false,
       "layout": "IPY_MODEL_641f81c4a98242d18f5dc094aea81386",
       "toolbar": "IPY_MODEL_ff23d97486b844b5b58ab738f0305656",
       "toolbar_position": "left"
      }
     },
     "3e798284a1964ad28a0308add99495fe": {
      "model_module": "jupyter-matplotlib",
      "model_module_version": "^0.7.2",
      "model_name": "ToolbarModel",
      "state": {
       "layout": "IPY_MODEL_7e543f18b12d48cab6ee9159b656e8d7",
       "toolitems": [
        [
         "Home",
         "Reset original view",
         "home",
         "home"
        ],
        [
         "Back",
         "Back to previous view",
         "arrow-left",
         "back"
        ],
        [
         "Forward",
         "Forward to next view",
         "arrow-right",
         "forward"
        ],
        [
         "Pan",
         "Left button pans, Right button zooms\nx/y fixes axis, CTRL fixes aspect",
         "arrows",
         "pan"
        ],
        [
         "Zoom",
         "Zoom to rectangle\nx/y fixes axis, CTRL fixes aspect",
         "square-o",
         "zoom"
        ],
        [
         "Download",
         "Download plot",
         "floppy-o",
         "save_figure"
        ]
       ]
      }
     },
     "3f2798d143f141579abc68dd35b954ba": {
      "model_module": "jupyter-matplotlib",
      "model_module_version": "^0.7.2",
      "model_name": "ToolbarModel",
      "state": {
       "layout": "IPY_MODEL_122173b3886a4cd797afd9d3ce8960c6",
       "toolitems": [
        [
         "Home",
         "Reset original view",
         "home",
         "home"
        ],
        [
         "Back",
         "Back to previous view",
         "arrow-left",
         "back"
        ],
        [
         "Forward",
         "Forward to next view",
         "arrow-right",
         "forward"
        ],
        [
         "Pan",
         "Left button pans, Right button zooms\nx/y fixes axis, CTRL fixes aspect",
         "arrows",
         "pan"
        ],
        [
         "Zoom",
         "Zoom to rectangle\nx/y fixes axis, CTRL fixes aspect",
         "square-o",
         "zoom"
        ],
        [
         "Download",
         "Download plot",
         "floppy-o",
         "save_figure"
        ]
       ]
      }
     },
     "3fbf04846e7040df93c8517562741c01": {
      "model_module": "@jupyter-widgets/base",
      "model_module_version": "1.2.0",
      "model_name": "LayoutModel",
      "state": {}
     },
     "40c0ca0d4f7a478ebb312924ee854895": {
      "model_module": "@jupyter-widgets/controls",
      "model_module_version": "1.5.0",
      "model_name": "HTMLModel",
      "state": {
       "layout": "IPY_MODEL_1e5b4e8bde62487f8235097e0824b2ec",
       "style": "IPY_MODEL_fb037d2bff614a5baf695983e77902b0",
       "value": " 1000/1000 [00:33&lt;00:00, 30.09it/s]"
      }
     },
     "40dc8ad8980a494bbed1449afdff0577": {
      "model_module": "@jupyter-widgets/controls",
      "model_module_version": "1.5.0",
      "model_name": "ProgressStyleModel",
      "state": {
       "description_width": "initial"
      }
     },
     "42c3a4c0ed2145348619d5de2a8b1600": {
      "model_module": "@jupyter-widgets/base",
      "model_module_version": "1.2.0",
      "model_name": "LayoutModel",
      "state": {}
     },
     "432402477c88434a8c763e54fe675145": {
      "model_module": "@jupyter-widgets/base",
      "model_module_version": "1.2.0",
      "model_name": "LayoutModel",
      "state": {}
     },
     "43581cc5ffc648baa4e5dc5541457617": {
      "model_module": "jupyter-matplotlib",
      "model_module_version": "^0.7.2",
      "model_name": "MPLCanvasModel",
      "state": {
       "_cursor": "default",
       "_figure_label": "Figure 39",
       "_height": 200,
       "_message": "x=−2.526 y=129.",
       "_width": 600,
       "header_visible": false,
       "layout": "IPY_MODEL_157ae78da6154fda889dedff45c52fd0",
       "toolbar": "IPY_MODEL_5ccf0136c3b5434a907752b8320d4b12",
       "toolbar_position": "left"
      }
     },
     "43b9dbbcd72d4d2da702d377bb97d8c8": {
      "model_module": "jupyter-matplotlib",
      "model_module_version": "^0.7.2",
      "model_name": "MPLCanvasModel",
      "state": {
       "_cursor": "default",
       "_figure_label": "Figure 98",
       "_height": 200,
       "_width": 600,
       "header_visible": false,
       "layout": "IPY_MODEL_c919fed71eec40e38df5ba6cda8d589d",
       "toolbar": "IPY_MODEL_16ff5574f0bc41fc85e9133a346cf126",
       "toolbar_position": "left"
      }
     },
     "43c25d8089c845eeb5e9b365c4a99dfd": {
      "model_module": "@jupyter-widgets/controls",
      "model_module_version": "1.5.0",
      "model_name": "DescriptionStyleModel",
      "state": {
       "description_width": ""
      }
     },
     "43c6dd48990d4f54a2ebc7944d1375cd": {
      "model_module": "jupyter-matplotlib",
      "model_module_version": "^0.7.2",
      "model_name": "ToolbarModel",
      "state": {
       "_current_action": "zoom",
       "layout": "IPY_MODEL_3c6db16ae4194fdf989dd2684e135c67",
       "toolitems": [
        [
         "Home",
         "Reset original view",
         "home",
         "home"
        ],
        [
         "Back",
         "Back to previous view",
         "arrow-left",
         "back"
        ],
        [
         "Forward",
         "Forward to next view",
         "arrow-right",
         "forward"
        ],
        [
         "Pan",
         "Left button pans, Right button zooms\nx/y fixes axis, CTRL fixes aspect",
         "arrows",
         "pan"
        ],
        [
         "Zoom",
         "Zoom to rectangle\nx/y fixes axis, CTRL fixes aspect",
         "square-o",
         "zoom"
        ],
        [
         "Download",
         "Download plot",
         "floppy-o",
         "save_figure"
        ]
       ]
      }
     },
     "44398b49cb0e483c934e0aa0e3f40f22": {
      "model_module": "@jupyter-widgets/base",
      "model_module_version": "1.2.0",
      "model_name": "LayoutModel",
      "state": {}
     },
     "44fe237185b7494db884d5f7a2c18133": {
      "model_module": "@jupyter-widgets/base",
      "model_module_version": "1.2.0",
      "model_name": "LayoutModel",
      "state": {}
     },
     "4505afba4d9445f6993d0d7033270c43": {
      "model_module": "@jupyter-widgets/base",
      "model_module_version": "1.2.0",
      "model_name": "LayoutModel",
      "state": {}
     },
     "451b5ced6c234481acca98f038c6868f": {
      "model_module": "@jupyter-widgets/controls",
      "model_module_version": "1.5.0",
      "model_name": "DescriptionStyleModel",
      "state": {
       "description_width": ""
      }
     },
     "451d49eca78849ecb770d68bdcdd6040": {
      "model_module": "jupyter-matplotlib",
      "model_module_version": "^0.7.2",
      "model_name": "MPLCanvasModel",
      "state": {
       "_cursor": "default",
       "_figure_label": "Figure 107",
       "_height": 300,
       "_message": "x=−0.269 y=−0.421",
       "_width": 400,
       "header_visible": false,
       "layout": "IPY_MODEL_e416e036d3104cf4888e1aa7be5daf11",
       "toolbar": "IPY_MODEL_0bc10ed78d1f4a659c63f6b5b56a41ff",
       "toolbar_position": "left"
      }
     },
     "452f21b7727c4710b4f3b0bdcaf27c36": {
      "model_module": "@jupyter-widgets/base",
      "model_module_version": "1.2.0",
      "model_name": "LayoutModel",
      "state": {}
     },
     "46092ddaf2d744028f0a9889286ecb9e": {
      "model_module": "jupyter-matplotlib",
      "model_module_version": "^0.7.2",
      "model_name": "ToolbarModel",
      "state": {
       "_current_action": "zoom",
       "layout": "IPY_MODEL_ec214900ff534140b6f65a9dc6715240",
       "toolitems": [
        [
         "Home",
         "Reset original view",
         "home",
         "home"
        ],
        [
         "Back",
         "Back to previous view",
         "arrow-left",
         "back"
        ],
        [
         "Forward",
         "Forward to next view",
         "arrow-right",
         "forward"
        ],
        [
         "Pan",
         "Left button pans, Right button zooms\nx/y fixes axis, CTRL fixes aspect",
         "arrows",
         "pan"
        ],
        [
         "Zoom",
         "Zoom to rectangle\nx/y fixes axis, CTRL fixes aspect",
         "square-o",
         "zoom"
        ],
        [
         "Download",
         "Download plot",
         "floppy-o",
         "save_figure"
        ]
       ]
      }
     },
     "460c2a77331e412891541edec5a24f6e": {
      "model_module": "jupyter-matplotlib",
      "model_module_version": "^0.7.2",
      "model_name": "ToolbarModel",
      "state": {
       "layout": "IPY_MODEL_1e75870b93af43a092f9a3d2f442544f",
       "toolitems": [
        [
         "Home",
         "Reset original view",
         "home",
         "home"
        ],
        [
         "Back",
         "Back to previous view",
         "arrow-left",
         "back"
        ],
        [
         "Forward",
         "Forward to next view",
         "arrow-right",
         "forward"
        ],
        [
         "Pan",
         "Left button pans, Right button zooms\nx/y fixes axis, CTRL fixes aspect",
         "arrows",
         "pan"
        ],
        [
         "Zoom",
         "Zoom to rectangle\nx/y fixes axis, CTRL fixes aspect",
         "square-o",
         "zoom"
        ],
        [
         "Download",
         "Download plot",
         "floppy-o",
         "save_figure"
        ]
       ]
      }
     },
     "461961949e434e61af48836e1c30ff40": {
      "model_module": "@jupyter-widgets/base",
      "model_module_version": "1.2.0",
      "model_name": "LayoutModel",
      "state": {}
     },
     "46287583fda444da9b5e06ae2c9e9df8": {
      "model_module": "@jupyter-widgets/base",
      "model_module_version": "1.2.0",
      "model_name": "LayoutModel",
      "state": {}
     },
     "464d79a366f94366a5f8f7d91e73489b": {
      "model_module": "@jupyter-widgets/base",
      "model_module_version": "1.2.0",
      "model_name": "LayoutModel",
      "state": {}
     },
     "46ea737351604338a3300c77d059b397": {
      "model_module": "@jupyter-widgets/base",
      "model_module_version": "1.2.0",
      "model_name": "LayoutModel",
      "state": {}
     },
     "47a34d764e8242329ef115d80f254fde": {
      "model_module": "@jupyter-widgets/controls",
      "model_module_version": "1.5.0",
      "model_name": "DescriptionStyleModel",
      "state": {
       "description_width": ""
      }
     },
     "483395213bb049689a37263e046fafd9": {
      "model_module": "@jupyter-widgets/base",
      "model_module_version": "1.2.0",
      "model_name": "LayoutModel",
      "state": {}
     },
     "489f5332b8404effbee65ad90067aaf3": {
      "model_module": "@jupyter-widgets/controls",
      "model_module_version": "1.5.0",
      "model_name": "ProgressStyleModel",
      "state": {
       "description_width": "initial"
      }
     },
     "48cfeeb1808f4a098df55032e86c1d2e": {
      "model_module": "@jupyter-widgets/base",
      "model_module_version": "1.2.0",
      "model_name": "LayoutModel",
      "state": {}
     },
     "495746ceccd44a5da1d418830b8bd52e": {
      "model_module": "@jupyter-widgets/controls",
      "model_module_version": "1.5.0",
      "model_name": "HBoxModel",
      "state": {
       "children": [
        "IPY_MODEL_968ce3411d304968ac3d8e3dac2effc0",
        "IPY_MODEL_d86d17e79935488c96068a3abd48e3bb"
       ],
       "layout": "IPY_MODEL_197e9de24f994d6082479df7962af9b8"
      }
     },
     "497207d6ca8d40c58083c7b3e30aa555": {
      "model_module": "@jupyter-widgets/base",
      "model_module_version": "1.2.0",
      "model_name": "LayoutModel",
      "state": {}
     },
     "4973da56e9364a2196e43bff827b0437": {
      "model_module": "jupyter-matplotlib",
      "model_module_version": "^0.7.2",
      "model_name": "ToolbarModel",
      "state": {
       "layout": "IPY_MODEL_56e8bbdff46e4cfe9ce10ab347d03029",
       "toolitems": [
        [
         "Home",
         "Reset original view",
         "home",
         "home"
        ],
        [
         "Back",
         "Back to previous view",
         "arrow-left",
         "back"
        ],
        [
         "Forward",
         "Forward to next view",
         "arrow-right",
         "forward"
        ],
        [
         "Pan",
         "Left button pans, Right button zooms\nx/y fixes axis, CTRL fixes aspect",
         "arrows",
         "pan"
        ],
        [
         "Zoom",
         "Zoom to rectangle\nx/y fixes axis, CTRL fixes aspect",
         "square-o",
         "zoom"
        ],
        [
         "Download",
         "Download plot",
         "floppy-o",
         "save_figure"
        ]
       ]
      }
     },
     "49f2c49d197d4e7dbfcb4f40a0724614": {
      "model_module": "@jupyter-widgets/controls",
      "model_module_version": "1.5.0",
      "model_name": "ProgressStyleModel",
      "state": {
       "description_width": "initial"
      }
     },
     "4bd75b6653db4220a70cc55f43854035": {
      "model_module": "@jupyter-widgets/base",
      "model_module_version": "1.2.0",
      "model_name": "LayoutModel",
      "state": {}
     },
     "4bf0e91df20b472ba9dd751943550ffc": {
      "model_module": "@jupyter-widgets/controls",
      "model_module_version": "1.5.0",
      "model_name": "FloatProgressModel",
      "state": {
       "bar_style": "success",
       "description": "100%",
       "layout": "IPY_MODEL_22c74e58d30344ea856d8a93ad3bac2e",
       "max": 1000,
       "style": "IPY_MODEL_18d662c760694ff8a86200e2698a51de",
       "value": 1000
      }
     },
     "4c1a186af8254bc1bf25256fc2bfd2e5": {
      "model_module": "jupyter-matplotlib",
      "model_module_version": "^0.7.2",
      "model_name": "MPLCanvasModel",
      "state": {
       "_cursor": "default",
       "_figure_label": "Figure 37",
       "_height": 200,
       "_width": 600,
       "header_visible": false,
       "layout": "IPY_MODEL_dbd21cf9dd0d4fa8b2b7b63a5ccdf6f1",
       "toolbar": "IPY_MODEL_78a8c54831a044d59893e429e1b5d9d9",
       "toolbar_position": "left"
      }
     },
     "4cb703a0e42345ae8d45332dd89c16e5": {
      "model_module": "@jupyter-widgets/controls",
      "model_module_version": "1.5.0",
      "model_name": "DescriptionStyleModel",
      "state": {
       "description_width": ""
      }
     },
     "4d554dc8aa5e497cb4919cf040f7f292": {
      "model_module": "jupyter-matplotlib",
      "model_module_version": "^0.7.2",
      "model_name": "ToolbarModel",
      "state": {
       "layout": "IPY_MODEL_b09af989096a429885e9c9386c32bc2c",
       "toolitems": [
        [
         "Home",
         "Reset original view",
         "home",
         "home"
        ],
        [
         "Back",
         "Back to previous view",
         "arrow-left",
         "back"
        ],
        [
         "Forward",
         "Forward to next view",
         "arrow-right",
         "forward"
        ],
        [
         "Pan",
         "Left button pans, Right button zooms\nx/y fixes axis, CTRL fixes aspect",
         "arrows",
         "pan"
        ],
        [
         "Zoom",
         "Zoom to rectangle\nx/y fixes axis, CTRL fixes aspect",
         "square-o",
         "zoom"
        ],
        [
         "Download",
         "Download plot",
         "floppy-o",
         "save_figure"
        ]
       ]
      }
     },
     "4d97f15356574e8f82e0f448ff0db2b5": {
      "model_module": "@jupyter-widgets/base",
      "model_module_version": "1.2.0",
      "model_name": "LayoutModel",
      "state": {}
     },
     "4e382f12d20e4e1b89dd81b9aa9cc915": {
      "model_module": "jupyter-matplotlib",
      "model_module_version": "^0.7.2",
      "model_name": "MPLCanvasModel",
      "state": {
       "_cursor": "default",
       "_figure_label": "Figure 72",
       "_height": 200,
       "_width": 600,
       "header_visible": false,
       "layout": "IPY_MODEL_e1d87314fdd6415e8a9a4b0ba89ac405",
       "toolbar": "IPY_MODEL_cf2e19d14c8545efbde543fa04f67c39",
       "toolbar_position": "left"
      }
     },
     "4ebce878aa9e4ecab8bfb6229d73383d": {
      "model_module": "@jupyter-widgets/controls",
      "model_module_version": "1.5.0",
      "model_name": "HBoxModel",
      "state": {
       "children": [
        "IPY_MODEL_21120c3965524221be75d5d3a64bac85",
        "IPY_MODEL_82b9561b950b4df39645239fa2332500"
       ],
       "layout": "IPY_MODEL_452f21b7727c4710b4f3b0bdcaf27c36"
      }
     },
     "4fe750f668ef4ef6baa7877e3820adb7": {
      "model_module": "jupyter-matplotlib",
      "model_module_version": "^0.7.2",
      "model_name": "MPLCanvasModel",
      "state": {
       "_cursor": "default",
       "_figure_label": "Figure 12",
       "_height": 200,
       "_width": 800,
       "header_visible": false,
       "layout": "IPY_MODEL_606e97c5eebe4e4e92813bb7e0137512",
       "toolbar": "IPY_MODEL_52910ab0210d4c7091c6076e3090cd2c",
       "toolbar_position": "left"
      }
     },
     "5019eee7bb6c4ebe978629b3227b44c2": {
      "model_module": "@jupyter-widgets/base",
      "model_module_version": "1.2.0",
      "model_name": "LayoutModel",
      "state": {}
     },
     "501b75cd25994fffb8602fde53e7a234": {
      "model_module": "@jupyter-widgets/base",
      "model_module_version": "1.2.0",
      "model_name": "LayoutModel",
      "state": {}
     },
     "503cea85ce7443ef90a70cd9aa1f9ab3": {
      "model_module": "@jupyter-widgets/base",
      "model_module_version": "1.2.0",
      "model_name": "LayoutModel",
      "state": {}
     },
     "50476264e6c940f1be9dc9a68943191f": {
      "model_module": "@jupyter-widgets/base",
      "model_module_version": "1.2.0",
      "model_name": "LayoutModel",
      "state": {}
     },
     "504a1281c2964e9aaf19d46f469e7e22": {
      "model_module": "jupyter-matplotlib",
      "model_module_version": "^0.7.2",
      "model_name": "ToolbarModel",
      "state": {
       "layout": "IPY_MODEL_82f23be065b24be8a7ca1f91c973cc4e",
       "toolitems": [
        [
         "Home",
         "Reset original view",
         "home",
         "home"
        ],
        [
         "Back",
         "Back to previous view",
         "arrow-left",
         "back"
        ],
        [
         "Forward",
         "Forward to next view",
         "arrow-right",
         "forward"
        ],
        [
         "Pan",
         "Left button pans, Right button zooms\nx/y fixes axis, CTRL fixes aspect",
         "arrows",
         "pan"
        ],
        [
         "Zoom",
         "Zoom to rectangle\nx/y fixes axis, CTRL fixes aspect",
         "square-o",
         "zoom"
        ],
        [
         "Download",
         "Download plot",
         "floppy-o",
         "save_figure"
        ]
       ]
      }
     },
     "5110425053474940a351ed10e2b55c68": {
      "model_module": "jupyter-matplotlib",
      "model_module_version": "^0.7.2",
      "model_name": "MPLCanvasModel",
      "state": {
       "_cursor": "default",
       "_figure_label": "Figure 9",
       "_height": 200,
       "_width": 600,
       "header_visible": false,
       "layout": "IPY_MODEL_fcdd17a0cc56484da0d7feb75539cff8",
       "toolbar": "IPY_MODEL_8570b57fa6ba41b2993a9dae1416f48c",
       "toolbar_position": "left"
      }
     },
     "514a10543fd44810829c83155df05535": {
      "model_module": "jupyter-matplotlib",
      "model_module_version": "^0.7.2",
      "model_name": "MPLCanvasModel",
      "state": {
       "_cursor": "default",
       "_figure_label": "Figure 33",
       "_height": 200,
       "_width": 600,
       "header_visible": false,
       "layout": "IPY_MODEL_cfe00e6e6b604c70888265ff88dfe7f0",
       "toolbar": "IPY_MODEL_ee6055a8d5a74dfb838ad1860cbd9bbc",
       "toolbar_position": "left"
      }
     },
     "5150738695fc4591ab27059910c00b24": {
      "model_module": "@jupyter-widgets/base",
      "model_module_version": "1.2.0",
      "model_name": "LayoutModel",
      "state": {}
     },
     "51aeac31a1eb4b6da8c0b56ed0b6da27": {
      "model_module": "@jupyter-widgets/base",
      "model_module_version": "1.2.0",
      "model_name": "LayoutModel",
      "state": {}
     },
     "51e0b2dcb43b4990a67e459ade82082a": {
      "model_module": "@jupyter-widgets/controls",
      "model_module_version": "1.5.0",
      "model_name": "ProgressStyleModel",
      "state": {
       "description_width": "initial"
      }
     },
     "521270048d054914ad94333d078c2509": {
      "model_module": "@jupyter-widgets/base",
      "model_module_version": "1.2.0",
      "model_name": "LayoutModel",
      "state": {}
     },
     "524ac2c30f064fec836d0b49c92902da": {
      "model_module": "@jupyter-widgets/base",
      "model_module_version": "1.2.0",
      "model_name": "LayoutModel",
      "state": {}
     },
     "525d73eb219d475e90acd2e8c799f416": {
      "model_module": "@jupyter-widgets/base",
      "model_module_version": "1.2.0",
      "model_name": "LayoutModel",
      "state": {}
     },
     "52910ab0210d4c7091c6076e3090cd2c": {
      "model_module": "jupyter-matplotlib",
      "model_module_version": "^0.7.2",
      "model_name": "ToolbarModel",
      "state": {
       "layout": "IPY_MODEL_eb2ff502c6ee42a5aac2292e1fbf4f8c",
       "toolitems": [
        [
         "Home",
         "Reset original view",
         "home",
         "home"
        ],
        [
         "Back",
         "Back to previous view",
         "arrow-left",
         "back"
        ],
        [
         "Forward",
         "Forward to next view",
         "arrow-right",
         "forward"
        ],
        [
         "Pan",
         "Left button pans, Right button zooms\nx/y fixes axis, CTRL fixes aspect",
         "arrows",
         "pan"
        ],
        [
         "Zoom",
         "Zoom to rectangle\nx/y fixes axis, CTRL fixes aspect",
         "square-o",
         "zoom"
        ],
        [
         "Download",
         "Download plot",
         "floppy-o",
         "save_figure"
        ]
       ]
      }
     },
     "52cc0df8db434ea2aad5cf1a0f1bad3c": {
      "model_module": "@jupyter-widgets/base",
      "model_module_version": "1.2.0",
      "model_name": "LayoutModel",
      "state": {}
     },
     "534aceec51ea477a85f6492d86c138f9": {
      "model_module": "@jupyter-widgets/controls",
      "model_module_version": "1.5.0",
      "model_name": "DescriptionStyleModel",
      "state": {
       "description_width": ""
      }
     },
     "5388e165540f4d3383960b92378ba8d0": {
      "model_module": "@jupyter-widgets/controls",
      "model_module_version": "1.5.0",
      "model_name": "FloatProgressModel",
      "state": {
       "bar_style": "success",
       "description": "100%",
       "layout": "IPY_MODEL_c9e9adaa8e72418d8c3131702aa7343d",
       "max": 1000,
       "style": "IPY_MODEL_7c0ef0b2bae349458bf2dcf3ed495528",
       "value": 1000
      }
     },
     "53a6a27775fe460797ec4886857f68ae": {
      "model_module": "jupyter-matplotlib",
      "model_module_version": "^0.7.2",
      "model_name": "ToolbarModel",
      "state": {
       "layout": "IPY_MODEL_1c02b218f0664519a27f0b4fc8f1e294",
       "toolitems": [
        [
         "Home",
         "Reset original view",
         "home",
         "home"
        ],
        [
         "Back",
         "Back to previous view",
         "arrow-left",
         "back"
        ],
        [
         "Forward",
         "Forward to next view",
         "arrow-right",
         "forward"
        ],
        [
         "Pan",
         "Left button pans, Right button zooms\nx/y fixes axis, CTRL fixes aspect",
         "arrows",
         "pan"
        ],
        [
         "Zoom",
         "Zoom to rectangle\nx/y fixes axis, CTRL fixes aspect",
         "square-o",
         "zoom"
        ],
        [
         "Download",
         "Download plot",
         "floppy-o",
         "save_figure"
        ]
       ]
      }
     },
     "53c049fabd3c4068a6f68232b0b6e68f": {
      "model_module": "@jupyter-widgets/base",
      "model_module_version": "1.2.0",
      "model_name": "LayoutModel",
      "state": {}
     },
     "54ec4124ae8e484f89ddfea303eb276b": {
      "model_module": "@jupyter-widgets/base",
      "model_module_version": "1.2.0",
      "model_name": "LayoutModel",
      "state": {}
     },
     "553163398aab48e68af33e4d541b5b48": {
      "model_module": "@jupyter-widgets/base",
      "model_module_version": "1.2.0",
      "model_name": "LayoutModel",
      "state": {}
     },
     "560334fed2f643948565c3e7186a7eaa": {
      "model_module": "@jupyter-widgets/controls",
      "model_module_version": "1.5.0",
      "model_name": "FloatProgressModel",
      "state": {
       "bar_style": "success",
       "description": "100%",
       "layout": "IPY_MODEL_dc3a28e6894d4bf58c2b63c0745b7cea",
       "max": 1000,
       "style": "IPY_MODEL_9510d7fc49f94d87afb77ba3cc2f3dfd",
       "value": 1000
      }
     },
     "56794b5386ba46e99b15b1a686eda576": {
      "model_module": "@jupyter-widgets/controls",
      "model_module_version": "1.5.0",
      "model_name": "HTMLModel",
      "state": {
       "layout": "IPY_MODEL_464d79a366f94366a5f8f7d91e73489b",
       "style": "IPY_MODEL_3959f8d0e44944dfa6b989a5ba25fdce",
       "value": " 100/100 [01:51&lt;00:00,  1.11s/it]"
      }
     },
     "56e8bbdff46e4cfe9ce10ab347d03029": {
      "model_module": "@jupyter-widgets/base",
      "model_module_version": "1.2.0",
      "model_name": "LayoutModel",
      "state": {}
     },
     "57018e4d36494dfeba4d62190dc9417a": {
      "model_module": "@jupyter-widgets/base",
      "model_module_version": "1.2.0",
      "model_name": "LayoutModel",
      "state": {}
     },
     "57c50e79347e4a2dbff2b894ff979ade": {
      "model_module": "@jupyter-widgets/base",
      "model_module_version": "1.2.0",
      "model_name": "LayoutModel",
      "state": {}
     },
     "58196e3ab4f740ed84ebf5a95e7ac9b9": {
      "model_module": "jupyter-matplotlib",
      "model_module_version": "^0.7.2",
      "model_name": "MPLCanvasModel",
      "state": {
       "_cursor": "default",
       "_figure_label": "Figure 34",
       "_height": 200,
       "_width": 600,
       "header_visible": false,
       "layout": "IPY_MODEL_aee4c83ec6d0482a85d2f6e90d33bff0",
       "toolbar": "IPY_MODEL_d2fdcee9ecf5469e9df5e396d5071e8d",
       "toolbar_position": "left"
      }
     },
     "585d4137637b4bbbb1a26f8be7bbed86": {
      "model_module": "jupyter-matplotlib",
      "model_module_version": "^0.7.2",
      "model_name": "MPLCanvasModel",
      "state": {
       "_cursor": "default",
       "_figure_label": "Figure 54",
       "_height": 200,
       "_width": 600,
       "header_visible": false,
       "layout": "IPY_MODEL_48cfeeb1808f4a098df55032e86c1d2e",
       "toolbar": "IPY_MODEL_a354f108b9704e1781b3c5d8753bb0fa",
       "toolbar_position": "left"
      }
     },
     "58d849c781c64d36a3f0dbf09bc9d5b9": {
      "model_module": "@jupyter-widgets/base",
      "model_module_version": "1.2.0",
      "model_name": "LayoutModel",
      "state": {}
     },
     "5934f9d0163540279963e8a9e9793f52": {
      "model_module": "jupyter-matplotlib",
      "model_module_version": "^0.7.2",
      "model_name": "ToolbarModel",
      "state": {
       "layout": "IPY_MODEL_0e77c7415fd941febc8b19e468f35964",
       "toolitems": [
        [
         "Home",
         "Reset original view",
         "home",
         "home"
        ],
        [
         "Back",
         "Back to previous view",
         "arrow-left",
         "back"
        ],
        [
         "Forward",
         "Forward to next view",
         "arrow-right",
         "forward"
        ],
        [
         "Pan",
         "Left button pans, Right button zooms\nx/y fixes axis, CTRL fixes aspect",
         "arrows",
         "pan"
        ],
        [
         "Zoom",
         "Zoom to rectangle\nx/y fixes axis, CTRL fixes aspect",
         "square-o",
         "zoom"
        ],
        [
         "Download",
         "Download plot",
         "floppy-o",
         "save_figure"
        ]
       ]
      }
     },
     "599902139f314bceb00585980e3fd5cb": {
      "model_module": "jupyter-matplotlib",
      "model_module_version": "^0.7.2",
      "model_name": "ToolbarModel",
      "state": {
       "layout": "IPY_MODEL_66b3970bca90494582041fc4fcc852e8",
       "toolitems": [
        [
         "Home",
         "Reset original view",
         "home",
         "home"
        ],
        [
         "Back",
         "Back to previous view",
         "arrow-left",
         "back"
        ],
        [
         "Forward",
         "Forward to next view",
         "arrow-right",
         "forward"
        ],
        [
         "Pan",
         "Left button pans, Right button zooms\nx/y fixes axis, CTRL fixes aspect",
         "arrows",
         "pan"
        ],
        [
         "Zoom",
         "Zoom to rectangle\nx/y fixes axis, CTRL fixes aspect",
         "square-o",
         "zoom"
        ],
        [
         "Download",
         "Download plot",
         "floppy-o",
         "save_figure"
        ]
       ]
      }
     },
     "5a0d6feddb814d67a6d4eeb6b0e510b8": {
      "model_module": "@jupyter-widgets/controls",
      "model_module_version": "1.5.0",
      "model_name": "DescriptionStyleModel",
      "state": {
       "description_width": ""
      }
     },
     "5a9c9a97b6584639a0d1abfea09ed23a": {
      "model_module": "@jupyter-widgets/base",
      "model_module_version": "1.2.0",
      "model_name": "LayoutModel",
      "state": {}
     },
     "5b2c7f66fb7a44a8a05e5e7bab75a3a0": {
      "model_module": "@jupyter-widgets/controls",
      "model_module_version": "1.5.0",
      "model_name": "HTMLModel",
      "state": {
       "layout": "IPY_MODEL_ee0496b40ca84296afe56d3b2f042c1d",
       "style": "IPY_MODEL_e783eb8c3dff4a6fb8a133837d74cc4e",
       "value": " 1000/1000 [09:03&lt;00:00,  1.84it/s]"
      }
     },
     "5b672b8e3a5f406eb90009f52d9d5b77": {
      "model_module": "@jupyter-widgets/base",
      "model_module_version": "1.2.0",
      "model_name": "LayoutModel",
      "state": {}
     },
     "5b8801c64f4145e4b2c7f6575f8ff7a9": {
      "model_module": "jupyter-matplotlib",
      "model_module_version": "^0.7.2",
      "model_name": "ToolbarModel",
      "state": {
       "layout": "IPY_MODEL_3190b5de13004248a601dc6dafc20fe7",
       "toolitems": [
        [
         "Home",
         "Reset original view",
         "home",
         "home"
        ],
        [
         "Back",
         "Back to previous view",
         "arrow-left",
         "back"
        ],
        [
         "Forward",
         "Forward to next view",
         "arrow-right",
         "forward"
        ],
        [
         "Pan",
         "Left button pans, Right button zooms\nx/y fixes axis, CTRL fixes aspect",
         "arrows",
         "pan"
        ],
        [
         "Zoom",
         "Zoom to rectangle\nx/y fixes axis, CTRL fixes aspect",
         "square-o",
         "zoom"
        ],
        [
         "Download",
         "Download plot",
         "floppy-o",
         "save_figure"
        ]
       ]
      }
     },
     "5c2b0d340f0b4af4a558c1a3bda0aeee": {
      "model_module": "jupyter-matplotlib",
      "model_module_version": "^0.7.2",
      "model_name": "ToolbarModel",
      "state": {
       "_current_action": "zoom",
       "layout": "IPY_MODEL_9d863b2044f348a9ad1f7851a5db49be",
       "toolitems": [
        [
         "Home",
         "Reset original view",
         "home",
         "home"
        ],
        [
         "Back",
         "Back to previous view",
         "arrow-left",
         "back"
        ],
        [
         "Forward",
         "Forward to next view",
         "arrow-right",
         "forward"
        ],
        [
         "Pan",
         "Left button pans, Right button zooms\nx/y fixes axis, CTRL fixes aspect",
         "arrows",
         "pan"
        ],
        [
         "Zoom",
         "Zoom to rectangle\nx/y fixes axis, CTRL fixes aspect",
         "square-o",
         "zoom"
        ],
        [
         "Download",
         "Download plot",
         "floppy-o",
         "save_figure"
        ]
       ]
      }
     },
     "5c36b761f1e246ae80e0e78325aa20ca": {
      "model_module": "jupyter-matplotlib",
      "model_module_version": "^0.7.2",
      "model_name": "MPLCanvasModel",
      "state": {
       "_cursor": "default",
       "_figure_label": "Figure 5",
       "_height": 200,
       "_width": 600,
       "header_visible": false,
       "layout": "IPY_MODEL_a7a2f9fa8435442db68f8d549f570548",
       "toolbar": "IPY_MODEL_d05c6e5c9bb94080970099722466beb2",
       "toolbar_position": "left"
      }
     },
     "5c8dcef27db04d209bf5f287b5eb1ecc": {
      "model_module": "jupyter-matplotlib",
      "model_module_version": "^0.7.2",
      "model_name": "MPLCanvasModel",
      "state": {
       "_cursor": "default",
       "_figure_label": "Figure 2",
       "_height": 400,
       "_width": 700,
       "header_visible": false,
       "layout": "IPY_MODEL_b44d90cc21ef4e3e9ed518515c577811",
       "toolbar": "IPY_MODEL_09010c6f808e4ccb910ff14edc9a05db",
       "toolbar_position": "left"
      }
     },
     "5ccf0136c3b5434a907752b8320d4b12": {
      "model_module": "jupyter-matplotlib",
      "model_module_version": "^0.7.2",
      "model_name": "ToolbarModel",
      "state": {
       "layout": "IPY_MODEL_21b43d4f5fe44141a404fe5a77a03990",
       "toolitems": [
        [
         "Home",
         "Reset original view",
         "home",
         "home"
        ],
        [
         "Back",
         "Back to previous view",
         "arrow-left",
         "back"
        ],
        [
         "Forward",
         "Forward to next view",
         "arrow-right",
         "forward"
        ],
        [
         "Pan",
         "Left button pans, Right button zooms\nx/y fixes axis, CTRL fixes aspect",
         "arrows",
         "pan"
        ],
        [
         "Zoom",
         "Zoom to rectangle\nx/y fixes axis, CTRL fixes aspect",
         "square-o",
         "zoom"
        ],
        [
         "Download",
         "Download plot",
         "floppy-o",
         "save_figure"
        ]
       ]
      }
     },
     "5d18bafc3d0d40aeb78719257a5a4b59": {
      "model_module": "jupyter-matplotlib",
      "model_module_version": "^0.7.2",
      "model_name": "ToolbarModel",
      "state": {
       "layout": "IPY_MODEL_7ecdd5bce92d414ca890f562470a8976",
       "toolitems": [
        [
         "Home",
         "Reset original view",
         "home",
         "home"
        ],
        [
         "Back",
         "Back to previous view",
         "arrow-left",
         "back"
        ],
        [
         "Forward",
         "Forward to next view",
         "arrow-right",
         "forward"
        ],
        [
         "Pan",
         "Left button pans, Right button zooms\nx/y fixes axis, CTRL fixes aspect",
         "arrows",
         "pan"
        ],
        [
         "Zoom",
         "Zoom to rectangle\nx/y fixes axis, CTRL fixes aspect",
         "square-o",
         "zoom"
        ],
        [
         "Download",
         "Download plot",
         "floppy-o",
         "save_figure"
        ]
       ]
      }
     },
     "5d42950614af487da328d4c28b9c77f1": {
      "model_module": "@jupyter-widgets/base",
      "model_module_version": "1.2.0",
      "model_name": "LayoutModel",
      "state": {}
     },
     "5dc63fa3928c47178992df166ce40a47": {
      "model_module": "@jupyter-widgets/base",
      "model_module_version": "1.2.0",
      "model_name": "LayoutModel",
      "state": {}
     },
     "5e2adf3f60e64d778b01889d5ffb9873": {
      "model_module": "@jupyter-widgets/base",
      "model_module_version": "1.2.0",
      "model_name": "LayoutModel",
      "state": {}
     },
     "5e3e7c571ccf40d38fde7292edbd7e18": {
      "model_module": "@jupyter-widgets/base",
      "model_module_version": "1.2.0",
      "model_name": "LayoutModel",
      "state": {}
     },
     "5e6454a65170420795099db53146eddc": {
      "model_module": "@jupyter-widgets/base",
      "model_module_version": "1.2.0",
      "model_name": "LayoutModel",
      "state": {}
     },
     "5f3dd45efcb9417a902708ed949c7952": {
      "model_module": "@jupyter-widgets/base",
      "model_module_version": "1.2.0",
      "model_name": "LayoutModel",
      "state": {}
     },
     "5f7f228ebedf4ae8b96e8d4ad1c87385": {
      "model_module": "jupyter-matplotlib",
      "model_module_version": "^0.7.2",
      "model_name": "MPLCanvasModel",
      "state": {
       "_cursor": "default",
       "_figure_label": "Figure 55",
       "_height": 200,
       "_width": 600,
       "header_visible": false,
       "layout": "IPY_MODEL_5150738695fc4591ab27059910c00b24",
       "toolbar": "IPY_MODEL_f4a2e0da883140daa23e91977fb6b598",
       "toolbar_position": "left"
      }
     },
     "5fbec7d96a0747c98fdbe54cebdab081": {
      "model_module": "jupyter-matplotlib",
      "model_module_version": "^0.7.2",
      "model_name": "ToolbarModel",
      "state": {
       "layout": "IPY_MODEL_29c99b2dee3b42f48bce8fc674c2588c",
       "toolitems": [
        [
         "Home",
         "Reset original view",
         "home",
         "home"
        ],
        [
         "Back",
         "Back to previous view",
         "arrow-left",
         "back"
        ],
        [
         "Forward",
         "Forward to next view",
         "arrow-right",
         "forward"
        ],
        [
         "Pan",
         "Left button pans, Right button zooms\nx/y fixes axis, CTRL fixes aspect",
         "arrows",
         "pan"
        ],
        [
         "Zoom",
         "Zoom to rectangle\nx/y fixes axis, CTRL fixes aspect",
         "square-o",
         "zoom"
        ],
        [
         "Download",
         "Download plot",
         "floppy-o",
         "save_figure"
        ]
       ]
      }
     },
     "6031d6c877154031840dcd968917fa66": {
      "model_module": "jupyter-matplotlib",
      "model_module_version": "^0.7.2",
      "model_name": "ToolbarModel",
      "state": {
       "layout": "IPY_MODEL_4bd75b6653db4220a70cc55f43854035",
       "toolitems": [
        [
         "Home",
         "Reset original view",
         "home",
         "home"
        ],
        [
         "Back",
         "Back to previous view",
         "arrow-left",
         "back"
        ],
        [
         "Forward",
         "Forward to next view",
         "arrow-right",
         "forward"
        ],
        [
         "Pan",
         "Left button pans, Right button zooms\nx/y fixes axis, CTRL fixes aspect",
         "arrows",
         "pan"
        ],
        [
         "Zoom",
         "Zoom to rectangle\nx/y fixes axis, CTRL fixes aspect",
         "square-o",
         "zoom"
        ],
        [
         "Download",
         "Download plot",
         "floppy-o",
         "save_figure"
        ]
       ]
      }
     },
     "606e97c5eebe4e4e92813bb7e0137512": {
      "model_module": "@jupyter-widgets/base",
      "model_module_version": "1.2.0",
      "model_name": "LayoutModel",
      "state": {}
     },
     "60b032f2a0704985974c2655dea7bf76": {
      "model_module": "@jupyter-widgets/base",
      "model_module_version": "1.2.0",
      "model_name": "LayoutModel",
      "state": {}
     },
     "60c987270d354172b99637ff7b3f1021": {
      "model_module": "@jupyter-widgets/base",
      "model_module_version": "1.2.0",
      "model_name": "LayoutModel",
      "state": {}
     },
     "60ca924905c44a8492ac7d8b771c086e": {
      "model_module": "@jupyter-widgets/base",
      "model_module_version": "1.2.0",
      "model_name": "LayoutModel",
      "state": {}
     },
     "60eb5269d50b4eb995c7a1d9e4161dbc": {
      "model_module": "@jupyter-widgets/base",
      "model_module_version": "1.2.0",
      "model_name": "LayoutModel",
      "state": {}
     },
     "62fe51a0d90e48689d4f532bed7c973f": {
      "model_module": "@jupyter-widgets/base",
      "model_module_version": "1.2.0",
      "model_name": "LayoutModel",
      "state": {}
     },
     "631e2d6ce47944b5a7000eae33883e54": {
      "model_module": "@jupyter-widgets/base",
      "model_module_version": "1.2.0",
      "model_name": "LayoutModel",
      "state": {}
     },
     "641f81c4a98242d18f5dc094aea81386": {
      "model_module": "@jupyter-widgets/base",
      "model_module_version": "1.2.0",
      "model_name": "LayoutModel",
      "state": {}
     },
     "645d9f08b61c4575ac83d140e11f57f5": {
      "model_module": "jupyter-matplotlib",
      "model_module_version": "^0.7.2",
      "model_name": "ToolbarModel",
      "state": {
       "layout": "IPY_MODEL_4505afba4d9445f6993d0d7033270c43",
       "toolitems": [
        [
         "Home",
         "Reset original view",
         "home",
         "home"
        ],
        [
         "Back",
         "Back to previous view",
         "arrow-left",
         "back"
        ],
        [
         "Forward",
         "Forward to next view",
         "arrow-right",
         "forward"
        ],
        [
         "Pan",
         "Left button pans, Right button zooms\nx/y fixes axis, CTRL fixes aspect",
         "arrows",
         "pan"
        ],
        [
         "Zoom",
         "Zoom to rectangle\nx/y fixes axis, CTRL fixes aspect",
         "square-o",
         "zoom"
        ],
        [
         "Download",
         "Download plot",
         "floppy-o",
         "save_figure"
        ]
       ]
      }
     },
     "6474dabd8e3645f48a1bffc919dd4c62": {
      "model_module": "@jupyter-widgets/base",
      "model_module_version": "1.2.0",
      "model_name": "LayoutModel",
      "state": {}
     },
     "65021b40c57e4341977dbd989c77fc4f": {
      "model_module": "jupyter-matplotlib",
      "model_module_version": "^0.7.2",
      "model_name": "MPLCanvasModel",
      "state": {
       "_cursor": "default",
       "_figure_label": "Figure 17",
       "_height": 200,
       "_width": 800,
       "header_visible": false,
       "layout": "IPY_MODEL_742a0382db514199a7e2e0879530e9b7",
       "toolbar": "IPY_MODEL_e8eaf24aa519442484d3af4e78eeeee9",
       "toolbar_position": "left"
      }
     },
     "654bbbc998264641a22e624ca326fcd4": {
      "model_module": "@jupyter-widgets/base",
      "model_module_version": "1.2.0",
      "model_name": "LayoutModel",
      "state": {}
     },
     "656fcca4dd614cd1b87d3bbdcb608b28": {
      "model_module": "@jupyter-widgets/controls",
      "model_module_version": "1.5.0",
      "model_name": "ProgressStyleModel",
      "state": {
       "description_width": "initial"
      }
     },
     "65fc65c3823b4c92af68eb40fe9f071f": {
      "model_module": "@jupyter-widgets/base",
      "model_module_version": "1.2.0",
      "model_name": "LayoutModel",
      "state": {}
     },
     "66b3970bca90494582041fc4fcc852e8": {
      "model_module": "@jupyter-widgets/base",
      "model_module_version": "1.2.0",
      "model_name": "LayoutModel",
      "state": {}
     },
     "670dcba6f4474760b8dfaee0794f54de": {
      "model_module": "@jupyter-widgets/base",
      "model_module_version": "1.2.0",
      "model_name": "LayoutModel",
      "state": {}
     },
     "671f490920d14188bdd43ef77c0e2a7b": {
      "model_module": "jupyter-matplotlib",
      "model_module_version": "^0.7.2",
      "model_name": "MPLCanvasModel",
      "state": {
       "_cursor": "default",
       "_figure_label": "Figure 81",
       "_height": 200,
       "_width": 600,
       "header_visible": false,
       "layout": "IPY_MODEL_920ad49cc9814502b4c6e883eacdc49b",
       "toolbar": "IPY_MODEL_00e85f82793641eb93d4a6b890e6d860",
       "toolbar_position": "left"
      }
     },
     "6765cae9178f47618698465ed75c41a2": {
      "model_module": "@jupyter-widgets/base",
      "model_module_version": "1.2.0",
      "model_name": "LayoutModel",
      "state": {}
     },
     "67941ac59cab4f3d885d681aa8c60a1d": {
      "model_module": "jupyter-matplotlib",
      "model_module_version": "^0.7.2",
      "model_name": "MPLCanvasModel",
      "state": {
       "_cursor": "default",
       "_figure_label": "Figure 95",
       "_height": 200,
       "_width": 600,
       "header_visible": false,
       "layout": "IPY_MODEL_ee3f409ab95441cdb4ae365d1b086263",
       "toolbar": "IPY_MODEL_98417a6d36514057bcfb530fe54a04d7",
       "toolbar_position": "left"
      }
     },
     "6898905c054944e8b592ffb34a15864c": {
      "model_module": "@jupyter-widgets/controls",
      "model_module_version": "1.5.0",
      "model_name": "HBoxModel",
      "state": {
       "children": [
        "IPY_MODEL_34ff9b445b0242729e2d4b86290f6614",
        "IPY_MODEL_f834f2e773b04f1ab65fab6b661ce745"
       ],
       "layout": "IPY_MODEL_9c245eeb6a5546e7bf31f7b74068e9f6"
      }
     },
     "69aae510df394f82b7328c78e14f59fd": {
      "model_module": "@jupyter-widgets/base",
      "model_module_version": "1.2.0",
      "model_name": "LayoutModel",
      "state": {}
     },
     "69c3bde206f348f19caf349d0b417338": {
      "model_module": "@jupyter-widgets/base",
      "model_module_version": "1.2.0",
      "model_name": "LayoutModel",
      "state": {}
     },
     "6a6ca63dbfcd413d9db709eaf50e38e1": {
      "model_module": "@jupyter-widgets/base",
      "model_module_version": "1.2.0",
      "model_name": "LayoutModel",
      "state": {}
     },
     "6b0a2bfc47f242e7b362759efd5522d1": {
      "model_module": "@jupyter-widgets/controls",
      "model_module_version": "1.5.0",
      "model_name": "DescriptionStyleModel",
      "state": {
       "description_width": ""
      }
     },
     "6b8557b39827430986561c147ce33b7a": {
      "model_module": "@jupyter-widgets/base",
      "model_module_version": "1.2.0",
      "model_name": "LayoutModel",
      "state": {}
     },
     "6b9dd19453f9448c9510111f90a1f25a": {
      "model_module": "jupyter-matplotlib",
      "model_module_version": "^0.7.2",
      "model_name": "MPLCanvasModel",
      "state": {
       "_cursor": "default",
       "_figure_label": "Figure 19",
       "_height": 200,
       "_image_mode": "diff",
       "_message": "zoom rect",
       "_rubberband_y": 200,
       "_width": 800,
       "header_visible": false,
       "layout": "IPY_MODEL_c31c2c6305f34abc962e5e71719170e0",
       "toolbar": "IPY_MODEL_2d623bcc5933411db543a45879d27e1d",
       "toolbar_position": "left"
      }
     },
     "6bab353ee3a241d5b91d435af20dbc6b": {
      "model_module": "@jupyter-widgets/base",
      "model_module_version": "1.2.0",
      "model_name": "LayoutModel",
      "state": {}
     },
     "6bda080fc92246349b2e1ed923630351": {
      "model_module": "@jupyter-widgets/controls",
      "model_module_version": "1.5.0",
      "model_name": "HBoxModel",
      "state": {
       "children": [
        "IPY_MODEL_c151a67ad0aa48cbbf9ad59e8eda3eb3",
        "IPY_MODEL_b72ac6ac129f4fdca5fa0123b65b32fa"
       ],
       "layout": "IPY_MODEL_8f8b17e2d2b8458e84ffd3377460408f"
      }
     },
     "6c1c8c63d6d24765bbc8ecc79adc6cf1": {
      "model_module": "@jupyter-widgets/base",
      "model_module_version": "1.2.0",
      "model_name": "LayoutModel",
      "state": {}
     },
     "6c4c85aacf4a4842ac6e043e2d6f5713": {
      "model_module": "@jupyter-widgets/base",
      "model_module_version": "1.2.0",
      "model_name": "LayoutModel",
      "state": {}
     },
     "6cd4a186e9cf4517949c67f1e43de730": {
      "model_module": "jupyter-matplotlib",
      "model_module_version": "^0.7.2",
      "model_name": "ToolbarModel",
      "state": {
       "layout": "IPY_MODEL_6b8557b39827430986561c147ce33b7a",
       "toolitems": [
        [
         "Home",
         "Reset original view",
         "home",
         "home"
        ],
        [
         "Back",
         "Back to previous view",
         "arrow-left",
         "back"
        ],
        [
         "Forward",
         "Forward to next view",
         "arrow-right",
         "forward"
        ],
        [
         "Pan",
         "Left button pans, Right button zooms\nx/y fixes axis, CTRL fixes aspect",
         "arrows",
         "pan"
        ],
        [
         "Zoom",
         "Zoom to rectangle\nx/y fixes axis, CTRL fixes aspect",
         "square-o",
         "zoom"
        ],
        [
         "Download",
         "Download plot",
         "floppy-o",
         "save_figure"
        ]
       ]
      }
     },
     "6cf89e35297d4f97944f01ea854ae2bb": {
      "model_module": "@jupyter-widgets/base",
      "model_module_version": "1.2.0",
      "model_name": "LayoutModel",
      "state": {}
     },
     "6d045737e3434404bef0088cc7c71405": {
      "model_module": "@jupyter-widgets/controls",
      "model_module_version": "1.5.0",
      "model_name": "ProgressStyleModel",
      "state": {
       "description_width": "initial"
      }
     },
     "6d2e2f073db54fe9a11fadecabc9bc15": {
      "model_module": "jupyter-matplotlib",
      "model_module_version": "^0.7.2",
      "model_name": "MPLCanvasModel",
      "state": {
       "_cursor": "default",
       "_figure_label": "Figure 91",
       "_height": 200,
       "_width": 600,
       "header_visible": false,
       "layout": "IPY_MODEL_1d34bdd0ab504c7aa242be37aaf94a38",
       "toolbar": "IPY_MODEL_4973da56e9364a2196e43bff827b0437",
       "toolbar_position": "left"
      }
     },
     "6db701ab437e4198b3fbe0dfd236b7f2": {
      "model_module": "jupyter-matplotlib",
      "model_module_version": "^0.7.2",
      "model_name": "ToolbarModel",
      "state": {
       "layout": "IPY_MODEL_a7d95b6f29304b308c881bf8b4d7e0c1",
       "toolitems": [
        [
         "Home",
         "Reset original view",
         "home",
         "home"
        ],
        [
         "Back",
         "Back to previous view",
         "arrow-left",
         "back"
        ],
        [
         "Forward",
         "Forward to next view",
         "arrow-right",
         "forward"
        ],
        [
         "Pan",
         "Left button pans, Right button zooms\nx/y fixes axis, CTRL fixes aspect",
         "arrows",
         "pan"
        ],
        [
         "Zoom",
         "Zoom to rectangle\nx/y fixes axis, CTRL fixes aspect",
         "square-o",
         "zoom"
        ],
        [
         "Download",
         "Download plot",
         "floppy-o",
         "save_figure"
        ]
       ]
      }
     },
     "6df9547b770840ab9e516979d23a734b": {
      "model_module": "jupyter-matplotlib",
      "model_module_version": "^0.7.2",
      "model_name": "MPLCanvasModel",
      "state": {
       "_cursor": "default",
       "_figure_label": "Figure 78",
       "_height": 200,
       "_message": "x=−0.841 y=52.",
       "_width": 600,
       "header_visible": false,
       "layout": "IPY_MODEL_83c607ab109047908a71e73283a197d9",
       "toolbar": "IPY_MODEL_285172183e704cfd9549719efda89ee0",
       "toolbar_position": "left"
      }
     },
     "6f3ba74355284ab78bfa78439e21f081": {
      "model_module": "@jupyter-widgets/base",
      "model_module_version": "1.2.0",
      "model_name": "LayoutModel",
      "state": {}
     },
     "6f700ff2f5464f0783f3a9b4b59f9e29": {
      "model_module": "jupyter-matplotlib",
      "model_module_version": "^0.7.2",
      "model_name": "ToolbarModel",
      "state": {
       "layout": "IPY_MODEL_c45ba12d22574615ae268122d0c6c876",
       "toolitems": [
        [
         "Home",
         "Reset original view",
         "home",
         "home"
        ],
        [
         "Back",
         "Back to previous view",
         "arrow-left",
         "back"
        ],
        [
         "Forward",
         "Forward to next view",
         "arrow-right",
         "forward"
        ],
        [
         "Pan",
         "Left button pans, Right button zooms\nx/y fixes axis, CTRL fixes aspect",
         "arrows",
         "pan"
        ],
        [
         "Zoom",
         "Zoom to rectangle\nx/y fixes axis, CTRL fixes aspect",
         "square-o",
         "zoom"
        ],
        [
         "Download",
         "Download plot",
         "floppy-o",
         "save_figure"
        ]
       ]
      }
     },
     "7008e9eb1d5e42769dae175a73d16371": {
      "model_module": "@jupyter-widgets/base",
      "model_module_version": "1.2.0",
      "model_name": "LayoutModel",
      "state": {}
     },
     "70473eeeb4dc4006a4f32f4f58f71d44": {
      "model_module": "jupyter-matplotlib",
      "model_module_version": "^0.7.2",
      "model_name": "MPLCanvasModel",
      "state": {
       "_cursor": "default",
       "_figure_label": "Figure 77",
       "_height": 200,
       "_width": 600,
       "header_visible": false,
       "layout": "IPY_MODEL_f44722df479449879d995810dabf1188",
       "toolbar": "IPY_MODEL_460c2a77331e412891541edec5a24f6e",
       "toolbar_position": "left"
      }
     },
     "706a2eb201a54491a0ff0d3621c21e2a": {
      "model_module": "jupyter-matplotlib",
      "model_module_version": "^0.7.2",
      "model_name": "MPLCanvasModel",
      "state": {
       "_cursor": "default",
       "_figure_label": "Figure 76",
       "_height": 200,
       "_width": 600,
       "header_visible": false,
       "layout": "IPY_MODEL_806bd828f28c403db3944ada7b101ff2",
       "toolbar": "IPY_MODEL_032b7bd26d7840ea9e82c85ff6cfa02a",
       "toolbar_position": "left"
      }
     },
     "70e4ea12163f4bf794e8b33e886a1687": {
      "model_module": "@jupyter-widgets/base",
      "model_module_version": "1.2.0",
      "model_name": "LayoutModel",
      "state": {}
     },
     "715918590420424885f01a1b84635fc7": {
      "model_module": "jupyter-matplotlib",
      "model_module_version": "^0.7.2",
      "model_name": "MPLCanvasModel",
      "state": {
       "_cursor": "default",
       "_figure_label": "Figure 28",
       "_height": 400,
       "_width": 700,
       "header_visible": false,
       "layout": "IPY_MODEL_842e34bcf94544a585804c1f08857de3",
       "toolbar": "IPY_MODEL_02e61bdd261d426889442bb232627b88",
       "toolbar_position": "left"
      }
     },
     "71ba90b44c4047d0bba5e8fade2f376e": {
      "model_module": "jupyter-matplotlib",
      "model_module_version": "^0.7.2",
      "model_name": "MPLCanvasModel",
      "state": {
       "_cursor": "default",
       "_figure_label": "Figure 6",
       "_height": 200,
       "_width": 600,
       "header_visible": false,
       "layout": "IPY_MODEL_b09c5146c1f946feac92b1714790f32e",
       "toolbar": "IPY_MODEL_0078d3d761d242bc9b07f24e722b6279",
       "toolbar_position": "left"
      }
     },
     "71da122f8638435e842397a0a02f2df3": {
      "model_module": "jupyter-matplotlib",
      "model_module_version": "^0.7.2",
      "model_name": "MPLCanvasModel",
      "state": {
       "_cursor": "default",
       "_figure_label": "Figure 68",
       "_height": 200,
       "_width": 600,
       "header_visible": false,
       "layout": "IPY_MODEL_e5daabd9b9f24bd7ae03f9e7d9495f33",
       "toolbar": "IPY_MODEL_3be1aaec2ccf4b25ac4b1a25e39b5260",
       "toolbar_position": "left"
      }
     },
     "7229ba5342844425bf61c7bd25d1c6b1": {
      "model_module": "jupyter-matplotlib",
      "model_module_version": "^0.7.2",
      "model_name": "ToolbarModel",
      "state": {
       "layout": "IPY_MODEL_335e7c14b748449d973b1c58f757d57a",
       "toolitems": [
        [
         "Home",
         "Reset original view",
         "home",
         "home"
        ],
        [
         "Back",
         "Back to previous view",
         "arrow-left",
         "back"
        ],
        [
         "Forward",
         "Forward to next view",
         "arrow-right",
         "forward"
        ],
        [
         "Pan",
         "Left button pans, Right button zooms\nx/y fixes axis, CTRL fixes aspect",
         "arrows",
         "pan"
        ],
        [
         "Zoom",
         "Zoom to rectangle\nx/y fixes axis, CTRL fixes aspect",
         "square-o",
         "zoom"
        ],
        [
         "Download",
         "Download plot",
         "floppy-o",
         "save_figure"
        ]
       ]
      }
     },
     "72a7243075694776ba9bbf082e9cd954": {
      "model_module": "@jupyter-widgets/base",
      "model_module_version": "1.2.0",
      "model_name": "LayoutModel",
      "state": {}
     },
     "72af4519bebe474c993f9fe7fa419c88": {
      "model_module": "@jupyter-widgets/base",
      "model_module_version": "1.2.0",
      "model_name": "LayoutModel",
      "state": {}
     },
     "730d2993cf1e40ce8398c63f28a245c3": {
      "model_module": "@jupyter-widgets/controls",
      "model_module_version": "1.5.0",
      "model_name": "DescriptionStyleModel",
      "state": {
       "description_width": ""
      }
     },
     "73191336586b4c7586a780156ee08aad": {
      "model_module": "@jupyter-widgets/base",
      "model_module_version": "1.2.0",
      "model_name": "LayoutModel",
      "state": {}
     },
     "73254518d61a4fbebf86dc830eed9574": {
      "model_module": "jupyter-matplotlib",
      "model_module_version": "^0.7.2",
      "model_name": "MPLCanvasModel",
      "state": {
       "_cursor": "default",
       "_figure_label": "Figure 58",
       "_height": 200,
       "_width": 600,
       "header_visible": false,
       "layout": "IPY_MODEL_dda9ada51e2d41258c73655d418e6c18",
       "toolbar": "IPY_MODEL_89b7d7d83c6148e481435dc17ff7a385",
       "toolbar_position": "left"
      }
     },
     "736512ebf22d417989e881d852e30a3f": {
      "model_module": "jupyter-matplotlib",
      "model_module_version": "^0.7.2",
      "model_name": "MPLCanvasModel",
      "state": {
       "_cursor": "default",
       "_figure_label": "Figure 53",
       "_height": 200,
       "_width": 600,
       "header_visible": false,
       "layout": "IPY_MODEL_ad06bac7c17c45aab5ffea4d9b3aada9",
       "toolbar": "IPY_MODEL_33c1f501145744868ee03355caa366f3",
       "toolbar_position": "left"
      }
     },
     "73ff1c3e83774adda4814ae964c93dd0": {
      "model_module": "@jupyter-widgets/base",
      "model_module_version": "1.2.0",
      "model_name": "LayoutModel",
      "state": {}
     },
     "742a0382db514199a7e2e0879530e9b7": {
      "model_module": "@jupyter-widgets/base",
      "model_module_version": "1.2.0",
      "model_name": "LayoutModel",
      "state": {}
     },
     "74900c9f7b1e4e719f1407cb9cc9e1f0": {
      "model_module": "@jupyter-widgets/controls",
      "model_module_version": "1.5.0",
      "model_name": "DescriptionStyleModel",
      "state": {
       "description_width": ""
      }
     },
     "749bd9429d674d36a6f948e3a692c573": {
      "model_module": "@jupyter-widgets/base",
      "model_module_version": "1.2.0",
      "model_name": "LayoutModel",
      "state": {}
     },
     "74ba582d2dc14b7397ed7f8f60bcefe6": {
      "model_module": "@jupyter-widgets/controls",
      "model_module_version": "1.5.0",
      "model_name": "ProgressStyleModel",
      "state": {
       "description_width": "initial"
      }
     },
     "757b3cf65dc64bddb6f5c39d240e9394": {
      "model_module": "@jupyter-widgets/controls",
      "model_module_version": "1.5.0",
      "model_name": "FloatProgressModel",
      "state": {
       "bar_style": "success",
       "description": "100%",
       "layout": "IPY_MODEL_70e4ea12163f4bf794e8b33e886a1687",
       "max": 1000,
       "style": "IPY_MODEL_7e641e0913434b86b7c92762948b8b84",
       "value": 1000
      }
     },
     "7583ff5a39bf49b08b77a50345602a6e": {
      "model_module": "@jupyter-widgets/controls",
      "model_module_version": "1.5.0",
      "model_name": "HTMLModel",
      "state": {
       "layout": "IPY_MODEL_5e2adf3f60e64d778b01889d5ffb9873",
       "style": "IPY_MODEL_e43510006f374182961cfe4d0af40248",
       "value": " 1000/1000 [06:13&lt;00:00,  2.68it/s]"
      }
     },
     "75e389ce6da24ac793c3a0fe79a3c5a8": {
      "model_module": "@jupyter-widgets/base",
      "model_module_version": "1.2.0",
      "model_name": "LayoutModel",
      "state": {}
     },
     "762627a6a0b44826aa304ca961753742": {
      "model_module": "@jupyter-widgets/base",
      "model_module_version": "1.2.0",
      "model_name": "LayoutModel",
      "state": {}
     },
     "7627e12902dd4a818d275fcae3c90b74": {
      "model_module": "jupyter-matplotlib",
      "model_module_version": "^0.7.2",
      "model_name": "MPLCanvasModel",
      "state": {
       "_cursor": "default",
       "_figure_label": "Figure 40",
       "_height": 200,
       "_message": "x=−0.66 y=−16.8",
       "_width": 600,
       "header_visible": false,
       "layout": "IPY_MODEL_ff97024312544947a2c9776e07e00349",
       "toolbar": "IPY_MODEL_d5f99dd7a2294cd8af5b0bbc26fe88fb",
       "toolbar_position": "left"
      }
     },
     "7698f422b22b4f37ae281018f386777d": {
      "model_module": "@jupyter-widgets/controls",
      "model_module_version": "1.5.0",
      "model_name": "HBoxModel",
      "state": {
       "children": [
        "IPY_MODEL_1cb9db051139424f8b9ee9f8100db2d4",
        "IPY_MODEL_edb240e33a7948a0bbf90ef7af0d0615"
       ],
       "layout": "IPY_MODEL_d5ac10f5c56a439f8e18ec694084e805"
      }
     },
     "76b700f6a72f4dc8a400255141193c21": {
      "model_module": "@jupyter-widgets/base",
      "model_module_version": "1.2.0",
      "model_name": "LayoutModel",
      "state": {}
     },
     "7706d17ea8c840ffbaf08eda960cd739": {
      "model_module": "@jupyter-widgets/base",
      "model_module_version": "1.2.0",
      "model_name": "LayoutModel",
      "state": {}
     },
     "775f96d42c4b423e8d4080c2c37c2bea": {
      "model_module": "jupyter-matplotlib",
      "model_module_version": "^0.7.2",
      "model_name": "ToolbarModel",
      "state": {
       "layout": "IPY_MODEL_0e2eb66baad141ffa1b91cd47be3a40c",
       "toolitems": [
        [
         "Home",
         "Reset original view",
         "home",
         "home"
        ],
        [
         "Back",
         "Back to previous view",
         "arrow-left",
         "back"
        ],
        [
         "Forward",
         "Forward to next view",
         "arrow-right",
         "forward"
        ],
        [
         "Pan",
         "Left button pans, Right button zooms\nx/y fixes axis, CTRL fixes aspect",
         "arrows",
         "pan"
        ],
        [
         "Zoom",
         "Zoom to rectangle\nx/y fixes axis, CTRL fixes aspect",
         "square-o",
         "zoom"
        ],
        [
         "Download",
         "Download plot",
         "floppy-o",
         "save_figure"
        ]
       ]
      }
     },
     "77be16439b074ee3a4cc5d5e2c3cd810": {
      "model_module": "@jupyter-widgets/base",
      "model_module_version": "1.2.0",
      "model_name": "LayoutModel",
      "state": {}
     },
     "78a8c54831a044d59893e429e1b5d9d9": {
      "model_module": "jupyter-matplotlib",
      "model_module_version": "^0.7.2",
      "model_name": "ToolbarModel",
      "state": {
       "layout": "IPY_MODEL_3b441c99a1864dd587fb5d85682ef74a",
       "toolitems": [
        [
         "Home",
         "Reset original view",
         "home",
         "home"
        ],
        [
         "Back",
         "Back to previous view",
         "arrow-left",
         "back"
        ],
        [
         "Forward",
         "Forward to next view",
         "arrow-right",
         "forward"
        ],
        [
         "Pan",
         "Left button pans, Right button zooms\nx/y fixes axis, CTRL fixes aspect",
         "arrows",
         "pan"
        ],
        [
         "Zoom",
         "Zoom to rectangle\nx/y fixes axis, CTRL fixes aspect",
         "square-o",
         "zoom"
        ],
        [
         "Download",
         "Download plot",
         "floppy-o",
         "save_figure"
        ]
       ]
      }
     },
     "793e16a022ec4c4293af20ffcf452787": {
      "model_module": "jupyter-matplotlib",
      "model_module_version": "^0.7.2",
      "model_name": "ToolbarModel",
      "state": {
       "_current_action": "zoom",
       "layout": "IPY_MODEL_00685d9e81b249d3ba1948b3c5114e6e",
       "toolitems": [
        [
         "Home",
         "Reset original view",
         "home",
         "home"
        ],
        [
         "Back",
         "Back to previous view",
         "arrow-left",
         "back"
        ],
        [
         "Forward",
         "Forward to next view",
         "arrow-right",
         "forward"
        ],
        [
         "Pan",
         "Left button pans, Right button zooms\nx/y fixes axis, CTRL fixes aspect",
         "arrows",
         "pan"
        ],
        [
         "Zoom",
         "Zoom to rectangle\nx/y fixes axis, CTRL fixes aspect",
         "square-o",
         "zoom"
        ],
        [
         "Download",
         "Download plot",
         "floppy-o",
         "save_figure"
        ]
       ]
      }
     },
     "79a2d7ae76a645c0834ba7acca86976c": {
      "model_module": "@jupyter-widgets/controls",
      "model_module_version": "1.5.0",
      "model_name": "FloatProgressModel",
      "state": {
       "bar_style": "success",
       "description": "100%",
       "layout": "IPY_MODEL_52cc0df8db434ea2aad5cf1a0f1bad3c",
       "max": 1000,
       "style": "IPY_MODEL_b190f175aee94f67a77133cdf166ee39",
       "value": 1000
      }
     },
     "79e39f033d08433c86d2eaa43ea7c9ce": {
      "model_module": "@jupyter-widgets/controls",
      "model_module_version": "1.5.0",
      "model_name": "FloatProgressModel",
      "state": {
       "bar_style": "success",
       "description": "100%",
       "layout": "IPY_MODEL_7a1143d99afc422199d3f47c9e37a1cc",
       "style": "IPY_MODEL_c3113a2f64dc47569f23ea5a4fb80b0c",
       "value": 100
      }
     },
     "7a068e577cb84b3b9f8594da2b9f60ef": {
      "model_module": "@jupyter-widgets/base",
      "model_module_version": "1.2.0",
      "model_name": "LayoutModel",
      "state": {}
     },
     "7a1143d99afc422199d3f47c9e37a1cc": {
      "model_module": "@jupyter-widgets/base",
      "model_module_version": "1.2.0",
      "model_name": "LayoutModel",
      "state": {}
     },
     "7a83bed5ac724b88b028c3488822f831": {
      "model_module": "@jupyter-widgets/controls",
      "model_module_version": "1.5.0",
      "model_name": "ProgressStyleModel",
      "state": {
       "description_width": "initial"
      }
     },
     "7b36524c6d6d49319f6e9bb09fb3313c": {
      "model_module": "jupyter-matplotlib",
      "model_module_version": "^0.7.2",
      "model_name": "MPLCanvasModel",
      "state": {
       "_cursor": "default",
       "_figure_label": "Figure 94",
       "_height": 200,
       "_width": 600,
       "header_visible": false,
       "layout": "IPY_MODEL_23a3290b94c54248be231b66ac4f611a",
       "toolbar": "IPY_MODEL_775f96d42c4b423e8d4080c2c37c2bea",
       "toolbar_position": "left"
      }
     },
     "7b7051184698459b83596f9692db1c9f": {
      "model_module": "@jupyter-widgets/controls",
      "model_module_version": "1.5.0",
      "model_name": "DescriptionStyleModel",
      "state": {
       "description_width": ""
      }
     },
     "7c02ed6fb1dd430db824a085ec034ef8": {
      "model_module": "jupyter-matplotlib",
      "model_module_version": "^0.7.2",
      "model_name": "MPLCanvasModel",
      "state": {
       "_cursor": "default",
       "_figure_label": "Figure 49",
       "_height": 200,
       "_width": 600,
       "header_visible": false,
       "layout": "IPY_MODEL_1cbff068151f49f1a1571c94c22ec185",
       "toolbar": "IPY_MODEL_98aa23c8af2242139fa1c9186aef41b3",
       "toolbar_position": "left"
      }
     },
     "7c0ef0b2bae349458bf2dcf3ed495528": {
      "model_module": "@jupyter-widgets/controls",
      "model_module_version": "1.5.0",
      "model_name": "ProgressStyleModel",
      "state": {
       "description_width": "initial"
      }
     },
     "7c2bbdd3da56494e903a29cf22970582": {
      "model_module": "jupyter-matplotlib",
      "model_module_version": "^0.7.2",
      "model_name": "ToolbarModel",
      "state": {
       "layout": "IPY_MODEL_2cfdbade627c420ea52e5a55c93783d1",
       "toolitems": [
        [
         "Home",
         "Reset original view",
         "home",
         "home"
        ],
        [
         "Back",
         "Back to previous view",
         "arrow-left",
         "back"
        ],
        [
         "Forward",
         "Forward to next view",
         "arrow-right",
         "forward"
        ],
        [
         "Pan",
         "Left button pans, Right button zooms\nx/y fixes axis, CTRL fixes aspect",
         "arrows",
         "pan"
        ],
        [
         "Zoom",
         "Zoom to rectangle\nx/y fixes axis, CTRL fixes aspect",
         "square-o",
         "zoom"
        ],
        [
         "Download",
         "Download plot",
         "floppy-o",
         "save_figure"
        ]
       ]
      }
     },
     "7ca7aad3ed1e4644a920f86934be36f1": {
      "model_module": "@jupyter-widgets/controls",
      "model_module_version": "1.5.0",
      "model_name": "HBoxModel",
      "state": {
       "children": [
        "IPY_MODEL_5388e165540f4d3383960b92378ba8d0",
        "IPY_MODEL_aec80b83eb64449084d6b3629bc076ea"
       ],
       "layout": "IPY_MODEL_e13a57d341574ec2b4786bb931ab8f38"
      }
     },
     "7d2bf3cdf13c4ea08030c049e91e93a6": {
      "model_module": "@jupyter-widgets/base",
      "model_module_version": "1.2.0",
      "model_name": "LayoutModel",
      "state": {}
     },
     "7d4b55dd78834f41bda7e603f16c3a05": {
      "model_module": "jupyter-matplotlib",
      "model_module_version": "^0.7.2",
      "model_name": "ToolbarModel",
      "state": {
       "_current_action": "zoom",
       "layout": "IPY_MODEL_f9e9415eb5d84e488bb00968aecd9244",
       "toolitems": [
        [
         "Home",
         "Reset original view",
         "home",
         "home"
        ],
        [
         "Back",
         "Back to previous view",
         "arrow-left",
         "back"
        ],
        [
         "Forward",
         "Forward to next view",
         "arrow-right",
         "forward"
        ],
        [
         "Pan",
         "Left button pans, Right button zooms\nx/y fixes axis, CTRL fixes aspect",
         "arrows",
         "pan"
        ],
        [
         "Zoom",
         "Zoom to rectangle\nx/y fixes axis, CTRL fixes aspect",
         "square-o",
         "zoom"
        ],
        [
         "Download",
         "Download plot",
         "floppy-o",
         "save_figure"
        ]
       ]
      }
     },
     "7d68b6a3f9fe496890d302bc8604c697": {
      "model_module": "jupyter-matplotlib",
      "model_module_version": "^0.7.2",
      "model_name": "MPLCanvasModel",
      "state": {
       "_cursor": "default",
       "_figure_label": "Figure 85",
       "_height": 200,
       "_width": 600,
       "header_visible": false,
       "layout": "IPY_MODEL_762627a6a0b44826aa304ca961753742",
       "toolbar": "IPY_MODEL_6db701ab437e4198b3fbe0dfd236b7f2",
       "toolbar_position": "left"
      }
     },
     "7e543f18b12d48cab6ee9159b656e8d7": {
      "model_module": "@jupyter-widgets/base",
      "model_module_version": "1.2.0",
      "model_name": "LayoutModel",
      "state": {}
     },
     "7e641e0913434b86b7c92762948b8b84": {
      "model_module": "@jupyter-widgets/controls",
      "model_module_version": "1.5.0",
      "model_name": "ProgressStyleModel",
      "state": {
       "description_width": "initial"
      }
     },
     "7ecdd5bce92d414ca890f562470a8976": {
      "model_module": "@jupyter-widgets/base",
      "model_module_version": "1.2.0",
      "model_name": "LayoutModel",
      "state": {}
     },
     "7f274a1d18e94c95b7485ed3c50c86cf": {
      "model_module": "@jupyter-widgets/controls",
      "model_module_version": "1.5.0",
      "model_name": "DescriptionStyleModel",
      "state": {
       "description_width": ""
      }
     },
     "7f442e6c859c45888ee5e9d3343ab5b2": {
      "model_module": "@jupyter-widgets/controls",
      "model_module_version": "1.5.0",
      "model_name": "FloatProgressModel",
      "state": {
       "bar_style": "success",
       "description": "100%",
       "layout": "IPY_MODEL_dd27251cd478416e9b7b51dee3a79c16",
       "max": 1000,
       "style": "IPY_MODEL_974551532c4e434e90ab00cc46532762",
       "value": 1000
      }
     },
     "806bd828f28c403db3944ada7b101ff2": {
      "model_module": "@jupyter-widgets/base",
      "model_module_version": "1.2.0",
      "model_name": "LayoutModel",
      "state": {}
     },
     "8097f8c46025450bbca33cf66c6db889": {
      "model_module": "@jupyter-widgets/base",
      "model_module_version": "1.2.0",
      "model_name": "LayoutModel",
      "state": {}
     },
     "809d595755684f21b494f21147baa6de": {
      "model_module": "@jupyter-widgets/base",
      "model_module_version": "1.2.0",
      "model_name": "LayoutModel",
      "state": {}
     },
     "80f6de76842845d9a9a3a1b809604b0f": {
      "model_module": "@jupyter-widgets/base",
      "model_module_version": "1.2.0",
      "model_name": "LayoutModel",
      "state": {}
     },
     "813f70dbad9846a2a7f69411fa3e9aad": {
      "model_module": "jupyter-matplotlib",
      "model_module_version": "^0.7.2",
      "model_name": "MPLCanvasModel",
      "state": {
       "_cursor": "default",
       "_figure_label": "Figure 13",
       "_height": 400,
       "_width": 700,
       "header_visible": false,
       "layout": "IPY_MODEL_1f3845f2756f415fb83bbfba3768a952",
       "toolbar": "IPY_MODEL_36e54451baca44ea84637a6736966779",
       "toolbar_position": "left"
      }
     },
     "8261e4da3aa9438890f0f494606de7b0": {
      "model_module": "jupyter-matplotlib",
      "model_module_version": "^0.7.2",
      "model_name": "ToolbarModel",
      "state": {
       "layout": "IPY_MODEL_501b75cd25994fffb8602fde53e7a234",
       "toolitems": [
        [
         "Home",
         "Reset original view",
         "home",
         "home"
        ],
        [
         "Back",
         "Back to previous view",
         "arrow-left",
         "back"
        ],
        [
         "Forward",
         "Forward to next view",
         "arrow-right",
         "forward"
        ],
        [
         "Pan",
         "Left button pans, Right button zooms\nx/y fixes axis, CTRL fixes aspect",
         "arrows",
         "pan"
        ],
        [
         "Zoom",
         "Zoom to rectangle\nx/y fixes axis, CTRL fixes aspect",
         "square-o",
         "zoom"
        ],
        [
         "Download",
         "Download plot",
         "floppy-o",
         "save_figure"
        ]
       ]
      }
     },
     "82b9561b950b4df39645239fa2332500": {
      "model_module": "@jupyter-widgets/controls",
      "model_module_version": "1.5.0",
      "model_name": "HTMLModel",
      "state": {
       "layout": "IPY_MODEL_9a775834741a46c697de4aa84b0abd45",
       "style": "IPY_MODEL_db85a3cffd6d4011bca9baf94467a3f7",
       "value": " 1000/1000 [00:24&lt;00:00, 41.19it/s]"
      }
     },
     "82da0bb4d6d04efeb11e43b5124d2bf6": {
      "model_module": "@jupyter-widgets/base",
      "model_module_version": "1.2.0",
      "model_name": "LayoutModel",
      "state": {}
     },
     "82f23be065b24be8a7ca1f91c973cc4e": {
      "model_module": "@jupyter-widgets/base",
      "model_module_version": "1.2.0",
      "model_name": "LayoutModel",
      "state": {}
     },
     "8302418ad2754bdc82e0892d5417120d": {
      "model_module": "@jupyter-widgets/base",
      "model_module_version": "1.2.0",
      "model_name": "LayoutModel",
      "state": {}
     },
     "838c295dbfce41fda29c1bf133084eb9": {
      "model_module": "@jupyter-widgets/base",
      "model_module_version": "1.2.0",
      "model_name": "LayoutModel",
      "state": {}
     },
     "839c3ac9fadc4f8fa28cfa040486fd36": {
      "model_module": "jupyter-matplotlib",
      "model_module_version": "^0.7.2",
      "model_name": "MPLCanvasModel",
      "state": {
       "_cursor": "default",
       "_figure_label": "Figure 35",
       "_height": 200,
       "_width": 600,
       "header_visible": false,
       "layout": "IPY_MODEL_2db18b82ae5148c2a99dedc902474616",
       "toolbar": "IPY_MODEL_af7cda5491174fc7a62943ca4a2fdb1e",
       "toolbar_position": "left"
      }
     },
     "83c607ab109047908a71e73283a197d9": {
      "model_module": "@jupyter-widgets/base",
      "model_module_version": "1.2.0",
      "model_name": "LayoutModel",
      "state": {}
     },
     "83d45cdb5031465194f2bd784d4dee9b": {
      "model_module": "@jupyter-widgets/base",
      "model_module_version": "1.2.0",
      "model_name": "LayoutModel",
      "state": {}
     },
     "841537e13b7a4d51a13edc7d86e82f99": {
      "model_module": "jupyter-matplotlib",
      "model_module_version": "^0.7.2",
      "model_name": "ToolbarModel",
      "state": {
       "layout": "IPY_MODEL_ee7de61f65814e199aba229be8df4656",
       "toolitems": [
        [
         "Home",
         "Reset original view",
         "home",
         "home"
        ],
        [
         "Back",
         "Back to previous view",
         "arrow-left",
         "back"
        ],
        [
         "Forward",
         "Forward to next view",
         "arrow-right",
         "forward"
        ],
        [
         "Pan",
         "Left button pans, Right button zooms\nx/y fixes axis, CTRL fixes aspect",
         "arrows",
         "pan"
        ],
        [
         "Zoom",
         "Zoom to rectangle\nx/y fixes axis, CTRL fixes aspect",
         "square-o",
         "zoom"
        ],
        [
         "Download",
         "Download plot",
         "floppy-o",
         "save_figure"
        ]
       ]
      }
     },
     "8424530bbdaa4b59a8edd1f0f8b5446b": {
      "model_module": "@jupyter-widgets/base",
      "model_module_version": "1.2.0",
      "model_name": "LayoutModel",
      "state": {}
     },
     "842e34bcf94544a585804c1f08857de3": {
      "model_module": "@jupyter-widgets/base",
      "model_module_version": "1.2.0",
      "model_name": "LayoutModel",
      "state": {}
     },
     "85336ccc46c54f2fbe4df1a2a443e3a8": {
      "model_module": "@jupyter-widgets/base",
      "model_module_version": "1.2.0",
      "model_name": "LayoutModel",
      "state": {}
     },
     "8570b57fa6ba41b2993a9dae1416f48c": {
      "model_module": "jupyter-matplotlib",
      "model_module_version": "^0.7.2",
      "model_name": "ToolbarModel",
      "state": {
       "layout": "IPY_MODEL_7706d17ea8c840ffbaf08eda960cd739",
       "toolitems": [
        [
         "Home",
         "Reset original view",
         "home",
         "home"
        ],
        [
         "Back",
         "Back to previous view",
         "arrow-left",
         "back"
        ],
        [
         "Forward",
         "Forward to next view",
         "arrow-right",
         "forward"
        ],
        [
         "Pan",
         "Left button pans, Right button zooms\nx/y fixes axis, CTRL fixes aspect",
         "arrows",
         "pan"
        ],
        [
         "Zoom",
         "Zoom to rectangle\nx/y fixes axis, CTRL fixes aspect",
         "square-o",
         "zoom"
        ],
        [
         "Download",
         "Download plot",
         "floppy-o",
         "save_figure"
        ]
       ]
      }
     },
     "869681223f5346f9bb16746a7d95f87f": {
      "model_module": "@jupyter-widgets/base",
      "model_module_version": "1.2.0",
      "model_name": "LayoutModel",
      "state": {}
     },
     "87333b6ad50443ecbcef09b1e0a45f55": {
      "model_module": "jupyter-matplotlib",
      "model_module_version": "^0.7.2",
      "model_name": "ToolbarModel",
      "state": {
       "layout": "IPY_MODEL_c665e5d9054f44c0b865bca2928e67e6",
       "toolitems": [
        [
         "Home",
         "Reset original view",
         "home",
         "home"
        ],
        [
         "Back",
         "Back to previous view",
         "arrow-left",
         "back"
        ],
        [
         "Forward",
         "Forward to next view",
         "arrow-right",
         "forward"
        ],
        [
         "Pan",
         "Left button pans, Right button zooms\nx/y fixes axis, CTRL fixes aspect",
         "arrows",
         "pan"
        ],
        [
         "Zoom",
         "Zoom to rectangle\nx/y fixes axis, CTRL fixes aspect",
         "square-o",
         "zoom"
        ],
        [
         "Download",
         "Download plot",
         "floppy-o",
         "save_figure"
        ]
       ]
      }
     },
     "877af59715204fcba0d5f45dd79b2764": {
      "model_module": "@jupyter-widgets/base",
      "model_module_version": "1.2.0",
      "model_name": "LayoutModel",
      "state": {}
     },
     "87b3aeb3f52441d890e04dea93a4d579": {
      "model_module": "@jupyter-widgets/base",
      "model_module_version": "1.2.0",
      "model_name": "LayoutModel",
      "state": {}
     },
     "8818680509b843a7922406458fbc9032": {
      "model_module": "@jupyter-widgets/base",
      "model_module_version": "1.2.0",
      "model_name": "LayoutModel",
      "state": {}
     },
     "891ab121b0af40c3ba80a7502e12ac0a": {
      "model_module": "@jupyter-widgets/base",
      "model_module_version": "1.2.0",
      "model_name": "LayoutModel",
      "state": {}
     },
     "8985de065154426384eb45736a86aea5": {
      "model_module": "jupyter-matplotlib",
      "model_module_version": "^0.7.2",
      "model_name": "MPLCanvasModel",
      "state": {
       "_cursor": "default",
       "_figure_label": "Figure 83",
       "_height": 200,
       "_width": 600,
       "header_visible": false,
       "layout": "IPY_MODEL_d1f200b3b68c45059855f5f36b8b6337",
       "toolbar": "IPY_MODEL_3cf310fdb9dd440c8d62c476b301c62e",
       "toolbar_position": "left"
      }
     },
     "89b7d7d83c6148e481435dc17ff7a385": {
      "model_module": "jupyter-matplotlib",
      "model_module_version": "^0.7.2",
      "model_name": "ToolbarModel",
      "state": {
       "layout": "IPY_MODEL_891ab121b0af40c3ba80a7502e12ac0a",
       "toolitems": [
        [
         "Home",
         "Reset original view",
         "home",
         "home"
        ],
        [
         "Back",
         "Back to previous view",
         "arrow-left",
         "back"
        ],
        [
         "Forward",
         "Forward to next view",
         "arrow-right",
         "forward"
        ],
        [
         "Pan",
         "Left button pans, Right button zooms\nx/y fixes axis, CTRL fixes aspect",
         "arrows",
         "pan"
        ],
        [
         "Zoom",
         "Zoom to rectangle\nx/y fixes axis, CTRL fixes aspect",
         "square-o",
         "zoom"
        ],
        [
         "Download",
         "Download plot",
         "floppy-o",
         "save_figure"
        ]
       ]
      }
     },
     "89d8c4a78a914ac9acfd6ba0f73e1471": {
      "model_module": "@jupyter-widgets/base",
      "model_module_version": "1.2.0",
      "model_name": "LayoutModel",
      "state": {}
     },
     "8a582602f3194179827315882994b207": {
      "model_module": "jupyter-matplotlib",
      "model_module_version": "^0.7.2",
      "model_name": "MPLCanvasModel",
      "state": {
       "_cursor": "default",
       "_figure_label": "Figure 96",
       "_height": 200,
       "_message": "x=0.1341 y=34.5",
       "_width": 600,
       "header_visible": false,
       "layout": "IPY_MODEL_6474dabd8e3645f48a1bffc919dd4c62",
       "toolbar": "IPY_MODEL_bfb1838e0fee40f08b9cc5b34b57a421",
       "toolbar_position": "left"
      }
     },
     "8af226576ee540bfa04d3b470d2ba139": {
      "model_module": "@jupyter-widgets/controls",
      "model_module_version": "1.5.0",
      "model_name": "DescriptionStyleModel",
      "state": {
       "description_width": ""
      }
     },
     "8af2e6fcb5f043cfb732d2739e9b7263": {
      "model_module": "@jupyter-widgets/base",
      "model_module_version": "1.2.0",
      "model_name": "LayoutModel",
      "state": {}
     },
     "8af56c93ec0f4475bc64e2945b1833af": {
      "model_module": "@jupyter-widgets/controls",
      "model_module_version": "1.5.0",
      "model_name": "HTMLModel",
      "state": {
       "layout": "IPY_MODEL_e60d6a0234444671ac316fff6aa14823",
       "style": "IPY_MODEL_9258167462994e9dbe69ea9aef045d38",
       "value": " 100/100 [02:10&lt;00:00,  1.30s/it]"
      }
     },
     "8b293239969b4bdf8b099f5c46eab4a4": {
      "model_module": "jupyter-matplotlib",
      "model_module_version": "^0.7.2",
      "model_name": "MPLCanvasModel",
      "state": {
       "_cursor": "default",
       "_figure_label": "Figure 104",
       "_height": 300,
       "_width": 400,
       "header_visible": false,
       "layout": "IPY_MODEL_9ef99fbdf8784523827d99dcb27173cf",
       "toolbar": "IPY_MODEL_7c2bbdd3da56494e903a29cf22970582",
       "toolbar_position": "left"
      }
     },
     "8b9de11091c544cf9b9deb625a500e8f": {
      "model_module": "jupyter-matplotlib",
      "model_module_version": "^0.7.2",
      "model_name": "ToolbarModel",
      "state": {
       "layout": "IPY_MODEL_a90b228121d341e684c030be4bc15a4e",
       "toolitems": [
        [
         "Home",
         "Reset original view",
         "home",
         "home"
        ],
        [
         "Back",
         "Back to previous view",
         "arrow-left",
         "back"
        ],
        [
         "Forward",
         "Forward to next view",
         "arrow-right",
         "forward"
        ],
        [
         "Pan",
         "Left button pans, Right button zooms\nx/y fixes axis, CTRL fixes aspect",
         "arrows",
         "pan"
        ],
        [
         "Zoom",
         "Zoom to rectangle\nx/y fixes axis, CTRL fixes aspect",
         "square-o",
         "zoom"
        ],
        [
         "Download",
         "Download plot",
         "floppy-o",
         "save_figure"
        ]
       ]
      }
     },
     "8c2dca7a92a04d808d17fd0ad246b42b": {
      "model_module": "@jupyter-widgets/base",
      "model_module_version": "1.2.0",
      "model_name": "LayoutModel",
      "state": {}
     },
     "8c7b151b72ea4f01a2856cfe3df44cf9": {
      "model_module": "@jupyter-widgets/base",
      "model_module_version": "1.2.0",
      "model_name": "LayoutModel",
      "state": {}
     },
     "8d0bf55064b5447db787c849c8b29f08": {
      "model_module": "@jupyter-widgets/base",
      "model_module_version": "1.2.0",
      "model_name": "LayoutModel",
      "state": {}
     },
     "8d43f31655ac444ca6d08d7f83fc438a": {
      "model_module": "jupyter-matplotlib",
      "model_module_version": "^0.7.2",
      "model_name": "MPLCanvasModel",
      "state": {
       "_cursor": "default",
       "_figure_label": "Figure 10",
       "_height": 200,
       "_width": 600,
       "header_visible": false,
       "layout": "IPY_MODEL_e68d8eae7b0b49ce823a88835e007ded",
       "toolbar": "IPY_MODEL_841537e13b7a4d51a13edc7d86e82f99",
       "toolbar_position": "left"
      }
     },
     "8d72130c8a61494f8867f4b97a8843ad": {
      "model_module": "@jupyter-widgets/base",
      "model_module_version": "1.2.0",
      "model_name": "LayoutModel",
      "state": {}
     },
     "8e06849d5d7749ffbff73bc8dd8fb0d0": {
      "model_module": "jupyter-matplotlib",
      "model_module_version": "^0.7.2",
      "model_name": "MPLCanvasModel",
      "state": {
       "_cursor": "default",
       "_figure_label": "Figure 14",
       "_height": 400,
       "_width": 700,
       "header_visible": false,
       "layout": "IPY_MODEL_df4bcc19303d41c6a01949ff6bd0dbc9",
       "toolbar": "IPY_MODEL_6f700ff2f5464f0783f3a9b4b59f9e29",
       "toolbar_position": "left"
      }
     },
     "8e630b297c3246dca9a0f18715d8b19c": {
      "model_module": "jupyter-matplotlib",
      "model_module_version": "^0.7.2",
      "model_name": "ToolbarModel",
      "state": {
       "layout": "IPY_MODEL_83d45cdb5031465194f2bd784d4dee9b",
       "toolitems": [
        [
         "Home",
         "Reset original view",
         "home",
         "home"
        ],
        [
         "Back",
         "Back to previous view",
         "arrow-left",
         "back"
        ],
        [
         "Forward",
         "Forward to next view",
         "arrow-right",
         "forward"
        ],
        [
         "Pan",
         "Left button pans, Right button zooms\nx/y fixes axis, CTRL fixes aspect",
         "arrows",
         "pan"
        ],
        [
         "Zoom",
         "Zoom to rectangle\nx/y fixes axis, CTRL fixes aspect",
         "square-o",
         "zoom"
        ],
        [
         "Download",
         "Download plot",
         "floppy-o",
         "save_figure"
        ]
       ]
      }
     },
     "8f71ca7a42b44775b3a335d68646f0d3": {
      "model_module": "@jupyter-widgets/base",
      "model_module_version": "1.2.0",
      "model_name": "LayoutModel",
      "state": {}
     },
     "8f8b17e2d2b8458e84ffd3377460408f": {
      "model_module": "@jupyter-widgets/base",
      "model_module_version": "1.2.0",
      "model_name": "LayoutModel",
      "state": {}
     },
     "906559f0bcf14fb6801fff763300e32b": {
      "model_module": "jupyter-matplotlib",
      "model_module_version": "^0.7.2",
      "model_name": "ToolbarModel",
      "state": {
       "layout": "IPY_MODEL_cf6d7b937c7c44e696040308b9bce267",
       "toolitems": [
        [
         "Home",
         "Reset original view",
         "home",
         "home"
        ],
        [
         "Back",
         "Back to previous view",
         "arrow-left",
         "back"
        ],
        [
         "Forward",
         "Forward to next view",
         "arrow-right",
         "forward"
        ],
        [
         "Pan",
         "Left button pans, Right button zooms\nx/y fixes axis, CTRL fixes aspect",
         "arrows",
         "pan"
        ],
        [
         "Zoom",
         "Zoom to rectangle\nx/y fixes axis, CTRL fixes aspect",
         "square-o",
         "zoom"
        ],
        [
         "Download",
         "Download plot",
         "floppy-o",
         "save_figure"
        ]
       ]
      }
     },
     "91197ed03448416fb6c4de44fc464069": {
      "model_module": "jupyter-matplotlib",
      "model_module_version": "^0.7.2",
      "model_name": "MPLCanvasModel",
      "state": {
       "_cursor": "default",
       "_figure_label": "Figure 60",
       "_height": 200,
       "_width": 600,
       "header_visible": false,
       "layout": "IPY_MODEL_72a7243075694776ba9bbf082e9cd954",
       "toolbar": "IPY_MODEL_304a2da4e8824fcdb7caa72e16f7543b",
       "toolbar_position": "left"
      }
     },
     "91bdd1bcc56646dca324606f01e55545": {
      "model_module": "@jupyter-widgets/base",
      "model_module_version": "1.2.0",
      "model_name": "LayoutModel",
      "state": {}
     },
     "920ad49cc9814502b4c6e883eacdc49b": {
      "model_module": "@jupyter-widgets/base",
      "model_module_version": "1.2.0",
      "model_name": "LayoutModel",
      "state": {}
     },
     "9251cabe07e0428da7331d0b553ae285": {
      "model_module": "@jupyter-widgets/base",
      "model_module_version": "1.2.0",
      "model_name": "LayoutModel",
      "state": {}
     },
     "9258167462994e9dbe69ea9aef045d38": {
      "model_module": "@jupyter-widgets/controls",
      "model_module_version": "1.5.0",
      "model_name": "DescriptionStyleModel",
      "state": {
       "description_width": ""
      }
     },
     "933edfca127c41c3bd9944e467c48015": {
      "model_module": "jupyter-matplotlib",
      "model_module_version": "^0.7.2",
      "model_name": "MPLCanvasModel",
      "state": {
       "_cursor": "default",
       "_figure_label": "Figure 106",
       "_height": 300,
       "_message": "x=−2.16 y=1.044",
       "_width": 400,
       "header_visible": false,
       "layout": "IPY_MODEL_270a6fb15a124782bdcd773663c099b3",
       "toolbar": "IPY_MODEL_dc54e4052e9a4e6ba61925e9e728ba5e",
       "toolbar_position": "left"
      }
     },
     "93ce9988c13c4de397acf04552ff7c1e": {
      "model_module": "@jupyter-widgets/controls",
      "model_module_version": "1.5.0",
      "model_name": "HBoxModel",
      "state": {
       "children": [
        "IPY_MODEL_16cc40ef0f3a4f9396fe90cb49a16c39",
        "IPY_MODEL_8af56c93ec0f4475bc64e2945b1833af"
       ],
       "layout": "IPY_MODEL_483395213bb049689a37263e046fafd9"
      }
     },
     "9510d7fc49f94d87afb77ba3cc2f3dfd": {
      "model_module": "@jupyter-widgets/controls",
      "model_module_version": "1.5.0",
      "model_name": "ProgressStyleModel",
      "state": {
       "description_width": "initial"
      }
     },
     "9546ecf450d1464e826d43dab597d086": {
      "model_module": "@jupyter-widgets/base",
      "model_module_version": "1.2.0",
      "model_name": "LayoutModel",
      "state": {}
     },
     "957b1eeba0834f4db67be9f0feb5affc": {
      "model_module": "@jupyter-widgets/controls",
      "model_module_version": "1.5.0",
      "model_name": "HTMLModel",
      "state": {
       "layout": "IPY_MODEL_a93049c6239540168147c91c4c63ad4b",
       "style": "IPY_MODEL_2c7d3970c84747cc8e8661a5402a52f2",
       "value": " 1000/1000 [04:53&lt;00:00,  3.41it/s]"
      }
     },
     "9683f254bc134405919ea39f88fd56ac": {
      "model_module": "@jupyter-widgets/base",
      "model_module_version": "1.2.0",
      "model_name": "LayoutModel",
      "state": {}
     },
     "968ce3411d304968ac3d8e3dac2effc0": {
      "model_module": "@jupyter-widgets/controls",
      "model_module_version": "1.5.0",
      "model_name": "FloatProgressModel",
      "state": {
       "bar_style": "success",
       "description": "100%",
       "layout": "IPY_MODEL_dc830476572b4901b537998f52c119ac",
       "max": 1000,
       "style": "IPY_MODEL_3137b3f30da24f8085c9978787a6a54b",
       "value": 1000
      }
     },
     "969af8caeee946c78a7862dbad06d873": {
      "model_module": "@jupyter-widgets/base",
      "model_module_version": "1.2.0",
      "model_name": "LayoutModel",
      "state": {}
     },
     "971b092e64b04af08dda473b31b2f89e": {
      "model_module": "@jupyter-widgets/controls",
      "model_module_version": "1.5.0",
      "model_name": "FloatProgressModel",
      "state": {
       "bar_style": "success",
       "description": "100%",
       "layout": "IPY_MODEL_dd15b41f87f84b0485385dbf7794a972",
       "max": 1000,
       "style": "IPY_MODEL_74ba582d2dc14b7397ed7f8f60bcefe6",
       "value": 1000
      }
     },
     "974551532c4e434e90ab00cc46532762": {
      "model_module": "@jupyter-widgets/controls",
      "model_module_version": "1.5.0",
      "model_name": "ProgressStyleModel",
      "state": {
       "description_width": "initial"
      }
     },
     "97ee7d2af23047e99cbace73e2a4fce8": {
      "model_module": "jupyter-matplotlib",
      "model_module_version": "^0.7.2",
      "model_name": "MPLCanvasModel",
      "state": {
       "_cursor": "default",
       "_figure_label": "Figure 62",
       "_height": 200,
       "_width": 600,
       "header_visible": false,
       "layout": "IPY_MODEL_e9c5cbdb4d5446828916677280e8bb04",
       "toolbar": "IPY_MODEL_cd357686b50e4762891c4a3153017c65",
       "toolbar_position": "left"
      }
     },
     "98417a6d36514057bcfb530fe54a04d7": {
      "model_module": "jupyter-matplotlib",
      "model_module_version": "^0.7.2",
      "model_name": "ToolbarModel",
      "state": {
       "layout": "IPY_MODEL_8097f8c46025450bbca33cf66c6db889",
       "toolitems": [
        [
         "Home",
         "Reset original view",
         "home",
         "home"
        ],
        [
         "Back",
         "Back to previous view",
         "arrow-left",
         "back"
        ],
        [
         "Forward",
         "Forward to next view",
         "arrow-right",
         "forward"
        ],
        [
         "Pan",
         "Left button pans, Right button zooms\nx/y fixes axis, CTRL fixes aspect",
         "arrows",
         "pan"
        ],
        [
         "Zoom",
         "Zoom to rectangle\nx/y fixes axis, CTRL fixes aspect",
         "square-o",
         "zoom"
        ],
        [
         "Download",
         "Download plot",
         "floppy-o",
         "save_figure"
        ]
       ]
      }
     },
     "9878c6ed916742b8a8af4860044335fb": {
      "model_module": "@jupyter-widgets/controls",
      "model_module_version": "1.5.0",
      "model_name": "HTMLModel",
      "state": {
       "layout": "IPY_MODEL_60eb5269d50b4eb995c7a1d9e4161dbc",
       "style": "IPY_MODEL_47a34d764e8242329ef115d80f254fde",
       "value": " 1000/1000 [11:51&lt;00:00,  1.40it/s]"
      }
     },
     "988b002f962f494db9cc4d20a22299c5": {
      "model_module": "@jupyter-widgets/base",
      "model_module_version": "1.2.0",
      "model_name": "LayoutModel",
      "state": {}
     },
     "989d425fb43244c9bfbf4836e094713e": {
      "model_module": "@jupyter-widgets/controls",
      "model_module_version": "1.5.0",
      "model_name": "DescriptionStyleModel",
      "state": {
       "description_width": ""
      }
     },
     "98aa23c8af2242139fa1c9186aef41b3": {
      "model_module": "jupyter-matplotlib",
      "model_module_version": "^0.7.2",
      "model_name": "ToolbarModel",
      "state": {
       "layout": "IPY_MODEL_a59c280e4c9e4495984f266243f84ed0",
       "toolitems": [
        [
         "Home",
         "Reset original view",
         "home",
         "home"
        ],
        [
         "Back",
         "Back to previous view",
         "arrow-left",
         "back"
        ],
        [
         "Forward",
         "Forward to next view",
         "arrow-right",
         "forward"
        ],
        [
         "Pan",
         "Left button pans, Right button zooms\nx/y fixes axis, CTRL fixes aspect",
         "arrows",
         "pan"
        ],
        [
         "Zoom",
         "Zoom to rectangle\nx/y fixes axis, CTRL fixes aspect",
         "square-o",
         "zoom"
        ],
        [
         "Download",
         "Download plot",
         "floppy-o",
         "save_figure"
        ]
       ]
      }
     },
     "98f21c9aa4104cbe90701d495c1a0e20": {
      "model_module": "jupyter-matplotlib",
      "model_module_version": "^0.7.2",
      "model_name": "MPLCanvasModel",
      "state": {
       "_cursor": "default",
       "_figure_label": "Figure 25",
       "_height": 200,
       "_width": 800,
       "header_visible": false,
       "layout": "IPY_MODEL_a971614d4fd545f681143f13c542400d",
       "toolbar": "IPY_MODEL_b0baf0cd8c0f467d8229ce3f245d1324",
       "toolbar_position": "left"
      }
     },
     "99eca09a4d0f44eaa2914afd538d35f7": {
      "model_module": "jupyter-matplotlib",
      "model_module_version": "^0.7.2",
      "model_name": "MPLCanvasModel",
      "state": {
       "_cursor": "default",
       "_figure_label": "Figure 7",
       "_height": 200,
       "_width": 600,
       "header_visible": false,
       "layout": "IPY_MODEL_e1a4efa6227c4794822b1b174a3e9721",
       "toolbar": "IPY_MODEL_c60e02a39164480f9ec7e64b2fca2365",
       "toolbar_position": "left"
      }
     },
     "9a20cdc32e0c4996b8037e59844ee203": {
      "model_module": "@jupyter-widgets/controls",
      "model_module_version": "1.5.0",
      "model_name": "HBoxModel",
      "state": {
       "children": [
        "IPY_MODEL_02daa6d4c32b40e19d1a1be49e503668",
        "IPY_MODEL_2ba2b3ca7c8842d482aee5f916ce9573"
       ],
       "layout": "IPY_MODEL_0bf585e2797b43ffb7c7bfec9fe8c690"
      }
     },
     "9a591b2e284a4e14b94bdd8aa9fac561": {
      "model_module": "@jupyter-widgets/base",
      "model_module_version": "1.2.0",
      "model_name": "LayoutModel",
      "state": {}
     },
     "9a775834741a46c697de4aa84b0abd45": {
      "model_module": "@jupyter-widgets/base",
      "model_module_version": "1.2.0",
      "model_name": "LayoutModel",
      "state": {}
     },
     "9a931a3fbedd4470b9edae7eecae5749": {
      "model_module": "jupyter-matplotlib",
      "model_module_version": "^0.7.2",
      "model_name": "ToolbarModel",
      "state": {
       "layout": "IPY_MODEL_497207d6ca8d40c58083c7b3e30aa555",
       "toolitems": [
        [
         "Home",
         "Reset original view",
         "home",
         "home"
        ],
        [
         "Back",
         "Back to previous view",
         "arrow-left",
         "back"
        ],
        [
         "Forward",
         "Forward to next view",
         "arrow-right",
         "forward"
        ],
        [
         "Pan",
         "Left button pans, Right button zooms\nx/y fixes axis, CTRL fixes aspect",
         "arrows",
         "pan"
        ],
        [
         "Zoom",
         "Zoom to rectangle\nx/y fixes axis, CTRL fixes aspect",
         "square-o",
         "zoom"
        ],
        [
         "Download",
         "Download plot",
         "floppy-o",
         "save_figure"
        ]
       ]
      }
     },
     "9ae2d6f22977482eb83a5eb1cb073313": {
      "model_module": "jupyter-matplotlib",
      "model_module_version": "^0.7.2",
      "model_name": "MPLCanvasModel",
      "state": {
       "_cursor": "default",
       "_figure_label": "Figure 56",
       "_height": 200,
       "_message": "x=0.903 y=128.",
       "_width": 600,
       "header_visible": false,
       "layout": "IPY_MODEL_8f71ca7a42b44775b3a335d68646f0d3",
       "toolbar": "IPY_MODEL_8b9de11091c544cf9b9deb625a500e8f",
       "toolbar_position": "left"
      }
     },
     "9b0287d9251e4b8aa0536ad7625b2987": {
      "model_module": "jupyter-matplotlib",
      "model_module_version": "^0.7.2",
      "model_name": "ToolbarModel",
      "state": {
       "layout": "IPY_MODEL_969af8caeee946c78a7862dbad06d873",
       "toolitems": [
        [
         "Home",
         "Reset original view",
         "home",
         "home"
        ],
        [
         "Back",
         "Back to previous view",
         "arrow-left",
         "back"
        ],
        [
         "Forward",
         "Forward to next view",
         "arrow-right",
         "forward"
        ],
        [
         "Pan",
         "Left button pans, Right button zooms\nx/y fixes axis, CTRL fixes aspect",
         "arrows",
         "pan"
        ],
        [
         "Zoom",
         "Zoom to rectangle\nx/y fixes axis, CTRL fixes aspect",
         "square-o",
         "zoom"
        ],
        [
         "Download",
         "Download plot",
         "floppy-o",
         "save_figure"
        ]
       ]
      }
     },
     "9b4ece109c35443ea8a2993176260255": {
      "model_module": "jupyter-matplotlib",
      "model_module_version": "^0.7.2",
      "model_name": "ToolbarModel",
      "state": {
       "layout": "IPY_MODEL_e0de26580a42422883e93b543d524716",
       "toolitems": [
        [
         "Home",
         "Reset original view",
         "home",
         "home"
        ],
        [
         "Back",
         "Back to previous view",
         "arrow-left",
         "back"
        ],
        [
         "Forward",
         "Forward to next view",
         "arrow-right",
         "forward"
        ],
        [
         "Pan",
         "Left button pans, Right button zooms\nx/y fixes axis, CTRL fixes aspect",
         "arrows",
         "pan"
        ],
        [
         "Zoom",
         "Zoom to rectangle\nx/y fixes axis, CTRL fixes aspect",
         "square-o",
         "zoom"
        ],
        [
         "Download",
         "Download plot",
         "floppy-o",
         "save_figure"
        ]
       ]
      }
     },
     "9b7ffee475d64ffc9d35094c53e827f4": {
      "model_module": "@jupyter-widgets/controls",
      "model_module_version": "1.5.0",
      "model_name": "HTMLModel",
      "state": {
       "layout": "IPY_MODEL_5b672b8e3a5f406eb90009f52d9d5b77",
       "style": "IPY_MODEL_7b7051184698459b83596f9692db1c9f",
       "value": " 1000/1000 [03:18&lt;00:00,  5.03it/s]"
      }
     },
     "9bf3f315f2314aa591c2e670f33b7772": {
      "model_module": "@jupyter-widgets/base",
      "model_module_version": "1.2.0",
      "model_name": "LayoutModel",
      "state": {}
     },
     "9c1038ed9ede49289f1d870484581ee8": {
      "model_module": "jupyter-matplotlib",
      "model_module_version": "^0.7.2",
      "model_name": "ToolbarModel",
      "state": {
       "layout": "IPY_MODEL_6c1c8c63d6d24765bbc8ecc79adc6cf1",
       "toolitems": [
        [
         "Home",
         "Reset original view",
         "home",
         "home"
        ],
        [
         "Back",
         "Back to previous view",
         "arrow-left",
         "back"
        ],
        [
         "Forward",
         "Forward to next view",
         "arrow-right",
         "forward"
        ],
        [
         "Pan",
         "Left button pans, Right button zooms\nx/y fixes axis, CTRL fixes aspect",
         "arrows",
         "pan"
        ],
        [
         "Zoom",
         "Zoom to rectangle\nx/y fixes axis, CTRL fixes aspect",
         "square-o",
         "zoom"
        ],
        [
         "Download",
         "Download plot",
         "floppy-o",
         "save_figure"
        ]
       ]
      }
     },
     "9c245eeb6a5546e7bf31f7b74068e9f6": {
      "model_module": "@jupyter-widgets/base",
      "model_module_version": "1.2.0",
      "model_name": "LayoutModel",
      "state": {}
     },
     "9cf2a8e02a37488d8eb7b52dfcf05c34": {
      "model_module": "@jupyter-widgets/base",
      "model_module_version": "1.2.0",
      "model_name": "LayoutModel",
      "state": {}
     },
     "9d863b2044f348a9ad1f7851a5db49be": {
      "model_module": "@jupyter-widgets/base",
      "model_module_version": "1.2.0",
      "model_name": "LayoutModel",
      "state": {}
     },
     "9ef99fbdf8784523827d99dcb27173cf": {
      "model_module": "@jupyter-widgets/base",
      "model_module_version": "1.2.0",
      "model_name": "LayoutModel",
      "state": {}
     },
     "9f73a27b425844808dbb5e8d52fe4c34": {
      "model_module": "@jupyter-widgets/controls",
      "model_module_version": "1.5.0",
      "model_name": "DescriptionStyleModel",
      "state": {
       "description_width": ""
      }
     },
     "9f96fb82cf2048fd985ccefda88c66bc": {
      "model_module": "jupyter-matplotlib",
      "model_module_version": "^0.7.2",
      "model_name": "MPLCanvasModel",
      "state": {
       "_cursor": "default",
       "_figure_label": "Figure 71",
       "_height": 200,
       "_message": "x=0.0376 y=39.4",
       "_width": 600,
       "header_visible": false,
       "layout": "IPY_MODEL_b0ae8c7372df41cd937eb51ff5b9ffab",
       "toolbar": "IPY_MODEL_d737d3782e6b4fa9b54efaa663905939",
       "toolbar_position": "left"
      }
     },
     "9ffef29e048f443a8322f496deef2536": {
      "model_module": "@jupyter-widgets/controls",
      "model_module_version": "1.5.0",
      "model_name": "HBoxModel",
      "state": {
       "children": [
        "IPY_MODEL_135fbb3aed274995bcd8e1e9d990467e",
        "IPY_MODEL_7583ff5a39bf49b08b77a50345602a6e"
       ],
       "layout": "IPY_MODEL_4d97f15356574e8f82e0f448ff0db2b5"
      }
     },
     "a0334948fc664f69bb0b0320fbc24030": {
      "model_module": "@jupyter-widgets/base",
      "model_module_version": "1.2.0",
      "model_name": "LayoutModel",
      "state": {}
     },
     "a03e6afee5344f94ab92cf6821b69d8f": {
      "model_module": "jupyter-matplotlib",
      "model_module_version": "^0.7.2",
      "model_name": "MPLCanvasModel",
      "state": {
       "_cursor": "default",
       "_figure_label": "Figure 82",
       "_height": 200,
       "_width": 600,
       "header_visible": false,
       "layout": "IPY_MODEL_521270048d054914ad94333d078c2509",
       "toolbar": "IPY_MODEL_9c1038ed9ede49289f1d870484581ee8",
       "toolbar_position": "left"
      }
     },
     "a1abada6fce34e00b09e3894ae4cc0ec": {
      "model_module": "jupyter-matplotlib",
      "model_module_version": "^0.7.2",
      "model_name": "MPLCanvasModel",
      "state": {
       "_cursor": "default",
       "_figure_label": "Figure 1",
       "_height": 229,
       "_width": 229,
       "header_visible": false,
       "layout": "IPY_MODEL_f7e64bb40a734e00ada4c532d075d719",
       "toolbar": "IPY_MODEL_5d18bafc3d0d40aeb78719257a5a4b59",
       "toolbar_position": "left"
      }
     },
     "a2c0440b85b84478980b61b4a5a93f57": {
      "model_module": "@jupyter-widgets/controls",
      "model_module_version": "1.5.0",
      "model_name": "HTMLModel",
      "state": {
       "layout": "IPY_MODEL_e31cee19c8934b0193a63bb75eeccadf",
       "style": "IPY_MODEL_1d69b4cfe95b420bbd5b1bd5fe8d9489",
       "value": " 100/100 [02:49&lt;00:00,  1.70s/it]"
      }
     },
     "a2d32cbdec3d4d1ea8195ee58108bcb1": {
      "model_module": "@jupyter-widgets/controls",
      "model_module_version": "1.5.0",
      "model_name": "HBoxModel",
      "state": {
       "children": [
        "IPY_MODEL_757b3cf65dc64bddb6f5c39d240e9394",
        "IPY_MODEL_fc07b5fab4334654a8271e02854facbe"
       ],
       "layout": "IPY_MODEL_51aeac31a1eb4b6da8c0b56ed0b6da27"
      }
     },
     "a2f150b570964bada743490c3877dc59": {
      "model_module": "jupyter-matplotlib",
      "model_module_version": "^0.7.2",
      "model_name": "ToolbarModel",
      "state": {
       "layout": "IPY_MODEL_d5ce65f173174e8d98cfd79a49182057",
       "toolitems": [
        [
         "Home",
         "Reset original view",
         "home",
         "home"
        ],
        [
         "Back",
         "Back to previous view",
         "arrow-left",
         "back"
        ],
        [
         "Forward",
         "Forward to next view",
         "arrow-right",
         "forward"
        ],
        [
         "Pan",
         "Left button pans, Right button zooms\nx/y fixes axis, CTRL fixes aspect",
         "arrows",
         "pan"
        ],
        [
         "Zoom",
         "Zoom to rectangle\nx/y fixes axis, CTRL fixes aspect",
         "square-o",
         "zoom"
        ],
        [
         "Download",
         "Download plot",
         "floppy-o",
         "save_figure"
        ]
       ]
      }
     },
     "a354f108b9704e1781b3c5d8753bb0fa": {
      "model_module": "jupyter-matplotlib",
      "model_module_version": "^0.7.2",
      "model_name": "ToolbarModel",
      "state": {
       "layout": "IPY_MODEL_cdf0a18c482f45b696f428c6f61fda96",
       "toolitems": [
        [
         "Home",
         "Reset original view",
         "home",
         "home"
        ],
        [
         "Back",
         "Back to previous view",
         "arrow-left",
         "back"
        ],
        [
         "Forward",
         "Forward to next view",
         "arrow-right",
         "forward"
        ],
        [
         "Pan",
         "Left button pans, Right button zooms\nx/y fixes axis, CTRL fixes aspect",
         "arrows",
         "pan"
        ],
        [
         "Zoom",
         "Zoom to rectangle\nx/y fixes axis, CTRL fixes aspect",
         "square-o",
         "zoom"
        ],
        [
         "Download",
         "Download plot",
         "floppy-o",
         "save_figure"
        ]
       ]
      }
     },
     "a3d2b05661864fbfafd273dec1c61d6a": {
      "model_module": "@jupyter-widgets/controls",
      "model_module_version": "1.5.0",
      "model_name": "HBoxModel",
      "state": {
       "children": [
        "IPY_MODEL_fd63058b824c4e3ca5a611e3d2b217db",
        "IPY_MODEL_149507e51d66445993c95905894507be"
       ],
       "layout": "IPY_MODEL_af96d653d1174c4eb362af1217ee4d78"
      }
     },
     "a51ddb581c914acf8b5386bd6acbca3c": {
      "model_module": "@jupyter-widgets/base",
      "model_module_version": "1.2.0",
      "model_name": "LayoutModel",
      "state": {}
     },
     "a59c280e4c9e4495984f266243f84ed0": {
      "model_module": "@jupyter-widgets/base",
      "model_module_version": "1.2.0",
      "model_name": "LayoutModel",
      "state": {}
     },
     "a5c6b2932b1d47c68bca4271a9109074": {
      "model_module": "@jupyter-widgets/base",
      "model_module_version": "1.2.0",
      "model_name": "LayoutModel",
      "state": {}
     },
     "a5c70d13ab214fab907db1efacbacc89": {
      "model_module": "@jupyter-widgets/base",
      "model_module_version": "1.2.0",
      "model_name": "LayoutModel",
      "state": {}
     },
     "a650c4140c6f4b57902c07de528ca519": {
      "model_module": "@jupyter-widgets/base",
      "model_module_version": "1.2.0",
      "model_name": "LayoutModel",
      "state": {}
     },
     "a6823b34e2ff4c6f8a13267faed351d2": {
      "model_module": "@jupyter-widgets/base",
      "model_module_version": "1.2.0",
      "model_name": "LayoutModel",
      "state": {}
     },
     "a6982964a27f451b9ed6325eca23b59a": {
      "model_module": "@jupyter-widgets/base",
      "model_module_version": "1.2.0",
      "model_name": "LayoutModel",
      "state": {}
     },
     "a6de0b29c8df4febb90fa8925781b677": {
      "model_module": "@jupyter-widgets/base",
      "model_module_version": "1.2.0",
      "model_name": "LayoutModel",
      "state": {}
     },
     "a708f81eb71d4990be9b6b1d33e54bf5": {
      "model_module": "@jupyter-widgets/controls",
      "model_module_version": "1.5.0",
      "model_name": "HBoxModel",
      "state": {
       "children": [
        "IPY_MODEL_0da9e7df19ee433ebd7018bd03ac804f",
        "IPY_MODEL_40c0ca0d4f7a478ebb312924ee854895"
       ],
       "layout": "IPY_MODEL_2ca92d2837f44e1c96b977943f8e55bf"
      }
     },
     "a739e6ffb8684b7490197acab4a49bff": {
      "model_module": "jupyter-matplotlib",
      "model_module_version": "^0.7.2",
      "model_name": "MPLCanvasModel",
      "state": {
       "_cursor": "default",
       "_figure_label": "Figure 16",
       "_height": 200,
       "_width": 800,
       "header_visible": false,
       "layout": "IPY_MODEL_c843be831d6c4e249c491a81246fefcd",
       "toolbar": "IPY_MODEL_d3aa93bc346042da9196e84dca82fc38",
       "toolbar_position": "left"
      }
     },
     "a75963d81957474297c4713f00ea8557": {
      "model_module": "@jupyter-widgets/base",
      "model_module_version": "1.2.0",
      "model_name": "LayoutModel",
      "state": {}
     },
     "a76d8316fb664f8da97d0efe277c7c09": {
      "model_module": "@jupyter-widgets/controls",
      "model_module_version": "1.5.0",
      "model_name": "DescriptionStyleModel",
      "state": {
       "description_width": ""
      }
     },
     "a78febc54b754ea0be8730ef1ca3922b": {
      "model_module": "jupyter-matplotlib",
      "model_module_version": "^0.7.2",
      "model_name": "ToolbarModel",
      "state": {
       "layout": "IPY_MODEL_42c3a4c0ed2145348619d5de2a8b1600",
       "toolitems": [
        [
         "Home",
         "Reset original view",
         "home",
         "home"
        ],
        [
         "Back",
         "Back to previous view",
         "arrow-left",
         "back"
        ],
        [
         "Forward",
         "Forward to next view",
         "arrow-right",
         "forward"
        ],
        [
         "Pan",
         "Left button pans, Right button zooms\nx/y fixes axis, CTRL fixes aspect",
         "arrows",
         "pan"
        ],
        [
         "Zoom",
         "Zoom to rectangle\nx/y fixes axis, CTRL fixes aspect",
         "square-o",
         "zoom"
        ],
        [
         "Download",
         "Download plot",
         "floppy-o",
         "save_figure"
        ]
       ]
      }
     },
     "a7a2f9fa8435442db68f8d549f570548": {
      "model_module": "@jupyter-widgets/base",
      "model_module_version": "1.2.0",
      "model_name": "LayoutModel",
      "state": {}
     },
     "a7d95b6f29304b308c881bf8b4d7e0c1": {
      "model_module": "@jupyter-widgets/base",
      "model_module_version": "1.2.0",
      "model_name": "LayoutModel",
      "state": {}
     },
     "a9060ea3743040d3a8e6136d2dd5b70b": {
      "model_module": "jupyter-matplotlib",
      "model_module_version": "^0.7.2",
      "model_name": "MPLCanvasModel",
      "state": {
       "_cursor": "default",
       "_figure_label": "Figure 15",
       "_height": 400,
       "_image_mode": "diff",
       "_message": "zoom rect",
       "_rubberband_y": 400,
       "_width": 700,
       "header_visible": false,
       "layout": "IPY_MODEL_9546ecf450d1464e826d43dab597d086",
       "toolbar": "IPY_MODEL_5c2b0d340f0b4af4a558c1a3bda0aeee",
       "toolbar_position": "left"
      }
     },
     "a90b228121d341e684c030be4bc15a4e": {
      "model_module": "@jupyter-widgets/base",
      "model_module_version": "1.2.0",
      "model_name": "LayoutModel",
      "state": {}
     },
     "a93049c6239540168147c91c4c63ad4b": {
      "model_module": "@jupyter-widgets/base",
      "model_module_version": "1.2.0",
      "model_name": "LayoutModel",
      "state": {}
     },
     "a971614d4fd545f681143f13c542400d": {
      "model_module": "@jupyter-widgets/base",
      "model_module_version": "1.2.0",
      "model_name": "LayoutModel",
      "state": {}
     },
     "aa580b44f9a946759bd860bd35defbb2": {
      "model_module": "@jupyter-widgets/base",
      "model_module_version": "1.2.0",
      "model_name": "LayoutModel",
      "state": {}
     },
     "aaafa131c2a64184a5a45612dff1997e": {
      "model_module": "@jupyter-widgets/base",
      "model_module_version": "1.2.0",
      "model_name": "LayoutModel",
      "state": {}
     },
     "ad06bac7c17c45aab5ffea4d9b3aada9": {
      "model_module": "@jupyter-widgets/base",
      "model_module_version": "1.2.0",
      "model_name": "LayoutModel",
      "state": {}
     },
     "ad63747cdcea4de299c3067a0fb1c21f": {
      "model_module": "jupyter-matplotlib",
      "model_module_version": "^0.7.2",
      "model_name": "ToolbarModel",
      "state": {
       "layout": "IPY_MODEL_fd35eca5302f40aab382a2849fa2950c",
       "toolitems": [
        [
         "Home",
         "Reset original view",
         "home",
         "home"
        ],
        [
         "Back",
         "Back to previous view",
         "arrow-left",
         "back"
        ],
        [
         "Forward",
         "Forward to next view",
         "arrow-right",
         "forward"
        ],
        [
         "Pan",
         "Left button pans, Right button zooms\nx/y fixes axis, CTRL fixes aspect",
         "arrows",
         "pan"
        ],
        [
         "Zoom",
         "Zoom to rectangle\nx/y fixes axis, CTRL fixes aspect",
         "square-o",
         "zoom"
        ],
        [
         "Download",
         "Download plot",
         "floppy-o",
         "save_figure"
        ]
       ]
      }
     },
     "ae50bda87fc24308838605aa4a0fb788": {
      "model_module": "jupyter-matplotlib",
      "model_module_version": "^0.7.2",
      "model_name": "MPLCanvasModel",
      "state": {
       "_cursor": "default",
       "_figure_label": "Figure 48",
       "_height": 200,
       "_width": 600,
       "header_visible": false,
       "layout": "IPY_MODEL_749bd9429d674d36a6f948e3a692c573",
       "toolbar": "IPY_MODEL_9b0287d9251e4b8aa0536ad7625b2987",
       "toolbar_position": "left"
      }
     },
     "aec80b83eb64449084d6b3629bc076ea": {
      "model_module": "@jupyter-widgets/controls",
      "model_module_version": "1.5.0",
      "model_name": "HTMLModel",
      "state": {
       "layout": "IPY_MODEL_877af59715204fcba0d5f45dd79b2764",
       "style": "IPY_MODEL_d80d561bcfc6464ca52435ec6e66c923",
       "value": " 1000/1000 [05:54&lt;00:00,  2.82it/s]"
      }
     },
     "aee4c83ec6d0482a85d2f6e90d33bff0": {
      "model_module": "@jupyter-widgets/base",
      "model_module_version": "1.2.0",
      "model_name": "LayoutModel",
      "state": {}
     },
     "af18b618ff444fb5be2c888a0baaade5": {
      "model_module": "jupyter-matplotlib",
      "model_module_version": "^0.7.2",
      "model_name": "MPLCanvasModel",
      "state": {
       "_cursor": "default",
       "_figure_label": "Figure 103",
       "_height": 300,
       "_width": 400,
       "header_visible": false,
       "layout": "IPY_MODEL_c956c83b97b243a5954c3bd3d4348d00",
       "toolbar": "IPY_MODEL_f3f26d6d7200438fa28f161a1f368fee",
       "toolbar_position": "left"
      }
     },
     "af214cd732554d589ea966ba486eb24d": {
      "model_module": "@jupyter-widgets/base",
      "model_module_version": "1.2.0",
      "model_name": "LayoutModel",
      "state": {}
     },
     "af73d798d9bb4201b9ac07144c2c8c31": {
      "model_module": "@jupyter-widgets/controls",
      "model_module_version": "1.5.0",
      "model_name": "HBoxModel",
      "state": {
       "children": [
        "IPY_MODEL_37260a080a654414be1d4cf27465e43c",
        "IPY_MODEL_56794b5386ba46e99b15b1a686eda576"
       ],
       "layout": "IPY_MODEL_5019eee7bb6c4ebe978629b3227b44c2"
      }
     },
     "af7cda5491174fc7a62943ca4a2fdb1e": {
      "model_module": "jupyter-matplotlib",
      "model_module_version": "^0.7.2",
      "model_name": "ToolbarModel",
      "state": {
       "layout": "IPY_MODEL_461961949e434e61af48836e1c30ff40",
       "toolitems": [
        [
         "Home",
         "Reset original view",
         "home",
         "home"
        ],
        [
         "Back",
         "Back to previous view",
         "arrow-left",
         "back"
        ],
        [
         "Forward",
         "Forward to next view",
         "arrow-right",
         "forward"
        ],
        [
         "Pan",
         "Left button pans, Right button zooms\nx/y fixes axis, CTRL fixes aspect",
         "arrows",
         "pan"
        ],
        [
         "Zoom",
         "Zoom to rectangle\nx/y fixes axis, CTRL fixes aspect",
         "square-o",
         "zoom"
        ],
        [
         "Download",
         "Download plot",
         "floppy-o",
         "save_figure"
        ]
       ]
      }
     },
     "af96d653d1174c4eb362af1217ee4d78": {
      "model_module": "@jupyter-widgets/base",
      "model_module_version": "1.2.0",
      "model_name": "LayoutModel",
      "state": {}
     },
     "afb3139b7e4344da8095332ff2a722af": {
      "model_module": "@jupyter-widgets/controls",
      "model_module_version": "1.5.0",
      "model_name": "DescriptionStyleModel",
      "state": {
       "description_width": ""
      }
     },
     "b0043bb589b84ddbbd34b8fe4f7bd9c0": {
      "model_module": "jupyter-matplotlib",
      "model_module_version": "^0.7.2",
      "model_name": "ToolbarModel",
      "state": {
       "layout": "IPY_MODEL_73ff1c3e83774adda4814ae964c93dd0",
       "toolitems": [
        [
         "Home",
         "Reset original view",
         "home",
         "home"
        ],
        [
         "Back",
         "Back to previous view",
         "arrow-left",
         "back"
        ],
        [
         "Forward",
         "Forward to next view",
         "arrow-right",
         "forward"
        ],
        [
         "Pan",
         "Left button pans, Right button zooms\nx/y fixes axis, CTRL fixes aspect",
         "arrows",
         "pan"
        ],
        [
         "Zoom",
         "Zoom to rectangle\nx/y fixes axis, CTRL fixes aspect",
         "square-o",
         "zoom"
        ],
        [
         "Download",
         "Download plot",
         "floppy-o",
         "save_figure"
        ]
       ]
      }
     },
     "b04b1c099ced484d891fcfc65b596559": {
      "model_module": "@jupyter-widgets/base",
      "model_module_version": "1.2.0",
      "model_name": "LayoutModel",
      "state": {}
     },
     "b0798bb1578949c5a73b9960e2e6fa9a": {
      "model_module": "@jupyter-widgets/controls",
      "model_module_version": "1.5.0",
      "model_name": "HBoxModel",
      "state": {
       "children": [
        "IPY_MODEL_f28902ffd1f64294aad3e5674fb9590d",
        "IPY_MODEL_5b2c7f66fb7a44a8a05e5e7bab75a3a0"
       ],
       "layout": "IPY_MODEL_df936bb2be4f4edda0fc436ac015b3a8"
      }
     },
     "b09af989096a429885e9c9386c32bc2c": {
      "model_module": "@jupyter-widgets/base",
      "model_module_version": "1.2.0",
      "model_name": "LayoutModel",
      "state": {}
     },
     "b09c5146c1f946feac92b1714790f32e": {
      "model_module": "@jupyter-widgets/base",
      "model_module_version": "1.2.0",
      "model_name": "LayoutModel",
      "state": {}
     },
     "b0ae8c7372df41cd937eb51ff5b9ffab": {
      "model_module": "@jupyter-widgets/base",
      "model_module_version": "1.2.0",
      "model_name": "LayoutModel",
      "state": {}
     },
     "b0baf0cd8c0f467d8229ce3f245d1324": {
      "model_module": "jupyter-matplotlib",
      "model_module_version": "^0.7.2",
      "model_name": "ToolbarModel",
      "state": {
       "layout": "IPY_MODEL_85336ccc46c54f2fbe4df1a2a443e3a8",
       "toolitems": [
        [
         "Home",
         "Reset original view",
         "home",
         "home"
        ],
        [
         "Back",
         "Back to previous view",
         "arrow-left",
         "back"
        ],
        [
         "Forward",
         "Forward to next view",
         "arrow-right",
         "forward"
        ],
        [
         "Pan",
         "Left button pans, Right button zooms\nx/y fixes axis, CTRL fixes aspect",
         "arrows",
         "pan"
        ],
        [
         "Zoom",
         "Zoom to rectangle\nx/y fixes axis, CTRL fixes aspect",
         "square-o",
         "zoom"
        ],
        [
         "Download",
         "Download plot",
         "floppy-o",
         "save_figure"
        ]
       ]
      }
     },
     "b118d0873b354ec7b27fb145cd3590a7": {
      "model_module": "jupyter-matplotlib",
      "model_module_version": "^0.7.2",
      "model_name": "MPLCanvasModel",
      "state": {
       "_cursor": "default",
       "_figure_label": "Figure 102",
       "_height": 300,
       "_width": 400,
       "header_visible": false,
       "layout": "IPY_MODEL_35b61996be8a49fb86fea3c7e94292e1",
       "toolbar": "IPY_MODEL_3c2752742e9d419dac6ac82f5a732e7c",
       "toolbar_position": "left"
      }
     },
     "b11b033961634498bd67a752762f1c3d": {
      "model_module": "@jupyter-widgets/controls",
      "model_module_version": "1.5.0",
      "model_name": "FloatProgressModel",
      "state": {
       "bar_style": "success",
       "description": "100%",
       "layout": "IPY_MODEL_a5c70d13ab214fab907db1efacbacc89",
       "max": 1000,
       "style": "IPY_MODEL_656fcca4dd614cd1b87d3bbdcb608b28",
       "value": 1000
      }
     },
     "b190f175aee94f67a77133cdf166ee39": {
      "model_module": "@jupyter-widgets/controls",
      "model_module_version": "1.5.0",
      "model_name": "ProgressStyleModel",
      "state": {
       "description_width": "initial"
      }
     },
     "b29af9f7c09149febe5996506cd0b2ff": {
      "model_module": "jupyter-matplotlib",
      "model_module_version": "^0.7.2",
      "model_name": "ToolbarModel",
      "state": {
       "layout": "IPY_MODEL_9cf2a8e02a37488d8eb7b52dfcf05c34",
       "toolitems": [
        [
         "Home",
         "Reset original view",
         "home",
         "home"
        ],
        [
         "Back",
         "Back to previous view",
         "arrow-left",
         "back"
        ],
        [
         "Forward",
         "Forward to next view",
         "arrow-right",
         "forward"
        ],
        [
         "Pan",
         "Left button pans, Right button zooms\nx/y fixes axis, CTRL fixes aspect",
         "arrows",
         "pan"
        ],
        [
         "Zoom",
         "Zoom to rectangle\nx/y fixes axis, CTRL fixes aspect",
         "square-o",
         "zoom"
        ],
        [
         "Download",
         "Download plot",
         "floppy-o",
         "save_figure"
        ]
       ]
      }
     },
     "b32f13eabed84d8e9da0f4ac8e41778c": {
      "model_module": "@jupyter-widgets/base",
      "model_module_version": "1.2.0",
      "model_name": "LayoutModel",
      "state": {}
     },
     "b367ff1bc91649578cd754b5a0e2e211": {
      "model_module": "jupyter-matplotlib",
      "model_module_version": "^0.7.2",
      "model_name": "MPLCanvasModel",
      "state": {
       "_cursor": "default",
       "_figure_label": "Figure 41",
       "_height": 200,
       "_message": "x=1.65 y=40.5",
       "_width": 600,
       "header_visible": false,
       "layout": "IPY_MODEL_5d42950614af487da328d4c28b9c77f1",
       "toolbar": "IPY_MODEL_599902139f314bceb00585980e3fd5cb",
       "toolbar_position": "left"
      }
     },
     "b385b8065e454d499490eb59e0c7f6b1": {
      "model_module": "@jupyter-widgets/controls",
      "model_module_version": "1.5.0",
      "model_name": "HBoxModel",
      "state": {
       "children": [
        "IPY_MODEL_7f442e6c859c45888ee5e9d3343ab5b2",
        "IPY_MODEL_d7d4eeb1e93047b7a00aababb148d627"
       ],
       "layout": "IPY_MODEL_91bdd1bcc56646dca324606f01e55545"
      }
     },
     "b3ba7893c2494e618e7b65df6fd5311d": {
      "model_module": "@jupyter-widgets/base",
      "model_module_version": "1.2.0",
      "model_name": "LayoutModel",
      "state": {}
     },
     "b3c3e705d4294bc4aa80a9a626813077": {
      "model_module": "@jupyter-widgets/base",
      "model_module_version": "1.2.0",
      "model_name": "LayoutModel",
      "state": {}
     },
     "b42df97fe43b4aa5adc73baf505bc2b6": {
      "model_module": "@jupyter-widgets/controls",
      "model_module_version": "1.5.0",
      "model_name": "HBoxModel",
      "state": {
       "children": [
        "IPY_MODEL_971b092e64b04af08dda473b31b2f89e",
        "IPY_MODEL_c1eddd5c9d034990b20daff41ccc9cd3"
       ],
       "layout": "IPY_MODEL_b9dfb01cfcb942f79b20e094ca98f1a3"
      }
     },
     "b44d90cc21ef4e3e9ed518515c577811": {
      "model_module": "@jupyter-widgets/base",
      "model_module_version": "1.2.0",
      "model_name": "LayoutModel",
      "state": {}
     },
     "b5858de779424d989220b67be71aaca9": {
      "model_module": "@jupyter-widgets/base",
      "model_module_version": "1.2.0",
      "model_name": "LayoutModel",
      "state": {}
     },
     "b607ed3923544b1890faf3d6dfe2fdc0": {
      "model_module": "jupyter-matplotlib",
      "model_module_version": "^0.7.2",
      "model_name": "ToolbarModel",
      "state": {
       "layout": "IPY_MODEL_c6103a6d696948a0a418fefbdc9b64a1",
       "toolitems": [
        [
         "Home",
         "Reset original view",
         "home",
         "home"
        ],
        [
         "Back",
         "Back to previous view",
         "arrow-left",
         "back"
        ],
        [
         "Forward",
         "Forward to next view",
         "arrow-right",
         "forward"
        ],
        [
         "Pan",
         "Left button pans, Right button zooms\nx/y fixes axis, CTRL fixes aspect",
         "arrows",
         "pan"
        ],
        [
         "Zoom",
         "Zoom to rectangle\nx/y fixes axis, CTRL fixes aspect",
         "square-o",
         "zoom"
        ],
        [
         "Download",
         "Download plot",
         "floppy-o",
         "save_figure"
        ]
       ]
      }
     },
     "b6556ef608dd47f0ba74759a3af53c77": {
      "model_module": "@jupyter-widgets/base",
      "model_module_version": "1.2.0",
      "model_name": "LayoutModel",
      "state": {}
     },
     "b6ad8cc4b6e3468391fcf3845b7b4551": {
      "model_module": "jupyter-matplotlib",
      "model_module_version": "^0.7.2",
      "model_name": "MPLCanvasModel",
      "state": {
       "_cursor": "default",
       "_figure_label": "Figure 93",
       "_height": 200,
       "_width": 600,
       "header_visible": false,
       "layout": "IPY_MODEL_b04b1c099ced484d891fcfc65b596559",
       "toolbar": "IPY_MODEL_8261e4da3aa9438890f0f494606de7b0",
       "toolbar_position": "left"
      }
     },
     "b72ac6ac129f4fdca5fa0123b65b32fa": {
      "model_module": "@jupyter-widgets/controls",
      "model_module_version": "1.5.0",
      "model_name": "HTMLModel",
      "state": {
       "layout": "IPY_MODEL_57c50e79347e4a2dbff2b894ff979ade",
       "style": "IPY_MODEL_534aceec51ea477a85f6492d86c138f9",
       "value": " 59/1000 [00:20&lt;00:22, 41.81it/s]"
      }
     },
     "b7401061cddd4e6a824ccc28cf8f3919": {
      "model_module": "@jupyter-widgets/controls",
      "model_module_version": "1.5.0",
      "model_name": "HBoxModel",
      "state": {
       "children": [
        "IPY_MODEL_bd1dd1cccc7640a6a47b2a752e82aa58",
        "IPY_MODEL_a2c0440b85b84478980b61b4a5a93f57"
       ],
       "layout": "IPY_MODEL_e8d31e69267a450ba86ee5d3e46ebc4d"
      }
     },
     "b83c53c97c1440e49be8e0544319a0b8": {
      "model_module": "jupyter-matplotlib",
      "model_module_version": "^0.7.2",
      "model_name": "MPLCanvasModel",
      "state": {
       "_cursor": "default",
       "_figure_label": "Figure 90",
       "_height": 200,
       "_width": 600,
       "header_visible": false,
       "layout": "IPY_MODEL_10da8f7f506d492f8e7740d31fca05d0",
       "toolbar": "IPY_MODEL_ebbaa47c640148fdadc56871deea65a4",
       "toolbar_position": "left"
      }
     },
     "b86f13a3c5df406cb19632c63dc7fd02": {
      "model_module": "jupyter-matplotlib",
      "model_module_version": "^0.7.2",
      "model_name": "ToolbarModel",
      "state": {
       "layout": "IPY_MODEL_a6de0b29c8df4febb90fa8925781b677",
       "toolitems": [
        [
         "Home",
         "Reset original view",
         "home",
         "home"
        ],
        [
         "Back",
         "Back to previous view",
         "arrow-left",
         "back"
        ],
        [
         "Forward",
         "Forward to next view",
         "arrow-right",
         "forward"
        ],
        [
         "Pan",
         "Left button pans, Right button zooms\nx/y fixes axis, CTRL fixes aspect",
         "arrows",
         "pan"
        ],
        [
         "Zoom",
         "Zoom to rectangle\nx/y fixes axis, CTRL fixes aspect",
         "square-o",
         "zoom"
        ],
        [
         "Download",
         "Download plot",
         "floppy-o",
         "save_figure"
        ]
       ]
      }
     },
     "b929c93591784c84ae1ed8e3f1be61c6": {
      "model_module": "@jupyter-widgets/base",
      "model_module_version": "1.2.0",
      "model_name": "LayoutModel",
      "state": {}
     },
     "b974f15a5959442eb0430d466ae7b8f0": {
      "model_module": "@jupyter-widgets/controls",
      "model_module_version": "1.5.0",
      "model_name": "ProgressStyleModel",
      "state": {
       "description_width": "initial"
      }
     },
     "b9c06798de47418489cdcf1595181284": {
      "model_module": "@jupyter-widgets/base",
      "model_module_version": "1.2.0",
      "model_name": "LayoutModel",
      "state": {}
     },
     "b9dfb01cfcb942f79b20e094ca98f1a3": {
      "model_module": "@jupyter-widgets/base",
      "model_module_version": "1.2.0",
      "model_name": "LayoutModel",
      "state": {}
     },
     "ba5eb40743dd4ae6905c55dfc47ba0a5": {
      "model_module": "jupyter-matplotlib",
      "model_module_version": "^0.7.2",
      "model_name": "MPLCanvasModel",
      "state": {
       "_cursor": "default",
       "_figure_label": "Figure 51",
       "_height": 200,
       "_message": "x=0.175 y=283.",
       "_width": 600,
       "header_visible": false,
       "layout": "IPY_MODEL_0811454894e8403191549b27d36ffe4b",
       "toolbar": "IPY_MODEL_00d689a7932f47359ba3ed6d3042e2e8",
       "toolbar_position": "left"
      }
     },
     "baaac02453db4b20b3e28128db4a4cd5": {
      "model_module": "@jupyter-widgets/base",
      "model_module_version": "1.2.0",
      "model_name": "LayoutModel",
      "state": {}
     },
     "baadf3e690374fa6a28b2915561aa4d9": {
      "model_module": "jupyter-matplotlib",
      "model_module_version": "^0.7.2",
      "model_name": "ToolbarModel",
      "state": {
       "layout": "IPY_MODEL_e44b527549ec450789a716b6e553a2f4",
       "toolitems": [
        [
         "Home",
         "Reset original view",
         "home",
         "home"
        ],
        [
         "Back",
         "Back to previous view",
         "arrow-left",
         "back"
        ],
        [
         "Forward",
         "Forward to next view",
         "arrow-right",
         "forward"
        ],
        [
         "Pan",
         "Left button pans, Right button zooms\nx/y fixes axis, CTRL fixes aspect",
         "arrows",
         "pan"
        ],
        [
         "Zoom",
         "Zoom to rectangle\nx/y fixes axis, CTRL fixes aspect",
         "square-o",
         "zoom"
        ],
        [
         "Download",
         "Download plot",
         "floppy-o",
         "save_figure"
        ]
       ]
      }
     },
     "bb0c09c241fa4ed98ffc9d0287acc66c": {
      "model_module": "jupyter-matplotlib",
      "model_module_version": "^0.7.2",
      "model_name": "MPLCanvasModel",
      "state": {
       "_cursor": "crosshair",
       "_figure_label": "Figure 61",
       "_height": 200,
       "_image_mode": "diff",
       "_message": "x=0.0676 y=11.",
       "_rubberband_y": 200,
       "_width": 600,
       "header_visible": false,
       "layout": "IPY_MODEL_988b002f962f494db9cc4d20a22299c5",
       "toolbar": "IPY_MODEL_008b56356f8e4c038a964e4e6c35ccd4",
       "toolbar_position": "left"
      }
     },
     "bb6fd7a6796643159075873ff253c805": {
      "model_module": "jupyter-matplotlib",
      "model_module_version": "^0.7.2",
      "model_name": "MPLCanvasModel",
      "state": {
       "_cursor": "default",
       "_figure_label": "Figure 64",
       "_height": 200,
       "_width": 600,
       "header_visible": false,
       "layout": "IPY_MODEL_1d1b361e27344bc6aad5a17780bae875",
       "toolbar": "IPY_MODEL_5934f9d0163540279963e8a9e9793f52",
       "toolbar_position": "left"
      }
     },
     "bca9e95b82d641a9b0f5bbbd68a9f792": {
      "model_module": "@jupyter-widgets/controls",
      "model_module_version": "1.5.0",
      "model_name": "ProgressStyleModel",
      "state": {
       "description_width": "initial"
      }
     },
     "bcf1e6d81140401c969a740f40bbc855": {
      "model_module": "@jupyter-widgets/base",
      "model_module_version": "1.2.0",
      "model_name": "LayoutModel",
      "state": {}
     },
     "bd1cff42c18d4cb0874b713ab36c593c": {
      "model_module": "@jupyter-widgets/base",
      "model_module_version": "1.2.0",
      "model_name": "LayoutModel",
      "state": {}
     },
     "bd1dd1cccc7640a6a47b2a752e82aa58": {
      "model_module": "@jupyter-widgets/controls",
      "model_module_version": "1.5.0",
      "model_name": "FloatProgressModel",
      "state": {
       "bar_style": "success",
       "description": "100%",
       "layout": "IPY_MODEL_aa580b44f9a946759bd860bd35defbb2",
       "style": "IPY_MODEL_3acc10a55c734c0dbcf1c1e695bf43c7",
       "value": 100
      }
     },
     "be7a27d1ac014bd9b993733e0d3c7ae0": {
      "model_module": "@jupyter-widgets/base",
      "model_module_version": "1.2.0",
      "model_name": "LayoutModel",
      "state": {}
     },
     "bf00247583904f98ab2c9596983da9db": {
      "model_module": "@jupyter-widgets/controls",
      "model_module_version": "1.5.0",
      "model_name": "DescriptionStyleModel",
      "state": {
       "description_width": ""
      }
     },
     "bfb1838e0fee40f08b9cc5b34b57a421": {
      "model_module": "jupyter-matplotlib",
      "model_module_version": "^0.7.2",
      "model_name": "ToolbarModel",
      "state": {
       "layout": "IPY_MODEL_1f046b3b25d24e24857b98edecc7a0ec",
       "toolitems": [
        [
         "Home",
         "Reset original view",
         "home",
         "home"
        ],
        [
         "Back",
         "Back to previous view",
         "arrow-left",
         "back"
        ],
        [
         "Forward",
         "Forward to next view",
         "arrow-right",
         "forward"
        ],
        [
         "Pan",
         "Left button pans, Right button zooms\nx/y fixes axis, CTRL fixes aspect",
         "arrows",
         "pan"
        ],
        [
         "Zoom",
         "Zoom to rectangle\nx/y fixes axis, CTRL fixes aspect",
         "square-o",
         "zoom"
        ],
        [
         "Download",
         "Download plot",
         "floppy-o",
         "save_figure"
        ]
       ]
      }
     },
     "bfdeb420938f4d0ab6b2333746702841": {
      "model_module": "@jupyter-widgets/base",
      "model_module_version": "1.2.0",
      "model_name": "LayoutModel",
      "state": {}
     },
     "bff49ccdd40f45018539cbc2dd0ab21d": {
      "model_module": "jupyter-matplotlib",
      "model_module_version": "^0.7.2",
      "model_name": "ToolbarModel",
      "state": {
       "layout": "IPY_MODEL_5e3e7c571ccf40d38fde7292edbd7e18",
       "toolitems": [
        [
         "Home",
         "Reset original view",
         "home",
         "home"
        ],
        [
         "Back",
         "Back to previous view",
         "arrow-left",
         "back"
        ],
        [
         "Forward",
         "Forward to next view",
         "arrow-right",
         "forward"
        ],
        [
         "Pan",
         "Left button pans, Right button zooms\nx/y fixes axis, CTRL fixes aspect",
         "arrows",
         "pan"
        ],
        [
         "Zoom",
         "Zoom to rectangle\nx/y fixes axis, CTRL fixes aspect",
         "square-o",
         "zoom"
        ],
        [
         "Download",
         "Download plot",
         "floppy-o",
         "save_figure"
        ]
       ]
      }
     },
     "bff5c8d5f0fd4f119a9486a0cb8df569": {
      "model_module": "jupyter-matplotlib",
      "model_module_version": "^0.7.2",
      "model_name": "MPLCanvasModel",
      "state": {
       "_cursor": "default",
       "_figure_label": "Figure 73",
       "_height": 200,
       "_width": 600,
       "header_visible": false,
       "layout": "IPY_MODEL_8c7b151b72ea4f01a2856cfe3df44cf9",
       "toolbar": "IPY_MODEL_b29af9f7c09149febe5996506cd0b2ff",
       "toolbar_position": "left"
      }
     },
     "bff5dca61cc046548c9ca7484de210f6": {
      "model_module": "@jupyter-widgets/base",
      "model_module_version": "1.2.0",
      "model_name": "LayoutModel",
      "state": {}
     },
     "c151a67ad0aa48cbbf9ad59e8eda3eb3": {
      "model_module": "@jupyter-widgets/controls",
      "model_module_version": "1.5.0",
      "model_name": "FloatProgressModel",
      "state": {
       "bar_style": "danger",
       "description": "  6%",
       "layout": "IPY_MODEL_f8834c108be046668cd2360a1ebacba0",
       "max": 1000,
       "style": "IPY_MODEL_7a83bed5ac724b88b028c3488822f831",
       "value": 59
      }
     },
     "c1603888fb034863b6925f3aabd462ae": {
      "model_module": "jupyter-matplotlib",
      "model_module_version": "^0.7.2",
      "model_name": "MPLCanvasModel",
      "state": {
       "_cursor": "default",
       "_figure_label": "Figure 4",
       "_height": 200,
       "_width": 800,
       "header_visible": false,
       "layout": "IPY_MODEL_9bf3f315f2314aa591c2e670f33b7772",
       "toolbar": "IPY_MODEL_ad63747cdcea4de299c3067a0fb1c21f",
       "toolbar_position": "left"
      }
     },
     "c1943edc42224ae0bcf4648cd5e4f8e8": {
      "model_module": "@jupyter-widgets/base",
      "model_module_version": "1.2.0",
      "model_name": "LayoutModel",
      "state": {}
     },
     "c1eddd5c9d034990b20daff41ccc9cd3": {
      "model_module": "@jupyter-widgets/controls",
      "model_module_version": "1.5.0",
      "model_name": "HTMLModel",
      "state": {
       "layout": "IPY_MODEL_aaafa131c2a64184a5a45612dff1997e",
       "style": "IPY_MODEL_afb3139b7e4344da8095332ff2a722af",
       "value": " 1000/1000 [01:07&lt;00:00, 14.71it/s]"
      }
     },
     "c2dee530514941d1806af1c02e0f6c9d": {
      "model_module": "jupyter-matplotlib",
      "model_module_version": "^0.7.2",
      "model_name": "MPLCanvasModel",
      "state": {
       "_cursor": "default",
       "_figure_label": "Figure 52",
       "_height": 200,
       "_width": 600,
       "header_visible": false,
       "layout": "IPY_MODEL_223562d68b0049308b4586b45607137c",
       "toolbar": "IPY_MODEL_30baca997589430b89d9bae1d1e92087",
       "toolbar_position": "left"
      }
     },
     "c3113a2f64dc47569f23ea5a4fb80b0c": {
      "model_module": "@jupyter-widgets/controls",
      "model_module_version": "1.5.0",
      "model_name": "ProgressStyleModel",
      "state": {
       "description_width": "initial"
      }
     },
     "c31c2c6305f34abc962e5e71719170e0": {
      "model_module": "@jupyter-widgets/base",
      "model_module_version": "1.2.0",
      "model_name": "LayoutModel",
      "state": {}
     },
     "c3a84c3189fd4ee9ac0d304a7a69e067": {
      "model_module": "@jupyter-widgets/base",
      "model_module_version": "1.2.0",
      "model_name": "LayoutModel",
      "state": {}
     },
     "c43aa71ad108494ea3a4ee4df4f1d775": {
      "model_module": "@jupyter-widgets/base",
      "model_module_version": "1.2.0",
      "model_name": "LayoutModel",
      "state": {}
     },
     "c44a7ca376af449eb327a97ea4591c04": {
      "model_module": "jupyter-matplotlib",
      "model_module_version": "^0.7.2",
      "model_name": "ToolbarModel",
      "state": {
       "layout": "IPY_MODEL_6765cae9178f47618698465ed75c41a2",
       "toolitems": [
        [
         "Home",
         "Reset original view",
         "home",
         "home"
        ],
        [
         "Back",
         "Back to previous view",
         "arrow-left",
         "back"
        ],
        [
         "Forward",
         "Forward to next view",
         "arrow-right",
         "forward"
        ],
        [
         "Pan",
         "Left button pans, Right button zooms\nx/y fixes axis, CTRL fixes aspect",
         "arrows",
         "pan"
        ],
        [
         "Zoom",
         "Zoom to rectangle\nx/y fixes axis, CTRL fixes aspect",
         "square-o",
         "zoom"
        ],
        [
         "Download",
         "Download plot",
         "floppy-o",
         "save_figure"
        ]
       ]
      }
     },
     "c454ea7ffb30485b8fbe6fa21e2568da": {
      "model_module": "@jupyter-widgets/base",
      "model_module_version": "1.2.0",
      "model_name": "LayoutModel",
      "state": {}
     },
     "c45ba12d22574615ae268122d0c6c876": {
      "model_module": "@jupyter-widgets/base",
      "model_module_version": "1.2.0",
      "model_name": "LayoutModel",
      "state": {}
     },
     "c60e02a39164480f9ec7e64b2fca2365": {
      "model_module": "jupyter-matplotlib",
      "model_module_version": "^0.7.2",
      "model_name": "ToolbarModel",
      "state": {
       "layout": "IPY_MODEL_038532dc62e747ab9bd9ff71df62ac5c",
       "toolitems": [
        [
         "Home",
         "Reset original view",
         "home",
         "home"
        ],
        [
         "Back",
         "Back to previous view",
         "arrow-left",
         "back"
        ],
        [
         "Forward",
         "Forward to next view",
         "arrow-right",
         "forward"
        ],
        [
         "Pan",
         "Left button pans, Right button zooms\nx/y fixes axis, CTRL fixes aspect",
         "arrows",
         "pan"
        ],
        [
         "Zoom",
         "Zoom to rectangle\nx/y fixes axis, CTRL fixes aspect",
         "square-o",
         "zoom"
        ],
        [
         "Download",
         "Download plot",
         "floppy-o",
         "save_figure"
        ]
       ]
      }
     },
     "c6103a6d696948a0a418fefbdc9b64a1": {
      "model_module": "@jupyter-widgets/base",
      "model_module_version": "1.2.0",
      "model_name": "LayoutModel",
      "state": {}
     },
     "c62882bff2a549c0b46a5068da3d4f1a": {
      "model_module": "jupyter-matplotlib",
      "model_module_version": "^0.7.2",
      "model_name": "MPLCanvasModel",
      "state": {
       "_cursor": "default",
       "_figure_label": "Figure 47",
       "_height": 200,
       "_message": "x=−0.093 y=−47.",
       "_width": 600,
       "header_visible": false,
       "layout": "IPY_MODEL_73191336586b4c7586a780156ee08aad",
       "toolbar": "IPY_MODEL_4d554dc8aa5e497cb4919cf040f7f292",
       "toolbar_position": "left"
      }
     },
     "c665e5d9054f44c0b865bca2928e67e6": {
      "model_module": "@jupyter-widgets/base",
      "model_module_version": "1.2.0",
      "model_name": "LayoutModel",
      "state": {}
     },
     "c678acec488942478ffa8899a2e18037": {
      "model_module": "@jupyter-widgets/base",
      "model_module_version": "1.2.0",
      "model_name": "LayoutModel",
      "state": {}
     },
     "c843be831d6c4e249c491a81246fefcd": {
      "model_module": "@jupyter-widgets/base",
      "model_module_version": "1.2.0",
      "model_name": "LayoutModel",
      "state": {}
     },
     "c84b80e05daa4b1db990233db293871a": {
      "model_module": "@jupyter-widgets/base",
      "model_module_version": "1.2.0",
      "model_name": "LayoutModel",
      "state": {}
     },
     "c919fed71eec40e38df5ba6cda8d589d": {
      "model_module": "@jupyter-widgets/base",
      "model_module_version": "1.2.0",
      "model_name": "LayoutModel",
      "state": {}
     },
     "c956c83b97b243a5954c3bd3d4348d00": {
      "model_module": "@jupyter-widgets/base",
      "model_module_version": "1.2.0",
      "model_name": "LayoutModel",
      "state": {}
     },
     "c9e9adaa8e72418d8c3131702aa7343d": {
      "model_module": "@jupyter-widgets/base",
      "model_module_version": "1.2.0",
      "model_name": "LayoutModel",
      "state": {}
     },
     "ca06fca2b8af4eefbc1b6da8f2a2c550": {
      "model_module": "@jupyter-widgets/base",
      "model_module_version": "1.2.0",
      "model_name": "LayoutModel",
      "state": {}
     },
     "ca65f4f4f27c4324ad91173e44c34346": {
      "model_module": "@jupyter-widgets/base",
      "model_module_version": "1.2.0",
      "model_name": "LayoutModel",
      "state": {}
     },
     "caf44fa52abd49d8840be2f6cde47722": {
      "model_module": "@jupyter-widgets/base",
      "model_module_version": "1.2.0",
      "model_name": "LayoutModel",
      "state": {}
     },
     "cbaa4f6a54fa4599853b10080e3c9300": {
      "model_module": "@jupyter-widgets/controls",
      "model_module_version": "1.5.0",
      "model_name": "HTMLModel",
      "state": {
       "layout": "IPY_MODEL_869681223f5346f9bb16746a7d95f87f",
       "style": "IPY_MODEL_74900c9f7b1e4e719f1407cb9cc9e1f0",
       "value": " 1000/1000 [00:23&lt;00:00, 41.91it/s]"
      }
     },
     "cce779018213455c9b3b6b3f3a4d8152": {
      "model_module": "jupyter-matplotlib",
      "model_module_version": "^0.7.2",
      "model_name": "MPLCanvasModel",
      "state": {
       "_cursor": "default",
       "_figure_label": "Figure 88",
       "_height": 200,
       "_width": 600,
       "header_visible": false,
       "layout": "IPY_MODEL_6f3ba74355284ab78bfa78439e21f081",
       "toolbar": "IPY_MODEL_53a6a27775fe460797ec4886857f68ae",
       "toolbar_position": "left"
      }
     },
     "cd357686b50e4762891c4a3153017c65": {
      "model_module": "jupyter-matplotlib",
      "model_module_version": "^0.7.2",
      "model_name": "ToolbarModel",
      "state": {
       "layout": "IPY_MODEL_c678acec488942478ffa8899a2e18037",
       "toolitems": [
        [
         "Home",
         "Reset original view",
         "home",
         "home"
        ],
        [
         "Back",
         "Back to previous view",
         "arrow-left",
         "back"
        ],
        [
         "Forward",
         "Forward to next view",
         "arrow-right",
         "forward"
        ],
        [
         "Pan",
         "Left button pans, Right button zooms\nx/y fixes axis, CTRL fixes aspect",
         "arrows",
         "pan"
        ],
        [
         "Zoom",
         "Zoom to rectangle\nx/y fixes axis, CTRL fixes aspect",
         "square-o",
         "zoom"
        ],
        [
         "Download",
         "Download plot",
         "floppy-o",
         "save_figure"
        ]
       ]
      }
     },
     "cdf0a18c482f45b696f428c6f61fda96": {
      "model_module": "@jupyter-widgets/base",
      "model_module_version": "1.2.0",
      "model_name": "LayoutModel",
      "state": {}
     },
     "ce367b8cd507428787aec1ba0c99c3ed": {
      "model_module": "jupyter-matplotlib",
      "model_module_version": "^0.7.2",
      "model_name": "MPLCanvasModel",
      "state": {
       "_cursor": "default",
       "_figure_label": "Figure 80",
       "_height": 200,
       "_message": "x=−0.392 y=139.",
       "_width": 600,
       "header_visible": false,
       "layout": "IPY_MODEL_caf44fa52abd49d8840be2f6cde47722",
       "toolbar": "IPY_MODEL_31795fa47ce7470e85fe200a95502319",
       "toolbar_position": "left"
      }
     },
     "ce4191b52d7d44f9964e88db96d15233": {
      "model_module": "@jupyter-widgets/controls",
      "model_module_version": "1.5.0",
      "model_name": "HTMLModel",
      "state": {
       "layout": "IPY_MODEL_8d0bf55064b5447db787c849c8b29f08",
       "style": "IPY_MODEL_a76d8316fb664f8da97d0efe277c7c09",
       "value": " 1000/1000 [01:04&lt;00:00, 15.49it/s]"
      }
     },
     "ce42a05f9e244ff29c38196ed5ea57eb": {
      "model_module": "jupyter-matplotlib",
      "model_module_version": "^0.7.2",
      "model_name": "MPLCanvasModel",
      "state": {
       "_cursor": "default",
       "_figure_label": "Figure 3",
       "_height": 200,
       "_width": 800,
       "header_visible": false,
       "layout": "IPY_MODEL_2903383e803e41dbb86fd91a78def662",
       "toolbar": "IPY_MODEL_b86f13a3c5df406cb19632c63dc7fd02",
       "toolbar_position": "left"
      }
     },
     "cea8a6e92ea741ad945d5f8ebf6e6636": {
      "model_module": "@jupyter-widgets/base",
      "model_module_version": "1.2.0",
      "model_name": "LayoutModel",
      "state": {}
     },
     "ceccbf1a30f94906a69fde56c2418baf": {
      "model_module": "@jupyter-widgets/controls",
      "model_module_version": "1.5.0",
      "model_name": "HBoxModel",
      "state": {
       "children": [
        "IPY_MODEL_b11b033961634498bd67a752762f1c3d",
        "IPY_MODEL_957b1eeba0834f4db67be9f0feb5affc"
       ],
       "layout": "IPY_MODEL_c454ea7ffb30485b8fbe6fa21e2568da"
      }
     },
     "cf2e19d14c8545efbde543fa04f67c39": {
      "model_module": "jupyter-matplotlib",
      "model_module_version": "^0.7.2",
      "model_name": "ToolbarModel",
      "state": {
       "layout": "IPY_MODEL_8c2dca7a92a04d808d17fd0ad246b42b",
       "toolitems": [
        [
         "Home",
         "Reset original view",
         "home",
         "home"
        ],
        [
         "Back",
         "Back to previous view",
         "arrow-left",
         "back"
        ],
        [
         "Forward",
         "Forward to next view",
         "arrow-right",
         "forward"
        ],
        [
         "Pan",
         "Left button pans, Right button zooms\nx/y fixes axis, CTRL fixes aspect",
         "arrows",
         "pan"
        ],
        [
         "Zoom",
         "Zoom to rectangle\nx/y fixes axis, CTRL fixes aspect",
         "square-o",
         "zoom"
        ],
        [
         "Download",
         "Download plot",
         "floppy-o",
         "save_figure"
        ]
       ]
      }
     },
     "cf6d7b937c7c44e696040308b9bce267": {
      "model_module": "@jupyter-widgets/base",
      "model_module_version": "1.2.0",
      "model_name": "LayoutModel",
      "state": {}
     },
     "cfb4e833489f4ca2bb652cd86b3f8674": {
      "model_module": "@jupyter-widgets/base",
      "model_module_version": "1.2.0",
      "model_name": "LayoutModel",
      "state": {}
     },
     "cfe00e6e6b604c70888265ff88dfe7f0": {
      "model_module": "@jupyter-widgets/base",
      "model_module_version": "1.2.0",
      "model_name": "LayoutModel",
      "state": {}
     },
     "cfe7ab7d96374682bc7d76adc962d381": {
      "model_module": "@jupyter-widgets/controls",
      "model_module_version": "1.5.0",
      "model_name": "FloatProgressModel",
      "state": {
       "bar_style": "success",
       "description": "100%",
       "layout": "IPY_MODEL_3fbf04846e7040df93c8517562741c01",
       "max": 1000,
       "style": "IPY_MODEL_f759b92a8e01485d873909bd72322b20",
       "value": 1000
      }
     },
     "d030fcb442fa445d899edaef41b99d84": {
      "model_module": "@jupyter-widgets/base",
      "model_module_version": "1.2.0",
      "model_name": "LayoutModel",
      "state": {}
     },
     "d05c6e5c9bb94080970099722466beb2": {
      "model_module": "jupyter-matplotlib",
      "model_module_version": "^0.7.2",
      "model_name": "ToolbarModel",
      "state": {
       "layout": "IPY_MODEL_267a6bcfbe9a4534be4a4a8f4d10b6e1",
       "toolitems": [
        [
         "Home",
         "Reset original view",
         "home",
         "home"
        ],
        [
         "Back",
         "Back to previous view",
         "arrow-left",
         "back"
        ],
        [
         "Forward",
         "Forward to next view",
         "arrow-right",
         "forward"
        ],
        [
         "Pan",
         "Left button pans, Right button zooms\nx/y fixes axis, CTRL fixes aspect",
         "arrows",
         "pan"
        ],
        [
         "Zoom",
         "Zoom to rectangle\nx/y fixes axis, CTRL fixes aspect",
         "square-o",
         "zoom"
        ],
        [
         "Download",
         "Download plot",
         "floppy-o",
         "save_figure"
        ]
       ]
      }
     },
     "d0c97e4f2f2842338b41bac1d370f438": {
      "model_module": "@jupyter-widgets/controls",
      "model_module_version": "1.5.0",
      "model_name": "HBoxModel",
      "state": {
       "children": [
        "IPY_MODEL_f028f3608edd4668a2451644dad91129",
        "IPY_MODEL_259cd1c388d548bfbd33857558074e83"
       ],
       "layout": "IPY_MODEL_44398b49cb0e483c934e0aa0e3f40f22"
      }
     },
     "d1f200b3b68c45059855f5f36b8b6337": {
      "model_module": "@jupyter-widgets/base",
      "model_module_version": "1.2.0",
      "model_name": "LayoutModel",
      "state": {}
     },
     "d2fdcee9ecf5469e9df5e396d5071e8d": {
      "model_module": "jupyter-matplotlib",
      "model_module_version": "^0.7.2",
      "model_name": "ToolbarModel",
      "state": {
       "layout": "IPY_MODEL_1a9fb49fe5854f69801496eab0752734",
       "toolitems": [
        [
         "Home",
         "Reset original view",
         "home",
         "home"
        ],
        [
         "Back",
         "Back to previous view",
         "arrow-left",
         "back"
        ],
        [
         "Forward",
         "Forward to next view",
         "arrow-right",
         "forward"
        ],
        [
         "Pan",
         "Left button pans, Right button zooms\nx/y fixes axis, CTRL fixes aspect",
         "arrows",
         "pan"
        ],
        [
         "Zoom",
         "Zoom to rectangle\nx/y fixes axis, CTRL fixes aspect",
         "square-o",
         "zoom"
        ],
        [
         "Download",
         "Download plot",
         "floppy-o",
         "save_figure"
        ]
       ]
      }
     },
     "d3aa93bc346042da9196e84dca82fc38": {
      "model_module": "jupyter-matplotlib",
      "model_module_version": "^0.7.2",
      "model_name": "ToolbarModel",
      "state": {
       "layout": "IPY_MODEL_e062a916b07c45d491d36749d2cead59",
       "toolitems": [
        [
         "Home",
         "Reset original view",
         "home",
         "home"
        ],
        [
         "Back",
         "Back to previous view",
         "arrow-left",
         "back"
        ],
        [
         "Forward",
         "Forward to next view",
         "arrow-right",
         "forward"
        ],
        [
         "Pan",
         "Left button pans, Right button zooms\nx/y fixes axis, CTRL fixes aspect",
         "arrows",
         "pan"
        ],
        [
         "Zoom",
         "Zoom to rectangle\nx/y fixes axis, CTRL fixes aspect",
         "square-o",
         "zoom"
        ],
        [
         "Download",
         "Download plot",
         "floppy-o",
         "save_figure"
        ]
       ]
      }
     },
     "d448e908d2f84cb1a957d2b333a1662b": {
      "model_module": "@jupyter-widgets/base",
      "model_module_version": "1.2.0",
      "model_name": "LayoutModel",
      "state": {}
     },
     "d48ea2788bd0448ca6a0aa8f951a49d9": {
      "model_module": "@jupyter-widgets/controls",
      "model_module_version": "1.5.0",
      "model_name": "ProgressStyleModel",
      "state": {
       "description_width": "initial"
      }
     },
     "d5ac10f5c56a439f8e18ec694084e805": {
      "model_module": "@jupyter-widgets/base",
      "model_module_version": "1.2.0",
      "model_name": "LayoutModel",
      "state": {}
     },
     "d5cd70cc20804232880dc52ca36d423b": {
      "model_module": "jupyter-matplotlib",
      "model_module_version": "^0.7.2",
      "model_name": "MPLCanvasModel",
      "state": {
       "_cursor": "default",
       "_figure_label": "Figure 38",
       "_height": 200,
       "_width": 600,
       "header_visible": false,
       "layout": "IPY_MODEL_216bf06940a549bf8ed7b6ce98dea032",
       "toolbar": "IPY_MODEL_15a0939d93e4451da6868bed4fad3d1c",
       "toolbar_position": "left"
      }
     },
     "d5ce65f173174e8d98cfd79a49182057": {
      "model_module": "@jupyter-widgets/base",
      "model_module_version": "1.2.0",
      "model_name": "LayoutModel",
      "state": {}
     },
     "d5f99dd7a2294cd8af5b0bbc26fe88fb": {
      "model_module": "jupyter-matplotlib",
      "model_module_version": "^0.7.2",
      "model_name": "ToolbarModel",
      "state": {
       "layout": "IPY_MODEL_65fc65c3823b4c92af68eb40fe9f071f",
       "toolitems": [
        [
         "Home",
         "Reset original view",
         "home",
         "home"
        ],
        [
         "Back",
         "Back to previous view",
         "arrow-left",
         "back"
        ],
        [
         "Forward",
         "Forward to next view",
         "arrow-right",
         "forward"
        ],
        [
         "Pan",
         "Left button pans, Right button zooms\nx/y fixes axis, CTRL fixes aspect",
         "arrows",
         "pan"
        ],
        [
         "Zoom",
         "Zoom to rectangle\nx/y fixes axis, CTRL fixes aspect",
         "square-o",
         "zoom"
        ],
        [
         "Download",
         "Download plot",
         "floppy-o",
         "save_figure"
        ]
       ]
      }
     },
     "d6fba65b457c44ba8995ab8629553c01": {
      "model_module": "@jupyter-widgets/controls",
      "model_module_version": "1.5.0",
      "model_name": "FloatProgressModel",
      "state": {
       "bar_style": "success",
       "description": "100%",
       "layout": "IPY_MODEL_6a6ca63dbfcd413d9db709eaf50e38e1",
       "max": 1000,
       "style": "IPY_MODEL_e48039af31084db9bef45f8b3818979e",
       "value": 1000
      }
     },
     "d737d3782e6b4fa9b54efaa663905939": {
      "model_module": "jupyter-matplotlib",
      "model_module_version": "^0.7.2",
      "model_name": "ToolbarModel",
      "state": {
       "layout": "IPY_MODEL_ca06fca2b8af4eefbc1b6da8f2a2c550",
       "toolitems": [
        [
         "Home",
         "Reset original view",
         "home",
         "home"
        ],
        [
         "Back",
         "Back to previous view",
         "arrow-left",
         "back"
        ],
        [
         "Forward",
         "Forward to next view",
         "arrow-right",
         "forward"
        ],
        [
         "Pan",
         "Left button pans, Right button zooms\nx/y fixes axis, CTRL fixes aspect",
         "arrows",
         "pan"
        ],
        [
         "Zoom",
         "Zoom to rectangle\nx/y fixes axis, CTRL fixes aspect",
         "square-o",
         "zoom"
        ],
        [
         "Download",
         "Download plot",
         "floppy-o",
         "save_figure"
        ]
       ]
      }
     },
     "d739087de51948ecba5e3957e2b5b085": {
      "model_module": "@jupyter-widgets/controls",
      "model_module_version": "1.5.0",
      "model_name": "FloatProgressModel",
      "state": {
       "bar_style": "success",
       "description": "100%",
       "layout": "IPY_MODEL_69aae510df394f82b7328c78e14f59fd",
       "max": 1000,
       "style": "IPY_MODEL_489f5332b8404effbee65ad90067aaf3",
       "value": 1000
      }
     },
     "d76398514c4d4b9fbf619075263210b5": {
      "model_module": "jupyter-matplotlib",
      "model_module_version": "^0.7.2",
      "model_name": "MPLCanvasModel",
      "state": {
       "_cursor": "default",
       "_figure_label": "Figure 31",
       "_height": 200,
       "_width": 600,
       "header_visible": false,
       "layout": "IPY_MODEL_5a9c9a97b6584639a0d1abfea09ed23a",
       "toolbar": "IPY_MODEL_a2f150b570964bada743490c3877dc59",
       "toolbar_position": "left"
      }
     },
     "d7700aa03e0b4fff9f1c70055b2aab68": {
      "model_module": "@jupyter-widgets/controls",
      "model_module_version": "1.5.0",
      "model_name": "DescriptionStyleModel",
      "state": {
       "description_width": ""
      }
     },
     "d7856b182ac644ffb6cb99bbe0e24c72": {
      "model_module": "@jupyter-widgets/base",
      "model_module_version": "1.2.0",
      "model_name": "LayoutModel",
      "state": {}
     },
     "d7c54d2c2bfb479499277a8313c612b4": {
      "model_module": "jupyter-matplotlib",
      "model_module_version": "^0.7.2",
      "model_name": "ToolbarModel",
      "state": {
       "layout": "IPY_MODEL_e5a174e3e1fa4bc0bca6bf6966d562c4",
       "toolitems": [
        [
         "Home",
         "Reset original view",
         "home",
         "home"
        ],
        [
         "Back",
         "Back to previous view",
         "arrow-left",
         "back"
        ],
        [
         "Forward",
         "Forward to next view",
         "arrow-right",
         "forward"
        ],
        [
         "Pan",
         "Left button pans, Right button zooms\nx/y fixes axis, CTRL fixes aspect",
         "arrows",
         "pan"
        ],
        [
         "Zoom",
         "Zoom to rectangle\nx/y fixes axis, CTRL fixes aspect",
         "square-o",
         "zoom"
        ],
        [
         "Download",
         "Download plot",
         "floppy-o",
         "save_figure"
        ]
       ]
      }
     },
     "d7d4eeb1e93047b7a00aababb148d627": {
      "model_module": "@jupyter-widgets/controls",
      "model_module_version": "1.5.0",
      "model_name": "HTMLModel",
      "state": {
       "layout": "IPY_MODEL_ca65f4f4f27c4324ad91173e44c34346",
       "style": "IPY_MODEL_bf00247583904f98ab2c9596983da9db",
       "value": " 1000/1000 [01:46&lt;00:00,  9.41it/s]"
      }
     },
     "d7e4b7b78f83486888bf549917dccbd7": {
      "model_module": "@jupyter-widgets/controls",
      "model_module_version": "1.5.0",
      "model_name": "FloatProgressModel",
      "state": {
       "bar_style": "success",
       "description": "100%",
       "layout": "IPY_MODEL_0352079caef540728a170c97a7d6cb14",
       "style": "IPY_MODEL_bca9e95b82d641a9b0f5bbbd68a9f792",
       "value": 100
      }
     },
     "d80d561bcfc6464ca52435ec6e66c923": {
      "model_module": "@jupyter-widgets/controls",
      "model_module_version": "1.5.0",
      "model_name": "DescriptionStyleModel",
      "state": {
       "description_width": ""
      }
     },
     "d84c6a2c7f3e46b886604dc35fb93cbd": {
      "model_module": "@jupyter-widgets/base",
      "model_module_version": "1.2.0",
      "model_name": "LayoutModel",
      "state": {}
     },
     "d86d17e79935488c96068a3abd48e3bb": {
      "model_module": "@jupyter-widgets/controls",
      "model_module_version": "1.5.0",
      "model_name": "HTMLModel",
      "state": {
       "layout": "IPY_MODEL_80f6de76842845d9a9a3a1b809604b0f",
       "style": "IPY_MODEL_d7700aa03e0b4fff9f1c70055b2aab68",
       "value": " 1000/1000 [05:52&lt;00:00,  2.84it/s]"
      }
     },
     "d90d40acc2204063928a38ab6f7dc1da": {
      "model_module": "@jupyter-widgets/base",
      "model_module_version": "1.2.0",
      "model_name": "LayoutModel",
      "state": {}
     },
     "db5ee212a2904d2d93ea125473f06b21": {
      "model_module": "jupyter-matplotlib",
      "model_module_version": "^0.7.2",
      "model_name": "MPLCanvasModel",
      "state": {
       "_cursor": "default",
       "_figure_label": "Figure 97",
       "_height": 200,
       "_width": 600,
       "header_visible": false,
       "layout": "IPY_MODEL_b3c3e705d4294bc4aa80a9a626813077",
       "toolbar": "IPY_MODEL_1bebafbf8e224f65875e2caf7f2db51c",
       "toolbar_position": "left"
      }
     },
     "db65f1bf95724340a0e3760e79ba78b3": {
      "model_module": "jupyter-matplotlib",
      "model_module_version": "^0.7.2",
      "model_name": "MPLCanvasModel",
      "state": {
       "_cursor": "default",
       "_figure_label": "Figure 57",
       "_height": 200,
       "_width": 600,
       "header_visible": false,
       "layout": "IPY_MODEL_b9c06798de47418489cdcf1595181284",
       "toolbar": "IPY_MODEL_21a51b188ccf4be3bff967e20f6de8f3",
       "toolbar_position": "left"
      }
     },
     "db774c6c75c54c0aa2b15c82d1d708d2": {
      "model_module": "jupyter-matplotlib",
      "model_module_version": "^0.7.2",
      "model_name": "MPLCanvasModel",
      "state": {
       "_cursor": "default",
       "_figure_label": "Figure 23",
       "_height": 400,
       "_width": 700,
       "header_visible": false,
       "layout": "IPY_MODEL_b3ba7893c2494e618e7b65df6fd5311d",
       "toolbar": "IPY_MODEL_a78febc54b754ea0be8730ef1ca3922b",
       "toolbar_position": "left"
      }
     },
     "db85a3cffd6d4011bca9baf94467a3f7": {
      "model_module": "@jupyter-widgets/controls",
      "model_module_version": "1.5.0",
      "model_name": "DescriptionStyleModel",
      "state": {
       "description_width": ""
      }
     },
     "dbd21cf9dd0d4fa8b2b7b63a5ccdf6f1": {
      "model_module": "@jupyter-widgets/base",
      "model_module_version": "1.2.0",
      "model_name": "LayoutModel",
      "state": {}
     },
     "dc0d2847f1e54c5cb6b44f4ff5fe8501": {
      "model_module": "jupyter-matplotlib",
      "model_module_version": "^0.7.2",
      "model_name": "MPLCanvasModel",
      "state": {
       "_cursor": "default",
       "_figure_label": "Figure 11",
       "_height": 200,
       "_width": 800,
       "header_visible": false,
       "layout": "IPY_MODEL_a75963d81957474297c4713f00ea8557",
       "toolbar": "IPY_MODEL_504a1281c2964e9aaf19d46f469e7e22",
       "toolbar_position": "left"
      }
     },
     "dc3a28e6894d4bf58c2b63c0745b7cea": {
      "model_module": "@jupyter-widgets/base",
      "model_module_version": "1.2.0",
      "model_name": "LayoutModel",
      "state": {}
     },
     "dc54e4052e9a4e6ba61925e9e728ba5e": {
      "model_module": "jupyter-matplotlib",
      "model_module_version": "^0.7.2",
      "model_name": "ToolbarModel",
      "state": {
       "layout": "IPY_MODEL_f830e1b806c042e8979bb78275184b5f",
       "toolitems": [
        [
         "Home",
         "Reset original view",
         "home",
         "home"
        ],
        [
         "Back",
         "Back to previous view",
         "arrow-left",
         "back"
        ],
        [
         "Forward",
         "Forward to next view",
         "arrow-right",
         "forward"
        ],
        [
         "Pan",
         "Left button pans, Right button zooms\nx/y fixes axis, CTRL fixes aspect",
         "arrows",
         "pan"
        ],
        [
         "Zoom",
         "Zoom to rectangle\nx/y fixes axis, CTRL fixes aspect",
         "square-o",
         "zoom"
        ],
        [
         "Download",
         "Download plot",
         "floppy-o",
         "save_figure"
        ]
       ]
      }
     },
     "dc830476572b4901b537998f52c119ac": {
      "model_module": "@jupyter-widgets/base",
      "model_module_version": "1.2.0",
      "model_name": "LayoutModel",
      "state": {}
     },
     "dcf8c4fabf554caca53f631231fcaba5": {
      "model_module": "jupyter-matplotlib",
      "model_module_version": "^0.7.2",
      "model_name": "MPLCanvasModel",
      "state": {
       "_cursor": "default",
       "_figure_label": "Figure 29",
       "_height": 200,
       "_width": 800,
       "header_visible": false,
       "layout": "IPY_MODEL_10e6274dc5de485aba9dc7c2cf34938e",
       "toolbar": "IPY_MODEL_b0043bb589b84ddbbd34b8fe4f7bd9c0",
       "toolbar_position": "left"
      }
     },
     "dd15b41f87f84b0485385dbf7794a972": {
      "model_module": "@jupyter-widgets/base",
      "model_module_version": "1.2.0",
      "model_name": "LayoutModel",
      "state": {}
     },
     "dd27251cd478416e9b7b51dee3a79c16": {
      "model_module": "@jupyter-widgets/base",
      "model_module_version": "1.2.0",
      "model_name": "LayoutModel",
      "state": {}
     },
     "dda9ada51e2d41258c73655d418e6c18": {
      "model_module": "@jupyter-widgets/base",
      "model_module_version": "1.2.0",
      "model_name": "LayoutModel",
      "state": {}
     },
     "dde9f96e83ed4c9688f848b9953971a6": {
      "model_module": "@jupyter-widgets/controls",
      "model_module_version": "1.5.0",
      "model_name": "HTMLModel",
      "state": {
       "layout": "IPY_MODEL_53c049fabd3c4068a6f68232b0b6e68f",
       "style": "IPY_MODEL_4cb703a0e42345ae8d45332dd89c16e5",
       "value": " 100/100 [00:02&lt;00:00, 40.49it/s]"
      }
     },
     "df4bcc19303d41c6a01949ff6bd0dbc9": {
      "model_module": "@jupyter-widgets/base",
      "model_module_version": "1.2.0",
      "model_name": "LayoutModel",
      "state": {}
     },
     "df936bb2be4f4edda0fc436ac015b3a8": {
      "model_module": "@jupyter-widgets/base",
      "model_module_version": "1.2.0",
      "model_name": "LayoutModel",
      "state": {}
     },
     "e062a916b07c45d491d36749d2cead59": {
      "model_module": "@jupyter-widgets/base",
      "model_module_version": "1.2.0",
      "model_name": "LayoutModel",
      "state": {}
     },
     "e0de26580a42422883e93b543d524716": {
      "model_module": "@jupyter-widgets/base",
      "model_module_version": "1.2.0",
      "model_name": "LayoutModel",
      "state": {}
     },
     "e13a57d341574ec2b4786bb931ab8f38": {
      "model_module": "@jupyter-widgets/base",
      "model_module_version": "1.2.0",
      "model_name": "LayoutModel",
      "state": {}
     },
     "e1a4efa6227c4794822b1b174a3e9721": {
      "model_module": "@jupyter-widgets/base",
      "model_module_version": "1.2.0",
      "model_name": "LayoutModel",
      "state": {}
     },
     "e1d87314fdd6415e8a9a4b0ba89ac405": {
      "model_module": "@jupyter-widgets/base",
      "model_module_version": "1.2.0",
      "model_name": "LayoutModel",
      "state": {}
     },
     "e2eada5de53444ec98a35ab481922084": {
      "model_module": "@jupyter-widgets/base",
      "model_module_version": "1.2.0",
      "model_name": "LayoutModel",
      "state": {}
     },
     "e31cee19c8934b0193a63bb75eeccadf": {
      "model_module": "@jupyter-widgets/base",
      "model_module_version": "1.2.0",
      "model_name": "LayoutModel",
      "state": {}
     },
     "e33f255bd8254c7bac234571109b3e37": {
      "model_module": "jupyter-matplotlib",
      "model_module_version": "^0.7.2",
      "model_name": "MPLCanvasModel",
      "state": {
       "_cursor": "default",
       "_figure_label": "Figure 26",
       "_height": 200,
       "_width": 800,
       "header_visible": false,
       "layout": "IPY_MODEL_432402477c88434a8c763e54fe675145",
       "toolbar": "IPY_MODEL_5b8801c64f4145e4b2c7f6575f8ff7a9",
       "toolbar_position": "left"
      }
     },
     "e416e036d3104cf4888e1aa7be5daf11": {
      "model_module": "@jupyter-widgets/base",
      "model_module_version": "1.2.0",
      "model_name": "LayoutModel",
      "state": {}
     },
     "e43510006f374182961cfe4d0af40248": {
      "model_module": "@jupyter-widgets/controls",
      "model_module_version": "1.5.0",
      "model_name": "DescriptionStyleModel",
      "state": {
       "description_width": ""
      }
     },
     "e44b527549ec450789a716b6e553a2f4": {
      "model_module": "@jupyter-widgets/base",
      "model_module_version": "1.2.0",
      "model_name": "LayoutModel",
      "state": {}
     },
     "e48039af31084db9bef45f8b3818979e": {
      "model_module": "@jupyter-widgets/controls",
      "model_module_version": "1.5.0",
      "model_name": "ProgressStyleModel",
      "state": {
       "description_width": "initial"
      }
     },
     "e48282f5f34946e1a114a975eb05e772": {
      "model_module": "jupyter-matplotlib",
      "model_module_version": "^0.7.2",
      "model_name": "MPLCanvasModel",
      "state": {
       "_cursor": "default",
       "_figure_label": "Figure 79",
       "_height": 200,
       "_width": 600,
       "header_visible": false,
       "layout": "IPY_MODEL_1abfc9a7740f489fa9c8a0eba67dc9b1",
       "toolbar": "IPY_MODEL_fe93a16b7fb84ae4b59a3146c67fc1ae",
       "toolbar_position": "left"
      }
     },
     "e5a174e3e1fa4bc0bca6bf6966d562c4": {
      "model_module": "@jupyter-widgets/base",
      "model_module_version": "1.2.0",
      "model_name": "LayoutModel",
      "state": {}
     },
     "e5daabd9b9f24bd7ae03f9e7d9495f33": {
      "model_module": "@jupyter-widgets/base",
      "model_module_version": "1.2.0",
      "model_name": "LayoutModel",
      "state": {}
     },
     "e60d6a0234444671ac316fff6aa14823": {
      "model_module": "@jupyter-widgets/base",
      "model_module_version": "1.2.0",
      "model_name": "LayoutModel",
      "state": {}
     },
     "e68d8eae7b0b49ce823a88835e007ded": {
      "model_module": "@jupyter-widgets/base",
      "model_module_version": "1.2.0",
      "model_name": "LayoutModel",
      "state": {}
     },
     "e6d6df1f1569444f82c6c89ac5f56c0a": {
      "model_module": "@jupyter-widgets/base",
      "model_module_version": "1.2.0",
      "model_name": "LayoutModel",
      "state": {}
     },
     "e783eb8c3dff4a6fb8a133837d74cc4e": {
      "model_module": "@jupyter-widgets/controls",
      "model_module_version": "1.5.0",
      "model_name": "DescriptionStyleModel",
      "state": {
       "description_width": ""
      }
     },
     "e7c855151e23472ea90e0bfc022e49f9": {
      "model_module": "jupyter-matplotlib",
      "model_module_version": "^0.7.2",
      "model_name": "ToolbarModel",
      "state": {
       "layout": "IPY_MODEL_be7a27d1ac014bd9b993733e0d3c7ae0",
       "toolitems": [
        [
         "Home",
         "Reset original view",
         "home",
         "home"
        ],
        [
         "Back",
         "Back to previous view",
         "arrow-left",
         "back"
        ],
        [
         "Forward",
         "Forward to next view",
         "arrow-right",
         "forward"
        ],
        [
         "Pan",
         "Left button pans, Right button zooms\nx/y fixes axis, CTRL fixes aspect",
         "arrows",
         "pan"
        ],
        [
         "Zoom",
         "Zoom to rectangle\nx/y fixes axis, CTRL fixes aspect",
         "square-o",
         "zoom"
        ],
        [
         "Download",
         "Download plot",
         "floppy-o",
         "save_figure"
        ]
       ]
      }
     },
     "e8d31e69267a450ba86ee5d3e46ebc4d": {
      "model_module": "@jupyter-widgets/base",
      "model_module_version": "1.2.0",
      "model_name": "LayoutModel",
      "state": {}
     },
     "e8eaf24aa519442484d3af4e78eeeee9": {
      "model_module": "jupyter-matplotlib",
      "model_module_version": "^0.7.2",
      "model_name": "ToolbarModel",
      "state": {
       "layout": "IPY_MODEL_eff6ca663b964d86b52ffdf006fba323",
       "toolitems": [
        [
         "Home",
         "Reset original view",
         "home",
         "home"
        ],
        [
         "Back",
         "Back to previous view",
         "arrow-left",
         "back"
        ],
        [
         "Forward",
         "Forward to next view",
         "arrow-right",
         "forward"
        ],
        [
         "Pan",
         "Left button pans, Right button zooms\nx/y fixes axis, CTRL fixes aspect",
         "arrows",
         "pan"
        ],
        [
         "Zoom",
         "Zoom to rectangle\nx/y fixes axis, CTRL fixes aspect",
         "square-o",
         "zoom"
        ],
        [
         "Download",
         "Download plot",
         "floppy-o",
         "save_figure"
        ]
       ]
      }
     },
     "e9024ec31c344fa6b19af9dadc0682b4": {
      "model_module": "@jupyter-widgets/controls",
      "model_module_version": "1.5.0",
      "model_name": "HBoxModel",
      "state": {
       "children": [
        "IPY_MODEL_79e39f033d08433c86d2eaa43ea7c9ce",
        "IPY_MODEL_dde9f96e83ed4c9688f848b9953971a6"
       ],
       "layout": "IPY_MODEL_60ca924905c44a8492ac7d8b771c086e"
      }
     },
     "e9c5cbdb4d5446828916677280e8bb04": {
      "model_module": "@jupyter-widgets/base",
      "model_module_version": "1.2.0",
      "model_name": "LayoutModel",
      "state": {}
     },
     "eb1a92bb3b5e4d7f8648181b88a9940a": {
      "model_module": "@jupyter-widgets/controls",
      "model_module_version": "1.5.0",
      "model_name": "ProgressStyleModel",
      "state": {
       "description_width": "initial"
      }
     },
     "eb2ff502c6ee42a5aac2292e1fbf4f8c": {
      "model_module": "@jupyter-widgets/base",
      "model_module_version": "1.2.0",
      "model_name": "LayoutModel",
      "state": {}
     },
     "ebbaa47c640148fdadc56871deea65a4": {
      "model_module": "jupyter-matplotlib",
      "model_module_version": "^0.7.2",
      "model_name": "ToolbarModel",
      "state": {
       "layout": "IPY_MODEL_e6d6df1f1569444f82c6c89ac5f56c0a",
       "toolitems": [
        [
         "Home",
         "Reset original view",
         "home",
         "home"
        ],
        [
         "Back",
         "Back to previous view",
         "arrow-left",
         "back"
        ],
        [
         "Forward",
         "Forward to next view",
         "arrow-right",
         "forward"
        ],
        [
         "Pan",
         "Left button pans, Right button zooms\nx/y fixes axis, CTRL fixes aspect",
         "arrows",
         "pan"
        ],
        [
         "Zoom",
         "Zoom to rectangle\nx/y fixes axis, CTRL fixes aspect",
         "square-o",
         "zoom"
        ],
        [
         "Download",
         "Download plot",
         "floppy-o",
         "save_figure"
        ]
       ]
      }
     },
     "ebbf43e176ba4c84bde62a654cd7c39e": {
      "model_module": "jupyter-matplotlib",
      "model_module_version": "^0.7.2",
      "model_name": "MPLCanvasModel",
      "state": {
       "_cursor": "default",
       "_figure_label": "Figure 84",
       "_height": 200,
       "_width": 600,
       "header_visible": false,
       "layout": "IPY_MODEL_ebcf48d0b7634255ba6641cfa662ddba",
       "toolbar": "IPY_MODEL_b607ed3923544b1890faf3d6dfe2fdc0",
       "toolbar_position": "left"
      }
     },
     "ebcf48d0b7634255ba6641cfa662ddba": {
      "model_module": "@jupyter-widgets/base",
      "model_module_version": "1.2.0",
      "model_name": "LayoutModel",
      "state": {}
     },
     "ec214900ff534140b6f65a9dc6715240": {
      "model_module": "@jupyter-widgets/base",
      "model_module_version": "1.2.0",
      "model_name": "LayoutModel",
      "state": {}
     },
     "ecc0632ef6cd423f9d74ab2eda4710d4": {
      "model_module": "jupyter-matplotlib",
      "model_module_version": "^0.7.2",
      "model_name": "ToolbarModel",
      "state": {
       "layout": "IPY_MODEL_8424530bbdaa4b59a8edd1f0f8b5446b",
       "toolitems": [
        [
         "Home",
         "Reset original view",
         "home",
         "home"
        ],
        [
         "Back",
         "Back to previous view",
         "arrow-left",
         "back"
        ],
        [
         "Forward",
         "Forward to next view",
         "arrow-right",
         "forward"
        ],
        [
         "Pan",
         "Left button pans, Right button zooms\nx/y fixes axis, CTRL fixes aspect",
         "arrows",
         "pan"
        ],
        [
         "Zoom",
         "Zoom to rectangle\nx/y fixes axis, CTRL fixes aspect",
         "square-o",
         "zoom"
        ],
        [
         "Download",
         "Download plot",
         "floppy-o",
         "save_figure"
        ]
       ]
      }
     },
     "ed66fdc157bc40a8b51a203eaea3ab45": {
      "model_module": "jupyter-matplotlib",
      "model_module_version": "^0.7.2",
      "model_name": "MPLCanvasModel",
      "state": {
       "_cursor": "default",
       "_figure_label": "Figure 24",
       "_height": 200,
       "_width": 800,
       "header_visible": false,
       "layout": "IPY_MODEL_9683f254bc134405919ea39f88fd56ac",
       "toolbar": "IPY_MODEL_d7c54d2c2bfb479499277a8313c612b4",
       "toolbar_position": "left"
      }
     },
     "edb240e33a7948a0bbf90ef7af0d0615": {
      "model_module": "@jupyter-widgets/controls",
      "model_module_version": "1.5.0",
      "model_name": "HTMLModel",
      "state": {
       "layout": "IPY_MODEL_f32f84f097534be5b3e82d30bf5ebb7e",
       "style": "IPY_MODEL_058abd210bf54196a9750cf6a55d30d4",
       "value": " 1000/1000 [07:14&lt;00:00,  2.30it/s]"
      }
     },
     "ee0496b40ca84296afe56d3b2f042c1d": {
      "model_module": "@jupyter-widgets/base",
      "model_module_version": "1.2.0",
      "model_name": "LayoutModel",
      "state": {}
     },
     "ee3ea5f55a934ca3a7619e4e5ae4bf46": {
      "model_module": "@jupyter-widgets/controls",
      "model_module_version": "1.5.0",
      "model_name": "FloatProgressModel",
      "state": {
       "bar_style": "success",
       "description": "100%",
       "layout": "IPY_MODEL_50476264e6c940f1be9dc9a68943191f",
       "max": 1000,
       "style": "IPY_MODEL_40dc8ad8980a494bbed1449afdff0577",
       "value": 1000
      }
     },
     "ee3f409ab95441cdb4ae365d1b086263": {
      "model_module": "@jupyter-widgets/base",
      "model_module_version": "1.2.0",
      "model_name": "LayoutModel",
      "state": {}
     },
     "ee6055a8d5a74dfb838ad1860cbd9bbc": {
      "model_module": "jupyter-matplotlib",
      "model_module_version": "^0.7.2",
      "model_name": "ToolbarModel",
      "state": {
       "layout": "IPY_MODEL_134c53d0755e4217ad1f8ea3e873a289",
       "toolitems": [
        [
         "Home",
         "Reset original view",
         "home",
         "home"
        ],
        [
         "Back",
         "Back to previous view",
         "arrow-left",
         "back"
        ],
        [
         "Forward",
         "Forward to next view",
         "arrow-right",
         "forward"
        ],
        [
         "Pan",
         "Left button pans, Right button zooms\nx/y fixes axis, CTRL fixes aspect",
         "arrows",
         "pan"
        ],
        [
         "Zoom",
         "Zoom to rectangle\nx/y fixes axis, CTRL fixes aspect",
         "square-o",
         "zoom"
        ],
        [
         "Download",
         "Download plot",
         "floppy-o",
         "save_figure"
        ]
       ]
      }
     },
     "ee7de61f65814e199aba229be8df4656": {
      "model_module": "@jupyter-widgets/base",
      "model_module_version": "1.2.0",
      "model_name": "LayoutModel",
      "state": {}
     },
     "eeb9c4428f9843d19cb424edf5a95a99": {
      "model_module": "jupyter-matplotlib",
      "model_module_version": "^0.7.2",
      "model_name": "MPLCanvasModel",
      "state": {
       "_cursor": "default",
       "_figure_label": "Figure 99",
       "_height": 200,
       "_width": 600,
       "header_visible": false,
       "layout": "IPY_MODEL_631e2d6ce47944b5a7000eae33883e54",
       "toolbar": "IPY_MODEL_baadf3e690374fa6a28b2915561aa4d9",
       "toolbar_position": "left"
      }
     },
     "ef390da773574e26a01da9ac85667304": {
      "model_module": "@jupyter-widgets/controls",
      "model_module_version": "1.5.0",
      "model_name": "HBoxModel",
      "state": {
       "children": [
        "IPY_MODEL_d6fba65b457c44ba8995ab8629553c01",
        "IPY_MODEL_19a59065417a4cea9b25ee24603e402d"
       ],
       "layout": "IPY_MODEL_d7856b182ac644ffb6cb99bbe0e24c72"
      }
     },
     "ef470af3136b44bf94c3d924247b50e1": {
      "model_module": "jupyter-matplotlib",
      "model_module_version": "^0.7.2",
      "model_name": "ToolbarModel",
      "state": {
       "layout": "IPY_MODEL_58d849c781c64d36a3f0dbf09bc9d5b9",
       "toolitems": [
        [
         "Home",
         "Reset original view",
         "home",
         "home"
        ],
        [
         "Back",
         "Back to previous view",
         "arrow-left",
         "back"
        ],
        [
         "Forward",
         "Forward to next view",
         "arrow-right",
         "forward"
        ],
        [
         "Pan",
         "Left button pans, Right button zooms\nx/y fixes axis, CTRL fixes aspect",
         "arrows",
         "pan"
        ],
        [
         "Zoom",
         "Zoom to rectangle\nx/y fixes axis, CTRL fixes aspect",
         "square-o",
         "zoom"
        ],
        [
         "Download",
         "Download plot",
         "floppy-o",
         "save_figure"
        ]
       ]
      }
     },
     "eff6ca663b964d86b52ffdf006fba323": {
      "model_module": "@jupyter-widgets/base",
      "model_module_version": "1.2.0",
      "model_name": "LayoutModel",
      "state": {}
     },
     "f028f3608edd4668a2451644dad91129": {
      "model_module": "@jupyter-widgets/controls",
      "model_module_version": "1.5.0",
      "model_name": "FloatProgressModel",
      "state": {
       "bar_style": "success",
       "description": "100%",
       "layout": "IPY_MODEL_37d30d36af56495a8c8119635debff6c",
       "max": 1000,
       "style": "IPY_MODEL_b974f15a5959442eb0430d466ae7b8f0",
       "value": 1000
      }
     },
     "f0c2e984426f4b87a23603d2444b450f": {
      "model_module": "jupyter-matplotlib",
      "model_module_version": "^0.7.2",
      "model_name": "MPLCanvasModel",
      "state": {
       "_cursor": "default",
       "_figure_label": "Figure 46",
       "_height": 200,
       "_message": "x=−2.335 y=136.",
       "_width": 600,
       "header_visible": false,
       "layout": "IPY_MODEL_77be16439b074ee3a4cc5d5e2c3cd810",
       "toolbar": "IPY_MODEL_24d04764a2ed4385b107a588c435c1b4",
       "toolbar_position": "left"
      }
     },
     "f0c6666fad9e4ad1ad3131b8c180148e": {
      "model_module": "jupyter-matplotlib",
      "model_module_version": "^0.7.2",
      "model_name": "ToolbarModel",
      "state": {
       "layout": "IPY_MODEL_2a3d1da54e7849c4a345ee42157ab68d",
       "toolitems": [
        [
         "Home",
         "Reset original view",
         "home",
         "home"
        ],
        [
         "Back",
         "Back to previous view",
         "arrow-left",
         "back"
        ],
        [
         "Forward",
         "Forward to next view",
         "arrow-right",
         "forward"
        ],
        [
         "Pan",
         "Left button pans, Right button zooms\nx/y fixes axis, CTRL fixes aspect",
         "arrows",
         "pan"
        ],
        [
         "Zoom",
         "Zoom to rectangle\nx/y fixes axis, CTRL fixes aspect",
         "square-o",
         "zoom"
        ],
        [
         "Download",
         "Download plot",
         "floppy-o",
         "save_figure"
        ]
       ]
      }
     },
     "f1763b9d766140118b05d99a6236d043": {
      "model_module": "jupyter-matplotlib",
      "model_module_version": "^0.7.2",
      "model_name": "MPLCanvasModel",
      "state": {
       "_cursor": "default",
       "_figure_label": "Figure 89",
       "_height": 200,
       "_width": 600,
       "header_visible": false,
       "layout": "IPY_MODEL_503cea85ce7443ef90a70cd9aa1f9ab3",
       "toolbar": "IPY_MODEL_feb2e574b35844c0810f0288a30b3958",
       "toolbar_position": "left"
      }
     },
     "f20807566df6462a937c6a891136f2a3": {
      "model_module": "@jupyter-widgets/controls",
      "model_module_version": "1.5.0",
      "model_name": "ProgressStyleModel",
      "state": {
       "description_width": "initial"
      }
     },
     "f28902ffd1f64294aad3e5674fb9590d": {
      "model_module": "@jupyter-widgets/controls",
      "model_module_version": "1.5.0",
      "model_name": "FloatProgressModel",
      "state": {
       "bar_style": "success",
       "description": "100%",
       "layout": "IPY_MODEL_7008e9eb1d5e42769dae175a73d16371",
       "max": 1000,
       "style": "IPY_MODEL_192cc789f3694ae8832c5877ec6547e9",
       "value": 1000
      }
     },
     "f2d6c4207006432ebfa6afcb68a27bd4": {
      "model_module": "jupyter-matplotlib",
      "model_module_version": "^0.7.2",
      "model_name": "MPLCanvasModel",
      "state": {
       "_cursor": "default",
       "_figure_label": "Figure 50",
       "_height": 200,
       "_message": "zoom rect",
       "_width": 600,
       "header_visible": false,
       "layout": "IPY_MODEL_26139d5a40c049ca8e9d2889849c4f49",
       "toolbar": "IPY_MODEL_43c6dd48990d4f54a2ebc7944d1375cd",
       "toolbar_position": "left"
      }
     },
     "f32f84f097534be5b3e82d30bf5ebb7e": {
      "model_module": "@jupyter-widgets/base",
      "model_module_version": "1.2.0",
      "model_name": "LayoutModel",
      "state": {}
     },
     "f3f26d6d7200438fa28f161a1f368fee": {
      "model_module": "jupyter-matplotlib",
      "model_module_version": "^0.7.2",
      "model_name": "ToolbarModel",
      "state": {
       "layout": "IPY_MODEL_064b06a5aded45a292e64abf3af42551",
       "toolitems": [
        [
         "Home",
         "Reset original view",
         "home",
         "home"
        ],
        [
         "Back",
         "Back to previous view",
         "arrow-left",
         "back"
        ],
        [
         "Forward",
         "Forward to next view",
         "arrow-right",
         "forward"
        ],
        [
         "Pan",
         "Left button pans, Right button zooms\nx/y fixes axis, CTRL fixes aspect",
         "arrows",
         "pan"
        ],
        [
         "Zoom",
         "Zoom to rectangle\nx/y fixes axis, CTRL fixes aspect",
         "square-o",
         "zoom"
        ],
        [
         "Download",
         "Download plot",
         "floppy-o",
         "save_figure"
        ]
       ]
      }
     },
     "f44722df479449879d995810dabf1188": {
      "model_module": "@jupyter-widgets/base",
      "model_module_version": "1.2.0",
      "model_name": "LayoutModel",
      "state": {}
     },
     "f4543b1647fa4f5787d27809a6918b24": {
      "model_module": "jupyter-matplotlib",
      "model_module_version": "^0.7.2",
      "model_name": "MPLCanvasModel",
      "state": {
       "_cursor": "default",
       "_figure_label": "Figure 69",
       "_height": 200,
       "_width": 600,
       "header_visible": false,
       "layout": "IPY_MODEL_d448e908d2f84cb1a957d2b333a1662b",
       "toolbar": "IPY_MODEL_f0c6666fad9e4ad1ad3131b8c180148e",
       "toolbar_position": "left"
      }
     },
     "f4a2e0da883140daa23e91977fb6b598": {
      "model_module": "jupyter-matplotlib",
      "model_module_version": "^0.7.2",
      "model_name": "ToolbarModel",
      "state": {
       "layout": "IPY_MODEL_6cf89e35297d4f97944f01ea854ae2bb",
       "toolitems": [
        [
         "Home",
         "Reset original view",
         "home",
         "home"
        ],
        [
         "Back",
         "Back to previous view",
         "arrow-left",
         "back"
        ],
        [
         "Forward",
         "Forward to next view",
         "arrow-right",
         "forward"
        ],
        [
         "Pan",
         "Left button pans, Right button zooms\nx/y fixes axis, CTRL fixes aspect",
         "arrows",
         "pan"
        ],
        [
         "Zoom",
         "Zoom to rectangle\nx/y fixes axis, CTRL fixes aspect",
         "square-o",
         "zoom"
        ],
        [
         "Download",
         "Download plot",
         "floppy-o",
         "save_figure"
        ]
       ]
      }
     },
     "f759b92a8e01485d873909bd72322b20": {
      "model_module": "@jupyter-widgets/controls",
      "model_module_version": "1.5.0",
      "model_name": "ProgressStyleModel",
      "state": {
       "description_width": "initial"
      }
     },
     "f7cab5a6859e4b638d0fc468a7633ab3": {
      "model_module": "@jupyter-widgets/base",
      "model_module_version": "1.2.0",
      "model_name": "LayoutModel",
      "state": {}
     },
     "f7e64bb40a734e00ada4c532d075d719": {
      "model_module": "@jupyter-widgets/base",
      "model_module_version": "1.2.0",
      "model_name": "LayoutModel",
      "state": {}
     },
     "f830e1b806c042e8979bb78275184b5f": {
      "model_module": "@jupyter-widgets/base",
      "model_module_version": "1.2.0",
      "model_name": "LayoutModel",
      "state": {}
     },
     "f834f2e773b04f1ab65fab6b661ce745": {
      "model_module": "@jupyter-widgets/controls",
      "model_module_version": "1.5.0",
      "model_name": "HTMLModel",
      "state": {
       "layout": "IPY_MODEL_00116b56978e42e8aea01e1250c713fd",
       "style": "IPY_MODEL_9f73a27b425844808dbb5e8d52fe4c34",
       "value": " 1000/1000 [01:44&lt;00:00,  9.53it/s]"
      }
     },
     "f8834c108be046668cd2360a1ebacba0": {
      "model_module": "@jupyter-widgets/base",
      "model_module_version": "1.2.0",
      "model_name": "LayoutModel",
      "state": {}
     },
     "f8cd825a17a14224aa04334c6d46c455": {
      "model_module": "jupyter-matplotlib",
      "model_module_version": "^0.7.2",
      "model_name": "MPLCanvasModel",
      "state": {
       "_cursor": "default",
       "_figure_label": "Figure 87",
       "_height": 200,
       "_width": 600,
       "header_visible": false,
       "layout": "IPY_MODEL_72af4519bebe474c993f9fe7fa419c88",
       "toolbar": "IPY_MODEL_8e630b297c3246dca9a0f18715d8b19c",
       "toolbar_position": "left"
      }
     },
     "f960a248548d42b1981f18f2daeec020": {
      "model_module": "@jupyter-widgets/base",
      "model_module_version": "1.2.0",
      "model_name": "LayoutModel",
      "state": {}
     },
     "f9e9415eb5d84e488bb00968aecd9244": {
      "model_module": "@jupyter-widgets/base",
      "model_module_version": "1.2.0",
      "model_name": "LayoutModel",
      "state": {}
     },
     "faa8fd9dfa69402d88d348f4e41afec6": {
      "model_module": "@jupyter-widgets/base",
      "model_module_version": "1.2.0",
      "model_name": "LayoutModel",
      "state": {}
     },
     "fb037d2bff614a5baf695983e77902b0": {
      "model_module": "@jupyter-widgets/controls",
      "model_module_version": "1.5.0",
      "model_name": "DescriptionStyleModel",
      "state": {
       "description_width": ""
      }
     },
     "fc07b5fab4334654a8271e02854facbe": {
      "model_module": "@jupyter-widgets/controls",
      "model_module_version": "1.5.0",
      "model_name": "HTMLModel",
      "state": {
       "layout": "IPY_MODEL_bd1cff42c18d4cb0874b713ab36c593c",
       "style": "IPY_MODEL_730d2993cf1e40ce8398c63f28a245c3",
       "value": " 1000/1000 [00:48&lt;00:00, 20.60it/s]"
      }
     },
     "fcdd17a0cc56484da0d7feb75539cff8": {
      "model_module": "@jupyter-widgets/base",
      "model_module_version": "1.2.0",
      "model_name": "LayoutModel",
      "state": {}
     },
     "fd35eca5302f40aab382a2849fa2950c": {
      "model_module": "@jupyter-widgets/base",
      "model_module_version": "1.2.0",
      "model_name": "LayoutModel",
      "state": {}
     },
     "fd63058b824c4e3ca5a611e3d2b217db": {
      "model_module": "@jupyter-widgets/controls",
      "model_module_version": "1.5.0",
      "model_name": "FloatProgressModel",
      "state": {
       "bar_style": "success",
       "description": "100%",
       "layout": "IPY_MODEL_89d8c4a78a914ac9acfd6ba0f73e1471",
       "max": 1000,
       "style": "IPY_MODEL_6d045737e3434404bef0088cc7c71405",
       "value": 1000
      }
     },
     "fda01dc085ac4ac698ce43be2b5c0dca": {
      "model_module": "@jupyter-widgets/controls",
      "model_module_version": "1.5.0",
      "model_name": "HBoxModel",
      "state": {
       "children": [
        "IPY_MODEL_cfe7ab7d96374682bc7d76adc962d381",
        "IPY_MODEL_3dcf2668ec314010bc329f6162df497c"
       ],
       "layout": "IPY_MODEL_a5c6b2932b1d47c68bca4271a9109074"
      }
     },
     "fe93a16b7fb84ae4b59a3146c67fc1ae": {
      "model_module": "jupyter-matplotlib",
      "model_module_version": "^0.7.2",
      "model_name": "ToolbarModel",
      "state": {
       "layout": "IPY_MODEL_bfdeb420938f4d0ab6b2333746702841",
       "toolitems": [
        [
         "Home",
         "Reset original view",
         "home",
         "home"
        ],
        [
         "Back",
         "Back to previous view",
         "arrow-left",
         "back"
        ],
        [
         "Forward",
         "Forward to next view",
         "arrow-right",
         "forward"
        ],
        [
         "Pan",
         "Left button pans, Right button zooms\nx/y fixes axis, CTRL fixes aspect",
         "arrows",
         "pan"
        ],
        [
         "Zoom",
         "Zoom to rectangle\nx/y fixes axis, CTRL fixes aspect",
         "square-o",
         "zoom"
        ],
        [
         "Download",
         "Download plot",
         "floppy-o",
         "save_figure"
        ]
       ]
      }
     },
     "feb2e574b35844c0810f0288a30b3958": {
      "model_module": "jupyter-matplotlib",
      "model_module_version": "^0.7.2",
      "model_name": "ToolbarModel",
      "state": {
       "layout": "IPY_MODEL_b32f13eabed84d8e9da0f4ac8e41778c",
       "toolitems": [
        [
         "Home",
         "Reset original view",
         "home",
         "home"
        ],
        [
         "Back",
         "Back to previous view",
         "arrow-left",
         "back"
        ],
        [
         "Forward",
         "Forward to next view",
         "arrow-right",
         "forward"
        ],
        [
         "Pan",
         "Left button pans, Right button zooms\nx/y fixes axis, CTRL fixes aspect",
         "arrows",
         "pan"
        ],
        [
         "Zoom",
         "Zoom to rectangle\nx/y fixes axis, CTRL fixes aspect",
         "square-o",
         "zoom"
        ],
        [
         "Download",
         "Download plot",
         "floppy-o",
         "save_figure"
        ]
       ]
      }
     },
     "ff23d97486b844b5b58ab738f0305656": {
      "model_module": "jupyter-matplotlib",
      "model_module_version": "^0.7.2",
      "model_name": "ToolbarModel",
      "state": {
       "layout": "IPY_MODEL_c84b80e05daa4b1db990233db293871a",
       "toolitems": [
        [
         "Home",
         "Reset original view",
         "home",
         "home"
        ],
        [
         "Back",
         "Back to previous view",
         "arrow-left",
         "back"
        ],
        [
         "Forward",
         "Forward to next view",
         "arrow-right",
         "forward"
        ],
        [
         "Pan",
         "Left button pans, Right button zooms\nx/y fixes axis, CTRL fixes aspect",
         "arrows",
         "pan"
        ],
        [
         "Zoom",
         "Zoom to rectangle\nx/y fixes axis, CTRL fixes aspect",
         "square-o",
         "zoom"
        ],
        [
         "Download",
         "Download plot",
         "floppy-o",
         "save_figure"
        ]
       ]
      }
     },
     "ff85d3e0267d411381c25eb01f8d7efd": {
      "model_module": "jupyter-matplotlib",
      "model_module_version": "^0.7.2",
      "model_name": "MPLCanvasModel",
      "state": {
       "_cursor": "default",
       "_figure_label": "Figure 45",
       "_height": 200,
       "_width": 600,
       "header_visible": false,
       "layout": "IPY_MODEL_5e6454a65170420795099db53146eddc",
       "toolbar": "IPY_MODEL_6031d6c877154031840dcd968917fa66",
       "toolbar_position": "left"
      }
     },
     "ff97024312544947a2c9776e07e00349": {
      "model_module": "@jupyter-widgets/base",
      "model_module_version": "1.2.0",
      "model_name": "LayoutModel",
      "state": {}
     },
     "ffb52f9c0cb442d7b46e0758c0cb97b8": {
      "model_module": "@jupyter-widgets/controls",
      "model_module_version": "1.5.0",
      "model_name": "HTMLModel",
      "state": {
       "layout": "IPY_MODEL_a6982964a27f451b9ed6325eca23b59a",
       "style": "IPY_MODEL_8af226576ee540bfa04d3b470d2ba139",
       "value": " 1000/1000 [00:24&lt;00:00, 41.13it/s]"
      }
     },
     "ffc8f33bed8d426d86944dbad449a342": {
      "model_module": "jupyter-matplotlib",
      "model_module_version": "^0.7.2",
      "model_name": "ToolbarModel",
      "state": {
       "layout": "IPY_MODEL_0efe2705860b4293bf0c3b16a1bafca8",
       "toolitems": [
        [
         "Home",
         "Reset original view",
         "home",
         "home"
        ],
        [
         "Back",
         "Back to previous view",
         "arrow-left",
         "back"
        ],
        [
         "Forward",
         "Forward to next view",
         "arrow-right",
         "forward"
        ],
        [
         "Pan",
         "Left button pans, Right button zooms\nx/y fixes axis, CTRL fixes aspect",
         "arrows",
         "pan"
        ],
        [
         "Zoom",
         "Zoom to rectangle\nx/y fixes axis, CTRL fixes aspect",
         "square-o",
         "zoom"
        ],
        [
         "Download",
         "Download plot",
         "floppy-o",
         "save_figure"
        ]
       ]
      }
     }
    },
    "version_major": 2,
    "version_minor": 0
   }
  }
 },
 "nbformat": 4,
 "nbformat_minor": 4
}
