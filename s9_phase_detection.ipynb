{
 "cells": [
  {
   "cell_type": "markdown",
   "metadata": {},
   "source": [
    "In this notebook, we develop code to extract the phase of different rhythms at all times.  \n",
    "See http://www.scholarpedia.org/article/Hilbert_transform_for_brain_waves for details on Hilbert Transform.  \n",
    "  \n",
    "The second section is based on the autoregressive causal phase estimation algorithm phastimate, from here: https://github.com/bnplab/phastimate"
   ]
  },
  {
   "cell_type": "code",
   "execution_count": 1,
   "metadata": {
    "execution": {
     "iopub.execute_input": "2020-10-20T22:55:48.522347Z",
     "iopub.status.busy": "2020-10-20T22:55:48.521575Z",
     "iopub.status.idle": "2020-10-20T22:55:58.299891Z",
     "shell.execute_reply": "2020-10-20T22:55:58.298533Z",
     "shell.execute_reply.started": "2020-10-20T22:55:48.522238Z"
    }
   },
   "outputs": [],
   "source": [
    "%load_ext autoreload\n",
    "%autoreload 2\n",
    "import warnings\n",
    "\n",
    "import numpy as np\n",
    "import pandas as pd\n",
    "import matplotlib.pyplot as plt\n",
    "from matplotlib import cm, patches\n",
    "import matplotlib.gridspec as gridspec\n",
    "import scipy\n",
    "from scipy import signal\n",
    "from tqdm.auto import tqdm\n",
    "with warnings.catch_warnings():\n",
    "    warnings.simplefilter('ignore')\n",
    "    tqdm.pandas()\n",
    "from spectrum import aryule\n",
    "\n",
    "from tbd_eeg.data_analysis.eegutils import *\n",
    "from tbd_eeg.data_analysis.Utilities import utilities as utils\n",
    "from tbd_eeg.data_analysis.Utilities import filters\n",
    "\n",
    "from plot_electrodes import *\n",
    "\n",
    "from ipympl.backend_nbagg import Canvas\n",
    "Canvas.header_visible.default_value = False\n",
    "%matplotlib widget"
   ]
  },
  {
   "cell_type": "code",
   "execution_count": 2,
   "metadata": {
    "execution": {
     "iopub.execute_input": "2020-10-20T22:55:58.302536Z",
     "iopub.status.busy": "2020-10-20T22:55:58.302120Z",
     "iopub.status.idle": "2020-10-20T22:55:58.323871Z",
     "shell.execute_reply": "2020-10-20T22:55:58.323423Z",
     "shell.execute_reply.started": "2020-10-20T22:55:58.302479Z"
    }
   },
   "outputs": [],
   "source": [
    "epoch_cms = {\n",
    "    'pre' : cm.Reds,\n",
    "    'iso_high' : cm.PuOr,\n",
    "    'iso_low' : cm.PuOr_r,\n",
    "    'early_recovery': cm.Blues,\n",
    "    'late_recovery' : cm.Greens\n",
    "}\n",
    "\n",
    "bands = {\n",
    "    'delta' : (1, 4),\n",
    "    'theta' : (5, 8),\n",
    "    'alpha' : (9, 13),\n",
    "    'beta' : (15, 35),\n",
    "}"
   ]
  },
  {
   "cell_type": "code",
   "execution_count": 3,
   "metadata": {
    "execution": {
     "iopub.execute_input": "2020-10-20T22:55:58.324873Z",
     "iopub.status.busy": "2020-10-20T22:55:58.324681Z",
     "iopub.status.idle": "2020-10-20T22:56:05.706059Z",
     "shell.execute_reply": "2020-10-20T22:56:05.704466Z",
     "shell.execute_reply.started": "2020-10-20T22:55:58.324846Z"
    }
   },
   "outputs": [
    {
     "name": "stdout",
     "output_type": "stream",
     "text": [
      "The settings.xml file was not found.\n"
     ]
    },
    {
     "name": "stdin",
     "output_type": "stream",
     "text": [
      "Was the recording done on NP4? [y/n]  y\n"
     ]
    },
    {
     "name": "stdout",
     "output_type": "stream",
     "text": [
      "Experiment type: electrical stimulation.\n",
      "SomnoSuite log file not found.\n",
      "Identifying valid channels...\n",
      "The following channels seem to be correctly connected and report valid data:\n",
      "[0, 1, 2, 3, 4, 5, 6, 7, 8, 9, 10, 11, 12, 13, 14, 15, 16, 17, 18, 19, 20, 21, 22, 23, 24, 25, 26, 27, 28, 29, 30, 31]\n",
      "Loading other data...\n",
      "iso on at 1439.6\n",
      "iso reduced at 1658.38\n",
      "iso off at 2965.83\n",
      "Annotating artifacts...\n"
     ]
    }
   ],
   "source": [
    "data_folder = \"../tiny-blue-dot/zap-n-zip/EEG_exp/mouse521886/estim1_2020-07-16_13-37-02/experiment1/recording1/\"\n",
    "\n",
    "# set the sample_rate for all data analysis\n",
    "sample_rate = 200\n",
    "\n",
    "# load experiment metadata and eeg data\n",
    "exp = EEGexp(data_folder)\n",
    "eegdata = exp.load_eegdata(frequency=sample_rate, return_type='pd')\n",
    "\n",
    "# locate valid channels (some channels can be disconnected and we want to ignore them in the analysis)\n",
    "print('Identifying valid channels...')\n",
    "median_amplitude = eegdata[:sample_rate*300].apply(\n",
    "    utils.median_amplitude, raw=True, axis=0, distance=sample_rate\n",
    ")\n",
    "valid_channels = median_amplitude.index[median_amplitude < 2000].values\n",
    "print('The following channels seem to be correctly connected and report valid data:')\n",
    "print(list(valid_channels))\n",
    "\n",
    "# load other data (running, iso etc)\n",
    "print('Loading other data...')\n",
    "running_speed = exp.load_running(return_type='pd')\n",
    "iso = exp.load_analog_iso(return_type='pd')\n",
    "\n",
    "# automatically annotate anesthesia epochs\n",
    "iso_first_on = (iso>4).idxmax()\n",
    "print('iso on at', iso_first_on)\n",
    "iso_first_mid = ((iso[iso.index>iso_first_on]>1)&(iso[iso.index>iso_first_on]<4)).idxmax()\n",
    "print('iso reduced at', iso_first_mid)\n",
    "iso_first_off = (iso>1)[::-1].idxmax()\n",
    "print('iso off at', iso_first_off)\n",
    "\n",
    "# annotate artifacts with power in high frequencies\n",
    "print('Annotating artifacts...')\n",
    "hf_annots = pd.Series(\n",
    "    eegdata[valid_channels].apply(\n",
    "        find_hf_annotations, axis=0,\n",
    "        sample_rate=sample_rate, fmin=300, pmin=0.25\n",
    "    ).mean(axis=1),\n",
    "    name='artifact'\n",
    ")\n",
    "recovery_first_jump = (hf_annots>4)[hf_annots.index>iso_first_off].idxmax()\n",
    "\n",
    "epochs = pd.Series(\n",
    "    index = [0, iso_first_on-0.001, iso_first_on+0.001, iso_first_mid-0.001,\n",
    "             iso_first_mid+0.001, iso_first_off-0.001, iso_first_off+0.001,\n",
    "             recovery_first_jump-0.001, recovery_first_jump+0.001, eegdata.index[-1]],\n",
    "    data=['pre', 'pre', 'iso_high', 'iso_high', 'iso_low', 'iso_low',\n",
    "          'early_recovery', 'early_recovery', 'late_recovery', 'late_recovery'],\n",
    "    dtype=pd.CategoricalDtype(\n",
    "        categories=['pre', 'iso_high', 'iso_low', 'early_recovery', 'late_recovery'],\n",
    "        ordered=True\n",
    "    )\n",
    ")"
   ]
  },
  {
   "cell_type": "code",
   "execution_count": 4,
   "metadata": {
    "execution": {
     "iopub.execute_input": "2020-10-20T22:56:05.708660Z",
     "iopub.status.busy": "2020-10-20T22:56:05.708144Z",
     "iopub.status.idle": "2020-10-20T22:56:09.063354Z",
     "shell.execute_reply": "2020-10-20T22:56:09.062735Z",
     "shell.execute_reply.started": "2020-10-20T22:56:05.708514Z"
    }
   },
   "outputs": [
    {
     "data": {
      "text/html": [
       "<div>\n",
       "<style scoped>\n",
       "    .dataframe tbody tr th:only-of-type {\n",
       "        vertical-align: middle;\n",
       "    }\n",
       "\n",
       "    .dataframe tbody tr th {\n",
       "        vertical-align: top;\n",
       "    }\n",
       "\n",
       "    .dataframe thead th {\n",
       "        text-align: right;\n",
       "    }\n",
       "</style>\n",
       "<table border=\"1\" class=\"dataframe\">\n",
       "  <thead>\n",
       "    <tr style=\"text-align: right;\">\n",
       "      <th></th>\n",
       "      <th></th>\n",
       "      <th></th>\n",
       "      <th></th>\n",
       "      <th></th>\n",
       "      <th></th>\n",
       "      <th></th>\n",
       "      <th>0</th>\n",
       "      <th>1</th>\n",
       "      <th>2</th>\n",
       "      <th>3</th>\n",
       "      <th>4</th>\n",
       "      <th>5</th>\n",
       "      <th>6</th>\n",
       "      <th>7</th>\n",
       "      <th>8</th>\n",
       "      <th>9</th>\n",
       "      <th>10</th>\n",
       "      <th>11</th>\n",
       "      <th>12</th>\n",
       "      <th>13</th>\n",
       "      <th>14</th>\n",
       "      <th>15</th>\n",
       "      <th>16</th>\n",
       "      <th>17</th>\n",
       "      <th>18</th>\n",
       "      <th>19</th>\n",
       "      <th>20</th>\n",
       "      <th>21</th>\n",
       "      <th>22</th>\n",
       "      <th>23</th>\n",
       "      <th>24</th>\n",
       "      <th>25</th>\n",
       "      <th>26</th>\n",
       "      <th>27</th>\n",
       "      <th>28</th>\n",
       "      <th>29</th>\n",
       "      <th>30</th>\n",
       "      <th>31</th>\n",
       "    </tr>\n",
       "    <tr>\n",
       "      <th>time</th>\n",
       "      <th>amplitude</th>\n",
       "      <th>duration</th>\n",
       "      <th>onset</th>\n",
       "      <th>offset</th>\n",
       "      <th>sweep</th>\n",
       "      <th>id</th>\n",
       "      <th></th>\n",
       "      <th></th>\n",
       "      <th></th>\n",
       "      <th></th>\n",
       "      <th></th>\n",
       "      <th></th>\n",
       "      <th></th>\n",
       "      <th></th>\n",
       "      <th></th>\n",
       "      <th></th>\n",
       "      <th></th>\n",
       "      <th></th>\n",
       "      <th></th>\n",
       "      <th></th>\n",
       "      <th></th>\n",
       "      <th></th>\n",
       "      <th></th>\n",
       "      <th></th>\n",
       "      <th></th>\n",
       "      <th></th>\n",
       "      <th></th>\n",
       "      <th></th>\n",
       "      <th></th>\n",
       "      <th></th>\n",
       "      <th></th>\n",
       "      <th></th>\n",
       "      <th></th>\n",
       "      <th></th>\n",
       "      <th></th>\n",
       "      <th></th>\n",
       "      <th></th>\n",
       "      <th></th>\n",
       "    </tr>\n",
       "  </thead>\n",
       "  <tbody>\n",
       "    <tr>\n",
       "      <th>12.932482</th>\n",
       "      <th>0.0</th>\n",
       "      <th>400.0</th>\n",
       "      <th>0.00000</th>\n",
       "      <th>134.81291</th>\n",
       "      <th>-1.0</th>\n",
       "      <th>-1.0</th>\n",
       "      <td>12</td>\n",
       "      <td>7</td>\n",
       "      <td>6</td>\n",
       "      <td>11</td>\n",
       "      <td>17</td>\n",
       "      <td>16</td>\n",
       "      <td>11</td>\n",
       "      <td>22</td>\n",
       "      <td>32</td>\n",
       "      <td>70</td>\n",
       "      <td>76</td>\n",
       "      <td>88</td>\n",
       "      <td>92</td>\n",
       "      <td>89</td>\n",
       "      <td>62</td>\n",
       "      <td>48</td>\n",
       "      <td>50</td>\n",
       "      <td>59</td>\n",
       "      <td>33</td>\n",
       "      <td>31</td>\n",
       "      <td>14</td>\n",
       "      <td>21</td>\n",
       "      <td>18</td>\n",
       "      <td>12</td>\n",
       "      <td>19</td>\n",
       "      <td>5</td>\n",
       "      <td>5</td>\n",
       "      <td>7</td>\n",
       "      <td>1</td>\n",
       "      <td>5</td>\n",
       "      <td>-61</td>\n",
       "      <td>-25</td>\n",
       "    </tr>\n",
       "    <tr>\n",
       "      <th>12.937282</th>\n",
       "      <th>0.0</th>\n",
       "      <th>400.0</th>\n",
       "      <th>0.00000</th>\n",
       "      <th>134.81291</th>\n",
       "      <th>-1.0</th>\n",
       "      <th>-1.0</th>\n",
       "      <td>-2</td>\n",
       "      <td>2</td>\n",
       "      <td>4</td>\n",
       "      <td>-1</td>\n",
       "      <td>4</td>\n",
       "      <td>9</td>\n",
       "      <td>-1</td>\n",
       "      <td>9</td>\n",
       "      <td>28</td>\n",
       "      <td>21</td>\n",
       "      <td>32</td>\n",
       "      <td>35</td>\n",
       "      <td>45</td>\n",
       "      <td>30</td>\n",
       "      <td>29</td>\n",
       "      <td>37</td>\n",
       "      <td>34</td>\n",
       "      <td>43</td>\n",
       "      <td>33</td>\n",
       "      <td>25</td>\n",
       "      <td>17</td>\n",
       "      <td>21</td>\n",
       "      <td>19</td>\n",
       "      <td>12</td>\n",
       "      <td>14</td>\n",
       "      <td>10</td>\n",
       "      <td>8</td>\n",
       "      <td>12</td>\n",
       "      <td>12</td>\n",
       "      <td>8</td>\n",
       "      <td>21</td>\n",
       "      <td>66</td>\n",
       "    </tr>\n",
       "    <tr>\n",
       "      <th>12.942082</th>\n",
       "      <th>0.0</th>\n",
       "      <th>400.0</th>\n",
       "      <th>0.00000</th>\n",
       "      <th>134.81291</th>\n",
       "      <th>-1.0</th>\n",
       "      <th>-1.0</th>\n",
       "      <td>12</td>\n",
       "      <td>8</td>\n",
       "      <td>7</td>\n",
       "      <td>16</td>\n",
       "      <td>17</td>\n",
       "      <td>14</td>\n",
       "      <td>16</td>\n",
       "      <td>25</td>\n",
       "      <td>35</td>\n",
       "      <td>43</td>\n",
       "      <td>55</td>\n",
       "      <td>63</td>\n",
       "      <td>67</td>\n",
       "      <td>59</td>\n",
       "      <td>54</td>\n",
       "      <td>59</td>\n",
       "      <td>56</td>\n",
       "      <td>63</td>\n",
       "      <td>57</td>\n",
       "      <td>40</td>\n",
       "      <td>35</td>\n",
       "      <td>28</td>\n",
       "      <td>32</td>\n",
       "      <td>24</td>\n",
       "      <td>21</td>\n",
       "      <td>20</td>\n",
       "      <td>18</td>\n",
       "      <td>13</td>\n",
       "      <td>16</td>\n",
       "      <td>18</td>\n",
       "      <td>18</td>\n",
       "      <td>87</td>\n",
       "    </tr>\n",
       "    <tr>\n",
       "      <th>12.946882</th>\n",
       "      <th>0.0</th>\n",
       "      <th>400.0</th>\n",
       "      <th>0.00000</th>\n",
       "      <th>134.81291</th>\n",
       "      <th>-1.0</th>\n",
       "      <th>-1.0</th>\n",
       "      <td>19</td>\n",
       "      <td>11</td>\n",
       "      <td>10</td>\n",
       "      <td>22</td>\n",
       "      <td>23</td>\n",
       "      <td>20</td>\n",
       "      <td>23</td>\n",
       "      <td>30</td>\n",
       "      <td>36</td>\n",
       "      <td>7</td>\n",
       "      <td>31</td>\n",
       "      <td>52</td>\n",
       "      <td>57</td>\n",
       "      <td>49</td>\n",
       "      <td>48</td>\n",
       "      <td>52</td>\n",
       "      <td>50</td>\n",
       "      <td>57</td>\n",
       "      <td>54</td>\n",
       "      <td>35</td>\n",
       "      <td>31</td>\n",
       "      <td>26</td>\n",
       "      <td>26</td>\n",
       "      <td>21</td>\n",
       "      <td>21</td>\n",
       "      <td>15</td>\n",
       "      <td>12</td>\n",
       "      <td>11</td>\n",
       "      <td>9</td>\n",
       "      <td>11</td>\n",
       "      <td>-3</td>\n",
       "      <td>23</td>\n",
       "    </tr>\n",
       "    <tr>\n",
       "      <th>12.951682</th>\n",
       "      <th>0.0</th>\n",
       "      <th>400.0</th>\n",
       "      <th>0.00000</th>\n",
       "      <th>134.81291</th>\n",
       "      <th>-1.0</th>\n",
       "      <th>-1.0</th>\n",
       "      <td>2</td>\n",
       "      <td>6</td>\n",
       "      <td>11</td>\n",
       "      <td>6</td>\n",
       "      <td>10</td>\n",
       "      <td>19</td>\n",
       "      <td>8</td>\n",
       "      <td>17</td>\n",
       "      <td>29</td>\n",
       "      <td>-1</td>\n",
       "      <td>10</td>\n",
       "      <td>16</td>\n",
       "      <td>23</td>\n",
       "      <td>18</td>\n",
       "      <td>20</td>\n",
       "      <td>27</td>\n",
       "      <td>23</td>\n",
       "      <td>31</td>\n",
       "      <td>31</td>\n",
       "      <td>27</td>\n",
       "      <td>26</td>\n",
       "      <td>22</td>\n",
       "      <td>24</td>\n",
       "      <td>23</td>\n",
       "      <td>26</td>\n",
       "      <td>20</td>\n",
       "      <td>19</td>\n",
       "      <td>20</td>\n",
       "      <td>20</td>\n",
       "      <td>21</td>\n",
       "      <td>31</td>\n",
       "      <td>56</td>\n",
       "    </tr>\n",
       "    <tr>\n",
       "      <th>...</th>\n",
       "      <th>...</th>\n",
       "      <th>...</th>\n",
       "      <th>...</th>\n",
       "      <th>...</th>\n",
       "      <th>...</th>\n",
       "      <th>...</th>\n",
       "      <td>...</td>\n",
       "      <td>...</td>\n",
       "      <td>...</td>\n",
       "      <td>...</td>\n",
       "      <td>...</td>\n",
       "      <td>...</td>\n",
       "      <td>...</td>\n",
       "      <td>...</td>\n",
       "      <td>...</td>\n",
       "      <td>...</td>\n",
       "      <td>...</td>\n",
       "      <td>...</td>\n",
       "      <td>...</td>\n",
       "      <td>...</td>\n",
       "      <td>...</td>\n",
       "      <td>...</td>\n",
       "      <td>...</td>\n",
       "      <td>...</td>\n",
       "      <td>...</td>\n",
       "      <td>...</td>\n",
       "      <td>...</td>\n",
       "      <td>...</td>\n",
       "      <td>...</td>\n",
       "      <td>...</td>\n",
       "      <td>...</td>\n",
       "      <td>...</td>\n",
       "      <td>...</td>\n",
       "      <td>...</td>\n",
       "      <td>...</td>\n",
       "      <td>...</td>\n",
       "      <td>...</td>\n",
       "      <td>...</td>\n",
       "    </tr>\n",
       "    <tr>\n",
       "      <th>4238.544615</th>\n",
       "      <th>50.0</th>\n",
       "      <th>400.0</th>\n",
       "      <th>4185.48398</th>\n",
       "      <th>4185.48459</th>\n",
       "      <th>2.0</th>\n",
       "      <th>899.0</th>\n",
       "      <td>-21</td>\n",
       "      <td>-6</td>\n",
       "      <td>0</td>\n",
       "      <td>-17</td>\n",
       "      <td>-18</td>\n",
       "      <td>-3</td>\n",
       "      <td>-14</td>\n",
       "      <td>0</td>\n",
       "      <td>18</td>\n",
       "      <td>14</td>\n",
       "      <td>23</td>\n",
       "      <td>20</td>\n",
       "      <td>9</td>\n",
       "      <td>19</td>\n",
       "      <td>24</td>\n",
       "      <td>16</td>\n",
       "      <td>17</td>\n",
       "      <td>-11</td>\n",
       "      <td>24</td>\n",
       "      <td>29</td>\n",
       "      <td>22</td>\n",
       "      <td>24</td>\n",
       "      <td>25</td>\n",
       "      <td>20</td>\n",
       "      <td>19</td>\n",
       "      <td>13</td>\n",
       "      <td>14</td>\n",
       "      <td>8</td>\n",
       "      <td>10</td>\n",
       "      <td>10</td>\n",
       "      <td>-12</td>\n",
       "      <td>13</td>\n",
       "    </tr>\n",
       "    <tr>\n",
       "      <th>4238.549415</th>\n",
       "      <th>50.0</th>\n",
       "      <th>400.0</th>\n",
       "      <th>4185.48398</th>\n",
       "      <th>4185.48459</th>\n",
       "      <th>2.0</th>\n",
       "      <th>899.0</th>\n",
       "      <td>-17</td>\n",
       "      <td>-15</td>\n",
       "      <td>-13</td>\n",
       "      <td>-18</td>\n",
       "      <td>-27</td>\n",
       "      <td>-24</td>\n",
       "      <td>-24</td>\n",
       "      <td>-23</td>\n",
       "      <td>-16</td>\n",
       "      <td>-26</td>\n",
       "      <td>-12</td>\n",
       "      <td>15</td>\n",
       "      <td>-1</td>\n",
       "      <td>11</td>\n",
       "      <td>6</td>\n",
       "      <td>-1</td>\n",
       "      <td>-5</td>\n",
       "      <td>-26</td>\n",
       "      <td>-11</td>\n",
       "      <td>0</td>\n",
       "      <td>-4</td>\n",
       "      <td>-6</td>\n",
       "      <td>1</td>\n",
       "      <td>1</td>\n",
       "      <td>-5</td>\n",
       "      <td>1</td>\n",
       "      <td>9</td>\n",
       "      <td>-9</td>\n",
       "      <td>-2</td>\n",
       "      <td>14</td>\n",
       "      <td>-15</td>\n",
       "      <td>35</td>\n",
       "    </tr>\n",
       "    <tr>\n",
       "      <th>4238.554215</th>\n",
       "      <th>50.0</th>\n",
       "      <th>400.0</th>\n",
       "      <th>4185.48398</th>\n",
       "      <th>4185.48459</th>\n",
       "      <th>2.0</th>\n",
       "      <th>899.0</th>\n",
       "      <td>-11</td>\n",
       "      <td>-22</td>\n",
       "      <td>-28</td>\n",
       "      <td>-9</td>\n",
       "      <td>-22</td>\n",
       "      <td>-35</td>\n",
       "      <td>-7</td>\n",
       "      <td>-18</td>\n",
       "      <td>-28</td>\n",
       "      <td>10</td>\n",
       "      <td>0</td>\n",
       "      <td>18</td>\n",
       "      <td>4</td>\n",
       "      <td>12</td>\n",
       "      <td>12</td>\n",
       "      <td>1</td>\n",
       "      <td>2</td>\n",
       "      <td>-15</td>\n",
       "      <td>-3</td>\n",
       "      <td>-12</td>\n",
       "      <td>-17</td>\n",
       "      <td>-22</td>\n",
       "      <td>-15</td>\n",
       "      <td>-21</td>\n",
       "      <td>-25</td>\n",
       "      <td>-24</td>\n",
       "      <td>-17</td>\n",
       "      <td>-30</td>\n",
       "      <td>-31</td>\n",
       "      <td>-16</td>\n",
       "      <td>-71</td>\n",
       "      <td>-32</td>\n",
       "    </tr>\n",
       "    <tr>\n",
       "      <th>4238.559015</th>\n",
       "      <th>50.0</th>\n",
       "      <th>400.0</th>\n",
       "      <th>4185.48398</th>\n",
       "      <th>4185.48459</th>\n",
       "      <th>2.0</th>\n",
       "      <th>899.0</th>\n",
       "      <td>3</td>\n",
       "      <td>-11</td>\n",
       "      <td>-16</td>\n",
       "      <td>0</td>\n",
       "      <td>-12</td>\n",
       "      <td>-30</td>\n",
       "      <td>-1</td>\n",
       "      <td>-13</td>\n",
       "      <td>-34</td>\n",
       "      <td>-13</td>\n",
       "      <td>-21</td>\n",
       "      <td>-20</td>\n",
       "      <td>-26</td>\n",
       "      <td>-28</td>\n",
       "      <td>-20</td>\n",
       "      <td>-29</td>\n",
       "      <td>-23</td>\n",
       "      <td>-29</td>\n",
       "      <td>-20</td>\n",
       "      <td>-28</td>\n",
       "      <td>-28</td>\n",
       "      <td>-32</td>\n",
       "      <td>-28</td>\n",
       "      <td>-28</td>\n",
       "      <td>-30</td>\n",
       "      <td>-31</td>\n",
       "      <td>-26</td>\n",
       "      <td>-27</td>\n",
       "      <td>-29</td>\n",
       "      <td>-21</td>\n",
       "      <td>-47</td>\n",
       "      <td>-43</td>\n",
       "    </tr>\n",
       "    <tr>\n",
       "      <th>4238.563815</th>\n",
       "      <th>50.0</th>\n",
       "      <th>400.0</th>\n",
       "      <th>4185.48398</th>\n",
       "      <th>4185.48459</th>\n",
       "      <th>2.0</th>\n",
       "      <th>899.0</th>\n",
       "      <td>31</td>\n",
       "      <td>18</td>\n",
       "      <td>18</td>\n",
       "      <td>23</td>\n",
       "      <td>12</td>\n",
       "      <td>0</td>\n",
       "      <td>15</td>\n",
       "      <td>2</td>\n",
       "      <td>-14</td>\n",
       "      <td>-33</td>\n",
       "      <td>-25</td>\n",
       "      <td>-23</td>\n",
       "      <td>-27</td>\n",
       "      <td>-33</td>\n",
       "      <td>-28</td>\n",
       "      <td>-27</td>\n",
       "      <td>-19</td>\n",
       "      <td>-16</td>\n",
       "      <td>-13</td>\n",
       "      <td>-13</td>\n",
       "      <td>-10</td>\n",
       "      <td>-12</td>\n",
       "      <td>-7</td>\n",
       "      <td>5</td>\n",
       "      <td>-1</td>\n",
       "      <td>4</td>\n",
       "      <td>12</td>\n",
       "      <td>6</td>\n",
       "      <td>10</td>\n",
       "      <td>23</td>\n",
       "      <td>5</td>\n",
       "      <td>7</td>\n",
       "    </tr>\n",
       "  </tbody>\n",
       "</table>\n",
       "<p>880342 rows × 32 columns</p>\n",
       "</div>"
      ],
      "text/plain": [
       "                                                                   0   1   2   \\\n",
       "time        amplitude duration onset      offset     sweep id                   \n",
       "12.932482   0.0       400.0    0.00000    134.81291  -1.0  -1.0    12   7   6   \n",
       "12.937282   0.0       400.0    0.00000    134.81291  -1.0  -1.0    -2   2   4   \n",
       "12.942082   0.0       400.0    0.00000    134.81291  -1.0  -1.0    12   8   7   \n",
       "12.946882   0.0       400.0    0.00000    134.81291  -1.0  -1.0    19  11  10   \n",
       "12.951682   0.0       400.0    0.00000    134.81291  -1.0  -1.0     2   6  11   \n",
       "...                                                                ..  ..  ..   \n",
       "4238.544615 50.0      400.0    4185.48398 4185.48459  2.0   899.0 -21  -6   0   \n",
       "4238.549415 50.0      400.0    4185.48398 4185.48459  2.0   899.0 -17 -15 -13   \n",
       "4238.554215 50.0      400.0    4185.48398 4185.48459  2.0   899.0 -11 -22 -28   \n",
       "4238.559015 50.0      400.0    4185.48398 4185.48459  2.0   899.0   3 -11 -16   \n",
       "4238.563815 50.0      400.0    4185.48398 4185.48459  2.0   899.0  31  18  18   \n",
       "\n",
       "                                                                   3   4   5   \\\n",
       "time        amplitude duration onset      offset     sweep id                   \n",
       "12.932482   0.0       400.0    0.00000    134.81291  -1.0  -1.0    11  17  16   \n",
       "12.937282   0.0       400.0    0.00000    134.81291  -1.0  -1.0    -1   4   9   \n",
       "12.942082   0.0       400.0    0.00000    134.81291  -1.0  -1.0    16  17  14   \n",
       "12.946882   0.0       400.0    0.00000    134.81291  -1.0  -1.0    22  23  20   \n",
       "12.951682   0.0       400.0    0.00000    134.81291  -1.0  -1.0     6  10  19   \n",
       "...                                                                ..  ..  ..   \n",
       "4238.544615 50.0      400.0    4185.48398 4185.48459  2.0   899.0 -17 -18  -3   \n",
       "4238.549415 50.0      400.0    4185.48398 4185.48459  2.0   899.0 -18 -27 -24   \n",
       "4238.554215 50.0      400.0    4185.48398 4185.48459  2.0   899.0  -9 -22 -35   \n",
       "4238.559015 50.0      400.0    4185.48398 4185.48459  2.0   899.0   0 -12 -30   \n",
       "4238.563815 50.0      400.0    4185.48398 4185.48459  2.0   899.0  23  12   0   \n",
       "\n",
       "                                                                   6   7   8   \\\n",
       "time        amplitude duration onset      offset     sweep id                   \n",
       "12.932482   0.0       400.0    0.00000    134.81291  -1.0  -1.0    11  22  32   \n",
       "12.937282   0.0       400.0    0.00000    134.81291  -1.0  -1.0    -1   9  28   \n",
       "12.942082   0.0       400.0    0.00000    134.81291  -1.0  -1.0    16  25  35   \n",
       "12.946882   0.0       400.0    0.00000    134.81291  -1.0  -1.0    23  30  36   \n",
       "12.951682   0.0       400.0    0.00000    134.81291  -1.0  -1.0     8  17  29   \n",
       "...                                                                ..  ..  ..   \n",
       "4238.544615 50.0      400.0    4185.48398 4185.48459  2.0   899.0 -14   0  18   \n",
       "4238.549415 50.0      400.0    4185.48398 4185.48459  2.0   899.0 -24 -23 -16   \n",
       "4238.554215 50.0      400.0    4185.48398 4185.48459  2.0   899.0  -7 -18 -28   \n",
       "4238.559015 50.0      400.0    4185.48398 4185.48459  2.0   899.0  -1 -13 -34   \n",
       "4238.563815 50.0      400.0    4185.48398 4185.48459  2.0   899.0  15   2 -14   \n",
       "\n",
       "                                                                   9   10  11  \\\n",
       "time        amplitude duration onset      offset     sweep id                   \n",
       "12.932482   0.0       400.0    0.00000    134.81291  -1.0  -1.0    70  76  88   \n",
       "12.937282   0.0       400.0    0.00000    134.81291  -1.0  -1.0    21  32  35   \n",
       "12.942082   0.0       400.0    0.00000    134.81291  -1.0  -1.0    43  55  63   \n",
       "12.946882   0.0       400.0    0.00000    134.81291  -1.0  -1.0     7  31  52   \n",
       "12.951682   0.0       400.0    0.00000    134.81291  -1.0  -1.0    -1  10  16   \n",
       "...                                                                ..  ..  ..   \n",
       "4238.544615 50.0      400.0    4185.48398 4185.48459  2.0   899.0  14  23  20   \n",
       "4238.549415 50.0      400.0    4185.48398 4185.48459  2.0   899.0 -26 -12  15   \n",
       "4238.554215 50.0      400.0    4185.48398 4185.48459  2.0   899.0  10   0  18   \n",
       "4238.559015 50.0      400.0    4185.48398 4185.48459  2.0   899.0 -13 -21 -20   \n",
       "4238.563815 50.0      400.0    4185.48398 4185.48459  2.0   899.0 -33 -25 -23   \n",
       "\n",
       "                                                                   12  13  14  \\\n",
       "time        amplitude duration onset      offset     sweep id                   \n",
       "12.932482   0.0       400.0    0.00000    134.81291  -1.0  -1.0    92  89  62   \n",
       "12.937282   0.0       400.0    0.00000    134.81291  -1.0  -1.0    45  30  29   \n",
       "12.942082   0.0       400.0    0.00000    134.81291  -1.0  -1.0    67  59  54   \n",
       "12.946882   0.0       400.0    0.00000    134.81291  -1.0  -1.0    57  49  48   \n",
       "12.951682   0.0       400.0    0.00000    134.81291  -1.0  -1.0    23  18  20   \n",
       "...                                                                ..  ..  ..   \n",
       "4238.544615 50.0      400.0    4185.48398 4185.48459  2.0   899.0   9  19  24   \n",
       "4238.549415 50.0      400.0    4185.48398 4185.48459  2.0   899.0  -1  11   6   \n",
       "4238.554215 50.0      400.0    4185.48398 4185.48459  2.0   899.0   4  12  12   \n",
       "4238.559015 50.0      400.0    4185.48398 4185.48459  2.0   899.0 -26 -28 -20   \n",
       "4238.563815 50.0      400.0    4185.48398 4185.48459  2.0   899.0 -27 -33 -28   \n",
       "\n",
       "                                                                   15  16  17  \\\n",
       "time        amplitude duration onset      offset     sweep id                   \n",
       "12.932482   0.0       400.0    0.00000    134.81291  -1.0  -1.0    48  50  59   \n",
       "12.937282   0.0       400.0    0.00000    134.81291  -1.0  -1.0    37  34  43   \n",
       "12.942082   0.0       400.0    0.00000    134.81291  -1.0  -1.0    59  56  63   \n",
       "12.946882   0.0       400.0    0.00000    134.81291  -1.0  -1.0    52  50  57   \n",
       "12.951682   0.0       400.0    0.00000    134.81291  -1.0  -1.0    27  23  31   \n",
       "...                                                                ..  ..  ..   \n",
       "4238.544615 50.0      400.0    4185.48398 4185.48459  2.0   899.0  16  17 -11   \n",
       "4238.549415 50.0      400.0    4185.48398 4185.48459  2.0   899.0  -1  -5 -26   \n",
       "4238.554215 50.0      400.0    4185.48398 4185.48459  2.0   899.0   1   2 -15   \n",
       "4238.559015 50.0      400.0    4185.48398 4185.48459  2.0   899.0 -29 -23 -29   \n",
       "4238.563815 50.0      400.0    4185.48398 4185.48459  2.0   899.0 -27 -19 -16   \n",
       "\n",
       "                                                                   18  19  20  \\\n",
       "time        amplitude duration onset      offset     sweep id                   \n",
       "12.932482   0.0       400.0    0.00000    134.81291  -1.0  -1.0    33  31  14   \n",
       "12.937282   0.0       400.0    0.00000    134.81291  -1.0  -1.0    33  25  17   \n",
       "12.942082   0.0       400.0    0.00000    134.81291  -1.0  -1.0    57  40  35   \n",
       "12.946882   0.0       400.0    0.00000    134.81291  -1.0  -1.0    54  35  31   \n",
       "12.951682   0.0       400.0    0.00000    134.81291  -1.0  -1.0    31  27  26   \n",
       "...                                                                ..  ..  ..   \n",
       "4238.544615 50.0      400.0    4185.48398 4185.48459  2.0   899.0  24  29  22   \n",
       "4238.549415 50.0      400.0    4185.48398 4185.48459  2.0   899.0 -11   0  -4   \n",
       "4238.554215 50.0      400.0    4185.48398 4185.48459  2.0   899.0  -3 -12 -17   \n",
       "4238.559015 50.0      400.0    4185.48398 4185.48459  2.0   899.0 -20 -28 -28   \n",
       "4238.563815 50.0      400.0    4185.48398 4185.48459  2.0   899.0 -13 -13 -10   \n",
       "\n",
       "                                                                   21  22  23  \\\n",
       "time        amplitude duration onset      offset     sweep id                   \n",
       "12.932482   0.0       400.0    0.00000    134.81291  -1.0  -1.0    21  18  12   \n",
       "12.937282   0.0       400.0    0.00000    134.81291  -1.0  -1.0    21  19  12   \n",
       "12.942082   0.0       400.0    0.00000    134.81291  -1.0  -1.0    28  32  24   \n",
       "12.946882   0.0       400.0    0.00000    134.81291  -1.0  -1.0    26  26  21   \n",
       "12.951682   0.0       400.0    0.00000    134.81291  -1.0  -1.0    22  24  23   \n",
       "...                                                                ..  ..  ..   \n",
       "4238.544615 50.0      400.0    4185.48398 4185.48459  2.0   899.0  24  25  20   \n",
       "4238.549415 50.0      400.0    4185.48398 4185.48459  2.0   899.0  -6   1   1   \n",
       "4238.554215 50.0      400.0    4185.48398 4185.48459  2.0   899.0 -22 -15 -21   \n",
       "4238.559015 50.0      400.0    4185.48398 4185.48459  2.0   899.0 -32 -28 -28   \n",
       "4238.563815 50.0      400.0    4185.48398 4185.48459  2.0   899.0 -12  -7   5   \n",
       "\n",
       "                                                                   24  25  26  \\\n",
       "time        amplitude duration onset      offset     sweep id                   \n",
       "12.932482   0.0       400.0    0.00000    134.81291  -1.0  -1.0    19   5   5   \n",
       "12.937282   0.0       400.0    0.00000    134.81291  -1.0  -1.0    14  10   8   \n",
       "12.942082   0.0       400.0    0.00000    134.81291  -1.0  -1.0    21  20  18   \n",
       "12.946882   0.0       400.0    0.00000    134.81291  -1.0  -1.0    21  15  12   \n",
       "12.951682   0.0       400.0    0.00000    134.81291  -1.0  -1.0    26  20  19   \n",
       "...                                                                ..  ..  ..   \n",
       "4238.544615 50.0      400.0    4185.48398 4185.48459  2.0   899.0  19  13  14   \n",
       "4238.549415 50.0      400.0    4185.48398 4185.48459  2.0   899.0  -5   1   9   \n",
       "4238.554215 50.0      400.0    4185.48398 4185.48459  2.0   899.0 -25 -24 -17   \n",
       "4238.559015 50.0      400.0    4185.48398 4185.48459  2.0   899.0 -30 -31 -26   \n",
       "4238.563815 50.0      400.0    4185.48398 4185.48459  2.0   899.0  -1   4  12   \n",
       "\n",
       "                                                                   27  28  29  \\\n",
       "time        amplitude duration onset      offset     sweep id                   \n",
       "12.932482   0.0       400.0    0.00000    134.81291  -1.0  -1.0     7   1   5   \n",
       "12.937282   0.0       400.0    0.00000    134.81291  -1.0  -1.0    12  12   8   \n",
       "12.942082   0.0       400.0    0.00000    134.81291  -1.0  -1.0    13  16  18   \n",
       "12.946882   0.0       400.0    0.00000    134.81291  -1.0  -1.0    11   9  11   \n",
       "12.951682   0.0       400.0    0.00000    134.81291  -1.0  -1.0    20  20  21   \n",
       "...                                                                ..  ..  ..   \n",
       "4238.544615 50.0      400.0    4185.48398 4185.48459  2.0   899.0   8  10  10   \n",
       "4238.549415 50.0      400.0    4185.48398 4185.48459  2.0   899.0  -9  -2  14   \n",
       "4238.554215 50.0      400.0    4185.48398 4185.48459  2.0   899.0 -30 -31 -16   \n",
       "4238.559015 50.0      400.0    4185.48398 4185.48459  2.0   899.0 -27 -29 -21   \n",
       "4238.563815 50.0      400.0    4185.48398 4185.48459  2.0   899.0   6  10  23   \n",
       "\n",
       "                                                                   30  31  \n",
       "time        amplitude duration onset      offset     sweep id              \n",
       "12.932482   0.0       400.0    0.00000    134.81291  -1.0  -1.0   -61 -25  \n",
       "12.937282   0.0       400.0    0.00000    134.81291  -1.0  -1.0    21  66  \n",
       "12.942082   0.0       400.0    0.00000    134.81291  -1.0  -1.0    18  87  \n",
       "12.946882   0.0       400.0    0.00000    134.81291  -1.0  -1.0    -3  23  \n",
       "12.951682   0.0       400.0    0.00000    134.81291  -1.0  -1.0    31  56  \n",
       "...                                                                ..  ..  \n",
       "4238.544615 50.0      400.0    4185.48398 4185.48459  2.0   899.0 -12  13  \n",
       "4238.549415 50.0      400.0    4185.48398 4185.48459  2.0   899.0 -15  35  \n",
       "4238.554215 50.0      400.0    4185.48398 4185.48459  2.0   899.0 -71 -32  \n",
       "4238.559015 50.0      400.0    4185.48398 4185.48459  2.0   899.0 -47 -43  \n",
       "4238.563815 50.0      400.0    4185.48398 4185.48459  2.0   899.0   5   7  \n",
       "\n",
       "[880342 rows x 32 columns]"
      ]
     },
     "execution_count": 4,
     "metadata": {},
     "output_type": "execute_result"
    }
   ],
   "source": [
    "# reindex eegdata to include all stimulus information in its index\n",
    "T_PRESTIM = 2.5 # length of window before stimulus onset (~4-this is the response time)\n",
    "if exp.experiment_type == 'electrical stimulation':\n",
    "    stimuli = pd.read_csv(exp.stimulus_log_file)\n",
    "else:\n",
    "    stimuli = None\n",
    "stimuli['id'] = range(len(stimuli))\n",
    "stimuli['window_onset'] = stimuli.onset.map(lambda x: x-T_PRESTIM)\n",
    "_stimuli = stimuli.set_index('window_onset').reindex(eegdata.index, method='ffill')\n",
    "_stimuli.fillna(dict(stim_type=-1, amplitude=0, onset=0, sweep=-1, id=-1), inplace=True)\n",
    "_onset = _stimuli[_stimuli.id==0].iloc[0]\n",
    "_stimuli.fillna(_onset, inplace=True)\n",
    "metastim = pd.MultiIndex.from_arrays(\n",
    "    [_stimuli.index.rename('time'),\n",
    "    _stimuli.amplitude,\n",
    "    _stimuli.duration,\n",
    "    _stimuli.onset,\n",
    "    _stimuli.offset,\n",
    "    _stimuli.sweep,\n",
    "    _stimuli.id],\n",
    ")\n",
    "eegdata.index = metastim\n",
    "eegdata = eegdata.loc[eegdata.index.dropna()]\n",
    "sample_rate = 1/np.diff(eegdata.index.get_level_values('time')).mean()\n",
    "eegdata"
   ]
  },
  {
   "cell_type": "code",
   "execution_count": 5,
   "metadata": {
    "execution": {
     "iopub.execute_input": "2020-10-20T22:56:09.064269Z",
     "iopub.status.busy": "2020-10-20T22:56:09.064082Z",
     "iopub.status.idle": "2020-10-20T22:56:09.239290Z",
     "shell.execute_reply": "2020-10-20T22:56:09.238723Z",
     "shell.execute_reply.started": "2020-10-20T22:56:09.064242Z"
    }
   },
   "outputs": [
    {
     "data": {
      "application/vnd.jupyter.widget-view+json": {
       "model_id": "a1abada6fce34e00b09e3894ae4cc0ec",
       "version_major": 2,
       "version_minor": 0
      },
      "text/plain": [
       "Canvas(toolbar=Toolbar(toolitems=[('Home', 'Reset original view', 'home', 'home'), ('Back', 'Back to previous …"
      ]
     },
     "metadata": {},
     "output_type": "display_data"
    }
   ],
   "source": [
    "f, ax = plt.subplots(1, 1, figsize=(2.3, 2.3), constrained_layout=True)\n",
    "plot_electrode_map(ax, labels=False, numbers=True, box=False, s=50)"
   ]
  },
  {
   "cell_type": "markdown",
   "metadata": {},
   "source": [
    "---"
   ]
  },
  {
   "cell_type": "markdown",
   "metadata": {},
   "source": [
    "# Characterizing effects of a hard boundary and predictability"
   ]
  },
  {
   "cell_type": "code",
   "execution_count": 6,
   "metadata": {
    "execution": {
     "iopub.execute_input": "2020-10-20T22:56:09.240164Z",
     "iopub.status.busy": "2020-10-20T22:56:09.239981Z",
     "iopub.status.idle": "2020-10-20T22:56:09.261559Z",
     "shell.execute_reply": "2020-10-20T22:56:09.260935Z",
     "shell.execute_reply.started": "2020-10-20T22:56:09.240138Z"
    }
   },
   "outputs": [
    {
     "data": {
      "text/plain": [
       "time\n",
       "12.932482     22\n",
       "12.937282      9\n",
       "12.942082     25\n",
       "12.946882     30\n",
       "12.951682     17\n",
       "              ..\n",
       "132.289457    14\n",
       "132.294257    27\n",
       "132.299057    -6\n",
       "132.303857   -28\n",
       "132.308657   -11\n",
       "Name: 7, Length: 24871, dtype: int16"
      ]
     },
     "metadata": {},
     "output_type": "display_data"
    }
   ],
   "source": [
    "# look at a particular channel, and prestimulus data to evaluate baseline\n",
    "tid = -1\n",
    "ch = 7\n",
    "data = eegdata.xs(tid, level='id')[ch]\n",
    "time = data.index.get_level_values('time')\n",
    "data.index = time\n",
    "display(data)"
   ]
  },
  {
   "cell_type": "code",
   "execution_count": 78,
   "metadata": {
    "execution": {
     "iopub.execute_input": "2020-10-20T23:25:00.107177Z",
     "iopub.status.busy": "2020-10-20T23:25:00.106255Z",
     "iopub.status.idle": "2020-10-20T23:25:01.606378Z",
     "shell.execute_reply": "2020-10-20T23:25:01.604099Z",
     "shell.execute_reply.started": "2020-10-20T23:25:00.107056Z"
    }
   },
   "outputs": [],
   "source": [
    "def _filter_data(data, band='delta', order=3):\n",
    "    return pd.Series(filters.butter_bandpass_filter(\n",
    "        data.values[:, np.newaxis], bands[band][0], bands[band][1],\n",
    "        sample_rate, order\n",
    "    )[:, 0], index = data.index)\n",
    "\n",
    "def _linear_predict(data_filtered, pred_len_s=0.1, buf_s=2):\n",
    "    hilbert = pd.Series(signal.hilbert(data_filtered), index=data_filtered.index, name='hilbert')\n",
    "    ampl = hilbert.abs().rename('amplitude') # amplitude of signal\n",
    "    angl = hilbert.apply(np.angle).rename('angle') # phase of signal\n",
    "    uangl = pd.Series(np.unwrap(angl), index=angl.index, name='unwrapped_angle')\n",
    "    len_fit = int(pred_len_s*sample_rate)\n",
    "    buf_n = int(buf_s*sample_rate)\n",
    "    m, c = np.polyfit(uangl.index[buf_n:-len_fit], uangl.values[buf_n:-len_fit], 1)\n",
    "    uangl_pred = pd.Series(\n",
    "        m*uangl.index + c,\n",
    "#         np.r_[uangl.values[:-len_fit], m*uangl.index[-len_fit:] + c],\n",
    "        index=uangl.index, name='predicted_unwrapped_angle'\n",
    "    )\n",
    "#     print(uangl.values[buf_n:-len_fit].mean())\n",
    "#     uangl_pred = uangl_pred - uangl_pred.values[buf_n:-len_fit].mean() + uangl.values[buf_n:-len_fit].mean()\n",
    "#     print(uangl_pred.values[buf_n:-len_fit].mean())\n",
    "    angl_pred = ((uangl_pred + np.pi) % (2 * np.pi) - np.pi).rename('predicted_angle')\n",
    "    return pd.concat([hilbert, ampl, angl, uangl, uangl_pred, angl_pred], axis=1)"
   ]
  },
  {
   "cell_type": "code",
   "execution_count": 79,
   "metadata": {
    "execution": {
     "iopub.execute_input": "2020-10-20T23:25:01.882627Z",
     "iopub.status.busy": "2020-10-20T23:25:01.881647Z",
     "iopub.status.idle": "2020-10-20T23:25:01.986964Z",
     "shell.execute_reply": "2020-10-20T23:25:01.986447Z",
     "shell.execute_reply.started": "2020-10-20T23:25:01.882481Z"
    }
   },
   "outputs": [
    {
     "data": {
      "application/vnd.jupyter.widget-view+json": {
       "model_id": "715918590420424885f01a1b84635fc7",
       "version_major": 2,
       "version_minor": 0
      },
      "text/plain": [
       "Canvas(toolbar=Toolbar(toolitems=[('Home', 'Reset original view', 'home', 'home'), ('Back', 'Back to previous …"
      ]
     },
     "metadata": {},
     "output_type": "display_data"
    }
   ],
   "source": [
    "data_filtered = _filter_data(data.loc[90:95])\n",
    "_ret = _linear_predict(data_filtered, 1)\n",
    "f, (ax, axu) = plt.subplots(2, 1, figsize=(7, 4), tight_layout=True)\n",
    "ax.axvline(92, c='k')\n",
    "ax.axvline(94, c='k')\n",
    "_ret.angle.plot(ax=ax)\n",
    "_ret.predicted_angle.plot(ax=ax)\n",
    "_ret.unwrapped_angle.plot(ax=axu)\n",
    "_ret.predicted_unwrapped_angle.plot(ax=axu);"
   ]
  },
  {
   "cell_type": "code",
   "execution_count": 80,
   "metadata": {
    "execution": {
     "iopub.execute_input": "2020-10-20T23:25:03.320436Z",
     "iopub.status.busy": "2020-10-20T23:25:03.319446Z",
     "iopub.status.idle": "2020-10-20T23:25:03.345479Z",
     "shell.execute_reply": "2020-10-20T23:25:03.344815Z",
     "shell.execute_reply.started": "2020-10-20T23:25:03.320293Z"
    }
   },
   "outputs": [],
   "source": [
    "# for a chunk of time, compare actual phase (boundary far away) and phase if filtered only up to a closer boundary\n",
    "# Then also use the larger chunk to filter and predict phase in region where edge effect of hilbert is not strong\n",
    "def _txd_data(data, edge_s=2, pred_len_s=3, buf_s=3, band='delta', order=3):\n",
    "    edge_n = int(edge_s*sample_rate)\n",
    "    pred_len_n = int(pred_len_s*sample_rate)\n",
    "    # filter entire timeseries\n",
    "    filtered_full = _filter_data(data, band, order).rename('filtered')\n",
    "    filtered_part = _filter_data(data.loc[:data.index[-1]-edge_s], band, order).rename('filtered')\n",
    "    # hilbert transform filtered timeseries\n",
    "    hilbert_full = _linear_predict(filtered_full, pred_len_s, buf_s)\n",
    "    hilbert_part = _linear_predict(filtered_part, pred_len_s, 0)\n",
    "    return pd.concat(\n",
    "        [filtered_full, filtered_part, hilbert_full, hilbert_part],\n",
    "        axis=1, keys=['full', 'part', 'full', 'part']\n",
    "    ).sort_index(axis=1)"
   ]
  },
  {
   "cell_type": "code",
   "execution_count": 81,
   "metadata": {
    "execution": {
     "iopub.execute_input": "2020-10-20T23:25:04.504299Z",
     "iopub.status.busy": "2020-10-20T23:25:04.503406Z",
     "iopub.status.idle": "2020-10-20T23:25:04.588570Z",
     "shell.execute_reply": "2020-10-20T23:25:04.588036Z",
     "shell.execute_reply.started": "2020-10-20T23:25:04.504168Z"
    }
   },
   "outputs": [
    {
     "data": {
      "text/html": [
       "<div>\n",
       "<style scoped>\n",
       "    .dataframe tbody tr th:only-of-type {\n",
       "        vertical-align: middle;\n",
       "    }\n",
       "\n",
       "    .dataframe tbody tr th {\n",
       "        vertical-align: top;\n",
       "    }\n",
       "\n",
       "    .dataframe thead th {\n",
       "        text-align: right;\n",
       "    }\n",
       "</style>\n",
       "<table border=\"1\" class=\"dataframe\">\n",
       "  <thead>\n",
       "    <tr style=\"text-align: right;\">\n",
       "      <th></th>\n",
       "      <th>full_amplitude</th>\n",
       "      <th>full_angle</th>\n",
       "      <th>full_filtered</th>\n",
       "      <th>full_hilbert</th>\n",
       "      <th>full_predicted_angle</th>\n",
       "      <th>full_predicted_unwrapped_angle</th>\n",
       "      <th>full_unwrapped_angle</th>\n",
       "      <th>part_amplitude</th>\n",
       "      <th>part_angle</th>\n",
       "      <th>part_filtered</th>\n",
       "      <th>part_hilbert</th>\n",
       "      <th>part_predicted_angle</th>\n",
       "      <th>part_predicted_unwrapped_angle</th>\n",
       "      <th>part_unwrapped_angle</th>\n",
       "    </tr>\n",
       "    <tr>\n",
       "      <th>time</th>\n",
       "      <th></th>\n",
       "      <th></th>\n",
       "      <th></th>\n",
       "      <th></th>\n",
       "      <th></th>\n",
       "      <th></th>\n",
       "      <th></th>\n",
       "      <th></th>\n",
       "      <th></th>\n",
       "      <th></th>\n",
       "      <th></th>\n",
       "      <th></th>\n",
       "      <th></th>\n",
       "      <th></th>\n",
       "    </tr>\n",
       "  </thead>\n",
       "  <tbody>\n",
       "    <tr>\n",
       "      <th>85.000051</th>\n",
       "      <td>8.407235</td>\n",
       "      <td>-2.326949</td>\n",
       "      <td>-5.768438</td>\n",
       "      <td>-5.768438-6.116104j</td>\n",
       "      <td>-0.285792</td>\n",
       "      <td>12.280579</td>\n",
       "      <td>-2.326949</td>\n",
       "      <td>7.505419</td>\n",
       "      <td>2.447397</td>\n",
       "      <td>-5.768432</td>\n",
       "      <td>-5.768432+4.801720j</td>\n",
       "      <td>2.887265</td>\n",
       "      <td>2.887265</td>\n",
       "      <td>2.447397</td>\n",
       "    </tr>\n",
       "    <tr>\n",
       "      <th>85.004851</th>\n",
       "      <td>8.223260</td>\n",
       "      <td>-2.459666</td>\n",
       "      <td>-6.384209</td>\n",
       "      <td>-6.384209-5.183038j</td>\n",
       "      <td>-0.206849</td>\n",
       "      <td>12.359521</td>\n",
       "      <td>-2.459666</td>\n",
       "      <td>6.527314</td>\n",
       "      <td>2.931803</td>\n",
       "      <td>-6.384202</td>\n",
       "      <td>-6.384202+1.359337j</td>\n",
       "      <td>2.969547</td>\n",
       "      <td>2.969547</td>\n",
       "      <td>2.931803</td>\n",
       "    </tr>\n",
       "    <tr>\n",
       "      <th>85.009651</th>\n",
       "      <td>8.655827</td>\n",
       "      <td>-2.498588</td>\n",
       "      <td>-6.927239</td>\n",
       "      <td>-6.927239-5.190057j</td>\n",
       "      <td>-0.127907</td>\n",
       "      <td>12.438464</td>\n",
       "      <td>-2.498588</td>\n",
       "      <td>7.013600</td>\n",
       "      <td>2.984496</td>\n",
       "      <td>-6.927232</td>\n",
       "      <td>-6.927232+1.097283j</td>\n",
       "      <td>3.051828</td>\n",
       "      <td>3.051828</td>\n",
       "      <td>2.984496</td>\n",
       "    </tr>\n",
       "    <tr>\n",
       "      <th>85.014451</th>\n",
       "      <td>9.087470</td>\n",
       "      <td>-2.519433</td>\n",
       "      <td>-7.384675</td>\n",
       "      <td>-7.384675-5.296102j</td>\n",
       "      <td>-0.048965</td>\n",
       "      <td>12.517406</td>\n",
       "      <td>-2.519433</td>\n",
       "      <td>7.401539</td>\n",
       "      <td>-3.074062</td>\n",
       "      <td>-7.384668</td>\n",
       "      <td>-7.384668-0.499453j</td>\n",
       "      <td>3.134110</td>\n",
       "      <td>3.134110</td>\n",
       "      <td>3.209124</td>\n",
       "    </tr>\n",
       "    <tr>\n",
       "      <th>85.019251</th>\n",
       "      <td>9.638822</td>\n",
       "      <td>-2.503907</td>\n",
       "      <td>-7.744559</td>\n",
       "      <td>-7.744559-5.738353j</td>\n",
       "      <td>0.029978</td>\n",
       "      <td>12.596348</td>\n",
       "      <td>-2.503907</td>\n",
       "      <td>7.818747</td>\n",
       "      <td>-3.003721</td>\n",
       "      <td>-7.744552</td>\n",
       "      <td>-7.744552-1.074574j</td>\n",
       "      <td>-3.066794</td>\n",
       "      <td>3.216392</td>\n",
       "      <td>3.279465</td>\n",
       "    </tr>\n",
       "  </tbody>\n",
       "</table>\n",
       "</div>"
      ],
      "text/plain": [
       "           full_amplitude  full_angle  full_filtered        full_hilbert  \\\n",
       "time                                                                       \n",
       "85.000051        8.407235   -2.326949      -5.768438 -5.768438-6.116104j   \n",
       "85.004851        8.223260   -2.459666      -6.384209 -6.384209-5.183038j   \n",
       "85.009651        8.655827   -2.498588      -6.927239 -6.927239-5.190057j   \n",
       "85.014451        9.087470   -2.519433      -7.384675 -7.384675-5.296102j   \n",
       "85.019251        9.638822   -2.503907      -7.744559 -7.744559-5.738353j   \n",
       "\n",
       "           full_predicted_angle  full_predicted_unwrapped_angle  \\\n",
       "time                                                              \n",
       "85.000051             -0.285792                       12.280579   \n",
       "85.004851             -0.206849                       12.359521   \n",
       "85.009651             -0.127907                       12.438464   \n",
       "85.014451             -0.048965                       12.517406   \n",
       "85.019251              0.029978                       12.596348   \n",
       "\n",
       "           full_unwrapped_angle  part_amplitude  part_angle  part_filtered  \\\n",
       "time                                                                         \n",
       "85.000051             -2.326949        7.505419    2.447397      -5.768432   \n",
       "85.004851             -2.459666        6.527314    2.931803      -6.384202   \n",
       "85.009651             -2.498588        7.013600    2.984496      -6.927232   \n",
       "85.014451             -2.519433        7.401539   -3.074062      -7.384668   \n",
       "85.019251             -2.503907        7.818747   -3.003721      -7.744552   \n",
       "\n",
       "                 part_hilbert  part_predicted_angle  \\\n",
       "time                                                  \n",
       "85.000051 -5.768432+4.801720j              2.887265   \n",
       "85.004851 -6.384202+1.359337j              2.969547   \n",
       "85.009651 -6.927232+1.097283j              3.051828   \n",
       "85.014451 -7.384668-0.499453j              3.134110   \n",
       "85.019251 -7.744552-1.074574j             -3.066794   \n",
       "\n",
       "           part_predicted_unwrapped_angle  part_unwrapped_angle  \n",
       "time                                                             \n",
       "85.000051                        2.887265              2.447397  \n",
       "85.004851                        2.969547              2.931803  \n",
       "85.009651                        3.051828              2.984496  \n",
       "85.014451                        3.134110              3.209124  \n",
       "85.019251                        3.216392              3.279465  "
      ]
     },
     "metadata": {},
     "output_type": "display_data"
    }
   ],
   "source": [
    "edge_s = 3\n",
    "buf_s = 3.5\n",
    "pred_len = 5.5\n",
    "band = 'delta'\n",
    "order = 3\n",
    "t_lim = (85, 95)\n",
    "_comparison_data = _txd_data(data.loc[t_lim[0]:t_lim[1]], edge_s, pred_len, buf_s, band, order)\n",
    "_comparison_data.columns = _comparison_data.columns.map(lambda x: f'{x[0]}_{x[1]}')\n",
    "display(_comparison_data.head())"
   ]
  },
  {
   "cell_type": "code",
   "execution_count": 82,
   "metadata": {
    "execution": {
     "iopub.execute_input": "2020-10-20T23:25:06.912888Z",
     "iopub.status.busy": "2020-10-20T23:25:06.911888Z",
     "iopub.status.idle": "2020-10-20T23:25:07.010275Z",
     "shell.execute_reply": "2020-10-20T23:25:07.009736Z",
     "shell.execute_reply.started": "2020-10-20T23:25:06.912720Z"
    }
   },
   "outputs": [
    {
     "data": {
      "application/vnd.jupyter.widget-view+json": {
       "model_id": "dcf8c4fabf554caca53f631231fcaba5",
       "version_major": 2,
       "version_minor": 0
      },
      "text/plain": [
       "Canvas(toolbar=Toolbar(toolitems=[('Home', 'Reset original view', 'home', 'home'), ('Back', 'Back to previous …"
      ]
     },
     "metadata": {},
     "output_type": "display_data"
    },
    {
     "name": "stderr",
     "output_type": "stream",
     "text": [
      "/home/saurabh.gandhi/Projects/.env_zz/lib/python3.7/site-packages/numpy/lib/function_base.py:1535: RuntimeWarning: invalid value encountered in remainder\n",
      "  ddmod = mod(dd + pi, 2*pi) - pi\n"
     ]
    }
   ],
   "source": [
    "# how does actual phase get affected due to the edge?\n",
    "_times = _comparison_data.loc[t_lim[1]-edge_s-3:t_lim[1]-edge_s].index\n",
    "f, ax = plt.subplots(1, 1, figsize=(8, 2), tight_layout=True)\n",
    "_comparison_data.full_angle.loc[_times].plot(ax=ax, label='actual phase')\n",
    "_comparison_data.part_angle.loc[_times].plot(ax=ax, label='edge-affected phase')\n",
    "ax2 = ax.twinx()\n",
    "pd.Series(\n",
    "    np.unwrap(\n",
    "        _comparison_data.full_angle.loc[_times]-_comparison_data.part_angle.loc[_times]\n",
    "    ), index=_times\n",
    ").plot(ax=ax2, label='difference', c='k', lw=0.5)\n",
    "ax.legend(fontsize=8, loc=2)\n",
    "ax.set_ylabel('angle')\n",
    "ax2.set_ylabel('difference');"
   ]
  },
  {
   "cell_type": "code",
   "execution_count": 83,
   "metadata": {
    "execution": {
     "iopub.execute_input": "2020-10-20T23:25:08.178684Z",
     "iopub.status.busy": "2020-10-20T23:25:08.177686Z",
     "iopub.status.idle": "2020-10-20T23:25:08.277898Z",
     "shell.execute_reply": "2020-10-20T23:25:08.277359Z",
     "shell.execute_reply.started": "2020-10-20T23:25:08.178535Z"
    }
   },
   "outputs": [
    {
     "data": {
      "application/vnd.jupyter.widget-view+json": {
       "model_id": "0c4c75e46bf5484487a9970003d835b2",
       "version_major": 2,
       "version_minor": 0
      },
      "text/plain": [
       "Canvas(toolbar=Toolbar(toolitems=[('Home', 'Reset original view', 'home', 'home'), ('Back', 'Back to previous …"
      ]
     },
     "metadata": {},
     "output_type": "display_data"
    }
   ],
   "source": [
    "# how quickly does predicted phase deviate from actual?\n",
    "_times = _comparison_data.loc[t_lim[0]+buf_s:].index\n",
    "f, ax = plt.subplots(1, 1, figsize=(8, 2), tight_layout=True)\n",
    "_comparison_data.full_angle.loc[_times].plot(ax=ax, label='actual')\n",
    "_comparison_data.full_predicted_angle.loc[_times].plot(ax=ax, label='predicted')\n",
    "ax.axvline(t_lim[1]-pred_len, c='k')\n",
    "ax.axvline(t_lim[0]+buf_s, c='k')\n",
    "ax2 = ax.twinx()\n",
    "pd.Series(\n",
    "    np.unwrap(\n",
    "        _comparison_data.full_angle.loc[_times]-_comparison_data.full_predicted_angle.loc[_times]\n",
    "    ), index=_times\n",
    ").plot(ax=ax2, label='difference', c='k', lw=0.5)\n",
    "ax.legend(fontsize=8, loc=2)\n",
    "ax.set_ylabel('angle')\n",
    "ax2.set_ylabel('difference');"
   ]
  },
  {
   "cell_type": "code",
   "execution_count": 97,
   "metadata": {
    "execution": {
     "iopub.execute_input": "2020-10-20T23:29:40.274564Z",
     "iopub.status.busy": "2020-10-20T23:29:40.274269Z",
     "iopub.status.idle": "2020-10-20T23:29:41.953216Z",
     "shell.execute_reply": "2020-10-20T23:29:41.950954Z",
     "shell.execute_reply.started": "2020-10-20T23:29:40.274526Z"
    }
   },
   "outputs": [],
   "source": [
    "# repeat the above for multiple random times\n",
    "def _run_comparison(t0, edge_s, buf_s, pred_len, band, order, t_tot=10):\n",
    "    t_lim = (t0, t0+t_tot)\n",
    "    _comparison_data = _txd_data(data.loc[t_lim[0]:t_lim[1]], edge_s, pred_len, buf_s, band, order)\n",
    "    _comparison_data.columns = _comparison_data.columns.map(lambda x: f'{x[0]}_{x[1]}')\n",
    "    \n",
    "    _times = _comparison_data.loc[t_lim[1]-edge_s-3:t_lim[1]-edge_s].index\n",
    "    edge_effect = pd.Series(\n",
    "#         np.unwrap(\n",
    "            _comparison_data.full_angle.loc[_times]-_comparison_data.part_angle.loc[_times],\n",
    "#         ),\n",
    "    index=_times\n",
    "    )\n",
    "    \n",
    "    _times = _comparison_data.loc[t_lim[0]+buf_s:].index\n",
    "    prediction_effect = pd.Series(\n",
    "        np.unwrap(\n",
    "            _comparison_data.full_angle.loc[_times]-_comparison_data.full_predicted_angle.loc[_times],\n",
    "        ),\n",
    "        index=_times\n",
    "    )\n",
    "    prediction_effect = prediction_effect - prediction_effect.values[-int(pred_len*sample_rate)]\n",
    "    \n",
    "    return edge_effect, prediction_effect"
   ]
  },
  {
   "cell_type": "code",
   "execution_count": 184,
   "metadata": {
    "execution": {
     "iopub.execute_input": "2020-10-21T00:04:49.063163Z",
     "iopub.status.busy": "2020-10-21T00:04:49.062856Z",
     "iopub.status.idle": "2020-10-21T00:05:15.347717Z",
     "shell.execute_reply": "2020-10-21T00:05:15.347125Z",
     "shell.execute_reply.started": "2020-10-21T00:04:49.063125Z"
    }
   },
   "outputs": [
    {
     "data": {
      "application/vnd.jupyter.widget-view+json": {
       "model_id": "9ffef29e048f443a8322f496deef2536",
       "version_major": 2,
       "version_minor": 0
      },
      "text/plain": [
       "HBox(children=(FloatProgress(value=0.0, max=1000.0), HTML(value='')))"
      ]
     },
     "metadata": {},
     "output_type": "display_data"
    },
    {
     "name": "stdout",
     "output_type": "stream",
     "text": [
      "\n"
     ]
    }
   ],
   "source": [
    "band = 'alpha'\n",
    "order = 3\n",
    "edge_s = 3\n",
    "buf_s = 3.75\n",
    "pred_len = 6\n",
    "t_tot = 10\n",
    "n_samples = 1000\n",
    "t0s = 20 + np.random.random(n_samples)*100\n",
    "edge_effects, pred_effects = {}, {}\n",
    "for t0 in tqdm(t0s):\n",
    "    _e, _p = _run_comparison(t0, edge_s, buf_s, pred_len, band, order, t_tot)\n",
    "    _e.index = _e.index-_e.index[-1]\n",
    "    _p.index = _p.index - (t0+t_tot-pred_len)\n",
    "    edge_effects[t0] = _e.reindex(np.linspace(-3, 0, 601), method='nearest')\n",
    "    pred_effects[t0] = _p.reindex(np.linspace(buf_s-(t_tot-pred_len), pred_len, 1000), method='nearest')#np.linspace(0, pred_len, 1000), method='nearest')#\n",
    "edge_effects = pd.concat(edge_effects, axis=1)*180/np.pi\n",
    "pred_effects = pd.concat(pred_effects, axis=1)*180/np.pi"
   ]
  },
  {
   "cell_type": "code",
   "execution_count": 185,
   "metadata": {
    "execution": {
     "iopub.execute_input": "2020-10-21T00:05:15.349095Z",
     "iopub.status.busy": "2020-10-21T00:05:15.348740Z",
     "iopub.status.idle": "2020-10-21T00:05:15.408789Z",
     "shell.execute_reply": "2020-10-21T00:05:15.408248Z",
     "shell.execute_reply.started": "2020-10-21T00:05:15.349013Z"
    }
   },
   "outputs": [
    {
     "data": {
      "application/vnd.jupyter.widget-view+json": {
       "model_id": "eeb9c4428f9843d19cb424edf5a95a99",
       "version_major": 2,
       "version_minor": 0
      },
      "text/plain": [
       "Canvas(toolbar=Toolbar(toolitems=[('Home', 'Reset original view', 'home', 'home'), ('Back', 'Back to previous …"
      ]
     },
     "metadata": {},
     "output_type": "display_data"
    }
   ],
   "source": [
    "f, ax = plt.subplots(1, 1, figsize=(6, 2), tight_layout=True)\n",
    "# edge_effects.mean(1).plot(yerr=edge_effects.std(1), alpha=0.6, ax=ax)\n",
    "# ax.axhline(20, c='k', lw=0.5)\n",
    "# ax.axhline(-20, c='k', lw=0.5)\n",
    "# ax.set_ylabel('phase deviation\\n(mean +- SD)')\n",
    "edge_effects.abs().mean(1).plot(alpha=0.6, ax=ax)\n",
    "ax.set_xlabel('time from right edge (s)')\n",
    "ax.set_ylabel('mean absolute\\ndeviation')\n",
    "ax.annotate(f'{band} band filtering + Hilbert', (0.01, 0.95), xycoords='axes fraction', va='top');"
   ]
  },
  {
   "cell_type": "code",
   "execution_count": 186,
   "metadata": {
    "execution": {
     "iopub.execute_input": "2020-10-21T00:05:15.409910Z",
     "iopub.status.busy": "2020-10-21T00:05:15.409674Z",
     "iopub.status.idle": "2020-10-21T00:05:15.468310Z",
     "shell.execute_reply": "2020-10-21T00:05:15.467794Z",
     "shell.execute_reply.started": "2020-10-21T00:05:15.409841Z"
    }
   },
   "outputs": [
    {
     "data": {
      "application/vnd.jupyter.widget-view+json": {
       "model_id": "21d39628cd4c44e5894f328ebc6b4a2e",
       "version_major": 2,
       "version_minor": 0
      },
      "text/plain": [
       "Canvas(toolbar=Toolbar(toolitems=[('Home', 'Reset original view', 'home', 'home'), ('Back', 'Back to previous …"
      ]
     },
     "metadata": {},
     "output_type": "display_data"
    }
   ],
   "source": [
    "f, ax = plt.subplots(1, 1, figsize=(6, 2), tight_layout=True)\n",
    "pred_effects.abs().loc[:1].mean(1).plot(\n",
    "#     yerr=pred_effects.loc[:1].std(1),#/np.sqrt(n_samples),\n",
    "    alpha=0.6, ax=ax\n",
    ")\n",
    "ax.set_xlim(-0.1, 0.25)\n",
    "ax.set_ylim(-10, 70)\n",
    "ax.axvline(0, c='k')\n",
    "ax.set_xlabel('time from prediction onset (s)')\n",
    "# ax.axhline(20, c='k', lw=0.5)\n",
    "# ax.axhline(-20, c='k', lw=0.5)\n",
    "# ax.set_ylabel('phase deviation\\n(mean +- SD)')\n",
    "ax.set_ylabel('mean absolute\\ndeviation')\n",
    "ax.annotate(f'{band} linear phase extrapolation (using {t_tot-(pred_len+buf_s)}s of data)', (0.01, 0.05), xycoords='axes fraction', va='bottom');"
   ]
  },
  {
   "cell_type": "code",
   "execution_count": 188,
   "metadata": {
    "execution": {
     "iopub.execute_input": "2020-10-21T00:10:49.785485Z",
     "iopub.status.busy": "2020-10-21T00:10:49.785166Z",
     "iopub.status.idle": "2020-10-21T00:12:29.061330Z",
     "shell.execute_reply": "2020-10-21T00:12:29.060576Z",
     "shell.execute_reply.started": "2020-10-21T00:10:49.785439Z"
    }
   },
   "outputs": [
    {
     "data": {
      "application/vnd.jupyter.widget-view+json": {
       "model_id": "00b9f75f4f2f4b54b667159740db9065",
       "version_major": 2,
       "version_minor": 0
      },
      "text/plain": [
       "Canvas(toolbar=Toolbar(toolitems=[('Home', 'Reset original view', 'home', 'home'), ('Back', 'Back to previous …"
      ]
     },
     "metadata": {},
     "output_type": "display_data"
    },
    {
     "data": {
      "application/vnd.jupyter.widget-view+json": {
       "model_id": "ef390da773574e26a01da9ac85667304",
       "version_major": 2,
       "version_minor": 0
      },
      "text/plain": [
       "HBox(children=(FloatProgress(value=0.0, max=1000.0), HTML(value='')))"
      ]
     },
     "metadata": {},
     "output_type": "display_data"
    },
    {
     "name": "stdout",
     "output_type": "stream",
     "text": [
      "\n"
     ]
    },
    {
     "data": {
      "application/vnd.jupyter.widget-view+json": {
       "model_id": "1f444b24bd2d4e1fbf5402efac1bc0b9",
       "version_major": 2,
       "version_minor": 0
      },
      "text/plain": [
       "HBox(children=(FloatProgress(value=0.0, max=1000.0), HTML(value='')))"
      ]
     },
     "metadata": {},
     "output_type": "display_data"
    },
    {
     "name": "stdout",
     "output_type": "stream",
     "text": [
      "\n"
     ]
    },
    {
     "data": {
      "application/vnd.jupyter.widget-view+json": {
       "model_id": "4ebce878aa9e4ecab8bfb6229d73383d",
       "version_major": 2,
       "version_minor": 0
      },
      "text/plain": [
       "HBox(children=(FloatProgress(value=0.0, max=1000.0), HTML(value='')))"
      ]
     },
     "metadata": {},
     "output_type": "display_data"
    },
    {
     "name": "stdout",
     "output_type": "stream",
     "text": [
      "\n"
     ]
    },
    {
     "data": {
      "application/vnd.jupyter.widget-view+json": {
       "model_id": "1aed19e61f07425996485d4189bc6a32",
       "version_major": 2,
       "version_minor": 0
      },
      "text/plain": [
       "HBox(children=(FloatProgress(value=0.0, max=1000.0), HTML(value='')))"
      ]
     },
     "metadata": {},
     "output_type": "display_data"
    },
    {
     "name": "stdout",
     "output_type": "stream",
     "text": [
      "\n"
     ]
    },
    {
     "data": {
      "text/plain": [
       "Text(0, 0.5, 'mean absolute\\ndeviation')"
      ]
     },
     "execution_count": 188,
     "metadata": {},
     "output_type": "execute_result"
    }
   ],
   "source": [
    "def _plot_effects(axes, band, order=3, edge_s=3, buf_s=3.75, pred_len=6, t_tot=10, n_samples=1000):\n",
    "    t0s = 20 + np.random.random(n_samples)*100\n",
    "    edge_effects, pred_effects = {}, {}\n",
    "    for t0 in tqdm(t0s, desc=band):\n",
    "        _e, _p = _run_comparison(t0, edge_s, buf_s, pred_len, band, order, t_tot)\n",
    "        _e.index = _e.index-_e.index[-1]\n",
    "        _p.index = _p.index - (t0+t_tot-pred_len)\n",
    "        edge_effects[t0] = _e.reindex(np.linspace(-3, 0, 601), method='nearest')\n",
    "        pred_effects[t0] = _p.reindex(np.linspace(buf_s-(t_tot-pred_len), pred_len, 1000), method='nearest')#np.linspace(0, pred_len, 1000), method='nearest')#\n",
    "    edge_effects = pd.concat(edge_effects, axis=1)*180/np.pi\n",
    "    pred_effects = pd.concat(pred_effects, axis=1)*180/np.pi\n",
    "    \n",
    "    edge_effects.abs().mean(1).plot(alpha=0.6, ax=axes[0], label=band)\n",
    "    pred_effects.abs().loc[:1].mean(1).plot(alpha=0.6, ax=axes[1], label=band)\n",
    "    return\n",
    "\n",
    "f, axes = plt.subplots(1, 2, figsize=(8, 4), tight_layout=True)\n",
    "for band in bands:\n",
    "    _plot_effects(axes, band)\n",
    "axes[0].set_xlabel('time from right edge (s)')\n",
    "axes[0].set_ylabel('mean absolute\\ndeviation')\n",
    "axes[0].legend(loc=2)\n",
    "\n",
    "axes[1].set_xlim(-0.1, 0.25)\n",
    "axes[1].set_ylim(-10, 70)\n",
    "axes[1].axvline(0, c='k')\n",
    "axes[1].set_xlabel('time from prediction onset (s)')\n",
    "axes[1].set_ylabel('mean absolute\\ndeviation');"
   ]
  },
  {
   "cell_type": "markdown",
   "metadata": {
    "execution": {
     "iopub.execute_input": "2020-10-21T00:12:58.421522Z",
     "iopub.status.busy": "2020-10-21T00:12:58.420734Z",
     "iopub.status.idle": "2020-10-21T00:13:00.159225Z",
     "shell.execute_reply": "2020-10-21T00:13:00.156978Z",
     "shell.execute_reply.started": "2020-10-21T00:12:58.421411Z"
    }
   },
   "source": [
    "## Phase autocorrelation"
   ]
  },
  {
   "cell_type": "code",
   "execution_count": 190,
   "metadata": {
    "execution": {
     "iopub.execute_input": "2020-10-21T00:19:24.689129Z",
     "iopub.status.busy": "2020-10-21T00:19:24.688725Z",
     "iopub.status.idle": "2020-10-21T00:19:26.172519Z",
     "shell.execute_reply": "2020-10-21T00:19:26.171844Z",
     "shell.execute_reply.started": "2020-10-21T00:19:24.689078Z"
    }
   },
   "outputs": [
    {
     "data": {
      "text/plain": [
       "time\n",
       "12.932482     22\n",
       "12.937282      9\n",
       "12.942082     25\n",
       "12.946882     30\n",
       "12.951682     17\n",
       "              ..\n",
       "132.289457    14\n",
       "132.294257    27\n",
       "132.299057    -6\n",
       "132.303857   -28\n",
       "132.308657   -11\n",
       "Name: 7, Length: 24871, dtype: int16"
      ]
     },
     "execution_count": 190,
     "metadata": {},
     "output_type": "execute_result"
    }
   ],
   "source": [
    "data"
   ]
  },
  {
   "cell_type": "code",
   "execution_count": 204,
   "metadata": {
    "execution": {
     "iopub.execute_input": "2020-10-21T00:26:59.793557Z",
     "iopub.status.busy": "2020-10-21T00:26:59.792605Z",
     "iopub.status.idle": "2020-10-21T00:27:00.342496Z",
     "shell.execute_reply": "2020-10-21T00:27:00.341826Z",
     "shell.execute_reply.started": "2020-10-21T00:26:59.793427Z"
    }
   },
   "outputs": [
    {
     "data": {
      "application/vnd.jupyter.widget-view+json": {
       "model_id": "451d49eca78849ecb770d68bdcdd6040",
       "version_major": 2,
       "version_minor": 0
      },
      "text/plain": [
       "Canvas(toolbar=Toolbar(toolitems=[('Home', 'Reset original view', 'home', 'home'), ('Back', 'Back to previous …"
      ]
     },
     "metadata": {},
     "output_type": "display_data"
    }
   ],
   "source": [
    "f, ax = plt.subplots(1, 1, figsize=(4, 3), tight_layout=True)\n",
    "for band in bands:\n",
    "    _data_filtered = _filter_data(data, band)\n",
    "    _hilbert = _linear_predict(_data_filtered)\n",
    "    _x = np.arange(100)\n",
    "    _y = []\n",
    "    for __x in _x:\n",
    "        _y.append(_hilbert.angle.autocorr(__x))\n",
    "    _y = pd.Series(_y[::-1], index=-_x[::-1]/sample_rate)\n",
    "    _y.plot(ax=ax, label=band)\n",
    "ax.legend(loc=2)\n",
    "ax.set_xlabel('lag (s)')\n",
    "ax.set_ylabel('phase autocorrelation');"
   ]
  },
  {
   "cell_type": "markdown",
   "metadata": {},
   "source": [
    "# Phase detection - let's look at theta"
   ]
  },
  {
   "cell_type": "code",
   "execution_count": 6,
   "metadata": {
    "execution": {
     "iopub.execute_input": "2020-10-06T17:05:20.776413Z",
     "iopub.status.busy": "2020-10-06T17:05:20.776234Z",
     "iopub.status.idle": "2020-10-06T17:05:20.793101Z",
     "shell.execute_reply": "2020-10-06T17:05:20.792455Z",
     "shell.execute_reply.started": "2020-10-06T17:05:20.776387Z"
    }
   },
   "outputs": [],
   "source": [
    "def _reset_phase(df, i=0):\n",
    "    return df - df.iloc[i]\n",
    "\n",
    "def _wrap(col):\n",
    "    return (col + np.pi) % (2 * np.pi) - np.pi"
   ]
  },
  {
   "cell_type": "code",
   "execution_count": null,
   "metadata": {
    "execution": {
     "iopub.status.busy": "2020-10-06T17:04:55.252329Z",
     "iopub.status.idle": "2020-10-06T17:04:55.252693Z"
    }
   },
   "outputs": [],
   "source": [
    "# frequency band to work with\n",
    "# fband = (15, 35) # beta\n",
    "# fband = (9, 13) # alpha\n",
    "fband = (5, 8) # theta\n",
    "# fband = (1, 4) # delta"
   ]
  },
  {
   "cell_type": "code",
   "execution_count": null,
   "metadata": {
    "execution": {
     "iopub.status.busy": "2020-10-06T17:04:55.253358Z",
     "iopub.status.idle": "2020-10-06T17:04:55.253778Z"
    }
   },
   "outputs": [],
   "source": [
    "eegdfltd = eegdata[valid_channels].progress_apply(\n",
    "    filters.butter_bandpass_filter,\n",
    "    lowcut=fband[0], highcut=fband[1],\n",
    "    sampling_frequency=sample_rate, filter_order=3\n",
    ")\n",
    "ch1 = 10\n",
    "ch2 = 15"
   ]
  },
  {
   "cell_type": "code",
   "execution_count": 11,
   "metadata": {
    "execution": {
     "iopub.execute_input": "2020-10-01T21:29:35.035278Z",
     "iopub.status.busy": "2020-10-01T21:29:35.035039Z",
     "iopub.status.idle": "2020-10-01T21:29:35.050119Z",
     "shell.execute_reply": "2020-10-01T21:29:35.049607Z",
     "shell.execute_reply.started": "2020-10-01T21:29:35.035202Z"
    }
   },
   "outputs": [],
   "source": [
    "# # visualize a couple of channels\n",
    "# ch1 = 0\n",
    "# ch2 = 31\n",
    "# _win = (819, 1821)\n",
    "# f, ax = plt.subplots(1, 1, figsize=(9, 2), constrained_layout=True)\n",
    "# eegdata.loc[_win[0]:_win[1], ch1].plot(ax=ax, alpha=0.3, label='_')\n",
    "# eegdata.loc[_win[0]:_win[1], ch2].plot(ax=ax, alpha=0.3, label='_')\n",
    "# # ax.set_prop_cycle(None)\n",
    "# ax2 = ax.twinx()\n",
    "# eegdfltd.loc[_win[0]:_win[1], ch1].plot(ax=ax2, alpha=0.9)\n",
    "# eegdfltd.loc[_win[0]:_win[1], ch2].plot(ax=ax2, alpha=0.9)\n",
    "# ax2.legend();"
   ]
  },
  {
   "cell_type": "code",
   "execution_count": 12,
   "metadata": {
    "execution": {
     "iopub.execute_input": "2020-10-01T21:29:35.051078Z",
     "iopub.status.busy": "2020-10-01T21:29:35.050881Z",
     "iopub.status.idle": "2020-10-01T21:29:35.077678Z",
     "shell.execute_reply": "2020-10-01T21:29:35.077173Z",
     "shell.execute_reply.started": "2020-10-01T21:29:35.051051Z"
    }
   },
   "outputs": [],
   "source": [
    "# # visualize all filtered channels\n",
    "# _win = (1200, 2200)\n",
    "# f, ax = plt.subplots(1, 1, figsize=(9, 2), constrained_layout=True)\n",
    "# ax.set_prop_cycle(c=np.array(exp.ch_coordinates.gid.map(lambda x: cm.Paired(x/11, 0.9))))\n",
    "# eegdfltd.loc[_win[0]:_win[1]].plot(ax=ax, legend=None)\n",
    "# ax.set_title('All channels, filter band ({0:d}, {1:d})'.format(*fband));"
   ]
  },
  {
   "cell_type": "code",
   "execution_count": 13,
   "metadata": {
    "execution": {
     "iopub.execute_input": "2020-10-01T21:29:35.078716Z",
     "iopub.status.busy": "2020-10-01T21:29:35.078454Z",
     "iopub.status.idle": "2020-10-01T21:29:44.725755Z",
     "shell.execute_reply": "2020-10-01T21:29:44.725188Z",
     "shell.execute_reply.started": "2020-10-01T21:29:35.078688Z"
    }
   },
   "outputs": [],
   "source": [
    "# Hilbert transform\n",
    "_hil = signal.hilbert(eegdfltd, axis=0)\n",
    "hilbert = pd.DataFrame(_hil, columns=eegdfltd.columns, index=eegdfltd.index)\n",
    "ampl = hilbert.abs() # amplitude of signal\n",
    "angl = hilbert.apply(np.angle) # phase of signal\n",
    "uangl = angl.apply(np.unwrap) # unwrapped phase of signal"
   ]
  },
  {
   "cell_type": "code",
   "execution_count": 14,
   "metadata": {
    "execution": {
     "iopub.execute_input": "2020-10-01T21:29:44.726733Z",
     "iopub.status.busy": "2020-10-01T21:29:44.726513Z",
     "iopub.status.idle": "2020-10-01T21:29:45.004976Z",
     "shell.execute_reply": "2020-10-01T21:29:45.004558Z",
     "shell.execute_reply.started": "2020-10-01T21:29:44.726671Z"
    }
   },
   "outputs": [
    {
     "data": {
      "application/vnd.jupyter.widget-view+json": {
       "model_id": "4b7c10b905644cd8a67b1331a1decd0a",
       "version_major": 2,
       "version_minor": 0
      },
      "text/plain": [
       "Canvas(toolbar=Toolbar(toolitems=[('Home', 'Reset original view', 'home', 'home'), ('Back', 'Back to previous …"
      ]
     },
     "metadata": {},
     "output_type": "display_data"
    }
   ],
   "source": [
    "# example result of Hilbert transform\n",
    "_win = (1200, 1210)\n",
    "f, (ax, axp) = plt.subplots(2, 1, figsize=(11, 5), sharex=True, constrained_layout=True)\n",
    "eegdfltd.loc[_win[0]:_win[1], ch1].plot(ax=ax, alpha=0.3, label='_')\n",
    "eegdfltd.loc[_win[0]:_win[1], ch2].plot(ax=ax, alpha=0.3, label='_')\n",
    "ax.set_prop_cycle(None)\n",
    "ampl.loc[_win[0]:_win[1], ch1].plot(ax=ax, alpha=0.6)\n",
    "ampl.loc[_win[0]:_win[1], ch2].plot(ax=ax, alpha=0.6)\n",
    "ampl.loc[_win[0]:_win[1]].median(axis=1).plot(ax=ax, alpha=0.6, c='k', label='mean amplitude')\n",
    "angl.loc[_win[0]:_win[1], [ch1]].plot(ax=axp, alpha=0.6)\n",
    "angl.loc[_win[0]:_win[1], [ch2]].plot(ax=axp, alpha=0.6)\n",
    "angl.loc[_win[0]:_win[1]].median(axis=1).plot(ax=axp, alpha=0.3, c='k', label='mean phase')\n",
    "ax.legend(loc=1)\n",
    "axp.legend(loc=1)\n",
    "ax.set_ylabel('signal and amplitude')\n",
    "axp.set_ylabel('phase')\n",
    "axp.set_xlabel('time (s)');"
   ]
  },
  {
   "cell_type": "markdown",
   "metadata": {},
   "source": [
    "## Overall, phases drift quickly\n",
    "But this does not say much because discontinuities are going to add up quickly over time. We should look for phase synchrony in short windows instead."
   ]
  },
  {
   "cell_type": "code",
   "execution_count": 18,
   "metadata": {
    "execution": {
     "iopub.execute_input": "2020-10-01T21:30:45.944134Z",
     "iopub.status.busy": "2020-10-01T21:30:45.943842Z",
     "iopub.status.idle": "2020-10-01T21:30:47.614983Z",
     "shell.execute_reply": "2020-10-01T21:30:47.614536Z",
     "shell.execute_reply.started": "2020-10-01T21:30:45.944096Z"
    }
   },
   "outputs": [
    {
     "data": {
      "application/vnd.jupyter.widget-view+json": {
       "model_id": "0a5ef2ec2ba34f19a468f90f6bb423aa",
       "version_major": 2,
       "version_minor": 0
      },
      "text/plain": [
       "Canvas(toolbar=Toolbar(toolitems=[('Home', 'Reset original view', 'home', 'home'), ('Back', 'Back to previous …"
      ]
     },
     "metadata": {},
     "output_type": "display_data"
    }
   ],
   "source": [
    "# phase drift between channels over time\n",
    "_win = (0, 120)\n",
    "_sig = uangl.join(stimuli.set_index('onset').reindex(uangl.index, method='nearest').id).groupby('id').apply(_reset_phase, i=-2)[valid_channels]\n",
    "# _sig = _phase_reset(uangl.subtract(uangl.mean(axis=1), axis=0))\n",
    "f, (ax, axe) = plt.subplots(1, 2, figsize=(7, 3), constrained_layout=True)\n",
    "ax.set_prop_cycle(c=np.array(exp.ch_coordinates.gid.map(lambda x: cm.Paired(x/11, 0.9))))\n",
    "# angl.subtract(angl.mean(axis=1), axis=0).loc[_win[0]:_win[1]].plot(ax=ax, alpha=0.6, legend=False) #.loc[_win[0]:_win[1]]\n",
    "_reset_phase(_sig.subtract(_sig.mean(axis=1), axis=0).loc[_win[0]:_win[1]]).plot(ax=ax, alpha=0.6, legend=False)\n",
    "ax.set_xlabel('time (s)')\n",
    "ax.set_ylabel('phase offset from mean (rad)\\n(cumulative)');\n",
    "plot_electrode_map(axe, labels=False, s=50)"
   ]
  },
  {
   "cell_type": "markdown",
   "metadata": {},
   "source": [
    "## Phase synchrony in short windows"
   ]
  },
  {
   "cell_type": "code",
   "execution_count": 19,
   "metadata": {
    "execution": {
     "iopub.execute_input": "2020-10-01T21:30:48.112370Z",
     "iopub.status.busy": "2020-10-01T21:30:48.111543Z",
     "iopub.status.idle": "2020-10-01T21:30:53.508089Z",
     "shell.execute_reply": "2020-10-01T21:30:53.507585Z",
     "shell.execute_reply.started": "2020-10-01T21:30:48.112260Z"
    }
   },
   "outputs": [],
   "source": [
    "# window the unwrapped angle\n",
    "ps_winsize_s = 1\n",
    "ps_wins = np.array(uangl.index / ps_winsize_s, dtype=int)\n",
    "uangl['win'] = ps_wins\n",
    "\n",
    "# compute relative phases within each window\n",
    "local_rel_phases = uangl.groupby('win').apply(lambda df: _wrap(_reset_phase(df.drop('win', axis=1)))).join(uangl.win)"
   ]
  },
  {
   "cell_type": "code",
   "execution_count": 20,
   "metadata": {
    "execution": {
     "iopub.execute_input": "2020-10-01T21:30:53.635512Z",
     "iopub.status.busy": "2020-10-01T21:30:53.635324Z",
     "iopub.status.idle": "2020-10-01T21:30:53.866193Z",
     "shell.execute_reply": "2020-10-01T21:30:53.865691Z",
     "shell.execute_reply.started": "2020-10-01T21:30:53.635484Z"
    }
   },
   "outputs": [
    {
     "data": {
      "application/vnd.jupyter.widget-view+json": {
       "model_id": "09ca2cc443b6406992b5922325746623",
       "version_major": 2,
       "version_minor": 0
      },
      "text/plain": [
       "Canvas(toolbar=Toolbar(toolitems=[('Home', 'Reset original view', 'home', 'home'), ('Back', 'Back to previous …"
      ]
     },
     "metadata": {},
     "output_type": "display_data"
    }
   ],
   "source": [
    "# example evolution of phases within the window\n",
    "f, axes = plt.subplots(1, 3, figsize=(11, 3), tight_layout=True, sharey=True)\n",
    "for ax, w in zip(axes, [16, 13, 14]):\n",
    "    _phases = local_rel_phases[local_rel_phases.win==w][valid_channels].apply(np.unwrap)\n",
    "#     _phases.plot(ax=ax, legend=False, alpha=0.6)\n",
    "    _phases.subtract(_phases.mean(axis=1), axis=0).plot(ax=ax, legend=False, alpha=0.6)\n",
    "axes[1].set_xlabel('time (s)')\n",
    "axes[0].set_ylabel('phase (relative to mean)');"
   ]
  },
  {
   "cell_type": "code",
   "execution_count": 21,
   "metadata": {
    "execution": {
     "iopub.execute_input": "2020-10-01T21:30:53.867128Z",
     "iopub.status.busy": "2020-10-01T21:30:53.866945Z",
     "iopub.status.idle": "2020-10-01T21:31:10.534142Z",
     "shell.execute_reply": "2020-10-01T21:31:10.533612Z",
     "shell.execute_reply.started": "2020-10-01T21:30:53.867102Z"
    }
   },
   "outputs": [],
   "source": [
    "# we can look at the dispersion at the last time point as a proxy for how synchronized or not the waves were\n",
    "def _compute_phase_dispersion(rel_phases):\n",
    "    return rel_phases[valid_channels].apply(np.unwrap).iloc[-1].std()\n",
    "phase_dispersion = local_rel_phases.groupby('win').apply(_compute_phase_dispersion)"
   ]
  },
  {
   "cell_type": "code",
   "execution_count": 22,
   "metadata": {
    "execution": {
     "iopub.execute_input": "2020-10-01T21:31:10.535006Z",
     "iopub.status.busy": "2020-10-01T21:31:10.534825Z",
     "iopub.status.idle": "2020-10-01T21:31:10.779878Z",
     "shell.execute_reply": "2020-10-01T21:31:10.779385Z",
     "shell.execute_reply.started": "2020-10-01T21:31:10.534979Z"
    }
   },
   "outputs": [
    {
     "data": {
      "application/vnd.jupyter.widget-view+json": {
       "model_id": "af099683204e47218deb38e3c22dfd2f",
       "version_major": 2,
       "version_minor": 0
      },
      "text/plain": [
       "Canvas(toolbar=Toolbar(toolitems=[('Home', 'Reset original view', 'home', 'home'), ('Back', 'Back to previous …"
      ]
     },
     "metadata": {},
     "output_type": "display_data"
    }
   ],
   "source": [
    "# how does phase dispersion look over time?\n",
    "f, ax = plt.subplots(1, 1, figsize=(8, 2), tight_layout=True)\n",
    "phase_dispersion.plot(ax=ax)\n",
    "ax.set_xlabel('time (s)')\n",
    "ax.set_ylabel('dispersion')\n",
    "ax.vlines(np.array([iso_first_on, iso_first_mid, iso_first_off])/ps_winsize_s, 0, 7, colors='r')\n",
    "running_speed.plot(ax=ax.twinx(), c='k', lw=0.5);"
   ]
  },
  {
   "cell_type": "markdown",
   "metadata": {},
   "source": [
    "---"
   ]
  },
  {
   "cell_type": "markdown",
   "metadata": {},
   "source": [
    "# Causal phase prediction"
   ]
  },
  {
   "cell_type": "code",
   "execution_count": 6,
   "metadata": {
    "execution": {
     "iopub.execute_input": "2020-10-19T02:14:26.924802Z",
     "iopub.status.busy": "2020-10-19T02:14:26.924535Z",
     "iopub.status.idle": "2020-10-19T02:14:26.941619Z",
     "shell.execute_reply": "2020-10-19T02:14:26.940985Z",
     "shell.execute_reply.started": "2020-10-19T02:14:26.924742Z"
    }
   },
   "outputs": [],
   "source": [
    "band = 'theta'"
   ]
  },
  {
   "cell_type": "code",
   "execution_count": 7,
   "metadata": {
    "execution": {
     "iopub.execute_input": "2020-10-19T02:14:26.942666Z",
     "iopub.status.busy": "2020-10-19T02:14:26.942430Z",
     "iopub.status.idle": "2020-10-19T02:14:27.071895Z",
     "shell.execute_reply": "2020-10-19T02:14:27.071212Z",
     "shell.execute_reply.started": "2020-10-19T02:14:26.942584Z"
    }
   },
   "outputs": [
    {
     "data": {
      "text/plain": [
       "time        amplitude  duration  onset  offset     sweep\n",
       "12.932482   0.0        400.0     0.0    134.81291  -1.0     22\n",
       "12.937282   0.0        400.0     0.0    134.81291  -1.0      9\n",
       "12.942082   0.0        400.0     0.0    134.81291  -1.0     25\n",
       "12.946882   0.0        400.0     0.0    134.81291  -1.0     30\n",
       "12.951682   0.0        400.0     0.0    134.81291  -1.0     17\n",
       "                                                            ..\n",
       "132.289457  0.0        400.0     0.0    134.81291  -1.0     14\n",
       "132.294257  0.0        400.0     0.0    134.81291  -1.0     27\n",
       "132.299057  0.0        400.0     0.0    134.81291  -1.0     -6\n",
       "132.303857  0.0        400.0     0.0    134.81291  -1.0    -28\n",
       "132.308657  0.0        400.0     0.0    134.81291  -1.0    -11\n",
       "Name: 7, Length: 24871, dtype: int16"
      ]
     },
     "metadata": {},
     "output_type": "display_data"
    },
    {
     "data": {
      "application/vnd.jupyter.widget-view+json": {
       "model_id": "17214890779d45ceb82db9b7cb8696b3",
       "version_major": 2,
       "version_minor": 0
      },
      "text/plain": [
       "Canvas(toolbar=Toolbar(toolitems=[('Home', 'Reset original view', 'home', 'home'), ('Back', 'Back to previous …"
      ]
     },
     "metadata": {},
     "output_type": "display_data"
    }
   ],
   "source": [
    "# look at a particular channel, and prestimulus data to evaluate baseline\n",
    "tid = -1\n",
    "ch = 7\n",
    "data = eegdata.xs(tid, level='id')[ch]\n",
    "time = data.index.get_level_values('time')\n",
    "display(data)\n",
    "t_onset = 120.0#data.index.get_level_values('onset').unique()[0]\n",
    "f, ax = plt.subplots(1, 1, figsize=(8, 2), tight_layout=True)\n",
    "ax.plot(data.index.get_level_values('time'), data, label=f'ch{ch}')\n",
    "ax.axvline(t_onset, c='k')\n",
    "ax.set_xlabel('time (s)')\n",
    "ax.set_ylabel('voltage');"
   ]
  },
  {
   "cell_type": "markdown",
   "metadata": {},
   "source": [
    "## Step 1: Determine peak frequency and SNR"
   ]
  },
  {
   "cell_type": "code",
   "execution_count": 8,
   "metadata": {
    "execution": {
     "iopub.execute_input": "2020-10-19T02:14:27.074705Z",
     "iopub.status.busy": "2020-10-19T02:14:27.074398Z",
     "iopub.status.idle": "2020-10-19T02:14:27.136259Z",
     "shell.execute_reply": "2020-10-19T02:14:27.135612Z",
     "shell.execute_reply.started": "2020-10-19T02:14:27.074664Z"
    }
   },
   "outputs": [
    {
     "data": {
      "application/vnd.jupyter.widget-view+json": {
       "model_id": "b184198b6a524d73827021a14a9f81f2",
       "version_major": 2,
       "version_minor": 0
      },
      "text/plain": [
       "Canvas(toolbar=Toolbar(toolitems=[('Home', 'Reset original view', 'home', 'home'), ('Back', 'Back to previous …"
      ]
     },
     "metadata": {},
     "output_type": "display_data"
    }
   ],
   "source": [
    "prestim_data = data.loc(axis=0)[pd.IndexSlice[:t_onset]] # prestimulus data\n",
    "\n",
    "# obtain a spectrogram\n",
    "_frequencies, _power = signal.welch(prestim_data, fs=sample_rate)\n",
    "# find peaks\n",
    "_idx_peaks = signal.find_peaks(_power)[0]\n",
    "# find peak in band of interest\n",
    "_idx_pois = np.array([\n",
    "    x for x in _idx_peaks if _frequencies[x]<bands[band][1] and _frequencies[x]>bands[band][0]\n",
    "])\n",
    "_idx_peak = _power[_idx_pois].argmax()\n",
    "_peak_power = _power[_idx_peak]\n",
    "peak_frequency = _frequencies[_idx_pois][_idx_peak]\n",
    "# TODO: Evaluate SNR and test for goodness of signal before proceeding\n",
    "# The peak seems to be very strong, so I am skipping this for now\n",
    "\n",
    "# plotting\n",
    "f, ax = plt.subplots(1, 1, figsize=(4, 3), tight_layout=True)\n",
    "ax.plot(_frequencies, _power)\n",
    "ax.set_xlabel('frequency (Hz)')\n",
    "ax.set_ylabel('PSD')\n",
    "ax.set_xlim(-1, 50)\n",
    "ax.scatter(\n",
    "    _frequencies[_idx_peaks], _power[_idx_peaks], facecolors='none',\n",
    "    edgecolors=['r' if x==_idx_pois[_idx_peak] else 'b' for x in _idx_peaks]\n",
    ")\n",
    "for _name, _band in bands.items():\n",
    "    ax.axvspan(*_band, alpha=0.15, facecolor='r' if _name==band else 'b')\n",
    "    ax.annotate(_name, (_band[0], 0), rotation=90)"
   ]
  },
  {
   "cell_type": "markdown",
   "metadata": {},
   "source": [
    "## Step 2: Determine phase and amplitude using entire time"
   ]
  },
  {
   "cell_type": "code",
   "execution_count": 9,
   "metadata": {
    "execution": {
     "iopub.execute_input": "2020-10-19T02:14:27.138229Z",
     "iopub.status.busy": "2020-10-19T02:14:27.137880Z",
     "iopub.status.idle": "2020-10-19T02:14:27.214165Z",
     "shell.execute_reply": "2020-10-19T02:14:27.213055Z",
     "shell.execute_reply.started": "2020-10-19T02:14:27.138148Z"
    }
   },
   "outputs": [],
   "source": [
    "_data = signal.detrend(data)\n",
    "# generate a set of filters, filter the signal using these, then take Hilbert transform, look at mean and variance of estimated phase"
   ]
  },
  {
   "cell_type": "markdown",
   "metadata": {},
   "source": [
    "## Step 3: Optimize parameters"
   ]
  },
  {
   "cell_type": "code",
   "execution_count": 10,
   "metadata": {
    "execution": {
     "iopub.execute_input": "2020-10-19T02:14:27.216000Z",
     "iopub.status.busy": "2020-10-19T02:14:27.215566Z",
     "iopub.status.idle": "2020-10-19T02:14:27.255012Z",
     "shell.execute_reply": "2020-10-19T02:14:27.254017Z",
     "shell.execute_reply.started": "2020-10-19T02:14:27.215950Z"
    }
   },
   "outputs": [],
   "source": [
    "# to be implemented"
   ]
  },
  {
   "cell_type": "markdown",
   "metadata": {},
   "source": [
    "## Step 4: Causal phase estimation"
   ]
  },
  {
   "cell_type": "code",
   "execution_count": 11,
   "metadata": {
    "execution": {
     "iopub.execute_input": "2020-10-19T02:14:27.257287Z",
     "iopub.status.busy": "2020-10-19T02:14:27.256737Z",
     "iopub.status.idle": "2020-10-19T02:14:27.437329Z",
     "shell.execute_reply": "2020-10-19T02:14:27.436625Z",
     "shell.execute_reply.started": "2020-10-19T02:14:27.257234Z"
    }
   },
   "outputs": [
    {
     "data": {
      "application/vnd.jupyter.widget-view+json": {
       "model_id": "e67d2f69d2be4897976f80087458da28",
       "version_major": 2,
       "version_minor": 0
      },
      "text/plain": [
       "Canvas(toolbar=Toolbar(toolitems=[('Home', 'Reset original view', 'home', 'home'), ('Back', 'Back to previous …"
      ]
     },
     "metadata": {},
     "output_type": "display_data"
    }
   ],
   "source": [
    "# how does filter order affect the filtered signal?\n",
    "_data = signal.detrend(data)\n",
    "_frequencies, _power = signal.welch(_data, fs=sample_rate)\n",
    "\n",
    "f, (ax, ax2) = plt.subplots(\n",
    "    1, 2, figsize=(12, 2), tight_layout=True,\n",
    "    gridspec_kw=dict(width_ratios=[4, 1])\n",
    ")\n",
    "ax.plot(\n",
    "    data.index.get_level_values('time'), _data,\n",
    "    c='k', lw=0.6, alpha=0.5, label='raw'\n",
    ")\n",
    "ax2.plot(_frequencies, _power, c='k', alpha=0.6)\n",
    "for filter_order in range(1, 8):\n",
    "    _data_filtered = filters.butter_bandpass_filter(\n",
    "        _data, bands[band][0], bands[band][1],\n",
    "        sample_rate, filter_order\n",
    "    )\n",
    "    if np.isnan(_data_filtered).sum()>0:\n",
    "        continue\n",
    "    _frequencies, _power = signal.welch(_data_filtered, fs=sample_rate)\n",
    "    ax.plot(\n",
    "        data.index.get_level_values('time'), _data_filtered,\n",
    "        alpha=0.5, label=filter_order\n",
    "    )\n",
    "    ax2.plot(_frequencies, _power, alpha=0.6)\n",
    "ax.legend(ncol=2, loc=1, fontsize=8)\n",
    "ax2.set_xlim(bands[band][0]-1, bands[band][1]+1)\n",
    "ax2.set_ylim(1, 100)\n",
    "ax2.set_yscale('log')\n",
    "ax.set_xlabel('time (s)')\n",
    "ax.set_ylabel('signal')\n",
    "ax2.set_xlabel('frequency (Hz)')\n",
    "ax2.set_ylabel('PSD');"
   ]
  },
  {
   "cell_type": "code",
   "execution_count": 12,
   "metadata": {
    "execution": {
     "iopub.execute_input": "2020-10-19T02:14:27.438634Z",
     "iopub.status.busy": "2020-10-19T02:14:27.438332Z",
     "iopub.status.idle": "2020-10-19T02:14:27.469378Z",
     "shell.execute_reply": "2020-10-19T02:14:27.468644Z",
     "shell.execute_reply.started": "2020-10-19T02:14:27.438594Z"
    }
   },
   "outputs": [],
   "source": [
    "# filter the data\n",
    "FILTER_ORDER = 2\n",
    "def _bandpass_filter(data, filt=None):\n",
    "    time = data.index\n",
    "    data = signal.detrend(data)\n",
    "    # for now we use the standard butterfilter that Irene has implemented\n",
    "    filter_order = FILTER_ORDER\n",
    "    data_filtered = filters.butter_bandpass_filter(\n",
    "        data, bands[band][0], bands[band][1],\n",
    "        sample_rate, filter_order\n",
    "    )\n",
    "    return pd.Series(data_filtered, index=time)\n",
    "\n",
    "_data_filtered = _bandpass_filter(data.droplevel(list(range(1, 6))))"
   ]
  },
  {
   "cell_type": "code",
   "execution_count": 13,
   "metadata": {
    "execution": {
     "iopub.execute_input": "2020-10-19T02:14:27.470968Z",
     "iopub.status.busy": "2020-10-19T02:14:27.470583Z",
     "iopub.status.idle": "2020-10-19T02:14:29.546437Z",
     "shell.execute_reply": "2020-10-19T02:14:29.545967Z",
     "shell.execute_reply.started": "2020-10-19T02:14:27.470856Z"
    }
   },
   "outputs": [
    {
     "data": {
      "application/vnd.jupyter.widget-view+json": {
       "model_id": "75016d7722dd4b2c9b5ecb8b43c1e5bd",
       "version_major": 2,
       "version_minor": 0
      },
      "text/plain": [
       "Canvas(toolbar=Toolbar(toolitems=[('Home', 'Reset original view', 'home', 'home'), ('Back', 'Back to previous …"
      ]
     },
     "metadata": {},
     "output_type": "display_data"
    }
   ],
   "source": [
    "# fit AR parameters\n",
    "def _fit_aryule(data_filtered, arlen_ms=50):\n",
    "    yworder = int(arlen_ms*sample_rate/1000)\n",
    "    rho, P, k = aryule(data_filtered, yworder)\n",
    "    rho = -1*rho[::-1]\n",
    "    return rho, P, k\n",
    "\n",
    "_rho, _P, _K = _fit_aryule(_data_filtered, arlen_ms=1000)\n",
    "f, ax = plt.subplots(1, 1, figsize=(4, 2), tight_layout=True)\n",
    "ax.plot(-np.arange(len(_rho))/sample_rate*1000, _rho, 'o')\n",
    "ax.set_xlabel('Regression time (ms)')\n",
    "ax.set_ylabel('AR Coefficient');"
   ]
  },
  {
   "cell_type": "code",
   "execution_count": 14,
   "metadata": {
    "execution": {
     "iopub.execute_input": "2020-10-19T02:14:29.547377Z",
     "iopub.status.busy": "2020-10-19T02:14:29.547162Z",
     "iopub.status.idle": "2020-10-19T02:14:29.648997Z",
     "shell.execute_reply": "2020-10-19T02:14:29.648225Z",
     "shell.execute_reply.started": "2020-10-19T02:14:29.547315Z"
    }
   },
   "outputs": [
    {
     "data": {
      "application/vnd.jupyter.widget-view+json": {
       "model_id": "992968b123ba4f95b2b19734482b9a47",
       "version_major": 2,
       "version_minor": 0
      },
      "text/plain": [
       "Canvas(toolbar=Toolbar(toolitems=[('Home', 'Reset original view', 'home', 'home'), ('Back', 'Back to previous …"
      ]
     },
     "metadata": {},
     "output_type": "display_data"
    }
   ],
   "source": [
    "# predict timeseries\n",
    "def _predict(data_filtered, rho, prediction_len_ms=200, arlen_ms=50):\n",
    "    time = data_filtered.index\n",
    "    dt = np.diff(time).mean()\n",
    "    yworder = int(arlen_ms*sample_rate/1000)\n",
    "    n_predict = int(prediction_len_ms/1000*sample_rate)+1\n",
    "    data_with_predictions = np.r_[data_filtered, np.zeros(n_predict)]\n",
    "    for i in range(len(data_filtered), len(data_with_predictions)):\n",
    "        data_with_predictions[i] = (data_with_predictions[i-yworder:i]*rho).sum()\n",
    "    data_with_predictions = pd.Series(\n",
    "        data_with_predictions,\n",
    "        index=time.append(pd.Index(\n",
    "            np.ones(n_predict).cumsum()*dt+time[-1]\n",
    "#             np.linspace(\n",
    "#                 time[-1]+1/sample_rate,\n",
    "#                 time[-1]+prediction_len_ms/1000,\n",
    "#                 n_predict, endpoint=True\n",
    "#             )\n",
    "        ))\n",
    "    )\n",
    "    return data_with_predictions\n",
    "\n",
    "_twin = (127, 129)\n",
    "_data_with_predictions = _predict(_data_filtered.loc[_twin[0]:_twin[1]], _rho, prediction_len_ms=1000, arlen_ms=1000)\n",
    "f, ax = plt.subplots(1, 1, figsize=(10, 2), tight_layout=True)\n",
    "_data_filtered.loc[_twin[0]:].plot(ax=ax, label='data')\n",
    "_data_with_predictions.plot(ax=ax, label='prediction')\n",
    "ax.axvline(_twin[1], c='k', lw=0.5)\n",
    "ax.set_xlim(_twin[0], _data_with_predictions.index[-1])\n",
    "ax.legend(loc=2);"
   ]
  },
  {
   "cell_type": "code",
   "execution_count": 15,
   "metadata": {
    "execution": {
     "iopub.execute_input": "2020-10-19T02:14:29.650763Z",
     "iopub.status.busy": "2020-10-19T02:14:29.650321Z",
     "iopub.status.idle": "2020-10-19T02:14:29.690801Z",
     "shell.execute_reply": "2020-10-19T02:14:29.689830Z",
     "shell.execute_reply.started": "2020-10-19T02:14:29.650670Z"
    }
   },
   "outputs": [],
   "source": [
    "# full function to predict using yule-walker\n",
    "def arywpredict(data, filt=None, redge_ms=500, arlen_ms=1000, prediction_len_ms=500):\n",
    "    redge = data.index[-1] - redge_ms/1000\n",
    "    data_filtered = _bandpass_filter(data, filt=filt)\n",
    "    rho, P, K = _fit_aryule(\n",
    "        data_filtered.loc[:redge], arlen_ms=arlen_ms\n",
    "    )\n",
    "    data_with_predictions = _predict(\n",
    "        data_filtered.loc[:redge], rho,\n",
    "        prediction_len_ms=prediction_len_ms, arlen_ms=arlen_ms\n",
    "    )\n",
    "    return data_with_predictions, data_filtered"
   ]
  },
  {
   "cell_type": "code",
   "execution_count": 16,
   "metadata": {
    "execution": {
     "iopub.execute_input": "2020-10-19T02:14:29.692690Z",
     "iopub.status.busy": "2020-10-19T02:14:29.692196Z",
     "iopub.status.idle": "2020-10-19T02:14:29.984034Z",
     "shell.execute_reply": "2020-10-19T02:14:29.983606Z",
     "shell.execute_reply.started": "2020-10-19T02:14:29.692549Z"
    }
   },
   "outputs": [
    {
     "data": {
      "application/vnd.jupyter.widget-view+json": {
       "model_id": "ad6f7d9418154d1ba46ee5ca9276519f",
       "version_major": 2,
       "version_minor": 0
      },
      "text/plain": [
       "Canvas(toolbar=Toolbar(toolitems=[('Home', 'Reset original view', 'home', 'home'), ('Back', 'Back to previous …"
      ]
     },
     "metadata": {},
     "output_type": "display_data"
    }
   ],
   "source": [
    "def hilbert_tx(series):\n",
    "    _hil = signal.hilbert(series, axis=0)\n",
    "    _hil = pd.Series(_hil, index=series.index, name='hilert')\n",
    "    ampl = _hil.abs().rename('amplitude') # amplitude of signal\n",
    "    angl = _hil.apply(np.angle).rename('angle') # phase of signal\n",
    "    uangl = pd.Series(np.unwrap(angl), index=angl.index, name='uangl') # unwrapped phase of signal\n",
    "    return pd.concat([_hil, ampl, angl, uangl], axis=1)\n",
    "\n",
    "tid = -1\n",
    "ch = 7\n",
    "data = eegdata.xs(tid, level='id')[ch]\n",
    "time = data.index.get_level_values('time')\n",
    "t_onset = 120.0#data.index.get_level_values('onset').unique()[0]\n",
    "\n",
    "_tpred = 16\n",
    "arlen_ms = 2000\n",
    "predlen_ms = 1000\n",
    "redge_ms = 1000\n",
    "\n",
    "_tmin = _tpred-arlen_ms*1.5/1000\n",
    "_tmax = _tpred+predlen_ms*1.5/1000\n",
    "_data_with_predictions, _data_filtered = arywpredict(\n",
    "    data.droplevel(list(range(1, 6))).loc[_tpred-arlen_ms*5/1000:_tpred+redge_ms/1000],\n",
    "    redge_ms=redge_ms, filt=None, arlen_ms=arlen_ms, prediction_len_ms=predlen_ms\n",
    ")\n",
    "_hilbert_real = hilbert_tx(_data_filtered).loc[_tmin:]\n",
    "_hilbert_pred = hilbert_tx(_data_with_predictions).loc[_tmin:]\n",
    "f, (ax1, ax2) = plt.subplots(2, 1, figsize=(8, 3), tight_layout=True, sharex=True)\n",
    "_data_filtered[_tmin:].plot(ax=ax1, label='_filtered data', alpha=0.6)\n",
    "_data_with_predictions[_tmin:].plot(ax=ax1, label='_prediction', alpha=0.6)\n",
    "ax1.set_prop_cycle(None)\n",
    "_hilbert_real.amplitude[_tmin:].plot(ax=ax1, label='actual')\n",
    "_hilbert_pred.amplitude[_tmin:].plot(ax=ax1, label='predicted')\n",
    "_hilbert_real.angle[_tmin:].plot(ax=ax2, marker=None, label='actual')\n",
    "_hilbert_pred.angle[_tmin:].plot(ax=ax2, marker=None, label='predicted')\n",
    "ax1.axvline(_tpred, c='k')\n",
    "ax2.axvline(_tpred, c='k')\n",
    "ax1.legend(loc=2, fontsize=9)\n",
    "ax2.legend(loc=2, fontsize=9)\n",
    "ax2.set_xlabel('time (s)');"
   ]
  },
  {
   "cell_type": "markdown",
   "metadata": {},
   "source": [
    "### Characterize accuracy of prediction"
   ]
  },
  {
   "cell_type": "code",
   "execution_count": 17,
   "metadata": {
    "execution": {
     "iopub.execute_input": "2020-10-19T02:14:29.984939Z",
     "iopub.status.busy": "2020-10-19T02:14:29.984710Z",
     "iopub.status.idle": "2020-10-19T02:14:30.208065Z",
     "shell.execute_reply": "2020-10-19T02:14:30.207650Z",
     "shell.execute_reply.started": "2020-10-19T02:14:29.984873Z"
    }
   },
   "outputs": [
    {
     "data": {
      "application/vnd.jupyter.widget-view+json": {
       "model_id": "9ce55a6f5b614348bc201fdfd34afe1e",
       "version_major": 2,
       "version_minor": 0
      },
      "text/plain": [
       "Canvas(toolbar=Toolbar(toolitems=[('Home', 'Reset original view', 'home', 'home'), ('Back', 'Back to previous …"
      ]
     },
     "metadata": {},
     "output_type": "display_data"
    }
   ],
   "source": [
    "def _get_phase_amplitude_accuracy(T, ch=7, arlen_ms=1000, predlen_ms=1000, redge_ms=1000):\n",
    "    tid = -1\n",
    "    data = eegdata.xs(tid, level='id')[ch]\n",
    "    time = data.index.get_level_values('time')\n",
    "    _tmin = T-arlen_ms*1.5/1000\n",
    "    _tmax = T+predlen_ms*1.5/1000\n",
    "    _data_with_predictions, _data_filtered = arywpredict(\n",
    "        data.droplevel(list(range(1, 6))).loc[T-arlen_ms*5/1000:T+redge_ms/1000],\n",
    "        redge_ms=redge_ms, filt=None, arlen_ms=arlen_ms, prediction_len_ms=predlen_ms\n",
    "    )\n",
    "    _hilbert_real = hilbert_tx(_data_filtered)\n",
    "    _hilbert_pred = hilbert_tx(_data_with_predictions)\n",
    "    _hilbert_real['uangl'] = _hilbert_real.uangl - _hilbert_real.uangl.reindex([T], method='nearest').values[0]\n",
    "    _hilbert_pred['uangl'] = _hilbert_pred.uangl - _hilbert_pred.uangl.reindex([T], method='nearest').values[0]\n",
    "    m, c = np.polyfit(_hilbert_pred.uangl.loc[:T].index, _hilbert_pred.uangl.loc[:T].values, 1)\n",
    "    _hilbert_real['linear'] = _hilbert_real.uangl\n",
    "    _hilbert_pred['linear'] = _hilbert_pred.uangl\n",
    "    _hilbert_pred.loc[T:, 'linear'] = m*_hilbert_pred.uangl.loc[T:].index + c\n",
    "    _hilbert_diff = _hilbert_pred[T:] - _hilbert_real.reindex(\n",
    "        _hilbert_pred.index, method='nearest'\n",
    "    ).loc[T:]\n",
    "    _hilbert_diff['amplitude'] = _hilbert_diff.amplitude / _hilbert_real.amplitude.mean()\n",
    "    _sig_diff = _data_with_predictions[T:] - _data_filtered.reindex(\n",
    "        _data_with_predictions.index, method='nearest'\n",
    "    )[T:]\n",
    "    _diff = pd.concat([_sig_diff.rename('signal'), _hilbert_diff.amplitude, _hilbert_diff.uangl, _hilbert_diff.linear], axis=1)\n",
    "    _diff.index = np.array(1000*(_diff.index - T), dtype=int)/1000\n",
    "    return _diff.loc[-1:]\n",
    "\n",
    "f, axes = plt.subplots(1, 3, figsize=(9, 2), tight_layout=True)\n",
    "_diff = _get_phase_amplitude_accuracy(100)\n",
    "for c, ax in zip(_diff.columns, axes):\n",
    "    _diff[c].plot(ax=ax)\n",
    "    ax.set_ylabel(f'delta {c}')\n",
    "axes[1].set_xlabel('time from starting prediction (s)');"
   ]
  },
  {
   "cell_type": "code",
   "execution_count": 18,
   "metadata": {
    "execution": {
     "iopub.execute_input": "2020-10-19T02:14:30.208983Z",
     "iopub.status.busy": "2020-10-19T02:14:30.208762Z",
     "iopub.status.idle": "2020-10-19T02:15:25.866542Z",
     "shell.execute_reply": "2020-10-19T02:15:25.866102Z",
     "shell.execute_reply.started": "2020-10-19T02:14:30.208917Z"
    }
   },
   "outputs": [
    {
     "data": {
      "application/vnd.jupyter.widget-view+json": {
       "model_id": "bab029176d2d46519620b680b9331291",
       "version_major": 2,
       "version_minor": 0
      },
      "text/plain": [
       "HBox(children=(FloatProgress(value=0.0, max=500.0), HTML(value='')))"
      ]
     },
     "metadata": {},
     "output_type": "display_data"
    },
    {
     "name": "stdout",
     "output_type": "stream",
     "text": [
      "\n"
     ]
    }
   ],
   "source": [
    "T_preds = 20 + np.random.randint(0, 1000, 500)/1000*100 # select a random prediction time in the initial no-stimulation period\n",
    "_diffs = {}\n",
    "for T in tqdm(sorted(T_preds)):\n",
    "    _diffs[T] = _get_phase_amplitude_accuracy(T)\n",
    "_diffs = pd.concat(_diffs, axis=1).ffill().bfill()\n",
    "_diffs = _diffs.swaplevel(axis=1)\n",
    "_diffs['uangl'] = _diffs['uangl'] / 3.14*180\n",
    "_diffs['linear'] = _diffs['linear'] / 3.14*180"
   ]
  },
  {
   "cell_type": "code",
   "execution_count": 19,
   "metadata": {
    "execution": {
     "iopub.execute_input": "2020-10-19T02:15:25.867421Z",
     "iopub.status.busy": "2020-10-19T02:15:25.867196Z",
     "iopub.status.idle": "2020-10-19T02:15:27.425486Z",
     "shell.execute_reply": "2020-10-19T02:15:27.425033Z",
     "shell.execute_reply.started": "2020-10-19T02:15:25.867355Z"
    }
   },
   "outputs": [
    {
     "data": {
      "application/vnd.jupyter.widget-view+json": {
       "model_id": "c0ad0ec9cf9247b0bade228a68c30bd7",
       "version_major": 2,
       "version_minor": 0
      },
      "text/plain": [
       "Canvas(toolbar=Toolbar(toolitems=[('Home', 'Reset original view', 'home', 'home'), ('Back', 'Back to previous …"
      ]
     },
     "metadata": {},
     "output_type": "display_data"
    }
   ],
   "source": [
    "f, axes = plt.subplots(1, 3, figsize=(9, 2), tight_layout=True, sharex=True)\n",
    "for c, ax in zip(_diffs.columns.levels[0], axes):\n",
    "    _diffs[c].abs().median(axis=1).plot(\n",
    "        ax=ax,# yerr=_diffs[c].std(axis=1)/np.sqrt(500)\n",
    "    )\n",
    "    ax.set_ylabel(f'delta {c}')"
   ]
  },
  {
   "cell_type": "code",
   "execution_count": 20,
   "metadata": {
    "execution": {
     "iopub.execute_input": "2020-10-19T02:15:27.426477Z",
     "iopub.status.busy": "2020-10-19T02:15:27.426294Z",
     "iopub.status.idle": "2020-10-19T02:15:27.513063Z",
     "shell.execute_reply": "2020-10-19T02:15:27.512606Z",
     "shell.execute_reply.started": "2020-10-19T02:15:27.426451Z"
    }
   },
   "outputs": [
    {
     "data": {
      "application/vnd.jupyter.widget-view+json": {
       "model_id": "0f5c763bdac743c0b288f1dde76bbeca",
       "version_major": 2,
       "version_minor": 0
      },
      "text/plain": [
       "Canvas(toolbar=Toolbar(toolitems=[('Home', 'Reset original view', 'home', 'home'), ('Back', 'Back to previous …"
      ]
     },
     "metadata": {},
     "output_type": "display_data"
    }
   ],
   "source": [
    "f, ax = plt.subplots(1, 1, figsize=(4, 3), tight_layout=True)\n",
    "ax.plot((_diffs.linear-_diffs.uangl).abs().median(axis=1), label='AR prediction-actual')\n",
    "ax.plot(_diffs.linear.abs().median(axis=1), label='linear prediction-actual')\n",
    "ax.set_xlabel('time')\n",
    "ax.set_ylabel('angle')\n",
    "ax.legend(loc=2, fontsize=9);"
   ]
  },
  {
   "cell_type": "markdown",
   "metadata": {},
   "source": [
    "## Test phase detection algorithm on sample data"
   ]
  },
  {
   "cell_type": "code",
   "execution_count": 21,
   "metadata": {
    "execution": {
     "iopub.execute_input": "2020-10-19T02:15:27.514077Z",
     "iopub.status.busy": "2020-10-19T02:15:27.513892Z",
     "iopub.status.idle": "2020-10-19T02:15:27.539743Z",
     "shell.execute_reply": "2020-10-19T02:15:27.539284Z",
     "shell.execute_reply.started": "2020-10-19T02:15:27.514051Z"
    }
   },
   "outputs": [
    {
     "data": {
      "text/html": [
       "<div>\n",
       "<style scoped>\n",
       "    .dataframe tbody tr th:only-of-type {\n",
       "        vertical-align: middle;\n",
       "    }\n",
       "\n",
       "    .dataframe tbody tr th {\n",
       "        vertical-align: top;\n",
       "    }\n",
       "\n",
       "    .dataframe thead th {\n",
       "        text-align: right;\n",
       "    }\n",
       "</style>\n",
       "<table border=\"1\" class=\"dataframe\">\n",
       "  <thead>\n",
       "    <tr style=\"text-align: right;\">\n",
       "      <th></th>\n",
       "      <th>stim_type</th>\n",
       "      <th>amplitude</th>\n",
       "      <th>duration</th>\n",
       "      <th>onset</th>\n",
       "      <th>offset</th>\n",
       "      <th>sweep</th>\n",
       "      <th>id</th>\n",
       "      <th>window_onset</th>\n",
       "    </tr>\n",
       "  </thead>\n",
       "  <tbody>\n",
       "    <tr>\n",
       "      <th>3</th>\n",
       "      <td>biphasic</td>\n",
       "      <td>100</td>\n",
       "      <td>400.0</td>\n",
       "      <td>147.04601</td>\n",
       "      <td>147.04661</td>\n",
       "      <td>0</td>\n",
       "      <td>3</td>\n",
       "      <td>144.54601</td>\n",
       "    </tr>\n",
       "    <tr>\n",
       "      <th>4</th>\n",
       "      <td>biphasic</td>\n",
       "      <td>100</td>\n",
       "      <td>400.0</td>\n",
       "      <td>151.26887</td>\n",
       "      <td>151.26948</td>\n",
       "      <td>0</td>\n",
       "      <td>4</td>\n",
       "      <td>148.76887</td>\n",
       "    </tr>\n",
       "    <tr>\n",
       "      <th>5</th>\n",
       "      <td>biphasic</td>\n",
       "      <td>100</td>\n",
       "      <td>400.0</td>\n",
       "      <td>154.91916</td>\n",
       "      <td>154.91976</td>\n",
       "      <td>0</td>\n",
       "      <td>5</td>\n",
       "      <td>152.41916</td>\n",
       "    </tr>\n",
       "    <tr>\n",
       "      <th>9</th>\n",
       "      <td>biphasic</td>\n",
       "      <td>100</td>\n",
       "      <td>400.0</td>\n",
       "      <td>171.72105</td>\n",
       "      <td>171.72165</td>\n",
       "      <td>0</td>\n",
       "      <td>9</td>\n",
       "      <td>169.22105</td>\n",
       "    </tr>\n",
       "    <tr>\n",
       "      <th>10</th>\n",
       "      <td>biphasic</td>\n",
       "      <td>100</td>\n",
       "      <td>400.0</td>\n",
       "      <td>176.02181</td>\n",
       "      <td>176.02242</td>\n",
       "      <td>0</td>\n",
       "      <td>10</td>\n",
       "      <td>173.52181</td>\n",
       "    </tr>\n",
       "    <tr>\n",
       "      <th>15</th>\n",
       "      <td>biphasic</td>\n",
       "      <td>100</td>\n",
       "      <td>400.0</td>\n",
       "      <td>195.45212</td>\n",
       "      <td>195.45272</td>\n",
       "      <td>0</td>\n",
       "      <td>15</td>\n",
       "      <td>192.95212</td>\n",
       "    </tr>\n",
       "    <tr>\n",
       "      <th>17</th>\n",
       "      <td>biphasic</td>\n",
       "      <td>100</td>\n",
       "      <td>400.0</td>\n",
       "      <td>203.01729</td>\n",
       "      <td>203.01789</td>\n",
       "      <td>0</td>\n",
       "      <td>17</td>\n",
       "      <td>200.51729</td>\n",
       "    </tr>\n",
       "    <tr>\n",
       "      <th>24</th>\n",
       "      <td>biphasic</td>\n",
       "      <td>100</td>\n",
       "      <td>400.0</td>\n",
       "      <td>231.21529</td>\n",
       "      <td>231.21589</td>\n",
       "      <td>0</td>\n",
       "      <td>24</td>\n",
       "      <td>228.71529</td>\n",
       "    </tr>\n",
       "    <tr>\n",
       "      <th>28</th>\n",
       "      <td>biphasic</td>\n",
       "      <td>100</td>\n",
       "      <td>400.0</td>\n",
       "      <td>246.58409</td>\n",
       "      <td>246.58469</td>\n",
       "      <td>0</td>\n",
       "      <td>28</td>\n",
       "      <td>244.08409</td>\n",
       "    </tr>\n",
       "    <tr>\n",
       "      <th>30</th>\n",
       "      <td>biphasic</td>\n",
       "      <td>100</td>\n",
       "      <td>400.0</td>\n",
       "      <td>254.73616</td>\n",
       "      <td>254.73676</td>\n",
       "      <td>0</td>\n",
       "      <td>30</td>\n",
       "      <td>252.23616</td>\n",
       "    </tr>\n",
       "  </tbody>\n",
       "</table>\n",
       "</div>"
      ],
      "text/plain": [
       "   stim_type  amplitude  duration      onset     offset  sweep  id  \\\n",
       "3   biphasic        100     400.0  147.04601  147.04661      0   3   \n",
       "4   biphasic        100     400.0  151.26887  151.26948      0   4   \n",
       "5   biphasic        100     400.0  154.91916  154.91976      0   5   \n",
       "9   biphasic        100     400.0  171.72105  171.72165      0   9   \n",
       "10  biphasic        100     400.0  176.02181  176.02242      0  10   \n",
       "15  biphasic        100     400.0  195.45212  195.45272      0  15   \n",
       "17  biphasic        100     400.0  203.01729  203.01789      0  17   \n",
       "24  biphasic        100     400.0  231.21529  231.21589      0  24   \n",
       "28  biphasic        100     400.0  246.58409  246.58469      0  28   \n",
       "30  biphasic        100     400.0  254.73616  254.73676      0  30   \n",
       "\n",
       "    window_onset  \n",
       "3      144.54601  \n",
       "4      148.76887  \n",
       "5      152.41916  \n",
       "9      169.22105  \n",
       "10     173.52181  \n",
       "15     192.95212  \n",
       "17     200.51729  \n",
       "24     228.71529  \n",
       "28     244.08409  \n",
       "30     252.23616  "
      ]
     },
     "execution_count": 21,
     "metadata": {},
     "output_type": "execute_result"
    }
   ],
   "source": [
    "stimuli[stimuli.amplitude==100].head(10)"
   ]
  },
  {
   "cell_type": "code",
   "execution_count": 22,
   "metadata": {
    "execution": {
     "iopub.execute_input": "2020-10-19T02:15:27.540773Z",
     "iopub.status.busy": "2020-10-19T02:15:27.540584Z",
     "iopub.status.idle": "2020-10-19T02:15:27.833865Z",
     "shell.execute_reply": "2020-10-19T02:15:27.832981Z",
     "shell.execute_reply.started": "2020-10-19T02:15:27.540741Z"
    }
   },
   "outputs": [
    {
     "data": {
      "application/vnd.jupyter.widget-view+json": {
       "model_id": "3f2dc8c5500d43aca59cd0069395baf4",
       "version_major": 2,
       "version_minor": 0
      },
      "text/plain": [
       "Canvas(toolbar=Toolbar(toolitems=[('Home', 'Reset original view', 'home', 'home'), ('Back', 'Back to previous …"
      ]
     },
     "metadata": {},
     "output_type": "display_data"
    }
   ],
   "source": [
    "# look at a particular channel and stimulus\n",
    "tid = 5\n",
    "ch = 4\n",
    "delay_ms = 200\n",
    "data = eegdata.xs(tid, level='id')[ch]\n",
    "time = data.index.get_level_values('time')\n",
    "t_onset = data.index.get_level_values('onset').unique()[0]\n",
    "\n",
    "_tpred = t_onset - delay_ms/1000\n",
    "arlen_ms = 1000\n",
    "predlen_ms = 1000\n",
    "redge_ms = 1000\n",
    "_tmin = _tpred-1\n",
    "_tmax = _tpred+predlen_ms*1.5/1000\n",
    "\n",
    "f, (ax, ax1, ax2) = plt.subplots(3, 1, figsize=(8, 4), tight_layout=True, sharex=True)\n",
    "data.droplevel(list(range(1, 6))).loc[_tmin:_tpred+redge_ms/1000].plot(\n",
    "    ax=ax, label=f'ch{ch}'\n",
    ")\n",
    "ax.axvline(t_onset, c='k')\n",
    "ax.set_xlabel('time (s)')\n",
    "ax.set_ylabel('voltage')\n",
    "\n",
    "_data_with_predictions, _data_filtered = arywpredict(\n",
    "    data.droplevel(list(range(1, 6))).loc[_tpred-arlen_ms*5/1000:_tpred+redge_ms/1000],\n",
    "    redge_ms=redge_ms, filt=None, arlen_ms=arlen_ms, prediction_len_ms=predlen_ms\n",
    ")\n",
    "_hilbert_real = hilbert_tx(_data_filtered).loc[_tmin:]\n",
    "_hilbert_data = hilbert_tx(_data_with_predictions).loc[_tmin:]\n",
    "_data_filtered[_tmin:].plot(ax=ax1, label='_filtered data', alpha=0.6)\n",
    "_data_with_predictions[_tmin:].plot(ax=ax1, label='_prediction', alpha=0.6)\n",
    "ax1.set_prop_cycle(None)\n",
    "_hilbert_real.amplitude[_tmin:].plot(ax=ax1, label='actual')\n",
    "_hilbert_data.amplitude[_tmin:].plot(ax=ax1, label='predicted')\n",
    "_hilbert_real.angle[_tmin:].plot(ax=ax2, label='actual')\n",
    "_hilbert_data.angle[_tmin:].plot(ax=ax2, label='predicted')\n",
    "ax1.axvline(_tpred, c='k', lw=0.5)\n",
    "ax2.axvline(_tpred, c='k', lw=0.5)\n",
    "ax1.axvline(t_onset, c='k')\n",
    "ax2.axvline(t_onset, c='k')\n",
    "ax1.legend(loc=2, fontsize=9)\n",
    "ax2.legend(loc=2, fontsize=9)\n",
    "ax2.set_xlabel('time (s)')\n",
    "ax1.set_ylabel('voltage\\n(band passed)')\n",
    "ax2.set_ylabel('phase (rad)')\n",
    "ax.set_title(f'ch {ch} stimulus {tid} ({stimuli.amplitude[tid]} mA) - {band} band');"
   ]
  },
  {
   "cell_type": "markdown",
   "metadata": {},
   "source": [
    "1. On test data, show error in amplitude vs time\n",
    "1. Error in phase vs time\n",
    "1. Is AR based prediction different from simple linear extrapolation?"
   ]
  },
  {
   "cell_type": "code",
   "execution_count": null,
   "metadata": {},
   "outputs": [],
   "source": []
  }
 ],
 "metadata": {
  "kernelspec": {
   "display_name": "zapnzip",
   "language": "python",
   "name": "zapnzip"
  },
  "language_info": {
   "codemirror_mode": {
    "name": "ipython",
    "version": 3
   },
   "file_extension": ".py",
   "mimetype": "text/x-python",
   "name": "python",
   "nbconvert_exporter": "python",
   "pygments_lexer": "ipython3",
   "version": "3.7.4"
  },
  "widgets": {
   "application/vnd.jupyter.widget-state+json": {
    "state": {},
    "version_major": 2,
    "version_minor": 0
   }
  }
 },
 "nbformat": 4,
 "nbformat_minor": 4
}
