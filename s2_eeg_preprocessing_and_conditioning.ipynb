{
 "cells": [
  {
   "cell_type": "markdown",
   "metadata": {
    "Collapsed": "false"
   },
   "source": [
    "In this notebook, we will import and apply some preprocessing to the EEG data, and store it for quick access in the future.  \n",
    "Preprocessing would involve:\n",
    "1. Filtering out sub-1000 Hz noise\n",
    "1. Downsampling\n",
    "1. Annotating time intervals that show motion artefacts\n",
    "\n",
    "Where should this go in the pipeline? Should the preprocessing be part of the lfp class or EEGexp class?\n",
    "\n",
    "Downsample then filter, or filter then downsample?  \n",
    "Downsampling first leads to high frequency noise staying back in the result due to aliasing. So, first filter, then downsample."
   ]
  },
  {
   "cell_type": "code",
   "execution_count": 1,
   "metadata": {
    "Collapsed": "false"
   },
   "outputs": [],
   "source": [
    "%load_ext autoreload\n",
    "%autoreload 2\n",
    "\n",
    "import os\n",
    "from glob import glob\n",
    "\n",
    "import numpy as np\n",
    "import pandas as pd\n",
    "import matplotlib.pyplot as plt\n",
    "from matplotlib import cm\n",
    "from scipy import signal\n",
    "\n",
    "from tbd_eeg.data_analysis.eegutils import EEGexp\n",
    "from tbd_eeg.data_analysis.Utilities import filters\n",
    "\n",
    "%matplotlib widget"
   ]
  },
  {
   "cell_type": "code",
   "execution_count": 2,
   "metadata": {
    "Collapsed": "false"
   },
   "outputs": [],
   "source": [
    "plot_on_the_go = False\n",
    "ch = 3"
   ]
  },
  {
   "cell_type": "markdown",
   "metadata": {
    "Collapsed": "false"
   },
   "source": [
    "# Raw data"
   ]
  },
  {
   "cell_type": "code",
   "execution_count": 3,
   "metadata": {
    "Collapsed": "false"
   },
   "outputs": [
    {
     "name": "stdout",
     "output_type": "stream",
     "text": [
      "Loading /allen/programs/braintv/workgroups/nc-ophys/Leslie/eeg_pilot/mouse505550/pilot1_2020-03-02_10-08-51/recording1/continuous/Rhythm_FPGA-111.0/continuous.dat\n"
     ]
    }
   ],
   "source": [
    "data_folder = r\"/allen/programs/braintv/workgroups/nc-ophys/Leslie/eeg_pilot/mouse505550/pilot1_2020-03-02_10-08-51/recording1/\"\n",
    "exp = EEGexp(data_folder)\n",
    "eegdata = exp.memmap_EEGdata()\n",
    "timestamps = np.load(exp.eegtimestamps_file)\n",
    "eegdata = pd.DataFrame(data=eegdata, index=timestamps)\n",
    "\n",
    "if plot_on_the_go:\n",
    "    f, ax = plt.subplots(1, 1, figsize=(12, 2))\n",
    "    eegdata[ch].plot(ax=ax)"
   ]
  },
  {
   "cell_type": "code",
   "execution_count": 4,
   "metadata": {
    "Collapsed": "false"
   },
   "outputs": [],
   "source": [
    "# # get back to working on reshaping data without loading into memory\n",
    "# datafiles = sorted(glob(exp.data_folder + '/**/*.dat', recursive=True))[0]\n",
    "# data = np.memmap(datafiles)\n",
    "# data.reshape(int(data.size/exp.num_chs), exp.num_chs)[:, exp.intanNNmap]"
   ]
  },
  {
   "cell_type": "markdown",
   "metadata": {
    "Collapsed": "false"
   },
   "source": [
    "# Low-pass filter"
   ]
  },
  {
   "cell_type": "code",
   "execution_count": 5,
   "metadata": {
    "Collapsed": "false"
   },
   "outputs": [],
   "source": [
    "eegdata_lp = eegdata.apply(\n",
    "    lambda x: filters.butter_filter(\n",
    "        np.expand_dims(x, 1),\n",
    "        sampling_frequency=exp.sample_rate,\n",
    "        cutoff_frequency=1000,\n",
    "        filter_order=2,\n",
    "        ftype='low'\n",
    "    )[:, 0], raw=True, axis=0\n",
    ")\n",
    "\n",
    "if plot_on_the_go:\n",
    "    f, ax = plt.subplots(1, 1, figsize=(12, 2))\n",
    "    eegdata_lp[ch].plot(ax=ax)"
   ]
  },
  {
   "cell_type": "markdown",
   "metadata": {
    "Collapsed": "false"
   },
   "source": [
    "# Downsample to 2000Hz"
   ]
  },
  {
   "cell_type": "code",
   "execution_count": 6,
   "metadata": {
    "Collapsed": "false"
   },
   "outputs": [],
   "source": [
    "eegdata_lp_ds = eegdata_lp[::int(exp.sample_rate/2000)]\n",
    "del eegdata_lp\n",
    "del eegdata # comment out if running with limited memory\n",
    "\n",
    "if plot_on_the_go:\n",
    "    f, ax = plt.subplots(1, 1, figsize=(12, 2))\n",
    "    eegdata_lp_ds[ch].plot(ax=ax)"
   ]
  },
  {
   "cell_type": "markdown",
   "metadata": {
    "Collapsed": "false"
   },
   "source": [
    "# Annotate artefacts due to motion"
   ]
  },
  {
   "cell_type": "markdown",
   "metadata": {
    "Collapsed": "false"
   },
   "source": [
    "## Identify unconnected channels\n",
    "They are 30 and 31, plus others in some cases"
   ]
  },
  {
   "cell_type": "code",
   "execution_count": 7,
   "metadata": {
    "Collapsed": "false"
   },
   "outputs": [],
   "source": [
    "def median_amplitude(data):\n",
    "    peaks, _ = signal.find_peaks(data.abs().values[:2000*300], distance=2000*0.01)\n",
    "    return np.median(data.abs().values[peaks][:2000*300])"
   ]
  },
  {
   "cell_type": "code",
   "execution_count": 8,
   "metadata": {
    "Collapsed": "false"
   },
   "outputs": [
    {
     "data": {
      "text/plain": [
       "0       719.624825\n",
       "1       480.487103\n",
       "2       437.554127\n",
       "3       703.361702\n",
       "4       632.450952\n",
       "5       574.245522\n",
       "6       755.077336\n",
       "7       689.285770\n",
       "8       758.496281\n",
       "9       904.261988\n",
       "10      949.545130\n",
       "11      941.256338\n",
       "12      903.608083\n",
       "13      896.314522\n",
       "14      869.803090\n",
       "15      873.733912\n",
       "16      879.680995\n",
       "17      895.212696\n",
       "18      911.931058\n",
       "19      877.456712\n",
       "20      876.732936\n",
       "21      843.788109\n",
       "22      867.560646\n",
       "23      852.173806\n",
       "24      655.483230\n",
       "25      789.975831\n",
       "26      859.701420\n",
       "27      570.533649\n",
       "28      643.806023\n",
       "29      911.620407\n",
       "30    32684.204003\n",
       "31    29694.638679\n",
       "dtype: float64"
      ]
     },
     "execution_count": 8,
     "metadata": {},
     "output_type": "execute_result"
    }
   ],
   "source": [
    "median_amplitude = eegdata_lp_ds.apply(median_amplitude, axis=0)\n",
    "active_channels = median_amplitude.index[median_amplitude < 1500]\n",
    "median_amplitude"
   ]
  },
  {
   "cell_type": "markdown",
   "metadata": {
    "Collapsed": "false"
   },
   "source": [
    "## Can we use running data to identify the artefacts?\n",
    "Not explored much. Looks unlikely."
   ]
  },
  {
   "cell_type": "code",
   "execution_count": 9,
   "metadata": {
    "Collapsed": "false"
   },
   "outputs": [
    {
     "name": "stderr",
     "output_type": "stream",
     "text": [
      "/home/saurabh.gandhi/Projects/.env_zz/lib/python3.7/site-packages/allensdk/brain_observatory/sync_dataset.py:454: H5pyDeprecationWarning: dataset.value has been deprecated. Use dataset[()] instead.\n",
      "  return eval(self.dfile['analog_meta'].value)\n"
     ]
    }
   ],
   "source": [
    "sync_data = exp.load_sync_dataset()\n",
    "linear_velocity, runtime = exp.load_running(sync_data)\n",
    "running_speed = pd.DataFrame(index=runtime, data=linear_velocity, columns=['speed'])\n",
    "running_speed = (running_speed - running_speed.mean())*200/running_speed.std()\n",
    "# running_speed is rescaled so as to look good on the plots"
   ]
  },
  {
   "cell_type": "code",
   "execution_count": 10,
   "metadata": {
    "Collapsed": "false"
   },
   "outputs": [],
   "source": [
    "# look at 580:582 as an example of artefact\n",
    "if plot_on_the_go:\n",
    "    f, ax = plt.subplots(1, 1, figsize=(12, 2), sharex=True, tight_layout=True)\n",
    "    running_speed.plot(ax=ax, c=cm.Greys(0.5, 0.5), label='Running speed')\n",
    "    # eegdata_ds[30].plot(ax=ax2, c=cm.Blues(0.6, 0.4))\n",
    "    eegdata_lp_ds[2].plot(ax=ax, c=cm.Reds(0.6, 0.4), label='2')\n",
    "    eegdata_lp_ds[8].plot(ax=ax, c=cm.Greens(0.6, 0.4), label='8')\n",
    "    ax.legend(loc=1, ncol=2);"
   ]
  },
  {
   "cell_type": "markdown",
   "metadata": {
    "Collapsed": "false"
   },
   "source": [
    "## Identifying artefacts using the spectrogram"
   ]
  },
  {
   "cell_type": "code",
   "execution_count": 11,
   "metadata": {
    "Collapsed": "false"
   },
   "outputs": [],
   "source": [
    "def normalize_spec(Sxx):\n",
    "    Sxx_min = Sxx.min(axis=1)\n",
    "    Sxx_max = Sxx.max(axis=1)\n",
    "    return (Sxx - Sxx_min[:, np.newaxis]) / (Sxx_max[:, np.newaxis] - Sxx_min[:, np.newaxis])"
   ]
  },
  {
   "cell_type": "code",
   "execution_count": 12,
   "metadata": {
    "Collapsed": "false"
   },
   "outputs": [
    {
     "data": {
      "application/vnd.jupyter.widget-view+json": {
       "model_id": "958557a7e1d5445c83f773cd2547444a",
       "version_major": 2,
       "version_minor": 0
      },
      "text/plain": [
       "Canvas(toolbar=Toolbar(toolitems=[('Home', 'Reset original view', 'home', 'home'), ('Back', 'Back to previous …"
      ]
     },
     "metadata": {},
     "output_type": "display_data"
    }
   ],
   "source": [
    "ch = 5\n",
    "_data = eegdata_lp_ds[ch]\n",
    "f, t, Sxx = signal.spectrogram(_data, 2000, nperseg=512)\n",
    "Sxx_norm = normalize_spec(Sxx)\n",
    "frinds = f < 5000\n",
    "frhinds = f > 200\n",
    "t = t + _data.index[0]\n",
    "fig, (ax, ax2) = plt.subplots(2, 1, figsize=(12, 4), sharex=True)\n",
    "# plot spectrogram\n",
    "spgm = ax.pcolormesh(t, f[frinds], Sxx_norm[frinds,:], cmap='YlOrRd', vmin=0, vmax=1)\n",
    "ax.set_ylabel('Frequency (Hz)')\n",
    "ax.set_xlabel('Time (s)')\n",
    "_data.plot(ax=ax2, c=cm.Reds(0.6, 0.4))\n",
    "running_speed.plot(ax=ax2, c=cm.Greys(0.5, 0.5))\n",
    "hfp = (Sxx_norm[frhinds, :]>0.2).sum(axis=0)\n",
    "ax.twinx().plot(t, hfp, c='k');\n",
    "ax2.set_ylim(-5000, 5000);\n",
    "# ax2.set_xlim(560, 620);"
   ]
  },
  {
   "cell_type": "code",
   "execution_count": 13,
   "metadata": {
    "Collapsed": "false"
   },
   "outputs": [
    {
     "name": "stderr",
     "output_type": "stream",
     "text": [
      "/home/saurabh.gandhi/Projects/.env_zz/lib/python3.7/site-packages/allensdk/brain_observatory/sync_dataset.py:454: H5pyDeprecationWarning: dataset.value has been deprecated. Use dataset[()] instead.\n",
      "  return eval(self.dfile['analog_meta'].value)\n"
     ]
    }
   ],
   "source": [
    "try:\n",
    "    iso_level, isotime = exp.load_analog_iso(sync_data)\n",
    "    iso = pd.DataFrame(index=isotime, data=iso_level)\n",
    "except:\n",
    "    pass"
   ]
  },
  {
   "cell_type": "markdown",
   "metadata": {
    "Collapsed": "false"
   },
   "source": [
    "## Filter spectrogram of all channels to find artefacts"
   ]
  },
  {
   "cell_type": "code",
   "execution_count": 61,
   "metadata": {
    "Collapsed": "false"
   },
   "outputs": [],
   "source": [
    "def find_hf_annotations(data_ch, sample_rate=2000, nperseg=512, fmin=200, power=0.2):\n",
    "    f, t, Sxx = signal.spectrogram(data_ch, sample_rate, nperseg=nperseg)\n",
    "    Sxx_norm = normalize_spec(Sxx)\n",
    "    frhinds = f > fmin\n",
    "    t = t + data_ch.index[0]\n",
    "    return pd.Series(data=(Sxx_norm[frhinds, :]>power).sum(axis=0), index=t)"
   ]
  },
  {
   "cell_type": "code",
   "execution_count": 77,
   "metadata": {
    "Collapsed": "false"
   },
   "outputs": [],
   "source": [
    "def get_windows(annots, coalesce=0, min_length=0):\n",
    "    '''\n",
    "    annots: series with binary annotations\n",
    "    coalesce: merge windows with separation less than this value\n",
    "    '''\n",
    "    wins = []\n",
    "    th_old = 0\n",
    "    new_win = True\n",
    "    for i, tl in enumerate(annots.index):\n",
    "        if th_old > tl:\n",
    "            continue\n",
    "        if annots[tl]:\n",
    "            if tl <= th_old + coalesce:\n",
    "                new_win = False\n",
    "            else:\n",
    "                new_win = True\n",
    "            for th in annots.index[annots.index>tl]:\n",
    "                if annots[th]:\n",
    "                    pass\n",
    "                else:\n",
    "                    if new_win:\n",
    "                        wins.append((annots.index[i-1], th))\n",
    "                    else:\n",
    "                        wins[-1] = (wins[-1][0], th)\n",
    "                    th_old = th\n",
    "                    break\n",
    "    return [w for w in wins if w[1]-w[0] > min_length]"
   ]
  },
  {
   "cell_type": "code",
   "execution_count": 16,
   "metadata": {
    "Collapsed": "false"
   },
   "outputs": [
    {
     "data": {
      "text/plain": [
       "[(3, 5), (6, 8), (8, 10), (13, 17)]"
      ]
     },
     "execution_count": 16,
     "metadata": {},
     "output_type": "execute_result"
    }
   ],
   "source": [
    "# test the function on sample data\n",
    "sample_ts = pd.Series(index=range(20), data=[0, 0, 0, 0, 1, 0, 0, 1, 0, 1, 0, 0, 0, 0, 1, 1, 0.2, 0, 0, 0])\n",
    "get_windows(sample_ts, coalesce=0)"
   ]
  },
  {
   "cell_type": "code",
   "execution_count": 74,
   "metadata": {
    "Collapsed": "false"
   },
   "outputs": [],
   "source": [
    "hf_annots = eegdata_lp_ds[active_channels].apply(find_hf_annotations, axis=0, fmin=300, power=0.25).mean(axis=1)"
   ]
  },
  {
   "cell_type": "code",
   "execution_count": 72,
   "metadata": {
    "Collapsed": "false"
   },
   "outputs": [
    {
     "data": {
      "application/vnd.jupyter.widget-view+json": {
       "model_id": "2fc2b284a8bb4ba4b1c838af7e148a48",
       "version_major": 2,
       "version_minor": 0
      },
      "text/plain": [
       "Canvas(toolbar=Toolbar(toolitems=[('Home', 'Reset original view', 'home', 'home'), ('Back', 'Back to previous …"
      ]
     },
     "metadata": {},
     "output_type": "display_data"
    }
   ],
   "source": [
    "f, ax = plt.subplots(1, 1, figsize=(4, 3))\n",
    "ax.hist(hf_annots, bins=100, cumulative=True, histtype='step');"
   ]
  },
  {
   "cell_type": "code",
   "execution_count": 85,
   "metadata": {
    "Collapsed": "false"
   },
   "outputs": [
    {
     "name": "stderr",
     "output_type": "stream",
     "text": [
      "/home/saurabh.gandhi/Projects/.env_zz/lib/python3.7/site-packages/ipykernel_launcher.py:1: RuntimeWarning: More than 20 figures have been opened. Figures created through the pyplot interface (`matplotlib.pyplot.figure`) are retained until explicitly closed and may consume too much memory. (To control this warning, see the rcParam `figure.max_open_warning`).\n",
      "  \"\"\"Entry point for launching an IPython kernel.\n"
     ]
    },
    {
     "data": {
      "application/vnd.jupyter.widget-view+json": {
       "model_id": "69ed80da351c4b1196f03e7ccbace76a",
       "version_major": 2,
       "version_minor": 0
      },
      "text/plain": [
       "Canvas(toolbar=Toolbar(toolitems=[('Home', 'Reset original view', 'home', 'home'), ('Back', 'Back to previous …"
      ]
     },
     "metadata": {},
     "output_type": "display_data"
    }
   ],
   "source": [
    "f, ax = plt.subplots(1, 1, figsize=(12, 3))\n",
    "# hf_annots.plot(ax=ax.twinx(), c='k')\n",
    "# hf_annots > X sets a threshold for detecting artifacts\n",
    "for win in get_windows(hf_annots>4, coalesce=4, min_length=0.2):\n",
    "    ax.axvspan(win[0], win[1], color=cm.Reds(0.3, 0.3))\n",
    "eegdata_lp_ds[ch].plot(ax=ax, c=cm.Blues(0.6, 0.3))\n",
    "running_speed.plot(ax=ax, c=cm.Greys(0.6, 0.3), legend=False)\n",
    "try:\n",
    "    iso.plot(ax=ax.twinx(), c=cm.Reds(0.8, 0.8), lw=0.5)\n",
    "except:\n",
    "    pass\n",
    "ax.set_ylim(-5000, 5000)\n",
    "ax.set_title('mouse {:s}'.format(exp.mouse), fontsize=8);"
   ]
  },
  {
   "cell_type": "markdown",
   "metadata": {
    "Collapsed": "false"
   },
   "source": [
    "# Artifact statistics"
   ]
  },
  {
   "cell_type": "code",
   "execution_count": 86,
   "metadata": {
    "Collapsed": "false"
   },
   "outputs": [],
   "source": [
    "# automatically annotate anesthesia epochs\n",
    "iso_first_on = (iso>4).idxmax()[0]\n",
    "iso_first_mid = ((iso[iso.index>iso_first_on]>1)&(iso[iso.index>iso_first_on]<4)).idxmax()[0]\n",
    "iso_first_off = (iso>1)[::-1].idxmax()[0]\n",
    "recovery_first_jump = (hf_annots>5)[hf_annots.index>iso_first_off].idxmax()\n",
    "\n",
    "epochs = {\n",
    "    'pre' : (0, iso_first_on),\n",
    "    'iso_high' : (iso_first_on, iso_first_mid),\n",
    "    'iso_low' : (iso_first_mid, iso_first_off),\n",
    "    'early_recovery' : (iso_first_off, recovery_first_jump),\n",
    "    'late_recovery' : (recovery_first_jump, eegdata_lp_ds.index[-1]),\n",
    "}"
   ]
  },
  {
   "cell_type": "code",
   "execution_count": 88,
   "metadata": {
    "Collapsed": "false"
   },
   "outputs": [
    {
     "name": "stderr",
     "output_type": "stream",
     "text": [
      "/home/saurabh.gandhi/Projects/.env_zz/lib/python3.7/site-packages/ipykernel_launcher.py:2: RuntimeWarning: More than 20 figures have been opened. Figures created through the pyplot interface (`matplotlib.pyplot.figure`) are retained until explicitly closed and may consume too much memory. (To control this warning, see the rcParam `figure.max_open_warning`).\n",
      "  \n"
     ]
    },
    {
     "data": {
      "application/vnd.jupyter.widget-view+json": {
       "model_id": "19584d724d334030b8653ef9f079686f",
       "version_major": 2,
       "version_minor": 0
      },
      "text/plain": [
       "Canvas(toolbar=Toolbar(toolitems=[('Home', 'Reset original view', 'home', 'home'), ('Back', 'Back to previous …"
      ]
     },
     "metadata": {},
     "output_type": "display_data"
    },
    {
     "name": "stdout",
     "output_type": "stream",
     "text": [
      "pre # invalid windows: 13\n",
      "iso_high # invalid windows: 12\n",
      "iso_low # invalid windows: 0\n",
      "early_recovery # invalid windows: 0\n",
      "late_recovery # invalid windows: 87\n"
     ]
    }
   ],
   "source": [
    "thresh = 5\n",
    "f, ax = plt.subplots(1, 1, figsize=(4, 3), tight_layout=True)\n",
    "valid_windows = {}\n",
    "for epoch, epoch_win in epochs.items():\n",
    "    invalid = get_windows((hf_annots>thresh)&(hf_annots.index<epoch_win[1])&(hf_annots.index>epoch_win[0]), coalesce=4, min_length=0.2)\n",
    "    print(epoch, '# invalid windows:', len(invalid))\n",
    "    valid = [(invalid[i][1], invalid[i+1][0]) for i in range(len(invalid)-1)]\n",
    "    valid_windows[epoch] = valid\n",
    "    valid_lengths = np.array([win[1]-win[0] for win in valid])\n",
    "    if len(valid_lengths) == 0:\n",
    "        valid_lengths = np.array(epoch_win[1]-epoch_win[0])\n",
    "    ax.plot(np.arange(1, 100), [(valid_lengths[valid_lengths>x]/x).sum() for x in np.arange(1, 100)], label=epoch)\n",
    "ax.axhline(1, c='k', lw=0.5)\n",
    "ax.axhline(10, c='k', lw=0.5)\n",
    "ax.axhline(50, c='k', lw=0.5)\n",
    "ax.set_xlabel('Window size (s)')\n",
    "ax.set_ylabel('# Valid windows')\n",
    "ax.legend(loc=1, fontsize=8)\n",
    "ax.set_title(exp.mouse, fontsize=10)\n",
    "ax.set_yscale('log', nonposy='mask');"
   ]
  },
  {
   "cell_type": "code",
   "execution_count": null,
   "metadata": {
    "Collapsed": "false"
   },
   "outputs": [],
   "source": []
  }
 ],
 "metadata": {
  "kernelspec": {
   "display_name": "zapnzip",
   "language": "python",
   "name": "zapnzip"
  },
  "language_info": {
   "codemirror_mode": {
    "name": "ipython",
    "version": 3
   },
   "file_extension": ".py",
   "mimetype": "text/x-python",
   "name": "python",
   "nbconvert_exporter": "python",
   "pygments_lexer": "ipython3",
   "version": "3.7.4"
  },
  "widgets": {
   "application/vnd.jupyter.widget-state+json": {
    "state": {
     "006ba7530bb54ad580fa4c1f48abf81e": {
      "model_module": "@jupyter-widgets/base",
      "model_module_version": "1.2.0",
      "model_name": "LayoutModel",
      "state": {}
     },
     "05324e41f21747be96e52779cded5efe": {
      "model_module": "jupyter-matplotlib",
      "model_module_version": "^0.5.0",
      "model_name": "ToolbarModel",
      "state": {
       "layout": "IPY_MODEL_6fc5daa00ccf496dbad99ed087b4d3fe",
       "toolitems": [
        [
         "Home",
         "Reset original view",
         "home",
         "home"
        ],
        [
         "Back",
         "Back to previous view",
         "arrow-left",
         "back"
        ],
        [
         "Forward",
         "Forward to next view",
         "arrow-right",
         "forward"
        ],
        [
         "Pan",
         "Pan axes with left mouse, zoom with right",
         "arrows",
         "pan"
        ],
        [
         "Zoom",
         "Zoom to rectangle",
         "square-o",
         "zoom"
        ],
        [
         "Download",
         "Download plot",
         "floppy-o",
         "save_figure"
        ]
       ]
      }
     },
     "0b56fe148176437dacd7ce0de70658ac": {
      "model_module": "@jupyter-widgets/base",
      "model_module_version": "1.2.0",
      "model_name": "LayoutModel",
      "state": {}
     },
     "0e46a7e67ef845ccbca7c7055c653420": {
      "model_module": "jupyter-matplotlib",
      "model_module_version": "^0.5.0",
      "model_name": "ToolbarModel",
      "state": {
       "layout": "IPY_MODEL_2a23a453f21645f08dfcdff5a66cbfd6",
       "toolitems": [
        [
         "Home",
         "Reset original view",
         "home",
         "home"
        ],
        [
         "Back",
         "Back to previous view",
         "arrow-left",
         "back"
        ],
        [
         "Forward",
         "Forward to next view",
         "arrow-right",
         "forward"
        ],
        [
         "Pan",
         "Pan axes with left mouse, zoom with right",
         "arrows",
         "pan"
        ],
        [
         "Zoom",
         "Zoom to rectangle",
         "square-o",
         "zoom"
        ],
        [
         "Download",
         "Download plot",
         "floppy-o",
         "save_figure"
        ]
       ]
      }
     },
     "0e914b8deb6d401182618921215fc88c": {
      "model_module": "jupyter-matplotlib",
      "model_module_version": "^0.5.0",
      "model_name": "ToolbarModel",
      "state": {
       "layout": "IPY_MODEL_dcaa6fe73caa40788b1f0e64a62a55e1",
       "toolitems": [
        [
         "Home",
         "Reset original view",
         "home",
         "home"
        ],
        [
         "Back",
         "Back to previous view",
         "arrow-left",
         "back"
        ],
        [
         "Forward",
         "Forward to next view",
         "arrow-right",
         "forward"
        ],
        [
         "Pan",
         "Pan axes with left mouse, zoom with right",
         "arrows",
         "pan"
        ],
        [
         "Zoom",
         "Zoom to rectangle",
         "square-o",
         "zoom"
        ],
        [
         "Download",
         "Download plot",
         "floppy-o",
         "save_figure"
        ]
       ]
      }
     },
     "104a0e71d57f4eb6b9d0df64fe37af4f": {
      "model_module": "@jupyter-widgets/base",
      "model_module_version": "1.2.0",
      "model_name": "LayoutModel",
      "state": {}
     },
     "13563ed1fa3a43d886a3e881c4daaeae": {
      "model_module": "@jupyter-widgets/base",
      "model_module_version": "1.2.0",
      "model_name": "LayoutModel",
      "state": {}
     },
     "16255ee521b34998883179b17d45281d": {
      "model_module": "jupyter-matplotlib",
      "model_module_version": "^0.5.0",
      "model_name": "MPLCanvasModel",
      "state": {
       "layout": "IPY_MODEL_22738ce6056f4126b6d5f5b1cc837ea4",
       "toolbar": "IPY_MODEL_28586fe1fffd4fcd8a033bcc8a6f336a",
       "toolbar_position": "left"
      }
     },
     "1667f1b7e74544a68d19ba777cc6347c": {
      "model_module": "@jupyter-widgets/base",
      "model_module_version": "1.2.0",
      "model_name": "LayoutModel",
      "state": {}
     },
     "19584d724d334030b8653ef9f079686f": {
      "model_module": "jupyter-matplotlib",
      "model_module_version": "^0.5.0",
      "model_name": "MPLCanvasModel",
      "state": {
       "layout": "IPY_MODEL_a32ec1bd996a4f1f8fe0229d85702d7e",
       "toolbar": "IPY_MODEL_38120708cff2438ca728c951211c81d5",
       "toolbar_position": "left"
      }
     },
     "1c9c89367beb4a6dad9882760d8c8fe5": {
      "model_module": "@jupyter-widgets/base",
      "model_module_version": "1.2.0",
      "model_name": "LayoutModel",
      "state": {}
     },
     "1d7534833f00410f8a64591eaf7f18f7": {
      "model_module": "@jupyter-widgets/base",
      "model_module_version": "1.2.0",
      "model_name": "LayoutModel",
      "state": {}
     },
     "1e02784c6315452386dc91c55333fd86": {
      "model_module": "@jupyter-widgets/base",
      "model_module_version": "1.2.0",
      "model_name": "LayoutModel",
      "state": {}
     },
     "1e688cd1d918412c9979e4a20514e8fc": {
      "model_module": "@jupyter-widgets/base",
      "model_module_version": "1.2.0",
      "model_name": "LayoutModel",
      "state": {}
     },
     "1fe4a2f2d90c46b89ce747a22ac93845": {
      "model_module": "@jupyter-widgets/base",
      "model_module_version": "1.2.0",
      "model_name": "LayoutModel",
      "state": {}
     },
     "22738ce6056f4126b6d5f5b1cc837ea4": {
      "model_module": "@jupyter-widgets/base",
      "model_module_version": "1.2.0",
      "model_name": "LayoutModel",
      "state": {}
     },
     "25315f7315eb4ceab8c06fa80b43aa67": {
      "model_module": "@jupyter-widgets/base",
      "model_module_version": "1.2.0",
      "model_name": "LayoutModel",
      "state": {}
     },
     "28586fe1fffd4fcd8a033bcc8a6f336a": {
      "model_module": "jupyter-matplotlib",
      "model_module_version": "^0.5.0",
      "model_name": "ToolbarModel",
      "state": {
       "layout": "IPY_MODEL_5ebafc5afe1344b9a2eb7f753f3ee6c9",
       "toolitems": [
        [
         "Home",
         "Reset original view",
         "home",
         "home"
        ],
        [
         "Back",
         "Back to previous view",
         "arrow-left",
         "back"
        ],
        [
         "Forward",
         "Forward to next view",
         "arrow-right",
         "forward"
        ],
        [
         "Pan",
         "Pan axes with left mouse, zoom with right",
         "arrows",
         "pan"
        ],
        [
         "Zoom",
         "Zoom to rectangle",
         "square-o",
         "zoom"
        ],
        [
         "Download",
         "Download plot",
         "floppy-o",
         "save_figure"
        ]
       ]
      }
     },
     "28fb1721ad6a43a2b545d020e57a6c07": {
      "model_module": "jupyter-matplotlib",
      "model_module_version": "^0.5.0",
      "model_name": "MPLCanvasModel",
      "state": {
       "layout": "IPY_MODEL_006ba7530bb54ad580fa4c1f48abf81e",
       "toolbar": "IPY_MODEL_d7d422b0b77a4447a86666843fb1970f",
       "toolbar_position": "left"
      }
     },
     "2a23a453f21645f08dfcdff5a66cbfd6": {
      "model_module": "@jupyter-widgets/base",
      "model_module_version": "1.2.0",
      "model_name": "LayoutModel",
      "state": {}
     },
     "2a7c5149914c45b1979bbece4e2cd722": {
      "model_module": "jupyter-matplotlib",
      "model_module_version": "^0.5.0",
      "model_name": "MPLCanvasModel",
      "state": {
       "layout": "IPY_MODEL_e69ba43bd2c448f58b88b8d9ba3d94cd",
       "toolbar": "IPY_MODEL_0e914b8deb6d401182618921215fc88c",
       "toolbar_position": "left"
      }
     },
     "2fc2b284a8bb4ba4b1c838af7e148a48": {
      "model_module": "jupyter-matplotlib",
      "model_module_version": "^0.5.0",
      "model_name": "MPLCanvasModel",
      "state": {
       "layout": "IPY_MODEL_1d7534833f00410f8a64591eaf7f18f7",
       "toolbar": "IPY_MODEL_6e3bdf0cda4f4376b97974ce4526e2d8",
       "toolbar_position": "left"
      }
     },
     "359e6636d3804752ad417a577f888515": {
      "model_module": "jupyter-matplotlib",
      "model_module_version": "^0.5.0",
      "model_name": "MPLCanvasModel",
      "state": {
       "layout": "IPY_MODEL_58e650def8364d4c81e9ab3f1423c608",
       "toolbar": "IPY_MODEL_447e4408d189465abd2b8c29fbae998c",
       "toolbar_position": "left"
      }
     },
     "38120708cff2438ca728c951211c81d5": {
      "model_module": "jupyter-matplotlib",
      "model_module_version": "^0.5.0",
      "model_name": "ToolbarModel",
      "state": {
       "layout": "IPY_MODEL_f6437458bf3441cf9af8b422661a93c2",
       "toolitems": [
        [
         "Home",
         "Reset original view",
         "home",
         "home"
        ],
        [
         "Back",
         "Back to previous view",
         "arrow-left",
         "back"
        ],
        [
         "Forward",
         "Forward to next view",
         "arrow-right",
         "forward"
        ],
        [
         "Pan",
         "Pan axes with left mouse, zoom with right",
         "arrows",
         "pan"
        ],
        [
         "Zoom",
         "Zoom to rectangle",
         "square-o",
         "zoom"
        ],
        [
         "Download",
         "Download plot",
         "floppy-o",
         "save_figure"
        ]
       ]
      }
     },
     "4005eb200c044dd6a1f627b130bf111c": {
      "model_module": "jupyter-matplotlib",
      "model_module_version": "^0.5.0",
      "model_name": "MPLCanvasModel",
      "state": {
       "layout": "IPY_MODEL_7e3cc696ee4f431b91a37c70b4b3d4f5",
       "toolbar": "IPY_MODEL_54a1332aba6c4b82a8e23611f10e6941",
       "toolbar_position": "left"
      }
     },
     "42a268a0e34d43b38dac220a02129cd8": {
      "model_module": "jupyter-matplotlib",
      "model_module_version": "^0.5.0",
      "model_name": "MPLCanvasModel",
      "state": {
       "layout": "IPY_MODEL_e9aaca1aa9c54402914cdaf22ff89b3e",
       "toolbar": "IPY_MODEL_8c6f261124f148238f31fb1a91939f0d",
       "toolbar_position": "left"
      }
     },
     "4436ac37ef1c42ba93692ff85ae9f04f": {
      "model_module": "@jupyter-widgets/base",
      "model_module_version": "1.2.0",
      "model_name": "LayoutModel",
      "state": {}
     },
     "447e4408d189465abd2b8c29fbae998c": {
      "model_module": "jupyter-matplotlib",
      "model_module_version": "^0.5.0",
      "model_name": "ToolbarModel",
      "state": {
       "layout": "IPY_MODEL_13563ed1fa3a43d886a3e881c4daaeae",
       "toolitems": [
        [
         "Home",
         "Reset original view",
         "home",
         "home"
        ],
        [
         "Back",
         "Back to previous view",
         "arrow-left",
         "back"
        ],
        [
         "Forward",
         "Forward to next view",
         "arrow-right",
         "forward"
        ],
        [
         "Pan",
         "Pan axes with left mouse, zoom with right",
         "arrows",
         "pan"
        ],
        [
         "Zoom",
         "Zoom to rectangle",
         "square-o",
         "zoom"
        ],
        [
         "Download",
         "Download plot",
         "floppy-o",
         "save_figure"
        ]
       ]
      }
     },
     "49d5a7b82e754c73a2970938261a7e0f": {
      "model_module": "jupyter-matplotlib",
      "model_module_version": "^0.5.0",
      "model_name": "ToolbarModel",
      "state": {
       "layout": "IPY_MODEL_a0e43ea4b55f461495bb0571717442b1",
       "toolitems": [
        [
         "Home",
         "Reset original view",
         "home",
         "home"
        ],
        [
         "Back",
         "Back to previous view",
         "arrow-left",
         "back"
        ],
        [
         "Forward",
         "Forward to next view",
         "arrow-right",
         "forward"
        ],
        [
         "Pan",
         "Pan axes with left mouse, zoom with right",
         "arrows",
         "pan"
        ],
        [
         "Zoom",
         "Zoom to rectangle",
         "square-o",
         "zoom"
        ],
        [
         "Download",
         "Download plot",
         "floppy-o",
         "save_figure"
        ]
       ]
      }
     },
     "4ed3e7d13d354dcfb882ecb088bac045": {
      "model_module": "@jupyter-widgets/base",
      "model_module_version": "1.2.0",
      "model_name": "LayoutModel",
      "state": {}
     },
     "4f11215e87564e0d995b2512a32fd823": {
      "model_module": "jupyter-matplotlib",
      "model_module_version": "^0.5.0",
      "model_name": "MPLCanvasModel",
      "state": {
       "layout": "IPY_MODEL_fddaebc49fb9445d99f1c41e340a9dd4",
       "toolbar": "IPY_MODEL_0e46a7e67ef845ccbca7c7055c653420",
       "toolbar_position": "left"
      }
     },
     "53d198a585e34f099addcf882d25018f": {
      "model_module": "jupyter-matplotlib",
      "model_module_version": "^0.5.0",
      "model_name": "ToolbarModel",
      "state": {
       "layout": "IPY_MODEL_73877fd407d14d0099ac6c9dfae61186",
       "toolitems": [
        [
         "Home",
         "Reset original view",
         "home",
         "home"
        ],
        [
         "Back",
         "Back to previous view",
         "arrow-left",
         "back"
        ],
        [
         "Forward",
         "Forward to next view",
         "arrow-right",
         "forward"
        ],
        [
         "Pan",
         "Pan axes with left mouse, zoom with right",
         "arrows",
         "pan"
        ],
        [
         "Zoom",
         "Zoom to rectangle",
         "square-o",
         "zoom"
        ],
        [
         "Download",
         "Download plot",
         "floppy-o",
         "save_figure"
        ]
       ]
      }
     },
     "54a1332aba6c4b82a8e23611f10e6941": {
      "model_module": "jupyter-matplotlib",
      "model_module_version": "^0.5.0",
      "model_name": "ToolbarModel",
      "state": {
       "layout": "IPY_MODEL_66724a2731a145a9abda033aca828a84",
       "toolitems": [
        [
         "Home",
         "Reset original view",
         "home",
         "home"
        ],
        [
         "Back",
         "Back to previous view",
         "arrow-left",
         "back"
        ],
        [
         "Forward",
         "Forward to next view",
         "arrow-right",
         "forward"
        ],
        [
         "Pan",
         "Pan axes with left mouse, zoom with right",
         "arrows",
         "pan"
        ],
        [
         "Zoom",
         "Zoom to rectangle",
         "square-o",
         "zoom"
        ],
        [
         "Download",
         "Download plot",
         "floppy-o",
         "save_figure"
        ]
       ]
      }
     },
     "570ff53ec0ef4ebea93760cb139fd173": {
      "model_module": "jupyter-matplotlib",
      "model_module_version": "^0.5.0",
      "model_name": "ToolbarModel",
      "state": {
       "layout": "IPY_MODEL_1667f1b7e74544a68d19ba777cc6347c",
       "toolitems": [
        [
         "Home",
         "Reset original view",
         "home",
         "home"
        ],
        [
         "Back",
         "Back to previous view",
         "arrow-left",
         "back"
        ],
        [
         "Forward",
         "Forward to next view",
         "arrow-right",
         "forward"
        ],
        [
         "Pan",
         "Pan axes with left mouse, zoom with right",
         "arrows",
         "pan"
        ],
        [
         "Zoom",
         "Zoom to rectangle",
         "square-o",
         "zoom"
        ],
        [
         "Download",
         "Download plot",
         "floppy-o",
         "save_figure"
        ]
       ]
      }
     },
     "58e650def8364d4c81e9ab3f1423c608": {
      "model_module": "@jupyter-widgets/base",
      "model_module_version": "1.2.0",
      "model_name": "LayoutModel",
      "state": {}
     },
     "5c110525c0f9421482d0d862674d2adf": {
      "model_module": "jupyter-matplotlib",
      "model_module_version": "^0.5.0",
      "model_name": "MPLCanvasModel",
      "state": {
       "layout": "IPY_MODEL_efa0104867704dcf9b4a0fcd7a78750f",
       "toolbar": "IPY_MODEL_7352ebf45a0e4de8bbd2098c550b89ba",
       "toolbar_position": "left"
      }
     },
     "5ebafc5afe1344b9a2eb7f753f3ee6c9": {
      "model_module": "@jupyter-widgets/base",
      "model_module_version": "1.2.0",
      "model_name": "LayoutModel",
      "state": {}
     },
     "5fd3cfe4c2514bcf909fdb8a05271cc5": {
      "model_module": "jupyter-matplotlib",
      "model_module_version": "^0.5.0",
      "model_name": "ToolbarModel",
      "state": {
       "layout": "IPY_MODEL_7a685285595b4e5db492cabf7aab59de",
       "toolitems": [
        [
         "Home",
         "Reset original view",
         "home",
         "home"
        ],
        [
         "Back",
         "Back to previous view",
         "arrow-left",
         "back"
        ],
        [
         "Forward",
         "Forward to next view",
         "arrow-right",
         "forward"
        ],
        [
         "Pan",
         "Pan axes with left mouse, zoom with right",
         "arrows",
         "pan"
        ],
        [
         "Zoom",
         "Zoom to rectangle",
         "square-o",
         "zoom"
        ],
        [
         "Download",
         "Download plot",
         "floppy-o",
         "save_figure"
        ]
       ]
      }
     },
     "66724a2731a145a9abda033aca828a84": {
      "model_module": "@jupyter-widgets/base",
      "model_module_version": "1.2.0",
      "model_name": "LayoutModel",
      "state": {}
     },
     "69ed80da351c4b1196f03e7ccbace76a": {
      "model_module": "jupyter-matplotlib",
      "model_module_version": "^0.5.0",
      "model_name": "MPLCanvasModel",
      "state": {
       "layout": "IPY_MODEL_1fe4a2f2d90c46b89ce747a22ac93845",
       "toolbar": "IPY_MODEL_d9aa1f0edd3845d593ef69e416881c97",
       "toolbar_position": "left"
      }
     },
     "6e3bdf0cda4f4376b97974ce4526e2d8": {
      "model_module": "jupyter-matplotlib",
      "model_module_version": "^0.5.0",
      "model_name": "ToolbarModel",
      "state": {
       "layout": "IPY_MODEL_976bffda337d45c69ff2304a43c1035a",
       "toolitems": [
        [
         "Home",
         "Reset original view",
         "home",
         "home"
        ],
        [
         "Back",
         "Back to previous view",
         "arrow-left",
         "back"
        ],
        [
         "Forward",
         "Forward to next view",
         "arrow-right",
         "forward"
        ],
        [
         "Pan",
         "Pan axes with left mouse, zoom with right",
         "arrows",
         "pan"
        ],
        [
         "Zoom",
         "Zoom to rectangle",
         "square-o",
         "zoom"
        ],
        [
         "Download",
         "Download plot",
         "floppy-o",
         "save_figure"
        ]
       ]
      }
     },
     "6fadd4f55218458c84ef5f5a0c713dcb": {
      "model_module": "@jupyter-widgets/base",
      "model_module_version": "1.2.0",
      "model_name": "LayoutModel",
      "state": {}
     },
     "6fb58afcf85647fab4aac2e1b672dbc0": {
      "model_module": "jupyter-matplotlib",
      "model_module_version": "^0.5.0",
      "model_name": "MPLCanvasModel",
      "state": {
       "layout": "IPY_MODEL_cb654c0931264879aacdf1f2eff91099",
       "toolbar": "IPY_MODEL_ce5a37d94b5f45438894787d46f6c331",
       "toolbar_position": "left"
      }
     },
     "6fc5daa00ccf496dbad99ed087b4d3fe": {
      "model_module": "@jupyter-widgets/base",
      "model_module_version": "1.2.0",
      "model_name": "LayoutModel",
      "state": {}
     },
     "71f5f34ec8674cc4ab7832b7e3c9259a": {
      "model_module": "@jupyter-widgets/base",
      "model_module_version": "1.2.0",
      "model_name": "LayoutModel",
      "state": {}
     },
     "7352ebf45a0e4de8bbd2098c550b89ba": {
      "model_module": "jupyter-matplotlib",
      "model_module_version": "^0.5.0",
      "model_name": "ToolbarModel",
      "state": {
       "layout": "IPY_MODEL_98ba34a1a0b742e5aa4ef278b58149fa",
       "toolitems": [
        [
         "Home",
         "Reset original view",
         "home",
         "home"
        ],
        [
         "Back",
         "Back to previous view",
         "arrow-left",
         "back"
        ],
        [
         "Forward",
         "Forward to next view",
         "arrow-right",
         "forward"
        ],
        [
         "Pan",
         "Pan axes with left mouse, zoom with right",
         "arrows",
         "pan"
        ],
        [
         "Zoom",
         "Zoom to rectangle",
         "square-o",
         "zoom"
        ],
        [
         "Download",
         "Download plot",
         "floppy-o",
         "save_figure"
        ]
       ]
      }
     },
     "73877fd407d14d0099ac6c9dfae61186": {
      "model_module": "@jupyter-widgets/base",
      "model_module_version": "1.2.0",
      "model_name": "LayoutModel",
      "state": {}
     },
     "7a685285595b4e5db492cabf7aab59de": {
      "model_module": "@jupyter-widgets/base",
      "model_module_version": "1.2.0",
      "model_name": "LayoutModel",
      "state": {}
     },
     "7b42d524d7d145b7b66adb7d26b444ac": {
      "model_module": "@jupyter-widgets/base",
      "model_module_version": "1.2.0",
      "model_name": "LayoutModel",
      "state": {}
     },
     "7d7ffdb4a4c54ac7b2cbb4dcc7c379cd": {
      "model_module": "jupyter-matplotlib",
      "model_module_version": "^0.5.0",
      "model_name": "MPLCanvasModel",
      "state": {
       "layout": "IPY_MODEL_deed4012ae244fbd876004aeef02c292",
       "toolbar": "IPY_MODEL_8c78f793ed7d4668a28413c22d59ced4",
       "toolbar_position": "left"
      }
     },
     "7e3cc696ee4f431b91a37c70b4b3d4f5": {
      "model_module": "@jupyter-widgets/base",
      "model_module_version": "1.2.0",
      "model_name": "LayoutModel",
      "state": {}
     },
     "8506ef17162e4f7d88b716bc4b42c91e": {
      "model_module": "jupyter-matplotlib",
      "model_module_version": "^0.5.0",
      "model_name": "MPLCanvasModel",
      "state": {
       "layout": "IPY_MODEL_9f2371dac4ae404096f680532b773f6c",
       "toolbar": "IPY_MODEL_53d198a585e34f099addcf882d25018f",
       "toolbar_position": "left"
      }
     },
     "863657c9fe1f49fc8e2e55ab2b80e933": {
      "model_module": "jupyter-matplotlib",
      "model_module_version": "^0.5.0",
      "model_name": "MPLCanvasModel",
      "state": {
       "layout": "IPY_MODEL_4ed3e7d13d354dcfb882ecb088bac045",
       "toolbar": "IPY_MODEL_05324e41f21747be96e52779cded5efe",
       "toolbar_position": "left"
      }
     },
     "87bde666151440baa2650734b30914c8": {
      "model_module": "jupyter-matplotlib",
      "model_module_version": "^0.5.0",
      "model_name": "ToolbarModel",
      "state": {
       "layout": "IPY_MODEL_71f5f34ec8674cc4ab7832b7e3c9259a",
       "toolitems": [
        [
         "Home",
         "Reset original view",
         "home",
         "home"
        ],
        [
         "Back",
         "Back to previous view",
         "arrow-left",
         "back"
        ],
        [
         "Forward",
         "Forward to next view",
         "arrow-right",
         "forward"
        ],
        [
         "Pan",
         "Pan axes with left mouse, zoom with right",
         "arrows",
         "pan"
        ],
        [
         "Zoom",
         "Zoom to rectangle",
         "square-o",
         "zoom"
        ],
        [
         "Download",
         "Download plot",
         "floppy-o",
         "save_figure"
        ]
       ]
      }
     },
     "8c6f261124f148238f31fb1a91939f0d": {
      "model_module": "jupyter-matplotlib",
      "model_module_version": "^0.5.0",
      "model_name": "ToolbarModel",
      "state": {
       "layout": "IPY_MODEL_6fadd4f55218458c84ef5f5a0c713dcb",
       "toolitems": [
        [
         "Home",
         "Reset original view",
         "home",
         "home"
        ],
        [
         "Back",
         "Back to previous view",
         "arrow-left",
         "back"
        ],
        [
         "Forward",
         "Forward to next view",
         "arrow-right",
         "forward"
        ],
        [
         "Pan",
         "Pan axes with left mouse, zoom with right",
         "arrows",
         "pan"
        ],
        [
         "Zoom",
         "Zoom to rectangle",
         "square-o",
         "zoom"
        ],
        [
         "Download",
         "Download plot",
         "floppy-o",
         "save_figure"
        ]
       ]
      }
     },
     "8c78f793ed7d4668a28413c22d59ced4": {
      "model_module": "jupyter-matplotlib",
      "model_module_version": "^0.5.0",
      "model_name": "ToolbarModel",
      "state": {
       "layout": "IPY_MODEL_d08604a481454af996b30734a45b39c0",
       "toolitems": [
        [
         "Home",
         "Reset original view",
         "home",
         "home"
        ],
        [
         "Back",
         "Back to previous view",
         "arrow-left",
         "back"
        ],
        [
         "Forward",
         "Forward to next view",
         "arrow-right",
         "forward"
        ],
        [
         "Pan",
         "Pan axes with left mouse, zoom with right",
         "arrows",
         "pan"
        ],
        [
         "Zoom",
         "Zoom to rectangle",
         "square-o",
         "zoom"
        ],
        [
         "Download",
         "Download plot",
         "floppy-o",
         "save_figure"
        ]
       ]
      }
     },
     "94c9bbde0ef24760958a5d4fc381b887": {
      "model_module": "jupyter-matplotlib",
      "model_module_version": "^0.5.0",
      "model_name": "ToolbarModel",
      "state": {
       "layout": "IPY_MODEL_1e688cd1d918412c9979e4a20514e8fc",
       "toolitems": [
        [
         "Home",
         "Reset original view",
         "home",
         "home"
        ],
        [
         "Back",
         "Back to previous view",
         "arrow-left",
         "back"
        ],
        [
         "Forward",
         "Forward to next view",
         "arrow-right",
         "forward"
        ],
        [
         "Pan",
         "Pan axes with left mouse, zoom with right",
         "arrows",
         "pan"
        ],
        [
         "Zoom",
         "Zoom to rectangle",
         "square-o",
         "zoom"
        ],
        [
         "Download",
         "Download plot",
         "floppy-o",
         "save_figure"
        ]
       ]
      }
     },
     "958557a7e1d5445c83f773cd2547444a": {
      "model_module": "jupyter-matplotlib",
      "model_module_version": "^0.5.0",
      "model_name": "MPLCanvasModel",
      "state": {
       "layout": "IPY_MODEL_7b42d524d7d145b7b66adb7d26b444ac",
       "toolbar": "IPY_MODEL_94c9bbde0ef24760958a5d4fc381b887",
       "toolbar_position": "left"
      }
     },
     "976bffda337d45c69ff2304a43c1035a": {
      "model_module": "@jupyter-widgets/base",
      "model_module_version": "1.2.0",
      "model_name": "LayoutModel",
      "state": {}
     },
     "98ba34a1a0b742e5aa4ef278b58149fa": {
      "model_module": "@jupyter-widgets/base",
      "model_module_version": "1.2.0",
      "model_name": "LayoutModel",
      "state": {}
     },
     "9a33a92f18c842e58ff6c821e61bb643": {
      "model_module": "jupyter-matplotlib",
      "model_module_version": "^0.5.0",
      "model_name": "ToolbarModel",
      "state": {
       "layout": "IPY_MODEL_1e02784c6315452386dc91c55333fd86",
       "toolitems": [
        [
         "Home",
         "Reset original view",
         "home",
         "home"
        ],
        [
         "Back",
         "Back to previous view",
         "arrow-left",
         "back"
        ],
        [
         "Forward",
         "Forward to next view",
         "arrow-right",
         "forward"
        ],
        [
         "Pan",
         "Pan axes with left mouse, zoom with right",
         "arrows",
         "pan"
        ],
        [
         "Zoom",
         "Zoom to rectangle",
         "square-o",
         "zoom"
        ],
        [
         "Download",
         "Download plot",
         "floppy-o",
         "save_figure"
        ]
       ]
      }
     },
     "9f2371dac4ae404096f680532b773f6c": {
      "model_module": "@jupyter-widgets/base",
      "model_module_version": "1.2.0",
      "model_name": "LayoutModel",
      "state": {}
     },
     "a0e43ea4b55f461495bb0571717442b1": {
      "model_module": "@jupyter-widgets/base",
      "model_module_version": "1.2.0",
      "model_name": "LayoutModel",
      "state": {}
     },
     "a32ec1bd996a4f1f8fe0229d85702d7e": {
      "model_module": "@jupyter-widgets/base",
      "model_module_version": "1.2.0",
      "model_name": "LayoutModel",
      "state": {}
     },
     "a7ab60ccb22d4e249b70376e5f7e3a99": {
      "model_module": "@jupyter-widgets/base",
      "model_module_version": "1.2.0",
      "model_name": "LayoutModel",
      "state": {}
     },
     "b374573534b64d10b412b93341c3d607": {
      "model_module": "@jupyter-widgets/base",
      "model_module_version": "1.2.0",
      "model_name": "LayoutModel",
      "state": {}
     },
     "bacab4f3aff74ae99c7b7382f6e13b08": {
      "model_module": "jupyter-matplotlib",
      "model_module_version": "^0.5.0",
      "model_name": "MPLCanvasModel",
      "state": {
       "layout": "IPY_MODEL_eca1212aa40c42ed9bbac8519c115e39",
       "toolbar": "IPY_MODEL_49d5a7b82e754c73a2970938261a7e0f",
       "toolbar_position": "left"
      }
     },
     "c5fae753c0d145f3a92e0f93f683375f": {
      "model_module": "@jupyter-widgets/base",
      "model_module_version": "1.2.0",
      "model_name": "LayoutModel",
      "state": {}
     },
     "cb654c0931264879aacdf1f2eff91099": {
      "model_module": "@jupyter-widgets/base",
      "model_module_version": "1.2.0",
      "model_name": "LayoutModel",
      "state": {}
     },
     "ce5a37d94b5f45438894787d46f6c331": {
      "model_module": "jupyter-matplotlib",
      "model_module_version": "^0.5.0",
      "model_name": "ToolbarModel",
      "state": {
       "layout": "IPY_MODEL_c5fae753c0d145f3a92e0f93f683375f",
       "toolitems": [
        [
         "Home",
         "Reset original view",
         "home",
         "home"
        ],
        [
         "Back",
         "Back to previous view",
         "arrow-left",
         "back"
        ],
        [
         "Forward",
         "Forward to next view",
         "arrow-right",
         "forward"
        ],
        [
         "Pan",
         "Pan axes with left mouse, zoom with right",
         "arrows",
         "pan"
        ],
        [
         "Zoom",
         "Zoom to rectangle",
         "square-o",
         "zoom"
        ],
        [
         "Download",
         "Download plot",
         "floppy-o",
         "save_figure"
        ]
       ]
      }
     },
     "d08604a481454af996b30734a45b39c0": {
      "model_module": "@jupyter-widgets/base",
      "model_module_version": "1.2.0",
      "model_name": "LayoutModel",
      "state": {}
     },
     "d10219b6c4f946259303068a5ed1462b": {
      "model_module": "jupyter-matplotlib",
      "model_module_version": "^0.5.0",
      "model_name": "ToolbarModel",
      "state": {
       "layout": "IPY_MODEL_f21807e9b1a246e3ac94a9aee2b101af",
       "toolitems": [
        [
         "Home",
         "Reset original view",
         "home",
         "home"
        ],
        [
         "Back",
         "Back to previous view",
         "arrow-left",
         "back"
        ],
        [
         "Forward",
         "Forward to next view",
         "arrow-right",
         "forward"
        ],
        [
         "Pan",
         "Pan axes with left mouse, zoom with right",
         "arrows",
         "pan"
        ],
        [
         "Zoom",
         "Zoom to rectangle",
         "square-o",
         "zoom"
        ],
        [
         "Download",
         "Download plot",
         "floppy-o",
         "save_figure"
        ]
       ]
      }
     },
     "d510cfed8b1b4fc8a47d18ab831db7d6": {
      "model_module": "jupyter-matplotlib",
      "model_module_version": "^0.5.0",
      "model_name": "MPLCanvasModel",
      "state": {
       "layout": "IPY_MODEL_f27e8c30afb74948bae01181645842d8",
       "toolbar": "IPY_MODEL_d10219b6c4f946259303068a5ed1462b",
       "toolbar_position": "left"
      }
     },
     "d7d422b0b77a4447a86666843fb1970f": {
      "model_module": "jupyter-matplotlib",
      "model_module_version": "^0.5.0",
      "model_name": "ToolbarModel",
      "state": {
       "layout": "IPY_MODEL_0b56fe148176437dacd7ce0de70658ac",
       "toolitems": [
        [
         "Home",
         "Reset original view",
         "home",
         "home"
        ],
        [
         "Back",
         "Back to previous view",
         "arrow-left",
         "back"
        ],
        [
         "Forward",
         "Forward to next view",
         "arrow-right",
         "forward"
        ],
        [
         "Pan",
         "Pan axes with left mouse, zoom with right",
         "arrows",
         "pan"
        ],
        [
         "Zoom",
         "Zoom to rectangle",
         "square-o",
         "zoom"
        ],
        [
         "Download",
         "Download plot",
         "floppy-o",
         "save_figure"
        ]
       ]
      }
     },
     "d9aa1f0edd3845d593ef69e416881c97": {
      "model_module": "jupyter-matplotlib",
      "model_module_version": "^0.5.0",
      "model_name": "ToolbarModel",
      "state": {
       "layout": "IPY_MODEL_1c9c89367beb4a6dad9882760d8c8fe5",
       "toolitems": [
        [
         "Home",
         "Reset original view",
         "home",
         "home"
        ],
        [
         "Back",
         "Back to previous view",
         "arrow-left",
         "back"
        ],
        [
         "Forward",
         "Forward to next view",
         "arrow-right",
         "forward"
        ],
        [
         "Pan",
         "Pan axes with left mouse, zoom with right",
         "arrows",
         "pan"
        ],
        [
         "Zoom",
         "Zoom to rectangle",
         "square-o",
         "zoom"
        ],
        [
         "Download",
         "Download plot",
         "floppy-o",
         "save_figure"
        ]
       ]
      }
     },
     "dc1b93563839481d8e71825a9aa1dbc6": {
      "model_module": "jupyter-matplotlib",
      "model_module_version": "^0.5.0",
      "model_name": "MPLCanvasModel",
      "state": {
       "layout": "IPY_MODEL_25315f7315eb4ceab8c06fa80b43aa67",
       "toolbar": "IPY_MODEL_87bde666151440baa2650734b30914c8",
       "toolbar_position": "left"
      }
     },
     "dcaa6fe73caa40788b1f0e64a62a55e1": {
      "model_module": "@jupyter-widgets/base",
      "model_module_version": "1.2.0",
      "model_name": "LayoutModel",
      "state": {}
     },
     "deed4012ae244fbd876004aeef02c292": {
      "model_module": "@jupyter-widgets/base",
      "model_module_version": "1.2.0",
      "model_name": "LayoutModel",
      "state": {}
     },
     "e249cc4509194525bc48b19a9af7298c": {
      "model_module": "jupyter-matplotlib",
      "model_module_version": "^0.5.0",
      "model_name": "MPLCanvasModel",
      "state": {
       "layout": "IPY_MODEL_f4bed41342e946cfb17b5ddcac90a983",
       "toolbar": "IPY_MODEL_9a33a92f18c842e58ff6c821e61bb643",
       "toolbar_position": "left"
      }
     },
     "e69ba43bd2c448f58b88b8d9ba3d94cd": {
      "model_module": "@jupyter-widgets/base",
      "model_module_version": "1.2.0",
      "model_name": "LayoutModel",
      "state": {}
     },
     "e9aaca1aa9c54402914cdaf22ff89b3e": {
      "model_module": "@jupyter-widgets/base",
      "model_module_version": "1.2.0",
      "model_name": "LayoutModel",
      "state": {}
     },
     "eca1212aa40c42ed9bbac8519c115e39": {
      "model_module": "@jupyter-widgets/base",
      "model_module_version": "1.2.0",
      "model_name": "LayoutModel",
      "state": {}
     },
     "efa0104867704dcf9b4a0fcd7a78750f": {
      "model_module": "@jupyter-widgets/base",
      "model_module_version": "1.2.0",
      "model_name": "LayoutModel",
      "state": {}
     },
     "f169d20962994d73901eb255a2d13dfa": {
      "model_module": "jupyter-matplotlib",
      "model_module_version": "^0.5.0",
      "model_name": "MPLCanvasModel",
      "state": {
       "layout": "IPY_MODEL_b374573534b64d10b412b93341c3d607",
       "toolbar": "IPY_MODEL_f670b1fbdc7c436b8bdcb78d46a9c4ea",
       "toolbar_position": "left"
      }
     },
     "f17cdad3c80d44e38b173302c8f39ea7": {
      "model_module": "jupyter-matplotlib",
      "model_module_version": "^0.5.0",
      "model_name": "MPLCanvasModel",
      "state": {
       "layout": "IPY_MODEL_4436ac37ef1c42ba93692ff85ae9f04f",
       "toolbar": "IPY_MODEL_5fd3cfe4c2514bcf909fdb8a05271cc5",
       "toolbar_position": "left"
      }
     },
     "f21807e9b1a246e3ac94a9aee2b101af": {
      "model_module": "@jupyter-widgets/base",
      "model_module_version": "1.2.0",
      "model_name": "LayoutModel",
      "state": {}
     },
     "f27e8c30afb74948bae01181645842d8": {
      "model_module": "@jupyter-widgets/base",
      "model_module_version": "1.2.0",
      "model_name": "LayoutModel",
      "state": {}
     },
     "f4bed41342e946cfb17b5ddcac90a983": {
      "model_module": "@jupyter-widgets/base",
      "model_module_version": "1.2.0",
      "model_name": "LayoutModel",
      "state": {}
     },
     "f573cd4321a542a690229072a76b9c81": {
      "model_module": "jupyter-matplotlib",
      "model_module_version": "^0.5.0",
      "model_name": "MPLCanvasModel",
      "state": {
       "layout": "IPY_MODEL_a7ab60ccb22d4e249b70376e5f7e3a99",
       "toolbar": "IPY_MODEL_570ff53ec0ef4ebea93760cb139fd173",
       "toolbar_position": "left"
      }
     },
     "f6437458bf3441cf9af8b422661a93c2": {
      "model_module": "@jupyter-widgets/base",
      "model_module_version": "1.2.0",
      "model_name": "LayoutModel",
      "state": {}
     },
     "f670b1fbdc7c436b8bdcb78d46a9c4ea": {
      "model_module": "jupyter-matplotlib",
      "model_module_version": "^0.5.0",
      "model_name": "ToolbarModel",
      "state": {
       "layout": "IPY_MODEL_104a0e71d57f4eb6b9d0df64fe37af4f",
       "toolitems": [
        [
         "Home",
         "Reset original view",
         "home",
         "home"
        ],
        [
         "Back",
         "Back to previous view",
         "arrow-left",
         "back"
        ],
        [
         "Forward",
         "Forward to next view",
         "arrow-right",
         "forward"
        ],
        [
         "Pan",
         "Pan axes with left mouse, zoom with right",
         "arrows",
         "pan"
        ],
        [
         "Zoom",
         "Zoom to rectangle",
         "square-o",
         "zoom"
        ],
        [
         "Download",
         "Download plot",
         "floppy-o",
         "save_figure"
        ]
       ]
      }
     },
     "fddaebc49fb9445d99f1c41e340a9dd4": {
      "model_module": "@jupyter-widgets/base",
      "model_module_version": "1.2.0",
      "model_name": "LayoutModel",
      "state": {}
     }
    },
    "version_major": 2,
    "version_minor": 0
   }
  }
 },
 "nbformat": 4,
 "nbformat_minor": 4
}
