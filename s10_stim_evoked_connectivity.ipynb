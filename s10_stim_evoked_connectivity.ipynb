{
 "cells": [
  {
   "cell_type": "markdown",
   "metadata": {},
   "source": [
    "Comparison between pre and post stimulus connectivity across brian regions"
   ]
  },
  {
   "cell_type": "code",
   "execution_count": 1,
   "metadata": {
    "execution": {
     "iopub.execute_input": "2020-09-22T21:57:26.779802Z",
     "iopub.status.busy": "2020-09-22T21:57:26.778895Z",
     "iopub.status.idle": "2020-09-22T21:57:38.924805Z",
     "shell.execute_reply": "2020-09-22T21:57:38.924018Z",
     "shell.execute_reply.started": "2020-09-22T21:57:26.779663Z"
    }
   },
   "outputs": [],
   "source": [
    "%load_ext autoreload\n",
    "%autoreload 2\n",
    "import warnings\n",
    "\n",
    "import numpy as np\n",
    "import pandas as pd\n",
    "import matplotlib.pyplot as plt\n",
    "from matplotlib import cm, patches\n",
    "import matplotlib.gridspec as gridspec\n",
    "from scipy import signal\n",
    "from tqdm.auto import tqdm\n",
    "with warnings.catch_warnings():\n",
    "    warnings.simplefilter('ignore')\n",
    "    tqdm.pandas()\n",
    "\n",
    "from tbd_eeg.data_analysis.eegutils import *\n",
    "from tbd_eeg.data_analysis.Utilities import utilities as utils\n",
    "from tbd_eeg.data_analysis.Utilities import filters\n",
    "\n",
    "from plot_electrodes import *\n",
    "\n",
    "from ipympl.backend_nbagg import Canvas\n",
    "Canvas.header_visible.default_value = False\n",
    "\n",
    "from simclus import simclus\n",
    "\n",
    "%matplotlib widget"
   ]
  },
  {
   "cell_type": "code",
   "execution_count": 2,
   "metadata": {
    "execution": {
     "iopub.execute_input": "2020-09-22T21:57:39.739922Z",
     "iopub.status.busy": "2020-09-22T21:57:39.739611Z",
     "iopub.status.idle": "2020-09-22T21:57:39.770870Z",
     "shell.execute_reply": "2020-09-22T21:57:39.769936Z",
     "shell.execute_reply.started": "2020-09-22T21:57:39.739883Z"
    }
   },
   "outputs": [],
   "source": [
    "epoch_cms = {\n",
    "    'pre' : cm.Reds,\n",
    "    'iso_high' : cm.PuOr,\n",
    "    'iso_low' : cm.PuOr_r,\n",
    "    'early_recovery': cm.Blues,\n",
    "    'late_recovery' : cm.Greens\n",
    "}"
   ]
  },
  {
   "cell_type": "code",
   "execution_count": 3,
   "metadata": {
    "execution": {
     "iopub.execute_input": "2020-09-22T21:57:40.379718Z",
     "iopub.status.busy": "2020-09-22T21:57:40.378825Z",
     "iopub.status.idle": "2020-09-22T21:57:47.769547Z",
     "shell.execute_reply": "2020-09-22T21:57:47.768903Z",
     "shell.execute_reply.started": "2020-09-22T21:57:40.379597Z"
    }
   },
   "outputs": [
    {
     "name": "stdout",
     "output_type": "stream",
     "text": [
      "The settings.xml file was not found.\n"
     ]
    },
    {
     "name": "stdin",
     "output_type": "stream",
     "text": [
      "Was the recording done on NP4? [y/n]  y\n"
     ]
    },
    {
     "name": "stdout",
     "output_type": "stream",
     "text": [
      "Experiment type: electrical stimulation.\n",
      "SomnoSuite log file not found.\n",
      "Identifying valid channels...\n",
      "The following channels seem to be correctly connected and report valid data:\n",
      "[0, 1, 2, 3, 4, 5, 6, 7, 8, 9, 10, 11, 12, 13, 14, 15, 16, 17, 18, 19, 20, 21, 22, 23, 24, 25, 26, 27, 28, 29, 30, 31]\n",
      "Loading other data...\n",
      "iso on at 1439.6\n",
      "iso reduced at 1658.38\n",
      "iso off at 2965.83\n",
      "Annotating artifacts...\n"
     ]
    }
   ],
   "source": [
    "data_folder = \"../tiny-blue-dot/zap-n-zip/EEG_exp/mouse521886/estim1_2020-07-16_13-37-02/experiment1/recording1/\"\n",
    "\n",
    "# set the sample_rate for all data analysis\n",
    "sample_rate = 200\n",
    "\n",
    "# load experiment metadata and eeg data\n",
    "exp = EEGexp(data_folder)\n",
    "eegdata = exp.load_eegdata(frequency=sample_rate, return_type='pd')\n",
    "\n",
    "# locate valid channels (some channels can be disconnected and we want to ignore them in the analysis)\n",
    "print('Identifying valid channels...')\n",
    "median_amplitude = eegdata[:sample_rate*300].apply(\n",
    "    utils.median_amplitude, raw=True, axis=0, distance=sample_rate\n",
    ")\n",
    "valid_channels = median_amplitude.index[median_amplitude < 2000].values\n",
    "print('The following channels seem to be correctly connected and report valid data:')\n",
    "print(list(valid_channels))\n",
    "\n",
    "# load other data (running, iso etc)\n",
    "print('Loading other data...')\n",
    "running_speed = exp.load_running(return_type='pd')\n",
    "iso = exp.load_analog_iso(return_type='pd')\n",
    "\n",
    "# automatically annotate anesthesia epochs\n",
    "iso_first_on = (iso>4).idxmax()\n",
    "print('iso on at', iso_first_on)\n",
    "iso_first_mid = ((iso[iso.index>iso_first_on]>1)&(iso[iso.index>iso_first_on]<4)).idxmax()\n",
    "print('iso reduced at', iso_first_mid)\n",
    "iso_first_off = (iso>1)[::-1].idxmax()\n",
    "print('iso off at', iso_first_off)\n",
    "\n",
    "# annotate artifacts with power in high frequencies\n",
    "print('Annotating artifacts...')\n",
    "hf_annots = pd.Series(\n",
    "    eegdata[valid_channels].apply(\n",
    "        find_hf_annotations, axis=0,\n",
    "        sample_rate=sample_rate, fmin=300, pmin=0.25\n",
    "    ).mean(axis=1),\n",
    "    name='artifact'\n",
    ")\n",
    "recovery_first_jump = (hf_annots>4)[hf_annots.index>iso_first_off].idxmax()\n",
    "\n",
    "epochs = pd.Series(\n",
    "    index = [0, iso_first_on-0.001, iso_first_on+0.001, iso_first_mid-0.001,\n",
    "             iso_first_mid+0.001, iso_first_off-0.001, iso_first_off+0.001,\n",
    "             recovery_first_jump-0.001, recovery_first_jump+0.001, eegdata.index[-1]],\n",
    "    data=['pre', 'pre', 'iso_high', 'iso_high', 'iso_low', 'iso_low',\n",
    "          'early_recovery', 'early_recovery', 'late_recovery', 'late_recovery'],\n",
    "    dtype=pd.CategoricalDtype(\n",
    "        categories=['pre', 'iso_high', 'iso_low', 'early_recovery', 'late_recovery'],\n",
    "        ordered=True\n",
    "    )\n",
    ")"
   ]
  },
  {
   "cell_type": "code",
   "execution_count": 4,
   "metadata": {
    "execution": {
     "iopub.execute_input": "2020-09-22T21:57:47.770665Z",
     "iopub.status.busy": "2020-09-22T21:57:47.770354Z",
     "iopub.status.idle": "2020-09-22T21:57:47.919730Z",
     "shell.execute_reply": "2020-09-22T21:57:47.919092Z",
     "shell.execute_reply.started": "2020-09-22T21:57:47.770545Z"
    }
   },
   "outputs": [
    {
     "data": {
      "text/html": [
       "<div>\n",
       "<style scoped>\n",
       "    .dataframe tbody tr th:only-of-type {\n",
       "        vertical-align: middle;\n",
       "    }\n",
       "\n",
       "    .dataframe tbody tr th {\n",
       "        vertical-align: top;\n",
       "    }\n",
       "\n",
       "    .dataframe thead th {\n",
       "        text-align: right;\n",
       "    }\n",
       "</style>\n",
       "<table border=\"1\" class=\"dataframe\">\n",
       "  <thead>\n",
       "    <tr style=\"text-align: right;\">\n",
       "      <th></th>\n",
       "      <th>stim_type</th>\n",
       "      <th>amplitude</th>\n",
       "      <th>duration</th>\n",
       "      <th>onset</th>\n",
       "      <th>offset</th>\n",
       "      <th>sweep</th>\n",
       "    </tr>\n",
       "  </thead>\n",
       "  <tbody>\n",
       "    <tr>\n",
       "      <th>0</th>\n",
       "      <td>biphasic</td>\n",
       "      <td>50</td>\n",
       "      <td>400.0</td>\n",
       "      <td>134.81231</td>\n",
       "      <td>134.81291</td>\n",
       "      <td>0</td>\n",
       "    </tr>\n",
       "    <tr>\n",
       "      <th>1</th>\n",
       "      <td>biphasic</td>\n",
       "      <td>20</td>\n",
       "      <td>400.0</td>\n",
       "      <td>138.40947</td>\n",
       "      <td>138.41007</td>\n",
       "      <td>0</td>\n",
       "    </tr>\n",
       "    <tr>\n",
       "      <th>2</th>\n",
       "      <td>biphasic</td>\n",
       "      <td>50</td>\n",
       "      <td>400.0</td>\n",
       "      <td>142.72804</td>\n",
       "      <td>142.72864</td>\n",
       "      <td>0</td>\n",
       "    </tr>\n",
       "    <tr>\n",
       "      <th>3</th>\n",
       "      <td>biphasic</td>\n",
       "      <td>100</td>\n",
       "      <td>400.0</td>\n",
       "      <td>147.04601</td>\n",
       "      <td>147.04661</td>\n",
       "      <td>0</td>\n",
       "    </tr>\n",
       "    <tr>\n",
       "      <th>4</th>\n",
       "      <td>biphasic</td>\n",
       "      <td>100</td>\n",
       "      <td>400.0</td>\n",
       "      <td>151.26887</td>\n",
       "      <td>151.26948</td>\n",
       "      <td>0</td>\n",
       "    </tr>\n",
       "    <tr>\n",
       "      <th>...</th>\n",
       "      <td>...</td>\n",
       "      <td>...</td>\n",
       "      <td>...</td>\n",
       "      <td>...</td>\n",
       "      <td>...</td>\n",
       "      <td>...</td>\n",
       "    </tr>\n",
       "    <tr>\n",
       "      <th>895</th>\n",
       "      <td>biphasic</td>\n",
       "      <td>20</td>\n",
       "      <td>400.0</td>\n",
       "      <td>4168.44474</td>\n",
       "      <td>4168.44535</td>\n",
       "      <td>2</td>\n",
       "    </tr>\n",
       "    <tr>\n",
       "      <th>896</th>\n",
       "      <td>biphasic</td>\n",
       "      <td>100</td>\n",
       "      <td>400.0</td>\n",
       "      <td>4172.79589</td>\n",
       "      <td>4172.79649</td>\n",
       "      <td>2</td>\n",
       "    </tr>\n",
       "    <tr>\n",
       "      <th>897</th>\n",
       "      <td>biphasic</td>\n",
       "      <td>100</td>\n",
       "      <td>400.0</td>\n",
       "      <td>4176.85687</td>\n",
       "      <td>4176.85748</td>\n",
       "      <td>2</td>\n",
       "    </tr>\n",
       "    <tr>\n",
       "      <th>898</th>\n",
       "      <td>biphasic</td>\n",
       "      <td>100</td>\n",
       "      <td>400.0</td>\n",
       "      <td>4181.28689</td>\n",
       "      <td>4181.28750</td>\n",
       "      <td>2</td>\n",
       "    </tr>\n",
       "    <tr>\n",
       "      <th>899</th>\n",
       "      <td>biphasic</td>\n",
       "      <td>50</td>\n",
       "      <td>400.0</td>\n",
       "      <td>4185.48398</td>\n",
       "      <td>4185.48459</td>\n",
       "      <td>2</td>\n",
       "    </tr>\n",
       "  </tbody>\n",
       "</table>\n",
       "<p>900 rows × 6 columns</p>\n",
       "</div>"
      ],
      "text/plain": [
       "    stim_type  amplitude  duration       onset      offset  sweep\n",
       "0    biphasic         50     400.0   134.81231   134.81291      0\n",
       "1    biphasic         20     400.0   138.40947   138.41007      0\n",
       "2    biphasic         50     400.0   142.72804   142.72864      0\n",
       "3    biphasic        100     400.0   147.04601   147.04661      0\n",
       "4    biphasic        100     400.0   151.26887   151.26948      0\n",
       "..        ...        ...       ...         ...         ...    ...\n",
       "895  biphasic         20     400.0  4168.44474  4168.44535      2\n",
       "896  biphasic        100     400.0  4172.79589  4172.79649      2\n",
       "897  biphasic        100     400.0  4176.85687  4176.85748      2\n",
       "898  biphasic        100     400.0  4181.28689  4181.28750      2\n",
       "899  biphasic         50     400.0  4185.48398  4185.48459      2\n",
       "\n",
       "[900 rows x 6 columns]"
      ]
     },
     "execution_count": 4,
     "metadata": {},
     "output_type": "execute_result"
    }
   ],
   "source": [
    "# load stimuli\n",
    "if exp.experiment_type == 'electrical stimulation':\n",
    "    stimuli = pd.read_csv(exp.stimulus_log_file)\n",
    "else:\n",
    "    stimuli = None\n",
    "stimuli"
   ]
  },
  {
   "cell_type": "code",
   "execution_count": 7,
   "metadata": {
    "execution": {
     "iopub.execute_input": "2020-09-22T21:57:48.807607Z",
     "iopub.status.busy": "2020-09-22T21:57:48.806798Z",
     "iopub.status.idle": "2020-09-22T21:57:48.952967Z",
     "shell.execute_reply": "2020-09-22T21:57:48.952432Z",
     "shell.execute_reply.started": "2020-09-22T21:57:48.807497Z"
    }
   },
   "outputs": [
    {
     "data": {
      "application/vnd.jupyter.widget-view+json": {
       "model_id": "f54f024a6ecb40249bb02097d4418bab",
       "version_major": 2,
       "version_minor": 0
      },
      "text/plain": [
       "Canvas(toolbar=Toolbar(toolitems=[('Home', 'Reset original view', 'home', 'home'), ('Back', 'Back to previous …"
      ]
     },
     "metadata": {},
     "output_type": "display_data"
    }
   ],
   "source": [
    "f, ax = plt.subplots(1, 1, figsize=(2, 2), constrained_layout=False)\n",
    "plot_electrode_map(ax, labels=True, s=50)\n",
    "ax.axis('off');"
   ]
  },
  {
   "cell_type": "markdown",
   "metadata": {},
   "source": [
    "---"
   ]
  },
  {
   "cell_type": "markdown",
   "metadata": {},
   "source": [
    "# Extract windows around stimuli"
   ]
  },
  {
   "cell_type": "code",
   "execution_count": 8,
   "metadata": {
    "execution": {
     "iopub.execute_input": "2020-09-22T21:57:50.706844Z",
     "iopub.status.busy": "2020-09-22T21:57:50.705882Z",
     "iopub.status.idle": "2020-09-22T21:57:50.782395Z",
     "shell.execute_reply": "2020-09-22T21:57:50.781919Z",
     "shell.execute_reply.started": "2020-09-22T21:57:50.706691Z"
    }
   },
   "outputs": [
    {
     "data": {
      "application/vnd.jupyter.widget-view+json": {
       "model_id": "52fb6c4aaf4d4439b694b4e2f54c5dbc",
       "version_major": 2,
       "version_minor": 0
      },
      "text/plain": [
       "Canvas(toolbar=Toolbar(toolitems=[('Home', 'Reset original view', 'home', 'home'), ('Back', 'Back to previous …"
      ]
     },
     "metadata": {},
     "output_type": "display_data"
    }
   ],
   "source": [
    "f, ax = plt.subplots(1, 1, figsize=(2.5, 2), tight_layout=True)\n",
    "(stimuli.onset - stimuli.offset.shift(1)).hist(ax=ax, grid=False, bins=np.linspace(3, 5, 41))\n",
    "ax.set_xlabel('inter stimulus interval', fontsize=10);"
   ]
  },
  {
   "cell_type": "code",
   "execution_count": 9,
   "metadata": {
    "execution": {
     "iopub.execute_input": "2020-09-22T21:57:51.306058Z",
     "iopub.status.busy": "2020-09-22T21:57:51.304773Z",
     "iopub.status.idle": "2020-09-22T21:58:15.305088Z",
     "shell.execute_reply": "2020-09-22T21:58:15.304588Z",
     "shell.execute_reply.started": "2020-09-22T21:57:51.305549Z"
    }
   },
   "outputs": [
    {
     "data": {
      "application/vnd.jupyter.widget-view+json": {
       "model_id": "8d5b0671044f4bc9b2b1e9e60cb88da8",
       "version_major": 2,
       "version_minor": 0
      },
      "text/plain": [
       "HBox(children=(FloatProgress(value=0.0, max=32.0), HTML(value='')))"
      ]
     },
     "metadata": {},
     "output_type": "display_data"
    },
    {
     "name": "stdout",
     "output_type": "stream",
     "text": [
      "\n"
     ]
    }
   ],
   "source": [
    "winsize_s = 1.5 # response dies down within 1 sec typically, so this is a decent pre and post window size\n",
    "\n",
    "# in addition to responses, also assign epochs to windows\n",
    "win_epochs = epochs.reindex(stimuli.onset, method='nearest').rename(('epoch', ''))\n",
    "win_epochs.index = stimuli.index\n",
    "\n",
    "def get_windows(col):\n",
    "    index = pd.Index(np.linspace(-winsize_s, winsize_s, int(winsize_s*2*sample_rate+1)))\n",
    "    responses = {}\n",
    "    for stim_i in stimuli.index:\n",
    "        responses[stim_i] = col.loc[stimuli.onset[stim_i] - winsize_s:stimuli.onset[stim_i] + winsize_s]\n",
    "        responses[stim_i].index = responses[stim_i].index - stimuli.onset[stim_i]\n",
    "        responses[stim_i] = responses[stim_i].reindex(index, method='nearest')\n",
    "    return pd.concat(responses)\n",
    "\n",
    "responses = eegdata.progress_apply(get_windows).unstack()"
   ]
  },
  {
   "cell_type": "markdown",
   "metadata": {},
   "source": [
    "# Mean responses across electrodes\n",
    "* why do the response directions of the frontal electrodes flip with increasing stimulus strength?\n",
    "* The response amplitude (and shape) of frontal electrodes (especially left) is very mildly affected by anesthesia state – perhaps they are not useful in quantifying brain state?\n",
    "* Amplitude is largest for pre-anesthesia, smallest for anesthetized state\n",
    "* Post-stimulus minima is nearly (completely) absent in anesthetized state"
   ]
  },
  {
   "cell_type": "code",
   "execution_count": 10,
   "metadata": {
    "execution": {
     "iopub.execute_input": "2020-09-22T21:58:15.306201Z",
     "iopub.status.busy": "2020-09-22T21:58:15.305984Z",
     "iopub.status.idle": "2020-09-22T21:58:16.894684Z",
     "shell.execute_reply": "2020-09-22T21:58:16.894233Z",
     "shell.execute_reply.started": "2020-09-22T21:58:15.306140Z"
    }
   },
   "outputs": [
    {
     "data": {
      "application/vnd.jupyter.widget-view+json": {
       "model_id": "441405a6f24e4018a4ec889255a136c4",
       "version_major": 2,
       "version_minor": 0
      },
      "text/plain": [
       "Canvas(toolbar=Toolbar(toolitems=[('Home', 'Reset original view', 'home', 'home'), ('Back', 'Back to previous …"
      ]
     },
     "metadata": {},
     "output_type": "display_data"
    },
    {
     "name": "stderr",
     "output_type": "stream",
     "text": [
      "/home/saurabh.gandhi/Projects/.env_zz/lib/python3.7/site-packages/pandas/plotting/_matplotlib/tools.py:307: MatplotlibDeprecationWarning: \n",
      "The rowNum attribute was deprecated in Matplotlib 3.2 and will be removed two minor releases later. Use ax.get_subplotspec().rowspan.start instead.\n",
      "  layout[ax.rowNum, ax.colNum] = ax.get_visible()\n",
      "/home/saurabh.gandhi/Projects/.env_zz/lib/python3.7/site-packages/pandas/plotting/_matplotlib/tools.py:307: MatplotlibDeprecationWarning: \n",
      "The colNum attribute was deprecated in Matplotlib 3.2 and will be removed two minor releases later. Use ax.get_subplotspec().colspan.start instead.\n",
      "  layout[ax.rowNum, ax.colNum] = ax.get_visible()\n",
      "/home/saurabh.gandhi/Projects/.env_zz/lib/python3.7/site-packages/pandas/plotting/_matplotlib/tools.py:313: MatplotlibDeprecationWarning: \n",
      "The rowNum attribute was deprecated in Matplotlib 3.2 and will be removed two minor releases later. Use ax.get_subplotspec().rowspan.start instead.\n",
      "  if not layout[ax.rowNum + 1, ax.colNum]:\n",
      "/home/saurabh.gandhi/Projects/.env_zz/lib/python3.7/site-packages/pandas/plotting/_matplotlib/tools.py:313: MatplotlibDeprecationWarning: \n",
      "The colNum attribute was deprecated in Matplotlib 3.2 and will be removed two minor releases later. Use ax.get_subplotspec().colspan.start instead.\n",
      "  if not layout[ax.rowNum + 1, ax.colNum]:\n",
      "/home/saurabh.gandhi/Projects/.env_zz/lib/python3.7/site-packages/pandas/plotting/_matplotlib/tools.py:307: MatplotlibDeprecationWarning: \n",
      "The rowNum attribute was deprecated in Matplotlib 3.2 and will be removed two minor releases later. Use ax.get_subplotspec().rowspan.start instead.\n",
      "  layout[ax.rowNum, ax.colNum] = ax.get_visible()\n",
      "/home/saurabh.gandhi/Projects/.env_zz/lib/python3.7/site-packages/pandas/plotting/_matplotlib/tools.py:307: MatplotlibDeprecationWarning: \n",
      "The colNum attribute was deprecated in Matplotlib 3.2 and will be removed two minor releases later. Use ax.get_subplotspec().colspan.start instead.\n",
      "  layout[ax.rowNum, ax.colNum] = ax.get_visible()\n",
      "/home/saurabh.gandhi/Projects/.env_zz/lib/python3.7/site-packages/pandas/plotting/_matplotlib/tools.py:313: MatplotlibDeprecationWarning: \n",
      "The rowNum attribute was deprecated in Matplotlib 3.2 and will be removed two minor releases later. Use ax.get_subplotspec().rowspan.start instead.\n",
      "  if not layout[ax.rowNum + 1, ax.colNum]:\n",
      "/home/saurabh.gandhi/Projects/.env_zz/lib/python3.7/site-packages/pandas/plotting/_matplotlib/tools.py:313: MatplotlibDeprecationWarning: \n",
      "The colNum attribute was deprecated in Matplotlib 3.2 and will be removed two minor releases later. Use ax.get_subplotspec().colspan.start instead.\n",
      "  if not layout[ax.rowNum + 1, ax.colNum]:\n",
      "/home/saurabh.gandhi/Projects/.env_zz/lib/python3.7/site-packages/pandas/plotting/_matplotlib/tools.py:307: MatplotlibDeprecationWarning: \n",
      "The rowNum attribute was deprecated in Matplotlib 3.2 and will be removed two minor releases later. Use ax.get_subplotspec().rowspan.start instead.\n",
      "  layout[ax.rowNum, ax.colNum] = ax.get_visible()\n",
      "/home/saurabh.gandhi/Projects/.env_zz/lib/python3.7/site-packages/pandas/plotting/_matplotlib/tools.py:307: MatplotlibDeprecationWarning: \n",
      "The colNum attribute was deprecated in Matplotlib 3.2 and will be removed two minor releases later. Use ax.get_subplotspec().colspan.start instead.\n",
      "  layout[ax.rowNum, ax.colNum] = ax.get_visible()\n",
      "/home/saurabh.gandhi/Projects/.env_zz/lib/python3.7/site-packages/pandas/plotting/_matplotlib/tools.py:313: MatplotlibDeprecationWarning: \n",
      "The rowNum attribute was deprecated in Matplotlib 3.2 and will be removed two minor releases later. Use ax.get_subplotspec().rowspan.start instead.\n",
      "  if not layout[ax.rowNum + 1, ax.colNum]:\n",
      "/home/saurabh.gandhi/Projects/.env_zz/lib/python3.7/site-packages/pandas/plotting/_matplotlib/tools.py:313: MatplotlibDeprecationWarning: \n",
      "The colNum attribute was deprecated in Matplotlib 3.2 and will be removed two minor releases later. Use ax.get_subplotspec().colspan.start instead.\n",
      "  if not layout[ax.rowNum + 1, ax.colNum]:\n",
      "/home/saurabh.gandhi/Projects/.env_zz/lib/python3.7/site-packages/pandas/plotting/_matplotlib/tools.py:307: MatplotlibDeprecationWarning: \n",
      "The rowNum attribute was deprecated in Matplotlib 3.2 and will be removed two minor releases later. Use ax.get_subplotspec().rowspan.start instead.\n",
      "  layout[ax.rowNum, ax.colNum] = ax.get_visible()\n",
      "/home/saurabh.gandhi/Projects/.env_zz/lib/python3.7/site-packages/pandas/plotting/_matplotlib/tools.py:307: MatplotlibDeprecationWarning: \n",
      "The colNum attribute was deprecated in Matplotlib 3.2 and will be removed two minor releases later. Use ax.get_subplotspec().colspan.start instead.\n",
      "  layout[ax.rowNum, ax.colNum] = ax.get_visible()\n",
      "/home/saurabh.gandhi/Projects/.env_zz/lib/python3.7/site-packages/pandas/plotting/_matplotlib/tools.py:313: MatplotlibDeprecationWarning: \n",
      "The rowNum attribute was deprecated in Matplotlib 3.2 and will be removed two minor releases later. Use ax.get_subplotspec().rowspan.start instead.\n",
      "  if not layout[ax.rowNum + 1, ax.colNum]:\n",
      "/home/saurabh.gandhi/Projects/.env_zz/lib/python3.7/site-packages/pandas/plotting/_matplotlib/tools.py:313: MatplotlibDeprecationWarning: \n",
      "The colNum attribute was deprecated in Matplotlib 3.2 and will be removed two minor releases later. Use ax.get_subplotspec().colspan.start instead.\n",
      "  if not layout[ax.rowNum + 1, ax.colNum]:\n",
      "/home/saurabh.gandhi/Projects/.env_zz/lib/python3.7/site-packages/pandas/plotting/_matplotlib/tools.py:307: MatplotlibDeprecationWarning: \n",
      "The rowNum attribute was deprecated in Matplotlib 3.2 and will be removed two minor releases later. Use ax.get_subplotspec().rowspan.start instead.\n",
      "  layout[ax.rowNum, ax.colNum] = ax.get_visible()\n",
      "/home/saurabh.gandhi/Projects/.env_zz/lib/python3.7/site-packages/pandas/plotting/_matplotlib/tools.py:307: MatplotlibDeprecationWarning: \n",
      "The colNum attribute was deprecated in Matplotlib 3.2 and will be removed two minor releases later. Use ax.get_subplotspec().colspan.start instead.\n",
      "  layout[ax.rowNum, ax.colNum] = ax.get_visible()\n",
      "/home/saurabh.gandhi/Projects/.env_zz/lib/python3.7/site-packages/pandas/plotting/_matplotlib/tools.py:313: MatplotlibDeprecationWarning: \n",
      "The rowNum attribute was deprecated in Matplotlib 3.2 and will be removed two minor releases later. Use ax.get_subplotspec().rowspan.start instead.\n",
      "  if not layout[ax.rowNum + 1, ax.colNum]:\n",
      "/home/saurabh.gandhi/Projects/.env_zz/lib/python3.7/site-packages/pandas/plotting/_matplotlib/tools.py:313: MatplotlibDeprecationWarning: \n",
      "The colNum attribute was deprecated in Matplotlib 3.2 and will be removed two minor releases later. Use ax.get_subplotspec().colspan.start instead.\n",
      "  if not layout[ax.rowNum + 1, ax.colNum]:\n",
      "/home/saurabh.gandhi/Projects/.env_zz/lib/python3.7/site-packages/pandas/plotting/_matplotlib/tools.py:307: MatplotlibDeprecationWarning: \n",
      "The rowNum attribute was deprecated in Matplotlib 3.2 and will be removed two minor releases later. Use ax.get_subplotspec().rowspan.start instead.\n",
      "  layout[ax.rowNum, ax.colNum] = ax.get_visible()\n",
      "/home/saurabh.gandhi/Projects/.env_zz/lib/python3.7/site-packages/pandas/plotting/_matplotlib/tools.py:307: MatplotlibDeprecationWarning: \n",
      "The colNum attribute was deprecated in Matplotlib 3.2 and will be removed two minor releases later. Use ax.get_subplotspec().colspan.start instead.\n",
      "  layout[ax.rowNum, ax.colNum] = ax.get_visible()\n",
      "/home/saurabh.gandhi/Projects/.env_zz/lib/python3.7/site-packages/pandas/plotting/_matplotlib/tools.py:313: MatplotlibDeprecationWarning: \n",
      "The rowNum attribute was deprecated in Matplotlib 3.2 and will be removed two minor releases later. Use ax.get_subplotspec().rowspan.start instead.\n",
      "  if not layout[ax.rowNum + 1, ax.colNum]:\n",
      "/home/saurabh.gandhi/Projects/.env_zz/lib/python3.7/site-packages/pandas/plotting/_matplotlib/tools.py:313: MatplotlibDeprecationWarning: \n",
      "The colNum attribute was deprecated in Matplotlib 3.2 and will be removed two minor releases later. Use ax.get_subplotspec().colspan.start instead.\n",
      "  if not layout[ax.rowNum + 1, ax.colNum]:\n",
      "/home/saurabh.gandhi/Projects/.env_zz/lib/python3.7/site-packages/pandas/plotting/_matplotlib/tools.py:307: MatplotlibDeprecationWarning: \n",
      "The rowNum attribute was deprecated in Matplotlib 3.2 and will be removed two minor releases later. Use ax.get_subplotspec().rowspan.start instead.\n",
      "  layout[ax.rowNum, ax.colNum] = ax.get_visible()\n",
      "/home/saurabh.gandhi/Projects/.env_zz/lib/python3.7/site-packages/pandas/plotting/_matplotlib/tools.py:307: MatplotlibDeprecationWarning: \n",
      "The colNum attribute was deprecated in Matplotlib 3.2 and will be removed two minor releases later. Use ax.get_subplotspec().colspan.start instead.\n",
      "  layout[ax.rowNum, ax.colNum] = ax.get_visible()\n",
      "/home/saurabh.gandhi/Projects/.env_zz/lib/python3.7/site-packages/pandas/plotting/_matplotlib/tools.py:313: MatplotlibDeprecationWarning: \n",
      "The rowNum attribute was deprecated in Matplotlib 3.2 and will be removed two minor releases later. Use ax.get_subplotspec().rowspan.start instead.\n",
      "  if not layout[ax.rowNum + 1, ax.colNum]:\n",
      "/home/saurabh.gandhi/Projects/.env_zz/lib/python3.7/site-packages/pandas/plotting/_matplotlib/tools.py:313: MatplotlibDeprecationWarning: \n",
      "The colNum attribute was deprecated in Matplotlib 3.2 and will be removed two minor releases later. Use ax.get_subplotspec().colspan.start instead.\n",
      "  if not layout[ax.rowNum + 1, ax.colNum]:\n",
      "/home/saurabh.gandhi/Projects/.env_zz/lib/python3.7/site-packages/pandas/plotting/_matplotlib/tools.py:307: MatplotlibDeprecationWarning: \n",
      "The rowNum attribute was deprecated in Matplotlib 3.2 and will be removed two minor releases later. Use ax.get_subplotspec().rowspan.start instead.\n",
      "  layout[ax.rowNum, ax.colNum] = ax.get_visible()\n",
      "/home/saurabh.gandhi/Projects/.env_zz/lib/python3.7/site-packages/pandas/plotting/_matplotlib/tools.py:307: MatplotlibDeprecationWarning: \n",
      "The colNum attribute was deprecated in Matplotlib 3.2 and will be removed two minor releases later. Use ax.get_subplotspec().colspan.start instead.\n",
      "  layout[ax.rowNum, ax.colNum] = ax.get_visible()\n",
      "/home/saurabh.gandhi/Projects/.env_zz/lib/python3.7/site-packages/pandas/plotting/_matplotlib/tools.py:313: MatplotlibDeprecationWarning: \n",
      "The rowNum attribute was deprecated in Matplotlib 3.2 and will be removed two minor releases later. Use ax.get_subplotspec().rowspan.start instead.\n",
      "  if not layout[ax.rowNum + 1, ax.colNum]:\n",
      "/home/saurabh.gandhi/Projects/.env_zz/lib/python3.7/site-packages/pandas/plotting/_matplotlib/tools.py:313: MatplotlibDeprecationWarning: \n",
      "The colNum attribute was deprecated in Matplotlib 3.2 and will be removed two minor releases later. Use ax.get_subplotspec().colspan.start instead.\n",
      "  if not layout[ax.rowNum + 1, ax.colNum]:\n",
      "/home/saurabh.gandhi/Projects/.env_zz/lib/python3.7/site-packages/pandas/plotting/_matplotlib/tools.py:307: MatplotlibDeprecationWarning: \n",
      "The rowNum attribute was deprecated in Matplotlib 3.2 and will be removed two minor releases later. Use ax.get_subplotspec().rowspan.start instead.\n",
      "  layout[ax.rowNum, ax.colNum] = ax.get_visible()\n",
      "/home/saurabh.gandhi/Projects/.env_zz/lib/python3.7/site-packages/pandas/plotting/_matplotlib/tools.py:307: MatplotlibDeprecationWarning: \n",
      "The colNum attribute was deprecated in Matplotlib 3.2 and will be removed two minor releases later. Use ax.get_subplotspec().colspan.start instead.\n",
      "  layout[ax.rowNum, ax.colNum] = ax.get_visible()\n",
      "/home/saurabh.gandhi/Projects/.env_zz/lib/python3.7/site-packages/pandas/plotting/_matplotlib/tools.py:313: MatplotlibDeprecationWarning: \n",
      "The rowNum attribute was deprecated in Matplotlib 3.2 and will be removed two minor releases later. Use ax.get_subplotspec().rowspan.start instead.\n",
      "  if not layout[ax.rowNum + 1, ax.colNum]:\n",
      "/home/saurabh.gandhi/Projects/.env_zz/lib/python3.7/site-packages/pandas/plotting/_matplotlib/tools.py:313: MatplotlibDeprecationWarning: \n",
      "The colNum attribute was deprecated in Matplotlib 3.2 and will be removed two minor releases later. Use ax.get_subplotspec().colspan.start instead.\n",
      "  if not layout[ax.rowNum + 1, ax.colNum]:\n",
      "/home/saurabh.gandhi/Projects/.env_zz/lib/python3.7/site-packages/pandas/plotting/_matplotlib/tools.py:307: MatplotlibDeprecationWarning: \n",
      "The rowNum attribute was deprecated in Matplotlib 3.2 and will be removed two minor releases later. Use ax.get_subplotspec().rowspan.start instead.\n",
      "  layout[ax.rowNum, ax.colNum] = ax.get_visible()\n",
      "/home/saurabh.gandhi/Projects/.env_zz/lib/python3.7/site-packages/pandas/plotting/_matplotlib/tools.py:307: MatplotlibDeprecationWarning: \n",
      "The colNum attribute was deprecated in Matplotlib 3.2 and will be removed two minor releases later. Use ax.get_subplotspec().colspan.start instead.\n",
      "  layout[ax.rowNum, ax.colNum] = ax.get_visible()\n",
      "/home/saurabh.gandhi/Projects/.env_zz/lib/python3.7/site-packages/pandas/plotting/_matplotlib/tools.py:313: MatplotlibDeprecationWarning: \n",
      "The rowNum attribute was deprecated in Matplotlib 3.2 and will be removed two minor releases later. Use ax.get_subplotspec().rowspan.start instead.\n",
      "  if not layout[ax.rowNum + 1, ax.colNum]:\n",
      "/home/saurabh.gandhi/Projects/.env_zz/lib/python3.7/site-packages/pandas/plotting/_matplotlib/tools.py:313: MatplotlibDeprecationWarning: \n",
      "The colNum attribute was deprecated in Matplotlib 3.2 and will be removed two minor releases later. Use ax.get_subplotspec().colspan.start instead.\n",
      "  if not layout[ax.rowNum + 1, ax.colNum]:\n",
      "/home/saurabh.gandhi/Projects/.env_zz/lib/python3.7/site-packages/pandas/plotting/_matplotlib/tools.py:307: MatplotlibDeprecationWarning: \n",
      "The rowNum attribute was deprecated in Matplotlib 3.2 and will be removed two minor releases later. Use ax.get_subplotspec().rowspan.start instead.\n",
      "  layout[ax.rowNum, ax.colNum] = ax.get_visible()\n",
      "/home/saurabh.gandhi/Projects/.env_zz/lib/python3.7/site-packages/pandas/plotting/_matplotlib/tools.py:307: MatplotlibDeprecationWarning: \n",
      "The colNum attribute was deprecated in Matplotlib 3.2 and will be removed two minor releases later. Use ax.get_subplotspec().colspan.start instead.\n",
      "  layout[ax.rowNum, ax.colNum] = ax.get_visible()\n",
      "/home/saurabh.gandhi/Projects/.env_zz/lib/python3.7/site-packages/pandas/plotting/_matplotlib/tools.py:313: MatplotlibDeprecationWarning: \n",
      "The rowNum attribute was deprecated in Matplotlib 3.2 and will be removed two minor releases later. Use ax.get_subplotspec().rowspan.start instead.\n",
      "  if not layout[ax.rowNum + 1, ax.colNum]:\n",
      "/home/saurabh.gandhi/Projects/.env_zz/lib/python3.7/site-packages/pandas/plotting/_matplotlib/tools.py:313: MatplotlibDeprecationWarning: \n",
      "The colNum attribute was deprecated in Matplotlib 3.2 and will be removed two minor releases later. Use ax.get_subplotspec().colspan.start instead.\n",
      "  if not layout[ax.rowNum + 1, ax.colNum]:\n",
      "/home/saurabh.gandhi/Projects/.env_zz/lib/python3.7/site-packages/pandas/plotting/_matplotlib/tools.py:307: MatplotlibDeprecationWarning: \n",
      "The rowNum attribute was deprecated in Matplotlib 3.2 and will be removed two minor releases later. Use ax.get_subplotspec().rowspan.start instead.\n",
      "  layout[ax.rowNum, ax.colNum] = ax.get_visible()\n",
      "/home/saurabh.gandhi/Projects/.env_zz/lib/python3.7/site-packages/pandas/plotting/_matplotlib/tools.py:307: MatplotlibDeprecationWarning: \n",
      "The colNum attribute was deprecated in Matplotlib 3.2 and will be removed two minor releases later. Use ax.get_subplotspec().colspan.start instead.\n",
      "  layout[ax.rowNum, ax.colNum] = ax.get_visible()\n",
      "/home/saurabh.gandhi/Projects/.env_zz/lib/python3.7/site-packages/pandas/plotting/_matplotlib/tools.py:313: MatplotlibDeprecationWarning: \n",
      "The rowNum attribute was deprecated in Matplotlib 3.2 and will be removed two minor releases later. Use ax.get_subplotspec().rowspan.start instead.\n",
      "  if not layout[ax.rowNum + 1, ax.colNum]:\n",
      "/home/saurabh.gandhi/Projects/.env_zz/lib/python3.7/site-packages/pandas/plotting/_matplotlib/tools.py:313: MatplotlibDeprecationWarning: \n",
      "The colNum attribute was deprecated in Matplotlib 3.2 and will be removed two minor releases later. Use ax.get_subplotspec().colspan.start instead.\n",
      "  if not layout[ax.rowNum + 1, ax.colNum]:\n",
      "/home/saurabh.gandhi/Projects/.env_zz/lib/python3.7/site-packages/pandas/plotting/_matplotlib/tools.py:307: MatplotlibDeprecationWarning: \n",
      "The rowNum attribute was deprecated in Matplotlib 3.2 and will be removed two minor releases later. Use ax.get_subplotspec().rowspan.start instead.\n",
      "  layout[ax.rowNum, ax.colNum] = ax.get_visible()\n",
      "/home/saurabh.gandhi/Projects/.env_zz/lib/python3.7/site-packages/pandas/plotting/_matplotlib/tools.py:307: MatplotlibDeprecationWarning: \n",
      "The colNum attribute was deprecated in Matplotlib 3.2 and will be removed two minor releases later. Use ax.get_subplotspec().colspan.start instead.\n",
      "  layout[ax.rowNum, ax.colNum] = ax.get_visible()\n",
      "/home/saurabh.gandhi/Projects/.env_zz/lib/python3.7/site-packages/pandas/plotting/_matplotlib/tools.py:313: MatplotlibDeprecationWarning: \n",
      "The rowNum attribute was deprecated in Matplotlib 3.2 and will be removed two minor releases later. Use ax.get_subplotspec().rowspan.start instead.\n",
      "  if not layout[ax.rowNum + 1, ax.colNum]:\n",
      "/home/saurabh.gandhi/Projects/.env_zz/lib/python3.7/site-packages/pandas/plotting/_matplotlib/tools.py:313: MatplotlibDeprecationWarning: \n",
      "The colNum attribute was deprecated in Matplotlib 3.2 and will be removed two minor releases later. Use ax.get_subplotspec().colspan.start instead.\n",
      "  if not layout[ax.rowNum + 1, ax.colNum]:\n",
      "/home/saurabh.gandhi/Projects/.env_zz/lib/python3.7/site-packages/pandas/plotting/_matplotlib/tools.py:307: MatplotlibDeprecationWarning: \n",
      "The rowNum attribute was deprecated in Matplotlib 3.2 and will be removed two minor releases later. Use ax.get_subplotspec().rowspan.start instead.\n",
      "  layout[ax.rowNum, ax.colNum] = ax.get_visible()\n",
      "/home/saurabh.gandhi/Projects/.env_zz/lib/python3.7/site-packages/pandas/plotting/_matplotlib/tools.py:307: MatplotlibDeprecationWarning: \n",
      "The colNum attribute was deprecated in Matplotlib 3.2 and will be removed two minor releases later. Use ax.get_subplotspec().colspan.start instead.\n",
      "  layout[ax.rowNum, ax.colNum] = ax.get_visible()\n",
      "/home/saurabh.gandhi/Projects/.env_zz/lib/python3.7/site-packages/pandas/plotting/_matplotlib/tools.py:313: MatplotlibDeprecationWarning: \n",
      "The rowNum attribute was deprecated in Matplotlib 3.2 and will be removed two minor releases later. Use ax.get_subplotspec().rowspan.start instead.\n",
      "  if not layout[ax.rowNum + 1, ax.colNum]:\n",
      "/home/saurabh.gandhi/Projects/.env_zz/lib/python3.7/site-packages/pandas/plotting/_matplotlib/tools.py:313: MatplotlibDeprecationWarning: \n",
      "The colNum attribute was deprecated in Matplotlib 3.2 and will be removed two minor releases later. Use ax.get_subplotspec().colspan.start instead.\n",
      "  if not layout[ax.rowNum + 1, ax.colNum]:\n",
      "/home/saurabh.gandhi/Projects/.env_zz/lib/python3.7/site-packages/pandas/plotting/_matplotlib/tools.py:307: MatplotlibDeprecationWarning: \n",
      "The rowNum attribute was deprecated in Matplotlib 3.2 and will be removed two minor releases later. Use ax.get_subplotspec().rowspan.start instead.\n",
      "  layout[ax.rowNum, ax.colNum] = ax.get_visible()\n",
      "/home/saurabh.gandhi/Projects/.env_zz/lib/python3.7/site-packages/pandas/plotting/_matplotlib/tools.py:307: MatplotlibDeprecationWarning: \n",
      "The colNum attribute was deprecated in Matplotlib 3.2 and will be removed two minor releases later. Use ax.get_subplotspec().colspan.start instead.\n",
      "  layout[ax.rowNum, ax.colNum] = ax.get_visible()\n",
      "/home/saurabh.gandhi/Projects/.env_zz/lib/python3.7/site-packages/pandas/plotting/_matplotlib/tools.py:313: MatplotlibDeprecationWarning: \n",
      "The rowNum attribute was deprecated in Matplotlib 3.2 and will be removed two minor releases later. Use ax.get_subplotspec().rowspan.start instead.\n",
      "  if not layout[ax.rowNum + 1, ax.colNum]:\n",
      "/home/saurabh.gandhi/Projects/.env_zz/lib/python3.7/site-packages/pandas/plotting/_matplotlib/tools.py:313: MatplotlibDeprecationWarning: \n",
      "The colNum attribute was deprecated in Matplotlib 3.2 and will be removed two minor releases later. Use ax.get_subplotspec().colspan.start instead.\n",
      "  if not layout[ax.rowNum + 1, ax.colNum]:\n",
      "/home/saurabh.gandhi/Projects/.env_zz/lib/python3.7/site-packages/pandas/plotting/_matplotlib/tools.py:307: MatplotlibDeprecationWarning: \n",
      "The rowNum attribute was deprecated in Matplotlib 3.2 and will be removed two minor releases later. Use ax.get_subplotspec().rowspan.start instead.\n",
      "  layout[ax.rowNum, ax.colNum] = ax.get_visible()\n",
      "/home/saurabh.gandhi/Projects/.env_zz/lib/python3.7/site-packages/pandas/plotting/_matplotlib/tools.py:307: MatplotlibDeprecationWarning: \n",
      "The colNum attribute was deprecated in Matplotlib 3.2 and will be removed two minor releases later. Use ax.get_subplotspec().colspan.start instead.\n",
      "  layout[ax.rowNum, ax.colNum] = ax.get_visible()\n",
      "/home/saurabh.gandhi/Projects/.env_zz/lib/python3.7/site-packages/pandas/plotting/_matplotlib/tools.py:313: MatplotlibDeprecationWarning: \n",
      "The rowNum attribute was deprecated in Matplotlib 3.2 and will be removed two minor releases later. Use ax.get_subplotspec().rowspan.start instead.\n",
      "  if not layout[ax.rowNum + 1, ax.colNum]:\n",
      "/home/saurabh.gandhi/Projects/.env_zz/lib/python3.7/site-packages/pandas/plotting/_matplotlib/tools.py:313: MatplotlibDeprecationWarning: \n",
      "The colNum attribute was deprecated in Matplotlib 3.2 and will be removed two minor releases later. Use ax.get_subplotspec().colspan.start instead.\n",
      "  if not layout[ax.rowNum + 1, ax.colNum]:\n",
      "/home/saurabh.gandhi/Projects/.env_zz/lib/python3.7/site-packages/pandas/plotting/_matplotlib/tools.py:307: MatplotlibDeprecationWarning: \n",
      "The rowNum attribute was deprecated in Matplotlib 3.2 and will be removed two minor releases later. Use ax.get_subplotspec().rowspan.start instead.\n",
      "  layout[ax.rowNum, ax.colNum] = ax.get_visible()\n",
      "/home/saurabh.gandhi/Projects/.env_zz/lib/python3.7/site-packages/pandas/plotting/_matplotlib/tools.py:307: MatplotlibDeprecationWarning: \n",
      "The colNum attribute was deprecated in Matplotlib 3.2 and will be removed two minor releases later. Use ax.get_subplotspec().colspan.start instead.\n",
      "  layout[ax.rowNum, ax.colNum] = ax.get_visible()\n",
      "/home/saurabh.gandhi/Projects/.env_zz/lib/python3.7/site-packages/pandas/plotting/_matplotlib/tools.py:313: MatplotlibDeprecationWarning: \n",
      "The rowNum attribute was deprecated in Matplotlib 3.2 and will be removed two minor releases later. Use ax.get_subplotspec().rowspan.start instead.\n",
      "  if not layout[ax.rowNum + 1, ax.colNum]:\n",
      "/home/saurabh.gandhi/Projects/.env_zz/lib/python3.7/site-packages/pandas/plotting/_matplotlib/tools.py:313: MatplotlibDeprecationWarning: \n",
      "The colNum attribute was deprecated in Matplotlib 3.2 and will be removed two minor releases later. Use ax.get_subplotspec().colspan.start instead.\n",
      "  if not layout[ax.rowNum + 1, ax.colNum]:\n",
      "/home/saurabh.gandhi/Projects/.env_zz/lib/python3.7/site-packages/pandas/plotting/_matplotlib/tools.py:307: MatplotlibDeprecationWarning: \n",
      "The rowNum attribute was deprecated in Matplotlib 3.2 and will be removed two minor releases later. Use ax.get_subplotspec().rowspan.start instead.\n",
      "  layout[ax.rowNum, ax.colNum] = ax.get_visible()\n",
      "/home/saurabh.gandhi/Projects/.env_zz/lib/python3.7/site-packages/pandas/plotting/_matplotlib/tools.py:307: MatplotlibDeprecationWarning: \n",
      "The colNum attribute was deprecated in Matplotlib 3.2 and will be removed two minor releases later. Use ax.get_subplotspec().colspan.start instead.\n",
      "  layout[ax.rowNum, ax.colNum] = ax.get_visible()\n",
      "/home/saurabh.gandhi/Projects/.env_zz/lib/python3.7/site-packages/pandas/plotting/_matplotlib/tools.py:313: MatplotlibDeprecationWarning: \n",
      "The rowNum attribute was deprecated in Matplotlib 3.2 and will be removed two minor releases later. Use ax.get_subplotspec().rowspan.start instead.\n",
      "  if not layout[ax.rowNum + 1, ax.colNum]:\n",
      "/home/saurabh.gandhi/Projects/.env_zz/lib/python3.7/site-packages/pandas/plotting/_matplotlib/tools.py:313: MatplotlibDeprecationWarning: \n",
      "The colNum attribute was deprecated in Matplotlib 3.2 and will be removed two minor releases later. Use ax.get_subplotspec().colspan.start instead.\n",
      "  if not layout[ax.rowNum + 1, ax.colNum]:\n"
     ]
    }
   ],
   "source": [
    "def plot_mean_response(col, ax, cmap=cm.Paired, alpha=0.8):\n",
    "    try:\n",
    "        c = cmap(exp.ch_coordinates.gid[col.name]/11, alpha)\n",
    "        cb = cmap(exp.ch_coordinates.gid[col.name]/11, 0.05)\n",
    "    except:\n",
    "        return\n",
    "    col = col.unstack()\n",
    "    mn, sd = col.mean(), col.std()\n",
    "    mn.plot(ax=ax, c=c, legend=False)\n",
    "    ax.fill_between(mn.index.astype(float), (mn-sd).values, (mn+sd).values, color=cb)\n",
    "    return\n",
    "\n",
    "def plot_mean_response_df(df, ax=None, title=None):\n",
    "    if ax is None:\n",
    "        f, (ax, axm) = plt.subplots(1, 2, figsize=(8, 2.5), gridspec_kw=dict(width_ratios=[3, 1]), tight_layout=True)\n",
    "        plot_electrode_map(axm, labels=False)\n",
    "        axm.axis('off')\n",
    "    if title is None:\n",
    "        title = f'amplitude: {df.name}'\n",
    "    df.stack().apply(plot_mean_response, args=(ax,))\n",
    "    ax.set_title(title)\n",
    "    ax.set_xlim(xmin=-0.25)\n",
    "    return ax\n",
    "\n",
    "f, axes = plt.subplots(3, 3, figsize=(9, 5), tight_layout=True, sharex=True, sharey=False)\n",
    "_responses = responses.join(\n",
    "    pd.concat([\n",
    "        stimuli.amplitude.rename(('amplitude', '')),\n",
    "        win_epochs\n",
    "    ], axis=1)\n",
    ")\n",
    "\n",
    "for axe, amp in zip(axes, set(_responses.amplitude)):\n",
    "    ax.get_shared_y_axes().join(*axe)\n",
    "    for ax, ep in zip(axe, set(_responses.epoch)):\n",
    "        if ep in ['iso_high', 'early_recovery']:\n",
    "            continue\n",
    "        title = ''\n",
    "        if ax in axes[0]:\n",
    "            title = f'{ep}'\n",
    "        if ax in axes[:, 0]:\n",
    "            ax.set_ylabel(f'amplitude {amp}')\n",
    "        plot_mean_response_df(\n",
    "            _responses[(_responses.amplitude==amp)&(_responses.epoch==ep)].drop(['epoch', 'amplitude'], axis=1)[[10, 11]],\n",
    "            ax=ax, title=title\n",
    "        )"
   ]
  },
  {
   "cell_type": "markdown",
   "metadata": {},
   "source": [
    "# How consistent are individual responses?\n",
    "We will use similarity clustering to evaluate this."
   ]
  },
  {
   "cell_type": "markdown",
   "metadata": {},
   "source": [
    "## Test similarity metric\n",
    "Compare cosine and correlation to determine which one to use"
   ]
  },
  {
   "cell_type": "code",
   "execution_count": 27,
   "metadata": {
    "execution": {
     "iopub.execute_input": "2020-09-22T22:06:49.160113Z",
     "iopub.status.busy": "2020-09-22T22:06:49.159187Z",
     "iopub.status.idle": "2020-09-22T22:06:49.195289Z",
     "shell.execute_reply": "2020-09-22T22:06:49.194572Z",
     "shell.execute_reply.started": "2020-09-22T22:06:49.159989Z"
    }
   },
   "outputs": [],
   "source": [
    "def plot_features_similarity(features, similarity):\n",
    "    f, axes = plt.subplots(\n",
    "        1, 3, figsize=(9, 3), sharey=True, tight_layout=True,\n",
    "        gridspec_kw=dict(width_ratios=[2, 1, 0.05])\n",
    "    )\n",
    "    simclus.plot_features_similarity(\n",
    "        features, similarity, axes[:2],\n",
    "        extent=[features.columns[0], features.columns[-1], 0, len(features)]\n",
    "    )\n",
    "    if 'clusters' in similarity.columns:\n",
    "        im = axes[2].imshow(win_epochs.cat.codes[\n",
    "            similarity.sort_values('clusters').index\n",
    "        ].values[:, np.newaxis], aspect='auto', cmap=cm.Greys)\n",
    "    else:\n",
    "        im = axes[2].imshow(win_epochs.cat.codes[\n",
    "            similarity.index\n",
    "        ].values[:, np.newaxis], aspect='auto', cmap=cm.Greys)\n",
    "    axes[2].axis('off')\n",
    "    return axes"
   ]
  },
  {
   "cell_type": "code",
   "execution_count": 29,
   "metadata": {
    "execution": {
     "iopub.execute_input": "2020-09-22T22:07:52.354414Z",
     "iopub.status.busy": "2020-09-22T22:07:52.353992Z",
     "iopub.status.idle": "2020-09-22T22:07:54.678035Z",
     "shell.execute_reply": "2020-09-22T22:07:54.677510Z",
     "shell.execute_reply.started": "2020-09-22T22:07:52.354358Z"
    }
   },
   "outputs": [
    {
     "name": "stdout",
     "output_type": "stream",
     "text": [
      "# clusters changed from 3 to 3.\n"
     ]
    },
    {
     "data": {
      "application/vnd.jupyter.widget-view+json": {
       "model_id": "3713a840de294b54a62c8a444d635467",
       "version_major": 2,
       "version_minor": 0
      },
      "text/plain": [
       "Canvas(toolbar=Toolbar(toolitems=[('Home', 'Reset original view', 'home', 'home'), ('Back', 'Back to previous …"
      ]
     },
     "metadata": {},
     "output_type": "display_data"
    },
    {
     "data": {
      "application/vnd.jupyter.widget-view+json": {
       "model_id": "34a956b1d0b14da6aa1b8edc49345376",
       "version_major": 2,
       "version_minor": 0
      },
      "text/plain": [
       "Canvas(toolbar=Toolbar(toolitems=[('Home', 'Reset original view', 'home', 'home'), ('Back', 'Back to previous …"
      ]
     },
     "metadata": {},
     "output_type": "display_data"
    }
   ],
   "source": [
    "# the response timeseries for a single electrode acts as the set of features\n",
    "etd = 20\n",
    "amp = 100\n",
    "features = responses[etd].loc[stimuli.index[stimuli.amplitude==amp], 0.01:0.3]\n",
    "# features = (features-features.mean())#/features.std()\n",
    "\n",
    "# compute similarity\n",
    "similarity = simclus.get_normalized_similarity(features, algo='euclidean', zscore=True)\n",
    "\n",
    "# cluster by similarity\n",
    "similarity = simclus.cluster_by_similarity(similarity, entropy_merge=2, **dict(n_components_range=(1, 6), cv_types=['diag']))\n",
    "\n",
    "axes = plot_features_similarity(features, similarity.drop('clusters', axis=1))\n",
    "axes[0].set_ylabel('original order')\n",
    "axes[0].set_title(f'LFP electrode {etd}')\n",
    "axes = plot_features_similarity(features, similarity)\n",
    "axes[0].set_ylabel('cluster groups')\n",
    "axes[0].set_title(f'LFP electrode {etd}');"
   ]
  },
  {
   "cell_type": "markdown",
   "metadata": {},
   "source": [
    "### Heterogenity of clusters within epochs\n",
    "On average in how many clusters is `pre`, `iso_low` etc. distributed?"
   ]
  },
  {
   "cell_type": "code",
   "execution_count": null,
   "metadata": {},
   "outputs": [],
   "source": [
    "def apply_clustering(etd, amp=100, time=(0, 0.3), algo='cosine', entropy_merge=2, cluster_kw=dict(n_components_range=(1, 6), cv_types=['diag'])):\n",
    "    features = responses[etd].loc[stimuli.index[stimuli.amplitude==amp], time[0]:time[1]]\n",
    "    features = (features-features.mean())#/features.std()\n",
    "    similarity = simclus.get_normalized_similarity(features, algo=algo)\n",
    "    similarity = simclus.cluster_by_similarity(similarity, entropy_merge=entropy_merge, **cluster_kw)\n",
    "    return similarity"
   ]
  },
  {
   "cell_type": "markdown",
   "metadata": {},
   "source": [
    "**Apply similarity clustering to all electrodes**"
   ]
  },
  {
   "cell_type": "code",
   "execution_count": null,
   "metadata": {},
   "outputs": [],
   "source": [
    "all_similarity = {}\n",
    "for amp in tqdm([20, 50, 100]):\n",
    "    all_similarity[amp] = {c : apply_clustering(c) for c in responses.columns.levels[0]}\n",
    "    all_similarity[amp] = pd.concat(all_similarity[amp], axis=1)"
   ]
  },
  {
   "cell_type": "markdown",
   "metadata": {},
   "source": [
    "**keep clusters and compute heterogeniety**"
   ]
  },
  {
   "cell_type": "code",
   "execution_count": null,
   "metadata": {},
   "outputs": [],
   "source": [
    "all_clusters = {c:v.swaplevel(axis=1)['clusters'].join(win_epochs.rename('epoch')) for c, v in all_similarity.items()}"
   ]
  },
  {
   "cell_type": "code",
   "execution_count": null,
   "metadata": {},
   "outputs": [],
   "source": [
    "f, ax = plt.subplots(1, 1, figsize=(3, 2.5), tight_layout=True)\n",
    "all_clusters[100][[0, 'epoch']].groupby('epoch').filter(\n",
    "    lambda df: False if df.name in ['iso_high', 'early_recovery'] else True\n",
    ").apply(\n",
    "    lambda df: display(df)#ax.hist(df.drop('epoch', axis=1).values, bins=[-0.5, 0.5, 1.5, 2.5], alpha=0.3)\n",
    ")"
   ]
  },
  {
   "cell_type": "code",
   "execution_count": null,
   "metadata": {},
   "outputs": [],
   "source": [
    "colors = {'pre':'b', 'iso_low':'r', 'late_recovery':'g'}\n",
    "offset = {'pre':-0.1, 'iso_low':0., 'late_recovery':0.1}\n",
    "def _plot_het(df, ax):\n",
    "    if df.name in ['pre', 'iso_low', 'late_recovery']:\n",
    "        df.drop('epoch', axis=1).astype(int).apply(\n",
    "            lambda row: ax.plot(row+offset[df.name], row.index, lw=0, marker='o', c=colors[df.name], alpha=0.01, label=df.name),\n",
    "            axis=1\n",
    "        )\n",
    "    return\n",
    "\n",
    "f, axes = plt.subplots(1, 3, figsize=(7.5, 7), tight_layout=True, sharey=True)\n",
    "for ax, amp in zip(axes, [20, 50, 100]):\n",
    "    all_clusters[amp].groupby('epoch').apply(_plot_het, ax)\n",
    "    ax.set_title(f'amplitude {amp}')\n",
    "axes[0].set_ylabel('electrode')\n",
    "axes[0].invert_yaxis()\n",
    "axes[1].set_xlabel('cluster');"
   ]
  },
  {
   "cell_type": "code",
   "execution_count": null,
   "metadata": {},
   "outputs": [],
   "source": []
  },
  {
   "cell_type": "code",
   "execution_count": null,
   "metadata": {},
   "outputs": [],
   "source": []
  },
  {
   "cell_type": "code",
   "execution_count": null,
   "metadata": {},
   "outputs": [],
   "source": []
  }
 ],
 "metadata": {
  "kernelspec": {
   "display_name": "zapnzip",
   "language": "python",
   "name": "zapnzip"
  },
  "language_info": {
   "codemirror_mode": {
    "name": "ipython",
    "version": 3
   },
   "file_extension": ".py",
   "mimetype": "text/x-python",
   "name": "python",
   "nbconvert_exporter": "python",
   "pygments_lexer": "ipython3",
   "version": "3.7.4"
  },
  "widgets": {
   "application/vnd.jupyter.widget-state+json": {
    "state": {},
    "version_major": 2,
    "version_minor": 0
   }
  }
 },
 "nbformat": 4,
 "nbformat_minor": 4
}
