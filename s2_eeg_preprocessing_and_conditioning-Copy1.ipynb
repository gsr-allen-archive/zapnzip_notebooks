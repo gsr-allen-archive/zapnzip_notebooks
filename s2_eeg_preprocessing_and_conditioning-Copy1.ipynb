{
 "cells": [
  {
   "cell_type": "markdown",
   "metadata": {
    "Collapsed": "false"
   },
   "source": [
    "In this notebook, we will import and apply some preprocessing to the EEG data, and store it for quick access in the future.  \n",
    "Preprocessing would involve:\n",
    "1. Filtering out sub-1000 Hz noise\n",
    "1. Downsampling\n",
    "1. Annotating time intervals that show motion artefacts\n",
    "\n",
    "Where should this go in the pipeline? Should the preprocessing be part of the lfp class or EEGexp class?\n",
    "\n",
    "Downsample then filter, or filter then downsample?  \n",
    "Downsampling first leads to high frequency noise staying back in the result due to aliasing. So, first filter, then downsample."
   ]
  },
  {
   "cell_type": "code",
   "execution_count": 1,
   "metadata": {
    "Collapsed": "false"
   },
   "outputs": [
    {
     "name": "stdout",
     "output_type": "stream",
     "text": [
      "INFO: Pandarallel will run on 8 workers.\n",
      "INFO: Pandarallel will use Memory file system to transfer data between the main process and workers.\n"
     ]
    }
   ],
   "source": [
    "%load_ext autoreload\n",
    "%autoreload 2\n",
    "\n",
    "import os\n",
    "from glob import glob\n",
    "\n",
    "import numpy as np\n",
    "import pandas as pd\n",
    "import matplotlib.pyplot as plt\n",
    "from matplotlib import cm\n",
    "from scipy import signal\n",
    "from pandarallel import pandarallel\n",
    "\n",
    "from tbd_eeg.data_analysis.eegutils import EEGexp\n",
    "from tbd_eeg.data_analysis.Utilities import filters\n",
    "\n",
    "pandarallel.initialize(progress_bar=True)\n",
    "%matplotlib widget"
   ]
  },
  {
   "cell_type": "markdown",
   "metadata": {
    "Collapsed": "false"
   },
   "source": [
    "# Raw data"
   ]
  },
  {
   "cell_type": "code",
   "execution_count": 2,
   "metadata": {
    "Collapsed": "false"
   },
   "outputs": [
    {
     "name": "stdout",
     "output_type": "stream",
     "text": [
      "Loading /allen/programs/braintv/workgroups/nc-ophys/Leslie/eeg_pilot/mouse507190/pilot1_2020-02-28_10-33-11/recording1/continuous/Rhythm_FPGA-111.0/continuous.dat\n"
     ]
    }
   ],
   "source": [
    "data_folder = r\"/allen/programs/braintv/workgroups/nc-ophys/Leslie/eeg_pilot/mouse507190/pilot1_2020-02-28_10-33-11/recording1/\"\n",
    "exp = EEGexp(data_folder)\n",
    "eegdata = exp.memmap_EEGdata()\n",
    "timestamps = np.load(exp.eegtimestamps_file)\n",
    "eegdata = pd.DataFrame(data=eegdata, index=timestamps)"
   ]
  },
  {
   "cell_type": "code",
   "execution_count": 3,
   "metadata": {
    "Collapsed": "false"
   },
   "outputs": [],
   "source": [
    "# # get back to working on reshaping data without loading into memory\n",
    "# datafiles = sorted(glob(exp.data_folder + '/**/*.dat', recursive=True))[0]\n",
    "# data = np.memmap(datafiles)\n",
    "# data.reshape(int(data.size/exp.num_chs), exp.num_chs)[:, exp.intanNNmap]"
   ]
  },
  {
   "cell_type": "code",
   "execution_count": 4,
   "metadata": {
    "Collapsed": "false"
   },
   "outputs": [
    {
     "data": {
      "application/vnd.jupyter.widget-view+json": {
       "model_id": "3c18fbcabbaf4c6b9f908e0342ef61aa",
       "version_major": 2,
       "version_minor": 0
      },
      "text/plain": [
       "Canvas(toolbar=Toolbar(toolitems=[('Home', 'Reset original view', 'home', 'home'), ('Back', 'Back to previous …"
      ]
     },
     "metadata": {},
     "output_type": "display_data"
    },
    {
     "data": {
      "text/plain": [
       "<matplotlib.axes._subplots.AxesSubplot at 0x7fdb64a01f90>"
      ]
     },
     "execution_count": 4,
     "metadata": {},
     "output_type": "execute_result"
    }
   ],
   "source": [
    "ch = 3\n",
    "f, ax = plt.subplots(1, 1, figsize=(12, 2))\n",
    "eegdata[ch].plot(ax=ax)"
   ]
  },
  {
   "cell_type": "markdown",
   "metadata": {
    "Collapsed": "false"
   },
   "source": [
    "# Low-pass filter"
   ]
  },
  {
   "cell_type": "code",
   "execution_count": 4,
   "metadata": {
    "Collapsed": "false"
   },
   "outputs": [],
   "source": [
    "eegdata_lp = eegdata.apply(\n",
    "    lambda x: filters.butter_filter(\n",
    "        np.expand_dims(x, 1),\n",
    "        sampling_frequency=exp.sample_rate,\n",
    "        cutoff_frequency=1000,\n",
    "        filter_order=2,\n",
    "        ftype='low'\n",
    "    )[:, 0], raw=True, axis=0\n",
    ")"
   ]
  },
  {
   "cell_type": "code",
   "execution_count": 6,
   "metadata": {
    "Collapsed": "false"
   },
   "outputs": [
    {
     "data": {
      "application/vnd.jupyter.widget-view+json": {
       "model_id": "e5dea06fcbfc44f1afdaa9536c5e5947",
       "version_major": 2,
       "version_minor": 0
      },
      "text/plain": [
       "Canvas(toolbar=Toolbar(toolitems=[('Home', 'Reset original view', 'home', 'home'), ('Back', 'Back to previous …"
      ]
     },
     "metadata": {},
     "output_type": "display_data"
    },
    {
     "data": {
      "text/plain": [
       "<matplotlib.axes._subplots.AxesSubplot at 0x7fdb9e760990>"
      ]
     },
     "execution_count": 6,
     "metadata": {},
     "output_type": "execute_result"
    }
   ],
   "source": [
    "f, ax = plt.subplots(1, 1, figsize=(12, 2))\n",
    "eegdata_lp[3].plot(ax=ax)"
   ]
  },
  {
   "cell_type": "markdown",
   "metadata": {
    "Collapsed": "false"
   },
   "source": [
    "# Downsample to 2000Hz"
   ]
  },
  {
   "cell_type": "code",
   "execution_count": 5,
   "metadata": {
    "Collapsed": "false"
   },
   "outputs": [],
   "source": [
    "eegdata_lp_ds = eegdata_lp[::int(exp.sample_rate/2000)]\n",
    "del eegdata_lp"
   ]
  },
  {
   "cell_type": "code",
   "execution_count": 8,
   "metadata": {
    "Collapsed": "false"
   },
   "outputs": [
    {
     "data": {
      "application/vnd.jupyter.widget-view+json": {
       "model_id": "203c4e5eda8742eba850a1a86591df39",
       "version_major": 2,
       "version_minor": 0
      },
      "text/plain": [
       "Canvas(toolbar=Toolbar(toolitems=[('Home', 'Reset original view', 'home', 'home'), ('Back', 'Back to previous …"
      ]
     },
     "metadata": {},
     "output_type": "display_data"
    },
    {
     "data": {
      "text/plain": [
       "<matplotlib.axes._subplots.AxesSubplot at 0x7fdb4cbd94d0>"
      ]
     },
     "execution_count": 8,
     "metadata": {},
     "output_type": "execute_result"
    }
   ],
   "source": [
    "ch = 3\n",
    "f, ax = plt.subplots(1, 1, figsize=(12, 2))\n",
    "eegdata_lp_ds[ch].plot(ax=ax)"
   ]
  },
  {
   "cell_type": "markdown",
   "metadata": {
    "Collapsed": "false"
   },
   "source": [
    "# Annotate artefacts due to motion"
   ]
  },
  {
   "cell_type": "markdown",
   "metadata": {
    "Collapsed": "false"
   },
   "source": [
    "## Identify unconnected channels\n",
    "They are 30 and 31, plus others in some cases"
   ]
  },
  {
   "cell_type": "code",
   "execution_count": 6,
   "metadata": {
    "Collapsed": "false"
   },
   "outputs": [],
   "source": [
    "def median_amplitude(data):\n",
    "    peaks, _ = signal.find_peaks(data.abs().values[:2000*300], distance=2000*0.01)\n",
    "    return np.median(data.abs().values[peaks][:2000*300])"
   ]
  },
  {
   "cell_type": "code",
   "execution_count": 7,
   "metadata": {
    "Collapsed": "false"
   },
   "outputs": [
    {
     "data": {
      "text/plain": [
       "0       633.834355\n",
       "1       626.275328\n",
       "2      2119.047536\n",
       "3       775.881038\n",
       "4       784.596710\n",
       "5       782.644316\n",
       "6       838.050795\n",
       "7       876.906502\n",
       "8       873.140652\n",
       "9       862.727444\n",
       "10      878.053731\n",
       "11      895.834787\n",
       "12      867.247162\n",
       "13      876.933570\n",
       "14      862.764540\n",
       "15      864.279731\n",
       "16      886.047749\n",
       "17      868.032536\n",
       "18      909.164696\n",
       "19      903.872068\n",
       "20      891.194270\n",
       "21      880.964463\n",
       "22      873.301196\n",
       "23      888.245156\n",
       "24      731.085156\n",
       "25      832.293945\n",
       "26      843.218898\n",
       "27      689.931287\n",
       "28      747.177158\n",
       "29      782.900895\n",
       "30    33062.658410\n",
       "31    29473.115976\n",
       "dtype: float64"
      ]
     },
     "execution_count": 7,
     "metadata": {},
     "output_type": "execute_result"
    }
   ],
   "source": [
    "median_amplitude = eegdata_lp_ds.apply(median_amplitude, axis=0)\n",
    "active_channels = median_amplitude.index[median_amplitude < 10000]\n",
    "median_amplitude"
   ]
  },
  {
   "cell_type": "markdown",
   "metadata": {
    "Collapsed": "false"
   },
   "source": [
    "## Can we use running data to identify the artefacts?\n",
    "Not explored much. Looks unlikely."
   ]
  },
  {
   "cell_type": "code",
   "execution_count": 8,
   "metadata": {
    "Collapsed": "false"
   },
   "outputs": [
    {
     "name": "stderr",
     "output_type": "stream",
     "text": [
      "/home/saurabh.gandhi/Projects/.env_zz/lib/python3.7/site-packages/allensdk/brain_observatory/sync_dataset.py:454: H5pyDeprecationWarning: dataset.value has been deprecated. Use dataset[()] instead.\n",
      "  return eval(self.dfile['analog_meta'].value)\n"
     ]
    }
   ],
   "source": [
    "linear_velocity, runtime = exp.load_running(\n",
    "    exp.load_sync_dataset()\n",
    ")\n",
    "running_speed = pd.DataFrame(index=runtime, data=linear_velocity, columns=['speed'])\n",
    "running_speed = (running_speed - running_speed.mean())*200/running_speed.std()\n",
    "# running_speed is rescaled so as to look good on the plots"
   ]
  },
  {
   "cell_type": "code",
   "execution_count": 12,
   "metadata": {
    "Collapsed": "false"
   },
   "outputs": [
    {
     "data": {
      "application/vnd.jupyter.widget-view+json": {
       "model_id": "db49c58d120348d095743e8b66ee1e2f",
       "version_major": 2,
       "version_minor": 0
      },
      "text/plain": [
       "Canvas(toolbar=Toolbar(toolitems=[('Home', 'Reset original view', 'home', 'home'), ('Back', 'Back to previous …"
      ]
     },
     "metadata": {},
     "output_type": "display_data"
    }
   ],
   "source": [
    "# look at 580:582 as an example of artefact\n",
    "f, ax = plt.subplots(1, 1, figsize=(12, 2), sharex=True, tight_layout=True)\n",
    "running_speed.plot(ax=ax, c=cm.Greys(0.5, 0.5), label='Running speed')\n",
    "# eegdata_ds[30].plot(ax=ax2, c=cm.Blues(0.6, 0.4))\n",
    "eegdata_lp_ds[2].plot(ax=ax, c=cm.Reds(0.6, 0.4), label='2')\n",
    "eegdata_lp_ds[8].plot(ax=ax, c=cm.Greens(0.6, 0.4), label='8')\n",
    "ax.legend(loc=1, ncol=2);"
   ]
  },
  {
   "cell_type": "markdown",
   "metadata": {
    "Collapsed": "false"
   },
   "source": [
    "## Identifying artefacts using the spectrogram"
   ]
  },
  {
   "cell_type": "code",
   "execution_count": 9,
   "metadata": {
    "Collapsed": "false"
   },
   "outputs": [
    {
     "data": {
      "application/vnd.jupyter.widget-view+json": {
       "model_id": "5d536cfcd5c74937abd75c831dca143d",
       "version_major": 2,
       "version_minor": 0
      },
      "text/plain": [
       "Canvas(toolbar=Toolbar(toolitems=[('Home', 'Reset original view', 'home', 'home'), ('Back', 'Back to previous …"
      ]
     },
     "metadata": {},
     "output_type": "display_data"
    },
    {
     "data": {
      "text/plain": [
       "<matplotlib.axes._subplots.AxesSubplot at 0x7f31a6e58b90>"
      ]
     },
     "execution_count": 9,
     "metadata": {},
     "output_type": "execute_result"
    }
   ],
   "source": [
    "ch = 5\n",
    "_data = eegdata_lp_ds[ch]\n",
    "f, t, Sxx = signal.spectrogram(_data, 2000, nperseg=512)\n",
    "Sxx_min = Sxx.min(axis=1)\n",
    "Sxx_max = Sxx.max(axis=1)\n",
    "Sxx_norm = (Sxx - Sxx_min[:, np.newaxis]) / (Sxx_max[:, np.newaxis] - Sxx_min[:, np.newaxis])\n",
    "frinds = f < 5000\n",
    "frhinds = f > 100\n",
    "t = t + _data.index[0]\n",
    "fig, (ax, ax2) = plt.subplots(2, 1, figsize=(12, 4), sharex=True)\n",
    "# plot spectrogram\n",
    "spgm = ax.pcolormesh(t, f[frinds], Sxx_norm[frinds,:], cmap='YlOrRd', vmin=0, vmax=1)\n",
    "ax.set_ylabel('Frequency (Hz)')\n",
    "ax.set_xlabel('Time (s)')\n",
    "_data.plot(ax=ax2, c=cm.Reds(0.6, 0.4))\n",
    "running_speed.plot(ax=ax2, c=cm.Greys(0.5, 0.5))\n",
    "# hfp = (Sxx[frhinds, :]>100).sum(axis=0)\n",
    "# ax.twinx().plot(t, hfp, c='k')\n",
    "# ax2.set_xlim(560, 620)\n",
    "# ax2.set_ylim(-5000, 5000)\n",
    "\n",
    "# f2, t2, Sxx2 = signal.spectrogram(eegdata[30], 2000, nperseg=2048)\n",
    "# t2 = t2 + _data.index[0]\n",
    "# spgm = ax3.pcolormesh(t2, f2[frinds], Sxx2[frinds,:], cmap='YlOrRd', vmin=0, vmax=40)\n",
    "# ax3.set_ylabel('Frequency (Hz)')\n",
    "# ax3.set_xlabel('Time (s)')\n",
    "# eegdata_ds[30].plot(ax=ax4, c=cm.Blues(0.6, 0.4))\n",
    "# hfp2 = (Sxx2[frhinds, :]>100).sum(axis=0)\n",
    "# ax3.twinx().plot(t2, hfp2, c='k')"
   ]
  },
  {
   "cell_type": "markdown",
   "metadata": {
    "Collapsed": "false"
   },
   "source": [
    "## Filter specteegdata_lp_dsll channels to find artefacts"
   ]
  },
  {
   "cell_type": "code",
   "execution_count": 14,
   "metadata": {
    "Collapsed": "false"
   },
   "outputs": [],
   "source": [
    "def find_hf_windows(data, sample_rate=exp.sample_rate, nperseg=2048):\n",
    "    f, t, Sxx = signal.spectrogram(data, sample_rate, nperseg=nperseg)\n",
    "    frhinds = f > 500\n",
    "    t = t + data.index[0]\n",
    "    return pd.Series(data=(Sxx[frhinds, :]>100).sum(axis=0), index=t)"
   ]
  },
  {
   "cell_type": "code",
   "execution_count": 15,
   "metadata": {
    "Collapsed": "false"
   },
   "outputs": [
    {
     "data": {
      "application/vnd.jupyter.widget-view+json": {
       "model_id": "f2712ad066f3484e90eae1e80780e63c",
       "version_major": 2,
       "version_minor": 0
      },
      "text/plain": [
       "Canvas(toolbar=Toolbar(toolitems=[('Home', 'Reset original view', 'home', 'home'), ('Back', 'Back to previous …"
      ]
     },
     "metadata": {},
     "output_type": "display_data"
    },
    {
     "ename": "NameError",
     "evalue": "name 'hf_windows' is not defined",
     "output_type": "error",
     "traceback": [
      "\u001b[0;31m---------------------------------------------------------------------------\u001b[0m",
      "\u001b[0;31mNameError\u001b[0m                                 Traceback (most recent call last)",
      "\u001b[0;32m<ipython-input-15-4606daa6ba29>\u001b[0m in \u001b[0;36m<module>\u001b[0;34m\u001b[0m\n\u001b[1;32m      3\u001b[0m \u001b[0mf\u001b[0m\u001b[0;34m,\u001b[0m \u001b[0max\u001b[0m \u001b[0;34m=\u001b[0m \u001b[0mplt\u001b[0m\u001b[0;34m.\u001b[0m\u001b[0msubplots\u001b[0m\u001b[0;34m(\u001b[0m\u001b[0;36m1\u001b[0m\u001b[0;34m,\u001b[0m \u001b[0;36m1\u001b[0m\u001b[0;34m,\u001b[0m \u001b[0mfigsize\u001b[0m\u001b[0;34m=\u001b[0m\u001b[0;34m(\u001b[0m\u001b[0;36m12\u001b[0m\u001b[0;34m,\u001b[0m \u001b[0;36m3\u001b[0m\u001b[0;34m)\u001b[0m\u001b[0;34m)\u001b[0m\u001b[0;34m\u001b[0m\u001b[0;34m\u001b[0m\u001b[0m\n\u001b[1;32m      4\u001b[0m \u001b[0;31m# hf_windows.plot(ax=ax, legend=False)\u001b[0m\u001b[0;34m\u001b[0m\u001b[0;34m\u001b[0m\u001b[0;34m\u001b[0m\u001b[0m\n\u001b[0;32m----> 5\u001b[0;31m \u001b[0mhf_windows\u001b[0m\u001b[0;34m.\u001b[0m\u001b[0mmean\u001b[0m\u001b[0;34m(\u001b[0m\u001b[0maxis\u001b[0m\u001b[0;34m=\u001b[0m\u001b[0;36m1\u001b[0m\u001b[0;34m)\u001b[0m\u001b[0;34m.\u001b[0m\u001b[0mplot\u001b[0m\u001b[0;34m(\u001b[0m\u001b[0max\u001b[0m\u001b[0;34m=\u001b[0m\u001b[0max\u001b[0m\u001b[0;34m.\u001b[0m\u001b[0mtwinx\u001b[0m\u001b[0;34m(\u001b[0m\u001b[0;34m)\u001b[0m\u001b[0;34m,\u001b[0m \u001b[0mc\u001b[0m\u001b[0;34m=\u001b[0m\u001b[0;34m'k'\u001b[0m\u001b[0;34m)\u001b[0m\u001b[0;34m\u001b[0m\u001b[0;34m\u001b[0m\u001b[0m\n\u001b[0m\u001b[1;32m      6\u001b[0m \u001b[0meegdata_ds\u001b[0m\u001b[0;34m[\u001b[0m\u001b[0;36m0\u001b[0m\u001b[0;34m]\u001b[0m\u001b[0;34m.\u001b[0m\u001b[0mplot\u001b[0m\u001b[0;34m(\u001b[0m\u001b[0max\u001b[0m\u001b[0;34m=\u001b[0m\u001b[0max\u001b[0m\u001b[0;34m,\u001b[0m \u001b[0mc\u001b[0m\u001b[0;34m=\u001b[0m\u001b[0mcm\u001b[0m\u001b[0;34m.\u001b[0m\u001b[0mReds\u001b[0m\u001b[0;34m(\u001b[0m\u001b[0;36m0.6\u001b[0m\u001b[0;34m,\u001b[0m \u001b[0;36m0.3\u001b[0m\u001b[0;34m)\u001b[0m\u001b[0;34m)\u001b[0m\u001b[0;34m\u001b[0m\u001b[0;34m\u001b[0m\u001b[0m\n\u001b[1;32m      7\u001b[0m \u001b[0;31m# eegdata_ds[1].plot(ax=ax, c=cm.Blues(0.6, 0.3))\u001b[0m\u001b[0;34m\u001b[0m\u001b[0;34m\u001b[0m\u001b[0;34m\u001b[0m\u001b[0m\n",
      "\u001b[0;31mNameError\u001b[0m: name 'hf_windows' is not defined"
     ]
    }
   ],
   "source": [
    "# hf_windows = eegdata[active_channels].apply(find_hf_windows, axis=0)\n",
    "\n",
    "f, ax = plt.subplots(1, 1, figsize=(12, 3))\n",
    "# hf_windows.plot(ax=ax, legend=False)\n",
    "hf_windows.mean(axis=1).plot(ax=ax.twinx(), c='k')\n",
    "eegdata_ds[0].plot(ax=ax, c=cm.Reds(0.6, 0.3))\n",
    "# eegdata_ds[1].plot(ax=ax, c=cm.Blues(0.6, 0.3))\n",
    "running_speed.plot(ax=ax, c=cm.Greys(0.6, 0.3))\n",
    "ax.set_ylim(-3000, 3000)"
   ]
  },
  {
   "cell_type": "code",
   "execution_count": null,
   "metadata": {
    "Collapsed": "false"
   },
   "outputs": [],
   "source": []
  }
 ],
 "metadata": {
  "kernelspec": {
   "display_name": "zapnzip",
   "language": "python",
   "name": "zapnzip"
  },
  "language_info": {
   "codemirror_mode": {
    "name": "ipython",
    "version": 3
   },
   "file_extension": ".py",
   "mimetype": "text/x-python",
   "name": "python",
   "nbconvert_exporter": "python",
   "pygments_lexer": "ipython3",
   "version": "3.7.4"
  },
  "widgets": {
   "application/vnd.jupyter.widget-state+json": {
    "state": {
     "10743219dd2f440bbcbbf56e01f359e0": {
      "model_module": "@jupyter-widgets/base",
      "model_module_version": "1.2.0",
      "model_name": "LayoutModel",
      "state": {}
     },
     "5d536cfcd5c74937abd75c831dca143d": {
      "model_module": "jupyter-matplotlib",
      "model_module_version": "^0.5.0",
      "model_name": "MPLCanvasModel",
      "state": {
       "layout": "IPY_MODEL_10743219dd2f440bbcbbf56e01f359e0",
       "toolbar": "IPY_MODEL_7579dcc614384e22823e52ba667d404e",
       "toolbar_position": "left"
      }
     },
     "7579dcc614384e22823e52ba667d404e": {
      "model_module": "jupyter-matplotlib",
      "model_module_version": "^0.5.0",
      "model_name": "ToolbarModel",
      "state": {
       "layout": "IPY_MODEL_83388dbd08db43c9b4c8dd58d2dca07a",
       "toolitems": [
        [
         "Home",
         "Reset original view",
         "home",
         "home"
        ],
        [
         "Back",
         "Back to previous view",
         "arrow-left",
         "back"
        ],
        [
         "Forward",
         "Forward to next view",
         "arrow-right",
         "forward"
        ],
        [
         "Pan",
         "Pan axes with left mouse, zoom with right",
         "arrows",
         "pan"
        ],
        [
         "Zoom",
         "Zoom to rectangle",
         "square-o",
         "zoom"
        ],
        [
         "Download",
         "Download plot",
         "floppy-o",
         "save_figure"
        ]
       ]
      }
     },
     "83388dbd08db43c9b4c8dd58d2dca07a": {
      "model_module": "@jupyter-widgets/base",
      "model_module_version": "1.2.0",
      "model_name": "LayoutModel",
      "state": {}
     }
    },
    "version_major": 2,
    "version_minor": 0
   }
  }
 },
 "nbformat": 4,
 "nbformat_minor": 4
}
