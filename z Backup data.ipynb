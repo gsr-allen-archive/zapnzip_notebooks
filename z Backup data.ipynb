{
 "cells": [
  {
   "cell_type": "code",
   "execution_count": 1,
   "metadata": {
    "execution": {
     "iopub.execute_input": "2021-07-22T04:00:34.302081Z",
     "iopub.status.busy": "2021-07-22T04:00:34.301249Z",
     "iopub.status.idle": "2021-07-22T04:00:35.034280Z",
     "shell.execute_reply": "2021-07-22T04:00:35.033585Z",
     "shell.execute_reply.started": "2021-07-22T04:00:34.301955Z"
    },
    "tags": []
   },
   "outputs": [],
   "source": [
    "%load_ext autoreload\n",
    "%autoreload 2\n",
    "\n",
    "import os\n",
    "from os import path\n",
    "import json\n",
    "\n",
    "import numpy as np\n",
    "import pandas as pd\n",
    "from tqdm.auto import tqdm\n",
    "from IPython.utils.capture import capture_output\n",
    "with capture_output():\n",
    "    tqdm.pandas()\n",
    "\n",
    "from tbd_eeg.data_analysis.eegutils import EEGexp\n",
    "from tbd_eeg.data_analysis.Utilities.utilities import get_stim_events, find_nearest_ind"
   ]
  },
  {
   "cell_type": "code",
   "execution_count": 2,
   "metadata": {
    "execution": {
     "iopub.execute_input": "2021-07-22T04:00:35.035234Z",
     "iopub.status.busy": "2021-07-22T04:00:35.035044Z",
     "iopub.status.idle": "2021-07-22T04:00:35.048703Z",
     "shell.execute_reply": "2021-07-22T04:00:35.048048Z",
     "shell.execute_reply.started": "2021-07-22T04:00:35.035208Z"
    },
    "tags": []
   },
   "outputs": [],
   "source": [
    "destination_folder = '/local2/zap_zip/'"
   ]
  },
  {
   "cell_type": "code",
   "execution_count": 3,
   "metadata": {
    "execution": {
     "iopub.execute_input": "2021-07-22T04:00:35.746424Z",
     "iopub.status.busy": "2021-07-22T04:00:35.745640Z",
     "iopub.status.idle": "2021-07-22T04:00:36.593080Z",
     "shell.execute_reply": "2021-07-22T04:00:36.592230Z",
     "shell.execute_reply.started": "2021-07-22T04:00:35.746315Z"
    },
    "tags": []
   },
   "outputs": [],
   "source": [
    "# accessing the Google sheet with experiment metadata in python\n",
    "# setting up the permissions:\n",
    "# 1. install gspread (pip install gspread / conda install gspread)\n",
    "# 2. copy the service_account.json file to '~/.config/gspread/service_account.json'\n",
    "# 3. run the following:\n",
    "import gspread\n",
    "_gc = gspread.service_account() # need a key file to access the account (step 2)\n",
    "_sh = _gc.open('Zap_Zip-log_exp') # open the spreadsheet\n",
    "_df = pd.DataFrame(_sh.sheet1.get()) # load the first worksheet\n",
    "gmetadata = _df.T.set_index(0).T # put it in a nicely formatted dataframe"
   ]
  },
  {
   "cell_type": "code",
   "execution_count": 4,
   "metadata": {
    "execution": {
     "iopub.execute_input": "2021-07-22T04:00:36.594365Z",
     "iopub.status.busy": "2021-07-22T04:00:36.594100Z",
     "iopub.status.idle": "2021-07-22T04:00:36.652938Z",
     "shell.execute_reply": "2021-07-22T04:00:36.652302Z",
     "shell.execute_reply.started": "2021-07-22T04:00:36.594328Z"
    },
    "tags": []
   },
   "outputs": [
    {
     "data": {
      "text/html": [
       "<div>\n",
       "<style scoped>\n",
       "    .dataframe tbody tr th:only-of-type {\n",
       "        vertical-align: middle;\n",
       "    }\n",
       "\n",
       "    .dataframe tbody tr th {\n",
       "        vertical-align: top;\n",
       "    }\n",
       "\n",
       "    .dataframe thead th {\n",
       "        text-align: right;\n",
       "    }\n",
       "</style>\n",
       "<table border=\"1\" class=\"dataframe\">\n",
       "  <thead>\n",
       "    <tr style=\"text-align: right;\">\n",
       "      <th></th>\n",
       "      <th></th>\n",
       "      <th>brain states</th>\n",
       "      <th>stimulation</th>\n",
       "      <th>visual_stim</th>\n",
       "      <th>audio_stim</th>\n",
       "      <th>ISI (sec)</th>\n",
       "      <th>stimulus duration (msec)</th>\n",
       "      <th>Current (uA)</th>\n",
       "      <th>Cortical Area stimulation</th>\n",
       "      <th>N trials per stimulus</th>\n",
       "      <th>EEG bad_channels</th>\n",
       "      <th>Npx</th>\n",
       "      <th>Units Sorted (X)</th>\n",
       "      <th>Brain slices (X)</th>\n",
       "      <th>Pupil tracking pre-processing</th>\n",
       "      <th>Brain areas assignment</th>\n",
       "      <th>CCF coordinates stim electrode (surface,tip)</th>\n",
       "      <th>CCF area stim electrode (surface,tip)</th>\n",
       "      <th>Notes</th>\n",
       "    </tr>\n",
       "    <tr>\n",
       "      <th>mouse_name</th>\n",
       "      <th>exp_name</th>\n",
       "      <th></th>\n",
       "      <th></th>\n",
       "      <th></th>\n",
       "      <th></th>\n",
       "      <th></th>\n",
       "      <th></th>\n",
       "      <th></th>\n",
       "      <th></th>\n",
       "      <th></th>\n",
       "      <th></th>\n",
       "      <th></th>\n",
       "      <th></th>\n",
       "      <th></th>\n",
       "      <th></th>\n",
       "      <th></th>\n",
       "      <th></th>\n",
       "      <th></th>\n",
       "      <th></th>\n",
       "    </tr>\n",
       "  </thead>\n",
       "  <tbody>\n",
       "    <tr>\n",
       "      <th>mouse551400</th>\n",
       "      <th>estim_vis_2021-01-22_11-07-12</th>\n",
       "      <td>awake/ISO/recovery/recovery</td>\n",
       "      <td>electrical/sensory</td>\n",
       "      <td>white</td>\n",
       "      <td>N/A</td>\n",
       "      <td>[3.5 4.5]</td>\n",
       "      <td>0.2/250</td>\n",
       "      <td>30/50/70</td>\n",
       "      <td>M2</td>\n",
       "      <td>120/100</td>\n",
       "      <td>0,1,2,3,4,5,6,7,8,9,10,11,12,13,14,15,16,17,18...</td>\n",
       "      <td>F,B,D</td>\n",
       "      <td>X</td>\n",
       "      <td>X</td>\n",
       "      <td></td>\n",
       "      <td>X</td>\n",
       "      <td>[ 390,121,439], [ 419,267,442]</td>\n",
       "      <td>MOs1, MOs6a</td>\n",
       "      <td>NO visual stim during the 2nd Recovery. The EE...</td>\n",
       "    </tr>\n",
       "    <tr>\n",
       "      <th>mouse569062</th>\n",
       "      <th>estim_vis_2021-02-18_11-17-51</th>\n",
       "      <td>awake/ISO/recovery</td>\n",
       "      <td>electrical/sensory</td>\n",
       "      <td>white</td>\n",
       "      <td>N/A</td>\n",
       "      <td>[3.5 4.5]</td>\n",
       "      <td>0.2/250</td>\n",
       "      <td>15/35/60</td>\n",
       "      <td>M2</td>\n",
       "      <td>120</td>\n",
       "      <td>6,13</td>\n",
       "      <td>F,B,D</td>\n",
       "      <td>X</td>\n",
       "      <td>X</td>\n",
       "      <td></td>\n",
       "      <td>X</td>\n",
       "      <td>[370,146,387], [ 428,300,434]</td>\n",
       "      <td>MOs1, ccg</td>\n",
       "      <td>ISO kept ~1%. White circles for the vis stim. ...</td>\n",
       "    </tr>\n",
       "    <tr>\n",
       "      <th>mouse569068</th>\n",
       "      <th>estim_vis_2021-03-04_10-51-38</th>\n",
       "      <td>awake/ISO/recovery/recovery</td>\n",
       "      <td>electrical/sensory</td>\n",
       "      <td>white</td>\n",
       "      <td>N/A</td>\n",
       "      <td>[3.5 4.5]</td>\n",
       "      <td>0.2/250</td>\n",
       "      <td>10/20/40</td>\n",
       "      <td>M2</td>\n",
       "      <td>120</td>\n",
       "      <td></td>\n",
       "      <td>F,B,D</td>\n",
       "      <td>X</td>\n",
       "      <td>X</td>\n",
       "      <td></td>\n",
       "      <td>X</td>\n",
       "      <td>[383,136,400], [446,289,442]</td>\n",
       "      <td>MOs1, ccg</td>\n",
       "      <td>ISO kept ~1%. White circles for the vis stim. ...</td>\n",
       "    </tr>\n",
       "    <tr>\n",
       "      <th rowspan=\"2\" valign=\"top\">mouse569069</th>\n",
       "      <th>estim_vis1_2021-03-11_11-02-08</th>\n",
       "      <td>awake/awake/awake/awake</td>\n",
       "      <td>electrical/sensory</td>\n",
       "      <td>white</td>\n",
       "      <td>N/A</td>\n",
       "      <td>[3.5 4.5]</td>\n",
       "      <td>0.2/250</td>\n",
       "      <td>50/60/80</td>\n",
       "      <td>M2</td>\n",
       "      <td>120</td>\n",
       "      <td>7,8,9,10,11,12,13,14</td>\n",
       "      <td>F,B,C</td>\n",
       "      <td>X</td>\n",
       "      <td>X</td>\n",
       "      <td></td>\n",
       "      <td>X</td>\n",
       "      <td>[293,156,456],  [331,266,505]</td>\n",
       "      <td>MOs1,PL5</td>\n",
       "      <td>control exp in awake. Something happen to the ...</td>\n",
       "    </tr>\n",
       "    <tr>\n",
       "      <th>estim_vis2_2021-03-12_10-52-44</th>\n",
       "      <td>awake/ISO/recovery/recovery</td>\n",
       "      <td>electrical/sensory</td>\n",
       "      <td>white</td>\n",
       "      <td>N/A</td>\n",
       "      <td>[3.5 4.5]</td>\n",
       "      <td>0.2/250</td>\n",
       "      <td>20/40/70</td>\n",
       "      <td>M2</td>\n",
       "      <td>120</td>\n",
       "      <td></td>\n",
       "      <td>F,B,C</td>\n",
       "      <td>X</td>\n",
       "      <td>X</td>\n",
       "      <td></td>\n",
       "      <td>X</td>\n",
       "      <td>[293,156,456],  [331,266,505]</td>\n",
       "      <td>MOs1,PL5</td>\n",
       "      <td>ISO kept ~1%.</td>\n",
       "    </tr>\n",
       "    <tr>\n",
       "      <th rowspan=\"2\" valign=\"top\">mouse571619</th>\n",
       "      <th>estim1_2021-03-18_11-41-26</th>\n",
       "      <td>awake/ISO</td>\n",
       "      <td>electrical</td>\n",
       "      <td>N/A</td>\n",
       "      <td>N/A</td>\n",
       "      <td>[3.5 4.5]</td>\n",
       "      <td>0.2</td>\n",
       "      <td>20/30/40</td>\n",
       "      <td>SS-cortex</td>\n",
       "      <td>120</td>\n",
       "      <td>2,3,4</td>\n",
       "      <td>F,B,C</td>\n",
       "      <td>X</td>\n",
       "      <td>X</td>\n",
       "      <td></td>\n",
       "      <td>X</td>\n",
       "      <td>[642,45,404], [649,238,431]</td>\n",
       "      <td>SSp-tr1, CA3</td>\n",
       "      <td>all EEG channels very noisy. ISO kept ~1%.</td>\n",
       "    </tr>\n",
       "    <tr>\n",
       "      <th>estim2_2021-03-19_10-09-01</th>\n",
       "      <td>awake500/awake1200/ISO1200/ISO500</td>\n",
       "      <td>electrical</td>\n",
       "      <td>N/A</td>\n",
       "      <td>N/A</td>\n",
       "      <td>[3.5 4.5]</td>\n",
       "      <td>0.2</td>\n",
       "      <td>20/40/60</td>\n",
       "      <td>M2-frontal (2 depths)</td>\n",
       "      <td>120</td>\n",
       "      <td>2,3,4,5,13</td>\n",
       "      <td>F,B,C</td>\n",
       "      <td>X</td>\n",
       "      <td>X</td>\n",
       "      <td></td>\n",
       "      <td>X</td>\n",
       "      <td>[273,172,431],[286,314,462]</td>\n",
       "      <td>MOs1, ORBvl6a</td>\n",
       "      <td>2 different depths for the stim electrode in b...</td>\n",
       "    </tr>\n",
       "    <tr>\n",
       "      <th>mouse569064</th>\n",
       "      <th>estim_vis_2021-04-08_10-28-24</th>\n",
       "      <td>awake/ISO/recovery/recovery</td>\n",
       "      <td>electrical/sensory</td>\n",
       "      <td>white</td>\n",
       "      <td>N/A</td>\n",
       "      <td>[3.5 4.5]</td>\n",
       "      <td>0.2/250</td>\n",
       "      <td>15/40/60</td>\n",
       "      <td>M2</td>\n",
       "      <td>120</td>\n",
       "      <td></td>\n",
       "      <td>F,B,C</td>\n",
       "      <td>X</td>\n",
       "      <td>X</td>\n",
       "      <td></td>\n",
       "      <td>X</td>\n",
       "      <td>[369,134,419], [415,272,461]</td>\n",
       "      <td>MOs1, cing</td>\n",
       "      <td>ISO kept ~1%. White circles for the vis stim. ...</td>\n",
       "    </tr>\n",
       "    <tr>\n",
       "      <th rowspan=\"2\" valign=\"top\">mouse569073</th>\n",
       "      <th>estim_vis_2021-04-15_10-27-22</th>\n",
       "      <td>awake/ISO/recovery/recovery</td>\n",
       "      <td>electrical/sensory</td>\n",
       "      <td>white</td>\n",
       "      <td>N/A</td>\n",
       "      <td>[3.5 4.5]</td>\n",
       "      <td>0.2/250</td>\n",
       "      <td>20/40/70</td>\n",
       "      <td>M2</td>\n",
       "      <td>120</td>\n",
       "      <td>3,4,13</td>\n",
       "      <td>F,B,C</td>\n",
       "      <td>X</td>\n",
       "      <td>X</td>\n",
       "      <td></td>\n",
       "      <td>X</td>\n",
       "      <td>[430,113,421],[437,258,440]</td>\n",
       "      <td>MOp1,MOs6a</td>\n",
       "      <td>ISO kept ~1%. White circles for the vis stim. ...</td>\n",
       "    </tr>\n",
       "    <tr>\n",
       "      <th>estim_2021-04-16_10-42-44</th>\n",
       "      <td>awake/ISO</td>\n",
       "      <td>electrical</td>\n",
       "      <td>N/A</td>\n",
       "      <td>N/A</td>\n",
       "      <td>[3.5 4.5]</td>\n",
       "      <td>0.2</td>\n",
       "      <td>60/80/100</td>\n",
       "      <td>SS-cortex</td>\n",
       "      <td>120</td>\n",
       "      <td>13,11,10,9,8,7,6,5,4,3,1,0</td>\n",
       "      <td>F,B,C</td>\n",
       "      <td>X</td>\n",
       "      <td>X</td>\n",
       "      <td></td>\n",
       "      <td>X</td>\n",
       "      <td>not visible</td>\n",
       "      <td>not visible</td>\n",
       "      <td>Control Exp. ISO kept ~1%. White circles for t...</td>\n",
       "    </tr>\n",
       "    <tr>\n",
       "      <th>mouse569072</th>\n",
       "      <th>estim_vis_2021-04-22_10-26-58</th>\n",
       "      <td>awake/ISO</td>\n",
       "      <td>electrical/sensory</td>\n",
       "      <td>white</td>\n",
       "      <td>N/A</td>\n",
       "      <td>[3.5 4.5]</td>\n",
       "      <td>0.2/250</td>\n",
       "      <td>30/50/70</td>\n",
       "      <td>SS-cortex</td>\n",
       "      <td>120</td>\n",
       "      <td>3,4,5,7,8,9,10,11,13</td>\n",
       "      <td>F,B,C</td>\n",
       "      <td>X</td>\n",
       "      <td>X</td>\n",
       "      <td></td>\n",
       "      <td>X</td>\n",
       "      <td>not visible</td>\n",
       "      <td>not visible</td>\n",
       "      <td>ISO kept ~1%.  EEG filter at 0.1Hz. EEG has hi...</td>\n",
       "    </tr>\n",
       "    <tr>\n",
       "      <th>mouse571618</th>\n",
       "      <th>estim1_2021-04-29_12-28-54</th>\n",
       "      <td>awake/ISO</td>\n",
       "      <td>electrical</td>\n",
       "      <td>N/A</td>\n",
       "      <td>N/A</td>\n",
       "      <td>[3.5 4.5]</td>\n",
       "      <td>0.2</td>\n",
       "      <td>40/70/90</td>\n",
       "      <td>M2 (more superficial)</td>\n",
       "      <td>120</td>\n",
       "      <td>0,1,2,3,4,5,6,7,8,9,10,11,12,13,14,16,19</td>\n",
       "      <td>F,B,C</td>\n",
       "      <td>X</td>\n",
       "      <td>X</td>\n",
       "      <td></td>\n",
       "      <td>X</td>\n",
       "      <td>[415,112,441], [436,163,443]</td>\n",
       "      <td>MOs1, MOs5</td>\n",
       "      <td>ISO kept ~1%.  EEG filter at 0.1Hz.</td>\n",
       "    </tr>\n",
       "    <tr>\n",
       "      <th>mouse571620</th>\n",
       "      <th>estim_vis_2021-05-13_11-33-47</th>\n",
       "      <td>awake500/awake900/ISO900/ISO500</td>\n",
       "      <td>electrical/sensory</td>\n",
       "      <td>white</td>\n",
       "      <td>N/A</td>\n",
       "      <td>[3.5 4.5]</td>\n",
       "      <td>0.2/250</td>\n",
       "      <td>60/80/100</td>\n",
       "      <td>SS-cortex (2 depths)</td>\n",
       "      <td>120</td>\n",
       "      <td>0,1,2,3,4,5,6,7,8,9,10,13,14</td>\n",
       "      <td>F,B,C</td>\n",
       "      <td>X</td>\n",
       "      <td>X</td>\n",
       "      <td></td>\n",
       "      <td>X</td>\n",
       "      <td>[674,41,398], [663,136,420]</td>\n",
       "      <td>SSp-tr1, SSp-tr6a</td>\n",
       "      <td>ISO kept ~1%.  EEG filter at 0.1Hz. visual sti...</td>\n",
       "    </tr>\n",
       "  </tbody>\n",
       "</table>\n",
       "</div>"
      ],
      "text/plain": [
       "0                                                                brain states  \\\n",
       "mouse_name  exp_name                                                            \n",
       "mouse551400 estim_vis_2021-01-22_11-07-12         awake/ISO/recovery/recovery   \n",
       "mouse569062 estim_vis_2021-02-18_11-17-51                  awake/ISO/recovery   \n",
       "mouse569068 estim_vis_2021-03-04_10-51-38         awake/ISO/recovery/recovery   \n",
       "mouse569069 estim_vis1_2021-03-11_11-02-08            awake/awake/awake/awake   \n",
       "            estim_vis2_2021-03-12_10-52-44        awake/ISO/recovery/recovery   \n",
       "mouse571619 estim1_2021-03-18_11-41-26                              awake/ISO   \n",
       "            estim2_2021-03-19_10-09-01      awake500/awake1200/ISO1200/ISO500   \n",
       "mouse569064 estim_vis_2021-04-08_10-28-24         awake/ISO/recovery/recovery   \n",
       "mouse569073 estim_vis_2021-04-15_10-27-22         awake/ISO/recovery/recovery   \n",
       "            estim_2021-04-16_10-42-44                               awake/ISO   \n",
       "mouse569072 estim_vis_2021-04-22_10-26-58                           awake/ISO   \n",
       "mouse571618 estim1_2021-04-29_12-28-54                              awake/ISO   \n",
       "mouse571620 estim_vis_2021-05-13_11-33-47     awake500/awake900/ISO900/ISO500   \n",
       "\n",
       "0                                                  stimulation visual_stim  \\\n",
       "mouse_name  exp_name                                                         \n",
       "mouse551400 estim_vis_2021-01-22_11-07-12   electrical/sensory       white   \n",
       "mouse569062 estim_vis_2021-02-18_11-17-51   electrical/sensory       white   \n",
       "mouse569068 estim_vis_2021-03-04_10-51-38   electrical/sensory       white   \n",
       "mouse569069 estim_vis1_2021-03-11_11-02-08  electrical/sensory       white   \n",
       "            estim_vis2_2021-03-12_10-52-44  electrical/sensory       white   \n",
       "mouse571619 estim1_2021-03-18_11-41-26              electrical         N/A   \n",
       "            estim2_2021-03-19_10-09-01              electrical         N/A   \n",
       "mouse569064 estim_vis_2021-04-08_10-28-24   electrical/sensory       white   \n",
       "mouse569073 estim_vis_2021-04-15_10-27-22   electrical/sensory       white   \n",
       "            estim_2021-04-16_10-42-44               electrical         N/A   \n",
       "mouse569072 estim_vis_2021-04-22_10-26-58   electrical/sensory       white   \n",
       "mouse571618 estim1_2021-04-29_12-28-54              electrical         N/A   \n",
       "mouse571620 estim_vis_2021-05-13_11-33-47   electrical/sensory       white   \n",
       "\n",
       "0                                          audio_stim  ISI (sec)  \\\n",
       "mouse_name  exp_name                                               \n",
       "mouse551400 estim_vis_2021-01-22_11-07-12         N/A  [3.5 4.5]   \n",
       "mouse569062 estim_vis_2021-02-18_11-17-51         N/A  [3.5 4.5]   \n",
       "mouse569068 estim_vis_2021-03-04_10-51-38         N/A  [3.5 4.5]   \n",
       "mouse569069 estim_vis1_2021-03-11_11-02-08        N/A  [3.5 4.5]   \n",
       "            estim_vis2_2021-03-12_10-52-44        N/A  [3.5 4.5]   \n",
       "mouse571619 estim1_2021-03-18_11-41-26            N/A  [3.5 4.5]   \n",
       "            estim2_2021-03-19_10-09-01            N/A  [3.5 4.5]   \n",
       "mouse569064 estim_vis_2021-04-08_10-28-24         N/A  [3.5 4.5]   \n",
       "mouse569073 estim_vis_2021-04-15_10-27-22         N/A  [3.5 4.5]   \n",
       "            estim_2021-04-16_10-42-44             N/A  [3.5 4.5]   \n",
       "mouse569072 estim_vis_2021-04-22_10-26-58         N/A  [3.5 4.5]   \n",
       "mouse571618 estim1_2021-04-29_12-28-54            N/A  [3.5 4.5]   \n",
       "mouse571620 estim_vis_2021-05-13_11-33-47         N/A  [3.5 4.5]   \n",
       "\n",
       "0                                          stimulus duration (msec)  \\\n",
       "mouse_name  exp_name                                                  \n",
       "mouse551400 estim_vis_2021-01-22_11-07-12                   0.2/250   \n",
       "mouse569062 estim_vis_2021-02-18_11-17-51                   0.2/250   \n",
       "mouse569068 estim_vis_2021-03-04_10-51-38                   0.2/250   \n",
       "mouse569069 estim_vis1_2021-03-11_11-02-08                  0.2/250   \n",
       "            estim_vis2_2021-03-12_10-52-44                  0.2/250   \n",
       "mouse571619 estim1_2021-03-18_11-41-26                          0.2   \n",
       "            estim2_2021-03-19_10-09-01                          0.2   \n",
       "mouse569064 estim_vis_2021-04-08_10-28-24                   0.2/250   \n",
       "mouse569073 estim_vis_2021-04-15_10-27-22                   0.2/250   \n",
       "            estim_2021-04-16_10-42-44                           0.2   \n",
       "mouse569072 estim_vis_2021-04-22_10-26-58                   0.2/250   \n",
       "mouse571618 estim1_2021-04-29_12-28-54                          0.2   \n",
       "mouse571620 estim_vis_2021-05-13_11-33-47                   0.2/250   \n",
       "\n",
       "0                                          Current (uA)  \\\n",
       "mouse_name  exp_name                                      \n",
       "mouse551400 estim_vis_2021-01-22_11-07-12      30/50/70   \n",
       "mouse569062 estim_vis_2021-02-18_11-17-51      15/35/60   \n",
       "mouse569068 estim_vis_2021-03-04_10-51-38      10/20/40   \n",
       "mouse569069 estim_vis1_2021-03-11_11-02-08     50/60/80   \n",
       "            estim_vis2_2021-03-12_10-52-44     20/40/70   \n",
       "mouse571619 estim1_2021-03-18_11-41-26         20/30/40   \n",
       "            estim2_2021-03-19_10-09-01         20/40/60   \n",
       "mouse569064 estim_vis_2021-04-08_10-28-24      15/40/60   \n",
       "mouse569073 estim_vis_2021-04-15_10-27-22      20/40/70   \n",
       "            estim_2021-04-16_10-42-44         60/80/100   \n",
       "mouse569072 estim_vis_2021-04-22_10-26-58      30/50/70   \n",
       "mouse571618 estim1_2021-04-29_12-28-54         40/70/90   \n",
       "mouse571620 estim_vis_2021-05-13_11-33-47     60/80/100   \n",
       "\n",
       "0                                          Cortical Area stimulation  \\\n",
       "mouse_name  exp_name                                                   \n",
       "mouse551400 estim_vis_2021-01-22_11-07-12                         M2   \n",
       "mouse569062 estim_vis_2021-02-18_11-17-51                         M2   \n",
       "mouse569068 estim_vis_2021-03-04_10-51-38                         M2   \n",
       "mouse569069 estim_vis1_2021-03-11_11-02-08                        M2   \n",
       "            estim_vis2_2021-03-12_10-52-44                        M2   \n",
       "mouse571619 estim1_2021-03-18_11-41-26                     SS-cortex   \n",
       "            estim2_2021-03-19_10-09-01         M2-frontal (2 depths)   \n",
       "mouse569064 estim_vis_2021-04-08_10-28-24                         M2   \n",
       "mouse569073 estim_vis_2021-04-15_10-27-22                         M2   \n",
       "            estim_2021-04-16_10-42-44                      SS-cortex   \n",
       "mouse569072 estim_vis_2021-04-22_10-26-58                  SS-cortex   \n",
       "mouse571618 estim1_2021-04-29_12-28-54         M2 (more superficial)   \n",
       "mouse571620 estim_vis_2021-05-13_11-33-47       SS-cortex (2 depths)   \n",
       "\n",
       "0                                          N trials per stimulus  \\\n",
       "mouse_name  exp_name                                               \n",
       "mouse551400 estim_vis_2021-01-22_11-07-12                120/100   \n",
       "mouse569062 estim_vis_2021-02-18_11-17-51                    120   \n",
       "mouse569068 estim_vis_2021-03-04_10-51-38                    120   \n",
       "mouse569069 estim_vis1_2021-03-11_11-02-08                   120   \n",
       "            estim_vis2_2021-03-12_10-52-44                   120   \n",
       "mouse571619 estim1_2021-03-18_11-41-26                       120   \n",
       "            estim2_2021-03-19_10-09-01                       120   \n",
       "mouse569064 estim_vis_2021-04-08_10-28-24                    120   \n",
       "mouse569073 estim_vis_2021-04-15_10-27-22                    120   \n",
       "            estim_2021-04-16_10-42-44                        120   \n",
       "mouse569072 estim_vis_2021-04-22_10-26-58                    120   \n",
       "mouse571618 estim1_2021-04-29_12-28-54                       120   \n",
       "mouse571620 estim_vis_2021-05-13_11-33-47                    120   \n",
       "\n",
       "0                                                                            EEG bad_channels  \\\n",
       "mouse_name  exp_name                                                                            \n",
       "mouse551400 estim_vis_2021-01-22_11-07-12   0,1,2,3,4,5,6,7,8,9,10,11,12,13,14,15,16,17,18...   \n",
       "mouse569062 estim_vis_2021-02-18_11-17-51                                                6,13   \n",
       "mouse569068 estim_vis_2021-03-04_10-51-38                                                       \n",
       "mouse569069 estim_vis1_2021-03-11_11-02-08                               7,8,9,10,11,12,13,14   \n",
       "            estim_vis2_2021-03-12_10-52-44                                                      \n",
       "mouse571619 estim1_2021-03-18_11-41-26                                                  2,3,4   \n",
       "            estim2_2021-03-19_10-09-01                                             2,3,4,5,13   \n",
       "mouse569064 estim_vis_2021-04-08_10-28-24                                                       \n",
       "mouse569073 estim_vis_2021-04-15_10-27-22                                              3,4,13   \n",
       "            estim_2021-04-16_10-42-44                              13,11,10,9,8,7,6,5,4,3,1,0   \n",
       "mouse569072 estim_vis_2021-04-22_10-26-58                                3,4,5,7,8,9,10,11,13   \n",
       "mouse571618 estim1_2021-04-29_12-28-54               0,1,2,3,4,5,6,7,8,9,10,11,12,13,14,16,19   \n",
       "mouse571620 estim_vis_2021-05-13_11-33-47                        0,1,2,3,4,5,6,7,8,9,10,13,14   \n",
       "\n",
       "0                                             Npx Units Sorted (X)  \\\n",
       "mouse_name  exp_name                                                 \n",
       "mouse551400 estim_vis_2021-01-22_11-07-12   F,B,D                X   \n",
       "mouse569062 estim_vis_2021-02-18_11-17-51   F,B,D                X   \n",
       "mouse569068 estim_vis_2021-03-04_10-51-38   F,B,D                X   \n",
       "mouse569069 estim_vis1_2021-03-11_11-02-08  F,B,C                X   \n",
       "            estim_vis2_2021-03-12_10-52-44  F,B,C                X   \n",
       "mouse571619 estim1_2021-03-18_11-41-26      F,B,C                X   \n",
       "            estim2_2021-03-19_10-09-01      F,B,C                X   \n",
       "mouse569064 estim_vis_2021-04-08_10-28-24   F,B,C                X   \n",
       "mouse569073 estim_vis_2021-04-15_10-27-22   F,B,C                X   \n",
       "            estim_2021-04-16_10-42-44       F,B,C                X   \n",
       "mouse569072 estim_vis_2021-04-22_10-26-58   F,B,C                X   \n",
       "mouse571618 estim1_2021-04-29_12-28-54      F,B,C                X   \n",
       "mouse571620 estim_vis_2021-05-13_11-33-47   F,B,C                X   \n",
       "\n",
       "0                                          Brain slices (X)  \\\n",
       "mouse_name  exp_name                                          \n",
       "mouse551400 estim_vis_2021-01-22_11-07-12                 X   \n",
       "mouse569062 estim_vis_2021-02-18_11-17-51                 X   \n",
       "mouse569068 estim_vis_2021-03-04_10-51-38                 X   \n",
       "mouse569069 estim_vis1_2021-03-11_11-02-08                X   \n",
       "            estim_vis2_2021-03-12_10-52-44                X   \n",
       "mouse571619 estim1_2021-03-18_11-41-26                    X   \n",
       "            estim2_2021-03-19_10-09-01                    X   \n",
       "mouse569064 estim_vis_2021-04-08_10-28-24                 X   \n",
       "mouse569073 estim_vis_2021-04-15_10-27-22                 X   \n",
       "            estim_2021-04-16_10-42-44                     X   \n",
       "mouse569072 estim_vis_2021-04-22_10-26-58                 X   \n",
       "mouse571618 estim1_2021-04-29_12-28-54                    X   \n",
       "mouse571620 estim_vis_2021-05-13_11-33-47                 X   \n",
       "\n",
       "0                                          Pupil tracking pre-processing  \\\n",
       "mouse_name  exp_name                                                       \n",
       "mouse551400 estim_vis_2021-01-22_11-07-12                                  \n",
       "mouse569062 estim_vis_2021-02-18_11-17-51                                  \n",
       "mouse569068 estim_vis_2021-03-04_10-51-38                                  \n",
       "mouse569069 estim_vis1_2021-03-11_11-02-08                                 \n",
       "            estim_vis2_2021-03-12_10-52-44                                 \n",
       "mouse571619 estim1_2021-03-18_11-41-26                                     \n",
       "            estim2_2021-03-19_10-09-01                                     \n",
       "mouse569064 estim_vis_2021-04-08_10-28-24                                  \n",
       "mouse569073 estim_vis_2021-04-15_10-27-22                                  \n",
       "            estim_2021-04-16_10-42-44                                      \n",
       "mouse569072 estim_vis_2021-04-22_10-26-58                                  \n",
       "mouse571618 estim1_2021-04-29_12-28-54                                     \n",
       "mouse571620 estim_vis_2021-05-13_11-33-47                                  \n",
       "\n",
       "0                                          Brain areas assignment  \\\n",
       "mouse_name  exp_name                                                \n",
       "mouse551400 estim_vis_2021-01-22_11-07-12                       X   \n",
       "mouse569062 estim_vis_2021-02-18_11-17-51                       X   \n",
       "mouse569068 estim_vis_2021-03-04_10-51-38                       X   \n",
       "mouse569069 estim_vis1_2021-03-11_11-02-08                      X   \n",
       "            estim_vis2_2021-03-12_10-52-44                      X   \n",
       "mouse571619 estim1_2021-03-18_11-41-26                          X   \n",
       "            estim2_2021-03-19_10-09-01                          X   \n",
       "mouse569064 estim_vis_2021-04-08_10-28-24                       X   \n",
       "mouse569073 estim_vis_2021-04-15_10-27-22                       X   \n",
       "            estim_2021-04-16_10-42-44                           X   \n",
       "mouse569072 estim_vis_2021-04-22_10-26-58                       X   \n",
       "mouse571618 estim1_2021-04-29_12-28-54                          X   \n",
       "mouse571620 estim_vis_2021-05-13_11-33-47                       X   \n",
       "\n",
       "0                                          CCF coordinates stim electrode (surface,tip)  \\\n",
       "mouse_name  exp_name                                                                      \n",
       "mouse551400 estim_vis_2021-01-22_11-07-12                [ 390,121,439], [ 419,267,442]   \n",
       "mouse569062 estim_vis_2021-02-18_11-17-51                 [370,146,387], [ 428,300,434]   \n",
       "mouse569068 estim_vis_2021-03-04_10-51-38                  [383,136,400], [446,289,442]   \n",
       "mouse569069 estim_vis1_2021-03-11_11-02-08                [293,156,456],  [331,266,505]   \n",
       "            estim_vis2_2021-03-12_10-52-44                [293,156,456],  [331,266,505]   \n",
       "mouse571619 estim1_2021-03-18_11-41-26                      [642,45,404], [649,238,431]   \n",
       "            estim2_2021-03-19_10-09-01                      [273,172,431],[286,314,462]   \n",
       "mouse569064 estim_vis_2021-04-08_10-28-24                  [369,134,419], [415,272,461]   \n",
       "mouse569073 estim_vis_2021-04-15_10-27-22                   [430,113,421],[437,258,440]   \n",
       "            estim_2021-04-16_10-42-44                                       not visible   \n",
       "mouse569072 estim_vis_2021-04-22_10-26-58                                   not visible   \n",
       "mouse571618 estim1_2021-04-29_12-28-54                     [415,112,441], [436,163,443]   \n",
       "mouse571620 estim_vis_2021-05-13_11-33-47                   [674,41,398], [663,136,420]   \n",
       "\n",
       "0                                          CCF area stim electrode (surface,tip)  \\\n",
       "mouse_name  exp_name                                                               \n",
       "mouse551400 estim_vis_2021-01-22_11-07-12                            MOs1, MOs6a   \n",
       "mouse569062 estim_vis_2021-02-18_11-17-51                              MOs1, ccg   \n",
       "mouse569068 estim_vis_2021-03-04_10-51-38                              MOs1, ccg   \n",
       "mouse569069 estim_vis1_2021-03-11_11-02-08                              MOs1,PL5   \n",
       "            estim_vis2_2021-03-12_10-52-44                              MOs1,PL5   \n",
       "mouse571619 estim1_2021-03-18_11-41-26                              SSp-tr1, CA3   \n",
       "            estim2_2021-03-19_10-09-01                             MOs1, ORBvl6a   \n",
       "mouse569064 estim_vis_2021-04-08_10-28-24                             MOs1, cing   \n",
       "mouse569073 estim_vis_2021-04-15_10-27-22                             MOp1,MOs6a   \n",
       "            estim_2021-04-16_10-42-44                                not visible   \n",
       "mouse569072 estim_vis_2021-04-22_10-26-58                            not visible   \n",
       "mouse571618 estim1_2021-04-29_12-28-54                                MOs1, MOs5   \n",
       "mouse571620 estim_vis_2021-05-13_11-33-47                      SSp-tr1, SSp-tr6a   \n",
       "\n",
       "0                                                                                       Notes  \n",
       "mouse_name  exp_name                                                                           \n",
       "mouse551400 estim_vis_2021-01-22_11-07-12   NO visual stim during the 2nd Recovery. The EE...  \n",
       "mouse569062 estim_vis_2021-02-18_11-17-51   ISO kept ~1%. White circles for the vis stim. ...  \n",
       "mouse569068 estim_vis_2021-03-04_10-51-38   ISO kept ~1%. White circles for the vis stim. ...  \n",
       "mouse569069 estim_vis1_2021-03-11_11-02-08  control exp in awake. Something happen to the ...  \n",
       "            estim_vis2_2021-03-12_10-52-44                                     ISO kept ~1%.   \n",
       "mouse571619 estim1_2021-03-18_11-41-26            all EEG channels very noisy. ISO kept ~1%.   \n",
       "            estim2_2021-03-19_10-09-01      2 different depths for the stim electrode in b...  \n",
       "mouse569064 estim_vis_2021-04-08_10-28-24   ISO kept ~1%. White circles for the vis stim. ...  \n",
       "mouse569073 estim_vis_2021-04-15_10-27-22   ISO kept ~1%. White circles for the vis stim. ...  \n",
       "            estim_2021-04-16_10-42-44       Control Exp. ISO kept ~1%. White circles for t...  \n",
       "mouse569072 estim_vis_2021-04-22_10-26-58   ISO kept ~1%.  EEG filter at 0.1Hz. EEG has hi...  \n",
       "mouse571618 estim1_2021-04-29_12-28-54                    ISO kept ~1%.  EEG filter at 0.1Hz.  \n",
       "mouse571620 estim_vis_2021-05-13_11-33-47   ISO kept ~1%.  EEG filter at 0.1Hz. visual sti...  "
      ]
     },
     "execution_count": 4,
     "metadata": {},
     "output_type": "execute_result"
    }
   ],
   "source": [
    "good_expt = gmetadata[(gmetadata['Units Sorted (X)'].isin(['X']))&(gmetadata['Brain areas assignment'].isin(['X']))&(gmetadata['Npx'].apply(lambda x: len(x.split(','))>2 if x is not None else False))].set_index(['mouse_name', 'exp_name'])\n",
    "good_expt"
   ]
  },
  {
   "cell_type": "code",
   "execution_count": 5,
   "metadata": {
    "execution": {
     "iopub.execute_input": "2021-07-22T04:00:36.654573Z",
     "iopub.status.busy": "2021-07-22T04:00:36.654229Z",
     "iopub.status.idle": "2021-07-22T04:00:36.680099Z",
     "shell.execute_reply": "2021-07-22T04:00:36.679521Z",
     "shell.execute_reply.started": "2021-07-22T04:00:36.654502Z"
    },
    "tags": []
   },
   "outputs": [],
   "source": [
    "def bin_spikes(spikes, bin_size_ms=1, t_start=0, t_end=1e5):\n",
    "    N = int((t_end-t_start)*1000/bin_size_ms)\n",
    "    spikes = spikes[(spikes>t_start)&(spikes<t_end)]\n",
    "    _binned_spikes = pd.Series(\n",
    "        index=(N * (spikes - t_start) / (t_end - t_start)).astype(int), data=1\n",
    "    )\n",
    "    counts = _binned_spikes.reset_index().groupby('index').size()\n",
    "    times = np.linspace(t_start, t_end, N, endpoint=False)\n",
    "    binned_spikes = np.zeros(N)\n",
    "    binned_spikes[counts.index] = counts\n",
    "    return pd.Series(binned_spikes, index=times, dtype=bool)\n",
    "\n",
    "def get_spikes(rec_folder, probe):\n",
    "    exp = EEGexp(rec_folder, preprocess=False, make_stim_csv=False)\n",
    "    stim_log = pd.read_csv(exp.stimulus_log_file)\n",
    "    stim_log.rename_axis(index='stim_id', inplace=True)\n",
    "    \n",
    "    # read raw spike time data\n",
    "    _spike_times = np.load(exp.ephys_params[probe]['spike_times'], mmap_mode='r')\n",
    "    _spike_clusters = np.load(exp.ephys_params[probe]['spike_clusters'], mmap_mode='r')\n",
    "    cluster_metrics = pd.read_csv(exp.ephys_params[probe]['cluster_metrics'], index_col=1).drop('Unnamed: 0', axis=1, errors='ignore')\n",
    "    cluster_groups = pd.read_csv(exp.ephys_params[probe]['cluster_group'], sep='\\t', index_col=0)\n",
    "\n",
    "    # rearrange into spike times for each cluster\n",
    "    spike_df = pd.DataFrame(index=_spike_clusters, data=_spike_times, columns=['time'])\n",
    "    spike_times = spike_df.groupby(level=0).apply(lambda g: g.values[:, 0])\n",
    "\n",
    "    # keep only good clusters and drop 'noise'\n",
    "    cluster_metrics = cluster_metrics[cluster_groups.group.isin(['good'])]\n",
    "    cluster_metrics = cluster_metrics[(cluster_metrics.isi_viol<0.5)&(cluster_metrics.amplitude_cutoff<0.1)]\n",
    "    spike_times = spike_times.loc[cluster_metrics.index]\n",
    "\n",
    "    # bin spikes into 1ms bins\n",
    "    spikes = {}\n",
    "    t_start = spike_times.apply(lambda x: x.min()).min().round(3)\n",
    "    t_end = spike_times.apply(lambda x: x.max()).max().round(3)\n",
    "    for u, t in tqdm(spike_times.items(), total=len(spike_times)):\n",
    "        spikes[u] = bin_spikes(t, t_start=t_start, t_end=t_end)\n",
    "    return pd.concat(spikes, axis=1, names='units').rename_axis('time')"
   ]
  },
  {
   "cell_type": "code",
   "execution_count": 6,
   "metadata": {
    "execution": {
     "iopub.execute_input": "2021-07-22T04:00:37.304892Z",
     "iopub.status.busy": "2021-07-22T04:00:37.304066Z",
     "iopub.status.idle": "2021-07-22T04:00:37.324394Z",
     "shell.execute_reply": "2021-07-22T04:00:37.323957Z",
     "shell.execute_reply.started": "2021-07-22T04:00:37.304780Z"
    },
    "tags": []
   },
   "outputs": [],
   "source": [
    "# mouse, expt = 'mouse551400', 'estim_vis_2021-01-22_11-07-12'\n",
    "\n",
    "# rec_folder = f'../tiny-blue-dot/zap-n-zip/EEG_exp/{mouse}/{expt}/experiment1/recording1/'\n",
    "\n",
    "# if not path.exists(path.join(destination_folder, mouse)):\n",
    "#     print('created mouse directory')\n",
    "#     os.mkdir(path.join(destination_folder, mouse))\n",
    "# if not path.exists(path.join(destination_folder, mouse, expt)):\n",
    "#     print('created experiment directory')\n",
    "#     os.mkdir(path.join(destination_folder, mouse, expt))\n",
    "\n",
    "# exp = EEGexp(rec_folder, preprocess=False, make_stim_csv=False)\n",
    "# ephys_sources = exp.ephys_params.keys()\n",
    "# probes = [x for x in ephys_sources if 'probe' in x]\n",
    "\n",
    "# data = {}\n",
    "# unit_meta = {}\n",
    "# channel_meta = {}\n",
    "# for probe in probes:\n",
    "    \n",
    "#     unit_meta[probe] = pd.read_csv(\n",
    "#         exp.ephys_params[probe]['cluster_metrics'], index_col=0\n",
    "#     ).set_index('cluster_id').join(pd.read_csv(\n",
    "#         exp.ephys_params['probeF']['cluster_group'], sep='\\t', index_col='cluster_id'\n",
    "#     ))\n",
    "    \n",
    "#     with open(exp.ephys_params[probe]['probe_info'], 'r') as f:\n",
    "#         _data = json.load(f)\n",
    "#     channel_meta[probe] = pd.DataFrame(_data).set_index('channel')\n",
    "    \n",
    "#     # save waveforms\n",
    "#     waveforms = np.load(exp.ephys_params[probe]['waveforms'])\n",
    "#     np.savez(path.join(destination_folder, mouse, expt, f'{probe}_waveforms.npz'), waveforms)\n",
    "    \n",
    "#     # collect LFP\n",
    "#     corrected_fname = f\"{exp.ephys_params[probe]['lfp_continuous'][:-4]}_corrected.npy\"\n",
    "#     lfp = np.memmap(corrected_fname, mode='r+', dtype='int16')\n",
    "#     lfp = np.reshape(lfp, (int(lfp.size/exp.ephys_params[probe]['num_chs']), exp.ephys_params[probe]['num_chs']))\n",
    "#     timestamps = np.load(exp.ephys_params[probe]['lfp_timestamps'])\n",
    "#     data[(probe, 'lfp')] = pd.DataFrame(lfp, index=timestamps)\n",
    "    \n",
    "#     # collect spikes\n",
    "#     data[(probe, 'spikes')] = get_spikes(rec_folder, probe)\n",
    "\n",
    "# # collect metadata\n",
    "# data[('meta', 'units')] = pd.concat(unit_meta, names=['probe', 'cluster_id'])\n",
    "# data[('meta', 'channels')] = pd.concat(channel_meta, names=['probe', 'channel'])\n",
    "# data[('meta', 'stim')] = pd.read_csv(exp.stimulus_log_file)\n",
    "# data[('meta', 'running')] = exp.load_running(return_type='pd')\n",
    "# try:\n",
    "#     data[('meta', 'iso')] = exp.load_analog_iso(return_type='pd')\n",
    "# except:\n",
    "#     pass\n",
    "\n",
    "# # collect data\n",
    "# data[('eeg', 'lfp')] = exp.load_eegdata(return_type='pd')\n",
    "\n",
    "# # save data\n",
    "# for k, v in data.items():\n",
    "# #     print(k)\n",
    "#     fname = path.join(destination_folder, mouse, expt, f'{k[0]}_{k[1]}.bz2')\n",
    "#     v.to_pickle(fname)"
   ]
  },
  {
   "cell_type": "code",
   "execution_count": 7,
   "metadata": {
    "execution": {
     "iopub.execute_input": "2021-07-22T04:00:37.796256Z",
     "iopub.status.busy": "2021-07-22T04:00:37.795423Z",
     "iopub.status.idle": "2021-07-22T13:10:49.661416Z",
     "shell.execute_reply": "2021-07-22T13:10:49.656518Z",
     "shell.execute_reply.started": "2021-07-22T04:00:37.796145Z"
    },
    "tags": []
   },
   "outputs": [
    {
     "name": "stdout",
     "output_type": "stream",
     "text": [
      "Found pre-existing folder for mouse571620 (estim_vis_2021-05-13_11-33-47)\n",
      "created mouse directory\n",
      "created experiment directory\n",
      "Experiment type: electrical stimulation\n",
      "Experiment type: electrical stimulation\n"
     ]
    },
    {
     "data": {
      "application/vnd.jupyter.widget-view+json": {
       "model_id": "9c9f7188fa71459d83492b849a059d15",
       "version_major": 2,
       "version_minor": 0
      },
      "text/plain": [
       "HBox(children=(FloatProgress(value=0.0, max=275.0), HTML(value='')))"
      ]
     },
     "metadata": {},
     "output_type": "display_data"
    },
    {
     "name": "stdout",
     "output_type": "stream",
     "text": [
      "\n",
      "Experiment type: electrical stimulation\n"
     ]
    },
    {
     "data": {
      "application/vnd.jupyter.widget-view+json": {
       "model_id": "f4e75ba95ce843368c874028ad396745",
       "version_major": 2,
       "version_minor": 0
      },
      "text/plain": [
       "HBox(children=(FloatProgress(value=0.0, max=196.0), HTML(value='')))"
      ]
     },
     "metadata": {},
     "output_type": "display_data"
    },
    {
     "name": "stdout",
     "output_type": "stream",
     "text": [
      "\n",
      "Experiment type: electrical stimulation\n"
     ]
    },
    {
     "data": {
      "application/vnd.jupyter.widget-view+json": {
       "model_id": "46d816f6f4bc453a916ba346716000ee",
       "version_major": 2,
       "version_minor": 0
      },
      "text/plain": [
       "HBox(children=(FloatProgress(value=0.0, max=200.0), HTML(value='')))"
      ]
     },
     "metadata": {},
     "output_type": "display_data"
    },
    {
     "name": "stdout",
     "output_type": "stream",
     "text": [
      "\n"
     ]
    },
    {
     "name": "stderr",
     "output_type": "stream",
     "text": [
      "/home/saurabh.gandhi/Projects/.env_zz/lib/python3.7/site-packages/allensdk/brain_observatory/sync_dataset.py:109: UserWarning: The loaded sync file contains the following deprecated line label keys: {'eyetracking'}. Consider updating the sync file line labels.\n",
      "  self._check_line_labels()\n"
     ]
    },
    {
     "name": "stdout",
     "output_type": "stream",
     "text": [
      "created mouse directory\n",
      "created experiment directory\n",
      "Experiment type: electrical and sensory stimulation\n",
      "SomnoSuite log file not found.\n",
      "Experiment type: electrical and sensory stimulation\n",
      "SomnoSuite log file not found.\n"
     ]
    },
    {
     "data": {
      "application/vnd.jupyter.widget-view+json": {
       "model_id": "351169d3a2e345819f99a00cdaaccda8",
       "version_major": 2,
       "version_minor": 0
      },
      "text/plain": [
       "HBox(children=(FloatProgress(value=0.0, max=380.0), HTML(value='')))"
      ]
     },
     "metadata": {},
     "output_type": "display_data"
    },
    {
     "name": "stdout",
     "output_type": "stream",
     "text": [
      "\n",
      "Experiment type: electrical and sensory stimulation\n",
      "SomnoSuite log file not found.\n"
     ]
    },
    {
     "data": {
      "application/vnd.jupyter.widget-view+json": {
       "model_id": "268deea6c83044beb350dc1cee6342a6",
       "version_major": 2,
       "version_minor": 0
      },
      "text/plain": [
       "HBox(children=(FloatProgress(value=0.0, max=292.0), HTML(value='')))"
      ]
     },
     "metadata": {},
     "output_type": "display_data"
    },
    {
     "name": "stdout",
     "output_type": "stream",
     "text": [
      "\n",
      "Experiment type: electrical and sensory stimulation\n",
      "SomnoSuite log file not found.\n"
     ]
    },
    {
     "data": {
      "application/vnd.jupyter.widget-view+json": {
       "model_id": "79899680d9b744518253767ea039b3cf",
       "version_major": 2,
       "version_minor": 0
      },
      "text/plain": [
       "HBox(children=(FloatProgress(value=0.0, max=323.0), HTML(value='')))"
      ]
     },
     "metadata": {},
     "output_type": "display_data"
    },
    {
     "name": "stdout",
     "output_type": "stream",
     "text": [
      "\n"
     ]
    },
    {
     "name": "stderr",
     "output_type": "stream",
     "text": [
      "/home/saurabh.gandhi/Projects/.env_zz/lib/python3.7/site-packages/allensdk/brain_observatory/sync_dataset.py:109: UserWarning: The loaded sync file contains the following deprecated line label keys: {'eyetracking'}. Consider updating the sync file line labels.\n",
      "  self._check_line_labels()\n"
     ]
    },
    {
     "name": "stdout",
     "output_type": "stream",
     "text": [
      "created mouse directory\n",
      "created experiment directory\n",
      "Experiment type: electrical stimulation\n",
      "Experiment type: electrical stimulation\n"
     ]
    },
    {
     "data": {
      "application/vnd.jupyter.widget-view+json": {
       "model_id": "8c12cdf9fee0466a82edf20f65c46d74",
       "version_major": 2,
       "version_minor": 0
      },
      "text/plain": [
       "HBox(children=(FloatProgress(value=0.0, max=222.0), HTML(value='')))"
      ]
     },
     "metadata": {},
     "output_type": "display_data"
    },
    {
     "name": "stdout",
     "output_type": "stream",
     "text": [
      "\n",
      "Experiment type: electrical stimulation\n"
     ]
    },
    {
     "data": {
      "application/vnd.jupyter.widget-view+json": {
       "model_id": "e8a19c606b5443a5a542e555c05aa26b",
       "version_major": 2,
       "version_minor": 0
      },
      "text/plain": [
       "HBox(children=(FloatProgress(value=0.0, max=307.0), HTML(value='')))"
      ]
     },
     "metadata": {},
     "output_type": "display_data"
    },
    {
     "name": "stdout",
     "output_type": "stream",
     "text": [
      "\n",
      "Experiment type: electrical stimulation\n"
     ]
    },
    {
     "data": {
      "application/vnd.jupyter.widget-view+json": {
       "model_id": "16f38f6003484876bc344cceb6062d49",
       "version_major": 2,
       "version_minor": 0
      },
      "text/plain": [
       "HBox(children=(FloatProgress(value=0.0, max=176.0), HTML(value='')))"
      ]
     },
     "metadata": {},
     "output_type": "display_data"
    },
    {
     "name": "stdout",
     "output_type": "stream",
     "text": [
      "\n"
     ]
    },
    {
     "name": "stderr",
     "output_type": "stream",
     "text": [
      "/home/saurabh.gandhi/Projects/.env_zz/lib/python3.7/site-packages/allensdk/brain_observatory/sync_dataset.py:109: UserWarning: The loaded sync file contains the following deprecated line label keys: {'eyetracking'}. Consider updating the sync file line labels.\n",
      "  self._check_line_labels()\n"
     ]
    },
    {
     "name": "stdout",
     "output_type": "stream",
     "text": [
      "created experiment directory\n",
      "Experiment type: electrical and sensory stimulation\n",
      "Experiment type: electrical and sensory stimulation\n"
     ]
    },
    {
     "data": {
      "application/vnd.jupyter.widget-view+json": {
       "model_id": "8c43eade6ba146448e2ed2110d37f8ea",
       "version_major": 2,
       "version_minor": 0
      },
      "text/plain": [
       "HBox(children=(FloatProgress(value=0.0, max=239.0), HTML(value='')))"
      ]
     },
     "metadata": {},
     "output_type": "display_data"
    },
    {
     "name": "stdout",
     "output_type": "stream",
     "text": [
      "\n",
      "Experiment type: electrical and sensory stimulation\n"
     ]
    },
    {
     "data": {
      "application/vnd.jupyter.widget-view+json": {
       "model_id": "979d8c4a1325496c97b8a4da5fe34704",
       "version_major": 2,
       "version_minor": 0
      },
      "text/plain": [
       "HBox(children=(FloatProgress(value=0.0, max=290.0), HTML(value='')))"
      ]
     },
     "metadata": {},
     "output_type": "display_data"
    },
    {
     "name": "stdout",
     "output_type": "stream",
     "text": [
      "\n",
      "Experiment type: electrical and sensory stimulation\n"
     ]
    },
    {
     "data": {
      "application/vnd.jupyter.widget-view+json": {
       "model_id": "65a31c4169d742a5b124a705f6bda6df",
       "version_major": 2,
       "version_minor": 0
      },
      "text/plain": [
       "HBox(children=(FloatProgress(value=0.0, max=102.0), HTML(value='')))"
      ]
     },
     "metadata": {},
     "output_type": "display_data"
    },
    {
     "name": "stdout",
     "output_type": "stream",
     "text": [
      "\n"
     ]
    },
    {
     "name": "stderr",
     "output_type": "stream",
     "text": [
      "/home/saurabh.gandhi/Projects/.env_zz/lib/python3.7/site-packages/allensdk/brain_observatory/sync_dataset.py:109: UserWarning: The loaded sync file contains the following deprecated line label keys: {'eyetracking'}. Consider updating the sync file line labels.\n",
      "  self._check_line_labels()\n"
     ]
    },
    {
     "name": "stdout",
     "output_type": "stream",
     "text": [
      "created mouse directory\n",
      "created experiment directory\n",
      "Experiment type: electrical and sensory stimulation\n",
      "SomnoSuite log file not found.\n",
      "Experiment type: electrical and sensory stimulation\n",
      "SomnoSuite log file not found.\n"
     ]
    },
    {
     "data": {
      "application/vnd.jupyter.widget-view+json": {
       "model_id": "b4b0635ddc7a4409b5fe174ed6e65731",
       "version_major": 2,
       "version_minor": 0
      },
      "text/plain": [
       "HBox(children=(FloatProgress(value=0.0, max=84.0), HTML(value='')))"
      ]
     },
     "metadata": {},
     "output_type": "display_data"
    },
    {
     "name": "stdout",
     "output_type": "stream",
     "text": [
      "\n",
      "Experiment type: electrical and sensory stimulation\n",
      "SomnoSuite log file not found.\n"
     ]
    },
    {
     "data": {
      "application/vnd.jupyter.widget-view+json": {
       "model_id": "f73c4eb222014fd591560af2540b6c9b",
       "version_major": 2,
       "version_minor": 0
      },
      "text/plain": [
       "HBox(children=(FloatProgress(value=0.0, max=309.0), HTML(value='')))"
      ]
     },
     "metadata": {},
     "output_type": "display_data"
    },
    {
     "name": "stdout",
     "output_type": "stream",
     "text": [
      "\n",
      "Experiment type: electrical and sensory stimulation\n",
      "SomnoSuite log file not found.\n"
     ]
    },
    {
     "data": {
      "application/vnd.jupyter.widget-view+json": {
       "model_id": "57848902e9294c39913425b09ff4316a",
       "version_major": 2,
       "version_minor": 0
      },
      "text/plain": [
       "HBox(children=(FloatProgress(value=0.0, max=88.0), HTML(value='')))"
      ]
     },
     "metadata": {},
     "output_type": "display_data"
    },
    {
     "name": "stdout",
     "output_type": "stream",
     "text": [
      "\n"
     ]
    },
    {
     "name": "stderr",
     "output_type": "stream",
     "text": [
      "/home/saurabh.gandhi/Projects/.env_zz/lib/python3.7/site-packages/allensdk/brain_observatory/sync_dataset.py:109: UserWarning: The loaded sync file contains the following deprecated line label keys: {'eyetracking'}. Consider updating the sync file line labels.\n",
      "  self._check_line_labels()\n"
     ]
    },
    {
     "name": "stdout",
     "output_type": "stream",
     "text": [
      "created mouse directory\n",
      "created experiment directory\n",
      "Experiment type: electrical stimulation\n",
      "SomnoSuite log file not found.\n",
      "Experiment type: electrical stimulation\n",
      "SomnoSuite log file not found.\n"
     ]
    },
    {
     "data": {
      "application/vnd.jupyter.widget-view+json": {
       "model_id": "af1ff2a0871540f8b755e54c003cf02a",
       "version_major": 2,
       "version_minor": 0
      },
      "text/plain": [
       "HBox(children=(FloatProgress(value=0.0, max=218.0), HTML(value='')))"
      ]
     },
     "metadata": {},
     "output_type": "display_data"
    },
    {
     "name": "stdout",
     "output_type": "stream",
     "text": [
      "\n",
      "Experiment type: electrical stimulation\n",
      "SomnoSuite log file not found.\n"
     ]
    },
    {
     "data": {
      "application/vnd.jupyter.widget-view+json": {
       "model_id": "3427b10bf0074894acb1b0c8505be9dd",
       "version_major": 2,
       "version_minor": 0
      },
      "text/plain": [
       "HBox(children=(FloatProgress(value=0.0, max=343.0), HTML(value='')))"
      ]
     },
     "metadata": {},
     "output_type": "display_data"
    },
    {
     "name": "stdout",
     "output_type": "stream",
     "text": [
      "\n",
      "Experiment type: electrical stimulation\n",
      "SomnoSuite log file not found.\n"
     ]
    },
    {
     "data": {
      "application/vnd.jupyter.widget-view+json": {
       "model_id": "e032af51fd324c56ae3e152ab028c042",
       "version_major": 2,
       "version_minor": 0
      },
      "text/plain": [
       "HBox(children=(FloatProgress(value=0.0, max=298.0), HTML(value='')))"
      ]
     },
     "metadata": {},
     "output_type": "display_data"
    },
    {
     "name": "stdout",
     "output_type": "stream",
     "text": [
      "\n"
     ]
    },
    {
     "name": "stderr",
     "output_type": "stream",
     "text": [
      "/home/saurabh.gandhi/Projects/.env_zz/lib/python3.7/site-packages/allensdk/brain_observatory/sync_dataset.py:109: UserWarning: The loaded sync file contains the following deprecated line label keys: {'eyetracking'}. Consider updating the sync file line labels.\n",
      "  self._check_line_labels()\n"
     ]
    },
    {
     "name": "stdout",
     "output_type": "stream",
     "text": [
      "created experiment directory\n",
      "Experiment type: electrical stimulation\n",
      "SomnoSuite log file not found.\n",
      "Experiment type: electrical stimulation\n",
      "SomnoSuite log file not found.\n"
     ]
    },
    {
     "data": {
      "application/vnd.jupyter.widget-view+json": {
       "model_id": "5d9183c81a9c4d63871ff360bb77edf6",
       "version_major": 2,
       "version_minor": 0
      },
      "text/plain": [
       "HBox(children=(FloatProgress(value=0.0, max=231.0), HTML(value='')))"
      ]
     },
     "metadata": {},
     "output_type": "display_data"
    },
    {
     "name": "stdout",
     "output_type": "stream",
     "text": [
      "\n"
     ]
    },
    {
     "ename": "FileNotFoundError",
     "evalue": "[Errno 2] No such file or directory: '../tiny-blue-dot/zap-n-zip/EEG_exp/mouse571619/estim1_2021-03-18_11-41-26/experiment1/probeC_sorted/continuous/Neuropix-PXI-100.1/continuous_corrected.npy'",
     "output_type": "error",
     "traceback": [
      "\u001b[0;31m---------------------------------------------------------------------------\u001b[0m",
      "\u001b[0;31mFileNotFoundError\u001b[0m                         Traceback (most recent call last)",
      "\u001b[0;32m<ipython-input-7-8e084dd8e8b7>\u001b[0m in \u001b[0;36m<module>\u001b[0;34m\u001b[0m\n\u001b[1;32m     37\u001b[0m         \u001b[0;31m# collect LFP\u001b[0m\u001b[0;34m\u001b[0m\u001b[0;34m\u001b[0m\u001b[0;34m\u001b[0m\u001b[0m\n\u001b[1;32m     38\u001b[0m         \u001b[0mcorrected_fname\u001b[0m \u001b[0;34m=\u001b[0m \u001b[0;34mf\"{exp.ephys_params[probe]['lfp_continuous'][:-4]}_corrected.npy\"\u001b[0m\u001b[0;34m\u001b[0m\u001b[0;34m\u001b[0m\u001b[0m\n\u001b[0;32m---> 39\u001b[0;31m         \u001b[0mlfp\u001b[0m \u001b[0;34m=\u001b[0m \u001b[0mnp\u001b[0m\u001b[0;34m.\u001b[0m\u001b[0mmemmap\u001b[0m\u001b[0;34m(\u001b[0m\u001b[0mcorrected_fname\u001b[0m\u001b[0;34m,\u001b[0m \u001b[0mmode\u001b[0m\u001b[0;34m=\u001b[0m\u001b[0;34m'r+'\u001b[0m\u001b[0;34m,\u001b[0m \u001b[0mdtype\u001b[0m\u001b[0;34m=\u001b[0m\u001b[0;34m'int16'\u001b[0m\u001b[0;34m)\u001b[0m\u001b[0;34m\u001b[0m\u001b[0;34m\u001b[0m\u001b[0m\n\u001b[0m\u001b[1;32m     40\u001b[0m         \u001b[0mlfp\u001b[0m \u001b[0;34m=\u001b[0m \u001b[0mnp\u001b[0m\u001b[0;34m.\u001b[0m\u001b[0mreshape\u001b[0m\u001b[0;34m(\u001b[0m\u001b[0mlfp\u001b[0m\u001b[0;34m,\u001b[0m \u001b[0;34m(\u001b[0m\u001b[0mint\u001b[0m\u001b[0;34m(\u001b[0m\u001b[0mlfp\u001b[0m\u001b[0;34m.\u001b[0m\u001b[0msize\u001b[0m\u001b[0;34m/\u001b[0m\u001b[0mexp\u001b[0m\u001b[0;34m.\u001b[0m\u001b[0mephys_params\u001b[0m\u001b[0;34m[\u001b[0m\u001b[0mprobe\u001b[0m\u001b[0;34m]\u001b[0m\u001b[0;34m[\u001b[0m\u001b[0;34m'num_chs'\u001b[0m\u001b[0;34m]\u001b[0m\u001b[0;34m)\u001b[0m\u001b[0;34m,\u001b[0m \u001b[0mexp\u001b[0m\u001b[0;34m.\u001b[0m\u001b[0mephys_params\u001b[0m\u001b[0;34m[\u001b[0m\u001b[0mprobe\u001b[0m\u001b[0;34m]\u001b[0m\u001b[0;34m[\u001b[0m\u001b[0;34m'num_chs'\u001b[0m\u001b[0;34m]\u001b[0m\u001b[0;34m)\u001b[0m\u001b[0;34m)\u001b[0m\u001b[0;34m\u001b[0m\u001b[0;34m\u001b[0m\u001b[0m\n\u001b[1;32m     41\u001b[0m         \u001b[0mtimestamps\u001b[0m \u001b[0;34m=\u001b[0m \u001b[0mnp\u001b[0m\u001b[0;34m.\u001b[0m\u001b[0mload\u001b[0m\u001b[0;34m(\u001b[0m\u001b[0mexp\u001b[0m\u001b[0;34m.\u001b[0m\u001b[0mephys_params\u001b[0m\u001b[0;34m[\u001b[0m\u001b[0mprobe\u001b[0m\u001b[0;34m]\u001b[0m\u001b[0;34m[\u001b[0m\u001b[0;34m'lfp_timestamps'\u001b[0m\u001b[0;34m]\u001b[0m\u001b[0;34m)\u001b[0m\u001b[0;34m\u001b[0m\u001b[0;34m\u001b[0m\u001b[0m\n",
      "\u001b[0;32m~/Projects/.env_zz/lib/python3.7/site-packages/numpy/core/memmap.py\u001b[0m in \u001b[0;36m__new__\u001b[0;34m(subtype, filename, dtype, mode, offset, shape, order)\u001b[0m\n\u001b[1;32m    223\u001b[0m             \u001b[0mf_ctx\u001b[0m \u001b[0;34m=\u001b[0m \u001b[0mcontextlib_nullcontext\u001b[0m\u001b[0;34m(\u001b[0m\u001b[0mfilename\u001b[0m\u001b[0;34m)\u001b[0m\u001b[0;34m\u001b[0m\u001b[0;34m\u001b[0m\u001b[0m\n\u001b[1;32m    224\u001b[0m         \u001b[0;32melse\u001b[0m\u001b[0;34m:\u001b[0m\u001b[0;34m\u001b[0m\u001b[0;34m\u001b[0m\u001b[0m\n\u001b[0;32m--> 225\u001b[0;31m             \u001b[0mf_ctx\u001b[0m \u001b[0;34m=\u001b[0m \u001b[0mopen\u001b[0m\u001b[0;34m(\u001b[0m\u001b[0mos_fspath\u001b[0m\u001b[0;34m(\u001b[0m\u001b[0mfilename\u001b[0m\u001b[0;34m)\u001b[0m\u001b[0;34m,\u001b[0m \u001b[0;34m(\u001b[0m\u001b[0;34m'r'\u001b[0m \u001b[0;32mif\u001b[0m \u001b[0mmode\u001b[0m \u001b[0;34m==\u001b[0m \u001b[0;34m'c'\u001b[0m \u001b[0;32melse\u001b[0m \u001b[0mmode\u001b[0m\u001b[0;34m)\u001b[0m\u001b[0;34m+\u001b[0m\u001b[0;34m'b'\u001b[0m\u001b[0;34m)\u001b[0m\u001b[0;34m\u001b[0m\u001b[0;34m\u001b[0m\u001b[0m\n\u001b[0m\u001b[1;32m    226\u001b[0m \u001b[0;34m\u001b[0m\u001b[0m\n\u001b[1;32m    227\u001b[0m         \u001b[0;32mwith\u001b[0m \u001b[0mf_ctx\u001b[0m \u001b[0;32mas\u001b[0m \u001b[0mfid\u001b[0m\u001b[0;34m:\u001b[0m\u001b[0;34m\u001b[0m\u001b[0;34m\u001b[0m\u001b[0m\n",
      "\u001b[0;31mFileNotFoundError\u001b[0m: [Errno 2] No such file or directory: '../tiny-blue-dot/zap-n-zip/EEG_exp/mouse571619/estim1_2021-03-18_11-41-26/experiment1/probeC_sorted/continuous/Neuropix-PXI-100.1/continuous_corrected.npy'"
     ]
    }
   ],
   "source": [
    "for mouse, expt in good_expt.index[::-1]:\n",
    "    rec_folder = f'../tiny-blue-dot/zap-n-zip/EEG_exp/{mouse}/{expt}/experiment1/recording1/'\n",
    "\n",
    "    if not path.exists(path.join(destination_folder, mouse)):\n",
    "        print('created mouse directory')\n",
    "        os.mkdir(path.join(destination_folder, mouse))\n",
    "    if not path.exists(path.join(destination_folder, mouse, expt)):\n",
    "        print('created experiment directory')\n",
    "        os.mkdir(path.join(destination_folder, mouse, expt))\n",
    "    else:\n",
    "        print(f'Found pre-existing folder for {mouse} ({expt})')\n",
    "        continue\n",
    "\n",
    "    exp = EEGexp(rec_folder, preprocess=False, make_stim_csv=False)\n",
    "    ephys_sources = exp.ephys_params.keys()\n",
    "    probes = [x for x in ephys_sources if 'probe' in x]\n",
    "\n",
    "    data = {}\n",
    "    unit_meta = {}\n",
    "    channel_meta = {}\n",
    "    for probe in probes:\n",
    "\n",
    "        unit_meta[probe] = pd.read_csv(\n",
    "            exp.ephys_params[probe]['cluster_metrics'], index_col=0\n",
    "        ).set_index('cluster_id').join(pd.read_csv(\n",
    "            exp.ephys_params['probeF']['cluster_group'], sep='\\t', index_col='cluster_id'\n",
    "        ))\n",
    "\n",
    "        with open(exp.ephys_params[probe]['probe_info'], 'r') as f:\n",
    "            _data = json.load(f)\n",
    "        channel_meta[probe] = pd.DataFrame(_data).set_index('channel')\n",
    "\n",
    "        # save waveforms\n",
    "        waveforms = np.load(exp.ephys_params[probe]['waveforms'])\n",
    "        np.savez(path.join(destination_folder, mouse, expt, f'{probe}_waveforms.npz'), waveforms)\n",
    "\n",
    "        # collect LFP\n",
    "        corrected_fname = f\"{exp.ephys_params[probe]['lfp_continuous'][:-4]}_corrected.npy\"\n",
    "        lfp = np.memmap(corrected_fname, mode='r+', dtype='int16')\n",
    "        lfp = np.reshape(lfp, (int(lfp.size/exp.ephys_params[probe]['num_chs']), exp.ephys_params[probe]['num_chs']))\n",
    "        timestamps = np.load(exp.ephys_params[probe]['lfp_timestamps'])\n",
    "        data[(probe, 'lfp')] = pd.DataFrame(lfp, index=timestamps)\n",
    "\n",
    "        # collect spikes\n",
    "        data[(probe, 'spikes')] = get_spikes(rec_folder, probe)\n",
    "\n",
    "    # collect metadata\n",
    "    data[('meta', 'units')] = pd.concat(unit_meta, names=['probe', 'cluster_id'])\n",
    "    data[('meta', 'channels')] = pd.concat(channel_meta, names=['probe', 'channel'])\n",
    "    data[('meta', 'stim')] = pd.read_csv(exp.stimulus_log_file)\n",
    "    data[('meta', 'running')] = exp.load_running(return_type='pd')\n",
    "    try:\n",
    "        data[('meta', 'iso')] = exp.load_analog_iso(return_type='pd')\n",
    "    except:\n",
    "        pass\n",
    "\n",
    "    # collect data\n",
    "    data[('eeg', 'lfp')] = exp.load_eegdata(return_type='pd')\n",
    "\n",
    "    # save data\n",
    "    for k, v in data.items():\n",
    "    #     print(k)\n",
    "        fname = path.join(destination_folder, mouse, expt, f'{k[0]}_{k[1]}.bz2')\n",
    "        v.to_pickle(fname)"
   ]
  },
  {
   "cell_type": "code",
   "execution_count": null,
   "metadata": {},
   "outputs": [],
   "source": []
  }
 ],
 "metadata": {
  "kernelspec": {
   "display_name": "zapnzip",
   "language": "python",
   "name": "zapnzip"
  },
  "language_info": {
   "codemirror_mode": {
    "name": "ipython",
    "version": 3
   },
   "file_extension": ".py",
   "mimetype": "text/x-python",
   "name": "python",
   "nbconvert_exporter": "python",
   "pygments_lexer": "ipython3",
   "version": "3.7.4"
  },
  "widgets": {
   "application/vnd.jupyter.widget-state+json": {
    "state": {
     "02c622a5d2124797a918c7c16caa682b": {
      "model_module": "@jupyter-widgets/base",
      "model_module_version": "1.2.0",
      "model_name": "LayoutModel",
      "state": {}
     },
     "0436887e73d84ad389473b980496d5e7": {
      "model_module": "@jupyter-widgets/base",
      "model_module_version": "1.2.0",
      "model_name": "LayoutModel",
      "state": {}
     },
     "0470d346e964442d8d13a1bdd5c6d768": {
      "model_module": "@jupyter-widgets/base",
      "model_module_version": "1.2.0",
      "model_name": "LayoutModel",
      "state": {}
     },
     "056f0d39c46f458f83a2240b404d706b": {
      "model_module": "@jupyter-widgets/controls",
      "model_module_version": "1.5.0",
      "model_name": "ProgressStyleModel",
      "state": {
       "description_width": "initial"
      }
     },
     "058c086e227949b4af77a209a5303510": {
      "model_module": "@jupyter-widgets/controls",
      "model_module_version": "1.5.0",
      "model_name": "DescriptionStyleModel",
      "state": {
       "description_width": ""
      }
     },
     "0631ed91abdc48c0abcdfc478df48cd2": {
      "model_module": "@jupyter-widgets/controls",
      "model_module_version": "1.5.0",
      "model_name": "FloatProgressModel",
      "state": {
       "bar_style": "success",
       "description": "100%",
       "layout": "IPY_MODEL_1a8e061a287d42b29b1b12f6f70634ee",
       "max": 102,
       "style": "IPY_MODEL_06fd979939ac43e485e08e221b12eacd",
       "value": 102
      }
     },
     "06fd979939ac43e485e08e221b12eacd": {
      "model_module": "@jupyter-widgets/controls",
      "model_module_version": "1.5.0",
      "model_name": "ProgressStyleModel",
      "state": {
       "description_width": "initial"
      }
     },
     "07d7a4b4145540898b57c5044e4a1512": {
      "model_module": "@jupyter-widgets/controls",
      "model_module_version": "1.5.0",
      "model_name": "FloatProgressModel",
      "state": {
       "bar_style": "success",
       "description": "100%",
       "layout": "IPY_MODEL_688fa0a3cb27450894dfb5d1939575aa",
       "max": 290,
       "style": "IPY_MODEL_d49759ac32544edb8794cce69063a261",
       "value": 290
      }
     },
     "081b8a5456af4da9b596fd524bd79c18": {
      "model_module": "@jupyter-widgets/base",
      "model_module_version": "1.2.0",
      "model_name": "LayoutModel",
      "state": {}
     },
     "09ec36c6460b4923bc4adc3524ce24d4": {
      "model_module": "@jupyter-widgets/base",
      "model_module_version": "1.2.0",
      "model_name": "LayoutModel",
      "state": {}
     },
     "0c63927a96b34618971bd8822f9a2e78": {
      "model_module": "@jupyter-widgets/base",
      "model_module_version": "1.2.0",
      "model_name": "LayoutModel",
      "state": {}
     },
     "102331e3065341dd8bf207d0cd6f0e92": {
      "model_module": "@jupyter-widgets/controls",
      "model_module_version": "1.5.0",
      "model_name": "DescriptionStyleModel",
      "state": {
       "description_width": ""
      }
     },
     "13421ac5d295469489f87dbc09e6df57": {
      "model_module": "@jupyter-widgets/base",
      "model_module_version": "1.2.0",
      "model_name": "LayoutModel",
      "state": {}
     },
     "152110ab711f424ebb457ec22611e4e3": {
      "model_module": "@jupyter-widgets/base",
      "model_module_version": "1.2.0",
      "model_name": "LayoutModel",
      "state": {}
     },
     "161d678830e64539a611cd2ff6eab77f": {
      "model_module": "@jupyter-widgets/base",
      "model_module_version": "1.2.0",
      "model_name": "LayoutModel",
      "state": {}
     },
     "16d547e1e4a44d1c893398450f27c89f": {
      "model_module": "@jupyter-widgets/controls",
      "model_module_version": "1.5.0",
      "model_name": "FloatProgressModel",
      "state": {
       "bar_style": "success",
       "description": "100%",
       "layout": "IPY_MODEL_b67b74c9e7ed4fcdbe3d5872e7517b63",
       "max": 275,
       "style": "IPY_MODEL_d3c30f3293874606a99c0f900ffe7ec3",
       "value": 275
      }
     },
     "16f38f6003484876bc344cceb6062d49": {
      "model_module": "@jupyter-widgets/controls",
      "model_module_version": "1.5.0",
      "model_name": "HBoxModel",
      "state": {
       "children": [
        "IPY_MODEL_7b3d46015862403f9408cd4678c30022",
        "IPY_MODEL_ddbf8b63548a43d683fd190d1137fc1c"
       ],
       "layout": "IPY_MODEL_22ce8eb3bb0d4da7b6e79db0d6df70c5"
      }
     },
     "19fbf1a6d66e4559b3fd03c59653ec6b": {
      "model_module": "@jupyter-widgets/controls",
      "model_module_version": "1.5.0",
      "model_name": "HTMLModel",
      "state": {
       "layout": "IPY_MODEL_e5d68d322936468eaa2af35b2f7b8337",
       "style": "IPY_MODEL_102331e3065341dd8bf207d0cd6f0e92",
       "value": " 200/200 [56:34&lt;00:00, 16.97s/it]"
      }
     },
     "1a8e061a287d42b29b1b12f6f70634ee": {
      "model_module": "@jupyter-widgets/base",
      "model_module_version": "1.2.0",
      "model_name": "LayoutModel",
      "state": {}
     },
     "1da838b1cf874be8b104346936bd9fb9": {
      "model_module": "@jupyter-widgets/controls",
      "model_module_version": "1.5.0",
      "model_name": "DescriptionStyleModel",
      "state": {
       "description_width": ""
      }
     },
     "1fa823127bb24bd384d7b158cfc24f6d": {
      "model_module": "@jupyter-widgets/controls",
      "model_module_version": "1.5.0",
      "model_name": "FloatProgressModel",
      "state": {
       "bar_style": "success",
       "description": "100%",
       "layout": "IPY_MODEL_92af64691219461eaaf6767873ef78bd",
       "max": 218,
       "style": "IPY_MODEL_b1826dc25de9440e8bb85b943e947ad2",
       "value": 218
      }
     },
     "20984610668142bdad4306471df92924": {
      "model_module": "@jupyter-widgets/controls",
      "model_module_version": "1.5.0",
      "model_name": "ProgressStyleModel",
      "state": {
       "description_width": "initial"
      }
     },
     "214c9e06924e42ad9edfa71166ece903": {
      "model_module": "@jupyter-widgets/base",
      "model_module_version": "1.2.0",
      "model_name": "LayoutModel",
      "state": {}
     },
     "21de8dfe8a5c43b78a60ac022914eb04": {
      "model_module": "@jupyter-widgets/base",
      "model_module_version": "1.2.0",
      "model_name": "LayoutModel",
      "state": {}
     },
     "225a79285fa3481f8a2f792bfa6e941b": {
      "model_module": "@jupyter-widgets/controls",
      "model_module_version": "1.5.0",
      "model_name": "HTMLModel",
      "state": {
       "layout": "IPY_MODEL_515750e5589547d6bf2138f986579df9",
       "style": "IPY_MODEL_f6197ff6e34c43b8a6f252a4c6cb0af2",
       "value": " 307/307 [00:16&lt;00:00, 18.23it/s]"
      }
     },
     "22b0bea78aea4ed68fcca18d1146bd2b": {
      "model_module": "@jupyter-widgets/controls",
      "model_module_version": "1.5.0",
      "model_name": "DescriptionStyleModel",
      "state": {
       "description_width": ""
      }
     },
     "22ce8eb3bb0d4da7b6e79db0d6df70c5": {
      "model_module": "@jupyter-widgets/base",
      "model_module_version": "1.2.0",
      "model_name": "LayoutModel",
      "state": {}
     },
     "246a745ca03d4d0687d04f1225dfdc64": {
      "model_module": "@jupyter-widgets/controls",
      "model_module_version": "1.5.0",
      "model_name": "HTMLModel",
      "state": {
       "layout": "IPY_MODEL_3e2d4180ccb94936aeda07afe71d5a73",
       "style": "IPY_MODEL_5aad02a6995a485d88c97cfdbe38366a",
       "value": " 231/231 [00:15&lt;00:00, 14.71it/s]"
      }
     },
     "268deea6c83044beb350dc1cee6342a6": {
      "model_module": "@jupyter-widgets/controls",
      "model_module_version": "1.5.0",
      "model_name": "HBoxModel",
      "state": {
       "children": [
        "IPY_MODEL_866a24da8dd141f1ba5f2c79efce5616",
        "IPY_MODEL_7cba9f5919194be2a4244ad6800e3fb4"
       ],
       "layout": "IPY_MODEL_9780490660704630a46fb83a25a8e63a"
      }
     },
     "2ad362eabb6945ab83d89b8caae0faea": {
      "model_module": "@jupyter-widgets/controls",
      "model_module_version": "1.5.0",
      "model_name": "ProgressStyleModel",
      "state": {
       "description_width": "initial"
      }
     },
     "2d7b3fddbda044e88ef21d46966b115e": {
      "model_module": "@jupyter-widgets/controls",
      "model_module_version": "1.5.0",
      "model_name": "FloatProgressModel",
      "state": {
       "bar_style": "success",
       "description": "100%",
       "layout": "IPY_MODEL_b310753eaaff4dfb9a6845c89b1408a0",
       "max": 196,
       "style": "IPY_MODEL_7a3a493b28ae4bbe8661f9a8ad97f6ce",
       "value": 196
      }
     },
     "2ea4e7ff2d504898aaab075243d7e413": {
      "model_module": "@jupyter-widgets/controls",
      "model_module_version": "1.5.0",
      "model_name": "FloatProgressModel",
      "state": {
       "bar_style": "success",
       "description": "100%",
       "layout": "IPY_MODEL_f2388b7e0bab452da8836e2ead053a78",
       "max": 307,
       "style": "IPY_MODEL_80344500c4ea45b0a2495404d0695b05",
       "value": 307
      }
     },
     "3152edbcfa154923bf92d82f493e033d": {
      "model_module": "@jupyter-widgets/base",
      "model_module_version": "1.2.0",
      "model_name": "LayoutModel",
      "state": {}
     },
     "3427b10bf0074894acb1b0c8505be9dd": {
      "model_module": "@jupyter-widgets/controls",
      "model_module_version": "1.5.0",
      "model_name": "HBoxModel",
      "state": {
       "children": [
        "IPY_MODEL_cec20a068ef74ba1b590198ab1cb8dde",
        "IPY_MODEL_786968e7585a4e92a3d1e342c4d3ca34"
       ],
       "layout": "IPY_MODEL_d5a63029747d43ee8dcb9149411cbb24"
      }
     },
     "351169d3a2e345819f99a00cdaaccda8": {
      "model_module": "@jupyter-widgets/controls",
      "model_module_version": "1.5.0",
      "model_name": "HBoxModel",
      "state": {
       "children": [
        "IPY_MODEL_f28eacc45b38487990de3bc8d4c14b8a",
        "IPY_MODEL_bab21006ca0e4a2390b66924234e22ee"
       ],
       "layout": "IPY_MODEL_c317c03b83184557bc7544442cad3cf4"
      }
     },
     "38f794d63e7647ef8b11b1fc94517f26": {
      "model_module": "@jupyter-widgets/controls",
      "model_module_version": "1.5.0",
      "model_name": "DescriptionStyleModel",
      "state": {
       "description_width": ""
      }
     },
     "3a51735c418d48458ab588e9363ff9ae": {
      "model_module": "@jupyter-widgets/base",
      "model_module_version": "1.2.0",
      "model_name": "LayoutModel",
      "state": {}
     },
     "3e2026d4c7094f79b55d1ac5430397d3": {
      "model_module": "@jupyter-widgets/controls",
      "model_module_version": "1.5.0",
      "model_name": "DescriptionStyleModel",
      "state": {
       "description_width": ""
      }
     },
     "3e2d4180ccb94936aeda07afe71d5a73": {
      "model_module": "@jupyter-widgets/base",
      "model_module_version": "1.2.0",
      "model_name": "LayoutModel",
      "state": {}
     },
     "45865d81d3814c1ea8e0636be19117c1": {
      "model_module": "@jupyter-widgets/controls",
      "model_module_version": "1.5.0",
      "model_name": "FloatProgressModel",
      "state": {
       "bar_style": "success",
       "description": "100%",
       "layout": "IPY_MODEL_0436887e73d84ad389473b980496d5e7",
       "max": 231,
       "style": "IPY_MODEL_d39443860f4c4ef786b5462cca3b0d13",
       "value": 231
      }
     },
     "45e3da37512647d8b84898dd93c38dfa": {
      "model_module": "@jupyter-widgets/controls",
      "model_module_version": "1.5.0",
      "model_name": "HTMLModel",
      "state": {
       "layout": "IPY_MODEL_49c9dce9dd5e4253b143dfe5a23f8313",
       "style": "IPY_MODEL_774f6ae1d5724ec2a1bb3292a43c40e5",
       "value": " 323/323 [00:24&lt;00:00, 13.35it/s]"
      }
     },
     "46d816f6f4bc453a916ba346716000ee": {
      "model_module": "@jupyter-widgets/controls",
      "model_module_version": "1.5.0",
      "model_name": "HBoxModel",
      "state": {
       "children": [
        "IPY_MODEL_74193219ce824845929f92e303170544",
        "IPY_MODEL_19fbf1a6d66e4559b3fd03c59653ec6b"
       ],
       "layout": "IPY_MODEL_85161c48e0ec478cb902fc76db48b9dd"
      }
     },
     "47493bb41d044f05ad8e3b11db466ecd": {
      "model_module": "@jupyter-widgets/base",
      "model_module_version": "1.2.0",
      "model_name": "LayoutModel",
      "state": {}
     },
     "487dd0b3a0ac4d7cbe8390f0d2a1c23c": {
      "model_module": "@jupyter-widgets/base",
      "model_module_version": "1.2.0",
      "model_name": "LayoutModel",
      "state": {}
     },
     "49c9dce9dd5e4253b143dfe5a23f8313": {
      "model_module": "@jupyter-widgets/base",
      "model_module_version": "1.2.0",
      "model_name": "LayoutModel",
      "state": {}
     },
     "4d99f1d413d3460b918defada1c32c1c": {
      "model_module": "@jupyter-widgets/controls",
      "model_module_version": "1.5.0",
      "model_name": "ProgressStyleModel",
      "state": {
       "description_width": "initial"
      }
     },
     "4f28f5a94fef48fc8194f9974678bcca": {
      "model_module": "@jupyter-widgets/controls",
      "model_module_version": "1.5.0",
      "model_name": "FloatProgressModel",
      "state": {
       "bar_style": "success",
       "description": "100%",
       "layout": "IPY_MODEL_214c9e06924e42ad9edfa71166ece903",
       "max": 88,
       "style": "IPY_MODEL_2ad362eabb6945ab83d89b8caae0faea",
       "value": 88
      }
     },
     "515750e5589547d6bf2138f986579df9": {
      "model_module": "@jupyter-widgets/base",
      "model_module_version": "1.2.0",
      "model_name": "LayoutModel",
      "state": {}
     },
     "52ff9c432ad445e8a216187a3de32b68": {
      "model_module": "@jupyter-widgets/controls",
      "model_module_version": "1.5.0",
      "model_name": "DescriptionStyleModel",
      "state": {
       "description_width": ""
      }
     },
     "57848902e9294c39913425b09ff4316a": {
      "model_module": "@jupyter-widgets/controls",
      "model_module_version": "1.5.0",
      "model_name": "HBoxModel",
      "state": {
       "children": [
        "IPY_MODEL_4f28f5a94fef48fc8194f9974678bcca",
        "IPY_MODEL_c99acd284d75452b85b3cf78009d35df"
       ],
       "layout": "IPY_MODEL_09ec36c6460b4923bc4adc3524ce24d4"
      }
     },
     "57b1cf97c79e45edb80223d8e0e81c60": {
      "model_module": "@jupyter-widgets/base",
      "model_module_version": "1.2.0",
      "model_name": "LayoutModel",
      "state": {}
     },
     "58b1349040a94d0490c6ebf43414aa14": {
      "model_module": "@jupyter-widgets/controls",
      "model_module_version": "1.5.0",
      "model_name": "ProgressStyleModel",
      "state": {
       "description_width": "initial"
      }
     },
     "5a9fc284df044ee68fafb2bee666d513": {
      "model_module": "@jupyter-widgets/base",
      "model_module_version": "1.2.0",
      "model_name": "LayoutModel",
      "state": {}
     },
     "5aad02a6995a485d88c97cfdbe38366a": {
      "model_module": "@jupyter-widgets/controls",
      "model_module_version": "1.5.0",
      "model_name": "DescriptionStyleModel",
      "state": {
       "description_width": ""
      }
     },
     "5cc567cb55774c2f8798261879207511": {
      "model_module": "@jupyter-widgets/base",
      "model_module_version": "1.2.0",
      "model_name": "LayoutModel",
      "state": {}
     },
     "5d593023dd9642de82ad5896c147574a": {
      "model_module": "@jupyter-widgets/base",
      "model_module_version": "1.2.0",
      "model_name": "LayoutModel",
      "state": {}
     },
     "5d9183c81a9c4d63871ff360bb77edf6": {
      "model_module": "@jupyter-widgets/controls",
      "model_module_version": "1.5.0",
      "model_name": "HBoxModel",
      "state": {
       "children": [
        "IPY_MODEL_45865d81d3814c1ea8e0636be19117c1",
        "IPY_MODEL_246a745ca03d4d0687d04f1225dfdc64"
       ],
       "layout": "IPY_MODEL_3152edbcfa154923bf92d82f493e033d"
      }
     },
     "5e40158b10a248a7b168d40f4988358c": {
      "model_module": "@jupyter-widgets/controls",
      "model_module_version": "1.5.0",
      "model_name": "DescriptionStyleModel",
      "state": {
       "description_width": ""
      }
     },
     "5f263047b9a1449aba950fc2e1591e08": {
      "model_module": "@jupyter-widgets/base",
      "model_module_version": "1.2.0",
      "model_name": "LayoutModel",
      "state": {}
     },
     "63114b1eaef6414a9f40603e28b479d2": {
      "model_module": "@jupyter-widgets/controls",
      "model_module_version": "1.5.0",
      "model_name": "ProgressStyleModel",
      "state": {
       "description_width": "initial"
      }
     },
     "638b1c0dd44b467eb918b61a257426a0": {
      "model_module": "@jupyter-widgets/base",
      "model_module_version": "1.2.0",
      "model_name": "LayoutModel",
      "state": {}
     },
     "654bd548a96c42ac8cd97e62dc5fe711": {
      "model_module": "@jupyter-widgets/controls",
      "model_module_version": "1.5.0",
      "model_name": "ProgressStyleModel",
      "state": {
       "description_width": "initial"
      }
     },
     "65a31c4169d742a5b124a705f6bda6df": {
      "model_module": "@jupyter-widgets/controls",
      "model_module_version": "1.5.0",
      "model_name": "HBoxModel",
      "state": {
       "children": [
        "IPY_MODEL_0631ed91abdc48c0abcdfc478df48cd2",
        "IPY_MODEL_a3b759c4ae9e4f30ba83da4f5a30bb27"
       ],
       "layout": "IPY_MODEL_081b8a5456af4da9b596fd524bd79c18"
      }
     },
     "66b3858603d348f19f5c4726879d8045": {
      "model_module": "@jupyter-widgets/controls",
      "model_module_version": "1.5.0",
      "model_name": "HTMLModel",
      "state": {
       "layout": "IPY_MODEL_161d678830e64539a611cd2ff6eab77f",
       "style": "IPY_MODEL_38f794d63e7647ef8b11b1fc94517f26",
       "value": " 222/222 [00:14&lt;00:00, 15.58it/s]"
      }
     },
     "66bb5013f42b4fe3974dd56e6041eadb": {
      "model_module": "@jupyter-widgets/controls",
      "model_module_version": "1.5.0",
      "model_name": "DescriptionStyleModel",
      "state": {
       "description_width": ""
      }
     },
     "673116765ec24b56a826bb0fc8444672": {
      "model_module": "@jupyter-widgets/base",
      "model_module_version": "1.2.0",
      "model_name": "LayoutModel",
      "state": {}
     },
     "688fa0a3cb27450894dfb5d1939575aa": {
      "model_module": "@jupyter-widgets/base",
      "model_module_version": "1.2.0",
      "model_name": "LayoutModel",
      "state": {}
     },
     "74193219ce824845929f92e303170544": {
      "model_module": "@jupyter-widgets/controls",
      "model_module_version": "1.5.0",
      "model_name": "FloatProgressModel",
      "state": {
       "bar_style": "success",
       "description": "100%",
       "layout": "IPY_MODEL_ab6456ca7c32469c8fa31723436762a8",
       "max": 200,
       "style": "IPY_MODEL_4d99f1d413d3460b918defada1c32c1c",
       "value": 200
      }
     },
     "74de78ec1c2e4f96a57550ed2233c071": {
      "model_module": "@jupyter-widgets/base",
      "model_module_version": "1.2.0",
      "model_name": "LayoutModel",
      "state": {}
     },
     "774f6ae1d5724ec2a1bb3292a43c40e5": {
      "model_module": "@jupyter-widgets/controls",
      "model_module_version": "1.5.0",
      "model_name": "DescriptionStyleModel",
      "state": {
       "description_width": ""
      }
     },
     "786968e7585a4e92a3d1e342c4d3ca34": {
      "model_module": "@jupyter-widgets/controls",
      "model_module_version": "1.5.0",
      "model_name": "HTMLModel",
      "state": {
       "layout": "IPY_MODEL_8d98a138ad0444bf8c1e6d3bcb07f5af",
       "style": "IPY_MODEL_52ff9c432ad445e8a216187a3de32b68",
       "value": " 343/343 [00:40&lt;00:00,  8.37it/s]"
      }
     },
     "789ce061aaa94555822a5796acd2ba12": {
      "model_module": "@jupyter-widgets/controls",
      "model_module_version": "1.5.0",
      "model_name": "DescriptionStyleModel",
      "state": {
       "description_width": ""
      }
     },
     "79899680d9b744518253767ea039b3cf": {
      "model_module": "@jupyter-widgets/controls",
      "model_module_version": "1.5.0",
      "model_name": "HBoxModel",
      "state": {
       "children": [
        "IPY_MODEL_9a51426cc30147a4a9bac645fe506035",
        "IPY_MODEL_45e3da37512647d8b84898dd93c38dfa"
       ],
       "layout": "IPY_MODEL_d86ce5f37f314552b1db30b54e053d7f"
      }
     },
     "7a3a493b28ae4bbe8661f9a8ad97f6ce": {
      "model_module": "@jupyter-widgets/controls",
      "model_module_version": "1.5.0",
      "model_name": "ProgressStyleModel",
      "state": {
       "description_width": "initial"
      }
     },
     "7b3d46015862403f9408cd4678c30022": {
      "model_module": "@jupyter-widgets/controls",
      "model_module_version": "1.5.0",
      "model_name": "FloatProgressModel",
      "state": {
       "bar_style": "success",
       "description": "100%",
       "layout": "IPY_MODEL_9a6a67b0d30649f0870f8139fb71d606",
       "max": 176,
       "style": "IPY_MODEL_df8664be23c44ff8a414003931d818a2",
       "value": 176
      }
     },
     "7cba9f5919194be2a4244ad6800e3fb4": {
      "model_module": "@jupyter-widgets/controls",
      "model_module_version": "1.5.0",
      "model_name": "HTMLModel",
      "state": {
       "layout": "IPY_MODEL_152110ab711f424ebb457ec22611e4e3",
       "style": "IPY_MODEL_b635449d3482473f9215dd73d7350fe7",
       "value": " 292/292 [00:21&lt;00:00, 13.67it/s]"
      }
     },
     "7db1a80fb98b460b92503df7d8f62126": {
      "model_module": "@jupyter-widgets/base",
      "model_module_version": "1.2.0",
      "model_name": "LayoutModel",
      "state": {}
     },
     "7fbdb2bf30df4678988da51dcfe321ba": {
      "model_module": "@jupyter-widgets/controls",
      "model_module_version": "1.5.0",
      "model_name": "ProgressStyleModel",
      "state": {
       "description_width": "initial"
      }
     },
     "7fff7ba2ed6245e79fd13e716e9f68a7": {
      "model_module": "@jupyter-widgets/controls",
      "model_module_version": "1.5.0",
      "model_name": "HTMLModel",
      "state": {
       "layout": "IPY_MODEL_487dd0b3a0ac4d7cbe8390f0d2a1c23c",
       "style": "IPY_MODEL_1da838b1cf874be8b104346936bd9fb9",
       "value": " 239/239 [00:43&lt;00:00,  5.51it/s]"
      }
     },
     "80344500c4ea45b0a2495404d0695b05": {
      "model_module": "@jupyter-widgets/controls",
      "model_module_version": "1.5.0",
      "model_name": "ProgressStyleModel",
      "state": {
       "description_width": "initial"
      }
     },
     "85161c48e0ec478cb902fc76db48b9dd": {
      "model_module": "@jupyter-widgets/base",
      "model_module_version": "1.2.0",
      "model_name": "LayoutModel",
      "state": {}
     },
     "866a24da8dd141f1ba5f2c79efce5616": {
      "model_module": "@jupyter-widgets/controls",
      "model_module_version": "1.5.0",
      "model_name": "FloatProgressModel",
      "state": {
       "bar_style": "success",
       "description": "100%",
       "layout": "IPY_MODEL_02c622a5d2124797a918c7c16caa682b",
       "max": 292,
       "style": "IPY_MODEL_b334884d574c466fa5abae20c0745332",
       "value": 292
      }
     },
     "8c12cdf9fee0466a82edf20f65c46d74": {
      "model_module": "@jupyter-widgets/controls",
      "model_module_version": "1.5.0",
      "model_name": "HBoxModel",
      "state": {
       "children": [
        "IPY_MODEL_8eed60cef6b748f984cbb72460e2dd3a",
        "IPY_MODEL_66b3858603d348f19f5c4726879d8045"
       ],
       "layout": "IPY_MODEL_f20ec2cf2c994cda81a8c759ac7252e5"
      }
     },
     "8c43eade6ba146448e2ed2110d37f8ea": {
      "model_module": "@jupyter-widgets/controls",
      "model_module_version": "1.5.0",
      "model_name": "HBoxModel",
      "state": {
       "children": [
        "IPY_MODEL_9b3b2228f75845e48f378cfb746ba8a6",
        "IPY_MODEL_7fff7ba2ed6245e79fd13e716e9f68a7"
       ],
       "layout": "IPY_MODEL_b886d2184fd843199bb82bb4626ac242"
      }
     },
     "8d98a138ad0444bf8c1e6d3bcb07f5af": {
      "model_module": "@jupyter-widgets/base",
      "model_module_version": "1.2.0",
      "model_name": "LayoutModel",
      "state": {}
     },
     "8e5decf257144773b2ceb464957310fc": {
      "model_module": "@jupyter-widgets/controls",
      "model_module_version": "1.5.0",
      "model_name": "DescriptionStyleModel",
      "state": {
       "description_width": ""
      }
     },
     "8eed60cef6b748f984cbb72460e2dd3a": {
      "model_module": "@jupyter-widgets/controls",
      "model_module_version": "1.5.0",
      "model_name": "FloatProgressModel",
      "state": {
       "bar_style": "success",
       "description": "100%",
       "layout": "IPY_MODEL_74de78ec1c2e4f96a57550ed2233c071",
       "max": 222,
       "style": "IPY_MODEL_58b1349040a94d0490c6ebf43414aa14",
       "value": 222
      }
     },
     "92af64691219461eaaf6767873ef78bd": {
      "model_module": "@jupyter-widgets/base",
      "model_module_version": "1.2.0",
      "model_name": "LayoutModel",
      "state": {}
     },
     "939ce2b8594141bc98ae976ba4cf1104": {
      "model_module": "@jupyter-widgets/controls",
      "model_module_version": "1.5.0",
      "model_name": "HTMLModel",
      "state": {
       "layout": "IPY_MODEL_ca3114461c3c40d7b2e319607810db4f",
       "style": "IPY_MODEL_b7da1d9aee2b4dc6a1368473f151819e",
       "value": " 84/84 [00:15&lt;00:00,  5.40it/s]"
      }
     },
     "95bfe7bb1b574df69b012663aa57713a": {
      "model_module": "@jupyter-widgets/controls",
      "model_module_version": "1.5.0",
      "model_name": "DescriptionStyleModel",
      "state": {
       "description_width": ""
      }
     },
     "9780490660704630a46fb83a25a8e63a": {
      "model_module": "@jupyter-widgets/base",
      "model_module_version": "1.2.0",
      "model_name": "LayoutModel",
      "state": {}
     },
     "979d8c4a1325496c97b8a4da5fe34704": {
      "model_module": "@jupyter-widgets/controls",
      "model_module_version": "1.5.0",
      "model_name": "HBoxModel",
      "state": {
       "children": [
        "IPY_MODEL_07d7a4b4145540898b57c5044e4a1512",
        "IPY_MODEL_f99a5ac3f7b34c4587e060e6bb35cca8"
       ],
       "layout": "IPY_MODEL_0470d346e964442d8d13a1bdd5c6d768"
      }
     },
     "9a51426cc30147a4a9bac645fe506035": {
      "model_module": "@jupyter-widgets/controls",
      "model_module_version": "1.5.0",
      "model_name": "FloatProgressModel",
      "state": {
       "bar_style": "success",
       "description": "100%",
       "layout": "IPY_MODEL_47493bb41d044f05ad8e3b11db466ecd",
       "max": 323,
       "style": "IPY_MODEL_63114b1eaef6414a9f40603e28b479d2",
       "value": 323
      }
     },
     "9a6a67b0d30649f0870f8139fb71d606": {
      "model_module": "@jupyter-widgets/base",
      "model_module_version": "1.2.0",
      "model_name": "LayoutModel",
      "state": {}
     },
     "9b3b2228f75845e48f378cfb746ba8a6": {
      "model_module": "@jupyter-widgets/controls",
      "model_module_version": "1.5.0",
      "model_name": "FloatProgressModel",
      "state": {
       "bar_style": "success",
       "description": "100%",
       "layout": "IPY_MODEL_5a9fc284df044ee68fafb2bee666d513",
       "max": 239,
       "style": "IPY_MODEL_654bd548a96c42ac8cd97e62dc5fe711",
       "value": 239
      }
     },
     "9c9f7188fa71459d83492b849a059d15": {
      "model_module": "@jupyter-widgets/controls",
      "model_module_version": "1.5.0",
      "model_name": "HBoxModel",
      "state": {
       "children": [
        "IPY_MODEL_16d547e1e4a44d1c893398450f27c89f",
        "IPY_MODEL_cb108fe64bd5448bbbda5051eaebd762"
       ],
       "layout": "IPY_MODEL_c793784c625a41828b63c4027ea21cd8"
      }
     },
     "a3b759c4ae9e4f30ba83da4f5a30bb27": {
      "model_module": "@jupyter-widgets/controls",
      "model_module_version": "1.5.0",
      "model_name": "HTMLModel",
      "state": {
       "layout": "IPY_MODEL_b72eb8455b364b3cad1b83209ae881ae",
       "style": "IPY_MODEL_5e40158b10a248a7b168d40f4988358c",
       "value": " 102/102 [00:29&lt;00:00,  3.48it/s]"
      }
     },
     "a64de167c61643cc97e5ee00704a8743": {
      "model_module": "@jupyter-widgets/base",
      "model_module_version": "1.2.0",
      "model_name": "LayoutModel",
      "state": {}
     },
     "ab6456ca7c32469c8fa31723436762a8": {
      "model_module": "@jupyter-widgets/base",
      "model_module_version": "1.2.0",
      "model_name": "LayoutModel",
      "state": {}
     },
     "aba29adaa70945f7a4a491bb24ba5b1b": {
      "model_module": "@jupyter-widgets/base",
      "model_module_version": "1.2.0",
      "model_name": "LayoutModel",
      "state": {}
     },
     "af1ff2a0871540f8b755e54c003cf02a": {
      "model_module": "@jupyter-widgets/controls",
      "model_module_version": "1.5.0",
      "model_name": "HBoxModel",
      "state": {
       "children": [
        "IPY_MODEL_1fa823127bb24bd384d7b158cfc24f6d",
        "IPY_MODEL_e1b12f58a31f402baf847b7516238adb"
       ],
       "layout": "IPY_MODEL_f929a29029544b50820ca5f99ae24892"
      }
     },
     "b1826dc25de9440e8bb85b943e947ad2": {
      "model_module": "@jupyter-widgets/controls",
      "model_module_version": "1.5.0",
      "model_name": "ProgressStyleModel",
      "state": {
       "description_width": "initial"
      }
     },
     "b1e033b9bc6243778caeb516c5c3ca01": {
      "model_module": "@jupyter-widgets/base",
      "model_module_version": "1.2.0",
      "model_name": "LayoutModel",
      "state": {}
     },
     "b310753eaaff4dfb9a6845c89b1408a0": {
      "model_module": "@jupyter-widgets/base",
      "model_module_version": "1.2.0",
      "model_name": "LayoutModel",
      "state": {}
     },
     "b334884d574c466fa5abae20c0745332": {
      "model_module": "@jupyter-widgets/controls",
      "model_module_version": "1.5.0",
      "model_name": "ProgressStyleModel",
      "state": {
       "description_width": "initial"
      }
     },
     "b4b0635ddc7a4409b5fe174ed6e65731": {
      "model_module": "@jupyter-widgets/controls",
      "model_module_version": "1.5.0",
      "model_name": "HBoxModel",
      "state": {
       "children": [
        "IPY_MODEL_fb9dcac3405d4379ba5a5fca2919917e",
        "IPY_MODEL_939ce2b8594141bc98ae976ba4cf1104"
       ],
       "layout": "IPY_MODEL_5d593023dd9642de82ad5896c147574a"
      }
     },
     "b635449d3482473f9215dd73d7350fe7": {
      "model_module": "@jupyter-widgets/controls",
      "model_module_version": "1.5.0",
      "model_name": "DescriptionStyleModel",
      "state": {
       "description_width": ""
      }
     },
     "b67b74c9e7ed4fcdbe3d5872e7517b63": {
      "model_module": "@jupyter-widgets/base",
      "model_module_version": "1.2.0",
      "model_name": "LayoutModel",
      "state": {}
     },
     "b72eb8455b364b3cad1b83209ae881ae": {
      "model_module": "@jupyter-widgets/base",
      "model_module_version": "1.2.0",
      "model_name": "LayoutModel",
      "state": {}
     },
     "b7da1d9aee2b4dc6a1368473f151819e": {
      "model_module": "@jupyter-widgets/controls",
      "model_module_version": "1.5.0",
      "model_name": "DescriptionStyleModel",
      "state": {
       "description_width": ""
      }
     },
     "b886d2184fd843199bb82bb4626ac242": {
      "model_module": "@jupyter-widgets/base",
      "model_module_version": "1.2.0",
      "model_name": "LayoutModel",
      "state": {}
     },
     "bab21006ca0e4a2390b66924234e22ee": {
      "model_module": "@jupyter-widgets/controls",
      "model_module_version": "1.5.0",
      "model_name": "HTMLModel",
      "state": {
       "layout": "IPY_MODEL_b1e033b9bc6243778caeb516c5c3ca01",
       "style": "IPY_MODEL_058c086e227949b4af77a209a5303510",
       "value": " 380/380 [00:29&lt;00:00, 12.94it/s]"
      }
     },
     "beaddd5a8e3546ad8275eb9c831d9a83": {
      "model_module": "@jupyter-widgets/controls",
      "model_module_version": "1.5.0",
      "model_name": "ProgressStyleModel",
      "state": {
       "description_width": "initial"
      }
     },
     "bf62d49a2ae448e8b0af17e14582a720": {
      "model_module": "@jupyter-widgets/base",
      "model_module_version": "1.2.0",
      "model_name": "LayoutModel",
      "state": {}
     },
     "c1ba77ef534c47c0ad71a56224142f7f": {
      "model_module": "@jupyter-widgets/controls",
      "model_module_version": "1.5.0",
      "model_name": "HTMLModel",
      "state": {
       "layout": "IPY_MODEL_5cc567cb55774c2f8798261879207511",
       "style": "IPY_MODEL_3e2026d4c7094f79b55d1ac5430397d3",
       "value": " 309/309 [00:47&lt;00:00,  6.45it/s]"
      }
     },
     "c317c03b83184557bc7544442cad3cf4": {
      "model_module": "@jupyter-widgets/base",
      "model_module_version": "1.2.0",
      "model_name": "LayoutModel",
      "state": {}
     },
     "c393cd61e3cf4572be6b3c60b087906a": {
      "model_module": "@jupyter-widgets/base",
      "model_module_version": "1.2.0",
      "model_name": "LayoutModel",
      "state": {}
     },
     "c793784c625a41828b63c4027ea21cd8": {
      "model_module": "@jupyter-widgets/base",
      "model_module_version": "1.2.0",
      "model_name": "LayoutModel",
      "state": {}
     },
     "c99acd284d75452b85b3cf78009d35df": {
      "model_module": "@jupyter-widgets/controls",
      "model_module_version": "1.5.0",
      "model_name": "HTMLModel",
      "state": {
       "layout": "IPY_MODEL_57b1cf97c79e45edb80223d8e0e81c60",
       "style": "IPY_MODEL_cc990942c84a4aa7a3523efcba2f22d7",
       "value": " 88/88 [00:18&lt;00:00,  4.84it/s]"
      }
     },
     "ca3114461c3c40d7b2e319607810db4f": {
      "model_module": "@jupyter-widgets/base",
      "model_module_version": "1.2.0",
      "model_name": "LayoutModel",
      "state": {}
     },
     "cb108fe64bd5448bbbda5051eaebd762": {
      "model_module": "@jupyter-widgets/controls",
      "model_module_version": "1.5.0",
      "model_name": "HTMLModel",
      "state": {
       "layout": "IPY_MODEL_3a51735c418d48458ab588e9363ff9ae",
       "style": "IPY_MODEL_22b0bea78aea4ed68fcca18d1146bd2b",
       "value": " 275/275 [00:16&lt;00:00, 16.22it/s]"
      }
     },
     "cc990942c84a4aa7a3523efcba2f22d7": {
      "model_module": "@jupyter-widgets/controls",
      "model_module_version": "1.5.0",
      "model_name": "DescriptionStyleModel",
      "state": {
       "description_width": ""
      }
     },
     "cec20a068ef74ba1b590198ab1cb8dde": {
      "model_module": "@jupyter-widgets/controls",
      "model_module_version": "1.5.0",
      "model_name": "FloatProgressModel",
      "state": {
       "bar_style": "success",
       "description": "100%",
       "layout": "IPY_MODEL_13421ac5d295469489f87dbc09e6df57",
       "max": 343,
       "style": "IPY_MODEL_056f0d39c46f458f83a2240b404d706b",
       "value": 343
      }
     },
     "cf0ee5e681514f7082d9e9f58ec2765a": {
      "model_module": "@jupyter-widgets/base",
      "model_module_version": "1.2.0",
      "model_name": "LayoutModel",
      "state": {}
     },
     "d39443860f4c4ef786b5462cca3b0d13": {
      "model_module": "@jupyter-widgets/controls",
      "model_module_version": "1.5.0",
      "model_name": "ProgressStyleModel",
      "state": {
       "description_width": "initial"
      }
     },
     "d3c30f3293874606a99c0f900ffe7ec3": {
      "model_module": "@jupyter-widgets/controls",
      "model_module_version": "1.5.0",
      "model_name": "ProgressStyleModel",
      "state": {
       "description_width": "initial"
      }
     },
     "d49759ac32544edb8794cce69063a261": {
      "model_module": "@jupyter-widgets/controls",
      "model_module_version": "1.5.0",
      "model_name": "ProgressStyleModel",
      "state": {
       "description_width": "initial"
      }
     },
     "d4c87e3452b74bdb9bd14637aa645383": {
      "model_module": "@jupyter-widgets/controls",
      "model_module_version": "1.5.0",
      "model_name": "DescriptionStyleModel",
      "state": {
       "description_width": ""
      }
     },
     "d5a63029747d43ee8dcb9149411cbb24": {
      "model_module": "@jupyter-widgets/base",
      "model_module_version": "1.2.0",
      "model_name": "LayoutModel",
      "state": {}
     },
     "d82d63a3b15141e8a1c3e51fc324a467": {
      "model_module": "@jupyter-widgets/controls",
      "model_module_version": "1.5.0",
      "model_name": "HTMLModel",
      "state": {
       "layout": "IPY_MODEL_a64de167c61643cc97e5ee00704a8743",
       "style": "IPY_MODEL_66bb5013f42b4fe3974dd56e6041eadb",
       "value": " 196/196 [00:13&lt;00:00, 14.45it/s]"
      }
     },
     "d86ce5f37f314552b1db30b54e053d7f": {
      "model_module": "@jupyter-widgets/base",
      "model_module_version": "1.2.0",
      "model_name": "LayoutModel",
      "state": {}
     },
     "ddbf8b63548a43d683fd190d1137fc1c": {
      "model_module": "@jupyter-widgets/controls",
      "model_module_version": "1.5.0",
      "model_name": "HTMLModel",
      "state": {
       "layout": "IPY_MODEL_673116765ec24b56a826bb0fc8444672",
       "style": "IPY_MODEL_789ce061aaa94555822a5796acd2ba12",
       "value": " 176/176 [00:11&lt;00:00, 15.85it/s]"
      }
     },
     "df8664be23c44ff8a414003931d818a2": {
      "model_module": "@jupyter-widgets/controls",
      "model_module_version": "1.5.0",
      "model_name": "ProgressStyleModel",
      "state": {
       "description_width": "initial"
      }
     },
     "e032af51fd324c56ae3e152ab028c042": {
      "model_module": "@jupyter-widgets/controls",
      "model_module_version": "1.5.0",
      "model_name": "HBoxModel",
      "state": {
       "children": [
        "IPY_MODEL_e40cf07f99064b3784bdc501e8a88760",
        "IPY_MODEL_f7b3a600dc5643dfaf880dcfcf17db06"
       ],
       "layout": "IPY_MODEL_aba29adaa70945f7a4a491bb24ba5b1b"
      }
     },
     "e1b12f58a31f402baf847b7516238adb": {
      "model_module": "@jupyter-widgets/controls",
      "model_module_version": "1.5.0",
      "model_name": "HTMLModel",
      "state": {
       "layout": "IPY_MODEL_bf62d49a2ae448e8b0af17e14582a720",
       "style": "IPY_MODEL_95bfe7bb1b574df69b012663aa57713a",
       "value": " 218/218 [00:24&lt;00:00,  8.84it/s]"
      }
     },
     "e40cf07f99064b3784bdc501e8a88760": {
      "model_module": "@jupyter-widgets/controls",
      "model_module_version": "1.5.0",
      "model_name": "FloatProgressModel",
      "state": {
       "bar_style": "success",
       "description": "100%",
       "layout": "IPY_MODEL_cf0ee5e681514f7082d9e9f58ec2765a",
       "max": 298,
       "style": "IPY_MODEL_7fbdb2bf30df4678988da51dcfe321ba",
       "value": 298
      }
     },
     "e5c14b2de7944b46b6cde8691a3f643e": {
      "model_module": "@jupyter-widgets/controls",
      "model_module_version": "1.5.0",
      "model_name": "FloatProgressModel",
      "state": {
       "bar_style": "success",
       "description": "100%",
       "layout": "IPY_MODEL_c393cd61e3cf4572be6b3c60b087906a",
       "max": 309,
       "style": "IPY_MODEL_20984610668142bdad4306471df92924",
       "value": 309
      }
     },
     "e5d68d322936468eaa2af35b2f7b8337": {
      "model_module": "@jupyter-widgets/base",
      "model_module_version": "1.2.0",
      "model_name": "LayoutModel",
      "state": {}
     },
     "e8491ce7e58644b5a62ec682db364474": {
      "model_module": "@jupyter-widgets/base",
      "model_module_version": "1.2.0",
      "model_name": "LayoutModel",
      "state": {}
     },
     "e8a19c606b5443a5a542e555c05aa26b": {
      "model_module": "@jupyter-widgets/controls",
      "model_module_version": "1.5.0",
      "model_name": "HBoxModel",
      "state": {
       "children": [
        "IPY_MODEL_2ea4e7ff2d504898aaab075243d7e413",
        "IPY_MODEL_225a79285fa3481f8a2f792bfa6e941b"
       ],
       "layout": "IPY_MODEL_5f263047b9a1449aba950fc2e1591e08"
      }
     },
     "f1ceecd808404d7e84b36dd61ba4c521": {
      "model_module": "@jupyter-widgets/controls",
      "model_module_version": "1.5.0",
      "model_name": "ProgressStyleModel",
      "state": {
       "description_width": "initial"
      }
     },
     "f20ec2cf2c994cda81a8c759ac7252e5": {
      "model_module": "@jupyter-widgets/base",
      "model_module_version": "1.2.0",
      "model_name": "LayoutModel",
      "state": {}
     },
     "f2388b7e0bab452da8836e2ead053a78": {
      "model_module": "@jupyter-widgets/base",
      "model_module_version": "1.2.0",
      "model_name": "LayoutModel",
      "state": {}
     },
     "f28eacc45b38487990de3bc8d4c14b8a": {
      "model_module": "@jupyter-widgets/controls",
      "model_module_version": "1.5.0",
      "model_name": "FloatProgressModel",
      "state": {
       "bar_style": "success",
       "description": "100%",
       "layout": "IPY_MODEL_638b1c0dd44b467eb918b61a257426a0",
       "max": 380,
       "style": "IPY_MODEL_f1ceecd808404d7e84b36dd61ba4c521",
       "value": 380
      }
     },
     "f4e75ba95ce843368c874028ad396745": {
      "model_module": "@jupyter-widgets/controls",
      "model_module_version": "1.5.0",
      "model_name": "HBoxModel",
      "state": {
       "children": [
        "IPY_MODEL_2d7b3fddbda044e88ef21d46966b115e",
        "IPY_MODEL_d82d63a3b15141e8a1c3e51fc324a467"
       ],
       "layout": "IPY_MODEL_e8491ce7e58644b5a62ec682db364474"
      }
     },
     "f6197ff6e34c43b8a6f252a4c6cb0af2": {
      "model_module": "@jupyter-widgets/controls",
      "model_module_version": "1.5.0",
      "model_name": "DescriptionStyleModel",
      "state": {
       "description_width": ""
      }
     },
     "f73c4eb222014fd591560af2540b6c9b": {
      "model_module": "@jupyter-widgets/controls",
      "model_module_version": "1.5.0",
      "model_name": "HBoxModel",
      "state": {
       "children": [
        "IPY_MODEL_e5c14b2de7944b46b6cde8691a3f643e",
        "IPY_MODEL_c1ba77ef534c47c0ad71a56224142f7f"
       ],
       "layout": "IPY_MODEL_7db1a80fb98b460b92503df7d8f62126"
      }
     },
     "f7b3a600dc5643dfaf880dcfcf17db06": {
      "model_module": "@jupyter-widgets/controls",
      "model_module_version": "1.5.0",
      "model_name": "HTMLModel",
      "state": {
       "layout": "IPY_MODEL_feeb91a026c741d5bf33bb3cea8b8a36",
       "style": "IPY_MODEL_d4c87e3452b74bdb9bd14637aa645383",
       "value": " 298/298 [00:27&lt;00:00, 10.95it/s]"
      }
     },
     "f929a29029544b50820ca5f99ae24892": {
      "model_module": "@jupyter-widgets/base",
      "model_module_version": "1.2.0",
      "model_name": "LayoutModel",
      "state": {}
     },
     "f99a5ac3f7b34c4587e060e6bb35cca8": {
      "model_module": "@jupyter-widgets/controls",
      "model_module_version": "1.5.0",
      "model_name": "HTMLModel",
      "state": {
       "layout": "IPY_MODEL_21de8dfe8a5c43b78a60ac022914eb04",
       "style": "IPY_MODEL_8e5decf257144773b2ceb464957310fc",
       "value": " 290/290 [00:46&lt;00:00,  6.22it/s]"
      }
     },
     "fb9dcac3405d4379ba5a5fca2919917e": {
      "model_module": "@jupyter-widgets/controls",
      "model_module_version": "1.5.0",
      "model_name": "FloatProgressModel",
      "state": {
       "bar_style": "success",
       "description": "100%",
       "layout": "IPY_MODEL_0c63927a96b34618971bd8822f9a2e78",
       "max": 84,
       "style": "IPY_MODEL_beaddd5a8e3546ad8275eb9c831d9a83",
       "value": 84
      }
     },
     "feeb91a026c741d5bf33bb3cea8b8a36": {
      "model_module": "@jupyter-widgets/base",
      "model_module_version": "1.2.0",
      "model_name": "LayoutModel",
      "state": {}
     }
    },
    "version_major": 2,
    "version_minor": 0
   }
  }
 },
 "nbformat": 4,
 "nbformat_minor": 4
}
