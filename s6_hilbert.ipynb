{
 "cells": [
  {
   "cell_type": "markdown",
   "metadata": {},
   "source": [
    "In this notebook, we will explore some data analyses using the hilbert transform of the EEG signal."
   ]
  },
  {
   "cell_type": "code",
   "execution_count": 1,
   "metadata": {
    "execution": {
     "iopub.execute_input": "2020-06-11T21:15:55.852500Z",
     "iopub.status.busy": "2020-06-11T21:15:55.851573Z",
     "iopub.status.idle": "2020-06-11T21:16:06.489242Z",
     "shell.execute_reply": "2020-06-11T21:16:06.488450Z",
     "shell.execute_reply.started": "2020-06-11T21:15:55.852376Z"
    }
   },
   "outputs": [],
   "source": [
    "%load_ext autoreload\n",
    "%autoreload 2\n",
    "\n",
    "import numpy as np\n",
    "import pandas as pd\n",
    "import matplotlib.pyplot as plt\n",
    "from matplotlib import cm, patches\n",
    "import matplotlib.gridspec as gridspec\n",
    "from tqdm.auto import tqdm\n",
    "from scipy import signal\n",
    "import umap\n",
    "\n",
    "from tbd_eeg.data_analysis.eegutils import *\n",
    "from tbd_eeg.data_analysis.Utilities import utilities as utils\n",
    "from tbd_eeg.data_analysis.Utilities import filters\n",
    "\n",
    "from ipympl.backend_nbagg import Canvas\n",
    "Canvas.header_visible.default_value = False\n",
    "%matplotlib widget"
   ]
  },
  {
   "cell_type": "code",
   "execution_count": 2,
   "metadata": {
    "execution": {
     "iopub.execute_input": "2020-06-11T21:16:25.816743Z",
     "iopub.status.busy": "2020-06-11T21:16:25.815829Z",
     "iopub.status.idle": "2020-06-11T21:16:25.846747Z",
     "shell.execute_reply": "2020-06-11T21:16:25.846032Z",
     "shell.execute_reply.started": "2020-06-11T21:16:25.816621Z"
    }
   },
   "outputs": [],
   "source": [
    "epoch_cms = {\n",
    "    'pre' : cm.Reds,\n",
    "    'iso_high' : cm.PuOr,\n",
    "    'iso_low' : cm.PuOr_r,\n",
    "    'early_recovery': cm.Blues,\n",
    "    'late_recovery' : cm.Greens\n",
    "}"
   ]
  },
  {
   "cell_type": "code",
   "execution_count": 3,
   "metadata": {
    "execution": {
     "iopub.execute_input": "2020-06-11T21:16:26.934145Z",
     "iopub.status.busy": "2020-06-11T21:16:26.933346Z",
     "iopub.status.idle": "2020-06-11T21:17:03.839857Z",
     "shell.execute_reply": "2020-06-11T21:17:03.838776Z",
     "shell.execute_reply.started": "2020-06-11T21:16:26.934037Z"
    }
   },
   "outputs": [
    {
     "name": "stdout",
     "output_type": "stream",
     "text": [
      "Identifying valid channels...\n",
      "The following channels seem to be correctly connected and report valid data:\n",
      "[0, 1, 3, 4, 5, 6, 7, 8, 9, 10, 11, 12, 13, 14, 15, 16, 17, 18, 19, 20, 21, 22, 23, 24, 25, 26, 27, 28, 29]\n",
      "Loading other data...\n"
     ]
    },
    {
     "name": "stderr",
     "output_type": "stream",
     "text": [
      "/home/saurabh.gandhi/Projects/.env_zz/lib/python3.7/site-packages/allensdk/brain_observatory/sync_dataset.py:454: H5pyDeprecationWarning: dataset.value has been deprecated. Use dataset[()] instead.\n",
      "  return eval(self.dfile['analog_meta'].value)\n"
     ]
    },
    {
     "name": "stdout",
     "output_type": "stream",
     "text": [
      "iso on at 644.112\n",
      "iso reduced at 1190.048\n",
      "iso off at 1867.552\n",
      "Annotating artifacts...\n"
     ]
    }
   ],
   "source": [
    "data_folder = \"/allen/programs/braintv/workgroups/nc-ophys/Leslie/eeg_pilot/mouse507190/pilot1_2020-02-28_10-33-11/recording1/\"\n",
    "\n",
    "# set the sample_rate for all data analysis\n",
    "sample_rate = 2500\n",
    "\n",
    "# load experiment metadata and eeg data\n",
    "exp = EEGexp(data_folder)\n",
    "eegdata = exp.load_eegdata(frequency=sample_rate, return_type='pd')\n",
    "\n",
    "# locate valid channels (some channels can be disconnected and we want to ignore them in the analysis)\n",
    "print('Identifying valid channels...')\n",
    "median_amplitude = eegdata[:sample_rate*300].apply(\n",
    "    utils.median_amplitude, raw=True, axis=0, distance=sample_rate\n",
    ")\n",
    "valid_channels = median_amplitude.index[median_amplitude < 2000].values\n",
    "print('The following channels seem to be correctly connected and report valid data:')\n",
    "print(list(valid_channels))\n",
    "\n",
    "# load other data (running, iso etc)\n",
    "print('Loading other data...')\n",
    "running_speed = exp.load_running(return_type='pd')\n",
    "iso = exp.load_analog_iso(return_type='pd')\n",
    "\n",
    "# automatically annotate anesthesia epochs\n",
    "iso_first_on = (iso>4).idxmax()\n",
    "print('iso on at', iso_first_on)\n",
    "iso_first_mid = ((iso[iso.index>iso_first_on]>1)&(iso[iso.index>iso_first_on]<4)).idxmax()\n",
    "print('iso reduced at', iso_first_mid)\n",
    "iso_first_off = (iso>1)[::-1].idxmax()\n",
    "print('iso off at', iso_first_off)\n",
    "\n",
    "# annotate artifacts with power in high frequencies\n",
    "print('Annotating artifacts...')\n",
    "hf_annots = pd.Series(\n",
    "    eegdata[valid_channels].apply(\n",
    "        find_hf_annotations, axis=0,\n",
    "        sample_rate=sample_rate, fmin=300, pmin=0.25\n",
    "    ).mean(axis=1),\n",
    "    name='artifact'\n",
    ")\n",
    "recovery_first_jump = (hf_annots>4)[hf_annots.index>iso_first_off].idxmax()\n",
    "\n",
    "epochs = pd.Series(\n",
    "    index = [0, iso_first_on-0.001, iso_first_on+0.001, iso_first_mid-0.001,\n",
    "             iso_first_mid+0.001, iso_first_off-0.001, iso_first_off+0.001,\n",
    "             recovery_first_jump-0.001, recovery_first_jump+0.001, eegdata.index[-1]],\n",
    "    data=['pre', 'pre', 'iso_high', 'iso_high', 'iso_low', 'iso_low',\n",
    "          'early_recovery', 'early_recovery', 'late_recovery', 'late_recovery'],\n",
    "    dtype=pd.CategoricalDtype(\n",
    "        categories=['pre', 'iso_high', 'iso_low', 'early_recovery', 'late_recovery'],\n",
    "        ordered=True\n",
    "    )\n",
    ")"
   ]
  },
  {
   "cell_type": "code",
   "execution_count": 4,
   "metadata": {
    "execution": {
     "iopub.execute_input": "2020-06-11T21:17:03.842161Z",
     "iopub.status.busy": "2020-06-11T21:17:03.841669Z",
     "iopub.status.idle": "2020-06-11T21:17:05.698373Z",
     "shell.execute_reply": "2020-06-11T21:17:05.697933Z",
     "shell.execute_reply.started": "2020-06-11T21:17:03.842103Z"
    }
   },
   "outputs": [
    {
     "data": {
      "application/vnd.jupyter.widget-view+json": {
       "model_id": "34b46550ec8a432cb2b06c66f2998689",
       "version_major": 2,
       "version_minor": 0
      },
      "text/plain": [
       "Canvas(toolbar=Toolbar(toolitems=[('Home', 'Reset original view', 'home', 'home'), ('Back', 'Back to previous …"
      ]
     },
     "metadata": {},
     "output_type": "display_data"
    }
   ],
   "source": [
    "# validate data and artifact annotation\n",
    "f, ax = plt.subplots(1, 1, figsize=(12, 2), tight_layout=True)\n",
    "eegdata[[13, 4]][::50].plot(ax=ax, alpha=0.7)\n",
    "ax2 = ax.twinx()\n",
    "hf_annots.plot(ax=ax2, c='r', lw=0.5)\n",
    "ax2.set_ylim(-np.sum(ax2.get_ylim())/2, ax2.get_ylim()[1]);"
   ]
  },
  {
   "cell_type": "code",
   "execution_count": 5,
   "metadata": {
    "execution": {
     "iopub.execute_input": "2020-06-11T21:17:05.699653Z",
     "iopub.status.busy": "2020-06-11T21:17:05.699424Z",
     "iopub.status.idle": "2020-06-11T21:17:05.750953Z",
     "shell.execute_reply": "2020-06-11T21:17:05.750493Z",
     "shell.execute_reply.started": "2020-06-11T21:17:05.699588Z"
    }
   },
   "outputs": [],
   "source": [
    "_egroups = {\n",
    "    'left_front' : [11, 12, 13, 14],\n",
    "    'right_front' : [18, 17, 16, 15],\n",
    "    'left_front_middle' : [9, 10],\n",
    "    'right_front_middle' : [20, 19],\n",
    "    'left_back_middle' : [3, 4, 6, 7],\n",
    "    'right_back_middle' : [26, 25, 23, 22],\n",
    "    'left_back_middle_center' : [5, 8],\n",
    "    'right_back_middle_center' : [24, 21],\n",
    "    'left_back' : [1, 2],\n",
    "    'right_back' : [28, 27],\n",
    "    'left_bottom' : [0],\n",
    "    'right_bottom' : [29],\n",
    "}\n",
    "\n",
    "exp.ch_coordinates['z'] = 0\n",
    "exp.ch_coordinates['group'] = ''\n",
    "exp.ch_coordinates['gid'] = 0\n",
    "exp.ch_coordinates['wgid'] = 0\n",
    "for i, (g, idx) in enumerate(_egroups.items()):\n",
    "    exp.ch_coordinates.loc[idx, 'group'] = g\n",
    "    exp.ch_coordinates.loc[idx, 'gid'] = i\n",
    "    exp.ch_coordinates.loc[sorted(idx), 'wgid'] = idx\n",
    "exp.ch_coordinates = exp.ch_coordinates.sort_values(['gid', 'wgid'])\n",
    "exp.ch_coordinates['order'] = 0\n",
    "_left = exp.ch_coordinates.index[exp.ch_coordinates.group.str.contains('left')]\n",
    "exp.ch_coordinates.loc[_left, 'order'] = range(len(_left))\n",
    "_right = exp.ch_coordinates.index[exp.ch_coordinates.group.str.contains('right')]\n",
    "exp.ch_coordinates.loc[_right, 'order'] = len(_left)+np.arange(len(_right))[::-1]\n",
    "exp.ch_coordinates.sort_index(inplace=True)\n",
    "exp.ch_coordinates.drop('wgid', inplace=True, axis=1)"
   ]
  },
  {
   "cell_type": "code",
   "execution_count": 6,
   "metadata": {
    "execution": {
     "iopub.execute_input": "2020-06-11T21:17:05.752035Z",
     "iopub.status.busy": "2020-06-11T21:17:05.751806Z",
     "iopub.status.idle": "2020-06-11T21:17:05.778934Z",
     "shell.execute_reply": "2020-06-11T21:17:05.778418Z",
     "shell.execute_reply.started": "2020-06-11T21:17:05.751965Z"
    }
   },
   "outputs": [],
   "source": [
    "# define a function to quickly plot the electrode map with or without borders\n",
    "def plot_electrode_map(ax, highlight=None, labels=True, cmap=cm.Paired, s=50):\n",
    "    colors = np.array(exp.ch_coordinates.gid.map(lambda x: cmap(x/11, 0.9)))\n",
    "    if highlight in set(exp.ch_coordinates.group):\n",
    "        colors = np.array(exp.ch_coordinates.apply(lambda row: cmap(row.gid/12, 0.9) if row.group==highlight else cm.Greys(0.5,0.5), axis=1))\n",
    "    exp.ch_coordinates.plot(\n",
    "        kind='scatter', x='ML', y='AP', marker='o', ax=ax, legend=False, c=colors, s=s\n",
    "    )\n",
    "    if labels:\n",
    "        for i in exp.ch_coordinates.index:\n",
    "            ax.annotate(i, exp.ch_coordinates.loc[i, ['AP', 'ML']][::-1]+[0, 0.2], xycoords='data', ha='center')\n",
    "    ax.set_xlim(-5, 5)\n",
    "    ax.set_ylim(-5, 3)\n",
    "    if labels:\n",
    "        ax.set_title('Electrode map')\n",
    "    if not labels:\n",
    "        ax.set_xlabel('')\n",
    "        ax.set_ylabel('')\n",
    "    ax.set_xticks([])\n",
    "    ax.set_yticks([]);\n",
    "\n",
    "# function to show electrode groups along an axis instead of electrode numbers\n",
    "def draw_groups(ax, cmap=cm.Paired):\n",
    "    ax.set_xlim(-0.5, 29.5)\n",
    "    ax.set_ylim(29.5, -0.5)\n",
    "    ax.set_xticks([])\n",
    "    ax.set_yticks([])\n",
    "    nt = 0\n",
    "    def add_patch(df):\n",
    "        nonlocal nt, ax\n",
    "        ax.add_patch(patches.Rectangle(\n",
    "            (nt+0.05-0.5, 30), len(df)-0.05, 1, clip_on=False, color=cmap(df.gid.iloc[0]/12, 0.9), label=df.group.iloc[0]\n",
    "        ))\n",
    "        ax.add_patch(patches.Rectangle(\n",
    "            (-2, nt+0.05-0.5), 1, len(df), clip_on=False, color=cmap(df.gid.iloc[0]/12, 0.9)\n",
    "        ))\n",
    "        nt += len(df)\n",
    "    exp.ch_coordinates.sort_values('order').groupby('gid', sort=False).apply(add_patch)"
   ]
  },
  {
   "cell_type": "code",
   "execution_count": 7,
   "metadata": {
    "execution": {
     "iopub.execute_input": "2020-06-11T21:17:05.779925Z",
     "iopub.status.busy": "2020-06-11T21:17:05.779698Z",
     "iopub.status.idle": "2020-06-11T21:17:08.030914Z",
     "shell.execute_reply": "2020-06-11T21:17:08.030400Z",
     "shell.execute_reply.started": "2020-06-11T21:17:05.779856Z"
    }
   },
   "outputs": [
    {
     "name": "stdout",
     "output_type": "stream",
     "text": [
      "Number of workable windows (size 6.55 s) in each epoch:\n",
      "pre 29\n",
      "iso_high 63\n",
      "iso_low 102\n",
      "early_recovery 39\n",
      "late_recovery 123\n"
     ]
    }
   ],
   "source": [
    "# window data and get valid windows\n",
    "thresh = 4\n",
    "invalid_times = (hf_annots>thresh)\n",
    "\n",
    "def drop_artifacts(df, winsize, sample_rate):\n",
    "    if (len(df) < winsize*sample_rate) | (df['artifact'].sum() > 0):\n",
    "        return pd.Series([np.nan]*(int(winsize*sample_rate)))\n",
    "    return pd.Series(df.index[:int(winsize*sample_rate)])\n",
    "\n",
    "winsize_n_samples = 4096*4\n",
    "winsize_s = winsize_n_samples / sample_rate\n",
    "windows = pd.Series(index=eegdata.index, data=(eegdata.index/winsize_s).astype(int), name='window')\n",
    "aligned_windows = pd.concat([windows, invalid_times.reindex(windows.index, method='nearest')], axis=1)\n",
    "valid_windows = aligned_windows.groupby('window').apply(drop_artifacts, winsize=winsize_s, sample_rate=sample_rate).dropna()\n",
    "win_center = valid_windows.apply(lambda x: x.mean(), axis=1)\n",
    "win_epoch = pd.Series(data=epochs.reindex(win_center, method='nearest').values, index=win_center.index)\n",
    "valid_windows['epoch'] = win_epoch\n",
    "\n",
    "valid_wins_by_epoch = valid_windows.set_index('epoch', append=True).swaplevel()\n",
    "print('Number of workable windows (size {0:.2f} s) in each epoch:'.format(winsize_s))\n",
    "[print(idx, len(valid_wins_by_epoch.loc[idx])) for idx in list(valid_wins_by_epoch.index.levels[0])];"
   ]
  },
  {
   "cell_type": "markdown",
   "metadata": {},
   "source": [
    "# Hilbert transform the data"
   ]
  },
  {
   "cell_type": "markdown",
   "metadata": {
    "execution": {
     "iopub.execute_input": "2020-06-11T19:20:44.360167Z",
     "iopub.status.busy": "2020-06-11T19:20:44.359527Z",
     "iopub.status.idle": "2020-06-11T19:20:44.415068Z",
     "shell.execute_reply": "2020-06-11T19:20:44.414554Z",
     "shell.execute_reply.started": "2020-06-11T19:20:44.360079Z"
    }
   },
   "source": [
    "# PSD"
   ]
  },
  {
   "cell_type": "code",
   "execution_count": 8,
   "metadata": {
    "execution": {
     "iopub.execute_input": "2020-06-11T21:17:08.031952Z",
     "iopub.status.busy": "2020-06-11T21:17:08.031642Z",
     "iopub.status.idle": "2020-06-11T21:17:16.132758Z",
     "shell.execute_reply": "2020-06-11T21:17:16.132278Z",
     "shell.execute_reply.started": "2020-06-11T21:17:08.031872Z"
    }
   },
   "outputs": [
    {
     "data": {
      "application/vnd.jupyter.widget-view+json": {
       "model_id": "de15c1361327499da6826d37156d7117",
       "version_major": 2,
       "version_minor": 0
      },
      "text/plain": [
       "Canvas(toolbar=Toolbar(toolitems=[('Home', 'Reset original view', 'home', 'home'), ('Back', 'Back to previous …"
      ]
     },
     "metadata": {},
     "output_type": "display_data"
    },
    {
     "data": {
      "application/vnd.jupyter.widget-view+json": {
       "model_id": "21b35343bded445687d56c4cfd6cec29",
       "version_major": 2,
       "version_minor": 0
      },
      "text/plain": [
       "Canvas(toolbar=Toolbar(toolitems=[('Home', 'Reset original view', 'home', 'home'), ('Back', 'Back to previous …"
      ]
     },
     "metadata": {},
     "output_type": "display_data"
    },
    {
     "data": {
      "application/vnd.jupyter.widget-view+json": {
       "model_id": "21e8a9a5fc654cf69338709a5e2c1430",
       "version_major": 2,
       "version_minor": 0
      },
      "text/plain": [
       "Canvas(toolbar=Toolbar(toolitems=[('Home', 'Reset original view', 'home', 'home'), ('Back', 'Back to previous …"
      ]
     },
     "metadata": {},
     "output_type": "display_data"
    }
   ],
   "source": [
    "for ep in ['iso_low', 'pre', 'late_recovery']:#valid_wins_by_epoch.index.levels[0]:\n",
    "    _data = np.array(\n",
    "        [eegdata.loc[valid_wins_by_epoch.loc[ep].loc[x]].values for x in valid_wins_by_epoch.loc[ep].index]\n",
    "    )\n",
    "    _data = _data.reshape(-1, _data.shape[-1])\n",
    "    f, (ax, axe) = plt.subplots(\n",
    "        1, 2, figsize=(8, 3), constrained_layout=True,\n",
    "        gridspec_kw={'width_ratios':[2.5, 1]}\n",
    "    )\n",
    "    for c in eegdata.columns:\n",
    "        ax.psd(\n",
    "            _data[:, c], detrend='linear', Fs=sample_rate, NFFT=winsize_n_samples,\n",
    "            label=c, c=cm.Paired(exp.ch_coordinates.loc[c, 'gid']/12, 0.5)\n",
    "        )\n",
    "    ax.set_ylim(10, 50)\n",
    "    ax.set_xlim(0.5, 100)\n",
    "    ax.set_xscale('log')\n",
    "    ax.set_yscale('log')\n",
    "    plot_electrode_map(axe)\n",
    "    ax.set_title(ep);"
   ]
  },
  {
   "cell_type": "code",
   "execution_count": 9,
   "metadata": {
    "execution": {
     "iopub.execute_input": "2020-06-11T21:17:16.133755Z",
     "iopub.status.busy": "2020-06-11T21:17:16.133566Z",
     "iopub.status.idle": "2020-06-11T21:17:16.153647Z",
     "shell.execute_reply": "2020-06-11T21:17:16.153129Z",
     "shell.execute_reply.started": "2020-06-11T21:17:16.133728Z"
    }
   },
   "outputs": [],
   "source": [
    "# bands of interest (roughly based on the above spectrograms)\n",
    "boi = [(1, 10), (10, 17), (17, 25), (25, 50), (50, 100)]"
   ]
  },
  {
   "cell_type": "code",
   "execution_count": 10,
   "metadata": {
    "execution": {
     "iopub.execute_input": "2020-06-11T21:17:16.155302Z",
     "iopub.status.busy": "2020-06-11T21:17:16.155111Z",
     "iopub.status.idle": "2020-06-11T21:17:53.727842Z",
     "shell.execute_reply": "2020-06-11T21:17:53.727411Z",
     "shell.execute_reply.started": "2020-06-11T21:17:16.155275Z"
    }
   },
   "outputs": [
    {
     "data": {
      "application/vnd.jupyter.widget-view+json": {
       "model_id": "9d58cc6e32bc418fbc116a27942d4d21",
       "version_major": 2,
       "version_minor": 0
      },
      "text/plain": [
       "HBox(children=(FloatProgress(value=0.0, max=5.0), HTML(value='')))"
      ]
     },
     "metadata": {},
     "output_type": "display_data"
    },
    {
     "name": "stdout",
     "output_type": "stream",
     "text": [
      "\n"
     ]
    }
   ],
   "source": [
    "# filter data by bands\n",
    "filtered_data = {}\n",
    "for band in tqdm(boi):\n",
    "    filtered_data[band] = eegdata.apply(\n",
    "        filters.butter_bandpass_filter,\n",
    "        lowcut=band[0], highcut=band[1],\n",
    "        sampling_frequency=sample_rate, filter_order=3\n",
    "    )"
   ]
  },
  {
   "cell_type": "code",
   "execution_count": 37,
   "metadata": {
    "execution": {
     "iopub.execute_input": "2020-06-11T21:38:39.430459Z",
     "iopub.status.busy": "2020-06-11T21:38:39.430154Z",
     "iopub.status.idle": "2020-06-11T21:38:48.730627Z",
     "shell.execute_reply": "2020-06-11T21:38:48.729915Z",
     "shell.execute_reply.started": "2020-06-11T21:38:39.430420Z"
    }
   },
   "outputs": [],
   "source": [
    "_hil = signal.hilbert(filtered_data[(50, 100)][:winsize_n_samples][0])"
   ]
  },
  {
   "cell_type": "code",
   "execution_count": 38,
   "metadata": {
    "execution": {
     "iopub.execute_input": "2020-06-11T21:38:48.731652Z",
     "iopub.status.busy": "2020-06-11T21:38:48.731465Z",
     "iopub.status.idle": "2020-06-11T21:38:51.200843Z",
     "shell.execute_reply": "2020-06-11T21:38:51.200360Z",
     "shell.execute_reply.started": "2020-06-11T21:38:48.731627Z"
    }
   },
   "outputs": [
    {
     "data": {
      "application/vnd.jupyter.widget-view+json": {
       "model_id": "194c21f154054dab9d643fff8715a144",
       "version_major": 2,
       "version_minor": 0
      },
      "text/plain": [
       "Canvas(toolbar=Toolbar(toolitems=[('Home', 'Reset original view', 'home', 'home'), ('Back', 'Back to previous …"
      ]
     },
     "metadata": {},
     "output_type": "display_data"
    }
   ],
   "source": [
    "f, (ax, axa) = plt.subplots(2, 1, figsize=(8, 4), sharex=True)\n",
    "ax.plot(filtered_data[(50, 100)][:winsize_n_samples][0].values)\n",
    "ax.plot(np.abs(_hil))\n",
    "ax.plot(-np.abs(_hil))\n",
    "axa.plot(np.unwrap(np.angle(_hil)));"
   ]
  },
  {
   "cell_type": "code",
   "execution_count": 58,
   "metadata": {
    "execution": {
     "iopub.execute_input": "2020-06-11T21:10:04.316791Z",
     "iopub.status.busy": "2020-06-11T21:10:04.315864Z",
     "iopub.status.idle": "2020-06-11T21:10:06.188891Z",
     "shell.execute_reply": "2020-06-11T21:10:06.188354Z",
     "shell.execute_reply.started": "2020-06-11T21:10:04.316668Z"
    }
   },
   "outputs": [
    {
     "data": {
      "text/plain": [
       "{(1,\n",
       "  10):                       0           1          2           3           4  \\\n",
       " 29.833911    179.754529  134.554246 -12.203937  310.194006  288.631675   \n",
       " 29.834311    180.349244  132.483192 -17.746028  306.743403  283.862425   \n",
       " 29.834711    180.897240  130.367923 -23.283493  303.216344  279.010283   \n",
       " 29.835111    181.398070  128.208870 -28.815122  299.613160  274.076101   \n",
       " 29.835511    181.851314  126.006487 -34.339717  295.934218  269.060775   \n",
       " ...                 ...         ...        ...         ...         ...   \n",
       " 3642.282076   -0.137466   -0.422038  -0.623872   -0.412206   -0.694910   \n",
       " 3642.282476   -0.119817   -0.362815  -0.534596   -0.357591   -0.599403   \n",
       " 3642.282876   -0.103715   -0.309758  -0.454780   -0.308075   -0.513480   \n",
       " 3642.283276   -0.089105   -0.262480  -0.383841   -0.263425   -0.436593   \n",
       " 3642.283676   -0.075927   -0.220600  -0.321197   -0.223401   -0.368192   \n",
       " \n",
       "                       5           6           7           8           9  \\\n",
       " 29.833911    118.072548  278.012925  253.839938  171.023055  309.472278   \n",
       " 29.834311    111.057625  268.607318  242.890276  160.503257  299.104499   \n",
       " 29.834711    103.988790  259.126280  231.858012  149.908751  288.661859   \n",
       " 29.835111     96.867881  249.571888  220.745684  139.242152  278.146705   \n",
       " 29.835511     89.696772  239.946249  209.555868  128.506117  267.561412   \n",
       " ...                 ...         ...         ...         ...         ...   \n",
       " 3642.282076   -0.757886   -0.523461   -0.656865   -0.765430   -0.380452   \n",
       " 3642.282476   -0.651728   -0.453510   -0.567575   -0.660141   -0.330940   \n",
       " 3642.282876   -0.556563   -0.390202   -0.487052   -0.565412   -0.285884   \n",
       " 3642.283276   -0.471717   -0.333216   -0.414827   -0.480644   -0.245107   \n",
       " 3642.283676   -0.396520   -0.282224   -0.350423   -0.405238   -0.208421   \n",
       " \n",
       "                      10          11          12          13          14  \\\n",
       " 29.833911    297.590118  248.005143  175.267068  171.604237  116.733150   \n",
       " 29.834311    286.290061  235.199398  161.061288  157.428387  101.995156   \n",
       " 29.834711    274.901233  222.307931  146.769423  143.180507   87.183199   \n",
       " 29.835111    263.426142  209.333572  132.394970  128.864141   72.301111   \n",
       " 29.835511    251.867333  196.279191  117.941468  114.482868   57.352764   \n",
       " ...                 ...         ...         ...         ...         ...   \n",
       " 3642.282076   -0.347609    0.006559   -0.045114    0.258956    0.315578   \n",
       " 3642.282476   -0.303182    0.001362   -0.043406    0.219564    0.267289   \n",
       " 3642.282876   -0.262591   -0.002541   -0.041048    0.184800    0.224732   \n",
       " 3642.283276   -0.225711   -0.005334   -0.038198    0.154306    0.187449   \n",
       " 3642.283676   -0.192406   -0.007193   -0.035002    0.127729    0.155000   \n",
       " \n",
       "                      15          16          17          18          19  \\\n",
       " 29.833911    105.077388  160.179865  162.333236  267.696108  261.865328   \n",
       " 29.834311     90.658096  144.973691  148.485637  256.913013  253.495106   \n",
       " 29.834711     76.169911  129.688774  134.553770  246.039167  245.032918   \n",
       " 29.835111     61.616688  114.329071  120.541068  235.076922  236.480510   \n",
       " 29.835511     47.002319   98.898574  106.451008  224.028674  227.839675   \n",
       " ...                 ...         ...         ...         ...         ...   \n",
       " 3642.282076    0.314642    0.215207   -0.105819   -0.366926   -0.963655   \n",
       " 3642.282476    0.265998    0.180301   -0.095041   -0.318120   -0.829289   \n",
       " 3642.282876    0.223227    0.149892   -0.084643   -0.273883   -0.708710   \n",
       " 3642.283276    0.185845    0.123570   -0.074711   -0.234010   -0.601096   \n",
       " 3642.283676    0.153384    0.100944   -0.065316   -0.198288   -0.505627   \n",
       " \n",
       "                      20          21          22          23          24  \\\n",
       " 29.833911    349.488508  168.503683  277.635190  321.736978  121.386345   \n",
       " 29.834311    341.967786  161.168601  269.888163  314.632981  117.950152   \n",
       " 29.834711    334.344392  153.759908  262.049190  307.432387  114.472597   \n",
       " 29.835111    326.619600  146.279284  254.119842  300.136528  110.954627   \n",
       " 29.835511    318.794731  138.728448  246.101739  292.746783  107.397214   \n",
       " ...                 ...         ...         ...         ...         ...   \n",
       " 3642.282076   -0.792308   -0.774161   -0.872134   -0.614925   -0.557855   \n",
       " 3642.282476   -0.682396   -0.666505   -0.750639   -0.529591   -0.479606   \n",
       " 3642.282876   -0.583649   -0.569840   -0.641586   -0.452929   -0.409468   \n",
       " 3642.283276   -0.495421   -0.483519   -0.544237   -0.384438   -0.346948   \n",
       " 3642.283676   -0.417064   -0.406896   -0.457858   -0.323613   -0.291551   \n",
       " \n",
       "                      25          26         27          28          29  \n",
       " 29.833911    309.777761  315.603231  95.797522  184.865700  219.591975  \n",
       " 29.834311    305.578425  311.896579  93.256859  183.491147  218.628836  \n",
       " 29.834711    301.298093  308.120755  90.683912  182.088548  217.630004  \n",
       " 29.835111    296.937515  304.276480  88.079421  180.658222  216.595782  \n",
       " 29.835511    292.497486  300.364516  85.444150  179.200506  215.526492  \n",
       " ...                 ...         ...        ...         ...         ...  \n",
       " 3642.282076   -0.535443   -0.182420  -0.386008   -0.153213   -0.006354  \n",
       " 3642.282476   -0.460317   -0.157206  -0.331411   -0.131522   -0.005102  \n",
       " 3642.282876   -0.392979   -0.134531  -0.282562   -0.112076   -0.004044  \n",
       " 3642.283276   -0.332957   -0.114253  -0.239096   -0.094748   -0.003158  \n",
       " 3642.283676   -0.279776   -0.096229  -0.200651   -0.079410   -0.002428  \n",
       " \n",
       " [9031232 rows x 30 columns],\n",
       " (10,\n",
       "  17):                      0          1          2          3          4          5  \\\n",
       " 29.833911    41.151558  59.546776 -69.652520  36.432760  74.794831  83.974665   \n",
       " 29.834311    42.718867  59.910329 -69.880016  36.744044  75.161800  81.936900   \n",
       " 29.834711    44.240150  60.207582 -70.016714  37.020345  75.449760  79.806425   \n",
       " 29.835111    45.714025  60.438438 -70.063123  37.262014  75.658885  77.585885   \n",
       " 29.835511    47.139174  60.602885 -70.019897  37.469445  75.789445  75.278043   \n",
       " ...                ...        ...        ...        ...        ...        ...   \n",
       " 3642.282076   0.033115  -0.000684  -0.052531   0.009136  -0.088360  -0.046693   \n",
       " 3642.282476   0.027982  -0.001201  -0.043685   0.007558  -0.076935  -0.040268   \n",
       " 3642.282876   0.023460  -0.001552  -0.035992   0.006183  -0.066505  -0.034481   \n",
       " 3642.283276   0.019501  -0.001764  -0.029355   0.004995  -0.057042  -0.029297   \n",
       " 3642.283676   0.016060  -0.001863  -0.023678   0.003981  -0.048511  -0.024683   \n",
       " \n",
       "                      6          7          8          9         10         11  \\\n",
       " 29.833911    32.784429  61.768628  88.845585  22.622597  56.241837  41.291231   \n",
       " 29.834311    29.709730  58.791255  85.938554  18.436465  53.484795  37.656395   \n",
       " 29.834711    26.606777  55.754463  82.939379  14.232209  50.675920  33.989411   \n",
       " 29.835111    23.479934  52.662321  79.851825  10.015668  47.818980  30.295066   \n",
       " 29.835511    20.333595  49.518963  76.679767   5.792696  44.917797  26.578170   \n",
       " ...                ...        ...        ...        ...        ...        ...   \n",
       " 3642.282076  -0.069475  -0.120513  -0.105101  -0.067552  -0.121917  -0.099871   \n",
       " 3642.282476  -0.059550  -0.103660  -0.090286  -0.057763  -0.105026  -0.085764   \n",
       " 3642.282876  -0.050691  -0.088535  -0.077009  -0.049055  -0.089837  -0.073138   \n",
       " 3642.283276  -0.042828  -0.075037  -0.065180  -0.041349  -0.076258  -0.061902   \n",
       " 3642.283676  -0.035888  -0.063066  -0.054705  -0.034571  -0.064191  -0.051960   \n",
       " \n",
       "                     12         13          14          15          16  \\\n",
       " 29.833911    92.390222  74.586219  107.164969  107.474270  101.353246   \n",
       " 29.834311    87.927458  69.304773  101.513780  101.208900   94.732074   \n",
       " 29.834711    83.381465  63.968433   95.767918   94.848687   88.026826   \n",
       " 29.835111    78.757876  58.583649   89.934130   88.401212   81.245791   \n",
       " 29.835511    74.062405  53.156900   84.019247   81.874141   74.397332   \n",
       " ...                ...        ...         ...         ...         ...   \n",
       " 3642.282076  -0.128238   0.017447   -0.096369   -0.082038   -0.111813   \n",
       " 3642.282476  -0.110234   0.015755   -0.082346   -0.069942   -0.095710   \n",
       " 3642.282876  -0.094090   0.014073   -0.069867   -0.059207   -0.081343   \n",
       " 3642.283276  -0.079696   0.012432   -0.058826   -0.049733   -0.068598   \n",
       " 3642.283676  -0.066940   0.010858   -0.049117   -0.041424   -0.057363   \n",
       " \n",
       "                     17         18         19         20         21         22  \\\n",
       " 29.833911    90.122532  55.773501  90.190200  64.403197  91.509358  91.586543   \n",
       " 29.834311    85.502076  51.727242  88.294415  63.216557  89.974564  90.044888   \n",
       " 29.834711    80.801482  47.634503  86.303884  61.968600  88.343592  88.406261   \n",
       " 29.835111    76.026668  43.501226  84.221599  60.661845  86.618796  86.673229   \n",
       " 29.835511    71.183631  39.333403  82.050676  59.298884  84.802653  84.848483   \n",
       " ...                ...        ...        ...        ...        ...        ...   \n",
       " 3642.282076  -0.146463  -0.102524  -0.180722  -0.159632  -0.149242  -0.186656   \n",
       " 3642.282476  -0.125825  -0.087731  -0.154707  -0.136271  -0.128010  -0.159898   \n",
       " 3642.282876  -0.107327  -0.074540  -0.131484  -0.115489  -0.109009  -0.135989   \n",
       " 3642.283276  -0.090841  -0.062844  -0.110875  -0.097110  -0.092104  -0.114751   \n",
       " 3642.283676  -0.076241  -0.052538  -0.092703  -0.080961  -0.077160  -0.096007   \n",
       " \n",
       "                     23         24          25         26         27  \\\n",
       " 29.833911    76.318019  88.223436  117.912312  88.828766  66.049475   \n",
       " 29.834311    74.459135  87.611096  117.880981  86.959511  65.489508   \n",
       " 29.834711    72.516180  86.900127  117.715328  84.979059  64.854165   \n",
       " 29.835111    70.492423  86.091419  117.415723  82.890164  64.144389   \n",
       " 29.835511    68.391245  85.185993  116.982710  80.695743  63.361220   \n",
       " ...                ...        ...         ...        ...        ...   \n",
       " 3642.282076  -0.204235  -0.070491   -0.143635  -0.100382  -0.040626   \n",
       " 3642.282476  -0.174088  -0.060677   -0.123523  -0.085289  -0.035147   \n",
       " 3642.282876  -0.147315  -0.051853   -0.105458  -0.071934  -0.030188   \n",
       " 3642.283276  -0.123679  -0.043964   -0.089330  -0.060189  -0.025725   \n",
       " 3642.283676  -0.102947  -0.036958   -0.075023  -0.049926  -0.021736   \n",
       " \n",
       "                     28         29  \n",
       " 29.833911    50.467044  68.114357  \n",
       " 29.834311    50.162012  66.336901  \n",
       " 29.834711    49.796651  64.468838  \n",
       " 29.835111    49.371149  62.512642  \n",
       " 29.835511    48.885769  60.470921  \n",
       " ...                ...        ...  \n",
       " 3642.282076  -0.140370  -0.024866  \n",
       " 3642.282476  -0.120999  -0.021085  \n",
       " 3642.282876  -0.103533  -0.017746  \n",
       " 3642.283276  -0.087884  -0.014816  \n",
       " 3642.283676  -0.073954  -0.012262  \n",
       " \n",
       " [9031232 rows x 30 columns],\n",
       " (17,\n",
       "  25):                      0          1           2          3          4  \\\n",
       " 29.833911    66.763438  55.813343 -213.707531  69.506564  83.547154   \n",
       " 29.834311    66.759940  55.895106 -218.245563  67.846971  82.339157   \n",
       " 29.834711    66.558065  55.822164 -222.166250  65.986328  80.892111   \n",
       " 29.835111    66.158003  55.593959 -225.454105  63.929178  79.209036   \n",
       " 29.835511    65.560565  55.210381 -228.095521  61.680677  77.293666   \n",
       " ...                ...        ...         ...        ...        ...   \n",
       " 3642.282076  -0.104026   0.083891   -0.017016  -0.361335  -0.088840   \n",
       " 3642.282476  -0.092519   0.071609   -0.010492  -0.315645  -0.080623   \n",
       " 3642.282876  -0.081595   0.060635   -0.005283  -0.273575  -0.072450   \n",
       " 3642.283276  -0.071317   0.050900   -0.001245  -0.235116  -0.064441   \n",
       " 3642.283676  -0.061736   0.042330    0.001764  -0.200227  -0.056704   \n",
       " \n",
       "                      5          6          7          8          9         10  \\\n",
       " 29.833911    44.941838  32.524225  18.026641  30.225143  30.755888  -0.136720   \n",
       " 29.834311    43.761535  28.319297  14.394495  27.454730  25.725937  -4.060186   \n",
       " 29.834711    42.473669  24.038744  10.733472  24.621495  20.630352  -7.963778   \n",
       " 29.835111    41.081351  19.694533   7.053988  21.733314  15.483472 -11.836141   \n",
       " 29.835511    39.587951  15.298812   3.366478  18.798179  10.299768 -15.666043   \n",
       " ...                ...        ...        ...        ...        ...        ...   \n",
       " 3642.282076  -0.212485  -0.547851  -0.565330  -0.450268  -0.625478  -0.619915   \n",
       " 3642.282476  -0.183294  -0.475883  -0.491622  -0.390905  -0.543001  -0.539358   \n",
       " 3642.282876  -0.156875  -0.410161  -0.424195  -0.336724  -0.467746  -0.465613   \n",
       " 3642.283276  -0.133133  -0.350563  -0.362948  -0.287621  -0.399561  -0.398582   \n",
       " 3642.283676  -0.111954  -0.296919  -0.307733  -0.243452  -0.338236  -0.338111   \n",
       " \n",
       "                     11         12         13         14         15         16  \\\n",
       " 29.833911    -2.324421  23.506863  25.435235  32.428683  44.759536  51.140348   \n",
       " 29.834311    -6.763872  19.057941  19.387978  26.864951  38.612637  43.919887   \n",
       " 29.834711   -11.181844  14.576831  13.292129  21.244133  32.383258  36.600545   \n",
       " 29.835111   -15.565681  10.076183   7.164260  15.582037  26.089156  29.203434   \n",
       " 29.835511   -19.902836   5.568644   1.021015   9.894538  19.748213  21.749837   \n",
       " ...                ...        ...        ...        ...        ...        ...   \n",
       " 3642.282076  -0.546332  -0.364167  -0.406652  -0.266956  -0.311928  -0.327072   \n",
       " 3642.282476  -0.474483  -0.316497  -0.352577  -0.232724  -0.271606  -0.283730   \n",
       " 3642.282876  -0.408886  -0.272928  -0.303321  -0.201295  -0.234644  -0.244207   \n",
       " 3642.283276  -0.349414  -0.233386  -0.258767  -0.172645  -0.201006  -0.208423   \n",
       " 3642.283676  -0.295897  -0.197767  -0.218763  -0.146728  -0.170624  -0.176266   \n",
       " \n",
       "                     17         18         19         20         21         22  \\\n",
       " 29.833911    35.046068  61.807464  74.118144  70.480417  67.181104  77.927247   \n",
       " 29.834311    30.642249  57.983288  74.324156  70.041499  67.474070  78.225310   \n",
       " 29.834711    26.182380  54.037356  74.369115  69.449766  67.613533  78.345798   \n",
       " 29.835111    21.679077  49.981606  74.252614  68.707007  67.598386  78.288015   \n",
       " 29.835511    17.145004  45.828206  73.974596  67.815347  67.427875  78.051679   \n",
       " ...                ...        ...        ...        ...        ...        ...   \n",
       " 3642.282076  -0.268440  -0.337742  -0.211172  -0.260806  -0.207034  -0.188307   \n",
       " 3642.282476  -0.232632  -0.288728  -0.178961  -0.221835  -0.175885  -0.159342   \n",
       " 3642.282876  -0.200029  -0.244876  -0.150421  -0.187171  -0.148207  -0.133717   \n",
       " 3642.283276  -0.170553  -0.205917  -0.125318  -0.156557  -0.123791  -0.111214   \n",
       " 3642.283676  -0.144102  -0.171563  -0.103411  -0.129728  -0.102419  -0.091608   \n",
       " \n",
       "                      23         24          25          26         27  \\\n",
       " 29.833911    107.048534  61.578895  118.062643  151.639252  57.546373   \n",
       " 29.834311    106.792766  62.558431  120.343323  152.517483  58.160328   \n",
       " 29.834711    106.275231  63.380592  122.300662  152.976372  58.624470   \n",
       " 29.835111    105.497002  64.042097  123.927391  153.012558  58.936428   \n",
       " 29.835511    104.459837  64.540085  125.217178  152.623916  59.094238   \n",
       " ...                 ...        ...         ...         ...        ...   \n",
       " 3642.282076   -0.194612  -0.134483   -0.119234   -0.237638  -0.110148   \n",
       " 3642.282476   -0.165428  -0.114655   -0.102466   -0.207063  -0.093664   \n",
       " 3642.282876   -0.139492  -0.096959   -0.087353   -0.179005  -0.078996   \n",
       " 3642.283276   -0.116606  -0.081280   -0.073830   -0.153443  -0.066040   \n",
       " 3642.283676   -0.096567  -0.067496   -0.061823   -0.130333  -0.054685   \n",
       " \n",
       "                     28          29  \n",
       " 29.833911    42.911079  138.478170  \n",
       " 29.834311    42.224237  138.932842  \n",
       " 29.834711    41.406150  138.995985  \n",
       " 29.835111    40.458857  138.665368  \n",
       " 29.835511    39.384814  137.939929  \n",
       " ...                ...         ...  \n",
       " 3642.282076  -0.084304   -0.247290  \n",
       " 3642.282476  -0.073181   -0.217046  \n",
       " 3642.282876  -0.062985   -0.188970  \n",
       " 3642.283276  -0.053717   -0.163109  \n",
       " 3642.283676  -0.045367   -0.139483  \n",
       " \n",
       " [9031232 rows x 30 columns],\n",
       " (25,\n",
       "  50):                      0          1           2          3          4  \\\n",
       " 29.833911    62.946740   7.779110  123.675323  49.281990  48.226747   \n",
       " 29.834311    62.234597   0.058028  111.773430  45.615252  43.872712   \n",
       " 29.834711    61.303387  -7.411917   97.676419  41.838234  39.513770   \n",
       " 29.835111    60.180401 -14.530637   81.429124  38.000396  35.213381   \n",
       " 29.835511    58.890780 -21.205419   63.113764  34.147960  31.029584   \n",
       " ...                ...        ...         ...        ...        ...   \n",
       " 3642.282076  -6.082380  -2.692631   48.593607 -11.082363  -8.961627   \n",
       " 3642.282476  -5.694824  -2.822291   46.469030 -10.506943  -8.507308   \n",
       " 3642.282876  -5.261428  -2.863719   43.774132  -9.821256  -7.959960   \n",
       " 3642.283276  -4.796334  -2.827611   40.631666  -9.052113  -7.341493   \n",
       " 3642.283676  -4.313107  -2.725599   37.163492  -8.225805  -6.673612   \n",
       " \n",
       "                      5          6          7          8           9  \\\n",
       " 29.833911    -9.866296  10.732222   4.481204   0.412020  -16.886937   \n",
       " 29.834311   -25.543816  -6.163090 -15.387059 -18.960640  -39.973203   \n",
       " 29.834711   -40.966338 -23.063979 -35.256965 -38.257502  -62.828476   \n",
       " 29.835111   -55.969809 -39.807822 -54.943233 -57.293228  -85.222550   \n",
       " 29.835511   -70.396317 -56.233802 -74.262330 -75.885755 -106.929349   \n",
       " ...                ...        ...        ...        ...         ...   \n",
       " 3642.282076  -0.949616 -12.926660  -8.897806  -5.762495  -13.594830   \n",
       " 3642.282476  -1.562322 -12.392277  -8.886693  -6.039886  -13.117713   \n",
       " 3642.282876  -2.018638 -11.701080  -8.687564  -6.132433  -12.457888   \n",
       " 3642.283276  -2.329984 -10.885330  -8.327674  -6.061614  -11.649924   \n",
       " 3642.283676  -2.510313  -9.977356  -7.835783  -5.851026  -10.728922   \n",
       " \n",
       "                     10          11          12          13          14  \\\n",
       " 29.833911    -4.496982  -65.159668  -23.977530  -72.671748  -50.222810   \n",
       " 29.834311   -26.238375  -86.989281  -46.194127  -98.602229  -75.398257   \n",
       " 29.834711   -47.947013 -108.417920  -68.211013 -123.891996 -100.019105   \n",
       " 29.835111   -69.422458 -129.235483  -89.820571 -148.277528 -123.834219   \n",
       " 29.835511   -90.465965 -149.234442 -110.818087 -171.502137 -146.600044   \n",
       " ...                ...         ...         ...         ...         ...   \n",
       " 3642.282076  -8.567063   -9.565139  -14.962842   -1.740392   -9.641246   \n",
       " 3642.282476  -8.685476   -9.261485  -14.250013   -1.352028   -8.896492   \n",
       " 3642.282876  -8.592800   -8.825220  -13.377467   -1.021251   -8.116003   \n",
       " 3642.283276  -8.317503   -8.279687  -12.380866   -0.744446   -7.317334   \n",
       " 3642.283676  -7.889986   -7.649036  -11.295644   -0.517435   -6.517005   \n",
       " \n",
       "                      15          16         17         18         19  \\\n",
       " 29.833911    -24.780439   -7.733782  -4.387842  52.525997  25.269832   \n",
       " 29.834311    -49.658237  -33.732553 -24.086634  36.887664  14.991620   \n",
       " 29.834711    -74.046829  -59.350726 -43.651887  20.998100   4.645382   \n",
       " 29.835111    -97.697009  -84.328604 -62.901700   5.005998  -5.665379   \n",
       " 29.835511   -120.368480 -108.414727 -81.657660 -10.940790 -15.839611   \n",
       " ...                 ...         ...        ...        ...        ...   \n",
       " 3642.282076  -12.746145  -14.299713 -16.679269 -21.457508 -14.808001   \n",
       " 3642.282476  -11.847968  -13.370111 -15.759035 -20.203861 -14.287849   \n",
       " 3642.282876  -10.880759  -12.344934 -14.689492 -18.776589 -13.573070   \n",
       " 3642.283276   -9.870184  -11.254426 -13.508653 -17.222545 -12.700294   \n",
       " 3642.283676   -8.840579  -10.127552 -12.253648 -15.587282 -11.706579   \n",
       " \n",
       "                     20         21         22         23         24         25  \\\n",
       " 29.833911    43.938294   7.628760  30.906550  50.264954  -8.627462   6.685062   \n",
       " 29.834311    34.542554  -2.246101  22.923595  45.814582 -17.074377   9.857792   \n",
       " 29.834711    24.979526 -12.063154  14.850550  41.228596 -25.268752  13.245899   \n",
       " 29.835111    15.341959 -21.719957   6.769058  36.553918 -33.110152  16.843174   \n",
       " 29.835511     5.720350 -31.117437  -1.241723  31.833947 -40.504225  20.637307   \n",
       " ...                ...        ...        ...        ...        ...        ...   \n",
       " 3642.282076 -13.166010  -9.791338 -11.427485  -8.936883  -0.408197   0.250255   \n",
       " 3642.282476 -12.873040  -9.720076 -11.246415  -9.050789  -1.172590  -0.663612   \n",
       " 3642.282876 -12.371016  -9.459088 -10.867036  -8.956646  -1.758837  -1.380950   \n",
       " 3642.283276 -11.694127  -9.036712 -10.320439  -8.680611  -2.178860  -1.913532   \n",
       " 3642.283676 -10.877739  -8.482517  -9.638893  -8.251081  -2.447512  -2.276528   \n",
       " \n",
       "                     26         27         28         29  \n",
       " 29.833911    27.678019 -14.600930  42.820234  17.527864  \n",
       " 29.834311    32.232498 -23.976513  39.681428  16.156002  \n",
       " 29.834711    36.933480 -33.028695  36.177471  15.019151  \n",
       " 29.835111    41.760715 -41.645634  32.360812  14.168966  \n",
       " 29.835511    46.687185 -49.722545  28.287826  13.649255  \n",
       " ...                ...        ...        ...        ...  \n",
       " 3642.282076  -0.035700   1.749394  16.887007   1.103824  \n",
       " 3642.282476  -0.870242   0.842154  15.329240   0.291309  \n",
       " 3642.282876  -1.520518   0.099850  13.759726  -0.362491  \n",
       " 3642.283276  -1.997715  -0.485131  12.207626  -0.866598  \n",
       " 3642.283676  -2.316235  -0.923516  10.699090  -1.232662  \n",
       " \n",
       " [9031232 rows x 30 columns],\n",
       " (50,\n",
       "  100):                       0           1           2           3           4  \\\n",
       " 29.833911    -42.469091  -10.894699  -35.883167  -37.418694  -41.444935   \n",
       " 29.834311    -81.300676  -68.156359  115.920099  -81.546724  -97.245440   \n",
       " 29.834711   -117.308937 -123.056266  268.569493 -122.982755 -149.715177   \n",
       " 29.835111   -149.199702 -173.596112  417.376777 -160.207913 -196.826284   \n",
       " 29.835511   -175.863142 -217.981118  557.722106 -191.899745 -236.790503   \n",
       " ...                 ...         ...         ...         ...         ...   \n",
       " 3642.282076   26.773805    8.826544 -194.425566   27.151904   -3.495257   \n",
       " 3642.282476   29.893476   14.399349 -200.232850   35.336447    7.337881   \n",
       " 3642.282876   31.106099   18.473079 -196.003284   40.566453   16.264607   \n",
       " 3642.283276   30.629323   21.068933 -183.389110   43.016911   23.131630   \n",
       " 3642.283676   28.749930   22.284879 -164.321532   42.997732   27.910324   \n",
       " \n",
       "                       5           6           7           8           9  \\\n",
       " 29.833911     -4.928449  -16.079645  -12.764917  -11.683048    2.835707   \n",
       " 29.834311    -59.988521  -47.690651  -47.012796  -54.905371  -29.001798   \n",
       " 29.834711   -113.301545  -77.846174  -79.835373  -96.588483  -59.830574   \n",
       " 29.835111   -162.967924 -105.506594 -110.089093 -135.277546  -88.721395   \n",
       " 29.835511   -207.246109 -129.743746 -136.742278 -169.643312 -114.839843   \n",
       " ...                 ...         ...         ...         ...         ...   \n",
       " 3642.282076   -0.341370   16.941286    5.550876   -4.132935   15.296760   \n",
       " 3642.282476    8.325778   28.313766   18.714579    8.473185   29.310421   \n",
       " 3642.282876   15.293860   36.641037   29.069238   18.843879   39.864332   \n",
       " 3642.283276   20.486596   41.965161   36.537850   26.821831   46.959824   \n",
       " 3642.283676   23.928006   44.485553   41.200981   32.387206   50.780620   \n",
       " \n",
       "                      10         11         12         13         14  \\\n",
       " 29.833911     -4.652092  26.667624  -0.112506  35.918951  18.121809   \n",
       " 29.834311    -35.118693  23.441183 -22.915220  17.390191 -11.295780   \n",
       " 29.834711    -64.546235  19.531891 -45.127907  -1.302746 -40.240145   \n",
       " 29.835111    -91.962490  14.875090 -66.085368 -19.644711 -67.843194   \n",
       " 29.835511   -116.486290   9.415394 -85.183245 -37.174821 -93.316499   \n",
       " ...                 ...        ...        ...        ...        ...   \n",
       " 3642.282076    6.331848  10.249683   5.467385 -10.698524  -3.642237   \n",
       " 3642.282476   21.275954  26.112088  18.192074  -1.220413   5.735994   \n",
       " 3642.282876   33.034063  38.351143  28.206665   6.893091  13.470317   \n",
       " 3642.283276   41.520937  46.920582  35.437435  13.447831  19.424699   \n",
       " 3642.283676   46.828587  51.971748  39.960730  18.352578  23.570763   \n",
       " \n",
       "                      15          16          17          18          19  \\\n",
       " 29.833911      6.141696   -3.788924  -10.543685  -37.376624  -34.458890   \n",
       " 29.834311    -41.453339  -56.323153  -43.519786  -84.926370  -82.038573   \n",
       " 29.834711    -87.643727 -106.943159  -75.280498 -129.631077 -127.076880   \n",
       " 29.835111   -130.882101 -153.918927 -104.736729 -169.808345 -167.887008   \n",
       " 29.835511   -169.767142 -195.693645 -130.903934 -203.986921 -202.964217   \n",
       " ...                 ...         ...         ...         ...         ...   \n",
       " 3642.282076   -6.652698  -20.046676    7.263020  -12.225390   22.385363   \n",
       " 3642.282476    1.817402  -11.276981   16.546383   -2.576148   30.033440   \n",
       " 3642.282876    8.970148   -3.206638   23.702150    5.859858   35.063709   \n",
       " 3642.283276   14.645123    3.870614   28.702828   12.865278   37.628756   \n",
       " 3642.283676   18.777228    9.741542   31.634711   18.312987   37.996881   \n",
       " \n",
       "                      20          21          22          23          24  \\\n",
       " 29.833911    -38.663919  -22.379602  -38.218087  -45.847121   -6.927844   \n",
       " 29.834311    -91.274778  -67.747589  -87.019754 -100.131626  -60.782726   \n",
       " 29.834711   -141.225521 -111.211042 -133.222287 -151.815809 -113.042548   \n",
       " 29.835111   -186.671603 -151.163005 -175.069116 -199.032537 -161.805991   \n",
       " 29.835511   -225.958049 -186.141335 -210.987085 -240.090421 -205.315622   \n",
       " ...                 ...         ...         ...         ...         ...   \n",
       " 3642.282076    7.925015   23.676184   20.882782   -7.085766   12.166318   \n",
       " 3642.282476   19.314106   29.794280   28.979243    7.168423   17.997808   \n",
       " 3642.282876   28.018362   33.530008   34.412854   18.891611   22.085782   \n",
       " 3642.283276   34.025015   35.057735   37.317520   27.895724   24.499004   \n",
       " 3642.283676   37.466836   34.653619   37.951588   34.160110   25.387398   \n",
       " \n",
       "                      25          26          27         28          29  \n",
       " 29.833911    -25.278372  -38.270730   -0.300022 -28.998620  -27.174622  \n",
       " 29.834311    -71.658967  -95.989401  -57.063771 -43.220120  -98.875967  \n",
       " 29.834711   -116.009939 -151.434676 -112.460621 -55.216132 -167.984780  \n",
       " 29.835111   -156.617501 -202.481185 -164.512647 -64.165091 -231.859278  \n",
       " 29.835511   -191.925260 -247.166585 -211.375229 -69.379439 -288.057276  \n",
       " ...                 ...         ...         ...        ...         ...  \n",
       " 3642.282076   30.293012   18.650471    8.497572 -15.143491   43.343917  \n",
       " 3642.282476   35.836214   26.527191   14.543149 -19.691468   43.717616  \n",
       " 3642.282876   38.755008   31.866650   18.973041 -22.703620   41.909215  \n",
       " 3642.283276   39.293504   34.776967   21.818808 -24.266837   38.307857  \n",
       " 3642.283676   37.804072   35.493538   23.192997 -24.531111   33.367544  \n",
       " \n",
       " [9031232 rows x 30 columns]}"
      ]
     },
     "execution_count": 58,
     "metadata": {},
     "output_type": "execute_result"
    }
   ],
   "source": [
    "# apply hilbert trasnform on each band\n",
    "hilbert_data = {}\n",
    "for band, data in filtered_data.items():\n",
    "    "
   ]
  },
  {
   "cell_type": "code",
   "execution_count": null,
   "metadata": {},
   "outputs": [],
   "source": []
  }
 ],
 "metadata": {
  "kernelspec": {
   "display_name": "zapnzip",
   "language": "python",
   "name": "zapnzip"
  },
  "language_info": {
   "codemirror_mode": {
    "name": "ipython",
    "version": 3
   },
   "file_extension": ".py",
   "mimetype": "text/x-python",
   "name": "python",
   "nbconvert_exporter": "python",
   "pygments_lexer": "ipython3",
   "version": "3.7.4"
  },
  "widgets": {
   "application/vnd.jupyter.widget-state+json": {
    "state": {},
    "version_major": 2,
    "version_minor": 0
   }
  }
 },
 "nbformat": 4,
 "nbformat_minor": 4
}
