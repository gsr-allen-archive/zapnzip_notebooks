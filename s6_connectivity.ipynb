{
 "cells": [
  {
   "cell_type": "markdown",
   "metadata": {},
   "source": [
    "In this notebook, I develop code to asses connectivity metrics across EEG nodes"
   ]
  },
  {
   "cell_type": "code",
   "execution_count": 1,
   "metadata": {
    "execution": {
     "iopub.execute_input": "2020-06-09T17:51:01.551781Z",
     "iopub.status.busy": "2020-06-09T17:51:01.550952Z",
     "iopub.status.idle": "2020-06-09T17:51:14.677833Z",
     "shell.execute_reply": "2020-06-09T17:51:14.675448Z",
     "shell.execute_reply.started": "2020-06-09T17:51:01.551671Z"
    }
   },
   "outputs": [],
   "source": [
    "%load_ext autoreload\n",
    "%autoreload 2\n",
    "\n",
    "import numpy as np\n",
    "import pandas as pd\n",
    "import matplotlib.pyplot as plt\n",
    "from matplotlib import cm, patches\n",
    "import matplotlib.gridspec as gridspec\n",
    "from scipy import signal\n",
    "import umap\n",
    "from mne.connectivity import spectral_connectivity\n",
    "\n",
    "from tbd_eeg.data_analysis.eegutils import *\n",
    "from tbd_eeg.data_analysis.Utilities import utilities as utils\n",
    "\n",
    "from ipympl.backend_nbagg import Canvas\n",
    "Canvas.header_visible.default_value = False\n",
    "%matplotlib widget"
   ]
  },
  {
   "cell_type": "code",
   "execution_count": 2,
   "metadata": {
    "execution": {
     "iopub.execute_input": "2020-06-09T17:51:14.681708Z",
     "iopub.status.busy": "2020-06-09T17:51:14.680934Z",
     "iopub.status.idle": "2020-06-09T17:51:15.313702Z",
     "shell.execute_reply": "2020-06-09T17:51:15.312739Z",
     "shell.execute_reply.started": "2020-06-09T17:51:14.681605Z"
    }
   },
   "outputs": [],
   "source": [
    "epoch_cms = {\n",
    "    'pre' : cm.Reds,\n",
    "    'iso_high' : cm.PuOr,\n",
    "    'iso_low' : cm.PuOr_r,\n",
    "    'early_recovery': cm.Blues,\n",
    "    'late_recovery' : cm.Greens\n",
    "}"
   ]
  },
  {
   "cell_type": "code",
   "execution_count": 3,
   "metadata": {
    "execution": {
     "iopub.execute_input": "2020-06-09T17:51:31.166685Z",
     "iopub.status.busy": "2020-06-09T17:51:31.166386Z",
     "iopub.status.idle": "2020-06-09T17:52:06.042882Z",
     "shell.execute_reply": "2020-06-09T17:52:06.042371Z",
     "shell.execute_reply.started": "2020-06-09T17:51:31.166645Z"
    }
   },
   "outputs": [
    {
     "name": "stdout",
     "output_type": "stream",
     "text": [
      "Identifying valid channels...\n",
      "The following channels seem to be correctly connected and report valid data:\n",
      "[0, 1, 2, 3, 4, 5, 6, 7, 8, 9, 10, 11, 12, 13, 14, 15, 16, 17, 18, 19, 20, 21, 22, 23, 24, 25, 26, 27, 28, 29]\n",
      "Loading other data...\n"
     ]
    },
    {
     "name": "stderr",
     "output_type": "stream",
     "text": [
      "/home/saurabh.gandhi/Projects/.env_zz/lib/python3.7/site-packages/allensdk/brain_observatory/sync_dataset.py:454: H5pyDeprecationWarning: dataset.value has been deprecated. Use dataset[()] instead.\n",
      "  return eval(self.dfile['analog_meta'].value)\n"
     ]
    },
    {
     "name": "stdout",
     "output_type": "stream",
     "text": [
      "iso on at 672.736\n",
      "iso reduced at 971.504\n",
      "iso off at 1772.992\n",
      "Annotating artifacts...\n"
     ]
    }
   ],
   "source": [
    "data_folder = \"/allen/programs/braintv/workgroups/nc-ophys/Leslie/eeg_pilot/mouse505550/pilot1_2020-03-02_10-08-51/recording1/\"\n",
    "\n",
    "# set the sample_rate for all data analysis\n",
    "sample_rate = 2500\n",
    "\n",
    "# load experiment metadata and eeg data\n",
    "exp = EEGexp(data_folder)\n",
    "eegdata = exp.load_eegdata(frequency=sample_rate, return_type='pd')\n",
    "\n",
    "# locate valid channels (some channels can be disconnected and we want to ignore them in the analysis)\n",
    "print('Identifying valid channels...')\n",
    "median_amplitude = eegdata[:sample_rate*300].apply(\n",
    "    utils.median_amplitude, raw=True, axis=0, distance=sample_rate\n",
    ")\n",
    "valid_channels = median_amplitude.index[median_amplitude < 2000].values\n",
    "print('The following channels seem to be correctly connected and report valid data:')\n",
    "print(list(valid_channels))\n",
    "\n",
    "# load other data (running, iso etc)\n",
    "print('Loading other data...')\n",
    "running_speed = exp.load_running(return_type='pd')\n",
    "iso = exp.load_analog_iso(return_type='pd')\n",
    "\n",
    "# automatically annotate anesthesia epochs\n",
    "iso_first_on = (iso>4).idxmax()\n",
    "print('iso on at', iso_first_on)\n",
    "iso_first_mid = ((iso[iso.index>iso_first_on]>1)&(iso[iso.index>iso_first_on]<4)).idxmax()\n",
    "print('iso reduced at', iso_first_mid)\n",
    "iso_first_off = (iso>1)[::-1].idxmax()\n",
    "print('iso off at', iso_first_off)\n",
    "\n",
    "# annotate artifacts with power in high frequencies\n",
    "print('Annotating artifacts...')\n",
    "hf_annots = pd.Series(\n",
    "    eegdata[valid_channels].apply(\n",
    "        find_hf_annotations, axis=0,\n",
    "        sample_rate=sample_rate, fmin=100, pmin=0.15\n",
    "    ).mean(axis=1),\n",
    "    name='artifact'\n",
    ")\n",
    "recovery_first_jump = (hf_annots>4)[hf_annots.index>iso_first_off].idxmax()\n",
    "\n",
    "epochs = pd.Series(\n",
    "    index = [0, iso_first_on-0.001, iso_first_on+0.001, iso_first_mid-0.001,\n",
    "             iso_first_mid+0.001, iso_first_off-0.001, iso_first_off+0.001,\n",
    "             recovery_first_jump-0.001, recovery_first_jump+0.001, eegdata.index[-1]],\n",
    "    data=['pre', 'pre', 'iso_high', 'iso_high', 'iso_low', 'iso_low',\n",
    "          'early_recovery', 'early_recovery', 'late_recovery', 'late_recovery'],\n",
    "    dtype=pd.CategoricalDtype(\n",
    "        categories=['pre', 'iso_high', 'iso_low', 'early_recovery', 'late_recovery'],\n",
    "        ordered=True\n",
    "    )\n",
    ")"
   ]
  },
  {
   "cell_type": "code",
   "execution_count": 4,
   "metadata": {
    "execution": {
     "iopub.execute_input": "2020-06-09T17:52:06.043904Z",
     "iopub.status.busy": "2020-06-09T17:52:06.043728Z",
     "iopub.status.idle": "2020-06-09T17:52:06.623502Z",
     "shell.execute_reply": "2020-06-09T17:52:06.623000Z",
     "shell.execute_reply.started": "2020-06-09T17:52:06.043878Z"
    }
   },
   "outputs": [
    {
     "data": {
      "application/vnd.jupyter.widget-view+json": {
       "model_id": "0da7e744c8094d0ab0f6e720ecc92056",
       "version_major": 2,
       "version_minor": 0
      },
      "text/plain": [
       "Canvas(toolbar=Toolbar(toolitems=[('Home', 'Reset original view', 'home', 'home'), ('Back', 'Back to previous …"
      ]
     },
     "metadata": {},
     "output_type": "display_data"
    }
   ],
   "source": [
    "# validate data and artifact annotation\n",
    "f, ax = plt.subplots(1, 1, figsize=(12, 2), tight_layout=True)\n",
    "eegdata[[13, 4]].plot(ax=ax, alpha=0.7)\n",
    "ax2 = ax.twinx()\n",
    "hf_annots.plot(ax=ax2, c='r', lw=0.5)\n",
    "ax2.set_ylim(-np.sum(ax2.get_ylim())/2, ax2.get_ylim()[1]);"
   ]
  },
  {
   "cell_type": "markdown",
   "metadata": {},
   "source": [
    "# Connectivity Analysis (preprocessing)"
   ]
  },
  {
   "cell_type": "markdown",
   "metadata": {},
   "source": [
    "## Reorder electrodes into proximal groups"
   ]
  },
  {
   "cell_type": "code",
   "execution_count": 5,
   "metadata": {
    "execution": {
     "iopub.execute_input": "2020-06-09T17:53:03.493664Z",
     "iopub.status.busy": "2020-06-09T17:53:03.492753Z",
     "iopub.status.idle": "2020-06-09T17:53:05.733188Z",
     "shell.execute_reply": "2020-06-09T17:53:05.732663Z",
     "shell.execute_reply.started": "2020-06-09T17:53:03.493540Z"
    }
   },
   "outputs": [
    {
     "data": {
      "text/html": [
       "<div>\n",
       "<style scoped>\n",
       "    .dataframe tbody tr th:only-of-type {\n",
       "        vertical-align: middle;\n",
       "    }\n",
       "\n",
       "    .dataframe tbody tr th {\n",
       "        vertical-align: top;\n",
       "    }\n",
       "\n",
       "    .dataframe thead th {\n",
       "        text-align: right;\n",
       "    }\n",
       "</style>\n",
       "<table border=\"1\" class=\"dataframe\">\n",
       "  <thead>\n",
       "    <tr style=\"text-align: right;\">\n",
       "      <th></th>\n",
       "      <th>AP</th>\n",
       "      <th>ML</th>\n",
       "      <th>z</th>\n",
       "      <th>group</th>\n",
       "      <th>gid</th>\n",
       "      <th>order</th>\n",
       "    </tr>\n",
       "  </thead>\n",
       "  <tbody>\n",
       "    <tr>\n",
       "      <th>14</th>\n",
       "      <td>2.30</td>\n",
       "      <td>-0.50</td>\n",
       "      <td>0</td>\n",
       "      <td>left_front</td>\n",
       "      <td>0</td>\n",
       "      <td>0</td>\n",
       "    </tr>\n",
       "    <tr>\n",
       "      <th>12</th>\n",
       "      <td>1.04</td>\n",
       "      <td>-0.50</td>\n",
       "      <td>0</td>\n",
       "      <td>left_front</td>\n",
       "      <td>0</td>\n",
       "      <td>1</td>\n",
       "    </tr>\n",
       "    <tr>\n",
       "      <th>11</th>\n",
       "      <td>1.04</td>\n",
       "      <td>-1.93</td>\n",
       "      <td>0</td>\n",
       "      <td>left_front</td>\n",
       "      <td>0</td>\n",
       "      <td>2</td>\n",
       "    </tr>\n",
       "    <tr>\n",
       "      <th>13</th>\n",
       "      <td>2.30</td>\n",
       "      <td>-1.50</td>\n",
       "      <td>0</td>\n",
       "      <td>left_front</td>\n",
       "      <td>0</td>\n",
       "      <td>3</td>\n",
       "    </tr>\n",
       "    <tr>\n",
       "      <th>15</th>\n",
       "      <td>2.30</td>\n",
       "      <td>0.50</td>\n",
       "      <td>0</td>\n",
       "      <td>right_front</td>\n",
       "      <td>1</td>\n",
       "      <td>29</td>\n",
       "    </tr>\n",
       "    <tr>\n",
       "      <th>18</th>\n",
       "      <td>1.04</td>\n",
       "      <td>1.93</td>\n",
       "      <td>0</td>\n",
       "      <td>right_front</td>\n",
       "      <td>1</td>\n",
       "      <td>28</td>\n",
       "    </tr>\n",
       "    <tr>\n",
       "      <th>17</th>\n",
       "      <td>1.04</td>\n",
       "      <td>0.50</td>\n",
       "      <td>0</td>\n",
       "      <td>right_front</td>\n",
       "      <td>1</td>\n",
       "      <td>27</td>\n",
       "    </tr>\n",
       "    <tr>\n",
       "      <th>16</th>\n",
       "      <td>2.30</td>\n",
       "      <td>1.50</td>\n",
       "      <td>0</td>\n",
       "      <td>right_front</td>\n",
       "      <td>1</td>\n",
       "      <td>26</td>\n",
       "    </tr>\n",
       "    <tr>\n",
       "      <th>9</th>\n",
       "      <td>-0.48</td>\n",
       "      <td>-3.50</td>\n",
       "      <td>0</td>\n",
       "      <td>left_front_middle</td>\n",
       "      <td>2</td>\n",
       "      <td>4</td>\n",
       "    </tr>\n",
       "    <tr>\n",
       "      <th>10</th>\n",
       "      <td>-0.48</td>\n",
       "      <td>-2.12</td>\n",
       "      <td>0</td>\n",
       "      <td>left_front_middle</td>\n",
       "      <td>2</td>\n",
       "      <td>5</td>\n",
       "    </tr>\n",
       "    <tr>\n",
       "      <th>20</th>\n",
       "      <td>-0.48</td>\n",
       "      <td>3.50</td>\n",
       "      <td>0</td>\n",
       "      <td>right_front_middle</td>\n",
       "      <td>3</td>\n",
       "      <td>25</td>\n",
       "    </tr>\n",
       "    <tr>\n",
       "      <th>19</th>\n",
       "      <td>-0.48</td>\n",
       "      <td>2.12</td>\n",
       "      <td>0</td>\n",
       "      <td>right_front_middle</td>\n",
       "      <td>3</td>\n",
       "      <td>24</td>\n",
       "    </tr>\n",
       "    <tr>\n",
       "      <th>3</th>\n",
       "      <td>-3.04</td>\n",
       "      <td>-4.13</td>\n",
       "      <td>0</td>\n",
       "      <td>left_back_middle</td>\n",
       "      <td>4</td>\n",
       "      <td>6</td>\n",
       "    </tr>\n",
       "    <tr>\n",
       "      <th>4</th>\n",
       "      <td>-3.04</td>\n",
       "      <td>-2.88</td>\n",
       "      <td>0</td>\n",
       "      <td>left_back_middle</td>\n",
       "      <td>4</td>\n",
       "      <td>7</td>\n",
       "    </tr>\n",
       "    <tr>\n",
       "      <th>7</th>\n",
       "      <td>-1.96</td>\n",
       "      <td>-2.88</td>\n",
       "      <td>0</td>\n",
       "      <td>left_back_middle</td>\n",
       "      <td>4</td>\n",
       "      <td>8</td>\n",
       "    </tr>\n",
       "    <tr>\n",
       "      <th>6</th>\n",
       "      <td>-1.96</td>\n",
       "      <td>-4.05</td>\n",
       "      <td>0</td>\n",
       "      <td>left_back_middle</td>\n",
       "      <td>4</td>\n",
       "      <td>9</td>\n",
       "    </tr>\n",
       "    <tr>\n",
       "      <th>22</th>\n",
       "      <td>-1.96</td>\n",
       "      <td>2.88</td>\n",
       "      <td>0</td>\n",
       "      <td>right_back_middle</td>\n",
       "      <td>5</td>\n",
       "      <td>23</td>\n",
       "    </tr>\n",
       "    <tr>\n",
       "      <th>23</th>\n",
       "      <td>-1.96</td>\n",
       "      <td>4.05</td>\n",
       "      <td>0</td>\n",
       "      <td>right_back_middle</td>\n",
       "      <td>5</td>\n",
       "      <td>22</td>\n",
       "    </tr>\n",
       "    <tr>\n",
       "      <th>25</th>\n",
       "      <td>-3.04</td>\n",
       "      <td>2.88</td>\n",
       "      <td>0</td>\n",
       "      <td>right_back_middle</td>\n",
       "      <td>5</td>\n",
       "      <td>21</td>\n",
       "    </tr>\n",
       "    <tr>\n",
       "      <th>26</th>\n",
       "      <td>-3.04</td>\n",
       "      <td>4.13</td>\n",
       "      <td>0</td>\n",
       "      <td>right_back_middle</td>\n",
       "      <td>5</td>\n",
       "      <td>20</td>\n",
       "    </tr>\n",
       "    <tr>\n",
       "      <th>8</th>\n",
       "      <td>-1.96</td>\n",
       "      <td>-1.12</td>\n",
       "      <td>0</td>\n",
       "      <td>left_back_middle_center</td>\n",
       "      <td>6</td>\n",
       "      <td>10</td>\n",
       "    </tr>\n",
       "    <tr>\n",
       "      <th>5</th>\n",
       "      <td>-3.04</td>\n",
       "      <td>-1.13</td>\n",
       "      <td>0</td>\n",
       "      <td>left_back_middle_center</td>\n",
       "      <td>6</td>\n",
       "      <td>11</td>\n",
       "    </tr>\n",
       "    <tr>\n",
       "      <th>21</th>\n",
       "      <td>-1.96</td>\n",
       "      <td>1.12</td>\n",
       "      <td>0</td>\n",
       "      <td>right_back_middle_center</td>\n",
       "      <td>7</td>\n",
       "      <td>19</td>\n",
       "    </tr>\n",
       "    <tr>\n",
       "      <th>24</th>\n",
       "      <td>-3.04</td>\n",
       "      <td>1.13</td>\n",
       "      <td>0</td>\n",
       "      <td>right_back_middle_center</td>\n",
       "      <td>7</td>\n",
       "      <td>18</td>\n",
       "    </tr>\n",
       "    <tr>\n",
       "      <th>1</th>\n",
       "      <td>-4.14</td>\n",
       "      <td>-2.24</td>\n",
       "      <td>0</td>\n",
       "      <td>left_back</td>\n",
       "      <td>8</td>\n",
       "      <td>12</td>\n",
       "    </tr>\n",
       "    <tr>\n",
       "      <th>2</th>\n",
       "      <td>-4.14</td>\n",
       "      <td>-1.00</td>\n",
       "      <td>0</td>\n",
       "      <td>left_back</td>\n",
       "      <td>8</td>\n",
       "      <td>13</td>\n",
       "    </tr>\n",
       "    <tr>\n",
       "      <th>28</th>\n",
       "      <td>-4.14</td>\n",
       "      <td>2.24</td>\n",
       "      <td>0</td>\n",
       "      <td>right_back</td>\n",
       "      <td>9</td>\n",
       "      <td>17</td>\n",
       "    </tr>\n",
       "    <tr>\n",
       "      <th>27</th>\n",
       "      <td>-4.14</td>\n",
       "      <td>1.00</td>\n",
       "      <td>0</td>\n",
       "      <td>right_back</td>\n",
       "      <td>9</td>\n",
       "      <td>16</td>\n",
       "    </tr>\n",
       "    <tr>\n",
       "      <th>0</th>\n",
       "      <td>-4.14</td>\n",
       "      <td>-4.05</td>\n",
       "      <td>0</td>\n",
       "      <td>left_bottom</td>\n",
       "      <td>10</td>\n",
       "      <td>14</td>\n",
       "    </tr>\n",
       "    <tr>\n",
       "      <th>29</th>\n",
       "      <td>-4.14</td>\n",
       "      <td>4.05</td>\n",
       "      <td>0</td>\n",
       "      <td>right_bottom</td>\n",
       "      <td>11</td>\n",
       "      <td>15</td>\n",
       "    </tr>\n",
       "  </tbody>\n",
       "</table>\n",
       "</div>"
      ],
      "text/plain": [
       "      AP    ML  z                     group  gid  order\n",
       "14  2.30 -0.50  0                left_front    0      0\n",
       "12  1.04 -0.50  0                left_front    0      1\n",
       "11  1.04 -1.93  0                left_front    0      2\n",
       "13  2.30 -1.50  0                left_front    0      3\n",
       "15  2.30  0.50  0               right_front    1     29\n",
       "18  1.04  1.93  0               right_front    1     28\n",
       "17  1.04  0.50  0               right_front    1     27\n",
       "16  2.30  1.50  0               right_front    1     26\n",
       "9  -0.48 -3.50  0         left_front_middle    2      4\n",
       "10 -0.48 -2.12  0         left_front_middle    2      5\n",
       "20 -0.48  3.50  0        right_front_middle    3     25\n",
       "19 -0.48  2.12  0        right_front_middle    3     24\n",
       "3  -3.04 -4.13  0          left_back_middle    4      6\n",
       "4  -3.04 -2.88  0          left_back_middle    4      7\n",
       "7  -1.96 -2.88  0          left_back_middle    4      8\n",
       "6  -1.96 -4.05  0          left_back_middle    4      9\n",
       "22 -1.96  2.88  0         right_back_middle    5     23\n",
       "23 -1.96  4.05  0         right_back_middle    5     22\n",
       "25 -3.04  2.88  0         right_back_middle    5     21\n",
       "26 -3.04  4.13  0         right_back_middle    5     20\n",
       "8  -1.96 -1.12  0   left_back_middle_center    6     10\n",
       "5  -3.04 -1.13  0   left_back_middle_center    6     11\n",
       "21 -1.96  1.12  0  right_back_middle_center    7     19\n",
       "24 -3.04  1.13  0  right_back_middle_center    7     18\n",
       "1  -4.14 -2.24  0                 left_back    8     12\n",
       "2  -4.14 -1.00  0                 left_back    8     13\n",
       "28 -4.14  2.24  0                right_back    9     17\n",
       "27 -4.14  1.00  0                right_back    9     16\n",
       "0  -4.14 -4.05  0               left_bottom   10     14\n",
       "29 -4.14  4.05  0              right_bottom   11     15"
      ]
     },
     "execution_count": 5,
     "metadata": {},
     "output_type": "execute_result"
    }
   ],
   "source": [
    "egroups = {\n",
    "    'left_front' : [11, 12, 13, 14],\n",
    "    'right_front' : [18, 17, 16, 15],\n",
    "    'left_front_middle' : [9, 10],\n",
    "    'right_front_middle' : [20, 19],\n",
    "    'left_back_middle' : [3, 4, 6, 7],\n",
    "    'right_back_middle' : [26, 25, 23, 22],\n",
    "    'left_back_middle_center' : [5, 8],\n",
    "    'right_back_middle_center' : [24, 21],\n",
    "    'left_back' : [1, 2],\n",
    "    'right_back' : [28, 27],\n",
    "    'left_bottom' : [0],\n",
    "    'right_bottom' : [29],\n",
    "}\n",
    "\n",
    "exp.ch_coordinates['z'] = 0\n",
    "exp.ch_coordinates['group'] = ''\n",
    "exp.ch_coordinates['gid'] = 0\n",
    "for i, (g, idx) in enumerate(egroups.items()):\n",
    "    exp.ch_coordinates.loc[idx, 'group'] = g\n",
    "    exp.ch_coordinates.loc[idx, 'gid'] = i\n",
    "exp.ch_coordinates = exp.ch_coordinates.sort_values('gid')\n",
    "exp.ch_coordinates['order'] = 0\n",
    "_left = exp.ch_coordinates.index[exp.ch_coordinates.group.str.contains('left')]\n",
    "exp.ch_coordinates.loc[_left, 'order'] = range(len(_left))\n",
    "_right = exp.ch_coordinates.index[exp.ch_coordinates.group.str.contains('right')]\n",
    "exp.ch_coordinates.loc[_right, 'order'] = len(_left)+np.arange(len(_right))[::-1]\n",
    "\n",
    "exp.ch_coordinates"
   ]
  },
  {
   "cell_type": "code",
   "execution_count": 6,
   "metadata": {
    "execution": {
     "iopub.execute_input": "2020-06-09T17:53:05.734268Z",
     "iopub.status.busy": "2020-06-09T17:53:05.734090Z",
     "iopub.status.idle": "2020-06-09T17:53:05.762504Z",
     "shell.execute_reply": "2020-06-09T17:53:05.762037Z",
     "shell.execute_reply.started": "2020-06-09T17:53:05.734243Z"
    }
   },
   "outputs": [],
   "source": [
    "# define a function to quickly plot the electrode map with or without borders\n",
    "def plot_electrode_map(ax, highlight=None, labels=True, cmap=cm.Paired, s=50):\n",
    "    colors = np.array(exp.ch_coordinates.gid.map(lambda x: cmap(x/11, 0.9)))\n",
    "    if highlight in set(exp.ch_coordinates.group):\n",
    "        colors = np.array(exp.ch_coordinates.apply(lambda row: cmap(row.gid/12, 0.9) if row.group==highlight else cm.Greys(0.5,0.5), axis=1))\n",
    "    exp.ch_coordinates.plot(\n",
    "        kind='scatter', x='ML', y='AP', marker='o', ax=ax, legend=False, c=colors, s=s\n",
    "    )\n",
    "    if labels:\n",
    "        for i in exp.ch_coordinates.index:\n",
    "            ax.annotate(i, exp.ch_coordinates.loc[i, ['AP', 'ML']][::-1]+[0, 0.2], xycoords='data', ha='center')\n",
    "    ax.set_xlim(-5, 5)\n",
    "    ax.set_ylim(-5, 3)\n",
    "    if labels:\n",
    "        ax.set_title('Electrode map')\n",
    "    if not labels:\n",
    "        ax.set_xlabel('')\n",
    "        ax.set_ylabel('')\n",
    "    ax.set_xticks([])\n",
    "    ax.set_yticks([]);\n",
    "\n",
    "# function to show electrode groups along an axis instead of electrode numbers\n",
    "def draw_groups(ax, cmap=cm.Paired):\n",
    "    ax.set_xlim(-0.5, 29.5)\n",
    "    ax.set_ylim(29.5, -0.5)\n",
    "    ax.set_xticks([])\n",
    "    ax.set_yticks([])\n",
    "    nt = 0\n",
    "    def add_patch(df):\n",
    "        nonlocal nt, ax\n",
    "        ax.add_patch(patches.Rectangle(\n",
    "            (nt+0.05-0.5, 30), len(df)-0.05, 1, clip_on=False, color=cmap(df.gid.iloc[0]/12, 0.9), label=df.group.iloc[0]\n",
    "        ))\n",
    "        ax.add_patch(patches.Rectangle(\n",
    "            (-2, nt+0.05-0.5), 1, len(df), clip_on=False, color=cmap(df.gid.iloc[0]/12, 0.9)\n",
    "        ))\n",
    "        nt += len(df)\n",
    "    exp.ch_coordinates.sort_values('order').groupby('gid', sort=False).apply(add_patch)"
   ]
  },
  {
   "cell_type": "code",
   "execution_count": 7,
   "metadata": {
    "execution": {
     "iopub.execute_input": "2020-06-09T17:53:05.763683Z",
     "iopub.status.busy": "2020-06-09T17:53:05.763399Z",
     "iopub.status.idle": "2020-06-09T17:53:05.889646Z",
     "shell.execute_reply": "2020-06-09T17:53:05.889141Z",
     "shell.execute_reply.started": "2020-06-09T17:53:05.763561Z"
    }
   },
   "outputs": [
    {
     "data": {
      "application/vnd.jupyter.widget-view+json": {
       "model_id": "a18d8bb4153b429c8d98f85e7a7efd73",
       "version_major": 2,
       "version_minor": 0
      },
      "text/plain": [
       "Canvas(toolbar=Toolbar(toolitems=[('Home', 'Reset original view', 'home', 'home'), ('Back', 'Back to previous …"
      ]
     },
     "metadata": {},
     "output_type": "display_data"
    }
   ],
   "source": [
    "f, ax = plt.subplots(1, 1, figsize=(4, 4), constrained_layout=False)\n",
    "plot_electrode_map(ax, labels=True, s=50)"
   ]
  },
  {
   "cell_type": "markdown",
   "metadata": {},
   "source": [
    "---"
   ]
  },
  {
   "cell_type": "markdown",
   "metadata": {},
   "source": [
    "## Generate valid windows\n",
    "Valid meaning windows without artifacts.  \n",
    "Turns out, we can just generate windows very easily, and validate them on the fly using a validity Series, `invalid_times`."
   ]
  },
  {
   "cell_type": "code",
   "execution_count": 8,
   "metadata": {
    "execution": {
     "iopub.execute_input": "2020-06-09T17:53:12.584222Z",
     "iopub.status.busy": "2020-06-09T17:53:12.583325Z",
     "iopub.status.idle": "2020-06-09T17:53:12.713167Z",
     "shell.execute_reply": "2020-06-09T17:53:12.712188Z",
     "shell.execute_reply.started": "2020-06-09T17:53:12.584099Z"
    }
   },
   "outputs": [
    {
     "data": {
      "text/plain": [
       "47.57534      True\n",
       "48.23174      True\n",
       "71.20574      True\n",
       "71.42454      True\n",
       "73.17494      True\n",
       "              ... \n",
       "3053.01214    True\n",
       "3053.88734    True\n",
       "3054.32494    True\n",
       "3054.54374    True\n",
       "3054.76254    True\n",
       "Name: artifact, Length: 983, dtype: bool"
      ]
     },
     "execution_count": 8,
     "metadata": {},
     "output_type": "execute_result"
    }
   ],
   "source": [
    "thresh = 4\n",
    "invalid_times = (hf_annots>thresh)\n",
    "invalid_times[invalid_times]"
   ]
  },
  {
   "cell_type": "code",
   "execution_count": 9,
   "metadata": {
    "execution": {
     "iopub.execute_input": "2020-06-09T17:53:16.317097Z",
     "iopub.status.busy": "2020-06-09T17:53:16.316151Z",
     "iopub.status.idle": "2020-06-09T17:53:16.350609Z",
     "shell.execute_reply": "2020-06-09T17:53:16.349841Z",
     "shell.execute_reply.started": "2020-06-09T17:53:16.316974Z"
    }
   },
   "outputs": [],
   "source": [
    "def drop_artifacts(df, winsize, sample_rate):\n",
    "    if (len(df) < winsize*sample_rate) | (df['artifact'].sum() > 0):\n",
    "        return pd.Series([np.nan]*(int(winsize*sample_rate)))\n",
    "    return pd.Series(df.index[:int(winsize*sample_rate)])"
   ]
  },
  {
   "cell_type": "code",
   "execution_count": 10,
   "metadata": {
    "execution": {
     "iopub.execute_input": "2020-06-09T17:53:16.494193Z",
     "iopub.status.busy": "2020-06-09T17:53:16.493284Z",
     "iopub.status.idle": "2020-06-09T17:53:18.448892Z",
     "shell.execute_reply": "2020-06-09T17:53:18.448397Z",
     "shell.execute_reply.started": "2020-06-09T17:53:16.494070Z"
    }
   },
   "outputs": [],
   "source": [
    "WINSIZE_s = 5 # lets look at 5 s long states\n",
    "windows = pd.Series(index=eegdata.index, data=(eegdata.index/WINSIZE_s).astype(int), name='window')\n",
    "aligned_windows = pd.concat([windows, invalid_times.reindex(windows.index, method='nearest')], axis=1)\n",
    "valid_windows = aligned_windows.groupby('window').apply(drop_artifacts, winsize=WINSIZE_s, sample_rate=sample_rate).dropna()\n",
    "win_center = valid_windows.apply(lambda x: x.mean(), axis=1)\n",
    "win_epoch = pd.Series(data=epochs.reindex(win_center, method='nearest').values, index=win_center.index)\n",
    "valid_windows['epoch'] = win_epoch"
   ]
  },
  {
   "cell_type": "code",
   "execution_count": 11,
   "metadata": {
    "execution": {
     "iopub.execute_input": "2020-06-09T17:53:18.450002Z",
     "iopub.status.busy": "2020-06-09T17:53:18.449747Z",
     "iopub.status.idle": "2020-06-09T17:53:18.486399Z",
     "shell.execute_reply": "2020-06-09T17:53:18.485878Z",
     "shell.execute_reply.started": "2020-06-09T17:53:18.449909Z"
    }
   },
   "outputs": [
    {
     "name": "stdout",
     "output_type": "stream",
     "text": [
      "Number of workable windows in each epoch:\n",
      "pre 53\n",
      "iso_high 42\n",
      "iso_low 159\n",
      "early_recovery 63\n",
      "late_recovery 25\n"
     ]
    }
   ],
   "source": [
    "valid_wins_by_epoch = valid_windows.set_index('epoch', append=True).swaplevel()\n",
    "print('Number of workable windows in each epoch:')\n",
    "[print(idx, len(valid_wins_by_epoch.loc[idx])) for idx in list(valid_wins_by_epoch.index.levels[0])];"
   ]
  },
  {
   "cell_type": "markdown",
   "metadata": {},
   "source": [
    "# Coherence\n",
    "Some things to keep in mind:\n",
    "1. Coherence is susciptible to volume conduction. A good way to get around this is to use only the imaginary part of coherence (volume conduction signals should have a nearly zero delay (speed of light), and thus, in the cross-spectrum, will have zero phase lag, and contribute only to the real part of coherence).\n",
    "1. Coherence depends on taking the fourier transform. The longer the signal, the more stable the estimation of fourier transform. However, it also assumes stationarity of the signal, i.e. the fourier components do not change much in time within the window. A shorter signal guarantees stationarity better. Thus there is a trade off and it needs to be deicded what is the best window.  \n",
    "   For now, I will use a 5s long window. This is 5x the minimum frequency of 1 Hz that we care about, so long enough but not super long. For higher frequency bands, this window might be too long?"
   ]
  },
  {
   "cell_type": "code",
   "execution_count": 12,
   "metadata": {
    "execution": {
     "iopub.execute_input": "2020-06-09T17:53:22.767967Z",
     "iopub.status.busy": "2020-06-09T17:53:22.767133Z",
     "iopub.status.idle": "2020-06-09T17:53:41.230090Z",
     "shell.execute_reply": "2020-06-09T17:53:41.229321Z",
     "shell.execute_reply.started": "2020-06-09T17:53:22.767852Z"
    },
    "scrolled": true
   },
   "outputs": [
    {
     "name": "stdout",
     "output_type": "stream",
     "text": [
      "Connectivity computation...\n",
      "only using indices for lower-triangular matrix\n",
      "    computing connectivity for 435 connections\n",
      "    using t=0.000s..5.000s for estimation (12500 points)\n",
      "    frequencies: 1.0Hz..150.0Hz (746 points)\n",
      "    using FFT with a Hanning window to estimate spectra\n",
      "    the following metrics will be computed: Coherence\n",
      "    computing connectivity for epochs 1..8\n"
     ]
    },
    {
     "name": "stderr",
     "output_type": "stream",
     "text": [
      "[Parallel(n_jobs=8)]: Using backend LokyBackend with 8 concurrent workers.\n"
     ]
    },
    {
     "name": "stdout",
     "output_type": "stream",
     "text": [
      "    computing connectivity for epochs 9..16\n",
      "    computing connectivity for epochs 17..24\n"
     ]
    },
    {
     "name": "stderr",
     "output_type": "stream",
     "text": [
      "[Parallel(n_jobs=8)]: Done   3 out of   8 | elapsed:   12.7s remaining:   21.2s\n",
      "[Parallel(n_jobs=8)]: Done   5 out of   8 | elapsed:   12.8s remaining:    7.7s\n",
      "[Parallel(n_jobs=8)]: Done   8 out of   8 | elapsed:   12.8s finished\n",
      "[Parallel(n_jobs=8)]: Using backend LokyBackend with 8 concurrent workers.\n",
      "[Parallel(n_jobs=8)]: Done   3 out of   8 | elapsed:    0.1s remaining:    0.1s\n",
      "[Parallel(n_jobs=8)]: Done   5 out of   8 | elapsed:    0.1s remaining:    0.0s\n",
      "[Parallel(n_jobs=8)]: Done   8 out of   8 | elapsed:    0.1s finished\n",
      "[Parallel(n_jobs=8)]: Using backend LokyBackend with 8 concurrent workers.\n"
     ]
    },
    {
     "name": "stdout",
     "output_type": "stream",
     "text": [
      "    computing connectivity for epochs 25..32\n",
      "    computing connectivity for epochs 33..40\n",
      "    computing connectivity for epochs 41..48\n"
     ]
    },
    {
     "name": "stderr",
     "output_type": "stream",
     "text": [
      "[Parallel(n_jobs=8)]: Done   3 out of   8 | elapsed:    0.1s remaining:    0.1s\n",
      "[Parallel(n_jobs=8)]: Done   5 out of   8 | elapsed:    0.1s remaining:    0.0s\n",
      "[Parallel(n_jobs=8)]: Done   8 out of   8 | elapsed:    0.1s finished\n",
      "[Parallel(n_jobs=8)]: Using backend LokyBackend with 8 concurrent workers.\n",
      "[Parallel(n_jobs=8)]: Done   3 out of   8 | elapsed:    0.1s remaining:    0.1s\n",
      "[Parallel(n_jobs=8)]: Done   5 out of   8 | elapsed:    0.1s remaining:    0.0s\n",
      "[Parallel(n_jobs=8)]: Done   8 out of   8 | elapsed:    0.1s finished\n",
      "[Parallel(n_jobs=8)]: Using backend LokyBackend with 8 concurrent workers.\n",
      "[Parallel(n_jobs=8)]: Done   3 out of   8 | elapsed:    0.1s remaining:    0.1s\n",
      "[Parallel(n_jobs=8)]: Done   5 out of   8 | elapsed:    0.1s remaining:    0.0s\n",
      "[Parallel(n_jobs=8)]: Done   8 out of   8 | elapsed:    0.1s finished\n",
      "[Parallel(n_jobs=8)]: Using backend LokyBackend with 8 concurrent workers.\n"
     ]
    },
    {
     "name": "stdout",
     "output_type": "stream",
     "text": [
      "    computing connectivity for epochs 49..53\n",
      "    assembling connectivity matrix (filling the upper triangular region of the matrix)\n",
      "[Connectivity computation done]\n"
     ]
    },
    {
     "name": "stderr",
     "output_type": "stream",
     "text": [
      "[Parallel(n_jobs=8)]: Done   3 out of   8 | elapsed:    0.1s remaining:    0.1s\n",
      "[Parallel(n_jobs=8)]: Done   5 out of   8 | elapsed:    0.1s remaining:    0.0s\n",
      "[Parallel(n_jobs=8)]: Done   8 out of   8 | elapsed:    0.1s finished\n",
      "[Parallel(n_jobs=8)]: Using backend LokyBackend with 8 concurrent workers.\n",
      "[Parallel(n_jobs=8)]: Done   2 out of   5 | elapsed:    0.0s remaining:    0.1s\n",
      "[Parallel(n_jobs=8)]: Done   5 out of   5 | elapsed:    0.1s finished\n"
     ]
    },
    {
     "name": "stdout",
     "output_type": "stream",
     "text": [
      "Connectivity computation...\n",
      "only using indices for lower-triangular matrix\n",
      "    computing connectivity for 435 connections\n",
      "    using t=0.000s..5.000s for estimation (12500 points)\n",
      "    frequencies: 1.0Hz..150.0Hz (746 points)\n",
      "    using FFT with a Hanning window to estimate spectra\n",
      "    the following metrics will be computed: Coherence\n",
      "    computing connectivity for epochs 1..8\n",
      "    computing connectivity for epochs 9..16\n",
      "    computing connectivity for epochs 17..24\n"
     ]
    },
    {
     "name": "stderr",
     "output_type": "stream",
     "text": [
      "[Parallel(n_jobs=8)]: Using backend LokyBackend with 8 concurrent workers.\n",
      "[Parallel(n_jobs=8)]: Done   3 out of   8 | elapsed:    0.1s remaining:    0.1s\n",
      "[Parallel(n_jobs=8)]: Done   5 out of   8 | elapsed:    0.1s remaining:    0.0s\n",
      "[Parallel(n_jobs=8)]: Done   8 out of   8 | elapsed:    0.1s finished\n",
      "[Parallel(n_jobs=8)]: Using backend LokyBackend with 8 concurrent workers.\n",
      "[Parallel(n_jobs=8)]: Done   3 out of   8 | elapsed:    0.1s remaining:    0.1s\n",
      "[Parallel(n_jobs=8)]: Done   5 out of   8 | elapsed:    0.1s remaining:    0.0s\n",
      "[Parallel(n_jobs=8)]: Done   8 out of   8 | elapsed:    0.1s finished\n",
      "[Parallel(n_jobs=8)]: Using backend LokyBackend with 8 concurrent workers.\n"
     ]
    },
    {
     "name": "stdout",
     "output_type": "stream",
     "text": [
      "    computing connectivity for epochs 25..32\n",
      "    computing connectivity for epochs 33..40\n",
      "    computing connectivity for epochs 41..42\n"
     ]
    },
    {
     "name": "stderr",
     "output_type": "stream",
     "text": [
      "[Parallel(n_jobs=8)]: Done   3 out of   8 | elapsed:    0.1s remaining:    0.1s\n",
      "[Parallel(n_jobs=8)]: Done   5 out of   8 | elapsed:    0.1s remaining:    0.0s\n",
      "[Parallel(n_jobs=8)]: Done   8 out of   8 | elapsed:    0.1s finished\n",
      "[Parallel(n_jobs=8)]: Using backend LokyBackend with 8 concurrent workers.\n",
      "[Parallel(n_jobs=8)]: Done   3 out of   8 | elapsed:    0.1s remaining:    0.1s\n",
      "[Parallel(n_jobs=8)]: Done   5 out of   8 | elapsed:    0.1s remaining:    0.0s\n",
      "[Parallel(n_jobs=8)]: Done   8 out of   8 | elapsed:    0.1s finished\n",
      "[Parallel(n_jobs=8)]: Using backend LokyBackend with 8 concurrent workers.\n",
      "[Parallel(n_jobs=8)]: Done   3 out of   8 | elapsed:    0.1s remaining:    0.1s\n",
      "[Parallel(n_jobs=8)]: Done   5 out of   8 | elapsed:    0.1s remaining:    0.0s\n",
      "[Parallel(n_jobs=8)]: Done   8 out of   8 | elapsed:    0.1s finished\n",
      "[Parallel(n_jobs=8)]: Using backend LokyBackend with 8 concurrent workers.\n"
     ]
    },
    {
     "name": "stdout",
     "output_type": "stream",
     "text": [
      "    assembling connectivity matrix (filling the upper triangular region of the matrix)\n",
      "[Connectivity computation done]\n"
     ]
    },
    {
     "name": "stderr",
     "output_type": "stream",
     "text": [
      "[Parallel(n_jobs=8)]: Done   2 out of   2 | elapsed:    0.0s remaining:    0.0s\n",
      "[Parallel(n_jobs=8)]: Done   2 out of   2 | elapsed:    0.0s finished\n"
     ]
    },
    {
     "name": "stdout",
     "output_type": "stream",
     "text": [
      "Connectivity computation...\n",
      "only using indices for lower-triangular matrix\n",
      "    computing connectivity for 435 connections\n",
      "    using t=0.000s..5.000s for estimation (12500 points)\n",
      "    frequencies: 1.0Hz..150.0Hz (746 points)\n",
      "    using FFT with a Hanning window to estimate spectra\n",
      "    the following metrics will be computed: Coherence\n",
      "    computing connectivity for epochs 1..8\n",
      "    computing connectivity for epochs 9..16\n",
      "    computing connectivity for epochs 17..24\n"
     ]
    },
    {
     "name": "stderr",
     "output_type": "stream",
     "text": [
      "[Parallel(n_jobs=8)]: Using backend LokyBackend with 8 concurrent workers.\n",
      "[Parallel(n_jobs=8)]: Done   3 out of   8 | elapsed:    0.1s remaining:    0.1s\n",
      "[Parallel(n_jobs=8)]: Done   5 out of   8 | elapsed:    0.1s remaining:    0.0s\n",
      "[Parallel(n_jobs=8)]: Done   8 out of   8 | elapsed:    0.1s finished\n",
      "[Parallel(n_jobs=8)]: Using backend LokyBackend with 8 concurrent workers.\n",
      "[Parallel(n_jobs=8)]: Done   3 out of   8 | elapsed:    0.1s remaining:    0.1s\n",
      "[Parallel(n_jobs=8)]: Done   5 out of   8 | elapsed:    0.1s remaining:    0.0s\n",
      "[Parallel(n_jobs=8)]: Done   8 out of   8 | elapsed:    0.1s finished\n",
      "[Parallel(n_jobs=8)]: Using backend LokyBackend with 8 concurrent workers.\n"
     ]
    },
    {
     "name": "stdout",
     "output_type": "stream",
     "text": [
      "    computing connectivity for epochs 25..32\n",
      "    computing connectivity for epochs 33..40\n",
      "    computing connectivity for epochs 41..48\n"
     ]
    },
    {
     "name": "stderr",
     "output_type": "stream",
     "text": [
      "[Parallel(n_jobs=8)]: Done   3 out of   8 | elapsed:    0.0s remaining:    0.1s\n",
      "[Parallel(n_jobs=8)]: Done   5 out of   8 | elapsed:    0.1s remaining:    0.0s\n",
      "[Parallel(n_jobs=8)]: Done   8 out of   8 | elapsed:    0.1s finished\n",
      "[Parallel(n_jobs=8)]: Using backend LokyBackend with 8 concurrent workers.\n",
      "[Parallel(n_jobs=8)]: Done   3 out of   8 | elapsed:    0.1s remaining:    0.1s\n",
      "[Parallel(n_jobs=8)]: Done   5 out of   8 | elapsed:    0.1s remaining:    0.0s\n",
      "[Parallel(n_jobs=8)]: Done   8 out of   8 | elapsed:    0.1s finished\n",
      "[Parallel(n_jobs=8)]: Using backend LokyBackend with 8 concurrent workers.\n",
      "[Parallel(n_jobs=8)]: Done   3 out of   8 | elapsed:    0.1s remaining:    0.1s\n",
      "[Parallel(n_jobs=8)]: Done   5 out of   8 | elapsed:    0.1s remaining:    0.0s\n",
      "[Parallel(n_jobs=8)]: Done   8 out of   8 | elapsed:    0.1s finished\n",
      "[Parallel(n_jobs=8)]: Using backend LokyBackend with 8 concurrent workers.\n"
     ]
    },
    {
     "name": "stdout",
     "output_type": "stream",
     "text": [
      "    computing connectivity for epochs 49..56\n",
      "    computing connectivity for epochs 57..64\n",
      "    computing connectivity for epochs 65..72\n"
     ]
    },
    {
     "name": "stderr",
     "output_type": "stream",
     "text": [
      "[Parallel(n_jobs=8)]: Done   3 out of   8 | elapsed:    0.1s remaining:    0.1s\n",
      "[Parallel(n_jobs=8)]: Done   5 out of   8 | elapsed:    0.1s remaining:    0.0s\n",
      "[Parallel(n_jobs=8)]: Done   8 out of   8 | elapsed:    0.1s finished\n",
      "[Parallel(n_jobs=8)]: Using backend LokyBackend with 8 concurrent workers.\n",
      "[Parallel(n_jobs=8)]: Done   3 out of   8 | elapsed:    0.1s remaining:    0.1s\n",
      "[Parallel(n_jobs=8)]: Done   5 out of   8 | elapsed:    0.1s remaining:    0.0s\n",
      "[Parallel(n_jobs=8)]: Done   8 out of   8 | elapsed:    0.1s finished\n",
      "[Parallel(n_jobs=8)]: Using backend LokyBackend with 8 concurrent workers.\n",
      "[Parallel(n_jobs=8)]: Done   3 out of   8 | elapsed:    0.1s remaining:    0.1s\n",
      "[Parallel(n_jobs=8)]: Done   5 out of   8 | elapsed:    0.1s remaining:    0.0s\n",
      "[Parallel(n_jobs=8)]: Done   8 out of   8 | elapsed:    0.1s finished\n",
      "[Parallel(n_jobs=8)]: Using backend LokyBackend with 8 concurrent workers.\n"
     ]
    },
    {
     "name": "stdout",
     "output_type": "stream",
     "text": [
      "    computing connectivity for epochs 73..80\n",
      "    computing connectivity for epochs 81..88\n",
      "    computing connectivity for epochs 89..96\n"
     ]
    },
    {
     "name": "stderr",
     "output_type": "stream",
     "text": [
      "[Parallel(n_jobs=8)]: Done   3 out of   8 | elapsed:    0.1s remaining:    0.1s\n",
      "[Parallel(n_jobs=8)]: Done   5 out of   8 | elapsed:    0.1s remaining:    0.0s\n",
      "[Parallel(n_jobs=8)]: Done   8 out of   8 | elapsed:    0.1s finished\n",
      "[Parallel(n_jobs=8)]: Using backend LokyBackend with 8 concurrent workers.\n",
      "[Parallel(n_jobs=8)]: Done   3 out of   8 | elapsed:    0.1s remaining:    0.1s\n",
      "[Parallel(n_jobs=8)]: Done   5 out of   8 | elapsed:    0.1s remaining:    0.0s\n",
      "[Parallel(n_jobs=8)]: Done   8 out of   8 | elapsed:    0.1s finished\n",
      "[Parallel(n_jobs=8)]: Using backend LokyBackend with 8 concurrent workers.\n",
      "[Parallel(n_jobs=8)]: Done   3 out of   8 | elapsed:    0.1s remaining:    0.1s\n",
      "[Parallel(n_jobs=8)]: Done   5 out of   8 | elapsed:    0.1s remaining:    0.0s\n",
      "[Parallel(n_jobs=8)]: Done   8 out of   8 | elapsed:    0.1s finished\n",
      "[Parallel(n_jobs=8)]: Using backend LokyBackend with 8 concurrent workers.\n"
     ]
    },
    {
     "name": "stdout",
     "output_type": "stream",
     "text": [
      "    computing connectivity for epochs 97..104\n",
      "    computing connectivity for epochs 105..112\n",
      "    computing connectivity for epochs 113..120\n"
     ]
    },
    {
     "name": "stderr",
     "output_type": "stream",
     "text": [
      "[Parallel(n_jobs=8)]: Done   3 out of   8 | elapsed:    0.1s remaining:    0.1s\n",
      "[Parallel(n_jobs=8)]: Done   5 out of   8 | elapsed:    0.1s remaining:    0.0s\n",
      "[Parallel(n_jobs=8)]: Done   8 out of   8 | elapsed:    0.1s finished\n",
      "[Parallel(n_jobs=8)]: Using backend LokyBackend with 8 concurrent workers.\n",
      "[Parallel(n_jobs=8)]: Done   3 out of   8 | elapsed:    0.1s remaining:    0.1s\n",
      "[Parallel(n_jobs=8)]: Done   5 out of   8 | elapsed:    0.1s remaining:    0.0s\n",
      "[Parallel(n_jobs=8)]: Done   8 out of   8 | elapsed:    0.1s finished\n",
      "[Parallel(n_jobs=8)]: Using backend LokyBackend with 8 concurrent workers.\n",
      "[Parallel(n_jobs=8)]: Done   3 out of   8 | elapsed:    0.1s remaining:    0.1s\n",
      "[Parallel(n_jobs=8)]: Done   5 out of   8 | elapsed:    0.1s remaining:    0.0s\n",
      "[Parallel(n_jobs=8)]: Done   8 out of   8 | elapsed:    0.1s finished\n",
      "[Parallel(n_jobs=8)]: Using backend LokyBackend with 8 concurrent workers.\n"
     ]
    },
    {
     "name": "stdout",
     "output_type": "stream",
     "text": [
      "    computing connectivity for epochs 121..128\n",
      "    computing connectivity for epochs 129..136\n",
      "    computing connectivity for epochs 137..144\n"
     ]
    },
    {
     "name": "stderr",
     "output_type": "stream",
     "text": [
      "[Parallel(n_jobs=8)]: Done   3 out of   8 | elapsed:    0.1s remaining:    0.1s\n",
      "[Parallel(n_jobs=8)]: Done   5 out of   8 | elapsed:    0.1s remaining:    0.0s\n",
      "[Parallel(n_jobs=8)]: Done   8 out of   8 | elapsed:    0.1s finished\n",
      "[Parallel(n_jobs=8)]: Using backend LokyBackend with 8 concurrent workers.\n",
      "[Parallel(n_jobs=8)]: Done   3 out of   8 | elapsed:    0.1s remaining:    0.1s\n",
      "[Parallel(n_jobs=8)]: Done   5 out of   8 | elapsed:    0.1s remaining:    0.0s\n",
      "[Parallel(n_jobs=8)]: Done   8 out of   8 | elapsed:    0.1s finished\n",
      "[Parallel(n_jobs=8)]: Using backend LokyBackend with 8 concurrent workers.\n",
      "[Parallel(n_jobs=8)]: Done   3 out of   8 | elapsed:    0.1s remaining:    0.1s\n",
      "[Parallel(n_jobs=8)]: Done   5 out of   8 | elapsed:    0.1s remaining:    0.0s\n",
      "[Parallel(n_jobs=8)]: Done   8 out of   8 | elapsed:    0.1s finished\n",
      "[Parallel(n_jobs=8)]: Using backend LokyBackend with 8 concurrent workers.\n"
     ]
    },
    {
     "name": "stdout",
     "output_type": "stream",
     "text": [
      "    computing connectivity for epochs 145..152\n",
      "    computing connectivity for epochs 153..159\n",
      "    assembling connectivity matrix (filling the upper triangular region of the matrix)\n",
      "[Connectivity computation done]\n"
     ]
    },
    {
     "name": "stderr",
     "output_type": "stream",
     "text": [
      "[Parallel(n_jobs=8)]: Done   3 out of   8 | elapsed:    0.1s remaining:    0.1s\n",
      "[Parallel(n_jobs=8)]: Done   5 out of   8 | elapsed:    0.1s remaining:    0.0s\n",
      "[Parallel(n_jobs=8)]: Done   8 out of   8 | elapsed:    0.1s finished\n",
      "[Parallel(n_jobs=8)]: Using backend LokyBackend with 8 concurrent workers.\n",
      "[Parallel(n_jobs=8)]: Done   3 out of   8 | elapsed:    0.1s remaining:    0.1s\n",
      "[Parallel(n_jobs=8)]: Done   5 out of   8 | elapsed:    0.1s remaining:    0.0s\n",
      "[Parallel(n_jobs=8)]: Done   8 out of   8 | elapsed:    0.1s finished\n",
      "[Parallel(n_jobs=8)]: Using backend LokyBackend with 8 concurrent workers.\n",
      "[Parallel(n_jobs=8)]: Done   2 out of   7 | elapsed:    0.0s remaining:    0.1s\n",
      "[Parallel(n_jobs=8)]: Done   4 out of   7 | elapsed:    0.1s remaining:    0.0s\n",
      "[Parallel(n_jobs=8)]: Done   7 out of   7 | elapsed:    0.1s finished\n"
     ]
    },
    {
     "name": "stdout",
     "output_type": "stream",
     "text": [
      "Connectivity computation...\n",
      "only using indices for lower-triangular matrix\n",
      "    computing connectivity for 435 connections\n",
      "    using t=0.000s..5.000s for estimation (12500 points)\n",
      "    frequencies: 1.0Hz..150.0Hz (746 points)\n",
      "    using FFT with a Hanning window to estimate spectra\n",
      "    the following metrics will be computed: Coherence\n",
      "    computing connectivity for epochs 1..8\n",
      "    computing connectivity for epochs 9..16\n",
      "    computing connectivity for epochs 17..24\n"
     ]
    },
    {
     "name": "stderr",
     "output_type": "stream",
     "text": [
      "[Parallel(n_jobs=8)]: Using backend LokyBackend with 8 concurrent workers.\n",
      "[Parallel(n_jobs=8)]: Done   3 out of   8 | elapsed:    0.1s remaining:    0.1s\n",
      "[Parallel(n_jobs=8)]: Done   5 out of   8 | elapsed:    0.1s remaining:    0.0s\n",
      "[Parallel(n_jobs=8)]: Done   8 out of   8 | elapsed:    0.1s finished\n",
      "[Parallel(n_jobs=8)]: Using backend LokyBackend with 8 concurrent workers.\n",
      "[Parallel(n_jobs=8)]: Done   3 out of   8 | elapsed:    0.1s remaining:    0.1s\n",
      "[Parallel(n_jobs=8)]: Done   5 out of   8 | elapsed:    0.1s remaining:    0.0s\n",
      "[Parallel(n_jobs=8)]: Done   8 out of   8 | elapsed:    0.1s finished\n",
      "[Parallel(n_jobs=8)]: Using backend LokyBackend with 8 concurrent workers.\n"
     ]
    },
    {
     "name": "stdout",
     "output_type": "stream",
     "text": [
      "    computing connectivity for epochs 25..32\n",
      "    computing connectivity for epochs 33..40\n",
      "    computing connectivity for epochs 41..48\n"
     ]
    },
    {
     "name": "stderr",
     "output_type": "stream",
     "text": [
      "[Parallel(n_jobs=8)]: Done   3 out of   8 | elapsed:    0.1s remaining:    0.1s\n",
      "[Parallel(n_jobs=8)]: Done   5 out of   8 | elapsed:    0.1s remaining:    0.0s\n",
      "[Parallel(n_jobs=8)]: Done   8 out of   8 | elapsed:    0.1s finished\n",
      "[Parallel(n_jobs=8)]: Using backend LokyBackend with 8 concurrent workers.\n",
      "[Parallel(n_jobs=8)]: Done   3 out of   8 | elapsed:    0.1s remaining:    0.1s\n",
      "[Parallel(n_jobs=8)]: Done   5 out of   8 | elapsed:    0.1s remaining:    0.0s\n",
      "[Parallel(n_jobs=8)]: Done   8 out of   8 | elapsed:    0.1s finished\n",
      "[Parallel(n_jobs=8)]: Using backend LokyBackend with 8 concurrent workers.\n",
      "[Parallel(n_jobs=8)]: Done   3 out of   8 | elapsed:    0.1s remaining:    0.1s\n",
      "[Parallel(n_jobs=8)]: Done   5 out of   8 | elapsed:    0.1s remaining:    0.0s\n",
      "[Parallel(n_jobs=8)]: Done   8 out of   8 | elapsed:    0.1s finished\n",
      "[Parallel(n_jobs=8)]: Using backend LokyBackend with 8 concurrent workers.\n"
     ]
    },
    {
     "name": "stdout",
     "output_type": "stream",
     "text": [
      "    computing connectivity for epochs 49..56\n",
      "    computing connectivity for epochs 57..63\n",
      "    assembling connectivity matrix (filling the upper triangular region of the matrix)\n",
      "[Connectivity computation done]\n"
     ]
    },
    {
     "name": "stderr",
     "output_type": "stream",
     "text": [
      "[Parallel(n_jobs=8)]: Done   3 out of   8 | elapsed:    0.1s remaining:    0.1s\n",
      "[Parallel(n_jobs=8)]: Done   5 out of   8 | elapsed:    0.1s remaining:    0.0s\n",
      "[Parallel(n_jobs=8)]: Done   8 out of   8 | elapsed:    0.1s finished\n",
      "[Parallel(n_jobs=8)]: Using backend LokyBackend with 8 concurrent workers.\n",
      "[Parallel(n_jobs=8)]: Done   3 out of   8 | elapsed:    0.1s remaining:    0.1s\n",
      "[Parallel(n_jobs=8)]: Done   5 out of   8 | elapsed:    0.1s remaining:    0.0s\n",
      "[Parallel(n_jobs=8)]: Done   8 out of   8 | elapsed:    0.1s finished\n",
      "[Parallel(n_jobs=8)]: Using backend LokyBackend with 8 concurrent workers.\n",
      "[Parallel(n_jobs=8)]: Done   2 out of   7 | elapsed:    0.0s remaining:    0.1s\n",
      "[Parallel(n_jobs=8)]: Done   4 out of   7 | elapsed:    0.1s remaining:    0.0s\n",
      "[Parallel(n_jobs=8)]: Done   7 out of   7 | elapsed:    0.1s finished\n"
     ]
    },
    {
     "name": "stdout",
     "output_type": "stream",
     "text": [
      "Connectivity computation...\n",
      "only using indices for lower-triangular matrix\n",
      "    computing connectivity for 435 connections\n",
      "    using t=0.000s..5.000s for estimation (12500 points)\n",
      "    frequencies: 1.0Hz..150.0Hz (746 points)\n",
      "    using FFT with a Hanning window to estimate spectra\n",
      "    the following metrics will be computed: Coherence\n",
      "    computing connectivity for epochs 1..8\n",
      "    computing connectivity for epochs 9..16\n",
      "    computing connectivity for epochs 17..24\n"
     ]
    },
    {
     "name": "stderr",
     "output_type": "stream",
     "text": [
      "[Parallel(n_jobs=8)]: Using backend LokyBackend with 8 concurrent workers.\n",
      "[Parallel(n_jobs=8)]: Done   3 out of   8 | elapsed:    0.1s remaining:    0.1s\n",
      "[Parallel(n_jobs=8)]: Done   5 out of   8 | elapsed:    0.1s remaining:    0.0s\n",
      "[Parallel(n_jobs=8)]: Done   8 out of   8 | elapsed:    0.1s finished\n",
      "[Parallel(n_jobs=8)]: Using backend LokyBackend with 8 concurrent workers.\n",
      "[Parallel(n_jobs=8)]: Done   3 out of   8 | elapsed:    0.1s remaining:    0.1s\n",
      "[Parallel(n_jobs=8)]: Done   5 out of   8 | elapsed:    0.1s remaining:    0.0s\n",
      "[Parallel(n_jobs=8)]: Done   8 out of   8 | elapsed:    0.1s finished\n",
      "[Parallel(n_jobs=8)]: Using backend LokyBackend with 8 concurrent workers.\n"
     ]
    },
    {
     "name": "stdout",
     "output_type": "stream",
     "text": [
      "    computing connectivity for epochs 25..25\n",
      "    assembling connectivity matrix (filling the upper triangular region of the matrix)\n",
      "[Connectivity computation done]\n"
     ]
    },
    {
     "name": "stderr",
     "output_type": "stream",
     "text": [
      "[Parallel(n_jobs=8)]: Done   3 out of   8 | elapsed:    0.1s remaining:    0.1s\n",
      "[Parallel(n_jobs=8)]: Done   5 out of   8 | elapsed:    0.1s remaining:    0.0s\n",
      "[Parallel(n_jobs=8)]: Done   8 out of   8 | elapsed:    0.1s finished\n",
      "[Parallel(n_jobs=8)]: Using backend LokyBackend with 8 concurrent workers.\n",
      "[Parallel(n_jobs=8)]: Done   1 out of   1 | elapsed:    0.0s finished\n"
     ]
    }
   ],
   "source": [
    "connectivity = {}\n",
    "for ep in valid_wins_by_epoch.index.levels[0]:\n",
    "    connectivity[ep], freq, t, nep, nta = spectral_connectivity(\n",
    "        [eegdata.loc[valid_wins_by_epoch.loc[ep].loc[x]].values.T[exp.ch_coordinates.order] for x in valid_wins_by_epoch.loc[ep].index],\n",
    "        method='coh', mode='fourier', sfreq=sample_rate, faverage=False, fmax=150, block_size=2, n_jobs=8\n",
    "    )"
   ]
  },
  {
   "cell_type": "code",
   "execution_count": 13,
   "metadata": {
    "execution": {
     "iopub.execute_input": "2020-06-09T17:53:41.231883Z",
     "iopub.status.busy": "2020-06-09T17:53:41.231528Z",
     "iopub.status.idle": "2020-06-09T17:53:41.315917Z",
     "shell.execute_reply": "2020-06-09T17:53:41.315449Z",
     "shell.execute_reply.started": "2020-06-09T17:53:41.231799Z"
    }
   },
   "outputs": [],
   "source": [
    "# split into appropriate bands\n",
    "# 0-10, 10-20, 20-30, 30-40, 40-60, 60-80\n",
    "bands = [(0, 10), (10, 20), (20, 30), (30, 40), (40, 60), (60, 80)]\n",
    "band_connectivity = {}\n",
    "for ep in valid_wins_by_epoch.index.levels[0]:\n",
    "    band_connectivity[ep] = {}\n",
    "    for band in bands:\n",
    "        if sum((freq<band[1])&(freq>band[0])) > 0: # there are some frequencies within the band\n",
    "            connectivity_rs = connectivity[ep][:, :, (freq<band[1])&(freq>band[0])]\n",
    "            band_connectivity[ep][band] = np.abs(connectivity_rs.mean(axis=-1))"
   ]
  },
  {
   "cell_type": "markdown",
   "metadata": {},
   "source": [
    "* If common reference were driving high coherence, it should not go away during anesthesia. However, coherence does decrease to almost zero during anesthesia in some frequency bands, suggesting that common reference is not a problem."
   ]
  },
  {
   "cell_type": "code",
   "execution_count": 14,
   "metadata": {
    "execution": {
     "iopub.execute_input": "2020-06-09T17:53:41.317565Z",
     "iopub.status.busy": "2020-06-09T17:53:41.317224Z",
     "iopub.status.idle": "2020-06-09T17:53:41.373285Z",
     "shell.execute_reply": "2020-06-09T17:53:41.372836Z",
     "shell.execute_reply.started": "2020-06-09T17:53:41.317487Z"
    }
   },
   "outputs": [
    {
     "data": {
      "application/vnd.jupyter.widget-view+json": {
       "model_id": "89074d2fbbf94be2b4cce42e435da331",
       "version_major": 2,
       "version_minor": 0
      },
      "text/plain": [
       "Canvas(toolbar=Toolbar(toolitems=[('Home', 'Reset original view', 'home', 'home'), ('Back', 'Back to previous …"
      ]
     },
     "metadata": {},
     "output_type": "display_data"
    }
   ],
   "source": [
    "f, ax = plt.subplots(1, 1, figsize=(4, 3))\n",
    "ax.hist(band_connectivity['pre'][(10, 20)].flatten(), log=True);"
   ]
  },
  {
   "cell_type": "code",
   "execution_count": 15,
   "metadata": {
    "execution": {
     "iopub.execute_input": "2020-06-09T17:53:41.374271Z",
     "iopub.status.busy": "2020-06-09T17:53:41.374050Z",
     "iopub.status.idle": "2020-06-09T17:53:41.651022Z",
     "shell.execute_reply": "2020-06-09T17:53:41.650492Z",
     "shell.execute_reply.started": "2020-06-09T17:53:41.374208Z"
    }
   },
   "outputs": [
    {
     "data": {
      "application/vnd.jupyter.widget-view+json": {
       "model_id": "ae4cc39f28cd49a2a61361460a709fb9",
       "version_major": 2,
       "version_minor": 0
      },
      "text/plain": [
       "Canvas(toolbar=Toolbar(toolitems=[('Home', 'Reset original view', 'home', 'home'), ('Back', 'Back to previous …"
      ]
     },
     "metadata": {},
     "output_type": "display_data"
    }
   ],
   "source": [
    "# connectivity difference (pre - iso_low) in different frequency bands\n",
    "f, axes = plt.subplots(\n",
    "    1, len(band_connectivity['pre']),\n",
    "    figsize=(2.4*len(band_connectivity), 2.4),\n",
    "    constrained_layout=True, sharex=True, sharey=True\n",
    ")\n",
    "for r, (b, ax) in enumerate(zip(band_connectivity['pre'].keys(), axes)):\n",
    "    im = ax.imshow(\n",
    "        (band_connectivity['pre'][b][:, :]-band_connectivity['iso_low'][b][:, :]),#/(band_connectivity['pre'][b][:, :]+band_connectivity['iso_low'][b][:, :]+1e-5),\n",
    "        cmap=cm.PuOr_r, vmin=-0.5, vmax=0.5\n",
    "    )\n",
    "    ax.axvline(band_connectivity[ep][b].shape[0]/2-0.5, 0, 0.5, c='k')\n",
    "    ax.axhline(band_connectivity[ep][b].shape[1]/2-0.5, 0, 0.5, c='k')\n",
    "    draw_groups(ax)\n",
    "    ax.set_title(b)\n",
    "plt.colorbar(im, ax=ax, aspect=50, shrink=0.75);"
   ]
  },
  {
   "cell_type": "code",
   "execution_count": 16,
   "metadata": {
    "execution": {
     "iopub.execute_input": "2020-06-09T17:53:41.651970Z",
     "iopub.status.busy": "2020-06-09T17:53:41.651746Z",
     "iopub.status.idle": "2020-06-09T17:53:42.563447Z",
     "shell.execute_reply": "2020-06-09T17:53:42.562914Z",
     "shell.execute_reply.started": "2020-06-09T17:53:41.651905Z"
    }
   },
   "outputs": [
    {
     "data": {
      "application/vnd.jupyter.widget-view+json": {
       "model_id": "7439bcc93eb546dc8c57c6c3d745b360",
       "version_major": 2,
       "version_minor": 0
      },
      "text/plain": [
       "Canvas(toolbar=Toolbar(toolitems=[('Home', 'Reset original view', 'home', 'home'), ('Back', 'Back to previous …"
      ]
     },
     "metadata": {},
     "output_type": "display_data"
    }
   ],
   "source": [
    "f, axes = plt.subplots(\n",
    "    len(band_connectivity['pre']),\n",
    "    len(band_connectivity),\n",
    "    figsize=(\n",
    "        2*len(band_connectivity),\n",
    "        2*len(band_connectivity['pre']),\n",
    "    ), tight_layout=True, sharex=True, sharey=True\n",
    ")\n",
    "for c, (ep, axe) in enumerate(zip(band_connectivity.keys(), axes.T)):\n",
    "    for r, (b, ax) in enumerate(zip(band_connectivity[ep].keys(), axe)):\n",
    "        im = ax.imshow(\n",
    "            band_connectivity[ep][b][:, :],\n",
    "            cmap=cm.PuOr_r, vmin=-1, vmax=1\n",
    "        )\n",
    "        ax.axvline(band_connectivity[ep][b].shape[0]/2-0.5, 0, 0.5, c='k')\n",
    "        ax.axhline(band_connectivity[ep][b].shape[1]/2-0.5, 0, 0.5, c='k')\n",
    "        draw_groups(ax)\n",
    "        if r == 0:\n",
    "            ax.set_title(ep)\n",
    "        if c == 0:\n",
    "            ax.set_ylabel('{0:d}-{1:d} Hz'.format(*b))\n",
    "axes.flatten()[0].legend(loc=(0, 1.15), ncol=4, fontsize=8)\n",
    "plt.subplots_adjust(left=0.02, right=0.99, top=0.92, bottom=0.02);"
   ]
  },
  {
   "cell_type": "code",
   "execution_count": 17,
   "metadata": {
    "execution": {
     "iopub.execute_input": "2020-06-09T17:53:42.564481Z",
     "iopub.status.busy": "2020-06-09T17:53:42.564242Z",
     "iopub.status.idle": "2020-06-09T17:53:44.464087Z",
     "shell.execute_reply": "2020-06-09T17:53:44.463553Z",
     "shell.execute_reply.started": "2020-06-09T17:53:42.564408Z"
    }
   },
   "outputs": [
    {
     "data": {
      "application/vnd.jupyter.widget-view+json": {
       "model_id": "013dc6aa09e64ed6b4a3bfcf69438f87",
       "version_major": 2,
       "version_minor": 0
      },
      "text/plain": [
       "Canvas(toolbar=Toolbar(toolitems=[('Home', 'Reset original view', 'home', 'home'), ('Back', 'Back to previous …"
      ]
     },
     "metadata": {},
     "output_type": "display_data"
    },
    {
     "name": "stderr",
     "output_type": "stream",
     "text": [
      "/home/saurabh.gandhi/Projects/.env_zz/lib/python3.7/site-packages/ipykernel_launcher.py:17: MatplotlibDeprecationWarning: Adding an axes using the same arguments as a previous axes currently reuses the earlier instance.  In a future version, a new instance will always be created and returned.  Meanwhile, this warning can be suppressed, and the future behavior ensured, by passing a unique label to each axes instance.\n"
     ]
    }
   ],
   "source": [
    "averaging_win = 2*int(1/np.diff(freq).mean())\n",
    "n_groups = int(len(set(exp.ch_coordinates.group)) / 2) + 1\n",
    "axes = []\n",
    "f = plt.figure(figsize=(1.5*n_groups, 1.5*n_groups), constrained_layout=True)\n",
    "sp = gridspec.GridSpec(ncols=n_groups, nrows=n_groups, figure=f, width_ratios=[0.5]+[1]*(n_groups-1), height_ratios=[0.5]+[1]*(n_groups-1))\n",
    "for i, name_1 in enumerate(exp.ch_coordinates.groupby('gid').apply(lambda df: df.group.iloc[0] if df.gid.iloc[0]%2 == 0 else np.nan).dropna()):\n",
    "    indices_1 = exp.ch_coordinates[exp.ch_coordinates.group==name_1].order.values[:, np.newaxis]\n",
    "    for j, name_2 in enumerate(exp.ch_coordinates.groupby('gid').apply(lambda df: df.group.iloc[0] if df.gid.iloc[0]%2 == 0 else np.nan).dropna()):\n",
    "        indices_2 = exp.ch_coordinates[exp.ch_coordinates.group==name_2].order.values[np.newaxis, :]\n",
    "        for epoch in ['pre', 'iso_low']:\n",
    "            con = connectivity[epoch][indices_1, indices_2, :].mean(axis=0).mean(axis=0)\n",
    "            con = np.convolve(con, np.ones(averaging_win)/averaging_win, mode='same')\n",
    "            if len(axes) == 0:\n",
    "                ax = None\n",
    "            else:\n",
    "                ax = axes[0]\n",
    "            axes.append(f.add_subplot(sp[i+1, j+1], sharex=ax, sharey=ax, label=f'{name_1}:{name_2}'))\n",
    "            axes[-1].plot(freq, con, label=f'{epoch}', alpha=0.8)\n",
    "            xticks = axes[-1].get_xticks()\n",
    "            axes[-1].set_xticks([])\n",
    "            axes[-1].set_yticks([])\n",
    "        if j == 0:\n",
    "            axes[-1].set_yticks([0, 0.5, 1])\n",
    "        if i == n_groups-2:\n",
    "            axes[-1].set_xticks([0, 50, 99])\n",
    "axes[0].set_xlim(0, 99)\n",
    "for i, name_1 in enumerate(exp.ch_coordinates.groupby('gid').apply(lambda df: df.group.iloc[0] if df.gid.iloc[0]%2 == 0 else np.nan).dropna()):\n",
    "    ax = f.add_subplot(sp[0, i+1], label='x_{0:d}'.format(i), aspect='equal')\n",
    "    plot_electrode_map(ax, labels=False, highlight=name_1, s=20, cmap=cm.Dark2)\n",
    "    ax = f.add_subplot(sp[i+1, 0], label='x_{0:d}'.format(i), aspect='equal')\n",
    "    plot_electrode_map(ax, labels=False, highlight=name_1, s=20, cmap=cm.Dark2)"
   ]
  },
  {
   "cell_type": "markdown",
   "metadata": {},
   "source": [
    "# SCoT"
   ]
  },
  {
   "cell_type": "code",
   "execution_count": null,
   "metadata": {
    "execution": {
     "iopub.execute_input": "2020-06-05T21:41:42.794099Z",
     "iopub.status.busy": "2020-06-05T21:41:42.793177Z"
    }
   },
   "outputs": [],
   "source": [
    "import scot\n",
    "import scot.backend_sklearn"
   ]
  },
  {
   "cell_type": "code",
   "execution_count": 76,
   "metadata": {
    "execution": {
     "iopub.execute_input": "2020-06-05T16:32:30.643661Z",
     "iopub.status.busy": "2020-06-05T16:32:30.642375Z",
     "iopub.status.idle": "2020-06-05T16:32:32.984510Z",
     "shell.execute_reply": "2020-06-05T16:32:32.984001Z",
     "shell.execute_reply.started": "2020-06-05T16:32:30.643215Z"
    }
   },
   "outputs": [
    {
     "data": {
      "text/plain": [
       "(63, 30, 10000)"
      ]
     },
     "execution_count": 76,
     "metadata": {},
     "output_type": "execute_result"
    }
   ],
   "source": [
    "data, trial = [], []\n",
    "for (t, w) in valid_wins_by_epoch.index:\n",
    "    if t in ['pre', 'iso_low']:\n",
    "        trial.append(t)\n",
    "        data.append(eegdata.loc[valid_wins_by_epoch.loc[t].loc[w], valid_channels].values)\n",
    "data = np.array(data).transpose(0, 2, 1)\n",
    "data.shape"
   ]
  },
  {
   "cell_type": "code",
   "execution_count": 93,
   "metadata": {
    "execution": {
     "iopub.execute_input": "2020-06-05T16:48:28.801349Z",
     "iopub.status.busy": "2020-06-05T16:48:28.800425Z",
     "iopub.status.idle": "2020-06-05T16:48:31.019845Z",
     "shell.execute_reply": "2020-06-05T16:48:31.017414Z",
     "shell.execute_reply.started": "2020-06-05T16:48:28.801208Z"
    }
   },
   "outputs": [],
   "source": [
    "exp.ch_coordinates['z'] = 0\n",
    "ws = scot.Workspace({'model_order': 200}, reducedim=6, fs=sample_rate, locations=exp.ch_coordinates.values)"
   ]
  },
  {
   "cell_type": "markdown",
   "metadata": {},
   "source": [
    "## Run steps individually to understand how SCoT works"
   ]
  },
  {
   "cell_type": "code",
   "execution_count": null,
   "metadata": {},
   "outputs": [],
   "source": []
  },
  {
   "cell_type": "code",
   "execution_count": null,
   "metadata": {},
   "outputs": [],
   "source": []
  },
  {
   "cell_type": "markdown",
   "metadata": {},
   "source": [
    "## Combined running steps"
   ]
  },
  {
   "cell_type": "code",
   "execution_count": 94,
   "metadata": {
    "execution": {
     "iopub.execute_input": "2020-06-05T16:48:31.021635Z",
     "iopub.status.busy": "2020-06-05T16:48:31.021442Z",
     "iopub.status.idle": "2020-06-05T16:50:17.168479Z",
     "shell.execute_reply": "2020-06-05T16:50:17.167553Z",
     "shell.execute_reply.started": "2020-06-05T16:48:31.021608Z"
    }
   },
   "outputs": [
    {
     "name": "stderr",
     "output_type": "stream",
     "text": [
      "/home/saurabh.gandhi/Projects/.env_zz/lib/python3.7/site-packages/scot/external/infomax_.py:183: RuntimeWarning: overflow encountered in exp\n",
      "  y = 1.0 / (1.0 + np.exp(-u))\n"
     ]
    },
    {
     "data": {
      "text/plain": [
       "scot.varica.mvarica.<locals>.Result"
      ]
     },
     "execution_count": 94,
     "metadata": {},
     "output_type": "execute_result"
    }
   ],
   "source": [
    "ws.set_data(data, trial)\n",
    "ws.do_mvarica()\n",
    "\n",
    "#p = ws.var_.test_whiteness(50)\n",
    "# print('Whiteness:', p)"
   ]
  },
  {
   "cell_type": "code",
   "execution_count": 95,
   "metadata": {
    "execution": {
     "iopub.execute_input": "2020-06-05T16:50:17.170747Z",
     "iopub.status.busy": "2020-06-05T16:50:17.170198Z",
     "iopub.status.idle": "2020-06-05T16:51:28.383778Z",
     "shell.execute_reply": "2020-06-05T16:51:28.383072Z",
     "shell.execute_reply.started": "2020-06-05T16:50:17.170695Z"
    }
   },
   "outputs": [
    {
     "data": {
      "application/vnd.jupyter.widget-view+json": {
       "model_id": "5c7b64cc5d5c476aa9b8d06b4973662a",
       "version_major": 2,
       "version_minor": 0
      },
      "text/plain": [
       "Canvas(toolbar=Toolbar(toolitems=[('Home', 'Reset original view', 'home', 'home'), ('Back', 'Back to previous …"
      ]
     },
     "metadata": {},
     "output_type": "display_data"
    },
    {
     "name": "stderr",
     "output_type": "stream",
     "text": [
      "/home/saurabh.gandhi/Projects/.env_zz/lib/python3.7/site-packages/scot/eegtopo/projections.py:46: RuntimeWarning: invalid value encountered in arcsin\n",
      "  alphas[mask] = arcsin(betas[mask]) / betas[mask]\n",
      "/home/saurabh.gandhi/Projects/.env_zz/lib/python3.7/site-packages/scot/plotting.py:264: MatplotlibDeprecationWarning: Adding an axes using the same arguments as a previous axes currently reuses the earlier instance.  In a future version, a new instance will always be created and returned.  Meanwhile, this warning can be suppressed, and the future behavior ensured, by passing a unique label to each axes instance.\n",
      "  ax = fig.add_subplot(m+1, m+1, j + (i+1) * (m+1) + 2)\n"
     ]
    }
   ],
   "source": [
    "f = plt.figure(figsize=(10, 8), tight_layout=True)\n",
    "\n",
    "# Configure plotting options\n",
    "ws.plot_f_range = [0, 100]  # only show 0-30 Hz\n",
    "ws.plot_diagonal = 'S'  # put spectral density plots on the diagonal\n",
    "ws.plot_outside_topo = True  # plot topos above and to the left\n",
    "\n",
    "ws.set_used_labels(['pre'])\n",
    "ws.fit_var()\n",
    "ws.plot_connectivity_topos(f)\n",
    "c, _ = ws.get_connectivity('COH', f)\n",
    "\n",
    "ws.set_used_labels(['iso_low'])\n",
    "ws.fit_var()\n",
    "# ws.plot_connectivity_topos(f)\n",
    "c, _ = ws.get_connectivity('COH', f)"
   ]
  },
  {
   "cell_type": "code",
   "execution_count": null,
   "metadata": {},
   "outputs": [],
   "source": []
  }
 ],
 "metadata": {
  "kernelspec": {
   "display_name": "zapnzip",
   "language": "python",
   "name": "zapnzip"
  },
  "language_info": {
   "codemirror_mode": {
    "name": "ipython",
    "version": 3
   },
   "file_extension": ".py",
   "mimetype": "text/x-python",
   "name": "python",
   "nbconvert_exporter": "python",
   "pygments_lexer": "ipython3",
   "version": "3.7.4"
  },
  "widgets": {
   "application/vnd.jupyter.widget-state+json": {
    "state": {
     "013dc6aa09e64ed6b4a3bfcf69438f87": {
      "model_module": "jupyter-matplotlib",
      "model_module_version": "^0.7.2",
      "model_name": "MPLCanvasModel",
      "state": {
       "_figure_label": "Figure 6",
       "_height": 1050,
       "_width": 1050,
       "header_visible": false,
       "layout": "IPY_MODEL_50f22e2ae071499fa1cbd8be3d051867",
       "toolbar": "IPY_MODEL_126d1e44672c4955930d4fbe06f2ac95",
       "toolbar_position": "left"
      }
     },
     "03f1dede933740828c927aa457744f4a": {
      "model_module": "@jupyter-widgets/base",
      "model_module_version": "1.2.0",
      "model_name": "LayoutModel",
      "state": {}
     },
     "06c9963dc5a44596a1afac761f83cfe0": {
      "model_module": "@jupyter-widgets/base",
      "model_module_version": "1.2.0",
      "model_name": "LayoutModel",
      "state": {}
     },
     "0da7e744c8094d0ab0f6e720ecc92056": {
      "model_module": "jupyter-matplotlib",
      "model_module_version": "^0.7.2",
      "model_name": "MPLCanvasModel",
      "state": {
       "_cursor": "default",
       "_figure_label": "Figure 1",
       "_height": 200,
       "_image_mode": "diff",
       "_message": "zoom rect",
       "_rubberband_y": 201,
       "_width": 1200,
       "header_visible": false,
       "layout": "IPY_MODEL_5acac83c67194c198d3cc420c8a174d6",
       "toolbar": "IPY_MODEL_2811372492f9497d982c66bc7e2f4d7e",
       "toolbar_position": "left"
      }
     },
     "126d1e44672c4955930d4fbe06f2ac95": {
      "model_module": "jupyter-matplotlib",
      "model_module_version": "^0.7.2",
      "model_name": "ToolbarModel",
      "state": {
       "layout": "IPY_MODEL_1c9e1bde3a2943ea8ea597294988e4da",
       "toolitems": [
        [
         "Home",
         "Reset original view",
         "home",
         "home"
        ],
        [
         "Back",
         "Back to previous view",
         "arrow-left",
         "back"
        ],
        [
         "Forward",
         "Forward to next view",
         "arrow-right",
         "forward"
        ],
        [
         "Pan",
         "Pan axes with left mouse, zoom with right",
         "arrows",
         "pan"
        ],
        [
         "Zoom",
         "Zoom to rectangle",
         "square-o",
         "zoom"
        ],
        [
         "Download",
         "Download plot",
         "floppy-o",
         "save_figure"
        ]
       ]
      }
     },
     "1c9e1bde3a2943ea8ea597294988e4da": {
      "model_module": "@jupyter-widgets/base",
      "model_module_version": "1.2.0",
      "model_name": "LayoutModel",
      "state": {}
     },
     "2811372492f9497d982c66bc7e2f4d7e": {
      "model_module": "jupyter-matplotlib",
      "model_module_version": "^0.7.2",
      "model_name": "ToolbarModel",
      "state": {
       "_current_action": "zoom",
       "layout": "IPY_MODEL_ebc733b258d24558a94a085250e3aa53",
       "toolitems": [
        [
         "Home",
         "Reset original view",
         "home",
         "home"
        ],
        [
         "Back",
         "Back to previous view",
         "arrow-left",
         "back"
        ],
        [
         "Forward",
         "Forward to next view",
         "arrow-right",
         "forward"
        ],
        [
         "Pan",
         "Pan axes with left mouse, zoom with right",
         "arrows",
         "pan"
        ],
        [
         "Zoom",
         "Zoom to rectangle",
         "square-o",
         "zoom"
        ],
        [
         "Download",
         "Download plot",
         "floppy-o",
         "save_figure"
        ]
       ]
      }
     },
     "2b9b8934b3ac41249021e4b8592eecc0": {
      "model_module": "jupyter-matplotlib",
      "model_module_version": "^0.7.2",
      "model_name": "ToolbarModel",
      "state": {
       "layout": "IPY_MODEL_03f1dede933740828c927aa457744f4a",
       "toolitems": [
        [
         "Home",
         "Reset original view",
         "home",
         "home"
        ],
        [
         "Back",
         "Back to previous view",
         "arrow-left",
         "back"
        ],
        [
         "Forward",
         "Forward to next view",
         "arrow-right",
         "forward"
        ],
        [
         "Pan",
         "Pan axes with left mouse, zoom with right",
         "arrows",
         "pan"
        ],
        [
         "Zoom",
         "Zoom to rectangle",
         "square-o",
         "zoom"
        ],
        [
         "Download",
         "Download plot",
         "floppy-o",
         "save_figure"
        ]
       ]
      }
     },
     "35420c21b1744969996d4d7a5665a402": {
      "model_module": "jupyter-matplotlib",
      "model_module_version": "^0.7.2",
      "model_name": "ToolbarModel",
      "state": {
       "layout": "IPY_MODEL_c2c2ef70310c4614ab0ec929044c5a36",
       "toolitems": [
        [
         "Home",
         "Reset original view",
         "home",
         "home"
        ],
        [
         "Back",
         "Back to previous view",
         "arrow-left",
         "back"
        ],
        [
         "Forward",
         "Forward to next view",
         "arrow-right",
         "forward"
        ],
        [
         "Pan",
         "Pan axes with left mouse, zoom with right",
         "arrows",
         "pan"
        ],
        [
         "Zoom",
         "Zoom to rectangle",
         "square-o",
         "zoom"
        ],
        [
         "Download",
         "Download plot",
         "floppy-o",
         "save_figure"
        ]
       ]
      }
     },
     "50f22e2ae071499fa1cbd8be3d051867": {
      "model_module": "@jupyter-widgets/base",
      "model_module_version": "1.2.0",
      "model_name": "LayoutModel",
      "state": {}
     },
     "546e2fd345b7477fbd17ffe7edee92f3": {
      "model_module": "@jupyter-widgets/base",
      "model_module_version": "1.2.0",
      "model_name": "LayoutModel",
      "state": {}
     },
     "5acac83c67194c198d3cc420c8a174d6": {
      "model_module": "@jupyter-widgets/base",
      "model_module_version": "1.2.0",
      "model_name": "LayoutModel",
      "state": {}
     },
     "7439bcc93eb546dc8c57c6c3d745b360": {
      "model_module": "jupyter-matplotlib",
      "model_module_version": "^0.7.2",
      "model_name": "MPLCanvasModel",
      "state": {
       "_figure_label": "Figure 5",
       "_height": 1200,
       "_message": "x=16.954       y=27.913       [0.655]",
       "_width": 1000,
       "header_visible": false,
       "layout": "IPY_MODEL_ba8de2378404460e828bd0620c9d8a46",
       "toolbar": "IPY_MODEL_2b9b8934b3ac41249021e4b8592eecc0",
       "toolbar_position": "left"
      }
     },
     "86dfc2d1ffbf442f814cb4a2223c1065": {
      "model_module": "jupyter-matplotlib",
      "model_module_version": "^0.7.2",
      "model_name": "ToolbarModel",
      "state": {
       "layout": "IPY_MODEL_06c9963dc5a44596a1afac761f83cfe0",
       "toolitems": [
        [
         "Home",
         "Reset original view",
         "home",
         "home"
        ],
        [
         "Back",
         "Back to previous view",
         "arrow-left",
         "back"
        ],
        [
         "Forward",
         "Forward to next view",
         "arrow-right",
         "forward"
        ],
        [
         "Pan",
         "Pan axes with left mouse, zoom with right",
         "arrows",
         "pan"
        ],
        [
         "Zoom",
         "Zoom to rectangle",
         "square-o",
         "zoom"
        ],
        [
         "Download",
         "Download plot",
         "floppy-o",
         "save_figure"
        ]
       ]
      }
     },
     "88a45e6473464268bcb09ad84b26acfc": {
      "model_module": "@jupyter-widgets/base",
      "model_module_version": "1.2.0",
      "model_name": "LayoutModel",
      "state": {}
     },
     "89074d2fbbf94be2b4cce42e435da331": {
      "model_module": "jupyter-matplotlib",
      "model_module_version": "^0.7.2",
      "model_name": "MPLCanvasModel",
      "state": {
       "_figure_label": "Figure 3",
       "_height": 300,
       "_width": 400,
       "header_visible": false,
       "layout": "IPY_MODEL_88a45e6473464268bcb09ad84b26acfc",
       "toolbar": "IPY_MODEL_86dfc2d1ffbf442f814cb4a2223c1065",
       "toolbar_position": "left"
      }
     },
     "932d1ce4b95142a6b1a29ed7fd79925e": {
      "model_module": "@jupyter-widgets/base",
      "model_module_version": "1.2.0",
      "model_name": "LayoutModel",
      "state": {}
     },
     "9ec7ec2acbec4e3994773e60e2c50738": {
      "model_module": "@jupyter-widgets/base",
      "model_module_version": "1.2.0",
      "model_name": "LayoutModel",
      "state": {}
     },
     "a18d8bb4153b429c8d98f85e7a7efd73": {
      "model_module": "jupyter-matplotlib",
      "model_module_version": "^0.7.2",
      "model_name": "MPLCanvasModel",
      "state": {
       "_figure_label": "Figure 2",
       "_height": 400,
       "_width": 400,
       "header_visible": false,
       "layout": "IPY_MODEL_546e2fd345b7477fbd17ffe7edee92f3",
       "toolbar": "IPY_MODEL_35420c21b1744969996d4d7a5665a402",
       "toolbar_position": "left"
      }
     },
     "ae4cc39f28cd49a2a61361460a709fb9": {
      "model_module": "jupyter-matplotlib",
      "model_module_version": "^0.7.2",
      "model_name": "MPLCanvasModel",
      "state": {
       "_figure_label": "Figure 4",
       "_height": 240,
       "_width": 1200,
       "header_visible": false,
       "layout": "IPY_MODEL_932d1ce4b95142a6b1a29ed7fd79925e",
       "toolbar": "IPY_MODEL_e305a4dfa6c1454a8f821e1eaaf6b356",
       "toolbar_position": "left"
      }
     },
     "ba8de2378404460e828bd0620c9d8a46": {
      "model_module": "@jupyter-widgets/base",
      "model_module_version": "1.2.0",
      "model_name": "LayoutModel",
      "state": {}
     },
     "c2c2ef70310c4614ab0ec929044c5a36": {
      "model_module": "@jupyter-widgets/base",
      "model_module_version": "1.2.0",
      "model_name": "LayoutModel",
      "state": {}
     },
     "e305a4dfa6c1454a8f821e1eaaf6b356": {
      "model_module": "jupyter-matplotlib",
      "model_module_version": "^0.7.2",
      "model_name": "ToolbarModel",
      "state": {
       "layout": "IPY_MODEL_9ec7ec2acbec4e3994773e60e2c50738",
       "toolitems": [
        [
         "Home",
         "Reset original view",
         "home",
         "home"
        ],
        [
         "Back",
         "Back to previous view",
         "arrow-left",
         "back"
        ],
        [
         "Forward",
         "Forward to next view",
         "arrow-right",
         "forward"
        ],
        [
         "Pan",
         "Pan axes with left mouse, zoom with right",
         "arrows",
         "pan"
        ],
        [
         "Zoom",
         "Zoom to rectangle",
         "square-o",
         "zoom"
        ],
        [
         "Download",
         "Download plot",
         "floppy-o",
         "save_figure"
        ]
       ]
      }
     },
     "ebc733b258d24558a94a085250e3aa53": {
      "model_module": "@jupyter-widgets/base",
      "model_module_version": "1.2.0",
      "model_name": "LayoutModel",
      "state": {}
     }
    },
    "version_major": 2,
    "version_minor": 0
   }
  }
 },
 "nbformat": 4,
 "nbformat_minor": 4
}
