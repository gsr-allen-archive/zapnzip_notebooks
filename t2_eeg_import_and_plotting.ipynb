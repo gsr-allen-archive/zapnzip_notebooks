{
 "cells": [
  {
   "cell_type": "markdown",
   "metadata": {
    "Collapsed": "false"
   },
   "source": [
    "Works with `d05199b`"
   ]
  },
  {
   "cell_type": "markdown",
   "metadata": {
    "Collapsed": "false"
   },
   "source": [
    "### This notebook will walk through plotting EEG and related data using the tbd_eeg repository."
   ]
  },
  {
   "cell_type": "code",
   "execution_count": 1,
   "metadata": {
    "Collapsed": "false"
   },
   "outputs": [],
   "source": [
    "import os\n",
    "import numpy as np\n",
    "import matplotlib.pyplot as plt\n",
    "from matplotlib.gridspec import GridSpec\n",
    "from scipy import signal\n",
    "\n",
    "# First import useful packages: os is a package for handling directories;\n",
    "# numpy for math; matplotlib for plotting; and scipy for signal processing."
   ]
  },
  {
   "cell_type": "code",
   "execution_count": 2,
   "metadata": {
    "Collapsed": "false"
   },
   "outputs": [],
   "source": [
    "from allensdk.brain_observatory.sync_dataset import Dataset\n",
    "\n",
    "# AllenSDK is a repo with tons of code for analyzing most of the\n",
    "# AI-generated data. We'll use the Dataset class for extracting metadata\n",
    "# from the sync h5 file."
   ]
  },
  {
   "cell_type": "code",
   "execution_count": 3,
   "metadata": {
    "Collapsed": "false"
   },
   "outputs": [],
   "source": [
    "from tbd_eeg.data_analysis.eegutils import EEGexp\n",
    "\n",
    "# This imports the EEGexp class from the eegutils.py code."
   ]
  },
  {
   "cell_type": "markdown",
   "metadata": {
    "Collapsed": "false"
   },
   "source": [
    "##### This is called a \"magic command.\" It is special to jupyter notebooks, and allows you to interact with plots."
   ]
  },
  {
   "cell_type": "code",
   "execution_count": 4,
   "metadata": {
    "Collapsed": "false"
   },
   "outputs": [],
   "source": [
    "%matplotlib widget"
   ]
  },
  {
   "cell_type": "markdown",
   "metadata": {
    "Collapsed": "false"
   },
   "source": [
    "####  Enter folder and get metadata for experiment."
   ]
  },
  {
   "cell_type": "code",
   "execution_count": 5,
   "metadata": {
    "Collapsed": "false"
   },
   "outputs": [],
   "source": [
    "data_folder = r\"/allen/programs/braintv/workgroups/nc-ophys/Leslie/eeg_pilot/mouse507190/pilot1_2020-02-28_10-33-11/recording1\"\n",
    "exp = EEGexp(data_folder)"
   ]
  },
  {
   "cell_type": "raw",
   "metadata": {
    "Collapsed": "false"
   },
   "source": [
    "# List attributes(?) of the pilotexp instance of the EEGexp class\n",
    "dir(exp)"
   ]
  },
  {
   "cell_type": "code",
   "execution_count": 6,
   "metadata": {
    "Collapsed": "false"
   },
   "outputs": [
    {
     "name": "stdout",
     "output_type": "stream",
     "text": [
      "Mouse number: 507190\n",
      "EEG sample rate: 10000 Hz\n",
      "To convert bits to microvolts, multiply by 0.195.\n"
     ]
    }
   ],
   "source": [
    "# Let's print some meta data\n",
    "print('Mouse number: ' + exp.mouse)\n",
    "print('EEG sample rate: %d Hz' % exp.sample_rate)\n",
    "print('To convert bits to microvolts, multiply by %0.3f.' % exp.bits_to_uvolts)"
   ]
  },
  {
   "cell_type": "markdown",
   "metadata": {
    "Collapsed": "false"
   },
   "source": [
    "#### Use EEGexp.memmap_EEGdata() function to load EEG data as a memmap matrix."
   ]
  },
  {
   "cell_type": "code",
   "execution_count": 7,
   "metadata": {
    "Collapsed": "false"
   },
   "outputs": [
    {
     "name": "stdout",
     "output_type": "stream",
     "text": [
      "Loading /allen/programs/braintv/workgroups/nc-ophys/Leslie/eeg_pilot/mouse507190/pilot1_2020-02-28_10-33-11/recording1/continuous/Rhythm_FPGA-111.0/continuous.dat\n"
     ]
    }
   ],
   "source": [
    "EEGdata = exp.memmap_EEGdata()\n",
    "## this memmaps the data in the correct NN ch order, but does not convert it from bits to uV"
   ]
  },
  {
   "cell_type": "markdown",
   "metadata": {
    "Collapsed": "false"
   },
   "source": [
    "#### Plot data from one electrode for sanity check."
   ]
  },
  {
   "cell_type": "code",
   "execution_count": 8,
   "metadata": {
    "Collapsed": "false"
   },
   "outputs": [],
   "source": [
    "# Make an array for x-axis in seconds\n",
    "eegtime = np.arange(0, len(EEGdata))/exp.sample_rate"
   ]
  },
  {
   "cell_type": "code",
   "execution_count": 9,
   "metadata": {
    "Collapsed": "false"
   },
   "outputs": [],
   "source": [
    "plot_ch = 27 # choose which electrode to plot (zero-indexed, ch 30:31 do not exist)\n",
    "\n",
    "# load and convert single ch data\n",
    "single_ch = EEGdata[:,plot_ch] * exp.bits_to_uvolts"
   ]
  },
  {
   "cell_type": "code",
   "execution_count": 10,
   "metadata": {
    "Collapsed": "false"
   },
   "outputs": [
    {
     "data": {
      "application/vnd.jupyter.widget-view+json": {
       "model_id": "850c630c77cb47a1b62ceb63e8d9912c",
       "version_major": 2,
       "version_minor": 0
      },
      "text/plain": [
       "Canvas(toolbar=Toolbar(toolitems=[('Home', 'Reset original view', 'home', 'home'), ('Back', 'Back to previous …"
      ]
     },
     "metadata": {},
     "output_type": "display_data"
    },
    {
     "data": {
      "text/plain": [
       "Text(0, 0.5, 'Raw signal (mV)')"
      ]
     },
     "execution_count": 10,
     "metadata": {},
     "output_type": "execute_result"
    }
   ],
   "source": [
    "fig, ax = plt.subplots(figsize=(10, 2))\n",
    "ax.plot(eegtime, single_ch/1000.)\n",
    "\n",
    "# make plot more readable\n",
    "ax.set_xlim((0, eegtime[-1]))\n",
    "ax.set_xlabel('Time (s)')\n",
    "ax.set_ylabel('Raw signal (mV)')"
   ]
  },
  {
   "cell_type": "raw",
   "metadata": {
    "Collapsed": "false"
   },
   "source": [
    "# clear single_ch to get memory back\n",
    "# del single_ch\n",
    "# doesn't seem to work??"
   ]
  },
  {
   "cell_type": "markdown",
   "metadata": {
    "Collapsed": "false"
   },
   "source": [
    "#### Load the EEG timestamps_master_clock for combined plot at the end."
   ]
  },
  {
   "cell_type": "code",
   "execution_count": 11,
   "metadata": {
    "Collapsed": "false"
   },
   "outputs": [],
   "source": [
    "eegtime_master = np.load(exp.eegtimestamps_file)"
   ]
  },
  {
   "cell_type": "markdown",
   "metadata": {
    "Collapsed": "false"
   },
   "source": [
    "#### Load .sync file as a Dataset (defined in AllenSDK)"
   ]
  },
  {
   "cell_type": "code",
   "execution_count": 12,
   "metadata": {
    "Collapsed": "false"
   },
   "outputs": [],
   "source": [
    "sync_data = exp.load_sync_dataset()"
   ]
  },
  {
   "cell_type": "code",
   "execution_count": 13,
   "metadata": {
    "Collapsed": "false"
   },
   "outputs": [
    {
     "name": "stderr",
     "output_type": "stream",
     "text": [
      "/home/saurabh.gandhi/Projects/.env_zz/lib/python3.7/site-packages/allensdk/brain_observatory/sync_dataset.py:454: H5pyDeprecationWarning: dataset.value has been deprecated. Use dataset[()] instead.\n",
      "  return eval(self.dfile['analog_meta'].value)\n"
     ]
    }
   ],
   "source": [
    "linear_velocity, runtime = exp.load_running(sync_data)"
   ]
  },
  {
   "cell_type": "code",
   "execution_count": 14,
   "metadata": {
    "Collapsed": "false"
   },
   "outputs": [
    {
     "data": {
      "application/vnd.jupyter.widget-view+json": {
       "model_id": "c59d75968cec46f4bfdea72c624b114f",
       "version_major": 2,
       "version_minor": 0
      },
      "text/plain": [
       "Canvas(toolbar=Toolbar(toolitems=[('Home', 'Reset original view', 'home', 'home'), ('Back', 'Back to previous …"
      ]
     },
     "metadata": {},
     "output_type": "display_data"
    },
    {
     "data": {
      "text/plain": [
       "Text(0, 0.5, 'Velocity (cm/s)')"
      ]
     },
     "execution_count": 14,
     "metadata": {},
     "output_type": "execute_result"
    }
   ],
   "source": [
    "# plot linear_velocity for whole session\n",
    "fig, ax = plt.subplots(figsize=(10, 2))\n",
    "ax.plot(runtime, linear_velocity)\n",
    "ax.plot(runtime, np.zeros_like(linear_velocity), \"--\", color=\"gray\") # plots a gray line at zero\n",
    "\n",
    "ax.set_title('Mouse %s linear velocity' % exp.mouse)\n",
    "ax.set_xlabel('Time (s)')\n",
    "ax.set_ylabel('Velocity (cm/s)')"
   ]
  },
  {
   "cell_type": "markdown",
   "metadata": {
    "Collapsed": "false"
   },
   "source": [
    "##### It's still a messy signal...we could try smoothing it?"
   ]
  },
  {
   "cell_type": "code",
   "execution_count": 15,
   "metadata": {
    "Collapsed": "false"
   },
   "outputs": [],
   "source": [
    "# simple mean smoothing filter\n",
    "smooth_velocity = np.zeros_like(linear_velocity)\n",
    "\n",
    "# implement the running mean filter\n",
    "k = 20 # filter window is actually k*2+1\n",
    "for i in range(k, len(linear_velocity)-k-1):\n",
    "    # each point is the average of k surrounding points\n",
    "    smooth_velocity[i] = np.mean(linear_velocity[i-k:i+k])"
   ]
  },
  {
   "cell_type": "code",
   "execution_count": 16,
   "metadata": {
    "Collapsed": "false"
   },
   "outputs": [
    {
     "data": {
      "application/vnd.jupyter.widget-view+json": {
       "model_id": "116086f3294c4d30a6620b7530309347",
       "version_major": 2,
       "version_minor": 0
      },
      "text/plain": [
       "Canvas(toolbar=Toolbar(toolitems=[('Home', 'Reset original view', 'home', 'home'), ('Back', 'Back to previous …"
      ]
     },
     "metadata": {},
     "output_type": "display_data"
    },
    {
     "data": {
      "text/plain": [
       "<matplotlib.legend.Legend at 0x7f5c7246d550>"
      ]
     },
     "execution_count": 16,
     "metadata": {},
     "output_type": "execute_result"
    }
   ],
   "source": [
    "fig, ax = plt.subplots(figsize=(10, 2))\n",
    "ax.plot(runtime, linear_velocity, label='original')\n",
    "ax.plot(runtime, smooth_velocity, color='orange', label='smoothed') # plots smoothed linear velocity\n",
    "\n",
    "ax.set_title('Mouse %s linear velocity' % exp.mouse)\n",
    "ax.set_xlabel('Time (s)')\n",
    "ax.set_ylabel('Velocity (cm/s)')\n",
    "ax.legend()"
   ]
  },
  {
   "cell_type": "markdown",
   "metadata": {
    "Collapsed": "false"
   },
   "source": [
    "##### Seems better..."
   ]
  },
  {
   "cell_type": "markdown",
   "metadata": {
    "Collapsed": "false"
   },
   "source": [
    "#### Let's look at the isoflurane level."
   ]
  },
  {
   "cell_type": "code",
   "execution_count": 17,
   "metadata": {
    "Collapsed": "false"
   },
   "outputs": [
    {
     "name": "stderr",
     "output_type": "stream",
     "text": [
      "/home/saurabh.gandhi/Projects/.env_zz/lib/python3.7/site-packages/allensdk/brain_observatory/sync_dataset.py:454: H5pyDeprecationWarning: dataset.value has been deprecated. Use dataset[()] instead.\n",
      "  return eval(self.dfile['analog_meta'].value)\n"
     ]
    }
   ],
   "source": [
    "iso_level, isotime = exp.load_analog_iso(sync_data) # still need to pass it the Dataset instance"
   ]
  },
  {
   "cell_type": "code",
   "execution_count": 18,
   "metadata": {
    "Collapsed": "false"
   },
   "outputs": [
    {
     "data": {
      "application/vnd.jupyter.widget-view+json": {
       "model_id": "8af60027c04a46ed9a8b04a70f951b45",
       "version_major": 2,
       "version_minor": 0
      },
      "text/plain": [
       "Canvas(toolbar=Toolbar(toolitems=[('Home', 'Reset original view', 'home', 'home'), ('Back', 'Back to previous …"
      ]
     },
     "metadata": {},
     "output_type": "display_data"
    },
    {
     "data": {
      "text/plain": [
       "Text(0, 0.5, 'Isoflurane level (%)')"
      ]
     },
     "execution_count": 18,
     "metadata": {},
     "output_type": "execute_result"
    }
   ],
   "source": [
    "fig, ax = plt.subplots(figsize=(10, 2))\n",
    "ax.plot(isotime, iso_level)\n",
    "\n",
    "ax.set_title('Mouse %s isoflurane level' % exp.mouse)\n",
    "ax.set_xlabel('Time (s)')\n",
    "ax.set_ylabel('Isoflurane level (%)')"
   ]
  },
  {
   "cell_type": "markdown",
   "metadata": {
    "Collapsed": "false"
   },
   "source": [
    "#### Can we extract the on/off times?"
   ]
  },
  {
   "cell_type": "code",
   "execution_count": 19,
   "metadata": {
    "Collapsed": "false"
   },
   "outputs": [
    {
     "name": "stdout",
     "output_type": "stream",
     "text": [
      "[ 645.712 1189.232]\n"
     ]
    }
   ],
   "source": [
    "iso5inds = np.where(iso_level > 4.90)[0]\n",
    "iso5_times = isotime[np.array([iso5inds[0], iso5inds[-1]])]\n",
    "print(iso5_times)"
   ]
  },
  {
   "cell_type": "code",
   "execution_count": 20,
   "metadata": {
    "Collapsed": "false"
   },
   "outputs": [
    {
     "name": "stdout",
     "output_type": "stream",
     "text": [
      "[1194.048 1867.552]\n"
     ]
    }
   ],
   "source": [
    "iso2inds = np.where((iso_level > 1.80) & (iso_level < 2.2))[0]\n",
    "iso2inds = iso2inds[iso2inds > iso5inds[-1]] # removes iso2 level during initial increase to iso5\n",
    "iso2_times = isotime[np.array([iso2inds[0], iso2inds[-1]])]\n",
    "print(iso2_times)"
   ]
  },
  {
   "cell_type": "code",
   "execution_count": 21,
   "metadata": {
    "Collapsed": "false"
   },
   "outputs": [
    {
     "data": {
      "application/vnd.jupyter.widget-view+json": {
       "model_id": "47c2ec573e374cf98e6d9573dab5eaa2",
       "version_major": 2,
       "version_minor": 0
      },
      "text/plain": [
       "Canvas(toolbar=Toolbar(toolitems=[('Home', 'Reset original view', 'home', 'home'), ('Back', 'Back to previous …"
      ]
     },
     "metadata": {},
     "output_type": "display_data"
    },
    {
     "data": {
      "text/plain": [
       "Text(0, 0.5, 'Isoflurane level (%)')"
      ]
     },
     "execution_count": 21,
     "metadata": {},
     "output_type": "execute_result"
    }
   ],
   "source": [
    "fig, ax = plt.subplots(figsize=(10, 2))\n",
    "ax.plot(isotime, iso_level)\n",
    "ax.axvspan(iso5_times[0], iso5_times[1], facecolor='r', alpha=0.5)\n",
    "ax.axvspan(iso2_times[0], iso2_times[1], facecolor='r', alpha=0.2)\n",
    "\n",
    "ax.set_title('Mouse %s isoflurane level' % exp.mouse)\n",
    "ax.set_xlabel('Time (s)')\n",
    "ax.set_ylabel('Isoflurane level (%)')"
   ]
  },
  {
   "cell_type": "markdown",
   "metadata": {
    "Collapsed": "false"
   },
   "source": [
    "### Plot all three together in same clock time"
   ]
  },
  {
   "cell_type": "code",
   "execution_count": 22,
   "metadata": {
    "Collapsed": "false"
   },
   "outputs": [
    {
     "data": {
      "application/vnd.jupyter.widget-view+json": {
       "model_id": "9250506544b64b66af0311938a392c9d",
       "version_major": 2,
       "version_minor": 0
      },
      "text/plain": [
       "Canvas(toolbar=Toolbar(toolitems=[('Home', 'Reset original view', 'home', 'home'), ('Back', 'Back to previous …"
      ]
     },
     "metadata": {},
     "output_type": "display_data"
    },
    {
     "data": {
      "text/plain": [
       "Text(0.5, 0.98, 'Mouse 507190')"
      ]
     },
     "execution_count": 22,
     "metadata": {},
     "output_type": "execute_result"
    }
   ],
   "source": [
    "fig, axs = plt.subplots(3, 1, figsize=(10, 5), sharex=True)\n",
    "\n",
    "axs[0].plot(isotime, iso_level, color='red')\n",
    "axs[0].set_xlim((0, isotime[-1]))\n",
    "axs[0].set_ylabel('Iso Level (%)')\n",
    "\n",
    "axs[1].plot(runtime, smooth_velocity, color='orange')\n",
    "axs[1].set_ylabel('Linear Velocity (cm/s)')\n",
    "\n",
    "axs[2].plot(eegtime_master, single_ch/1000.)\n",
    "axs[2].set_ylim((-2, 2))\n",
    "axs[2].set_xlabel('Time (s)')\n",
    "axs[2].set_ylabel('EEG (mV)')\n",
    "\n",
    "fig.suptitle('Mouse %s' % exp.mouse)"
   ]
  },
  {
   "cell_type": "markdown",
   "metadata": {
    "Collapsed": "false"
   },
   "source": [
    "### Spectrogram plot"
   ]
  },
  {
   "cell_type": "code",
   "execution_count": 23,
   "metadata": {
    "Collapsed": "false"
   },
   "outputs": [],
   "source": [
    "f, t, Sxx = signal.spectrogram(single_ch, exp.sample_rate, nperseg=2**13, scaling='density')"
   ]
  },
  {
   "cell_type": "code",
   "execution_count": 24,
   "metadata": {
    "Collapsed": "false"
   },
   "outputs": [
    {
     "name": "stdout",
     "output_type": "stream",
     "text": [
      "25.818365940779437\n"
     ]
    }
   ],
   "source": [
    "frinds = f < 100\n",
    "print(np.mean(np.mean(Sxx[frinds,:], axis=1)))"
   ]
  },
  {
   "cell_type": "code",
   "execution_count": 25,
   "metadata": {
    "Collapsed": "false"
   },
   "outputs": [
    {
     "data": {
      "application/vnd.jupyter.widget-view+json": {
       "model_id": "c5a0ca44f89b4940b71b8bd8319189d1",
       "version_major": 2,
       "version_minor": 0
      },
      "text/plain": [
       "Canvas(toolbar=Toolbar(toolitems=[('Home', 'Reset original view', 'home', 'home'), ('Back', 'Back to previous …"
      ]
     },
     "metadata": {},
     "output_type": "display_data"
    },
    {
     "data": {
      "text/plain": [
       "Text(0, 0.5, 'PSD (V**2/Hz)')"
      ]
     },
     "execution_count": 25,
     "metadata": {},
     "output_type": "execute_result"
    }
   ],
   "source": [
    "fig, axs = plt.subplots(2, 1, figsize=(8,5), sharex=True)\n",
    "\n",
    "# plot raw signal\n",
    "axs[0].plot(eegtime, single_ch/1000.)\n",
    "axs[0].set_xlim((0, eegtime[-1]))\n",
    "axs[0].set_ylim((-2, 2))\n",
    "# axs[0].axvspan(ind_beg, ind_end, facecolor='r', alpha=0.5)\n",
    "# axs[0].axvspan(ind_end, main_end, facecolor='r', alpha=0.2)\n",
    "# axs[0].set_xlabel('Time (s)')\n",
    "axs[0].set_ylabel('EEG (mV)')\n",
    "\n",
    "# plot spectrogram\n",
    "spgm = axs[1].pcolormesh(t, f[frinds], Sxx[frinds,:], cmap='YlOrRd', vmin=0, vmax=40)\n",
    "axs[1].set_ylabel('Frequency (Hz)')\n",
    "axs[1].set_xlabel('Time (s)')\n",
    "\n",
    "# do the colorbar :(\n",
    "fig.subplots_adjust(bottom=0.1, right=0.85, top=0.9, hspace=0.2)\n",
    "cax = plt.axes([0.9, 0.1, 0.025, 0.36])\n",
    "cbar = fig.colorbar(spgm, cax=cax)\n",
    "cbar.ax.set_ylabel('PSD (V**2/Hz)')"
   ]
  },
  {
   "cell_type": "markdown",
   "metadata": {
    "Collapsed": "false"
   },
   "source": [
    "#### Should we normalize the spectrum?"
   ]
  },
  {
   "cell_type": "code",
   "execution_count": 26,
   "metadata": {
    "Collapsed": "false"
   },
   "outputs": [
    {
     "name": "stdout",
     "output_type": "stream",
     "text": [
      "4097\n",
      "(4097, 5039)\n",
      "1654\n"
     ]
    }
   ],
   "source": [
    "print(len(f))\n",
    "print(np.shape(Sxx))\n",
    "print(np.argmax(Sxx[1,:]))"
   ]
  },
  {
   "cell_type": "code",
   "execution_count": 27,
   "metadata": {
    "Collapsed": "false"
   },
   "outputs": [],
   "source": [
    "# Sxx[:,825:830] = np.zeros_like(Sxx[:,825:830])\n",
    "Sxx[:,1652:1657] = np.zeros_like(Sxx[:,1652:1657])\n",
    "\n",
    "# did we just remove the 60Hz?"
   ]
  },
  {
   "cell_type": "code",
   "execution_count": 28,
   "metadata": {
    "Collapsed": "false"
   },
   "outputs": [],
   "source": [
    "normed_array = np.zeros_like(Sxx)\n",
    "for row_idx in range(np.shape(Sxx)[0]):\n",
    "    row = Sxx[row_idx,:]\n",
    "    \n",
    "    minval = row.min()\n",
    "    maxval = row.max()\n",
    "\n",
    "    normed_array[row_idx,:] = (row - minval)/(maxval - minval)"
   ]
  },
  {
   "cell_type": "code",
   "execution_count": 29,
   "metadata": {
    "Collapsed": "false"
   },
   "outputs": [],
   "source": [
    "spectime = t + eegtime_master[0]"
   ]
  },
  {
   "cell_type": "code",
   "execution_count": 30,
   "metadata": {
    "Collapsed": "false"
   },
   "outputs": [
    {
     "data": {
      "application/vnd.jupyter.widget-view+json": {
       "model_id": "6d31be77896f425792b3acb805252e8d",
       "version_major": 2,
       "version_minor": 0
      },
      "text/plain": [
       "Canvas(toolbar=Toolbar(toolitems=[('Home', 'Reset original view', 'home', 'home'), ('Back', 'Back to previous …"
      ]
     },
     "metadata": {},
     "output_type": "display_data"
    },
    {
     "data": {
      "text/plain": [
       "Text(0, 0.5, 'norm PSD')"
      ]
     },
     "execution_count": 30,
     "metadata": {},
     "output_type": "execute_result"
    }
   ],
   "source": [
    "fig = plt.figure(figsize=(10,5)) #, constrained_layout=True)\n",
    "\n",
    "gs = GridSpec(5, 1, figure=fig)\n",
    "ax1 = fig.add_subplot(gs[0, :])\n",
    "ax2 = fig.add_subplot(gs[1:3, :], sharex=ax1)\n",
    "ax3 = fig.add_subplot(gs[3:5, :], sharex=ax1)\n",
    "\n",
    "# plot running\n",
    "ax1.plot(runtime, smooth_velocity, color='green')\n",
    "ax1.set_xlim((0, runtime[-1]))\n",
    "ax1.set_ylabel('Velocity (cm/s)')\n",
    "ax1.axvspan(iso5_times[0], iso5_times[1], facecolor='r', alpha=0.3)\n",
    "ax1.axvspan(iso2_times[0], iso2_times[1], facecolor='r', alpha=0.1)\n",
    "plt.setp(ax1.get_xticklabels(), visible=False)\n",
    "\n",
    "# plot raw signal\n",
    "ax2.plot(eegtime_master, single_ch/1000.)\n",
    "ax2.set_ylim((-2, 2))\n",
    "ax2.axvspan(iso5_times[0], iso5_times[1], facecolor='r', alpha=0.3)\n",
    "ax2.axvspan(iso2_times[0], iso2_times[1], facecolor='r', alpha=0.1)\n",
    "ax2.set_ylabel('EEG (mV)')\n",
    "plt.setp(ax2.get_xticklabels(), visible=False)\n",
    "\n",
    "# plot spectrogram\n",
    "spgm = ax3.pcolormesh(spectime, f[frinds], normed_array[frinds,:], cmap='YlOrRd', vmin=0, vmax=1)\n",
    "ax3.set_ylabel('Freq (Hz)')\n",
    "ax3.set_xlabel('Time (s)')\n",
    "\n",
    "# do the colorbar :(\n",
    "fig.subplots_adjust(bottom=0.1, right=0.9, top=0.9, hspace=0.2)\n",
    "cax = plt.axes([0.92, 0.1, 0.02, 0.31])\n",
    "cbar = fig.colorbar(spgm, cax=cax)\n",
    "cbar.ax.set_ylabel('norm PSD')"
   ]
  },
  {
   "cell_type": "markdown",
   "metadata": {
    "Collapsed": "false"
   },
   "source": [
    "#### Plot smaller window?"
   ]
  },
  {
   "cell_type": "code",
   "execution_count": 37,
   "metadata": {
    "Collapsed": "false"
   },
   "outputs": [],
   "source": [
    "window_beg = 80. # time of interest in seconds\n",
    "pl_win_len = 20. # window length in seconds"
   ]
  },
  {
   "cell_type": "code",
   "execution_count": 38,
   "metadata": {
    "Collapsed": "false"
   },
   "outputs": [],
   "source": [
    "runinds = np.argwhere((runtime > window_beg) & (runtime < window_beg + pl_win_len)).flatten()\n",
    "eeginds = np.argwhere((eegtime_master > window_beg) & (eegtime_master < window_beg + pl_win_len)).flatten()\n",
    "specinds = np.argwhere((spectime > window_beg) & (spectime < window_beg + pl_win_len)).flatten()"
   ]
  },
  {
   "cell_type": "code",
   "execution_count": 39,
   "metadata": {
    "Collapsed": "false"
   },
   "outputs": [],
   "source": [
    "newnormspec = normed_array[:,specinds]"
   ]
  },
  {
   "cell_type": "code",
   "execution_count": 40,
   "metadata": {
    "Collapsed": "false"
   },
   "outputs": [
    {
     "data": {
      "application/vnd.jupyter.widget-view+json": {
       "model_id": "dae3a3c45dde42b58a0d9f309dc20923",
       "version_major": 2,
       "version_minor": 0
      },
      "text/plain": [
       "Canvas(toolbar=Toolbar(toolitems=[('Home', 'Reset original view', 'home', 'home'), ('Back', 'Back to previous …"
      ]
     },
     "metadata": {},
     "output_type": "display_data"
    },
    {
     "data": {
      "text/plain": [
       "Text(0.5, 0.98, 'Awake')"
      ]
     },
     "execution_count": 40,
     "metadata": {},
     "output_type": "execute_result"
    }
   ],
   "source": [
    "fig = plt.figure(figsize=(6,5)) #, constrained_layout=True)\n",
    "\n",
    "gs = GridSpec(5, 1, figure=fig)\n",
    "ax1 = fig.add_subplot(gs[0, :])\n",
    "ax2 = fig.add_subplot(gs[1:3, :], sharex=ax1)\n",
    "ax3 = fig.add_subplot(gs[3:5, :], sharex=ax1)\n",
    "\n",
    "# plot running\n",
    "ax1.plot(runtime[runinds], smooth_velocity[runinds], color='green')\n",
    "ax1.set_xlim((window_beg, window_beg+pl_win_len))\n",
    "ax1.set_ylabel('Velocity (cm/s)')\n",
    "ax1.set_ylim((-1, 30))\n",
    "# ax1.axvspan(iso5_times[0], iso5_times[1], facecolor='r', alpha=0.3)\n",
    "# ax1.axvspan(iso2_times[0], iso2_times[1], facecolor='r', alpha=0.1)\n",
    "plt.setp(ax1.get_xticklabels(), visible=False)\n",
    "\n",
    "# plot raw signal\n",
    "ax2.plot(eegtime_master[eeginds], single_ch[eeginds]/1000., linewidth=1)\n",
    "ax2.set_ylim((-0.5, 0.5))\n",
    "# ax2.axvspan(iso5_times[0], iso5_times[1], facecolor='r', alpha=0.3)\n",
    "# ax2.axvspan(iso2_times[0], iso2_times[1], facecolor='r', alpha=0.1)\n",
    "ax2.set_ylabel('EEG (mV)')\n",
    "plt.setp(ax2.get_xticklabels(), visible=False)\n",
    "\n",
    "# plot spectrogram\n",
    "spgm = ax3.pcolormesh(spectime[specinds], f[frinds], newnormspec[frinds,:], cmap='YlOrRd', vmin=0, vmax=1)\n",
    "ax3.set_ylabel('Freq (Hz)')\n",
    "ax3.set_xlabel('Time (s)')\n",
    "\n",
    "# # do the colorbar :(\n",
    "# fig.subplots_adjust(bottom=0.1, right=0.9, top=0.9, hspace=0.2)\n",
    "# cax = plt.axes([0.92, 0.1, 0.02, 0.31])\n",
    "# cbar = fig.colorbar(spgm, cax=cax)\n",
    "# cbar.ax.set_ylabel('norm PSD')\n",
    "\n",
    "fig.suptitle('Awake')"
   ]
  },
  {
   "cell_type": "markdown",
   "metadata": {
    "Collapsed": "false"
   },
   "source": [
    "### Plot multiple channels and spectrogram for small time windows."
   ]
  },
  {
   "cell_type": "code",
   "execution_count": 41,
   "metadata": {
    "Collapsed": "false"
   },
   "outputs": [],
   "source": [
    "# channels to remove from plot\n",
    "badchs = np.array([30, 31])"
   ]
  },
  {
   "cell_type": "code",
   "execution_count": 42,
   "metadata": {
    "Collapsed": "false"
   },
   "outputs": [],
   "source": [
    "# allplchs = np.arange(0,30)\n",
    "allplchs = np.array([0, 6, 11, 20, 26])"
   ]
  },
  {
   "cell_type": "code",
   "execution_count": 43,
   "metadata": {
    "Collapsed": "false"
   },
   "outputs": [],
   "source": [
    "window_starts = np.array([40., 1399., 2848.]) # times of interest in seconds\n",
    "pl_win_len = 1. # window length in seconds\n",
    "\n",
    "sep = 500\n",
    "xtime = np.linspace(0, 2, int(pl_win_len*exp.sample_rate))"
   ]
  },
  {
   "cell_type": "code",
   "execution_count": 44,
   "metadata": {
    "Collapsed": "false"
   },
   "outputs": [
    {
     "data": {
      "application/vnd.jupyter.widget-view+json": {
       "model_id": "e3a929fd14f7467ea2aea4a18ae0e258",
       "version_major": 2,
       "version_minor": 0
      },
      "text/plain": [
       "Canvas(toolbar=Toolbar(toolitems=[('Home', 'Reset original view', 'home', 'home'), ('Back', 'Back to previous …"
      ]
     },
     "metadata": {},
     "output_type": "display_data"
    },
    {
     "data": {
      "text/plain": [
       "Text(0.5, 0, 'Time (s)')"
      ]
     },
     "execution_count": 44,
     "metadata": {},
     "output_type": "execute_result"
    }
   ],
   "source": [
    "fig, axs = plt.subplots(1, len(window_starts), sharex=True, sharey=True, figsize=(10,6))\n",
    "\n",
    "for i, winstart in enumerate(window_starts):\n",
    "    aind = int(winstart*exp.sample_rate)\n",
    "    bind = aind + int(pl_win_len*exp.sample_rate)\n",
    "    \n",
    "    for k, plch in enumerate(allplchs):\n",
    "        \n",
    "#         axs[i].plot(xtime, smooth(EEGdata[aind:bind,plch])*exp.bitVolts + sep*k)\n",
    "        axs[i].plot(xtime, EEGdata[aind:bind,plch]*exp.bits_to_uvolts + sep*k)\n",
    "        \n",
    "    axs[i].set_xlim((0, pl_win_len))\n",
    "    axs[i].set_ylim((-sep+50, sep*(k+1)+50))\n",
    "    \n",
    "axs[0].set_yticks(np.arange(0, sep*len(allplchs), sep))\n",
    "axs[0].set_yticklabels(allplchs)\n",
    "axs[0].set_ylabel('EEG electrode')\n",
    "axs[0].set_title('Awake')\n",
    "axs[0].set_xlabel('Time (s)')\n",
    "\n",
    "axs[1].tick_params(axis='y', labelleft=False)\n",
    "plt.setp(axs[1].spines.values(), color='r')\n",
    "plt.setp([axs[1].get_xticklines(), axs[1].get_yticklines()], color='r')\n",
    "axs[1].set_title('Anesthetized')\n",
    "axs[1].set_xlabel('Time (s)')\n",
    "\n",
    "axs[2].tick_params(axis='y', labelleft=False)\n",
    "axs[2].set_title('Recovery')\n",
    "axs[2].set_xlabel('Time (s)')"
   ]
  },
  {
   "cell_type": "code",
   "execution_count": null,
   "metadata": {
    "Collapsed": "false"
   },
   "outputs": [],
   "source": []
  }
 ],
 "metadata": {
  "kernelspec": {
   "display_name": "zapnzip",
   "language": "python",
   "name": "zapnzip"
  },
  "language_info": {
   "codemirror_mode": {
    "name": "ipython",
    "version": 3
   },
   "file_extension": ".py",
   "mimetype": "text/x-python",
   "name": "python",
   "nbconvert_exporter": "python",
   "pygments_lexer": "ipython3",
   "version": "3.7.4"
  },
  "widgets": {
   "application/vnd.jupyter.widget-state+json": {
    "state": {},
    "version_major": 2,
    "version_minor": 0
   }
  }
 },
 "nbformat": 4,
 "nbformat_minor": 4
}
