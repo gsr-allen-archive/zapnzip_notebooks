{
 "cells": [
  {
   "cell_type": "code",
   "execution_count": 1,
   "metadata": {
    "execution": {
     "iopub.execute_input": "2021-08-26T04:33:38.686912Z",
     "iopub.status.busy": "2021-08-26T04:33:38.686114Z",
     "iopub.status.idle": "2021-08-26T04:33:39.870037Z",
     "shell.execute_reply": "2021-08-26T04:33:39.869139Z",
     "shell.execute_reply.started": "2021-08-26T04:33:38.686804Z"
    },
    "tags": []
   },
   "outputs": [],
   "source": [
    "%load_ext autoreload\n",
    "%autoreload 2\n",
    "\n",
    "# from glob import glob\n",
    "# import json\n",
    "# import pickle\n",
    "from os import path\n",
    "import itertools\n",
    "import json\n",
    "\n",
    "import numpy as np\n",
    "import pandas as pd\n",
    "import scipy as sp\n",
    "from scipy.cluster.hierarchy import dendrogram, linkage\n",
    "from sklearn.metrics import pairwise_distances\n",
    "from sklearn.cluster import AgglomerativeClustering\n",
    "import matplotlib.pyplot as plt\n",
    "from matplotlib import cm\n",
    "import matplotlib as mpl\n",
    "from tqdm.auto import tqdm\n",
    "# import pandarallel\n",
    "from IPython.utils.capture import capture_output\n",
    "with capture_output():\n",
    "    tqdm.pandas()\n",
    "#     pandarallel.pandarallel.initialize(progress_bar=True)\n",
    "\n",
    "import elephant\n",
    "from neo.core import AnalogSignal\n",
    "import quantities as pq\n",
    "\n",
    "from tbd_eeg.data_analysis.eegutils import EEGexp\n",
    "from tbd_eeg.data_analysis.Utilities.utilities import get_stim_events, find_nearest_ind\n",
    "\n",
    "from ipympl.backend_nbagg import Canvas\n",
    "Canvas.header_visible.default_value = False\n",
    "%matplotlib widget"
   ]
  },
  {
   "cell_type": "code",
   "execution_count": 2,
   "metadata": {
    "execution": {
     "iopub.execute_input": "2021-08-26T04:33:39.871391Z",
     "iopub.status.busy": "2021-08-26T04:33:39.871135Z",
     "iopub.status.idle": "2021-08-26T04:33:39.919758Z",
     "shell.execute_reply": "2021-08-26T04:33:39.919209Z",
     "shell.execute_reply.started": "2021-08-26T04:33:39.871354Z"
    },
    "tags": []
   },
   "outputs": [],
   "source": [
    "aois = ['ORBvl', 'ACAd', 'MOs', 'ACAv', 'ILA', 'ORBm', 'PL', 'ORBl', 'VISp', 'VL',\n",
    "        'RSPv', 'RSPagl', 'MOp', 'RSPd', 'CLA', 'PFC', 'SSp-tr', 'SSp-ll', 'VISrl',# 'CA',\n",
    "        'LD', 'PO', 'VPM', 'LGd-sh', 'MGv', 'MGm', 'TH', 'ZI', 'VPL', 'RT', 'SSp-bfd']\n",
    "lois = ['2', '3', '1', '2/3', '4', '5', '6a', '6b']\n",
    "alois = aois + sum([[x+l for x in aois] for l in lois], [])\n",
    "area_cmaps = {\n",
    "    'ACAd':cm.Reds, 'ACAv':cm.Oranges, 'RSPd':cm.Blues, 'RSPv':cm.Purples, 'RSPagl':cm.PuBu, 'ILA':cm.Greens, 'CLA':cm.RdPu,\n",
    "    'MOs':cm.Greens, 'MOp':cm.copper, 'ORBvl':cm.Reds, 'ORBm':cm.Purples, 'ORBl':cm.RdPu, 'PL':cm.Blues, 'PFC':cm.YlOrBr,\n",
    "    'SSp-tr':cm.Reds, 'SSp-ll':cm.Blues, 'CA':cm.YlGn, 'LD':cm.Greens, 'PO':cm.Purples, 'VPM':cm.Oranges, 'VISp':cm.Greens, 'LGd-sh':cm.Blues\n",
    "}\n",
    "aloi_colors = {f'{a}{l}':area_cmaps.get(a, cm.Greys)(lois.index(l)/len(lois)) for a in aois for l in lois}\n",
    "aloi_colors.update({a:area_cmaps.get(a, cm.Greys)(0.999) for a in aois})"
   ]
  },
  {
   "cell_type": "code",
   "execution_count": 3,
   "metadata": {
    "execution": {
     "iopub.execute_input": "2021-08-26T04:33:39.920919Z",
     "iopub.status.busy": "2021-08-26T04:33:39.920690Z",
     "iopub.status.idle": "2021-08-26T04:33:39.942078Z",
     "shell.execute_reply": "2021-08-26T04:33:39.941462Z",
     "shell.execute_reply.started": "2021-08-26T04:33:39.920850Z"
    },
    "tags": []
   },
   "outputs": [],
   "source": [
    "def get_stim_events_multiple(stim_log, stim_types=None, stim_params=None, sweeps=None):\n",
    "    if stim_types is None:\n",
    "        stim_types = stim_log.stim_type.unique()\n",
    "    if stim_params is None:\n",
    "        stim_params = stim_log[stim_log.stim_type.isin(stim_types)].parameter.unique()\n",
    "    if sweeps is None:\n",
    "        sweeps = stim_log.sweep.unique()\n",
    "    return stim_log.onset[\n",
    "        stim_log.stim_type.isin(stim_types)\n",
    "        & stim_log.parameter.isin(stim_params)\n",
    "        & stim_log.sweep.isin(sweeps)\n",
    "    ].rename('event_times')\n",
    "\n",
    "def separate_running_sweeps(exp, sweeps=None, stim_amps=None, limit=100):\n",
    "    stim_log = pd.read_csv(exp.stimulus_log_file)\n",
    "    stim_log.rename_axis(index='stim_id', inplace=True)\n",
    "\n",
    "    event_times = get_stim_events_multiple(stim_log, ['biphasic'], stim_amps, sweeps)\n",
    "\n",
    "    running_speed = exp.load_running('pd')\n",
    "\n",
    "    events = pd.Series(index=event_times, data=range(len(event_times)), name='event_id')\n",
    "    events = events.reindex(running_speed.index, method='nearest', limit=limit).fillna(-1)\n",
    "    running_speed = running_speed.to_frame().join(events)\n",
    "\n",
    "    running_speed_by_event = running_speed.groupby('event_id').mean()[1:]\n",
    "#     display(running_speed_by_event)\n",
    "\n",
    "#     display(stim_log.groupby(['parameter', 'sweep']).size())\n",
    "    stim_log.loc[\n",
    "        running_speed_by_event[running_speed_by_event>0].dropna().index,\n",
    "        'sweep'\n",
    "    ] = stim_log.loc[\n",
    "        running_speed_by_event[running_speed_by_event>0].dropna().index,\n",
    "        'sweep'\n",
    "    ] + 10\n",
    "    display(stim_log.groupby(['parameter', 'sweep']).size())\n",
    "    return stim_log"
   ]
  },
  {
   "cell_type": "code",
   "execution_count": 4,
   "metadata": {
    "execution": {
     "iopub.execute_input": "2021-08-26T04:33:39.943088Z",
     "iopub.status.busy": "2021-08-26T04:33:39.942812Z",
     "iopub.status.idle": "2021-08-26T04:33:41.508640Z",
     "shell.execute_reply": "2021-08-26T04:33:41.506810Z",
     "shell.execute_reply.started": "2021-08-26T04:33:39.943060Z"
    },
    "tags": []
   },
   "outputs": [],
   "source": [
    "# accessing the Google sheet with experiment metadata in python\n",
    "# setting up the permissions:\n",
    "# 1. install gspread (pip install gspread / conda install gspread)\n",
    "# 2. copy the service_account.json file to '~/.config/gspread/service_account.json'\n",
    "# 3. run the following:\n",
    "import gspread\n",
    "_gc = gspread.service_account() # need a key file to access the account (step 2)\n",
    "_sh = _gc.open('Zap_Zip-log_exp') # open the spreadsheet\n",
    "_df = pd.DataFrame(_sh.sheet1.get()) # load the first worksheet\n",
    "gmetadata = _df.T.set_index(0).T # put it in a nicely formatted dataframe"
   ]
  },
  {
   "cell_type": "code",
   "execution_count": 5,
   "metadata": {
    "execution": {
     "iopub.execute_input": "2021-08-26T04:33:41.511079Z",
     "iopub.status.busy": "2021-08-26T04:33:41.510642Z",
     "iopub.status.idle": "2021-08-26T04:33:41.559831Z",
     "shell.execute_reply": "2021-08-26T04:33:41.559303Z",
     "shell.execute_reply.started": "2021-08-26T04:33:41.511018Z"
    },
    "tags": []
   },
   "outputs": [
    {
     "data": {
      "text/html": [
       "<div>\n",
       "<style scoped>\n",
       "    .dataframe tbody tr th:only-of-type {\n",
       "        vertical-align: middle;\n",
       "    }\n",
       "\n",
       "    .dataframe tbody tr th {\n",
       "        vertical-align: top;\n",
       "    }\n",
       "\n",
       "    .dataframe thead th {\n",
       "        text-align: right;\n",
       "    }\n",
       "</style>\n",
       "<table border=\"1\" class=\"dataframe\">\n",
       "  <thead>\n",
       "    <tr style=\"text-align: right;\">\n",
       "      <th></th>\n",
       "      <th>mouse_name</th>\n",
       "      <th>exp_name</th>\n",
       "      <th>brain states</th>\n",
       "      <th>stimulation</th>\n",
       "      <th>visual_stim</th>\n",
       "      <th>audio_stim</th>\n",
       "      <th>ISI (sec)</th>\n",
       "      <th>stimulus duration (msec)</th>\n",
       "      <th>Current (uA)</th>\n",
       "      <th>Cortical Area stimulation</th>\n",
       "      <th>N trials per stimulus</th>\n",
       "      <th>EEG bad_channels</th>\n",
       "      <th>Npx</th>\n",
       "      <th>Units Sorted (X)</th>\n",
       "      <th>Brain slices (X)</th>\n",
       "      <th>Pupil tracking pre-processing</th>\n",
       "      <th>Brain areas assignment</th>\n",
       "      <th>CCF coordinates stim electrode (surface,tip)</th>\n",
       "      <th>CCF area stim electrode (surface,tip)</th>\n",
       "      <th>Notes</th>\n",
       "    </tr>\n",
       "  </thead>\n",
       "  <tbody>\n",
       "    <tr>\n",
       "      <th>25</th>\n",
       "      <td>mouse551400</td>\n",
       "      <td>estim_vis_2021-01-22_11-07-12</td>\n",
       "      <td>awake/ISO/recovery/recovery</td>\n",
       "      <td>electrical/sensory</td>\n",
       "      <td>white</td>\n",
       "      <td>N/A</td>\n",
       "      <td>[3.5 4.5]</td>\n",
       "      <td>0.2/250</td>\n",
       "      <td>30/50/70</td>\n",
       "      <td>M2</td>\n",
       "      <td>120/100</td>\n",
       "      <td>0,1,2,3,4,5,6,7,8,9,10,11,12,13,14,15,16,17,18...</td>\n",
       "      <td>F,B,D</td>\n",
       "      <td>X</td>\n",
       "      <td>X</td>\n",
       "      <td></td>\n",
       "      <td>X</td>\n",
       "      <td>[ 390,121,439], [ 419,267,442]</td>\n",
       "      <td>MOs1, MOs6a</td>\n",
       "      <td>NO visual stim during the 2nd Recovery. The EE...</td>\n",
       "    </tr>\n",
       "    <tr>\n",
       "      <th>28</th>\n",
       "      <td>mouse569062</td>\n",
       "      <td>estim_vis_2021-02-18_11-17-51</td>\n",
       "      <td>awake/ISO/recovery</td>\n",
       "      <td>electrical/sensory</td>\n",
       "      <td>white</td>\n",
       "      <td>N/A</td>\n",
       "      <td>[3.5 4.5]</td>\n",
       "      <td>0.2/250</td>\n",
       "      <td>15/35/60</td>\n",
       "      <td>M2</td>\n",
       "      <td>120</td>\n",
       "      <td>6,13</td>\n",
       "      <td>F,B,D</td>\n",
       "      <td>X</td>\n",
       "      <td>X</td>\n",
       "      <td></td>\n",
       "      <td>X</td>\n",
       "      <td>[370,146,387], [ 428,300,434]</td>\n",
       "      <td>MOs1, ccg</td>\n",
       "      <td>ISO kept ~1%. White circles for the vis stim. ...</td>\n",
       "    </tr>\n",
       "    <tr>\n",
       "      <th>29</th>\n",
       "      <td>mouse569068</td>\n",
       "      <td>estim_vis_2021-03-04_10-51-38</td>\n",
       "      <td>awake/ISO/recovery/recovery</td>\n",
       "      <td>electrical/sensory</td>\n",
       "      <td>white</td>\n",
       "      <td>N/A</td>\n",
       "      <td>[3.5 4.5]</td>\n",
       "      <td>0.2/250</td>\n",
       "      <td>10/20/40</td>\n",
       "      <td>M2</td>\n",
       "      <td>120</td>\n",
       "      <td></td>\n",
       "      <td>F,B,D</td>\n",
       "      <td>X</td>\n",
       "      <td>X</td>\n",
       "      <td></td>\n",
       "      <td>X</td>\n",
       "      <td>[383,136,400], [446,289,442]</td>\n",
       "      <td>MOs1, ccg</td>\n",
       "      <td>ISO kept ~1%. White circles for the vis stim. ...</td>\n",
       "    </tr>\n",
       "    <tr>\n",
       "      <th>30</th>\n",
       "      <td>mouse569069</td>\n",
       "      <td>estim_vis1_2021-03-11_11-02-08</td>\n",
       "      <td>awake/awake/awake/awake</td>\n",
       "      <td>electrical/sensory</td>\n",
       "      <td>white</td>\n",
       "      <td>N/A</td>\n",
       "      <td>[3.5 4.5]</td>\n",
       "      <td>0.2/250</td>\n",
       "      <td>50/60/80</td>\n",
       "      <td>M2</td>\n",
       "      <td>120</td>\n",
       "      <td>7,8,9,10,11,12,13,14</td>\n",
       "      <td>F,B,C</td>\n",
       "      <td>X</td>\n",
       "      <td>X</td>\n",
       "      <td></td>\n",
       "      <td>X</td>\n",
       "      <td>[293,156,456],  [331,266,505]</td>\n",
       "      <td>MOs1,PL5</td>\n",
       "      <td>control exp in awake. Something happen to the ...</td>\n",
       "    </tr>\n",
       "    <tr>\n",
       "      <th>31</th>\n",
       "      <td>mouse569069</td>\n",
       "      <td>estim_vis2_2021-03-12_10-52-44</td>\n",
       "      <td>awake/ISO/recovery/recovery</td>\n",
       "      <td>electrical/sensory</td>\n",
       "      <td>white</td>\n",
       "      <td>N/A</td>\n",
       "      <td>[3.5 4.5]</td>\n",
       "      <td>0.2/250</td>\n",
       "      <td>20/40/70</td>\n",
       "      <td>M2</td>\n",
       "      <td>120</td>\n",
       "      <td></td>\n",
       "      <td>F,B,C</td>\n",
       "      <td>X</td>\n",
       "      <td>X</td>\n",
       "      <td></td>\n",
       "      <td>X</td>\n",
       "      <td>[293,156,456],  [331,266,505]</td>\n",
       "      <td>MOs1,PL5</td>\n",
       "      <td>ISO kept ~1%.</td>\n",
       "    </tr>\n",
       "    <tr>\n",
       "      <th>32</th>\n",
       "      <td>mouse571619</td>\n",
       "      <td>estim1_2021-03-18_11-41-26</td>\n",
       "      <td>awake/ISO</td>\n",
       "      <td>electrical</td>\n",
       "      <td>N/A</td>\n",
       "      <td>N/A</td>\n",
       "      <td>[3.5 4.5]</td>\n",
       "      <td>0.2</td>\n",
       "      <td>20/30/40</td>\n",
       "      <td>SS-cortex</td>\n",
       "      <td>120</td>\n",
       "      <td>2,3,4</td>\n",
       "      <td>F,B,C</td>\n",
       "      <td>X</td>\n",
       "      <td>X</td>\n",
       "      <td></td>\n",
       "      <td>X</td>\n",
       "      <td>[642,45,404], [649,238,431]</td>\n",
       "      <td>SSp-tr1, CA3</td>\n",
       "      <td>all EEG channels very noisy. ISO kept ~1%.</td>\n",
       "    </tr>\n",
       "    <tr>\n",
       "      <th>33</th>\n",
       "      <td>mouse571619</td>\n",
       "      <td>estim2_2021-03-19_10-09-01</td>\n",
       "      <td>awake500/awake1200/ISO1200/ISO500</td>\n",
       "      <td>electrical</td>\n",
       "      <td>N/A</td>\n",
       "      <td>N/A</td>\n",
       "      <td>[3.5 4.5]</td>\n",
       "      <td>0.2</td>\n",
       "      <td>20/40/60</td>\n",
       "      <td>M2-frontal (2 depths)</td>\n",
       "      <td>120</td>\n",
       "      <td>2,3,4,5,13</td>\n",
       "      <td>F,B,C</td>\n",
       "      <td>X</td>\n",
       "      <td>X</td>\n",
       "      <td></td>\n",
       "      <td>X</td>\n",
       "      <td>[273,172,431],[286,314,462]</td>\n",
       "      <td>MOs1, ORBvl6a</td>\n",
       "      <td>2 different depths for the stim electrode in b...</td>\n",
       "    </tr>\n",
       "    <tr>\n",
       "      <th>36</th>\n",
       "      <td>mouse569064</td>\n",
       "      <td>estim_vis_2021-04-08_10-28-24</td>\n",
       "      <td>awake/ISO/recovery/recovery</td>\n",
       "      <td>electrical/sensory</td>\n",
       "      <td>white</td>\n",
       "      <td>N/A</td>\n",
       "      <td>[3.5 4.5]</td>\n",
       "      <td>0.2/250</td>\n",
       "      <td>15/40/60</td>\n",
       "      <td>M2</td>\n",
       "      <td>120</td>\n",
       "      <td></td>\n",
       "      <td>F,B,C</td>\n",
       "      <td>X</td>\n",
       "      <td>X</td>\n",
       "      <td></td>\n",
       "      <td>X</td>\n",
       "      <td>[369,134,419], [415,272,461]</td>\n",
       "      <td>MOs1, cing</td>\n",
       "      <td>ISO kept ~1%. White circles for the vis stim. ...</td>\n",
       "    </tr>\n",
       "    <tr>\n",
       "      <th>37</th>\n",
       "      <td>mouse569073</td>\n",
       "      <td>estim_vis_2021-04-15_10-27-22</td>\n",
       "      <td>awake/ISO/recovery/recovery</td>\n",
       "      <td>electrical/sensory</td>\n",
       "      <td>white</td>\n",
       "      <td>N/A</td>\n",
       "      <td>[3.5 4.5]</td>\n",
       "      <td>0.2/250</td>\n",
       "      <td>20/40/70</td>\n",
       "      <td>M2</td>\n",
       "      <td>120</td>\n",
       "      <td>3,4,13</td>\n",
       "      <td>F,B,C</td>\n",
       "      <td>X</td>\n",
       "      <td>X</td>\n",
       "      <td></td>\n",
       "      <td>X</td>\n",
       "      <td>[430,113,421],[437,258,440]</td>\n",
       "      <td>MOp1,MOs6a</td>\n",
       "      <td>ISO kept ~1%. White circles for the vis stim. ...</td>\n",
       "    </tr>\n",
       "    <tr>\n",
       "      <th>38</th>\n",
       "      <td>mouse569073</td>\n",
       "      <td>estim_2021-04-16_10-42-44</td>\n",
       "      <td>awake/ISO</td>\n",
       "      <td>electrical</td>\n",
       "      <td>N/A</td>\n",
       "      <td>N/A</td>\n",
       "      <td>[3.5 4.5]</td>\n",
       "      <td>0.2</td>\n",
       "      <td>60/80/100</td>\n",
       "      <td>SS-cortex</td>\n",
       "      <td>120</td>\n",
       "      <td>13,11,10,9,8,7,6,5,4,3,1,0</td>\n",
       "      <td>F,B,C</td>\n",
       "      <td>X</td>\n",
       "      <td>X</td>\n",
       "      <td></td>\n",
       "      <td>X</td>\n",
       "      <td>not visible</td>\n",
       "      <td>not visible</td>\n",
       "      <td>Control Exp. ISO kept ~1%. White circles for t...</td>\n",
       "    </tr>\n",
       "    <tr>\n",
       "      <th>39</th>\n",
       "      <td>mouse569072</td>\n",
       "      <td>estim_vis_2021-04-22_10-26-58</td>\n",
       "      <td>awake/ISO</td>\n",
       "      <td>electrical/sensory</td>\n",
       "      <td>white</td>\n",
       "      <td>N/A</td>\n",
       "      <td>[3.5 4.5]</td>\n",
       "      <td>0.2/250</td>\n",
       "      <td>30/50/70</td>\n",
       "      <td>SS-cortex</td>\n",
       "      <td>120</td>\n",
       "      <td>3,4,5,7,8,9,10,11,13</td>\n",
       "      <td>F,B,C</td>\n",
       "      <td>X</td>\n",
       "      <td>X</td>\n",
       "      <td></td>\n",
       "      <td>X</td>\n",
       "      <td>not visible</td>\n",
       "      <td>not visible</td>\n",
       "      <td>ISO kept ~1%.  EEG filter at 0.1Hz. EEG has hi...</td>\n",
       "    </tr>\n",
       "    <tr>\n",
       "      <th>40</th>\n",
       "      <td>mouse571618</td>\n",
       "      <td>estim1_2021-04-29_12-28-54</td>\n",
       "      <td>awake/ISO</td>\n",
       "      <td>electrical</td>\n",
       "      <td>N/A</td>\n",
       "      <td>N/A</td>\n",
       "      <td>[3.5 4.5]</td>\n",
       "      <td>0.2</td>\n",
       "      <td>40/70/90</td>\n",
       "      <td>M2 (more superficial)</td>\n",
       "      <td>120</td>\n",
       "      <td>0,1,2,3,4,5,6,7,8,9,10,11,12,13,14,16,19</td>\n",
       "      <td>F,B,C</td>\n",
       "      <td>X</td>\n",
       "      <td>X</td>\n",
       "      <td></td>\n",
       "      <td>X</td>\n",
       "      <td>[415,112,441], [436,163,443]</td>\n",
       "      <td>MOs1, MOs5</td>\n",
       "      <td>ISO kept ~1%.  EEG filter at 0.1Hz.</td>\n",
       "    </tr>\n",
       "    <tr>\n",
       "      <th>41</th>\n",
       "      <td>mouse571620</td>\n",
       "      <td>estim_vis_2021-05-13_11-33-47</td>\n",
       "      <td>awake500/awake900/ISO900/ISO500</td>\n",
       "      <td>electrical/sensory</td>\n",
       "      <td>white</td>\n",
       "      <td>N/A</td>\n",
       "      <td>[3.5 4.5]</td>\n",
       "      <td>0.2/250</td>\n",
       "      <td>60/80/100</td>\n",
       "      <td>SS-cortex (2 depths)</td>\n",
       "      <td>120</td>\n",
       "      <td>0,1,2,3,4,5,6,7,8,9,10,13,14</td>\n",
       "      <td>F,B,C</td>\n",
       "      <td>X</td>\n",
       "      <td>X</td>\n",
       "      <td></td>\n",
       "      <td>X</td>\n",
       "      <td>[674,41,398], [663,136,420]</td>\n",
       "      <td>SSp-tr1, SSp-tr6a</td>\n",
       "      <td>ISO kept ~1%.  EEG filter at 0.1Hz. visual sti...</td>\n",
       "    </tr>\n",
       "    <tr>\n",
       "      <th>42</th>\n",
       "      <td>mouse575102</td>\n",
       "      <td>estim_vis_2021-06-03_11-25-01</td>\n",
       "      <td>awake/ISO/recovery/recovery</td>\n",
       "      <td>electrical/sensory</td>\n",
       "      <td>white</td>\n",
       "      <td>N/A</td>\n",
       "      <td>[3.5 4.5]</td>\n",
       "      <td>0.2/250</td>\n",
       "      <td>50/70/90</td>\n",
       "      <td>M2 (more superficial)</td>\n",
       "      <td>120</td>\n",
       "      <td>0,6,7,11</td>\n",
       "      <td>F,B,C</td>\n",
       "      <td>X</td>\n",
       "      <td>X</td>\n",
       "      <td></td>\n",
       "      <td>X</td>\n",
       "      <td>[444,111,417], [434,176,434]</td>\n",
       "      <td>MOp1, MOs5</td>\n",
       "      <td>ISO kept ~1%.  EEG filter at 0.1Hz. the visual...</td>\n",
       "    </tr>\n",
       "    <tr>\n",
       "      <th>43</th>\n",
       "      <td>mouse575100</td>\n",
       "      <td>estim_vis_2021-06-10_11-39-06</td>\n",
       "      <td>awake/ISO</td>\n",
       "      <td>electrical/sensory</td>\n",
       "      <td>white</td>\n",
       "      <td>N/A</td>\n",
       "      <td>[3.5 4.5]</td>\n",
       "      <td>0.2/250</td>\n",
       "      <td>20/40/60</td>\n",
       "      <td>M2 (more superficial)</td>\n",
       "      <td>120</td>\n",
       "      <td>0,3,4,11,12,13,14,15,16,17,18</td>\n",
       "      <td>F,B,C</td>\n",
       "      <td>X</td>\n",
       "      <td>X</td>\n",
       "      <td></td>\n",
       "      <td>X</td>\n",
       "      <td>not visible</td>\n",
       "      <td>not visible</td>\n",
       "      <td>ISO kept ~1%.  EEG filter at 0.1Hz. stim elect...</td>\n",
       "    </tr>\n",
       "  </tbody>\n",
       "</table>\n",
       "</div>"
      ],
      "text/plain": [
       "0    mouse_name                        exp_name  \\\n",
       "25  mouse551400   estim_vis_2021-01-22_11-07-12   \n",
       "28  mouse569062   estim_vis_2021-02-18_11-17-51   \n",
       "29  mouse569068   estim_vis_2021-03-04_10-51-38   \n",
       "30  mouse569069  estim_vis1_2021-03-11_11-02-08   \n",
       "31  mouse569069  estim_vis2_2021-03-12_10-52-44   \n",
       "32  mouse571619      estim1_2021-03-18_11-41-26   \n",
       "33  mouse571619      estim2_2021-03-19_10-09-01   \n",
       "36  mouse569064   estim_vis_2021-04-08_10-28-24   \n",
       "37  mouse569073   estim_vis_2021-04-15_10-27-22   \n",
       "38  mouse569073       estim_2021-04-16_10-42-44   \n",
       "39  mouse569072   estim_vis_2021-04-22_10-26-58   \n",
       "40  mouse571618      estim1_2021-04-29_12-28-54   \n",
       "41  mouse571620   estim_vis_2021-05-13_11-33-47   \n",
       "42  mouse575102   estim_vis_2021-06-03_11-25-01   \n",
       "43  mouse575100   estim_vis_2021-06-10_11-39-06   \n",
       "\n",
       "0                        brain states         stimulation visual_stim  \\\n",
       "25        awake/ISO/recovery/recovery  electrical/sensory       white   \n",
       "28                 awake/ISO/recovery  electrical/sensory       white   \n",
       "29        awake/ISO/recovery/recovery  electrical/sensory       white   \n",
       "30            awake/awake/awake/awake  electrical/sensory       white   \n",
       "31        awake/ISO/recovery/recovery  electrical/sensory       white   \n",
       "32                          awake/ISO          electrical         N/A   \n",
       "33  awake500/awake1200/ISO1200/ISO500          electrical         N/A   \n",
       "36        awake/ISO/recovery/recovery  electrical/sensory       white   \n",
       "37        awake/ISO/recovery/recovery  electrical/sensory       white   \n",
       "38                          awake/ISO          electrical         N/A   \n",
       "39                          awake/ISO  electrical/sensory       white   \n",
       "40                          awake/ISO          electrical         N/A   \n",
       "41    awake500/awake900/ISO900/ISO500  electrical/sensory       white   \n",
       "42        awake/ISO/recovery/recovery  electrical/sensory       white   \n",
       "43                          awake/ISO  electrical/sensory       white   \n",
       "\n",
       "0  audio_stim  ISI (sec) stimulus duration (msec) Current (uA)  \\\n",
       "25        N/A  [3.5 4.5]                  0.2/250     30/50/70   \n",
       "28        N/A  [3.5 4.5]                  0.2/250     15/35/60   \n",
       "29        N/A  [3.5 4.5]                  0.2/250     10/20/40   \n",
       "30        N/A  [3.5 4.5]                  0.2/250     50/60/80   \n",
       "31        N/A  [3.5 4.5]                  0.2/250     20/40/70   \n",
       "32        N/A  [3.5 4.5]                      0.2     20/30/40   \n",
       "33        N/A  [3.5 4.5]                      0.2     20/40/60   \n",
       "36        N/A  [3.5 4.5]                  0.2/250     15/40/60   \n",
       "37        N/A  [3.5 4.5]                  0.2/250     20/40/70   \n",
       "38        N/A  [3.5 4.5]                      0.2    60/80/100   \n",
       "39        N/A  [3.5 4.5]                  0.2/250     30/50/70   \n",
       "40        N/A  [3.5 4.5]                      0.2     40/70/90   \n",
       "41        N/A  [3.5 4.5]                  0.2/250    60/80/100   \n",
       "42        N/A  [3.5 4.5]                  0.2/250     50/70/90   \n",
       "43        N/A  [3.5 4.5]                  0.2/250     20/40/60   \n",
       "\n",
       "0  Cortical Area stimulation N trials per stimulus  \\\n",
       "25                        M2               120/100   \n",
       "28                        M2                   120   \n",
       "29                        M2                   120   \n",
       "30                        M2                   120   \n",
       "31                        M2                   120   \n",
       "32                 SS-cortex                   120   \n",
       "33     M2-frontal (2 depths)                   120   \n",
       "36                        M2                   120   \n",
       "37                        M2                   120   \n",
       "38                 SS-cortex                   120   \n",
       "39                 SS-cortex                   120   \n",
       "40     M2 (more superficial)                   120   \n",
       "41      SS-cortex (2 depths)                   120   \n",
       "42     M2 (more superficial)                   120   \n",
       "43     M2 (more superficial)                   120   \n",
       "\n",
       "0                                    EEG bad_channels    Npx Units Sorted (X)  \\\n",
       "25  0,1,2,3,4,5,6,7,8,9,10,11,12,13,14,15,16,17,18...  F,B,D                X   \n",
       "28                                               6,13  F,B,D                X   \n",
       "29                                                     F,B,D                X   \n",
       "30                               7,8,9,10,11,12,13,14  F,B,C                X   \n",
       "31                                                     F,B,C                X   \n",
       "32                                              2,3,4  F,B,C                X   \n",
       "33                                         2,3,4,5,13  F,B,C                X   \n",
       "36                                                     F,B,C                X   \n",
       "37                                             3,4,13  F,B,C                X   \n",
       "38                         13,11,10,9,8,7,6,5,4,3,1,0  F,B,C                X   \n",
       "39                               3,4,5,7,8,9,10,11,13  F,B,C                X   \n",
       "40           0,1,2,3,4,5,6,7,8,9,10,11,12,13,14,16,19  F,B,C                X   \n",
       "41                       0,1,2,3,4,5,6,7,8,9,10,13,14  F,B,C                X   \n",
       "42                                           0,6,7,11  F,B,C                X   \n",
       "43                      0,3,4,11,12,13,14,15,16,17,18  F,B,C                X   \n",
       "\n",
       "0  Brain slices (X) Pupil tracking pre-processing Brain areas assignment  \\\n",
       "25                X                                                    X   \n",
       "28                X                                                    X   \n",
       "29                X                                                    X   \n",
       "30                X                                                    X   \n",
       "31                X                                                    X   \n",
       "32                X                                                    X   \n",
       "33                X                                                    X   \n",
       "36                X                                                    X   \n",
       "37                X                                                    X   \n",
       "38                X                                                    X   \n",
       "39                X                                                    X   \n",
       "40                X                                                    X   \n",
       "41                X                                                    X   \n",
       "42                X                                                    X   \n",
       "43                X                                                    X   \n",
       "\n",
       "0  CCF coordinates stim electrode (surface,tip)  \\\n",
       "25               [ 390,121,439], [ 419,267,442]   \n",
       "28                [370,146,387], [ 428,300,434]   \n",
       "29                 [383,136,400], [446,289,442]   \n",
       "30                [293,156,456],  [331,266,505]   \n",
       "31                [293,156,456],  [331,266,505]   \n",
       "32                  [642,45,404], [649,238,431]   \n",
       "33                  [273,172,431],[286,314,462]   \n",
       "36                 [369,134,419], [415,272,461]   \n",
       "37                  [430,113,421],[437,258,440]   \n",
       "38                                  not visible   \n",
       "39                                  not visible   \n",
       "40                 [415,112,441], [436,163,443]   \n",
       "41                  [674,41,398], [663,136,420]   \n",
       "42                 [444,111,417], [434,176,434]   \n",
       "43                                  not visible   \n",
       "\n",
       "0  CCF area stim electrode (surface,tip)  \\\n",
       "25                           MOs1, MOs6a   \n",
       "28                             MOs1, ccg   \n",
       "29                             MOs1, ccg   \n",
       "30                              MOs1,PL5   \n",
       "31                              MOs1,PL5   \n",
       "32                          SSp-tr1, CA3   \n",
       "33                         MOs1, ORBvl6a   \n",
       "36                            MOs1, cing   \n",
       "37                            MOp1,MOs6a   \n",
       "38                           not visible   \n",
       "39                           not visible   \n",
       "40                            MOs1, MOs5   \n",
       "41                     SSp-tr1, SSp-tr6a   \n",
       "42                            MOp1, MOs5   \n",
       "43                           not visible   \n",
       "\n",
       "0                                               Notes  \n",
       "25  NO visual stim during the 2nd Recovery. The EE...  \n",
       "28  ISO kept ~1%. White circles for the vis stim. ...  \n",
       "29  ISO kept ~1%. White circles for the vis stim. ...  \n",
       "30  control exp in awake. Something happen to the ...  \n",
       "31                                     ISO kept ~1%.   \n",
       "32        all EEG channels very noisy. ISO kept ~1%.   \n",
       "33  2 different depths for the stim electrode in b...  \n",
       "36  ISO kept ~1%. White circles for the vis stim. ...  \n",
       "37  ISO kept ~1%. White circles for the vis stim. ...  \n",
       "38  Control Exp. ISO kept ~1%. White circles for t...  \n",
       "39  ISO kept ~1%.  EEG filter at 0.1Hz. EEG has hi...  \n",
       "40                ISO kept ~1%.  EEG filter at 0.1Hz.  \n",
       "41  ISO kept ~1%.  EEG filter at 0.1Hz. visual sti...  \n",
       "42  ISO kept ~1%.  EEG filter at 0.1Hz. the visual...  \n",
       "43  ISO kept ~1%.  EEG filter at 0.1Hz. stim elect...  "
      ]
     },
     "execution_count": 5,
     "metadata": {},
     "output_type": "execute_result"
    }
   ],
   "source": [
    "good_expt = gmetadata[(gmetadata['Units Sorted (X)'].isin(['X']))&(gmetadata['Brain areas assignment'].isin(['X']))&(gmetadata['Npx'].apply(lambda x: len(x.split(','))>2 if x is not None else False))]\n",
    "good_expt"
   ]
  },
  {
   "cell_type": "markdown",
   "metadata": {},
   "source": [
    "---\n",
    "phase shifting lfp signals to fix sampling artifact"
   ]
  },
  {
   "cell_type": "code",
   "execution_count": 6,
   "metadata": {
    "execution": {
     "iopub.execute_input": "2021-08-26T04:33:41.560825Z",
     "iopub.status.busy": "2021-08-26T04:33:41.560637Z",
     "iopub.status.idle": "2021-08-26T04:33:42.759991Z",
     "shell.execute_reply": "2021-08-26T04:33:42.759395Z",
     "shell.execute_reply.started": "2021-08-26T04:33:41.560797Z"
    },
    "tags": []
   },
   "outputs": [
    {
     "name": "stdout",
     "output_type": "stream",
     "text": [
      "Experiment type: electrical and sensory stimulation\n"
     ]
    }
   ],
   "source": [
    "mouse = 'mouse569062'\n",
    "expt = 'estim_vis_2021-02-18_11-17-51'\n",
    "probe = 'probeF'\n",
    "\n",
    "rec_folder = f'../tiny-blue-dot/zap-n-zip/EEG_exp/{mouse}/{expt}/experiment1/recording1/'\n",
    "exp = EEGexp(rec_folder, preprocess=False, make_stim_csv=False)\n",
    "samp_rate = exp.ephys_params[probe]['lfp_sample_rate']\n",
    "\n",
    "lfp = np.memmap(exp.ephys_params[probe]['lfp_continuous'], dtype='int16', mode='r')\n",
    "lfp = np.reshape(lfp, (int(lfp.size/exp.ephys_params[probe]['num_chs']), exp.ephys_params[probe]['num_chs']))\n",
    "\n",
    "timestamps = np.load(exp.ephys_params[probe]['lfp_timestamps'])"
   ]
  },
  {
   "cell_type": "code",
   "execution_count": 7,
   "metadata": {
    "execution": {
     "iopub.execute_input": "2021-08-26T04:33:42.761189Z",
     "iopub.status.busy": "2021-08-26T04:33:42.760976Z",
     "iopub.status.idle": "2021-08-26T04:33:42.788916Z",
     "shell.execute_reply": "2021-08-26T04:33:42.788143Z",
     "shell.execute_reply.started": "2021-08-26T04:33:42.761158Z"
    },
    "tags": []
   },
   "outputs": [],
   "source": [
    "def freduce(x, axis=None):\n",
    "    \"\"\"\n",
    "    Reduces a spectrum to positive frequencies only\n",
    "    Works on the last dimension (contiguous in c-stored array)\n",
    "    :param x: numpy.ndarray\n",
    "    :param axis: axis along which to perform reduction (last axis by default)\n",
    "    :return: numpy.ndarray\n",
    "    \"\"\"\n",
    "    if axis is None:\n",
    "        axis = x.ndim - 1\n",
    "    siz = list(x.shape)\n",
    "    siz[axis] = int(np.floor(siz[axis] / 2 + 1))\n",
    "    return np.take(x, np.arange(0, siz[axis]), axis=axis)\n",
    "\n",
    "\n",
    "def fexpand(x, ns=1, axis=None):\n",
    "    \"\"\"\n",
    "    Reconstructs full spectrum from positive frequencies\n",
    "    Works on the last dimension (contiguous in c-stored array)\n",
    "    :param x: numpy.ndarray\n",
    "    :param axis: axis along which to perform reduction (last axis by default)\n",
    "    :return: numpy.ndarray\n",
    "    \"\"\"\n",
    "    if axis is None:\n",
    "        axis = x.ndim - 1\n",
    "    # dec = int(ns % 2) * 2 - 1\n",
    "    # xcomp = np.conj(np.flip(x[..., 1:x.shape[-1] + dec], axis=axis))\n",
    "    ilast = int((ns + (ns % 2)) / 2)\n",
    "    xcomp = np.conj(np.flip(np.take(x, np.arange(1, ilast), axis=axis), axis=axis))\n",
    "    return np.concatenate((x, xcomp), axis=axis)\n",
    "\n",
    "def fshift(w, s, axis=-1):\n",
    "    \"\"\"\n",
    "    Shifts a 1D or 2D signal in frequency domain, to allow for accurate non-integer shifts\n",
    "    :param w: input signal\n",
    "    :param s: shift in samples, positive shifts forward\n",
    "    :param axis: axis along which to shift (last axis by default)\n",
    "    :return: w\n",
    "    \"\"\"\n",
    "    # create a vector that contains a 1 sample shift on the axis\n",
    "    ns = np.array(w.shape) * 0 + 1\n",
    "    ns[axis] = w.shape[axis]\n",
    "    dephas = np.zeros(ns)\n",
    "    np.put(dephas, 1, 1)\n",
    "    # fft the data along the axis and the dephas\n",
    "    W = freduce(sp.fft.fft(w, axis=axis), axis=axis)\n",
    "    dephas = freduce(sp.fft.fft(dephas, axis=axis), axis=axis)\n",
    "    # if multiple shifts, broadcast along the other dimensions, otherwise keep a single vector\n",
    "    if not np.isscalar(s):\n",
    "        s_shape = np.array(w.shape)\n",
    "        s_shape[axis] = 1\n",
    "        s = s.reshape(s_shape)\n",
    "    # apply the shift (s) to the fft angle to get the phase shift\n",
    "    dephas = np.exp(1j * np.angle(dephas) * s)\n",
    "    # apply phase shift by broadcasting\n",
    "    return np.array(np.real(sp.fft.ifft(fexpand(W * dephas, ns[axis], axis=axis), axis=axis)), dtype=w.dtype)\n",
    "\n",
    "# def get_nsampleshift(n_adc=32):\n",
    "#     n_channels = 384\n",
    "#     n_ch_per_adc = n_channels // n_adc\n",
    "#     return np.array(list(np.round(np.arange(n_ch_per_adc*2)/2-0.01)-n_ch_per_adc/2+0.5)*(n_adc//2))\n",
    "\n",
    "def apply_sample_time_correction(lfp, n_adc=32, n_channels=384, ofile=None):\n",
    "    n_ch_per_adc = n_channels // n_adc\n",
    "    lfp_corrected = np.zeros(lfp.shape, dtype=lfp.dtype)\n",
    "#     if ofile is not None:\n",
    "#         lfp_corrected = np.memmap(ofile, dtype=lfp.dtype, mode='w+', shape=lfp.shape)\n",
    "#     else:\n",
    "#         lfp_corrected = np.zeros(lfp.shape, dtype=lfp.dtype)\n",
    "\n",
    "    n_samples_shifted = (np.arange(n_ch_per_adc*2)/2-n_ch_per_adc/2+0.5)[::2] / n_ch_per_adc\n",
    "    for adc_ch in tqdm(range(0, n_ch_per_adc*2, 2)):\n",
    "        npx_ch = np.array(sorted(np.r_[np.arange(16)*2*n_ch_per_adc+adc_ch, np.arange(16)*2*n_ch_per_adc+adc_ch+1]))\n",
    "        lfp_corrected[:, npx_ch] = fshift(lfp[:, npx_ch], n_samples_shifted[adc_ch//2], axis=0)\n",
    "    if ofile is not None:\n",
    "        _lfp_corrected = np.memmap(ofile, dtype=lfp.dtype, mode='w+', shape=lfp.shape)\n",
    "        _lfp_corrected[:] = lfp_corrected[:]\n",
    "    return lfp_corrected"
   ]
  },
  {
   "cell_type": "code",
   "execution_count": 8,
   "metadata": {
    "execution": {
     "iopub.execute_input": "2021-08-26T04:33:42.790351Z",
     "iopub.status.busy": "2021-08-26T04:33:42.790041Z",
     "iopub.status.idle": "2021-08-26T04:33:46.127174Z",
     "shell.execute_reply": "2021-08-26T04:33:46.126397Z",
     "shell.execute_reply.started": "2021-08-26T04:33:42.790309Z"
    },
    "tags": []
   },
   "outputs": [
    {
     "name": "stdout",
     "output_type": "stream",
     "text": [
      "Experiment type: electrical and sensory stimulation\n"
     ]
    },
    {
     "data": {
      "application/vnd.jupyter.widget-view+json": {
       "model_id": "8f1e877a60f343108d21ed8d5826f702",
       "version_major": 2,
       "version_minor": 0
      },
      "text/plain": [
       "Canvas(toolbar=Toolbar(toolitems=[('Home', 'Reset original view', 'home', 'home'), ('Back', 'Back to previous …"
      ]
     },
     "metadata": {},
     "output_type": "display_data"
    },
    {
     "data": {
      "application/vnd.jupyter.widget-view+json": {
       "model_id": "b9d555d7da48427381e53521f55d2ae2",
       "version_major": 2,
       "version_minor": 0
      },
      "text/plain": [
       "Canvas(toolbar=Toolbar(toolitems=[('Home', 'Reset original view', 'home', 'home'), ('Back', 'Back to previous …"
      ]
     },
     "metadata": {},
     "output_type": "display_data"
    }
   ],
   "source": [
    "# test the time shift correction algorithm\n",
    "mouse = 'mouse569062'\n",
    "expt = 'estim_vis_2021-02-18_11-17-51'\n",
    "probe = 'probeF'\n",
    "\n",
    "rec_folder = f'../tiny-blue-dot/zap-n-zip/EEG_exp/{mouse}/{expt}/experiment1/recording1/'\n",
    "exp = EEGexp(rec_folder, preprocess=False, make_stim_csv=False)\n",
    "samp_rate = exp.ephys_params[probe]['lfp_sample_rate']\n",
    "\n",
    "lfp = np.memmap(exp.ephys_params[probe]['lfp_continuous'], dtype='int16', mode='r')\n",
    "lfp = np.reshape(lfp, (int(lfp.size/exp.ephys_params[probe]['num_chs']), exp.ephys_params[probe]['num_chs']))\n",
    "\n",
    "try:\n",
    "    lfp_tx = np.memmap(f\"{exp.ephys_params[probe]['lfp_continuous'][:-4]}_corrected.npy\", dtype='int16', mode='r')\n",
    "    lfp_tx = np.reshape(lfp_tx, (int(lfp_tx.size/exp.ephys_params[probe]['num_chs']), exp.ephys_params[probe]['num_chs']))\n",
    "    lfp_tx = lfp_tx[:20000]\n",
    "    _lfp_tx = (lfp_tx-lfp_tx.mean(axis=0))/lfp_tx.std(axis=0)\n",
    "    _lfp_tx = pd.DataFrame(_lfp_tx)\n",
    "except:\n",
    "    _lfp_tx = None\n",
    "    \n",
    "lfp = lfp[:20000]\n",
    "_lfp = (lfp-lfp.mean(axis=0))/lfp.std(axis=0)\n",
    "_lfp = pd.DataFrame(_lfp)\n",
    "\n",
    "f, (ax1, ax2) = plt.subplots(2, 1, figsize=(7, 3.5), tight_layout=True, sharex=True, sharey=True)\n",
    "\n",
    "ax1.plot((_lfp - _lfp.rolling(50, center=True).mean())[22], label='ch22')\n",
    "ax1.plot((_lfp - _lfp.rolling(50, center=True).mean())[24], label='ch24')\n",
    "ax1.legend(fontsize=9, loc=1)\n",
    "ax1.set_title('raw LFP (z-scored)')\n",
    "\n",
    "if _lfp_tx is not None:\n",
    "    ax2.plot((_lfp_tx - _lfp_tx.rolling(50, center=True).mean())[22], label='ch22')\n",
    "    ax2.plot((_lfp_tx - _lfp_tx.rolling(50, center=True).mean())[24], label='ch24')\n",
    "    ax2.legend(fontsize=9, loc=1)\n",
    "ax2.set_title('corrected LFP (z-scored)')\n",
    "ax2.set_xlim(5450, 5530)\n",
    "\n",
    "ax2.set_xlabel(f'time (1/{samp_rate}s units)')\n",
    "\n",
    "# compute correlation between channel pairs for the following temporal delays\n",
    "xr = np.arange(-8, 9)\n",
    "\n",
    "_lfp = (_lfp - _lfp.rolling(50, center=True).mean())\n",
    "if _lfp_tx is not None:\n",
    "    _lfp_tx = (_lfp_tx - _lfp_tx.rolling(50, center=True).mean())\n",
    "\n",
    "# compute for all edge channels (ie channels that are physically consecutive but sampled first and last for maximum difference)\n",
    "ac = [[_lfp[cpi*24].corr(_lfp[cpi*24-2].shift(x)) for x in xr] for cpi in range(1, 16)]+[[_lfp[cpi*24+1].corr(_lfp[cpi*24-1].shift(x)) for x in xr] for cpi in range(1, 16)]\n",
    "ac = np.array(ac)\n",
    "if _lfp_tx is not None:\n",
    "    ac_tx = [[_lfp_tx[cpi*24].corr(_lfp_tx[cpi*24-2].shift(x)) for x in xr] for cpi in range(1, 16)]+[[_lfp_tx[cpi*24+1].corr(_lfp_tx[cpi*24-1].shift(x)) for x in xr] for cpi in range(1, 16)]\n",
    "    ac_tx = np.array(ac_tx)\n",
    "\n",
    "f, ax = plt.subplots(figsize=(3, 2.4), tight_layout=True)\n",
    "ax.errorbar(xr, ac.mean(0), ac.std(0)/np.sqrt(len(xr)), label='raw', c='k', lw=1, ls='--')\n",
    "if _lfp_tx is not None:\n",
    "    ax.errorbar(xr, ac_tx.mean(0), ac_tx.std(0)/np.sqrt(len(xr)), label='corrected', c='k', lw=1)\n",
    "ax.axvline(0, c='k', lw=0.4)\n",
    "ax.set_xlabel('time delay')\n",
    "ax.set_ylabel('correlation')\n",
    "ax.legend(fontsize=8, loc=3);"
   ]
  },
  {
   "cell_type": "markdown",
   "metadata": {
    "tags": []
   },
   "source": [
    "# compute CSD"
   ]
  },
  {
   "cell_type": "code",
   "execution_count": 9,
   "metadata": {
    "execution": {
     "iopub.execute_input": "2021-08-26T04:33:46.128757Z",
     "iopub.status.busy": "2021-08-26T04:33:46.128384Z",
     "iopub.status.idle": "2021-08-26T04:33:46.160985Z",
     "shell.execute_reply": "2021-08-26T04:33:46.160229Z",
     "shell.execute_reply.started": "2021-08-26T04:33:46.128664Z"
    },
    "tags": []
   },
   "outputs": [],
   "source": [
    "def load_lfp(rec_folder, probe, repeat=False, separate_running=False):\n",
    "    exp = EEGexp(rec_folder, preprocess=False, make_stim_csv=False)\n",
    "    \n",
    "    if separate_running:\n",
    "        print('separating running sweeps')\n",
    "        stim_log = separate_running_sweeps(exp)\n",
    "    else:\n",
    "        stim_log = pd.read_csv(exp.stimulus_log_file)\n",
    "        stim_log.rename_axis(index='stim_id', inplace=True)\n",
    "    \n",
    "    # put lfp into a dataframe and add stimulation metadata\n",
    "    fname = f'../tiny-blue-dot/zap-n-zip/sg/lfp_stim_aligned/{exp.mouse}_{path.basename(path.dirname(exp.experiment_folder))}_{probe}{\"_running_separated\" if separate_running else \"\"}.pkl'\n",
    "    if path.exists(fname) and not repeat:\n",
    "        lfp = pd.read_pickle(fname)\n",
    "    else:\n",
    "        print('Loading and preprocessing LFP.')\n",
    "        # load lfp\n",
    "        \n",
    "        corrected_fname = f\"{exp.ephys_params[probe]['lfp_continuous'][:-4]}_corrected.npy\"\n",
    "        if path.exists(corrected_fname):\n",
    "            lfp = np.memmap(corrected_fname, mode='r+', dtype='int16')\n",
    "            lfp = np.reshape(lfp, (int(lfp.size/exp.ephys_params[probe]['num_chs']), exp.ephys_params[probe]['num_chs']))\n",
    "        else:\n",
    "            print('Applying sampling time correction to LFP. This will take A WHILE!')\n",
    "            lfp_raw = np.memmap(exp.ephys_params[probe]['lfp_continuous'], dtype='int16', mode='r')\n",
    "            lfp_raw = np.reshape(lfp_raw, (int(lfp_raw.size/exp.ephys_params[probe]['num_chs']), exp.ephys_params[probe]['num_chs']))\n",
    "            lfp = apply_sample_time_correction(lfp_raw, ofile=corrected_fname)\n",
    "        \n",
    "        samp_rate = exp.ephys_params[probe]['lfp_sample_rate']\n",
    "        timestamps = np.load(exp.ephys_params[probe]['lfp_timestamps'])\n",
    "\n",
    "        lfp = pd.DataFrame(lfp, index=timestamps)\n",
    "\n",
    "        # assign stimulus information at each timestamp, including -1s onwards relative to stimulus to that block\n",
    "        idx = stim_log.reset_index().set_index('onset')\n",
    "        idx.index = idx.index - 1\n",
    "        idx = idx.reindex(timestamps, method='ffill', limit=2500*4).reset_index()\n",
    "\n",
    "        def _reset_index_time(df):\n",
    "            df['onset'] = (df.onset - df.onset.iloc[0] - 1).round(4)\n",
    "            return df\n",
    "        idx = idx.groupby('stim_id').apply(_reset_index_time).drop(['offset', 'duration'], axis=1).rename(columns={'onset':'time'})\n",
    "\n",
    "        lfp = lfp.loc[timestamps[idx.index]]\n",
    "        lfp.index = pd.MultiIndex.from_frame(idx)\n",
    "        lfp.columns = pd.MultiIndex.from_arrays([\n",
    "            range(len(lfp.columns)),\n",
    "            lfp.columns.map(lambda x: -3840+(x+1)//2*20)\n",
    "        ], names=['channel', 'depth'])\n",
    "\n",
    "        _t = (idx.sweep+1).fillna(False).astype(bool)\n",
    "        _t.index = lfp.index\n",
    "        lfp = lfp[_t]\n",
    "        lfp = lfp.sort_index()\n",
    "        \n",
    "        # remove offsets\n",
    "        lfp = pd.concat({x:lfp[x] - lfp[x].loc[:-0.001].mean().astype(int) for x in lfp.columns}, axis=1, names=['channel', 'depth'])\n",
    "\n",
    "        lfp.to_pickle(fname)\n",
    "    return lfp\n",
    "\n",
    "def get_mean_lfp(rec_folder, probe, repeat=False, separate_running=False):\n",
    "    exp = EEGexp(rec_folder, preprocess=False, make_stim_csv=False)\n",
    "    \n",
    "    if separate_running:\n",
    "#         print('separating running sweeps')\n",
    "        stim_log = separate_running_sweeps(exp)\n",
    "    else:\n",
    "        stim_log = pd.read_csv(exp.stimulus_log_file)\n",
    "        stim_log.rename_axis(index='stim_id', inplace=True)\n",
    "    \n",
    "    aparams = list(stim_log.apply(lambda row: (row.stim_type, row.parameter), axis=1).unique())\n",
    "    lfp = load_lfp(rec_folder, probe, repeat, separate_running=separate_running)\n",
    "    _lfp = {}\n",
    "    for p in aparams:\n",
    "        for sweep in lfp.loc[(slice(None), slice(None), p[0], p[1]), :].index.remove_unused_levels().get_level_values('sweep').unique():\n",
    "            _lfp[((*p, sweep))] = lfp.loc[(slice(None), slice(None), p[0], p[1], sweep), :].groupby('time').mean()\n",
    "    _lfp = pd.concat(_lfp, names=['stim_type', 'parameter', 'sweep', 'time'])\n",
    "    return(_lfp)"
   ]
  },
  {
   "cell_type": "code",
   "execution_count": 10,
   "metadata": {
    "execution": {
     "iopub.execute_input": "2021-08-26T04:33:46.163252Z",
     "iopub.status.busy": "2021-08-26T04:33:46.162895Z",
     "iopub.status.idle": "2021-08-26T04:33:46.199899Z",
     "shell.execute_reply": "2021-08-26T04:33:46.199373Z",
     "shell.execute_reply.started": "2021-08-26T04:33:46.163166Z"
    },
    "tags": []
   },
   "outputs": [],
   "source": [
    "def bin_spikes(spikes, bin_size_ms=1, t_start=0, t_end=1e5):\n",
    "    N = int((t_end-t_start)*1000/bin_size_ms)\n",
    "    spikes = spikes[(spikes>t_start)&(spikes<t_end)]\n",
    "    _binned_spikes = pd.Series(\n",
    "        index=(N * (spikes - t_start) / (t_end - t_start)).astype(int), data=1\n",
    "    )\n",
    "    counts = _binned_spikes.reset_index().groupby('index').size()\n",
    "    times = np.linspace(t_start, t_end, N, endpoint=False)\n",
    "    binned_spikes = np.zeros(N)\n",
    "    binned_spikes[counts.index] = counts\n",
    "    return pd.Series(binned_spikes, index=times, dtype=bool)\n",
    "\n",
    "def load_spikes(rec_folder, probe, repeat=False):\n",
    "    exp = EEGexp(rec_folder, preprocess=False, make_stim_csv=False)\n",
    "    stim_log = pd.read_csv(exp.stimulus_log_file)\n",
    "    stim_log.rename_axis(index='stim_id', inplace=True)\n",
    "    \n",
    "    fname = f'../tiny-blue-dot/zap-n-zip/sg/spikes_stim_aligned/{exp.mouse}_{path.basename(path.dirname(exp.experiment_folder))}_{probe}.pkl'\n",
    "    if path.exists(fname) and not repeat:\n",
    "        spikes = pd.read_pickle(fname)\n",
    "    else:\n",
    "        print('Loading and preprocessing spiking data.')\n",
    "        # read raw spike time data\n",
    "        _spike_times = np.load(exp.ephys_params[probe]['spike_times'], mmap_mode='r')\n",
    "        _spike_clusters = np.load(exp.ephys_params[probe]['spike_clusters'], mmap_mode='r')\n",
    "        cluster_metrics = pd.read_csv(exp.ephys_params[probe]['cluster_metrics'], index_col=1).drop('Unnamed: 0', axis=1, errors='ignore')\n",
    "        cluster_groups = pd.read_csv(exp.ephys_params[probe]['cluster_group'], sep='\\t', index_col=0)\n",
    "\n",
    "        # rearrange into spike times for each cluster\n",
    "        spike_df = pd.DataFrame(index=_spike_clusters, data=_spike_times, columns=['time'])\n",
    "        spike_times = spike_df.groupby(level=0).apply(lambda g: g.values[:, 0])\n",
    "\n",
    "        # keep only good clusters and drop 'noise'\n",
    "        cluster_metrics = cluster_metrics[cluster_groups.group.isin(['good'])]\n",
    "        cluster_metrics = cluster_metrics[(cluster_metrics.isi_viol<0.5)&(cluster_metrics.amplitude_cutoff<0.1)]\n",
    "        spike_times = spike_times.loc[cluster_metrics.index]\n",
    "\n",
    "        # bin spikes into 1ms bins\n",
    "        spikes = {}\n",
    "        t_start = spike_times.apply(lambda x: x.min()).min().round(3)\n",
    "        t_end = spike_times.apply(lambda x: x.max()).max().round(3)\n",
    "        for u, t in tqdm(spike_times.items(), total=len(spike_times)):\n",
    "            spikes[u] = bin_spikes(t, t_start=t_start, t_end=t_end)\n",
    "        spikes = pd.concat(spikes, axis=1, names='units').rename_axis('time')\n",
    "\n",
    "        # keep only those spikes that are in a window of interest around stimulus times\n",
    "        idx = stim_log.reset_index().set_index('onset').rename_axis('time')\n",
    "        idx.index = idx.index - 1\n",
    "        idx = idx.reindex(spikes.index, method='ffill', limit=1000*4).reset_index().dropna()\n",
    "        spikes = spikes.loc[idx.time]\n",
    "        \n",
    "        def _reset_index_time(df):\n",
    "            df['time'] = (df.time - df.time.iloc[0] - 1).round(3)\n",
    "            return df\n",
    "        idx = idx.groupby('stim_id').apply(_reset_index_time).drop(['offset', 'duration'], axis=1)\n",
    "        \n",
    "        # set index and columns with useful information\n",
    "        spikes.index = pd.MultiIndex.from_frame(idx)\n",
    "        spike_waveforms = np.load(exp.ephys_params[probe]['waveforms'])\n",
    "        width = {}\n",
    "        for u in cluster_metrics.index:\n",
    "            wav = spike_waveforms[u, cluster_metrics.loc[u, 'peak_channel'], :]\n",
    "            wav_duration = np.abs(np.argmin(wav)-np.argmax(wav))\n",
    "            width[u] = wav_duration / exp.ephys_params[probe]['ap_sample_rate']\n",
    "        cluster_metrics = cluster_metrics.join(pd.Series(width, name='waveform_width'))\n",
    "\n",
    "        with open(exp.ephys_params[probe]['probe_info'], 'r') as f:\n",
    "            areas = json.load(f)['area_ch']\n",
    "        areas = pd.Series(areas, name='area')\n",
    "        layers = areas.str.extract('(\\d.*)')[0].fillna('').rename('layer')\n",
    "        areas = areas.str.rstrip('12/3456ab').fillna('')\n",
    "        cluster_metrics['area'] = cluster_metrics.peak_channel.map(lambda x: areas.loc[x])\n",
    "        cluster_metrics['layer'] = cluster_metrics.peak_channel.map(lambda x: layers.loc[x])\n",
    "        cluster_metrics['FS_RS'] = cluster_metrics.waveform_width.map(lambda x: 'FS' if x<0.0004 else 'RS')\n",
    "        spikes.columns = pd.MultiIndex.from_frame(cluster_metrics[['area', 'layer', 'FS_RS', 'peak_channel']].reset_index().rename({'cluster_id':'unit'}, axis=1))\n",
    "        \n",
    "        # remove stimulation artifact\n",
    "        spikes.loc[-0.001, 0.002] = False\n",
    "        \n",
    "        spikes.to_pickle(fname)\n",
    "    return spikes\n",
    "\n",
    "def get_mean_firing(rec_folder, probe, repeat_spikes=False):\n",
    "    exp = EEGexp(rec_folder, preprocess=False, make_stim_csv=False)\n",
    "    fname = f'../tiny-blue-dot/zap-n-zip/sg/spikes_stim_aligned/fr_{exp.mouse}_{path.basename(path.dirname(exp.experiment_folder))}_{probe}.pkl'\n",
    "    if path.exists(fname):\n",
    "        return pd.DataFrame(pd.read_pickle(fname), dtype='int16')\n",
    "    spikes = load_spikes(rec_folder, probe, repeat=repeat_spikes)\n",
    "    fr = pd.DataFrame((spikes.groupby(['stim_type', 'parameter', 'sweep', 'time']).mean()*1000).round(), dtype='int16')\n",
    "    fr.to_pickle(fname)\n",
    "    return pd.DataFrame(fr, dtype='int16')"
   ]
  },
  {
   "cell_type": "code",
   "execution_count": 11,
   "metadata": {
    "execution": {
     "iopub.execute_input": "2021-08-26T04:33:46.201068Z",
     "iopub.status.busy": "2021-08-26T04:33:46.200811Z",
     "iopub.status.idle": "2021-08-26T04:33:46.225747Z",
     "shell.execute_reply": "2021-08-26T04:33:46.225219Z",
     "shell.execute_reply.started": "2021-08-26T04:33:46.200968Z"
    },
    "tags": []
   },
   "outputs": [],
   "source": [
    "def smoothen_df(df, win=10):\n",
    "    win = sp.signal.hann(win)\n",
    "    df2 = df.copy()\n",
    "    for t in df.columns:\n",
    "        df2[t] = sp.signal.convolve(df[t], win, mode='same') / sum(win)\n",
    "    return df2\n",
    "\n",
    "def compute_csd(lfp_df, spacing, method='sl', sf=2500, smoothen=False, **kwargs):\n",
    "    if method=='sl':\n",
    "        # Need to pad lfp channels for Laplacian approx.\n",
    "        padded_lfp = np.pad(\n",
    "            lfp_df, pad_width=((1, 1), (0, 0)), mode='edge'\n",
    "        )\n",
    "        csd = (1 / (spacing ** 2)) * (\n",
    "            padded_lfp[2:, :] - (2 * padded_lfp[1:-1, :]) + padded_lfp[:-2, :]\n",
    "        )\n",
    "    else:\n",
    "        params = dict(diam=200E-6*pq.m, sigma=0.3*pq.S/pq.m, sigma_top=0.3*pq.S/pq.m, f_type='gaussian', f_order=(3, 1))\n",
    "        if method=='StepiCSD':\n",
    "            params.update(dict(h=20E-6*pq.m, tol=1E-12))\n",
    "        if method=='SplineiCSD':\n",
    "            params.update(dict(num_steps=len(lfp_df), tol=1E-12, f_order=(20, 5)))\n",
    "        params.update(kwargs)\n",
    "        coord = lfp_df.columns.remove_unused_levels().to_frame()[['depth']].values*pq.um\n",
    "        # select only the vertical dimension\n",
    "        coord = coord[:, np.newaxis]\n",
    "        neo_lfp = AnalogSignal(lfp_df, units='uV', sampling_rate=sf*pq.Hz)\n",
    "        csd = elephant.current_source_density.estimate_csd(neo_lfp, coords=coord, method=method, **params)\n",
    "    csd = pd.DataFrame(csd, index=lfp_df.index, columns=lfp_df.columns)\n",
    "    if smoothen:\n",
    "        csd = smoothen_df(csd.T).T\n",
    "    return csd"
   ]
  },
  {
   "cell_type": "code",
   "execution_count": 12,
   "metadata": {
    "execution": {
     "iopub.execute_input": "2021-08-26T04:33:46.226969Z",
     "iopub.status.busy": "2021-08-26T04:33:46.226699Z",
     "iopub.status.idle": "2021-08-26T04:33:46.252777Z",
     "shell.execute_reply": "2021-08-26T04:33:46.251905Z",
     "shell.execute_reply.started": "2021-08-26T04:33:46.226884Z"
    },
    "tags": []
   },
   "outputs": [],
   "source": [
    "def get_csd(rec_folder, probe, repeat=False, repeat_lfp=False, smoothen_lfp=False, reref_saline=True, separate_running=False):\n",
    "    print(rec_folder)\n",
    "    exp = EEGexp(rec_folder, preprocess=False, make_stim_csv=False)\n",
    "    fname = f'../tiny-blue-dot/zap-n-zip/sg/csd/{exp.mouse}_{path.basename(path.dirname(exp.experiment_folder))}_{probe}{\"_running_separated\" if separate_running else \"\"}.pkl'\n",
    "    if not reref_saline:\n",
    "        fname += '.noreref'\n",
    "    if path.exists(fname) and not repeat:\n",
    "        csd = pd.read_pickle(fname)\n",
    "    else:\n",
    "        print('Computing CSD.')\n",
    "        lfp = get_mean_lfp(rec_folder, probe, repeat_lfp, separate_running=separate_running)\n",
    "        \n",
    "        if reref_saline:\n",
    "            # rereference to saline channels\n",
    "            with open(exp.ephys_params[probe]['probe_info'], 'r') as f:\n",
    "                probe_info = json.load(f)\n",
    "            surface_channel = int(probe_info['surface_channel'])\n",
    "            air_channel = int(probe_info['air_channel'])\n",
    "            top_saline_channels = np.arange(air_channel-1, surface_channel, -1)[:6]\n",
    "            lfp = (lfp.T-lfp[top_saline_channels].mean(1)).T\n",
    "            \n",
    "            areas = probe_info['area_ch']\n",
    "            areas = pd.Series(areas, name='area')\n",
    "            layers = areas.str.extract('(\\d.*)')[0].fillna('').rename('layer')\n",
    "            areas = areas.str.rstrip('12/3456ab').fillna('')\n",
    "            lfp.columns = pd.MultiIndex.from_frame(lfp.columns.to_frame(index=False).join(areas))\n",
    "            lfp = lfp.droplevel('area', axis=1)\n",
    "        \n",
    "        lfp = lfp.loc[:, ::2]\n",
    "        if smoothen_lfp:\n",
    "            print('smoothening...', end='')\n",
    "            lfp = smoothen_df(lfp.T).T\n",
    "            print('done.')\n",
    "        try:\n",
    "            csd = compute_csd(lfp, spacing=20, method='DeltaiCSD', smoothen=True)\n",
    "        except:\n",
    "#             print('Failed to compute CSD. Returning LFP for further debugging.')\n",
    "            return None#lfp\n",
    "        \n",
    "        with open(exp.ephys_params[probe]['probe_info'], 'r') as f:\n",
    "            areas = json.load(f)['area_ch']\n",
    "        areas = pd.Series(areas, name='area')\n",
    "        layers = areas.str.extract('(\\d.*)')[0].fillna('').rename('layer')\n",
    "        areas = areas.str.rstrip('12/3456ab').fillna('')\n",
    "        csd.columns = pd.MultiIndex.from_frame(csd.columns.to_frame().droplevel('depth').join(areas).join(layers))\n",
    "        csd.to_pickle(fname)\n",
    "    return csd"
   ]
  },
  {
   "cell_type": "code",
   "execution_count": 13,
   "metadata": {
    "execution": {
     "iopub.execute_input": "2021-08-26T04:33:46.418569Z",
     "iopub.status.busy": "2021-08-26T04:33:46.418251Z",
     "iopub.status.idle": "2021-08-26T04:33:46.458242Z",
     "shell.execute_reply": "2021-08-26T04:33:46.457601Z",
     "shell.execute_reply.started": "2021-08-26T04:33:46.418507Z"
    },
    "tags": []
   },
   "outputs": [],
   "source": [
    "# plot along with layer and area information\n",
    "def plot_csd_panel(df, ax, demean=False, normalize=False, thresh=0.999, vx=None):\n",
    "    try:\n",
    "        df = df.loc[df.name]\n",
    "    except:\n",
    "        pass\n",
    "    _df = df.mean(1).abs()\n",
    "#     vx = df[_df < _df.quantile(0.999)].unstack(level=list(range(df.index.nlevels))).abs().quantile(0.999)\n",
    "#     Vx = vx\n",
    "#     if normalize:\n",
    "# #         print('normalizing')\n",
    "#         df = df / vx\n",
    "#         vx = 1\n",
    "# #     print(vx)\n",
    "    if demean:\n",
    "        df = df-df.loc[:0].mean()\n",
    "    if vx is None:\n",
    "        vx = np.quantile(df.loc[0.005:].abs().values, thresh)\n",
    "    Vx = vx\n",
    "    im = ax.imshow(df.T, aspect='auto', extent=[\n",
    "        df.index.get_level_values('time')[0],\n",
    "        df.index.get_level_values('time')[-1],\n",
    "#         0, len(df.columns)\n",
    "        df.columns.get_level_values('depth')[0],\n",
    "        df.columns.get_level_values('depth')[-1],\n",
    "    ], interpolation='none', cmap='jet', vmin=-vx, vmax=vx, origin='lower')\n",
    "    layers = df.T.groupby(['area', 'layer'], sort=False).size()[::-1].cumsum()\n",
    "    \n",
    "    for a, y in (layers*20).items():\n",
    "        if y - 20*layers.shift(1).loc[a] > 80 or np.isnan(layers.shift(1).loc[a]):\n",
    "            ax.axhline(df.columns.get_level_values('depth')[-1]-y, c='k', alpha=0.4)\n",
    "            ax.annotate(\n",
    "                a[0]+a[1], (0.99, df.columns.get_level_values('depth')[-1]-y),\n",
    "                xycoords=('axes fraction', 'data'), fontsize=7,\n",
    "                va='bottom', ha='right', annotation_clip=True\n",
    "            )\n",
    "    return im, Vx\n",
    "\n",
    "def plot_area_bar(csd, aax):\n",
    "    aax.tick_params(labelleft=False)\n",
    "    # plot area reference\n",
    "    _alois = csd.columns.to_frame().apply(lambda r: f'{r.area}{r.layer}', 1)\n",
    "    ids, vals = np.unique(_alois, return_inverse=True)\n",
    "#     ids, vals = np.unique(csd.columns.to_frame().area, return_inverse=True)\n",
    "    aax.imshow(\n",
    "        vals[:, np.newaxis], aspect='auto', origin='lower',\n",
    "        extent=[\n",
    "            0, 1, csd.columns.get_level_values('depth')[0],\n",
    "            csd.columns.get_level_values('depth')[-1]\n",
    "        ], cmap=mpl.colors.ListedColormap([aloi_colors.get(x, cm.Greys(0.5, 0.5)) for x in ids])#cm.Accent\n",
    "    )\n",
    "    aax.set_xlabel('area')\n",
    "    for i, y in enumerate(np.r_[np.arange(len(vals)-1)[np.diff(vals)!=0], len(vals)-1]):\n",
    "        aax.annotate(ids[vals[y]], (0, csd.columns.get_level_values('depth')[y]), va='top', fontsize=7)\n",
    "    return\n",
    "\n",
    "def plot_csd_firing_panel(csd_df, fr_df=None, ax=None, vx=None, aois_only=True):\n",
    "    if aois_only:\n",
    "        csd_df = csd_df.swaplevel(0, 'area', axis=1)[\n",
    "            [x for x in aois if x in csd_df.columns.get_level_values('area').unique()]\n",
    "        ].sort_index(level='channel', axis=1)\n",
    "        if fr_df is not None:\n",
    "            fr_df = fr_df.swaplevel(0, 'area', axis=1)[\n",
    "                [x for x in aois if x in fr_df.columns.get_level_values('area').unique()]\n",
    "            ].sort_index(level='peak_channel', axis=1)\n",
    "    else:\n",
    "        csd_df = csd_df.swaplevel(0, 'area', axis=1).sort_index(level='channel', axis=1)\n",
    "        if fr_df is not None:\n",
    "            fr_df = fr_df.swaplevel(0, 'area', axis=1).sort_index(level='peak_channel', axis=1)\n",
    "    \n",
    "    if vx is None:\n",
    "        vx = 0.5\n",
    "    \n",
    "    if ax is None:\n",
    "        f, ax = plt.subplots(1, 1, figsize=(4, 3), tight_layout=True)\n",
    "\n",
    "    ax.axvline(0, c='k', alpha=0.4)\n",
    "    im = ax.imshow(\n",
    "        csd_df.T, aspect='auto', cmap='jet', vmin=-vx, vmax=vx, origin='lower',\n",
    "        extent=[\n",
    "            csd_df.index.get_level_values('time')[0],\n",
    "            csd_df.index.get_level_values('time')[-1],\n",
    "            0, len(csd_df.columns)\n",
    "        ]\n",
    "    )\n",
    "\n",
    "    als = csd_df.groupby(level=['area', 'layer'], sort=False, axis=1).size()\n",
    "    for k, v in als.cumsum().shift(fill_value=0).items():\n",
    "        ax.axhline(v, c='k', alpha=0.3)\n",
    "        ax.annotate(\n",
    "            f'{k[0]}{k[1]}', (0, v), xycoords=('axes fraction', 'data'),\n",
    "            fontsize=7, va='bottom', ha='left', annotation_clip=True\n",
    "        )\n",
    "    \n",
    "    if fr_df is not None:\n",
    "        mfr = fr_df.T.groupby(['area', 'layer', 'FS_RS'], sort=False).mean().unstack().swaplevel(\n",
    "            0, 'FS_RS', axis=1).sort_index(axis=1)\n",
    "        if 'stim_type' in mfr.columns.names:\n",
    "            mfr = mfr.droplevel('stim_type', axis=1)\n",
    "        mfr_zs = mfr.groupby(level='FS_RS', axis=1).apply(lambda df: (\n",
    "            (df.swaplevel(axis=1).T-df.swaplevel(axis=1).T.loc[:0].mean())/\\\n",
    "            df.swaplevel(axis=1).T.loc[:0].std()\n",
    "        ).T.swaplevel(axis=1).rolling(10, center=True, axis=1).mean())\n",
    "\n",
    "    #     display(als)\n",
    "    #     display(mfr_zs.index.get_level_values('area').unique())\n",
    "    #     display(csd_df.columns.get_level_values('area').unique())\n",
    "        mfr_plotready = mfr_zs.apply(\n",
    "            lambda r: als.cumsum().shift(fill_value=0).loc[r.name]+1+\\\n",
    "            r*als.loc[r.name]/max(\n",
    "                r.loc[(slice(None), slice(0.05, 5))].max()-r.loc[(slice(None), slice(0.05, 5))].min(),\n",
    "                10), axis=1\n",
    "        )\n",
    "\n",
    "        if 'FS' in mfr_plotready.columns.get_level_values(0).unique():\n",
    "            mfr_plotready['FS'].T.plot(ax=ax, legend=False, c=cm.Greens(0.9, 0.99), lw=2)\n",
    "        if 'RS' in mfr_plotready.columns.get_level_values(0).unique():\n",
    "            mfr_plotready['RS'].T.plot(ax=ax, legend=False, c=cm.Purples(0.7, 0.99), lw=2)\n",
    "\n",
    "    ax.set_ylim(0, len(csd_df.columns))\n",
    "    ax.set_yticks([])\n",
    "    return ax"
   ]
  },
  {
   "cell_type": "markdown",
   "metadata": {
    "tags": []
   },
   "source": [
    "## Single experiment tests"
   ]
  },
  {
   "cell_type": "code",
   "execution_count": 53,
   "metadata": {
    "execution": {
     "iopub.execute_input": "2021-08-26T03:01:06.283627Z",
     "iopub.status.busy": "2021-08-26T03:01:06.282637Z",
     "iopub.status.idle": "2021-08-26T03:01:06.310597Z",
     "shell.execute_reply": "2021-08-26T03:01:06.310012Z",
     "shell.execute_reply.started": "2021-08-26T03:01:06.283454Z"
    },
    "tags": []
   },
   "outputs": [],
   "source": [
    "mouse = 'mouse569062'\n",
    "expt = good_expt[good_expt.mouse_name==mouse].iloc[0].exp_name\n",
    "probe = f\"probe{good_expt[good_expt.mouse_name==mouse].iloc[0].Npx.split(',')[2]}\"\n",
    "rec_folder = f'../tiny-blue-dot/zap-n-zip/EEG_exp/{mouse}/{expt}/experiment1/recording1/'"
   ]
  },
  {
   "cell_type": "code",
   "execution_count": 54,
   "metadata": {
    "execution": {
     "iopub.execute_input": "2021-08-26T03:01:06.418372Z",
     "iopub.status.busy": "2021-08-26T03:01:06.418116Z",
     "iopub.status.idle": "2021-08-26T03:01:06.441733Z",
     "shell.execute_reply": "2021-08-26T03:01:06.441042Z",
     "shell.execute_reply.started": "2021-08-26T03:01:06.418336Z"
    },
    "tags": []
   },
   "outputs": [],
   "source": [
    "# # test / debug LFP computation pipeline (loaf_lfp function)\n",
    "\n",
    "# rec_folder = f'../tiny-blue-dot/zap-n-zip/EEG_exp/{mouse}/{expt}/experiment1/recording1/'\n",
    "# exp = EEGexp(rec_folder, preprocess=False, make_stim_csv=False)\n",
    "# samp_rate = exp.ephys_params[probe]['lfp_sample_rate']\n",
    "# stim_log = pd.read_csv(exp.stimulus_log_file)\n",
    "# stim_log.rename_axis(index='stim_id', inplace=True)\n",
    "\n",
    "# lfp = np.memmap(exp.ephys_params[probe]['lfp_continuous'], dtype='int16', mode='r')\n",
    "# lfp = np.reshape(lfp, (int(lfp.size/exp.ephys_params[probe]['num_chs']), exp.ephys_params[probe]['num_chs']))\n",
    "\n",
    "# timestamps = np.load(exp.ephys_params[probe]['lfp_timestamps'])\n",
    "\n",
    "# lfp = pd.DataFrame(lfp, index=timestamps)\n",
    "\n",
    "# print('Timestamps shape:', timestamps.shape)\n",
    "# print('LFP shape:', lfp.shape)\n",
    "\n",
    "# idx = stim_log.reset_index().set_index('onset')\n",
    "# # display(idx.head())\n",
    "# idx.index = idx.index - 1\n",
    "# idx = idx.reindex(timestamps, method='ffill').reset_index()\n",
    "# # display(idx)\n",
    "\n",
    "# def _reset_index_time(df):\n",
    "#     df['onset'] = (df.onset - df.onset.iloc[0] - 1).round(4)\n",
    "#     return df\n",
    "# idx = idx.groupby('stim_id', dropna=False).apply(_reset_index_time).drop(['offset', 'duration'], axis=1).rename(columns={'onset':'time'})\n",
    "# display(idx)\n",
    "\n",
    "# lfp = lfp.loc[timestamps[idx.index]]\n",
    "\n",
    "# # reref with top saline channels\n",
    "# with open(exp.ephys_params[probe]['probe_info'], 'r') as f:\n",
    "#     probe_info = json.load(f)\n",
    "# surface_channel = int(probe_info['surface_channel'])\n",
    "# air_channel = int(probe_info['air_channel'])\n",
    "# top_saline_channels = np.arange(air_channel-1, surface_channel, -1)[:6]\n",
    "\n",
    "# top_saline_channels"
   ]
  },
  {
   "cell_type": "code",
   "execution_count": 55,
   "metadata": {
    "execution": {
     "iopub.execute_input": "2021-08-26T03:01:06.610205Z",
     "iopub.status.busy": "2021-08-26T03:01:06.609370Z",
     "iopub.status.idle": "2021-08-26T03:07:02.439837Z",
     "shell.execute_reply": "2021-08-26T03:07:02.439328Z",
     "shell.execute_reply.started": "2021-08-26T03:01:06.610080Z"
    },
    "tags": []
   },
   "outputs": [
    {
     "name": "stdout",
     "output_type": "stream",
     "text": [
      "Experiment type: electrical and sensory stimulation\n",
      "../tiny-blue-dot/zap-n-zip/EEG_exp/mouse569062/estim_vis_2021-02-18_11-17-51/experiment1/recording1/\n",
      "Experiment type: electrical and sensory stimulation\n",
      "Computing CSD.\n",
      "Experiment type: electrical and sensory stimulation\n"
     ]
    },
    {
     "name": "stderr",
     "output_type": "stream",
     "text": [
      "/home/saurabh.gandhi/Projects/.env_zz/lib/python3.7/site-packages/allensdk/brain_observatory/sync_dataset.py:109: UserWarning: The loaded sync file contains the following deprecated line label keys: {'eyetracking'}. Consider updating the sync file line labels.\n",
      "  self._check_line_labels()\n"
     ]
    },
    {
     "data": {
      "text/plain": [
       "parameter  sweep\n",
       "15         0        120\n",
       "           1        120\n",
       "           2        120\n",
       "35         0        120\n",
       "           1        120\n",
       "           2        120\n",
       "60         0        120\n",
       "           1        120\n",
       "           2        120\n",
       "white      0        120\n",
       "           1        120\n",
       "           2        120\n",
       "dtype: int64"
      ]
     },
     "metadata": {},
     "output_type": "display_data"
    },
    {
     "data": {
      "text/plain": [
       "parameter  sweep\n",
       "15         0         90\n",
       "           1        119\n",
       "           2        116\n",
       "           10        30\n",
       "           11         1\n",
       "           12         4\n",
       "35         0         97\n",
       "           1        118\n",
       "           2        116\n",
       "           10        23\n",
       "           11         2\n",
       "           12         4\n",
       "60         0         84\n",
       "           1        119\n",
       "           2        115\n",
       "           10        36\n",
       "           11         1\n",
       "           12         5\n",
       "white      0        120\n",
       "           1        109\n",
       "           2        120\n",
       "           11        11\n",
       "dtype: int64"
      ]
     },
     "metadata": {},
     "output_type": "display_data"
    },
    {
     "name": "stdout",
     "output_type": "stream",
     "text": [
      "Experiment type: electrical and sensory stimulation\n",
      "separating running sweeps\n"
     ]
    },
    {
     "name": "stderr",
     "output_type": "stream",
     "text": [
      "/home/saurabh.gandhi/Projects/.env_zz/lib/python3.7/site-packages/allensdk/brain_observatory/sync_dataset.py:109: UserWarning: The loaded sync file contains the following deprecated line label keys: {'eyetracking'}. Consider updating the sync file line labels.\n",
      "  self._check_line_labels()\n"
     ]
    },
    {
     "data": {
      "text/plain": [
       "parameter  sweep\n",
       "15         0        120\n",
       "           1        120\n",
       "           2        120\n",
       "35         0        120\n",
       "           1        120\n",
       "           2        120\n",
       "60         0        120\n",
       "           1        120\n",
       "           2        120\n",
       "white      0        120\n",
       "           1        120\n",
       "           2        120\n",
       "dtype: int64"
      ]
     },
     "metadata": {},
     "output_type": "display_data"
    },
    {
     "data": {
      "text/plain": [
       "parameter  sweep\n",
       "15         0         90\n",
       "           1        119\n",
       "           2        116\n",
       "           10        30\n",
       "           11         1\n",
       "           12         4\n",
       "35         0         97\n",
       "           1        118\n",
       "           2        116\n",
       "           10        23\n",
       "           11         2\n",
       "           12         4\n",
       "60         0         84\n",
       "           1        119\n",
       "           2        115\n",
       "           10        36\n",
       "           11         1\n",
       "           12         5\n",
       "white      0        120\n",
       "           1        109\n",
       "           2        120\n",
       "           11        11\n",
       "dtype: int64"
      ]
     },
     "metadata": {},
     "output_type": "display_data"
    },
    {
     "name": "stdout",
     "output_type": "stream",
     "text": [
      "discrete filter coefficients: \n",
      "b = [ 0.607 1.000 0.607 ],                \n",
      "a = [ 2.213 ]\n",
      "Experiment type: electrical and sensory stimulation\n",
      "Available parameters:\n",
      "[('biphasic', '35'), ('biphasic', '15'), ('biphasic', '60'), ('circle', 'white')]\n"
     ]
    }
   ],
   "source": [
    "exp = EEGexp(rec_folder, preprocess=False, make_stim_csv=False)\n",
    "stim_log = pd.read_csv(exp.stimulus_log_file)\n",
    "stim_log.rename_axis(index='stim_id', inplace=True)\n",
    "\n",
    "csd = get_csd(rec_folder, probe, repeat_lfp=False, repeat=True, separate_running=True)\n",
    "# spikes = load_spikes(rec_folder, probe, repeat=True)\n",
    "fr = get_mean_firing(rec_folder, probe, repeat_spikes=False)\n",
    "\n",
    "aparams = list(stim_log.apply(lambda row: (row.stim_type, row.parameter), axis=1).unique())\n",
    "print('Available parameters:')\n",
    "print(aparams)"
   ]
  },
  {
   "cell_type": "code",
   "execution_count": 56,
   "metadata": {
    "execution": {
     "iopub.execute_input": "2021-08-26T03:07:02.440960Z",
     "iopub.status.busy": "2021-08-26T03:07:02.440772Z",
     "iopub.status.idle": "2021-08-26T03:07:02.556514Z",
     "shell.execute_reply": "2021-08-26T03:07:02.555719Z",
     "shell.execute_reply.started": "2021-08-26T03:07:02.440932Z"
    },
    "tags": []
   },
   "outputs": [
    {
     "data": {
      "application/vnd.jupyter.widget-view+json": {
       "model_id": "0aae66d3e085424c906dffd869fc775e",
       "version_major": 2,
       "version_minor": 0
      },
      "text/plain": [
       "Canvas(toolbar=Toolbar(toolitems=[('Home', 'Reset original view', 'home', 'home'), ('Back', 'Back to previous …"
      ]
     },
     "metadata": {},
     "output_type": "display_data"
    }
   ],
   "source": [
    "param = '35'\n",
    "csd_df = csd.xs(param, level='parameter').xs(10, level='sweep')\n",
    "fr_df = fr.xs(param, level='parameter').xs(0, level='sweep')\n",
    "ax = plot_csd_firing_panel(csd_df, aois_only=False, vx=1.5)\n",
    "ax.set_xlim(-0.1, 0.5)\n",
    "ax.set_title(f'running trials ({probe}, {param} $\\mu$A)');"
   ]
  },
  {
   "cell_type": "code",
   "execution_count": 57,
   "metadata": {
    "execution": {
     "iopub.execute_input": "2021-08-26T03:07:02.558776Z",
     "iopub.status.busy": "2021-08-26T03:07:02.558363Z",
     "iopub.status.idle": "2021-08-26T03:07:02.696796Z",
     "shell.execute_reply": "2021-08-26T03:07:02.695866Z",
     "shell.execute_reply.started": "2021-08-26T03:07:02.558724Z"
    },
    "tags": []
   },
   "outputs": [
    {
     "data": {
      "application/vnd.jupyter.widget-view+json": {
       "model_id": "159184eb73d443f3abbd0ffac1dedfb5",
       "version_major": 2,
       "version_minor": 0
      },
      "text/plain": [
       "Canvas(toolbar=Toolbar(toolitems=[('Home', 'Reset original view', 'home', 'home'), ('Back', 'Back to previous …"
      ]
     },
     "metadata": {},
     "output_type": "display_data"
    }
   ],
   "source": [
    "param = '35'\n",
    "csd_df = csd.xs(param, level='parameter').xs(0, level='sweep')\n",
    "fr_df = fr.xs(param, level='parameter').xs(0, level='sweep')\n",
    "ax = plot_csd_firing_panel(csd_df, aois_only=False, vx=1.5)\n",
    "ax.set_xlim(-0.1, 0.5)\n",
    "ax.set_title(f'resting trials ({probe}, {param} $\\mu$A)');"
   ]
  },
  {
   "cell_type": "code",
   "execution_count": 58,
   "metadata": {
    "execution": {
     "iopub.execute_input": "2021-08-26T03:07:02.698785Z",
     "iopub.status.busy": "2021-08-26T03:07:02.698314Z",
     "iopub.status.idle": "2021-08-26T03:07:02.740469Z",
     "shell.execute_reply": "2021-08-26T03:07:02.739435Z",
     "shell.execute_reply.started": "2021-08-26T03:07:02.698667Z"
    },
    "tags": []
   },
   "outputs": [],
   "source": [
    "# # compare with uncorrected CSD\n",
    "# fname = f'../tiny-blue-dot/zap-n-zip/sg/csd/{exp.mouse}_{path.basename(path.dirname(exp.experiment_folder))}_{probe}_uncorrected.pkl'\n",
    "# csd_uncorrected = pd.read_pickle(fname)\n",
    "\n",
    "# csd_dfu = csd_uncorrected.xs('50', level='parameter').xs(0, level='sweep')\n",
    "\n",
    "# f, (ax1, ax2) = plt.subplots(2, 1, figsize=(8, 6), tight_layout=True, sharex=True, sharey=True)\n",
    "# plot_csd_firing_panel(csd_df, aois_only=False, vx=1.5, ax=ax2)\n",
    "# plot_csd_firing_panel(csd_dfu, aois_only=False, vx=1.5, ax=ax1)\n",
    "# ax1.set_xlim(-0.1, 0.5)\n",
    "# ax1.set_title(f'{mouse} {probe}')\n",
    "# ax1.set_ylabel('uncorrected')\n",
    "# ax2.set_ylabel('corrected for sampling time\\nand rereferencing artifacts')\n",
    "# ax2.set_xlabel('time (s)');"
   ]
  },
  {
   "cell_type": "code",
   "execution_count": 17,
   "metadata": {
    "execution": {
     "iopub.execute_input": "2021-05-03T17:53:56.300787Z",
     "iopub.status.busy": "2021-05-03T17:53:56.300592Z",
     "iopub.status.idle": "2021-05-03T17:53:58.752877Z",
     "shell.execute_reply": "2021-05-03T17:53:58.752260Z",
     "shell.execute_reply.started": "2021-05-03T17:53:56.300755Z"
    },
    "tags": []
   },
   "outputs": [
    {
     "data": {
      "application/vnd.jupyter.widget-view+json": {
       "model_id": "677c97892ad34042bb09642b312343bd",
       "version_major": 2,
       "version_minor": 0
      },
      "text/plain": [
       "Canvas(toolbar=Toolbar(toolitems=[('Home', 'Reset original view', 'home', 'home'), ('Back', 'Back to previous …"
      ]
     },
     "metadata": {},
     "output_type": "display_data"
    }
   ],
   "source": [
    "ncol = len(csd.index.levels[1])\n",
    "nrow = len(csd.index.levels[2])\n",
    "f, axes1 = plt.subplots(\n",
    "    nrow, ncol, figsize=(3*ncol, 2.4*nrow),\n",
    "    constrained_layout=True, sharex=True, sharey=True\n",
    ")\n",
    "\n",
    "axes = {\n",
    "    p : axes1.T.flatten()[i] for i, p in enumerate(sorted(csd.index.droplevel(['time', 'stim_type']).unique()))\n",
    "}\n",
    "\n",
    "for n, ax in axes.items():\n",
    "    ax.set_title(f'stim: {n[0]}; state: {n[1]:.0f}')\n",
    "    ax.set_xlim(-0.24, 0.48)\n",
    "\n",
    "for ax in axes1.flatten()[len(axes):]:\n",
    "    ax.set_visible(False)\n",
    "csd.swaplevel(0, -1).groupby(['parameter', 'sweep']).apply(lambda df: plot_csd_panel(df, ax=axes[df.name], demean=True))\n",
    "\n",
    "f.suptitle(f'mouse {exp.mouse}, {probe}');"
   ]
  },
  {
   "cell_type": "code",
   "execution_count": 44,
   "metadata": {
    "execution": {
     "iopub.execute_input": "2021-05-03T18:11:00.136693Z",
     "iopub.status.busy": "2021-05-03T18:11:00.135750Z",
     "iopub.status.idle": "2021-05-03T18:11:00.290138Z",
     "shell.execute_reply": "2021-05-03T18:11:00.289332Z",
     "shell.execute_reply.started": "2021-05-03T18:11:00.136559Z"
    },
    "tags": []
   },
   "outputs": [
    {
     "data": {
      "application/vnd.jupyter.widget-view+json": {
       "model_id": "377478cb61264309815a02146f5069f0",
       "version_major": 2,
       "version_minor": 0
      },
      "text/plain": [
       "Canvas(toolbar=Toolbar(toolitems=[('Home', 'Reset original view', 'home', 'home'), ('Back', 'Back to previous …"
      ]
     },
     "metadata": {},
     "output_type": "display_data"
    },
    {
     "name": "stderr",
     "output_type": "stream",
     "text": [
      "/home/saurabh.gandhi/Projects/.env_zz/lib/python3.7/site-packages/pandas/plotting/_matplotlib/tools.py:307: MatplotlibDeprecationWarning: \n",
      "The rowNum attribute was deprecated in Matplotlib 3.2 and will be removed two minor releases later. Use ax.get_subplotspec().rowspan.start instead.\n",
      "  layout[ax.rowNum, ax.colNum] = ax.get_visible()\n",
      "/home/saurabh.gandhi/Projects/.env_zz/lib/python3.7/site-packages/pandas/plotting/_matplotlib/tools.py:307: MatplotlibDeprecationWarning: \n",
      "The colNum attribute was deprecated in Matplotlib 3.2 and will be removed two minor releases later. Use ax.get_subplotspec().colspan.start instead.\n",
      "  layout[ax.rowNum, ax.colNum] = ax.get_visible()\n",
      "/home/saurabh.gandhi/Projects/.env_zz/lib/python3.7/site-packages/pandas/plotting/_matplotlib/tools.py:307: MatplotlibDeprecationWarning: \n",
      "The rowNum attribute was deprecated in Matplotlib 3.2 and will be removed two minor releases later. Use ax.get_subplotspec().rowspan.start instead.\n",
      "  layout[ax.rowNum, ax.colNum] = ax.get_visible()\n",
      "/home/saurabh.gandhi/Projects/.env_zz/lib/python3.7/site-packages/pandas/plotting/_matplotlib/tools.py:307: MatplotlibDeprecationWarning: \n",
      "The colNum attribute was deprecated in Matplotlib 3.2 and will be removed two minor releases later. Use ax.get_subplotspec().colspan.start instead.\n",
      "  layout[ax.rowNum, ax.colNum] = ax.get_visible()\n"
     ]
    },
    {
     "data": {
      "text/plain": [
       "<matplotlib.lines.Line2D at 0x7f7d46efa5d0>"
      ]
     },
     "execution_count": 44,
     "metadata": {},
     "output_type": "execute_result"
    }
   ],
   "source": [
    "# CSD artifact in saline\n",
    "# lfp = get_mean_lfp(rec_folder, probe)\n",
    "# _lfp = lfp.xs('50', level='parameter').xs(0, level='sweep').loc['biphasic']\n",
    "\n",
    "# csd = get_csd(rec_folder, probe, reref_saline=False)\n",
    "# _csd = csd.xs('50', level='parameter').xs(0, level='sweep').loc['biphasic']\n",
    "\n",
    "f, (ax1, ax2) = plt.subplots(2, 1, figsize=(12, 7), tight_layout=True, sharex=True)\n",
    "_lfp[[214, 210, 206, 202, 198, 194, 190, 186]].plot(ax=ax1, c='g', alpha=0.5)\n",
    "_lfp[[380, 376, 372, 368, 364, 360, 356, 352]].plot(ax=ax1, c='b', alpha=0.5)\n",
    "# _lfp[[1, 5, 9, 13, 17, 21, 25, 29]].plot(ax=ax1, c='r', alpha=0.5)\n",
    "ax1.legend(ncol=2, fontsize=8, loc=(1.01, 0))\n",
    "ax1.set_ylabel('lfp')\n",
    "\n",
    "ax2.imshow(_lfp.T, aspect='auto', extent=[_csd.index[0], _csd.index[-1], 0, len(_csd.columns)], cmap='jet', origin='lower')#, vmax=1.5, vmin=-1.5)\n",
    "ax2.axhline(382/2, c='k')\n",
    "ax2.axhline(354/2, c='k')\n",
    "ax2.axhline(212/2, c='k')\n",
    "ax2.axhline(184/2, c='k')"
   ]
  },
  {
   "cell_type": "code",
   "execution_count": 52,
   "metadata": {
    "execution": {
     "iopub.execute_input": "2021-05-03T18:17:32.103779Z",
     "iopub.status.busy": "2021-05-03T18:17:32.102893Z",
     "iopub.status.idle": "2021-05-03T18:17:32.153505Z",
     "shell.execute_reply": "2021-05-03T18:17:32.153024Z",
     "shell.execute_reply.started": "2021-05-03T18:17:32.103656Z"
    },
    "tags": []
   },
   "outputs": [
    {
     "data": {
      "text/plain": [
       "area\n",
       "ZI              0.167236\n",
       "HY              0.216076\n",
       "MGm             0.259412\n",
       "MGv             0.325341\n",
       "TH              0.388917\n",
       "MGd             0.448040\n",
       "LGd-co          0.656587\n",
       "DG-po           0.669767\n",
       "null            1.000000\n",
       "LGd-sh          1.000805\n",
       "DG-sg           1.134197\n",
       "fiber tracts    1.160408\n",
       "bsc             1.184530\n",
       "VISp            1.386037\n",
       "or              1.391447\n",
       "fp              1.509964\n",
       "alv             1.597870\n",
       "CA              1.725808\n",
       "DG-mo           1.906511\n",
       "dtype: float64"
      ]
     },
     "metadata": {},
     "output_type": "display_data"
    },
    {
     "name": "stdout",
     "output_type": "stream",
     "text": [
      "0.8313461357282858\n"
     ]
    }
   ],
   "source": [
    "# numbers for Atle\n",
    "_lfp = _lfp.reindex(csd.columns, axis=1)\n",
    "\n",
    "_sd = _lfp.loc[0.03:0.08].groupby(level='area', axis=1).apply(lambda df: df.values.std())\n",
    "display((_sd / _sd['null']).sort_values())\n",
    "_sd_non_null = _lfp[_lfp.columns[_lfp.columns.get_level_values('area')!='null']].values.std()\n",
    "print(_sd_non_null / _sd['null'])"
   ]
  },
  {
   "cell_type": "markdown",
   "metadata": {
    "tags": []
   },
   "source": [
    "## Compute / load CSD for all available experiments"
   ]
  },
  {
   "cell_type": "code",
   "execution_count": null,
   "metadata": {
    "execution": {
     "iopub.execute_input": "2021-08-26T04:33:52.438247Z",
     "iopub.status.busy": "2021-08-26T04:33:52.437334Z"
    },
    "tags": []
   },
   "outputs": [
    {
     "data": {
      "application/vnd.jupyter.widget-view+json": {
       "model_id": "c9ee122dbfd946ecb6471a268e621461",
       "version_major": 2,
       "version_minor": 0
      },
      "text/plain": [
       "HBox(children=(FloatProgress(value=0.0, description='mouse575100 estim_vis_2021-06-10_11-39-06', max=3.0, styl…"
      ]
     },
     "metadata": {},
     "output_type": "display_data"
    }
   ],
   "source": [
    "# load all CSDs\n",
    "csds = {}\n",
    "areas = {}\n",
    "for mouse in good_expt.mouse_name.unique()[::-1]:\n",
    "    for expt in good_expt[good_expt.mouse_name==mouse].exp_name:\n",
    "        for probe in tqdm(good_expt[(good_expt.mouse_name==mouse)&(good_expt.exp_name==expt)].Npx.values[0].split(','), desc=f'{mouse} {expt}'):\n",
    "            try:\n",
    "                probe = f'probe{probe}'\n",
    "                rec_folder = f'../tiny-blue-dot/zap-n-zip/EEG_exp/{mouse}/{expt}/experiment1/recording1/'\n",
    "                with capture_output():\n",
    "                    csd = get_csd(rec_folder, probe, repeat=True, repeat_lfp=False, separate_running=True)\n",
    "                    areas[(mouse, expt, probe)] = csd.columns.to_frame(index=False)\n",
    "                    csds[(mouse, expt, probe)] = csd.droplevel(['area', 'layer'], axis=1)\n",
    "            except Exception as e:\n",
    "                print(f'Failed {mouse} {expt} {probe}: {e}')\n",
    "csds = pd.concat(csds, names=['mouse', 'expt', 'probe', 'stim_type', 'parameter', 'sweep', 'time']).droplevel('stim_type').sort_index()\n",
    "areas = pd.concat(areas).sort_index()"
   ]
  },
  {
   "cell_type": "code",
   "execution_count": null,
   "metadata": {
    "tags": []
   },
   "outputs": [],
   "source": [
    "# load all firing rates\n",
    "frs = {}\n",
    "fr_areas = {}\n",
    "for mouse in good_expt.mouse_name.unique():\n",
    "    for expt in good_expt[good_expt.mouse_name==mouse].exp_name:\n",
    "        for probe in tqdm(good_expt[(good_expt.mouse_name==mouse)&(good_expt.exp_name==expt)].Npx.values[0].split(','), desc=f'{mouse} {expt}'):\n",
    "            try:\n",
    "                probe = f'probe{probe}'\n",
    "                rec_folder = f'../tiny-blue-dot/zap-n-zip/EEG_exp/{mouse}/{expt}/experiment1/recording1/'\n",
    "                with capture_output():\n",
    "                    frs[(mouse, expt, probe)] = get_mean_firing(rec_folder, probe, repeat_spikes=False)\n",
    "                    fr_areas[(mouse, expt, probe)] = frs[(mouse, expt, probe)].columns.to_frame(index=False)\n",
    "                    frs[(mouse, expt, probe)].columns = range(len(frs[(mouse, expt, probe)].columns))\n",
    "            except Exception as e:\n",
    "                print(f'Failed {mouse} {expt} {probe}: {e}')\n",
    "frs = pd.concat(frs, names=['mouse', 'expt', 'probe', 'stim_type', 'parameter', 'sweep', 'time']).droplevel('stim_type').sort_index()\n",
    "fr_areas = pd.concat(fr_areas).sort_index()"
   ]
  },
  {
   "cell_type": "markdown",
   "metadata": {},
   "source": [
    "# Plot CSDs and compare timings across probes"
   ]
  },
  {
   "cell_type": "code",
   "execution_count": null,
   "metadata": {
    "tags": []
   },
   "outputs": [],
   "source": [
    "def plot_all_cd_responses(mouse, expt, param, include=None, thresh=0.999, vx=None, xmin=-0.1, xmax=0.8, aois_only=True, figsize=None):\n",
    "    try:\n",
    "        csd_df = csds.loc[(mouse, expt)].xs(param, level='parameter').sort_index()\n",
    "        # rename sweeps according to state\n",
    "        csd_df = csd_df.rename(\n",
    "            index={i:f'{i:.0f}: {x}' for i, x in enumerate(\n",
    "                good_expt[(good_expt.mouse_name==mouse)&\\\n",
    "                          (good_expt.exp_name==expt)].iloc[0]['brain states'].split('/')\n",
    "            )}, level='sweep'\n",
    "        )\n",
    "    except:\n",
    "        raise ValueError(\n",
    "            'Available param values are: ',\n",
    "            csds.loc[(mouse, expt)].index.get_level_values('parameter').unique()\n",
    "        )\n",
    "\n",
    "    probes = csd_df.index.remove_unused_levels().levels[0]\n",
    "    sweeps = csd_df.index.remove_unused_levels().levels[-2]\n",
    "    if include is not None:\n",
    "        sweeps = sweeps[np.array(include)]\n",
    "    if figsize is None:\n",
    "        figsize=(3*len(sweeps), 2.3*len(probes))\n",
    "    f, axes1 = plt.subplots(\n",
    "        len(probes), len(sweeps), tight_layout=True,\n",
    "        figsize=figsize, sharex=True, sharey=True,\n",
    "        gridspec_kw=dict(hspace=0), squeeze=False\n",
    "    )\n",
    "    axes = {x:axes1.flatten()[i] for i, x in enumerate(itertools.product(probes, sweeps))}\n",
    "\n",
    "    def _plot_csd_panel(df):\n",
    "        name = df.name\n",
    "        if name[1] not in sweeps:\n",
    "            return\n",
    "        df.columns = pd.MultiIndex.from_frame(areas.loc[(mouse, expt, df.name[0])])\n",
    "        if aois_only:\n",
    "            df[df.columns[~df.columns.get_level_values('area').isin(aois)]] = 0\n",
    "        return plot_csd_panel(df.droplevel(['sweep', 'probe']), ax=axes[name], thresh=thresh, demean=True, vx=vx)\n",
    "\n",
    "    im_vx = csd_df.groupby(['probe', 'sweep'], sort=False).apply(_plot_csd_panel)\n",
    "\n",
    "    for n, ax in axes.items():\n",
    "        if ax in axes1.T[0]:\n",
    "            ax.set_ylabel(n[0])\n",
    "            ax.set_yticks([])\n",
    "        if ax in axes1[0]:\n",
    "            ax.set_title(f'{n[1]}')\n",
    "        if ax in axes1[-1]:\n",
    "            ax.set_xlabel('time (s)')\n",
    "\n",
    "    for ax in axes1.flatten():\n",
    "        ax.set_xlim(xmin, xmax)\n",
    "    \n",
    "    return f, axes, axes1, im_vx\n",
    "\n",
    "def plot_all_cd_fr_responses(mouse, expt, param, include=None, vx=None, xmin=-0.1, xmax=0.8, aois_only=True, figsize=None):\n",
    "#     try:\n",
    "    csd_df = csds.loc[(mouse, expt)].xs(param, level='parameter').sort_index()\n",
    "    fr_df = frs.loc[(mouse, expt)].xs(param, level='parameter').sort_index()\n",
    "#     fr_df = fr_df\n",
    "    # rename sweeps according to state\n",
    "    csd_df = csd_df.rename(\n",
    "        index={i:f'{i:.0f}: {x}' for i, x in enumerate(\n",
    "            good_expt[(good_expt.mouse_name==mouse)&\\\n",
    "                      (good_expt.exp_name==expt)].iloc[0]['brain states'].split('/')\n",
    "        )}, level='sweep'\n",
    "    )\n",
    "    fr_df = fr_df.rename(\n",
    "        index={i:f'{i:.0f}: {x}' for i, x in enumerate(\n",
    "            good_expt[(good_expt.mouse_name==mouse)&\\\n",
    "                      (good_expt.exp_name==expt)].iloc[0]['brain states'].split('/')\n",
    "        )}, level='sweep'\n",
    "    )\n",
    "#     except:\n",
    "#         raise ValueError('Available param values are: ', csds.loc[(mouse, expt)].index.get_level_values('parameter').unique())\n",
    "\n",
    "    probes = csd_df.index.remove_unused_levels().levels[0]\n",
    "    sweeps = csd_df.index.remove_unused_levels().levels[-2]\n",
    "    if include is not None:\n",
    "        sweeps = sweeps[np.array(include)]\n",
    "    if figsize is None:\n",
    "        figsize=(3*len(sweeps), 2.3*len(probes))\n",
    "    f, axes1 = plt.subplots(\n",
    "        len(probes), len(sweeps), tight_layout=True,\n",
    "        figsize=figsize, sharex=True, sharey=True,\n",
    "        gridspec_kw=dict(hspace=0), squeeze=False\n",
    "    )\n",
    "    axes = {x:axes1.flatten()[i] for i, x in enumerate(itertools.product(probes, sweeps))}\n",
    "    \n",
    "#     display(csd_df)\n",
    "    for p, s in csd_df.index.droplevel('time').unique():\n",
    "        if s not in sweeps:\n",
    "            continue\n",
    "        df = csd_df.loc[(p, s)]\n",
    "        df.columns = pd.MultiIndex.from_frame(areas.loc[(mouse, expt, p)])\n",
    "        \n",
    "        _df = fr_df.loc[(p, s)].dropna(axis=1, how='all')\n",
    "        _df.columns = pd.MultiIndex.from_frame(fr_areas.loc[(mouse, expt, p)])\n",
    "        \n",
    "        plot_csd_firing_panel(df, _df.dropna(axis=1, how='all'), axes[(p, s)], vx=vx, aois_only=aois_only)\n",
    "\n",
    "    for n, ax in axes.items():\n",
    "        if ax in axes1.T[0]:\n",
    "            ax.set_ylabel(n[0])\n",
    "            ax.set_yticks([])\n",
    "        if ax in axes1[0]:\n",
    "            ax.set_title(f'{n[1]}')\n",
    "        if ax in axes1[-1]:\n",
    "            ax.set_xlabel('time (s)')\n",
    "\n",
    "    for ax in axes1.flatten():\n",
    "        ax.set_xlim(xmin, xmax)\n",
    "        ax.set_ylim(0, 192)\n",
    "    \n",
    "    return f, axes, axes1"
   ]
  },
  {
   "cell_type": "code",
   "execution_count": null,
   "metadata": {
    "tags": []
   },
   "outputs": [],
   "source": [
    "params = csds.loc[(mouse, expt)].index.remove_unused_levels().levels[1]\n",
    "f'{(np.median([int(p) for p in params if len(p)<4])):.0f}'"
   ]
  },
  {
   "cell_type": "code",
   "execution_count": 46,
   "metadata": {
    "execution": {
     "iopub.execute_input": "2021-07-14T18:54:27.395972Z",
     "iopub.status.busy": "2021-07-14T18:54:27.395031Z",
     "iopub.status.idle": "2021-07-14T18:54:27.426664Z",
     "shell.execute_reply": "2021-07-14T18:54:27.425671Z",
     "shell.execute_reply.started": "2021-07-14T18:54:27.395849Z"
    },
    "tags": []
   },
   "outputs": [
    {
     "data": {
      "text/plain": [
       "[100, 60, 80]"
      ]
     },
     "execution_count": 46,
     "metadata": {},
     "output_type": "execute_result"
    }
   ],
   "source": [
    "[int(p) for p in params if len(p)<4]"
   ]
  },
  {
   "cell_type": "code",
   "execution_count": 49,
   "metadata": {
    "execution": {
     "iopub.execute_input": "2021-07-14T18:56:11.747415Z",
     "iopub.status.busy": "2021-07-14T18:56:11.746632Z",
     "iopub.status.idle": "2021-07-14T18:56:41.469080Z",
     "shell.execute_reply": "2021-07-14T18:56:41.468603Z",
     "shell.execute_reply.started": "2021-07-14T18:56:11.747309Z"
    },
    "tags": []
   },
   "outputs": [
    {
     "data": {
      "application/vnd.jupyter.widget-view+json": {
       "model_id": "1f54b20c3f0e445a885e8157a7b6ed8f",
       "version_major": 2,
       "version_minor": 0
      },
      "text/plain": [
       "Canvas(toolbar=Toolbar(toolitems=[('Home', 'Reset original view', 'home', 'home'), ('Back', 'Back to previous …"
      ]
     },
     "metadata": {},
     "output_type": "display_data"
    },
    {
     "data": {
      "application/vnd.jupyter.widget-view+json": {
       "model_id": "2488e51a989a432eb48e7936e7c136b4",
       "version_major": 2,
       "version_minor": 0
      },
      "text/plain": [
       "Canvas(toolbar=Toolbar(toolitems=[('Home', 'Reset original view', 'home', 'home'), ('Back', 'Back to previous …"
      ]
     },
     "metadata": {},
     "output_type": "display_data"
    },
    {
     "data": {
      "application/vnd.jupyter.widget-view+json": {
       "model_id": "e1cf7a79ff064e2b8f4f5fd35c27eb24",
       "version_major": 2,
       "version_minor": 0
      },
      "text/plain": [
       "Canvas(toolbar=Toolbar(toolitems=[('Home', 'Reset original view', 'home', 'home'), ('Back', 'Back to previous …"
      ]
     },
     "metadata": {},
     "output_type": "display_data"
    },
    {
     "data": {
      "application/vnd.jupyter.widget-view+json": {
       "model_id": "0fa3c36de5a147b0845fe852fee1207e",
       "version_major": 2,
       "version_minor": 0
      },
      "text/plain": [
       "Canvas(toolbar=Toolbar(toolitems=[('Home', 'Reset original view', 'home', 'home'), ('Back', 'Back to previous …"
      ]
     },
     "metadata": {},
     "output_type": "display_data"
    },
    {
     "data": {
      "application/vnd.jupyter.widget-view+json": {
       "model_id": "78b36852d8474dc4aec67170b79af35c",
       "version_major": 2,
       "version_minor": 0
      },
      "text/plain": [
       "Canvas(toolbar=Toolbar(toolitems=[('Home', 'Reset original view', 'home', 'home'), ('Back', 'Back to previous …"
      ]
     },
     "metadata": {},
     "output_type": "display_data"
    },
    {
     "data": {
      "application/vnd.jupyter.widget-view+json": {
       "model_id": "a5264769859d45d0a58125879dbda5e5",
       "version_major": 2,
       "version_minor": 0
      },
      "text/plain": [
       "Canvas(toolbar=Toolbar(toolitems=[('Home', 'Reset original view', 'home', 'home'), ('Back', 'Back to previous …"
      ]
     },
     "metadata": {},
     "output_type": "display_data"
    },
    {
     "data": {
      "application/vnd.jupyter.widget-view+json": {
       "model_id": "7e9fe670fda249009634250ea77cafc2",
       "version_major": 2,
       "version_minor": 0
      },
      "text/plain": [
       "Canvas(toolbar=Toolbar(toolitems=[('Home', 'Reset original view', 'home', 'home'), ('Back', 'Back to previous …"
      ]
     },
     "metadata": {},
     "output_type": "display_data"
    },
    {
     "data": {
      "application/vnd.jupyter.widget-view+json": {
       "model_id": "c11e33b9df1748e5b43ba50128cc7d74",
       "version_major": 2,
       "version_minor": 0
      },
      "text/plain": [
       "Canvas(toolbar=Toolbar(toolitems=[('Home', 'Reset original view', 'home', 'home'), ('Back', 'Back to previous …"
      ]
     },
     "metadata": {},
     "output_type": "display_data"
    },
    {
     "data": {
      "application/vnd.jupyter.widget-view+json": {
       "model_id": "a34ad2fe328244af9c75fa5eca8dad0e",
       "version_major": 2,
       "version_minor": 0
      },
      "text/plain": [
       "Canvas(toolbar=Toolbar(toolitems=[('Home', 'Reset original view', 'home', 'home'), ('Back', 'Back to previous …"
      ]
     },
     "metadata": {},
     "output_type": "display_data"
    },
    {
     "data": {
      "application/vnd.jupyter.widget-view+json": {
       "model_id": "10ccfa3081d34beab600b2e67277f771",
       "version_major": 2,
       "version_minor": 0
      },
      "text/plain": [
       "Canvas(toolbar=Toolbar(toolitems=[('Home', 'Reset original view', 'home', 'home'), ('Back', 'Back to previous …"
      ]
     },
     "metadata": {},
     "output_type": "display_data"
    },
    {
     "data": {
      "application/vnd.jupyter.widget-view+json": {
       "model_id": "cd71ecc5b5774e69947eb1589e1c677a",
       "version_major": 2,
       "version_minor": 0
      },
      "text/plain": [
       "Canvas(toolbar=Toolbar(toolitems=[('Home', 'Reset original view', 'home', 'home'), ('Back', 'Back to previous …"
      ]
     },
     "metadata": {},
     "output_type": "display_data"
    },
    {
     "data": {
      "application/vnd.jupyter.widget-view+json": {
       "model_id": "f1ca95036f334af6b7b6bc026899e9fc",
       "version_major": 2,
       "version_minor": 0
      },
      "text/plain": [
       "Canvas(toolbar=Toolbar(toolitems=[('Home', 'Reset original view', 'home', 'home'), ('Back', 'Back to previous …"
      ]
     },
     "metadata": {},
     "output_type": "display_data"
    },
    {
     "data": {
      "application/vnd.jupyter.widget-view+json": {
       "model_id": "ace15a4a2956413f85b8dd8d3fb3966e",
       "version_major": 2,
       "version_minor": 0
      },
      "text/plain": [
       "Canvas(toolbar=Toolbar(toolitems=[('Home', 'Reset original view', 'home', 'home'), ('Back', 'Back to previous …"
      ]
     },
     "metadata": {},
     "output_type": "display_data"
    }
   ],
   "source": [
    "for mouse in csds.index.levels[0]:\n",
    "    for expt in good_expt[good_expt.mouse_name==mouse].exp_name:\n",
    "        try:\n",
    "            stim_area = good_expt.set_index(\n",
    "                ['mouse_name', 'exp_name']\n",
    "            ).loc[(mouse, expt), 'CCF area stim electrode (surface,tip)'].split(',')[1]\n",
    "        except:\n",
    "            stim_area = 'unknown'\n",
    "        params = csds.loc[(mouse, expt)].index.remove_unused_levels().levels[1]\n",
    "        try:\n",
    "            param = f'{(np.median([int(p) for p in params if len(p)<4])):.0f}'\n",
    "        except:\n",
    "            param = np.median([int(p) for p in params if len(str(p))<4])\n",
    "        vx = 1.5\n",
    "        try:\n",
    "            # f, axes, axes1, im_vx = plot_all_cd_responses(mouse, param, include=[0, 1], thresh=0.99, vx=vx, xmin=-0.1, xmax=0.5, aois_only=False, figsize=(14, 8))\n",
    "            f, axes, axes1 = plot_all_cd_fr_responses(mouse, expt, param, include=[0, 1], vx=vx, xmin=-0.1, xmax=0.5, aois_only=False, figsize=(12, 6))\n",
    "            f.suptitle(f'{mouse} ({stim_area}, {param}) (CSD range: {vx}$\\mu$A/mm$^2$)');\n",
    "        except:\n",
    "            print(f'Failed for {mouse} {param}')"
   ]
  },
  {
   "cell_type": "code",
   "execution_count": null,
   "metadata": {},
   "outputs": [],
   "source": []
  }
 ],
 "metadata": {
  "kernelspec": {
   "display_name": "zapnzip",
   "language": "python",
   "name": "zapnzip"
  },
  "language_info": {
   "codemirror_mode": {
    "name": "ipython",
    "version": 3
   },
   "file_extension": ".py",
   "mimetype": "text/x-python",
   "name": "python",
   "nbconvert_exporter": "python",
   "pygments_lexer": "ipython3",
   "version": "3.7.4"
  },
  "widgets": {
   "application/vnd.jupyter.widget-state+json": {
    "state": {},
    "version_major": 2,
    "version_minor": 0
   }
  }
 },
 "nbformat": 4,
 "nbformat_minor": 4
}
